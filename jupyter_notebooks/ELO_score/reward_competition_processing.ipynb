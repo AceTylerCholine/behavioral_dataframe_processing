{
 "cells": [
  {
   "cell_type": "markdown",
   "id": "cd97c972",
   "metadata": {},
   "source": [
    "# Elo Score Calculation"
   ]
  },
  {
   "cell_type": "code",
   "execution_count": 1,
   "id": "cf755b46",
   "metadata": {},
   "outputs": [],
   "source": [
    "import re\n",
    "import os\n",
    "import sys\n",
    "from collections import defaultdict"
   ]
  },
  {
   "cell_type": "code",
   "execution_count": 2,
   "id": "9537e067",
   "metadata": {},
   "outputs": [],
   "source": [
    "from datetime import datetime\n",
    "from datetime import timedelta\n",
    "import matplotlib.pyplot as plt"
   ]
  },
  {
   "cell_type": "code",
   "execution_count": 3,
   "id": "1c9bfe6f",
   "metadata": {},
   "outputs": [],
   "source": [
    "import numpy as np\n",
    "import pandas as pd\n",
    "import xlrd\n",
    "from labellines import labelLine, labelLines"
   ]
  },
  {
   "cell_type": "code",
   "execution_count": 4,
   "id": "2e3d2466",
   "metadata": {},
   "outputs": [],
   "source": [
    "# setting path\n",
    "sys.path.append('../../src')"
   ]
  },
  {
   "cell_type": "code",
   "execution_count": 5,
   "id": "104016aa",
   "metadata": {},
   "outputs": [],
   "source": [
    "from eloscore import eloscore"
   ]
  },
  {
   "cell_type": "code",
   "execution_count": 6,
   "id": "6ea31ca1",
   "metadata": {},
   "outputs": [],
   "source": [
    "# Increase size of plot in jupyter\n",
    "\n",
    "plt.rcParams[\"figure.figsize\"] = (18,10)"
   ]
  },
  {
   "cell_type": "markdown",
   "id": "8b7c1562",
   "metadata": {},
   "source": [
    "## Summary"
   ]
  },
  {
   "cell_type": "markdown",
   "id": "a5950969",
   "metadata": {},
   "source": [
    "- Notebook that calcuates the Elo Score of mice competing over access to a tone associated reward port\n",
    "- The data is a spreadsheet of combination of subjects (as rows) against dates (as columns)"
   ]
  },
  {
   "cell_type": "markdown",
   "id": "a934ef8f",
   "metadata": {},
   "source": [
    "## Importing Data for One Sheet"
   ]
  },
  {
   "cell_type": "markdown",
   "id": "b7839431",
   "metadata": {},
   "source": [
    "- The original data has been trimmed so that only the cells with dates, winner ID's, and relevant metadata were kept"
   ]
  },
  {
   "cell_type": "code",
   "execution_count": 7,
   "id": "bb3ff67b",
   "metadata": {},
   "outputs": [],
   "source": [
    "xls = pd.ExcelFile(\"./data/Reward_Competition_Scoring_MasterList.xlsx\")\n",
    "sheets = xls.sheet_names"
   ]
  },
  {
   "cell_type": "code",
   "execution_count": 8,
   "id": "aeb563da",
   "metadata": {},
   "outputs": [
    {
     "data": {
      "text/plain": [
       "['Master Assignment List',\n",
       " 'Ezra',\n",
       " 'Albert',\n",
       " 'Isabel',\n",
       " 'Catalina',\n",
       " 'Jocelyn',\n",
       " 'Meghan',\n",
       " 'Erika',\n",
       " 'Naeliz']"
      ]
     },
     "execution_count": 8,
     "metadata": {},
     "output_type": "execute_result"
    }
   ],
   "source": [
    "sheets"
   ]
  },
  {
   "cell_type": "code",
   "execution_count": 9,
   "id": "7cbb993b",
   "metadata": {},
   "outputs": [],
   "source": [
    "reward_competition_df = pd.read_excel(\"./data/Reward_Competition_Scoring_MasterList.xlsx\", sheet_name=sheets[1], header=0)"
   ]
  },
  {
   "cell_type": "code",
   "execution_count": 10,
   "id": "ef7e0949",
   "metadata": {},
   "outputs": [],
   "source": [
    "copy_reward_competition_df = reward_competition_df.copy()"
   ]
  },
  {
   "cell_type": "code",
   "execution_count": 11,
   "id": "ec2be29b",
   "metadata": {},
   "outputs": [
    {
     "data": {
      "text/html": [
       "<div>\n",
       "<style scoped>\n",
       "    .dataframe tbody tr th:only-of-type {\n",
       "        vertical-align: middle;\n",
       "    }\n",
       "\n",
       "    .dataframe tbody tr th {\n",
       "        vertical-align: top;\n",
       "    }\n",
       "\n",
       "    .dataframe thead th {\n",
       "        text-align: right;\n",
       "    }\n",
       "</style>\n",
       "<table border=\"1\" class=\"dataframe\">\n",
       "  <thead>\n",
       "    <tr style=\"text-align: right;\">\n",
       "      <th></th>\n",
       "      <th>Date</th>\n",
       "      <th>Cage</th>\n",
       "      <th>Box</th>\n",
       "      <th>Match</th>\n",
       "      <th>Trial 1 Timer</th>\n",
       "      <th>Trial 1 Winner</th>\n",
       "      <th>Trial 2 Time</th>\n",
       "      <th>Trial 2 Winner</th>\n",
       "      <th>Trial 3 Time</th>\n",
       "      <th>Trial 3 Winner</th>\n",
       "      <th>...</th>\n",
       "      <th>Trial 16 Winner</th>\n",
       "      <th>Trial 17 Time</th>\n",
       "      <th>Trial 17 Winner</th>\n",
       "      <th>Trial 18 Time</th>\n",
       "      <th>Trial 18 Winner</th>\n",
       "      <th>Trial 19 Time</th>\n",
       "      <th>Trial 19 Winner</th>\n",
       "      <th>Mouse 1 Wins</th>\n",
       "      <th>Mouse 2 Wins</th>\n",
       "      <th>Ties</th>\n",
       "    </tr>\n",
       "  </thead>\n",
       "  <tbody>\n",
       "    <tr>\n",
       "      <th>0</th>\n",
       "      <td>2022-07-28</td>\n",
       "      <td>1</td>\n",
       "      <td>3</td>\n",
       "      <td>2v3</td>\n",
       "      <td>00:37-00:43</td>\n",
       "      <td>2.0</td>\n",
       "      <td>1:31-1:37</td>\n",
       "      <td>2.0</td>\n",
       "      <td>2:30-2:36</td>\n",
       "      <td>2</td>\n",
       "      <td>...</td>\n",
       "      <td>tie</td>\n",
       "      <td>16:42-16:48</td>\n",
       "      <td>3</td>\n",
       "      <td>18:02-18:08</td>\n",
       "      <td>tie</td>\n",
       "      <td>18:55-19:01</td>\n",
       "      <td>tie</td>\n",
       "      <td>12.0</td>\n",
       "      <td>3.0</td>\n",
       "      <td>4.0</td>\n",
       "    </tr>\n",
       "    <tr>\n",
       "      <th>1</th>\n",
       "      <td>2022-07-28</td>\n",
       "      <td>2</td>\n",
       "      <td>2</td>\n",
       "      <td>1v4</td>\n",
       "      <td>00:37-00:43</td>\n",
       "      <td>1.0</td>\n",
       "      <td>1:31-1:37</td>\n",
       "      <td>1.0</td>\n",
       "      <td>2:31-2:37</td>\n",
       "      <td>tie</td>\n",
       "      <td>...</td>\n",
       "      <td>1</td>\n",
       "      <td>16:42-16:48</td>\n",
       "      <td>4</td>\n",
       "      <td>18:02-18:08</td>\n",
       "      <td>4</td>\n",
       "      <td>18:55-19:01</td>\n",
       "      <td>4</td>\n",
       "      <td>8.0</td>\n",
       "      <td>8.0</td>\n",
       "      <td>3.0</td>\n",
       "    </tr>\n",
       "    <tr>\n",
       "      <th>2</th>\n",
       "      <td>2022-07-28</td>\n",
       "      <td>3</td>\n",
       "      <td>1</td>\n",
       "      <td>2v4</td>\n",
       "      <td>00:46-00:54</td>\n",
       "      <td>2.0</td>\n",
       "      <td>1:53-2:00</td>\n",
       "      <td>2.0</td>\n",
       "      <td>3:07-3:15</td>\n",
       "      <td>2</td>\n",
       "      <td>...</td>\n",
       "      <td>4</td>\n",
       "      <td>20:52-21:00</td>\n",
       "      <td>4</td>\n",
       "      <td>22:31-22:39</td>\n",
       "      <td>4</td>\n",
       "      <td>23:38-23:45</td>\n",
       "      <td>4</td>\n",
       "      <td>7.0</td>\n",
       "      <td>8.0</td>\n",
       "      <td>4.0</td>\n",
       "    </tr>\n",
       "    <tr>\n",
       "      <th>3</th>\n",
       "      <td>2022-07-28</td>\n",
       "      <td>5</td>\n",
       "      <td>2</td>\n",
       "      <td>3v4</td>\n",
       "      <td>00:46-00:53</td>\n",
       "      <td>4.0</td>\n",
       "      <td>1:52-2:00</td>\n",
       "      <td>4.0</td>\n",
       "      <td>3:07-3:15</td>\n",
       "      <td>4</td>\n",
       "      <td>...</td>\n",
       "      <td>3</td>\n",
       "      <td>20:09-20:16</td>\n",
       "      <td>4</td>\n",
       "      <td>21:38-21:44</td>\n",
       "      <td>3</td>\n",
       "      <td>22:36-22:43</td>\n",
       "      <td>3</td>\n",
       "      <td>6.0</td>\n",
       "      <td>13.0</td>\n",
       "      <td>0.0</td>\n",
       "    </tr>\n",
       "    <tr>\n",
       "      <th>4</th>\n",
       "      <td>2022-07-28</td>\n",
       "      <td>6</td>\n",
       "      <td>1</td>\n",
       "      <td>2v3</td>\n",
       "      <td>00:48-00:55</td>\n",
       "      <td>2.0</td>\n",
       "      <td>1:54-2:01</td>\n",
       "      <td>3.0</td>\n",
       "      <td>3:10-3:16</td>\n",
       "      <td>tie</td>\n",
       "      <td>...</td>\n",
       "      <td>tie</td>\n",
       "      <td>21:02-21:09</td>\n",
       "      <td>tie</td>\n",
       "      <td>22:22-22:49</td>\n",
       "      <td>3</td>\n",
       "      <td>23:48-23:55</td>\n",
       "      <td>3</td>\n",
       "      <td>7.0</td>\n",
       "      <td>7.0</td>\n",
       "      <td>4.0</td>\n",
       "    </tr>\n",
       "  </tbody>\n",
       "</table>\n",
       "<p>5 rows × 45 columns</p>\n",
       "</div>"
      ],
      "text/plain": [
       "        Date  Cage  Box Match Trial 1 Timer  Trial 1 Winner Trial 2 Time   \\\n",
       "0 2022-07-28     1    3   2v3   00:37-00:43             2.0     1:31-1:37   \n",
       "1 2022-07-28     2    2   1v4   00:37-00:43             1.0     1:31-1:37   \n",
       "2 2022-07-28     3    1   2v4   00:46-00:54             2.0     1:53-2:00   \n",
       "3 2022-07-28     5    2   3v4   00:46-00:53             4.0     1:52-2:00   \n",
       "4 2022-07-28     6    1   2v3   00:48-00:55             2.0     1:54-2:01   \n",
       "\n",
       "   Trial 2 Winner Trial 3 Time Trial 3 Winner  ... Trial 16 Winner  \\\n",
       "0             2.0    2:30-2:36              2  ...             tie   \n",
       "1             1.0    2:31-2:37            tie  ...               1   \n",
       "2             2.0    3:07-3:15              2  ...               4   \n",
       "3             4.0    3:07-3:15              4  ...               3   \n",
       "4             3.0    3:10-3:16            tie  ...             tie   \n",
       "\n",
       "   Trial 17 Time Trial 17 Winner  Trial 18 Time Trial 18 Winner  \\\n",
       "0    16:42-16:48               3    18:02-18:08             tie   \n",
       "1    16:42-16:48               4    18:02-18:08               4   \n",
       "2    20:52-21:00               4    22:31-22:39               4   \n",
       "3    20:09-20:16               4    21:38-21:44               3   \n",
       "4    21:02-21:09             tie    22:22-22:49               3   \n",
       "\n",
       "   Trial 19 Time Trial 19 Winner Mouse 1 Wins Mouse 2 Wins  Ties   \n",
       "0    18:55-19:01             tie         12.0          3.0    4.0  \n",
       "1    18:55-19:01               4          8.0          8.0    3.0  \n",
       "2    23:38-23:45               4          7.0          8.0    4.0  \n",
       "3    22:36-22:43               3          6.0         13.0    0.0  \n",
       "4    23:48-23:55               3          7.0          7.0    4.0  \n",
       "\n",
       "[5 rows x 45 columns]"
      ]
     },
     "execution_count": 11,
     "metadata": {},
     "output_type": "execute_result"
    }
   ],
   "source": [
    "reward_competition_df.head()"
   ]
  },
  {
   "cell_type": "markdown",
   "id": "62588bba",
   "metadata": {},
   "source": [
    "## Adding the session number"
   ]
  },
  {
   "cell_type": "markdown",
   "id": "add84e35",
   "metadata": {},
   "source": [
    "- Each new session has the date as a row, so we will get the index of all the rows with dates"
   ]
  },
  {
   "cell_type": "code",
   "execution_count": 12,
   "id": "9ab2f148",
   "metadata": {},
   "outputs": [
    {
     "data": {
      "text/html": [
       "<div>\n",
       "<style scoped>\n",
       "    .dataframe tbody tr th:only-of-type {\n",
       "        vertical-align: middle;\n",
       "    }\n",
       "\n",
       "    .dataframe tbody tr th {\n",
       "        vertical-align: top;\n",
       "    }\n",
       "\n",
       "    .dataframe thead th {\n",
       "        text-align: right;\n",
       "    }\n",
       "</style>\n",
       "<table border=\"1\" class=\"dataframe\">\n",
       "  <thead>\n",
       "    <tr style=\"text-align: right;\">\n",
       "      <th></th>\n",
       "      <th>Date</th>\n",
       "      <th>Cage</th>\n",
       "      <th>Box</th>\n",
       "      <th>Match</th>\n",
       "      <th>Trial 1 Timer</th>\n",
       "      <th>Trial 1 Winner</th>\n",
       "      <th>Trial 2 Time</th>\n",
       "      <th>Trial 2 Winner</th>\n",
       "      <th>Trial 3 Time</th>\n",
       "      <th>Trial 3 Winner</th>\n",
       "      <th>...</th>\n",
       "      <th>Trial 16 Winner</th>\n",
       "      <th>Trial 17 Time</th>\n",
       "      <th>Trial 17 Winner</th>\n",
       "      <th>Trial 18 Time</th>\n",
       "      <th>Trial 18 Winner</th>\n",
       "      <th>Trial 19 Time</th>\n",
       "      <th>Trial 19 Winner</th>\n",
       "      <th>Mouse 1 Wins</th>\n",
       "      <th>Mouse 2 Wins</th>\n",
       "      <th>Ties</th>\n",
       "    </tr>\n",
       "  </thead>\n",
       "  <tbody>\n",
       "    <tr>\n",
       "      <th>0</th>\n",
       "      <td>2022-07-28</td>\n",
       "      <td>1</td>\n",
       "      <td>3</td>\n",
       "      <td>2v3</td>\n",
       "      <td>00:37-00:43</td>\n",
       "      <td>2.0</td>\n",
       "      <td>1:31-1:37</td>\n",
       "      <td>2.0</td>\n",
       "      <td>2:30-2:36</td>\n",
       "      <td>2</td>\n",
       "      <td>...</td>\n",
       "      <td>tie</td>\n",
       "      <td>16:42-16:48</td>\n",
       "      <td>3</td>\n",
       "      <td>18:02-18:08</td>\n",
       "      <td>tie</td>\n",
       "      <td>18:55-19:01</td>\n",
       "      <td>tie</td>\n",
       "      <td>12.0</td>\n",
       "      <td>3.0</td>\n",
       "      <td>4.0</td>\n",
       "    </tr>\n",
       "    <tr>\n",
       "      <th>1</th>\n",
       "      <td>2022-07-28</td>\n",
       "      <td>2</td>\n",
       "      <td>2</td>\n",
       "      <td>1v4</td>\n",
       "      <td>00:37-00:43</td>\n",
       "      <td>1.0</td>\n",
       "      <td>1:31-1:37</td>\n",
       "      <td>1.0</td>\n",
       "      <td>2:31-2:37</td>\n",
       "      <td>tie</td>\n",
       "      <td>...</td>\n",
       "      <td>1</td>\n",
       "      <td>16:42-16:48</td>\n",
       "      <td>4</td>\n",
       "      <td>18:02-18:08</td>\n",
       "      <td>4</td>\n",
       "      <td>18:55-19:01</td>\n",
       "      <td>4</td>\n",
       "      <td>8.0</td>\n",
       "      <td>8.0</td>\n",
       "      <td>3.0</td>\n",
       "    </tr>\n",
       "    <tr>\n",
       "      <th>2</th>\n",
       "      <td>2022-07-28</td>\n",
       "      <td>3</td>\n",
       "      <td>1</td>\n",
       "      <td>2v4</td>\n",
       "      <td>00:46-00:54</td>\n",
       "      <td>2.0</td>\n",
       "      <td>1:53-2:00</td>\n",
       "      <td>2.0</td>\n",
       "      <td>3:07-3:15</td>\n",
       "      <td>2</td>\n",
       "      <td>...</td>\n",
       "      <td>4</td>\n",
       "      <td>20:52-21:00</td>\n",
       "      <td>4</td>\n",
       "      <td>22:31-22:39</td>\n",
       "      <td>4</td>\n",
       "      <td>23:38-23:45</td>\n",
       "      <td>4</td>\n",
       "      <td>7.0</td>\n",
       "      <td>8.0</td>\n",
       "      <td>4.0</td>\n",
       "    </tr>\n",
       "    <tr>\n",
       "      <th>3</th>\n",
       "      <td>2022-07-28</td>\n",
       "      <td>5</td>\n",
       "      <td>2</td>\n",
       "      <td>3v4</td>\n",
       "      <td>00:46-00:53</td>\n",
       "      <td>4.0</td>\n",
       "      <td>1:52-2:00</td>\n",
       "      <td>4.0</td>\n",
       "      <td>3:07-3:15</td>\n",
       "      <td>4</td>\n",
       "      <td>...</td>\n",
       "      <td>3</td>\n",
       "      <td>20:09-20:16</td>\n",
       "      <td>4</td>\n",
       "      <td>21:38-21:44</td>\n",
       "      <td>3</td>\n",
       "      <td>22:36-22:43</td>\n",
       "      <td>3</td>\n",
       "      <td>6.0</td>\n",
       "      <td>13.0</td>\n",
       "      <td>0.0</td>\n",
       "    </tr>\n",
       "    <tr>\n",
       "      <th>4</th>\n",
       "      <td>2022-07-28</td>\n",
       "      <td>6</td>\n",
       "      <td>1</td>\n",
       "      <td>2v3</td>\n",
       "      <td>00:48-00:55</td>\n",
       "      <td>2.0</td>\n",
       "      <td>1:54-2:01</td>\n",
       "      <td>3.0</td>\n",
       "      <td>3:10-3:16</td>\n",
       "      <td>tie</td>\n",
       "      <td>...</td>\n",
       "      <td>tie</td>\n",
       "      <td>21:02-21:09</td>\n",
       "      <td>tie</td>\n",
       "      <td>22:22-22:49</td>\n",
       "      <td>3</td>\n",
       "      <td>23:48-23:55</td>\n",
       "      <td>3</td>\n",
       "      <td>7.0</td>\n",
       "      <td>7.0</td>\n",
       "      <td>4.0</td>\n",
       "    </tr>\n",
       "    <tr>\n",
       "      <th>5</th>\n",
       "      <td>2022-07-29</td>\n",
       "      <td>1</td>\n",
       "      <td>2</td>\n",
       "      <td>2v3</td>\n",
       "      <td>00:38-00:44</td>\n",
       "      <td>2.0</td>\n",
       "      <td>1:31-1:37</td>\n",
       "      <td>2.0</td>\n",
       "      <td>2:31-2:37</td>\n",
       "      <td>3</td>\n",
       "      <td>...</td>\n",
       "      <td>2</td>\n",
       "      <td>16:43-16:49</td>\n",
       "      <td>tie</td>\n",
       "      <td>18:02-18:09</td>\n",
       "      <td>2</td>\n",
       "      <td>18:56-19:02</td>\n",
       "      <td>3</td>\n",
       "      <td>9.0</td>\n",
       "      <td>9.0</td>\n",
       "      <td>1.0</td>\n",
       "    </tr>\n",
       "    <tr>\n",
       "      <th>6</th>\n",
       "      <td>2022-07-29</td>\n",
       "      <td>3</td>\n",
       "      <td>4</td>\n",
       "      <td>1v2</td>\n",
       "      <td>NaN</td>\n",
       "      <td>NaN</td>\n",
       "      <td>NaN</td>\n",
       "      <td>NaN</td>\n",
       "      <td>NaN</td>\n",
       "      <td>NaN</td>\n",
       "      <td>...</td>\n",
       "      <td>NaN</td>\n",
       "      <td>NaN</td>\n",
       "      <td>NaN</td>\n",
       "      <td>NaN</td>\n",
       "      <td>NaN</td>\n",
       "      <td>NaN</td>\n",
       "      <td>NaN</td>\n",
       "      <td>NaN</td>\n",
       "      <td>NaN</td>\n",
       "      <td>NaN</td>\n",
       "    </tr>\n",
       "    <tr>\n",
       "      <th>7</th>\n",
       "      <td>2022-07-29</td>\n",
       "      <td>5</td>\n",
       "      <td>3</td>\n",
       "      <td>1v3</td>\n",
       "      <td>NaN</td>\n",
       "      <td>NaN</td>\n",
       "      <td>NaN</td>\n",
       "      <td>NaN</td>\n",
       "      <td>NaN</td>\n",
       "      <td>NaN</td>\n",
       "      <td>...</td>\n",
       "      <td>NaN</td>\n",
       "      <td>NaN</td>\n",
       "      <td>NaN</td>\n",
       "      <td>NaN</td>\n",
       "      <td>NaN</td>\n",
       "      <td>NaN</td>\n",
       "      <td>NaN</td>\n",
       "      <td>NaN</td>\n",
       "      <td>NaN</td>\n",
       "      <td>NaN</td>\n",
       "    </tr>\n",
       "    <tr>\n",
       "      <th>8</th>\n",
       "      <td>2022-07-29</td>\n",
       "      <td>6</td>\n",
       "      <td>1</td>\n",
       "      <td>3v4</td>\n",
       "      <td>NaN</td>\n",
       "      <td>NaN</td>\n",
       "      <td>NaN</td>\n",
       "      <td>NaN</td>\n",
       "      <td>NaN</td>\n",
       "      <td>NaN</td>\n",
       "      <td>...</td>\n",
       "      <td>NaN</td>\n",
       "      <td>NaN</td>\n",
       "      <td>NaN</td>\n",
       "      <td>NaN</td>\n",
       "      <td>NaN</td>\n",
       "      <td>NaN</td>\n",
       "      <td>NaN</td>\n",
       "      <td>NaN</td>\n",
       "      <td>NaN</td>\n",
       "      <td>NaN</td>\n",
       "    </tr>\n",
       "  </tbody>\n",
       "</table>\n",
       "<p>9 rows × 45 columns</p>\n",
       "</div>"
      ],
      "text/plain": [
       "        Date  Cage  Box Match Trial 1 Timer  Trial 1 Winner Trial 2 Time   \\\n",
       "0 2022-07-28     1    3   2v3   00:37-00:43             2.0     1:31-1:37   \n",
       "1 2022-07-28     2    2   1v4   00:37-00:43             1.0     1:31-1:37   \n",
       "2 2022-07-28     3    1   2v4   00:46-00:54             2.0     1:53-2:00   \n",
       "3 2022-07-28     5    2   3v4   00:46-00:53             4.0     1:52-2:00   \n",
       "4 2022-07-28     6    1   2v3   00:48-00:55             2.0     1:54-2:01   \n",
       "5 2022-07-29     1    2   2v3   00:38-00:44             2.0     1:31-1:37   \n",
       "6 2022-07-29     3    4   1v2           NaN             NaN           NaN   \n",
       "7 2022-07-29     5    3   1v3           NaN             NaN           NaN   \n",
       "8 2022-07-29     6    1   3v4           NaN             NaN           NaN   \n",
       "\n",
       "   Trial 2 Winner Trial 3 Time Trial 3 Winner  ... Trial 16 Winner  \\\n",
       "0             2.0    2:30-2:36              2  ...             tie   \n",
       "1             1.0    2:31-2:37            tie  ...               1   \n",
       "2             2.0    3:07-3:15              2  ...               4   \n",
       "3             4.0    3:07-3:15              4  ...               3   \n",
       "4             3.0    3:10-3:16            tie  ...             tie   \n",
       "5             2.0    2:31-2:37              3  ...               2   \n",
       "6             NaN          NaN            NaN  ...             NaN   \n",
       "7             NaN          NaN            NaN  ...             NaN   \n",
       "8             NaN          NaN            NaN  ...             NaN   \n",
       "\n",
       "   Trial 17 Time Trial 17 Winner  Trial 18 Time Trial 18 Winner  \\\n",
       "0    16:42-16:48               3    18:02-18:08             tie   \n",
       "1    16:42-16:48               4    18:02-18:08               4   \n",
       "2    20:52-21:00               4    22:31-22:39               4   \n",
       "3    20:09-20:16               4    21:38-21:44               3   \n",
       "4    21:02-21:09             tie    22:22-22:49               3   \n",
       "5    16:43-16:49             tie    18:02-18:09               2   \n",
       "6            NaN             NaN            NaN             NaN   \n",
       "7            NaN             NaN            NaN             NaN   \n",
       "8            NaN             NaN            NaN             NaN   \n",
       "\n",
       "   Trial 19 Time Trial 19 Winner Mouse 1 Wins Mouse 2 Wins  Ties   \n",
       "0    18:55-19:01             tie         12.0          3.0    4.0  \n",
       "1    18:55-19:01               4          8.0          8.0    3.0  \n",
       "2    23:38-23:45               4          7.0          8.0    4.0  \n",
       "3    22:36-22:43               3          6.0         13.0    0.0  \n",
       "4    23:48-23:55               3          7.0          7.0    4.0  \n",
       "5    18:56-19:02               3          9.0          9.0    1.0  \n",
       "6            NaN             NaN          NaN          NaN    NaN  \n",
       "7            NaN             NaN          NaN          NaN    NaN  \n",
       "8            NaN             NaN          NaN          NaN    NaN  \n",
       "\n",
       "[9 rows x 45 columns]"
      ]
     },
     "execution_count": 12,
     "metadata": {},
     "output_type": "execute_result"
    }
   ],
   "source": [
    "reward_competition_df.dropna(axis=0, subset=\"Date\")"
   ]
  },
  {
   "cell_type": "markdown",
   "id": "86971800",
   "metadata": {},
   "source": [
    "- Getting the indexes of where each new session starts"
   ]
  },
  {
   "cell_type": "code",
   "execution_count": 13,
   "id": "449189cd",
   "metadata": {},
   "outputs": [
    {
     "data": {
      "text/plain": [
       "RangeIndex(start=0, stop=9, step=1)"
      ]
     },
     "execution_count": 13,
     "metadata": {},
     "output_type": "execute_result"
    }
   ],
   "source": [
    "reward_competition_df.dropna(axis=0, subset=\"Date\").index"
   ]
  },
  {
   "cell_type": "code",
   "execution_count": 14,
   "id": "69a1b44c",
   "metadata": {},
   "outputs": [],
   "source": [
    "session_indexes = reward_competition_df.dropna(axis=0, subset=\"Date\").index"
   ]
  },
  {
   "cell_type": "markdown",
   "id": "d8ae3167",
   "metadata": {},
   "source": [
    "- Adding a column for the session number and then filling all the `NaNs`"
   ]
  },
  {
   "cell_type": "code",
   "execution_count": 15,
   "id": "e243acb6",
   "metadata": {},
   "outputs": [],
   "source": [
    "reward_competition_df = eloscore.add_session_number_column(reward_competition_df, session_indexes)\n",
    "reward_competition_df = reward_competition_df.fillna(method='ffill')"
   ]
  },
  {
   "cell_type": "markdown",
   "id": "c35e48b5",
   "metadata": {},
   "source": [
    "- Making another column for plotting"
   ]
  },
  {
   "cell_type": "code",
   "execution_count": 16,
   "id": "2bd524c4",
   "metadata": {},
   "outputs": [],
   "source": [
    "reward_competition_df = eloscore.add_session_number_column(reward_competition_df, session_indexes, session_number_column=\"session_number_plotting\")"
   ]
  },
  {
   "cell_type": "code",
   "execution_count": 17,
   "id": "9600985c",
   "metadata": {},
   "outputs": [
    {
     "data": {
      "text/html": [
       "<div>\n",
       "<style scoped>\n",
       "    .dataframe tbody tr th:only-of-type {\n",
       "        vertical-align: middle;\n",
       "    }\n",
       "\n",
       "    .dataframe tbody tr th {\n",
       "        vertical-align: top;\n",
       "    }\n",
       "\n",
       "    .dataframe thead th {\n",
       "        text-align: right;\n",
       "    }\n",
       "</style>\n",
       "<table border=\"1\" class=\"dataframe\">\n",
       "  <thead>\n",
       "    <tr style=\"text-align: right;\">\n",
       "      <th></th>\n",
       "      <th>Date</th>\n",
       "      <th>Cage</th>\n",
       "      <th>Box</th>\n",
       "      <th>Match</th>\n",
       "      <th>Trial 1 Timer</th>\n",
       "      <th>Trial 1 Winner</th>\n",
       "      <th>Trial 2 Time</th>\n",
       "      <th>Trial 2 Winner</th>\n",
       "      <th>Trial 3 Time</th>\n",
       "      <th>Trial 3 Winner</th>\n",
       "      <th>...</th>\n",
       "      <th>Trial 17 Winner</th>\n",
       "      <th>Trial 18 Time</th>\n",
       "      <th>Trial 18 Winner</th>\n",
       "      <th>Trial 19 Time</th>\n",
       "      <th>Trial 19 Winner</th>\n",
       "      <th>Mouse 1 Wins</th>\n",
       "      <th>Mouse 2 Wins</th>\n",
       "      <th>Ties</th>\n",
       "      <th>session_number</th>\n",
       "      <th>session_number_plotting</th>\n",
       "    </tr>\n",
       "  </thead>\n",
       "  <tbody>\n",
       "    <tr>\n",
       "      <th>0</th>\n",
       "      <td>2022-07-28</td>\n",
       "      <td>1</td>\n",
       "      <td>3</td>\n",
       "      <td>2v3</td>\n",
       "      <td>00:37-00:43</td>\n",
       "      <td>2.0</td>\n",
       "      <td>1:31-1:37</td>\n",
       "      <td>2.0</td>\n",
       "      <td>2:30-2:36</td>\n",
       "      <td>2</td>\n",
       "      <td>...</td>\n",
       "      <td>3</td>\n",
       "      <td>18:02-18:08</td>\n",
       "      <td>tie</td>\n",
       "      <td>18:55-19:01</td>\n",
       "      <td>tie</td>\n",
       "      <td>12.0</td>\n",
       "      <td>3.0</td>\n",
       "      <td>4.0</td>\n",
       "      <td>1.0</td>\n",
       "      <td>1.0</td>\n",
       "    </tr>\n",
       "    <tr>\n",
       "      <th>1</th>\n",
       "      <td>2022-07-28</td>\n",
       "      <td>2</td>\n",
       "      <td>2</td>\n",
       "      <td>1v4</td>\n",
       "      <td>00:37-00:43</td>\n",
       "      <td>1.0</td>\n",
       "      <td>1:31-1:37</td>\n",
       "      <td>1.0</td>\n",
       "      <td>2:31-2:37</td>\n",
       "      <td>tie</td>\n",
       "      <td>...</td>\n",
       "      <td>4</td>\n",
       "      <td>18:02-18:08</td>\n",
       "      <td>4</td>\n",
       "      <td>18:55-19:01</td>\n",
       "      <td>4</td>\n",
       "      <td>8.0</td>\n",
       "      <td>8.0</td>\n",
       "      <td>3.0</td>\n",
       "      <td>2.0</td>\n",
       "      <td>2.0</td>\n",
       "    </tr>\n",
       "    <tr>\n",
       "      <th>2</th>\n",
       "      <td>2022-07-28</td>\n",
       "      <td>3</td>\n",
       "      <td>1</td>\n",
       "      <td>2v4</td>\n",
       "      <td>00:46-00:54</td>\n",
       "      <td>2.0</td>\n",
       "      <td>1:53-2:00</td>\n",
       "      <td>2.0</td>\n",
       "      <td>3:07-3:15</td>\n",
       "      <td>2</td>\n",
       "      <td>...</td>\n",
       "      <td>4</td>\n",
       "      <td>22:31-22:39</td>\n",
       "      <td>4</td>\n",
       "      <td>23:38-23:45</td>\n",
       "      <td>4</td>\n",
       "      <td>7.0</td>\n",
       "      <td>8.0</td>\n",
       "      <td>4.0</td>\n",
       "      <td>3.0</td>\n",
       "      <td>3.0</td>\n",
       "    </tr>\n",
       "    <tr>\n",
       "      <th>3</th>\n",
       "      <td>2022-07-28</td>\n",
       "      <td>5</td>\n",
       "      <td>2</td>\n",
       "      <td>3v4</td>\n",
       "      <td>00:46-00:53</td>\n",
       "      <td>4.0</td>\n",
       "      <td>1:52-2:00</td>\n",
       "      <td>4.0</td>\n",
       "      <td>3:07-3:15</td>\n",
       "      <td>4</td>\n",
       "      <td>...</td>\n",
       "      <td>4</td>\n",
       "      <td>21:38-21:44</td>\n",
       "      <td>3</td>\n",
       "      <td>22:36-22:43</td>\n",
       "      <td>3</td>\n",
       "      <td>6.0</td>\n",
       "      <td>13.0</td>\n",
       "      <td>0.0</td>\n",
       "      <td>4.0</td>\n",
       "      <td>4.0</td>\n",
       "    </tr>\n",
       "    <tr>\n",
       "      <th>4</th>\n",
       "      <td>2022-07-28</td>\n",
       "      <td>6</td>\n",
       "      <td>1</td>\n",
       "      <td>2v3</td>\n",
       "      <td>00:48-00:55</td>\n",
       "      <td>2.0</td>\n",
       "      <td>1:54-2:01</td>\n",
       "      <td>3.0</td>\n",
       "      <td>3:10-3:16</td>\n",
       "      <td>tie</td>\n",
       "      <td>...</td>\n",
       "      <td>tie</td>\n",
       "      <td>22:22-22:49</td>\n",
       "      <td>3</td>\n",
       "      <td>23:48-23:55</td>\n",
       "      <td>3</td>\n",
       "      <td>7.0</td>\n",
       "      <td>7.0</td>\n",
       "      <td>4.0</td>\n",
       "      <td>5.0</td>\n",
       "      <td>5.0</td>\n",
       "    </tr>\n",
       "  </tbody>\n",
       "</table>\n",
       "<p>5 rows × 47 columns</p>\n",
       "</div>"
      ],
      "text/plain": [
       "        Date  Cage  Box Match Trial 1 Timer  Trial 1 Winner Trial 2 Time   \\\n",
       "0 2022-07-28     1    3   2v3   00:37-00:43             2.0     1:31-1:37   \n",
       "1 2022-07-28     2    2   1v4   00:37-00:43             1.0     1:31-1:37   \n",
       "2 2022-07-28     3    1   2v4   00:46-00:54             2.0     1:53-2:00   \n",
       "3 2022-07-28     5    2   3v4   00:46-00:53             4.0     1:52-2:00   \n",
       "4 2022-07-28     6    1   2v3   00:48-00:55             2.0     1:54-2:01   \n",
       "\n",
       "   Trial 2 Winner Trial 3 Time Trial 3 Winner  ... Trial 17 Winner  \\\n",
       "0             2.0    2:30-2:36              2  ...               3   \n",
       "1             1.0    2:31-2:37            tie  ...               4   \n",
       "2             2.0    3:07-3:15              2  ...               4   \n",
       "3             4.0    3:07-3:15              4  ...               4   \n",
       "4             3.0    3:10-3:16            tie  ...             tie   \n",
       "\n",
       "   Trial 18 Time Trial 18 Winner  Trial 19 Time Trial 19 Winner  Mouse 1 Wins  \\\n",
       "0    18:02-18:08             tie    18:55-19:01             tie          12.0   \n",
       "1    18:02-18:08               4    18:55-19:01               4           8.0   \n",
       "2    22:31-22:39               4    23:38-23:45               4           7.0   \n",
       "3    21:38-21:44               3    22:36-22:43               3           6.0   \n",
       "4    22:22-22:49               3    23:48-23:55               3           7.0   \n",
       "\n",
       "  Mouse 2 Wins Ties  session_number  session_number_plotting  \n",
       "0          3.0   4.0            1.0                      1.0  \n",
       "1          8.0   3.0            2.0                      2.0  \n",
       "2          8.0   4.0            3.0                      3.0  \n",
       "3         13.0   0.0            4.0                      4.0  \n",
       "4          7.0   4.0            5.0                      5.0  \n",
       "\n",
       "[5 rows x 47 columns]"
      ]
     },
     "execution_count": 17,
     "metadata": {},
     "output_type": "execute_result"
    }
   ],
   "source": [
    "reward_competition_df.head()"
   ]
  },
  {
   "cell_type": "markdown",
   "id": "cf5ec39f",
   "metadata": {},
   "source": [
    "## Calculating ELO Score"
   ]
  },
  {
   "cell_type": "markdown",
   "id": "5b2390aa",
   "metadata": {},
   "source": [
    "- Example calculation"
   ]
  },
  {
   "cell_type": "code",
   "execution_count": 18,
   "id": "e334d47f",
   "metadata": {},
   "outputs": [
    {
     "data": {
      "text/plain": [
       "1020"
      ]
     },
     "execution_count": 18,
     "metadata": {},
     "output_type": "execute_result"
    }
   ],
   "source": [
    "eloscore.calculate_elo_score(subject_elo_score=1000, agent_elo_score=2000)"
   ]
  },
  {
   "cell_type": "markdown",
   "id": "3412a5c0",
   "metadata": {},
   "source": [
    "## Get the Elo score for all the events"
   ]
  },
  {
   "cell_type": "code",
   "execution_count": 19,
   "id": "4ae10ebe",
   "metadata": {
    "scrolled": true
   },
   "outputs": [
    {
     "data": {
      "text/html": [
       "<div>\n",
       "<style scoped>\n",
       "    .dataframe tbody tr th:only-of-type {\n",
       "        vertical-align: middle;\n",
       "    }\n",
       "\n",
       "    .dataframe tbody tr th {\n",
       "        vertical-align: top;\n",
       "    }\n",
       "\n",
       "    .dataframe thead th {\n",
       "        text-align: right;\n",
       "    }\n",
       "</style>\n",
       "<table border=\"1\" class=\"dataframe\">\n",
       "  <thead>\n",
       "    <tr style=\"text-align: right;\">\n",
       "      <th></th>\n",
       "      <th>Date</th>\n",
       "      <th>Cage</th>\n",
       "      <th>Box</th>\n",
       "      <th>Match</th>\n",
       "      <th>Trial 1 Timer</th>\n",
       "      <th>Trial 1 Winner</th>\n",
       "      <th>Trial 2 Time</th>\n",
       "      <th>Trial 2 Winner</th>\n",
       "      <th>Trial 3 Time</th>\n",
       "      <th>Trial 3 Winner</th>\n",
       "      <th>...</th>\n",
       "      <th>Trial 17 Winner</th>\n",
       "      <th>Trial 18 Time</th>\n",
       "      <th>Trial 18 Winner</th>\n",
       "      <th>Trial 19 Time</th>\n",
       "      <th>Trial 19 Winner</th>\n",
       "      <th>Mouse 1 Wins</th>\n",
       "      <th>Mouse 2 Wins</th>\n",
       "      <th>Ties</th>\n",
       "      <th>session_number</th>\n",
       "      <th>session_number_plotting</th>\n",
       "    </tr>\n",
       "  </thead>\n",
       "  <tbody>\n",
       "    <tr>\n",
       "      <th>0</th>\n",
       "      <td>2022-07-28</td>\n",
       "      <td>1</td>\n",
       "      <td>3</td>\n",
       "      <td>2v3</td>\n",
       "      <td>00:37-00:43</td>\n",
       "      <td>2.0</td>\n",
       "      <td>1:31-1:37</td>\n",
       "      <td>2.0</td>\n",
       "      <td>2:30-2:36</td>\n",
       "      <td>2</td>\n",
       "      <td>...</td>\n",
       "      <td>3</td>\n",
       "      <td>18:02-18:08</td>\n",
       "      <td>tie</td>\n",
       "      <td>18:55-19:01</td>\n",
       "      <td>tie</td>\n",
       "      <td>12.0</td>\n",
       "      <td>3.0</td>\n",
       "      <td>4.0</td>\n",
       "      <td>1.0</td>\n",
       "      <td>1.0</td>\n",
       "    </tr>\n",
       "    <tr>\n",
       "      <th>1</th>\n",
       "      <td>2022-07-28</td>\n",
       "      <td>2</td>\n",
       "      <td>2</td>\n",
       "      <td>1v4</td>\n",
       "      <td>00:37-00:43</td>\n",
       "      <td>1.0</td>\n",
       "      <td>1:31-1:37</td>\n",
       "      <td>1.0</td>\n",
       "      <td>2:31-2:37</td>\n",
       "      <td>tie</td>\n",
       "      <td>...</td>\n",
       "      <td>4</td>\n",
       "      <td>18:02-18:08</td>\n",
       "      <td>4</td>\n",
       "      <td>18:55-19:01</td>\n",
       "      <td>4</td>\n",
       "      <td>8.0</td>\n",
       "      <td>8.0</td>\n",
       "      <td>3.0</td>\n",
       "      <td>2.0</td>\n",
       "      <td>2.0</td>\n",
       "    </tr>\n",
       "    <tr>\n",
       "      <th>2</th>\n",
       "      <td>2022-07-28</td>\n",
       "      <td>3</td>\n",
       "      <td>1</td>\n",
       "      <td>2v4</td>\n",
       "      <td>00:46-00:54</td>\n",
       "      <td>2.0</td>\n",
       "      <td>1:53-2:00</td>\n",
       "      <td>2.0</td>\n",
       "      <td>3:07-3:15</td>\n",
       "      <td>2</td>\n",
       "      <td>...</td>\n",
       "      <td>4</td>\n",
       "      <td>22:31-22:39</td>\n",
       "      <td>4</td>\n",
       "      <td>23:38-23:45</td>\n",
       "      <td>4</td>\n",
       "      <td>7.0</td>\n",
       "      <td>8.0</td>\n",
       "      <td>4.0</td>\n",
       "      <td>3.0</td>\n",
       "      <td>3.0</td>\n",
       "    </tr>\n",
       "    <tr>\n",
       "      <th>3</th>\n",
       "      <td>2022-07-28</td>\n",
       "      <td>5</td>\n",
       "      <td>2</td>\n",
       "      <td>3v4</td>\n",
       "      <td>00:46-00:53</td>\n",
       "      <td>4.0</td>\n",
       "      <td>1:52-2:00</td>\n",
       "      <td>4.0</td>\n",
       "      <td>3:07-3:15</td>\n",
       "      <td>4</td>\n",
       "      <td>...</td>\n",
       "      <td>4</td>\n",
       "      <td>21:38-21:44</td>\n",
       "      <td>3</td>\n",
       "      <td>22:36-22:43</td>\n",
       "      <td>3</td>\n",
       "      <td>6.0</td>\n",
       "      <td>13.0</td>\n",
       "      <td>0.0</td>\n",
       "      <td>4.0</td>\n",
       "      <td>4.0</td>\n",
       "    </tr>\n",
       "    <tr>\n",
       "      <th>4</th>\n",
       "      <td>2022-07-28</td>\n",
       "      <td>6</td>\n",
       "      <td>1</td>\n",
       "      <td>2v3</td>\n",
       "      <td>00:48-00:55</td>\n",
       "      <td>2.0</td>\n",
       "      <td>1:54-2:01</td>\n",
       "      <td>3.0</td>\n",
       "      <td>3:10-3:16</td>\n",
       "      <td>tie</td>\n",
       "      <td>...</td>\n",
       "      <td>tie</td>\n",
       "      <td>22:22-22:49</td>\n",
       "      <td>3</td>\n",
       "      <td>23:48-23:55</td>\n",
       "      <td>3</td>\n",
       "      <td>7.0</td>\n",
       "      <td>7.0</td>\n",
       "      <td>4.0</td>\n",
       "      <td>5.0</td>\n",
       "      <td>5.0</td>\n",
       "    </tr>\n",
       "  </tbody>\n",
       "</table>\n",
       "<p>5 rows × 47 columns</p>\n",
       "</div>"
      ],
      "text/plain": [
       "        Date  Cage  Box Match Trial 1 Timer  Trial 1 Winner Trial 2 Time   \\\n",
       "0 2022-07-28     1    3   2v3   00:37-00:43             2.0     1:31-1:37   \n",
       "1 2022-07-28     2    2   1v4   00:37-00:43             1.0     1:31-1:37   \n",
       "2 2022-07-28     3    1   2v4   00:46-00:54             2.0     1:53-2:00   \n",
       "3 2022-07-28     5    2   3v4   00:46-00:53             4.0     1:52-2:00   \n",
       "4 2022-07-28     6    1   2v3   00:48-00:55             2.0     1:54-2:01   \n",
       "\n",
       "   Trial 2 Winner Trial 3 Time Trial 3 Winner  ... Trial 17 Winner  \\\n",
       "0             2.0    2:30-2:36              2  ...               3   \n",
       "1             1.0    2:31-2:37            tie  ...               4   \n",
       "2             2.0    3:07-3:15              2  ...               4   \n",
       "3             4.0    3:07-3:15              4  ...               4   \n",
       "4             3.0    3:10-3:16            tie  ...             tie   \n",
       "\n",
       "   Trial 18 Time Trial 18 Winner  Trial 19 Time Trial 19 Winner  Mouse 1 Wins  \\\n",
       "0    18:02-18:08             tie    18:55-19:01             tie          12.0   \n",
       "1    18:02-18:08               4    18:55-19:01               4           8.0   \n",
       "2    22:31-22:39               4    23:38-23:45               4           7.0   \n",
       "3    21:38-21:44               3    22:36-22:43               3           6.0   \n",
       "4    22:22-22:49               3    23:48-23:55               3           7.0   \n",
       "\n",
       "  Mouse 2 Wins Ties  session_number  session_number_plotting  \n",
       "0          3.0   4.0            1.0                      1.0  \n",
       "1          8.0   3.0            2.0                      2.0  \n",
       "2          8.0   4.0            3.0                      3.0  \n",
       "3         13.0   0.0            4.0                      4.0  \n",
       "4          7.0   4.0            5.0                      5.0  \n",
       "\n",
       "[5 rows x 47 columns]"
      ]
     },
     "execution_count": 19,
     "metadata": {},
     "output_type": "execute_result"
    }
   ],
   "source": [
    "reward_competition_df.head()"
   ]
  },
  {
   "cell_type": "code",
   "execution_count": 20,
   "id": "5130bfce",
   "metadata": {},
   "outputs": [
    {
     "data": {
      "text/plain": [
       "defaultdict(<function eloscore.eloscore.update_elo_score.<locals>.<lambda>()>,\n",
       "            {'A': 1010.0, 'B': 990.0})"
      ]
     },
     "execution_count": 20,
     "metadata": {},
     "output_type": "execute_result"
    }
   ],
   "source": [
    "eloscore.update_elo_score(winner_id=\"A\", loser_id=\"B\")"
   ]
  },
  {
   "cell_type": "markdown",
   "id": "bfa74955",
   "metadata": {},
   "source": [
    "- Function that creates a dictionary that has the original/updated elo score for each event"
   ]
  },
  {
   "cell_type": "code",
   "execution_count": 21,
   "id": "41bbc15e",
   "metadata": {},
   "outputs": [
    {
     "ename": "KeyError",
     "evalue": "['winner']",
     "output_type": "error",
     "traceback": [
      "\u001b[0;31m---------------------------------------------------------------------------\u001b[0m",
      "\u001b[0;31mKeyError\u001b[0m                                  Traceback (most recent call last)",
      "Input \u001b[0;32mIn [21]\u001b[0m, in \u001b[0;36m<cell line: 1>\u001b[0;34m()\u001b[0m\n\u001b[0;32m----> 1\u001b[0m index_to_elo_score_and_meta_data \u001b[38;5;241m=\u001b[39m \u001b[43meloscore\u001b[49m\u001b[38;5;241;43m.\u001b[39;49m\u001b[43miterate_elo_score_calculation_for_data_frame\u001b[49m\u001b[43m(\u001b[49m\u001b[43mdata_frame\u001b[49m\u001b[38;5;241;43m=\u001b[39;49m\u001b[43mreward_competition_df\u001b[49m\u001b[43m,\u001b[49m\u001b[43m \u001b[49m\u001b[43mwinner_column\u001b[49m\u001b[38;5;241;43m=\u001b[39;49m\u001b[38;5;124;43m\"\u001b[39;49m\u001b[38;5;124;43mwinner\u001b[39;49m\u001b[38;5;124;43m\"\u001b[39;49m\u001b[43m,\u001b[49m\u001b[43m \u001b[49m\u001b[43mloser_column\u001b[49m\u001b[38;5;241;43m=\u001b[39;49m\u001b[38;5;124;43m\"\u001b[39;49m\u001b[38;5;124;43mloser\u001b[39;49m\u001b[38;5;124;43m\"\u001b[39;49m\u001b[43m,\u001b[49m\u001b[43m \u001b[49m\u001b[43madditional_columns\u001b[49m\u001b[38;5;241;43m=\u001b[39;49m\u001b[43m[\u001b[49m\u001b[38;5;124;43m\"\u001b[39;49m\u001b[38;5;124;43mDate\u001b[39;49m\u001b[38;5;124;43m\"\u001b[39;49m\u001b[43m,\u001b[49m\u001b[43m \u001b[49m\u001b[38;5;124;43m\"\u001b[39;49m\u001b[38;5;124;43msession_number\u001b[39;49m\u001b[38;5;124;43m\"\u001b[39;49m\u001b[43m,\u001b[49m\u001b[43m \u001b[49m\u001b[38;5;124;43m\"\u001b[39;49m\u001b[38;5;124;43msession_number_plotting\u001b[39;49m\u001b[38;5;124;43m\"\u001b[39;49m\u001b[43m]\u001b[49m\u001b[43m)\u001b[49m\n",
      "File \u001b[0;32m~/projects/behavioral_dataframe_processing/results/2022_07_25_elo_score_pilot/../../src/eloscore/eloscore.py:134\u001b[0m, in \u001b[0;36miterate_elo_score_calculation_for_data_frame\u001b[0;34m(data_frame, winner_column, loser_column, additional_columns)\u001b[0m\n\u001b[1;32m    131\u001b[0m \u001b[38;5;66;03m# Keeping track of the number of matches\u001b[39;00m\n\u001b[1;32m    132\u001b[0m total_match_number \u001b[38;5;241m=\u001b[39m \u001b[38;5;241m1\u001b[39m\n\u001b[0;32m--> 134\u001b[0m \u001b[38;5;28;01mfor\u001b[39;00m index, row \u001b[38;5;129;01min\u001b[39;00m \u001b[43mdata_frame\u001b[49m\u001b[38;5;241;43m.\u001b[39;49m\u001b[43mdropna\u001b[49m\u001b[43m(\u001b[49m\u001b[43msubset\u001b[49m\u001b[38;5;241;43m=\u001b[39;49m\u001b[43mwinner_column\u001b[49m\u001b[43m)\u001b[49m\u001b[38;5;241m.\u001b[39miterrows():\n\u001b[1;32m    135\u001b[0m     \u001b[38;5;66;03m# Getting the ID of the winner subject\u001b[39;00m\n\u001b[1;32m    136\u001b[0m     winner_id \u001b[38;5;241m=\u001b[39m row[winner_column]\n\u001b[1;32m    137\u001b[0m     \u001b[38;5;66;03m# Getting the ID of the loser subject\u001b[39;00m\n",
      "File \u001b[0;32m~/projects/behavioral_dataframe_processing/behavioral_processing_env/lib/python3.9/site-packages/pandas/util/_decorators.py:311\u001b[0m, in \u001b[0;36mdeprecate_nonkeyword_arguments.<locals>.decorate.<locals>.wrapper\u001b[0;34m(*args, **kwargs)\u001b[0m\n\u001b[1;32m    305\u001b[0m \u001b[38;5;28;01mif\u001b[39;00m \u001b[38;5;28mlen\u001b[39m(args) \u001b[38;5;241m>\u001b[39m num_allow_args:\n\u001b[1;32m    306\u001b[0m     warnings\u001b[38;5;241m.\u001b[39mwarn(\n\u001b[1;32m    307\u001b[0m         msg\u001b[38;5;241m.\u001b[39mformat(arguments\u001b[38;5;241m=\u001b[39marguments),\n\u001b[1;32m    308\u001b[0m         \u001b[38;5;167;01mFutureWarning\u001b[39;00m,\n\u001b[1;32m    309\u001b[0m         stacklevel\u001b[38;5;241m=\u001b[39mstacklevel,\n\u001b[1;32m    310\u001b[0m     )\n\u001b[0;32m--> 311\u001b[0m \u001b[38;5;28;01mreturn\u001b[39;00m \u001b[43mfunc\u001b[49m\u001b[43m(\u001b[49m\u001b[38;5;241;43m*\u001b[39;49m\u001b[43margs\u001b[49m\u001b[43m,\u001b[49m\u001b[43m \u001b[49m\u001b[38;5;241;43m*\u001b[39;49m\u001b[38;5;241;43m*\u001b[39;49m\u001b[43mkwargs\u001b[49m\u001b[43m)\u001b[49m\n",
      "File \u001b[0;32m~/projects/behavioral_dataframe_processing/behavioral_processing_env/lib/python3.9/site-packages/pandas/core/frame.py:6008\u001b[0m, in \u001b[0;36mDataFrame.dropna\u001b[0;34m(self, axis, how, thresh, subset, inplace)\u001b[0m\n\u001b[1;32m   6006\u001b[0m     check \u001b[38;5;241m=\u001b[39m indices \u001b[38;5;241m==\u001b[39m \u001b[38;5;241m-\u001b[39m\u001b[38;5;241m1\u001b[39m\n\u001b[1;32m   6007\u001b[0m     \u001b[38;5;28;01mif\u001b[39;00m check\u001b[38;5;241m.\u001b[39many():\n\u001b[0;32m-> 6008\u001b[0m         \u001b[38;5;28;01mraise\u001b[39;00m \u001b[38;5;167;01mKeyError\u001b[39;00m(np\u001b[38;5;241m.\u001b[39marray(subset)[check]\u001b[38;5;241m.\u001b[39mtolist())\n\u001b[1;32m   6009\u001b[0m     agg_obj \u001b[38;5;241m=\u001b[39m \u001b[38;5;28mself\u001b[39m\u001b[38;5;241m.\u001b[39mtake(indices, axis\u001b[38;5;241m=\u001b[39magg_axis)\n\u001b[1;32m   6011\u001b[0m \u001b[38;5;28;01mif\u001b[39;00m thresh \u001b[38;5;129;01mis\u001b[39;00m \u001b[38;5;129;01mnot\u001b[39;00m \u001b[38;5;28;01mNone\u001b[39;00m:\n",
      "\u001b[0;31mKeyError\u001b[0m: ['winner']"
     ]
    }
   ],
   "source": [
    "index_to_elo_score_and_meta_data = eloscore.iterate_elo_score_calculation_for_data_frame(data_frame=reward_competition_df, winner_column=\"winner\", loser_column=\"loser\", additional_columns=[\"Date\", \"session_number\", \"session_number_plotting\"])"
   ]
  },
  {
   "cell_type": "code",
   "execution_count": null,
   "id": "26069f8f",
   "metadata": {},
   "outputs": [],
   "source": [
    "index_to_elo_score_and_meta_data[0]"
   ]
  },
  {
   "cell_type": "markdown",
   "id": "badfdb05",
   "metadata": {},
   "source": [
    "- Turning the dictionary into a dataframe"
   ]
  },
  {
   "cell_type": "code",
   "execution_count": null,
   "id": "eaad3b8b",
   "metadata": {},
   "outputs": [],
   "source": [
    "reward_competition_elo_score_df = pd.DataFrame.from_dict(index_to_elo_score_and_meta_data, orient=\"index\")"
   ]
  },
  {
   "cell_type": "code",
   "execution_count": null,
   "id": "cfba525f",
   "metadata": {
    "scrolled": true
   },
   "outputs": [],
   "source": [
    "reward_competition_elo_score_df.head()"
   ]
  },
  {
   "cell_type": "code",
   "execution_count": null,
   "id": "04bb8bad",
   "metadata": {
    "scrolled": true
   },
   "outputs": [],
   "source": [
    "reward_competition_elo_score_df.tail()"
   ]
  },
  {
   "cell_type": "code",
   "execution_count": null,
   "id": "4f5c4b24",
   "metadata": {},
   "outputs": [],
   "source": [
    "reward_competition_elo_score_df.groupby(\"subject_id\").count()"
   ]
  },
  {
   "cell_type": "code",
   "execution_count": null,
   "id": "58f124e4",
   "metadata": {},
   "outputs": [],
   "source": [
    "reward_competition_elo_score_df.groupby(\"session_number\").count()"
   ]
  },
  {
   "cell_type": "markdown",
   "id": "16542145",
   "metadata": {},
   "source": [
    "# Plotting the Elo Score by match number"
   ]
  },
  {
   "cell_type": "code",
   "execution_count": null,
   "id": "692f8641",
   "metadata": {},
   "outputs": [],
   "source": [
    "# Increase size of plot in jupyter\n",
    "\n",
    "plt.rcParams[\"figure.figsize\"] = (18,10)"
   ]
  },
  {
   "cell_type": "code",
   "execution_count": null,
   "id": "9b5ab11f",
   "metadata": {
    "scrolled": true
   },
   "outputs": [],
   "source": [
    "fig, ax = plt.subplots()\n",
    "\n",
    "# Drawing vertical lines that represent when each session begins\n",
    "for index, row in reward_competition_elo_score_df.dropna(subset=[\"session_number_plotting\"]).iterrows():\n",
    "    # Offsetting by 0.5 to avoid drawing the line on the dot\n",
    "    plt.vlines(x=[row[\"total_match_number\"] - 0.5], ymin=700, ymax=1300, colors='black', linestyle='dashed')\n",
    "\n",
    "# Drawing a line for each subject\n",
    "for subject in sorted(reward_competition_elo_score_df[\"subject_id\"].unique()):\n",
    "    # Getting all the rows with the current subject\n",
    "    subject_df = reward_competition_elo_score_df[reward_competition_elo_score_df[\"subject_id\"] == subject]\n",
    "    # Making the dates into days after the first session by subtracting all the dates by the first date\n",
    "    plt.plot(subject_df[\"total_match_number\"], subject_df[\"updated_elo_score\"], '-o', label=subject)\n",
    "\n",
    "# Labeling the X/Y Axis and the title\n",
    "ax.set_xlabel(\"Trial Number\")\n",
    "ax.set_ylabel(\"Elo Score\")\n",
    "# ax.set_title(\"Elo Score for Home Cage Observation: Cage {}\".format(cage))\n",
    "# To show the legend\n",
    "ax.legend()\n",
    "plt.xticks(rotation=90)\n",
    "plt.ylim(700, 1300) \n",
    "plt.show()\n",
    "\n"
   ]
  },
  {
   "cell_type": "markdown",
   "id": "ade8dacd",
   "metadata": {},
   "source": [
    "# Calculate the Elo Score for all sheets"
   ]
  },
  {
   "cell_type": "code",
   "execution_count": null,
   "id": "f7717f26",
   "metadata": {},
   "outputs": [],
   "source": [
    "xls = pd.ExcelFile(\"./data/Reward_Competition_Scoring_MasterList.xlsx\")\n",
    "sheets = xls.sheet_names"
   ]
  },
  {
   "cell_type": "code",
   "execution_count": null,
   "id": "9337b3df",
   "metadata": {},
   "outputs": [],
   "source": [
    "sheets"
   ]
  },
  {
   "cell_type": "code",
   "execution_count": null,
   "id": "b0a2bde4",
   "metadata": {},
   "outputs": [],
   "source": [
    "sheet_to_data_frame = defaultdict(dict)\n",
    "for sheet in sheets[1:]:\n",
    "    sheet_to_data_frame[sheet][\"recording_data_frame\"] = pd.read_excel(\"./data/Reward_Competition_Scoring_MasterList.xlsx\", sheet_name=sheet, header=1).copy()\n",
    "    # Adding the session numbers as a column\n",
    "    session_indexes = sheet_to_data_frame[sheet][\"recording_data_frame\"].dropna(axis=0, subset=\"Date\").index\n",
    "    sheet_to_data_frame[sheet][\"recording_data_frame\"] = eloscore.add_session_number_column(sheet_to_data_frame[sheet][\"recording_data_frame\"], session_indexes)\n",
    "    sheet_to_data_frame[sheet][\"recording_data_frame\"] = sheet_to_data_frame[sheet][\"recording_data_frame\"].fillna(method='ffill')\n",
    "    sheet_to_data_frame[sheet][\"recording_data_frame\"] = eloscore.add_session_number_column(sheet_to_data_frame[sheet][\"recording_data_frame\"], session_indexes, session_number_column=\"session_number_plotting\")\n",
    "\n",
    "    # Splitting all the rows with commas in the ID\n",
    "    sheet_to_data_frame[sheet][\"recording_data_frame\"][\"winner\"] = sheet_to_data_frame[sheet][\"recording_data_frame\"][\"winner\"].astype(str)\n",
    "    sheet_to_data_frame[sheet][\"recording_data_frame\"][\"loser\"] = sheet_to_data_frame[sheet][\"recording_data_frame\"][\"loser\"].astype(str)\n",
    "    \n",
    "    sheet_to_data_frame[sheet][\"recording_data_frame\"][\"winner\"] = sheet_to_data_frame[sheet][\"recording_data_frame\"][\"winner\"].str.split(\",\")\n",
    "    sheet_to_data_frame[sheet][\"recording_data_frame\"] = sheet_to_data_frame[sheet][\"recording_data_frame\"].explode(\"winner\").reset_index(drop=True)\n",
    "    sheet_to_data_frame[sheet][\"recording_data_frame\"][\"loser\"] = sheet_to_data_frame[sheet][\"recording_data_frame\"][\"loser\"].str.split(\",\")\n",
    "    sheet_to_data_frame[sheet][\"recording_data_frame\"] = sheet_to_data_frame[sheet][\"recording_data_frame\"].explode(\"loser\").reset_index(drop=True)\n",
    "\n",
    "    sheet_to_data_frame[sheet][\"recording_data_frame\"][\"winner\"] = sheet_to_data_frame[sheet][\"recording_data_frame\"][\"winner\"].astype(float).astype(int).astype(str)\n",
    "    sheet_to_data_frame[sheet][\"recording_data_frame\"][\"loser\"] = sheet_to_data_frame[sheet][\"recording_data_frame\"][\"loser\"].astype(float).astype(int).astype(str)\n",
    "    \n",
    "    # Calculating the Elo Score    \n",
    "    index_to_elo_score_and_meta_data = eloscore.iterate_elo_score_calculation_for_data_frame(data_frame=sheet_to_data_frame[sheet][\"recording_data_frame\"], \\\n",
    "                                                                                                               winner_column=\"winner\", loser_column=\"loser\", additional_columns=[\"Date\", \"session_number\", \"session_number_plotting\"])\n",
    "    sheet_to_data_frame[sheet][\"elo_score_data_frame\"] = pd.DataFrame.from_dict(index_to_elo_score_and_meta_data, orient=\"index\")"
   ]
  },
  {
   "cell_type": "markdown",
   "id": "f01d1d60",
   "metadata": {},
   "source": [
    "# Making plots for all sheets"
   ]
  },
  {
   "cell_type": "markdown",
   "id": "1c4336ac",
   "metadata": {},
   "source": [
    "- Getting the dates the files were being recorded to use for the file name"
   ]
  },
  {
   "cell_type": "code",
   "execution_count": null,
   "id": "8150792d",
   "metadata": {},
   "outputs": [],
   "source": [
    "sheets[1]"
   ]
  },
  {
   "cell_type": "code",
   "execution_count": null,
   "id": "525f8dac",
   "metadata": {},
   "outputs": [],
   "source": [
    "earliest_date = str(sheet_to_data_frame[sheets[1]][\"recording_data_frame\"][\"Date\"].min()).split()[0]"
   ]
  },
  {
   "cell_type": "code",
   "execution_count": null,
   "id": "5f35af3e",
   "metadata": {},
   "outputs": [],
   "source": [
    "latest_date = str(sheet_to_data_frame[sheets[1]][\"recording_data_frame\"][\"Date\"].max()).split()[0]"
   ]
  },
  {
   "cell_type": "code",
   "execution_count": null,
   "id": "77213ea7",
   "metadata": {},
   "outputs": [],
   "source": [
    "earliest_date"
   ]
  },
  {
   "cell_type": "code",
   "execution_count": null,
   "id": "cb11f32d",
   "metadata": {},
   "outputs": [],
   "source": [
    "latest_date"
   ]
  },
  {
   "cell_type": "markdown",
   "id": "e9c8fe03",
   "metadata": {},
   "source": [
    "- Getting the cage numbers"
   ]
  },
  {
   "cell_type": "code",
   "execution_count": null,
   "id": "62083a86",
   "metadata": {},
   "outputs": [],
   "source": [
    "all_cages = \"_\".join(sorted([sheet.lower().strip(\"cage\").strip() for sheet in sheets[1:]]))"
   ]
  },
  {
   "cell_type": "code",
   "execution_count": null,
   "id": "f09e2073",
   "metadata": {},
   "outputs": [],
   "source": [
    "all_cages"
   ]
  },
  {
   "cell_type": "code",
   "execution_count": null,
   "id": "1131e779",
   "metadata": {},
   "outputs": [],
   "source": [
    "output_directory = \"./proc/plots/reward_competition_elo_score/cage_{}_date_{}_{}\".format(all_cages, earliest_date, latest_date)"
   ]
  },
  {
   "cell_type": "code",
   "execution_count": null,
   "id": "00a6c81a",
   "metadata": {},
   "outputs": [],
   "source": [
    "output_directory"
   ]
  },
  {
   "cell_type": "code",
   "execution_count": null,
   "id": "10a34522",
   "metadata": {},
   "outputs": [],
   "source": [
    "os.makedirs(output_directory, exist_ok=True)"
   ]
  },
  {
   "cell_type": "code",
   "execution_count": null,
   "id": "5237e03f",
   "metadata": {},
   "outputs": [],
   "source": [
    "for key, value in sheet_to_data_frame.items():\n",
    "    plt.rcParams[\"figure.figsize\"] = (13.5,7.5)\n",
    "    print(key)\n",
    "    elo_score_data_frame = value[\"elo_score_data_frame\"]\n",
    "    fig, ax = plt.subplots()\n",
    "\n",
    "    # Drawing vertical lines that represent when each session begins\n",
    "    for index, row in elo_score_data_frame.dropna(subset=[\"session_number_plotting\"]).iterrows():\n",
    "        # Offsetting by 0.5 to avoid drawing the line on the dot\n",
    "        plt.vlines(x=[row[\"total_match_number\"] - 0.5], ymin=600, ymax=1400, colors='black', linestyle='dashed')\n",
    "\n",
    "    # Drawing a line for each subject\n",
    "    for subject in sorted(elo_score_data_frame[\"subject_id\"].astype(str).unique()):\n",
    "        # Getting all the rows with the current subject\n",
    "        subject_df = elo_score_data_frame[elo_score_data_frame[\"subject_id\"] == subject]\n",
    "        # Making the dates into days after the first session by subtracting all the dates by the first date\n",
    "        plt.plot(subject_df[\"total_match_number\"], subject_df[\"updated_elo_score\"], '-o', label=subject)\n",
    "\n",
    "    # Labeling the X/Y Axis and the title\n",
    "    ax.set_xlabel(\"Trial Number\")\n",
    "    ax.set_ylabel(\"Elo Score\")\n",
    "    ax.set_title(\"Elo Score for Home Cage Observation: {}\".format(key))\n",
    "    # To show the legend\n",
    "    ax.legend()\n",
    "    plt.xticks(rotation=90)\n",
    "    plt.ylim(600, 1400) \n",
    "    \n",
    "    \n",
    "    file_name = \"reward_competition_elo_score_{}_date_{}_{}.png\".format(key, earliest_date, latest_date)\n",
    "    plt.savefig(os.path.join(output_directory, file_name))\n",
    "    \n",
    "    plt.show()"
   ]
  },
  {
   "cell_type": "code",
   "execution_count": null,
   "id": "7f2b6183",
   "metadata": {},
   "outputs": [],
   "source": []
  }
 ],
 "metadata": {
  "kernelspec": {
   "display_name": "Python 3 (ipykernel)",
   "language": "python",
   "name": "python3"
  },
  "language_info": {
   "codemirror_mode": {
    "name": "ipython",
    "version": 3
   },
   "file_extension": ".py",
   "mimetype": "text/x-python",
   "name": "python",
   "nbconvert_exporter": "python",
   "pygments_lexer": "ipython3",
   "version": "3.9.12"
  },
  "vscode": {
   "interpreter": {
    "hash": "1eab39844f49fe378870e01884132b9a01e61bfdb7013dba0b232b1cf67de0bc"
   }
  }
 },
 "nbformat": 4,
 "nbformat_minor": 5
}
