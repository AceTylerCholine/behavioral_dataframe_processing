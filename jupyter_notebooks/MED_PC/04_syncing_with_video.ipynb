{
 "cells": [
  {
   "cell_type": "markdown",
   "id": "ec0f0e72",
   "metadata": {},
   "source": [
    "# MED-PC Extracting the Recording Data and Metadata"
   ]
  },
  {
   "cell_type": "markdown",
   "id": "3e96b039",
   "metadata": {},
   "source": [
    "## Importing the Python Libraries"
   ]
  },
  {
   "cell_type": "code",
   "execution_count": 1,
   "id": "df497936",
   "metadata": {},
   "outputs": [],
   "source": [
    "import sys\n",
    "import glob\n",
    "from collections import defaultdict\n",
    "import os\n",
    "import datetime\n",
    "import numpy as np\n",
    "import pandas as pd\n",
    "import matplotlib.pyplot as plt\n",
    "from moviepy.editor import *\n",
    "from datetime import datetime\n",
    "from IPython.display import Video"
   ]
  },
  {
   "cell_type": "code",
   "execution_count": 2,
   "id": "b6678428",
   "metadata": {},
   "outputs": [],
   "source": [
    "from medpc2excel.medpc_read import medpc_read"
   ]
  },
  {
   "cell_type": "code",
   "execution_count": 3,
   "id": "d2693f50",
   "metadata": {},
   "outputs": [],
   "source": [
    "# setting path\n",
    "sys.path.append('../../src')"
   ]
  },
  {
   "cell_type": "code",
   "execution_count": 4,
   "id": "2eca7742",
   "metadata": {},
   "outputs": [],
   "source": [
    "# All the libraries that were created for this repository\n",
    "import extract.dataframe\n",
    "import processing.tone\n",
    "import extract.metadata"
   ]
  },
  {
   "cell_type": "markdown",
   "id": "52dd42ca",
   "metadata": {},
   "source": [
    "## Getting the Metadata from all the MED-PC Recording Files"
   ]
  },
  {
   "cell_type": "code",
   "execution_count": 5,
   "id": "09939ec3",
   "metadata": {},
   "outputs": [],
   "source": [
    "VideoFileClip??"
   ]
  },
  {
   "cell_type": "markdown",
   "id": "51a96419",
   "metadata": {},
   "source": [
    "- Getting all the file paths of the recording files(that happen to all end in `.txt`"
   ]
  },
  {
   "cell_type": "markdown",
   "id": "005ccdc3",
   "metadata": {},
   "source": [
    "# NOTE: The following path must be changed to the directory where your MED-PC recording files are located, if they are not in the specied folder"
   ]
  },
  {
   "cell_type": "code",
   "execution_count": 6,
   "id": "faa6c858",
   "metadata": {},
   "outputs": [],
   "source": [
    "all_med_pc_file = glob.glob(\"./data/**/*.txt\", recursive=True)"
   ]
  },
  {
   "cell_type": "markdown",
   "id": "07578f1d",
   "metadata": {},
   "source": [
    "- Use this instead if you're using you're own data"
   ]
  },
  {
   "cell_type": "raw",
   "id": "3d3671a9",
   "metadata": {},
   "source": [
    "all_med_pc_file = glob.glob(\"./data/clock_recording/*.txt\")"
   ]
  },
  {
   "cell_type": "code",
   "execution_count": 7,
   "id": "29194eda",
   "metadata": {},
   "outputs": [
    {
     "data": {
      "text/plain": [
       "['./data/automatic_30_min_end_test/2022-07-13_20h03m_Subject .txt']"
      ]
     },
     "execution_count": 7,
     "metadata": {},
     "output_type": "execute_result"
    }
   ],
   "source": [
    "all_med_pc_file[:10]"
   ]
  },
  {
   "cell_type": "markdown",
   "id": "062be1de",
   "metadata": {},
   "source": [
    "- Example of what the MED-PC Recording file looks like"
   ]
  },
  {
   "cell_type": "code",
   "execution_count": 8,
   "id": "1c7118af",
   "metadata": {},
   "outputs": [
    {
     "name": "stdout",
     "output_type": "stream",
     "text": [
      "File: C:\\MED-PC\\Data\\2022-07-13_20h03m_Subject .txt\n",
      "\n",
      "\n",
      "\n",
      "\n",
      "\n",
      "\n",
      "\n",
      "Start Date: 07/13/22\n",
      "\n",
      "End Date: 07/13/22\n",
      "\n",
      "Subject: \n",
      "\n",
      "Experiment: \n",
      "\n",
      "Group: \n",
      "\n",
      "Box: 1\n",
      "\n",
      "Start Time: 20:03:12\n",
      "\n",
      "End Time: 20:09:03\n",
      "\n",
      "MSN: C57_reward_competition\n",
      "\n",
      "A:    3899.000\n",
      "\n",
      "D:    7500.000\n",
      "\n",
      "E:       0.000\n",
      "\n",
      "L:       0.000\n",
      "\n",
      "M:       0.000\n",
      "\n",
      "O:       0.000\n",
      "\n",
      "T:     349.920\n",
      "\n"
     ]
    }
   ],
   "source": [
    "with open(all_med_pc_file[0]) as f:\n",
    "    lines = f.readlines()\n",
    "    for line in lines[:20]:\n",
    "        print(line)"
   ]
  },
  {
   "cell_type": "markdown",
   "id": "23b6a4cc",
   "metadata": {},
   "source": [
    "- We will be extracting the first 10 or so lines that look like:\n",
    "\n",
    "```\n",
    "File: C:\\MED-PC\\Data\\2022-05-06_12h59m_Subject 3.4 (2).txt\n",
    "\n",
    "Start Date: 05/06/22\n",
    "\n",
    "End Date: 05/06/22\n",
    "\n",
    "Subject: 3.4 (2)\n",
    "\n",
    "Experiment: Pilot of Pilot\n",
    "\n",
    "Group: Cage 4\n",
    "\n",
    "Box: 1\n",
    "\n",
    "Start Time: 12:59:58\n",
    "\n",
    "End Time: 14:02:38\n",
    "\n",
    "MSN: levelNP_CS_reward_laserepochON1st_noshock\n",
    "```\n",
    "    \n",
    "- We will just find all the lines that start with \"File\", \"Start Date\", \"End Date\", \"Subject\", \"Experiment\", \"Group\", \"Box\", \"Start Time\", \"End Time\", or \"MSN\". And then stop once all the metadata types have been collected"
   ]
  },
  {
   "cell_type": "code",
   "execution_count": 9,
   "id": "67503081",
   "metadata": {},
   "outputs": [],
   "source": [
    "# This makes a nested dictionary of file paths to each individual metadata type\n",
    "file_path_to_meta_data = extract.metadata.get_all_med_pc_meta_data_from_files(list_of_files=all_med_pc_file)"
   ]
  },
  {
   "cell_type": "code",
   "execution_count": 10,
   "id": "35ff0f55",
   "metadata": {},
   "outputs": [
    {
     "name": "stdout",
     "output_type": "stream",
     "text": [
      "File path: ./data/automatic_30_min_end_test/2022-07-13_20h03m_Subject .txt\n",
      "Metadata types and associated values: {'File': 'C:\\\\MED-PC\\\\Data\\\\2022-07-13_20h03m_Subject .txt', 'Start Date': '07/13/22', 'End Date': '07/13/22', 'Subject': '', 'Experiment': '', 'Group': '', 'Box': '1', 'Start Time': '20:03:12', 'End Time': '20:09:03', 'MSN': 'C57_reward_competition'}\n"
     ]
    }
   ],
   "source": [
    "for key, value in file_path_to_meta_data.items():\n",
    "    print(\"File path: {}\".format(key))\n",
    "    print(\"Metadata types and associated values: {}\".format(value))\n",
    "    break"
   ]
  },
  {
   "cell_type": "markdown",
   "id": "2c00edf5",
   "metadata": {},
   "source": [
    "## Making a Dataframe out of the Metadata"
   ]
  },
  {
   "cell_type": "code",
   "execution_count": 11,
   "id": "6fcb3201",
   "metadata": {},
   "outputs": [],
   "source": [
    "# Turning the dictionary into a Pandas Dataframe\n",
    "metadata_df = pd.DataFrame.from_dict(file_path_to_meta_data, orient=\"index\")\n",
    "# Resetting the index because currently the file path is the index \n",
    "metadata_df = metadata_df.reset_index()"
   ]
  },
  {
   "cell_type": "code",
   "execution_count": 12,
   "id": "b98fcaf2",
   "metadata": {},
   "outputs": [
    {
     "data": {
      "text/html": [
       "<div>\n",
       "<style scoped>\n",
       "    .dataframe tbody tr th:only-of-type {\n",
       "        vertical-align: middle;\n",
       "    }\n",
       "\n",
       "    .dataframe tbody tr th {\n",
       "        vertical-align: top;\n",
       "    }\n",
       "\n",
       "    .dataframe thead th {\n",
       "        text-align: right;\n",
       "    }\n",
       "</style>\n",
       "<table border=\"1\" class=\"dataframe\">\n",
       "  <thead>\n",
       "    <tr style=\"text-align: right;\">\n",
       "      <th></th>\n",
       "      <th>index</th>\n",
       "      <th>File</th>\n",
       "      <th>Start Date</th>\n",
       "      <th>End Date</th>\n",
       "      <th>Subject</th>\n",
       "      <th>Experiment</th>\n",
       "      <th>Group</th>\n",
       "      <th>Box</th>\n",
       "      <th>Start Time</th>\n",
       "      <th>End Time</th>\n",
       "      <th>MSN</th>\n",
       "    </tr>\n",
       "  </thead>\n",
       "  <tbody>\n",
       "    <tr>\n",
       "      <th>0</th>\n",
       "      <td>./data/automatic_30_min_end_test/2022-07-13_20...</td>\n",
       "      <td>C:\\MED-PC\\Data\\2022-07-13_20h03m_Subject .txt</td>\n",
       "      <td>07/13/22</td>\n",
       "      <td>07/13/22</td>\n",
       "      <td></td>\n",
       "      <td></td>\n",
       "      <td></td>\n",
       "      <td>1</td>\n",
       "      <td>20:03:12</td>\n",
       "      <td>20:09:03</td>\n",
       "      <td>C57_reward_competition</td>\n",
       "    </tr>\n",
       "  </tbody>\n",
       "</table>\n",
       "</div>"
      ],
      "text/plain": [
       "                                               index  \\\n",
       "0  ./data/automatic_30_min_end_test/2022-07-13_20...   \n",
       "\n",
       "                                            File Start Date  End Date Subject  \\\n",
       "0  C:\\MED-PC\\Data\\2022-07-13_20h03m_Subject .txt   07/13/22  07/13/22           \n",
       "\n",
       "  Experiment Group Box Start Time  End Time                     MSN  \n",
       "0                    1   20:03:12  20:09:03  C57_reward_competition  "
      ]
     },
     "execution_count": 12,
     "metadata": {},
     "output_type": "execute_result"
    }
   ],
   "source": [
    "metadata_df.head()"
   ]
  },
  {
   "cell_type": "code",
   "execution_count": 13,
   "id": "371584e7",
   "metadata": {},
   "outputs": [
    {
     "data": {
      "text/html": [
       "<div>\n",
       "<style scoped>\n",
       "    .dataframe tbody tr th:only-of-type {\n",
       "        vertical-align: middle;\n",
       "    }\n",
       "\n",
       "    .dataframe tbody tr th {\n",
       "        vertical-align: top;\n",
       "    }\n",
       "\n",
       "    .dataframe thead th {\n",
       "        text-align: right;\n",
       "    }\n",
       "</style>\n",
       "<table border=\"1\" class=\"dataframe\">\n",
       "  <thead>\n",
       "    <tr style=\"text-align: right;\">\n",
       "      <th></th>\n",
       "      <th>index</th>\n",
       "      <th>File</th>\n",
       "      <th>Start Date</th>\n",
       "      <th>End Date</th>\n",
       "      <th>Subject</th>\n",
       "      <th>Experiment</th>\n",
       "      <th>Group</th>\n",
       "      <th>Box</th>\n",
       "      <th>Start Time</th>\n",
       "      <th>End Time</th>\n",
       "      <th>MSN</th>\n",
       "    </tr>\n",
       "  </thead>\n",
       "  <tbody>\n",
       "    <tr>\n",
       "      <th>0</th>\n",
       "      <td>./data/automatic_30_min_end_test/2022-07-13_20...</td>\n",
       "      <td>C:\\MED-PC\\Data\\2022-07-13_20h03m_Subject .txt</td>\n",
       "      <td>07/13/22</td>\n",
       "      <td>07/13/22</td>\n",
       "      <td></td>\n",
       "      <td></td>\n",
       "      <td></td>\n",
       "      <td>1</td>\n",
       "      <td>20:03:12</td>\n",
       "      <td>20:09:03</td>\n",
       "      <td>C57_reward_competition</td>\n",
       "    </tr>\n",
       "  </tbody>\n",
       "</table>\n",
       "</div>"
      ],
      "text/plain": [
       "                                               index  \\\n",
       "0  ./data/automatic_30_min_end_test/2022-07-13_20...   \n",
       "\n",
       "                                            File Start Date  End Date Subject  \\\n",
       "0  C:\\MED-PC\\Data\\2022-07-13_20h03m_Subject .txt   07/13/22  07/13/22           \n",
       "\n",
       "  Experiment Group Box Start Time  End Time                     MSN  \n",
       "0                    1   20:03:12  20:09:03  C57_reward_competition  "
      ]
     },
     "execution_count": 13,
     "metadata": {},
     "output_type": "execute_result"
    }
   ],
   "source": [
    "metadata_df.tail()"
   ]
  },
  {
   "cell_type": "markdown",
   "id": "8ac4297a",
   "metadata": {},
   "source": [
    "- Just getting the numbers out of the column that contains the cage information"
   ]
  },
  {
   "cell_type": "markdown",
   "id": "dd4bc5a5",
   "metadata": {},
   "source": [
    "## Inputting all the MED-PC log files"
   ]
  },
  {
   "cell_type": "markdown",
   "id": "c78aaf6c",
   "metadata": {},
   "source": [
    "- Example of what the MED-PC Script looks like that was ran when recording the behaviors"
   ]
  },
  {
   "cell_type": "code",
   "execution_count": 14,
   "id": "8dee131d",
   "metadata": {},
   "outputs": [
    {
     "name": "stdout",
     "output_type": "stream",
     "text": [
      "\\v3 stop tone with poke\n",
      "\n",
      "\\v3.2 monitor port entries AND exits\n",
      "\n",
      "\n",
      "\n",
      "\\INPUTS\n",
      "\n",
      "^port = 8\n",
      "\n",
      "\n",
      "\n",
      "\\OUTPUTS\n",
      "\n",
      "^fan = 16\n",
      "\n",
      "^houselight = 11\n",
      "\n",
      "^tone1 = 2\n",
      "\n",
      "^tone2 = 3\n",
      "\n",
      "^tone3 = 4\n",
      "\n",
      "^tone4 = 5\n",
      "\n",
      "^pump = 9\n",
      "\n",
      "^whitenoise = 1\n",
      "\n",
      "^laser=10\n",
      "\n",
      "^csout = 5\n",
      "\n",
      "^peout = 15\n",
      "\n",
      "^cs1out = 12\n",
      "\n",
      "^cs2out = 13\n",
      "\n",
      "^cs3out = 14\n",
      "\n",
      "\n",
      "\n",
      "\\EXP SETTINGS\n",
      "\n",
      "^ncsNoShock = 0\n",
      "\n",
      "^initCS1trials = 3\n",
      "\n",
      "\n",
      "\n",
      "\\ARRAYS\n",
      "\n",
      "DIM P = 20000 \\Port entry time stamp array\n",
      "\n",
      "DIM Q = 2500 \\US delivery time stamp array (absolute)\n",
      "\n",
      "DIM R = 2500 \\US time stamp array (relative to last CS)\n",
      "\n",
      "DIM W = 2500 \\ITI values used for CS\n",
      "\n",
      "DIM S = 2500 \\CS presentation values (absolute - every time light turns on)\n",
      "\n",
      "DIM N = 20000 \\Port exit time stamp array\n",
      "\n",
      "DIM K = 2500 \\CS type\n",
      "\n",
      "DIM B = 2500 \\shock intensity\n",
      "\n",
      "\n",
      "\n",
      "LIST V = 30\", 30\", 30\", 30\", 100\", 95\", 90\", 80\", 90\", 100\", 90\", 120\", 90\", 85\", 90\", 95\", 120\", 80\", 95\", 80\", 90\", 80\", 75\", 100\", 95\", 90\", 80\", 90\", 100\", 90\", 120\", 90\", 85\", 90\", 95\", 90\", 80\", 90\", 100\", 90\", 90\", 90\", 90\", 90\", 90\", 90\", 90\", 90\", 90\", 90\", 90\", 90\", 90\", 90\", 90\", 90\", 90\", 90\", 90\"  \\, 100\", 108\", 117\", 121\", 133\", 145\", 165\" \\CS ITI values (tone + houselight)\n",
      "\n",
      "LIST E = 30\", 30\", 30\" \\CS ITI values for first few trials\n",
      "\n",
      "LIST M = 1, 1, 1, 1, 1, 1, 1, 1, 1, 1, 1, 1, 1, 1, 1, 1, 1, 1, 1, 1,1, 1, 1, 1, 1, 1, 1, 1, 1, 1, 1, 1, 1, 1, 1, 1, 1, 1, 1, 1 \\1 is CS1, 2 is CS2, 3 is CS3\n",
      "\n",
      "LIST J =0.7, 0.7, 0.7, 0.7 \\0.9, 0.9, 0.9, 0.9 \\0, 0.3, 0.6, 0.9\n",
      "\n",
      "\n",
      "\n",
      "\\Counter and Flag array\n",
      "\n",
      "DIM C = 10\n",
      "\n",
      "\\All counters are zero-indexed!! Meaning, if C(0) = 3, there were 4 port entries\n",
      "\n",
      "\\C(0) counter for number of port entries\n",
      "\n",
      "\\C(1) counter for CS presentation number\n",
      "\n",
      "\\C(2) counter for US delivery : this is 1-indexed,  meaning number indicates number of sucrose deliveries\n",
      "\n",
      "\\C(3) flag to indicate if sucrose is in port =0 if no port entry was made, =1 if port entry was made (i.e., no sucrose)\n",
      "\n",
      "\\C(4) counter for number of port exits\n",
      "\n",
      "\\C(5) number of CS1\n",
      "\n",
      "\\C(6) number of CS2\n",
      "\n",
      "\\C(7) number of CS3\n",
      "\n",
      "\\C(8) number of sucrose deliveries\n",
      "\n",
      "\\C(9) number of shock deliveries\n",
      "\n",
      "\n",
      "\n",
      "\\Z-pulses\n",
      "\n",
      "\\Z1: start task after initial delay\n",
      "\n",
      "\\Z2: start of CS\n",
      "\n",
      "\\Z3: port entry\n",
      "\n",
      "\\Z4: port exit\n",
      "\n",
      "\\Z5: trigger CS1\n",
      "\n",
      "\\Z6: trigger CS2\n",
      "\n",
      "\\Z7: trigger CS3\n",
      "\n",
      "\\Z8: turn off all CS triggers\n",
      "\n",
      "\\Z12: INX trigger TTL\n",
      "\n",
      "\n",
      "\n",
      "\\Variables\n",
      "\n",
      "\\A - Time since last CS\n",
      "\n",
      "\\B - Shock intensity\n",
      "\n",
      "\\C - Counter array\n",
      "\n",
      "\\D - Current ITI value\n",
      "\n",
      "\\E - CS ITI values for first few trials\n",
      "\n",
      "\\F - Shock duration\n",
      "\n",
      "\\G -\n",
      "\n",
      "\\H -\n",
      "\n",
      "\\I -\n",
      "\n",
      "\\J - Shock intensity repo\n",
      "\n",
      "\\K - CS type\n",
      "\n",
      "\\L -\n",
      "\n",
      "\\M - CS type repo\n",
      "\n",
      "\\N - Port exit time stamp array\n",
      "\n",
      "\\O -\n",
      "\n",
      "\\P - Port entry time stamp array\n",
      "\n",
      "\\Q - Sucrose delivery time stamp array (absolute)\n",
      "\n",
      "\\R - Sucrose delivery time stamp array (relative to last CS)\n",
      "\n",
      "\\S - CS presentation time stamp array\n",
      "\n",
      "\\T - Session timer\n",
      "\n",
      "\\U - Time since last CS presentation\n",
      "\n",
      "\\V - List of CS ITI values (tone + houselight)\n",
      "\n",
      "\\W - ITI values used for CS one each trial\n",
      "\n",
      "\\X -\n",
      "\n",
      "\\Y - Beam break monitor variable\n",
      "\n",
      "\\Z -\n",
      "\n",
      "\n",
      "\n",
      "\n",
      "\n",
      "DISKVARS = A, B, C, D, E, F, G, H, I, J, K, L, M, N, O, P, Q, R, S, T, U, V, W, X, Y, Z\n",
      "\n",
      "DISKCOLUMNS = 1\n",
      "\n",
      "\n",
      "\n",
      "\\Detect port entry\n",
      "\n",
      "S.S.1,\n",
      "\n"
     ]
    }
   ],
   "source": [
    "with open(\"./scripts/levelNP_CS_reward_laserepochON1st_noshock.MPC\") as f:\n",
    "    lines = f.readlines()\n",
    "    for line in lines[:100]:\n",
    "        print(line)"
   ]
  },
  {
   "cell_type": "markdown",
   "id": "0ee62e6c",
   "metadata": {},
   "source": [
    "- We will be using the comments in the MED-PC script(which starts with the `\\`) to create a name for the variables. By default, MED-PC uses a single letter as the name of the variable.\n",
    "    - This will use the medpc2excel library found in https://github.com/cyf203/medpc2excel\n",
    "- Example of the comments in the MED-PC script that we will use the names from:\n",
    "\n",
    "```\n",
    "\\Variables\n",
    "\n",
    "\\A - Time since last CS\n",
    "\n",
    "\\B - Shock intensity\n",
    "\n",
    "\\C - Counter array\n",
    "\n",
    "\\D - Current ITI value\n",
    "\n",
    "\\E - CS ITI values for first few trials\n",
    "\n",
    "\\F - Shock duration\n",
    "\n",
    "\\G -\n",
    "\n",
    "\\H -\n",
    "\n",
    "\\I -\n",
    "\n",
    "\\J - Shock intensity repo\n",
    "\n",
    "\\K - CS type\n",
    "\n",
    "\\L -\n",
    "\n",
    "\\M - CS type repo\n",
    "\n",
    "\\N - Port exit time stamp array\n",
    "\n",
    "\\O -\n",
    "\n",
    "\\P - Port entry time stamp array\n",
    "\n",
    "\\Q - Sucrose delivery time stamp array (absolute)\n",
    "\n",
    "\\R - Sucrose delivery time stamp array (relative to last CS)\n",
    "\n",
    "\\S - CS presentation time stamp array\n",
    "\n",
    "\\T - Session timer\n",
    "\n",
    "\\U - Time since last CS presentation\n",
    "\n",
    "\\V - List of CS ITI values (tone + houselight)\n",
    "\n",
    "\\W - ITI values used for CS one each trial\n",
    "\n",
    "\\X -\n",
    "\n",
    "\\Y - Beam break monitor variable\n",
    "\n",
    "\\Z -\n",
    "```"
   ]
  },
  {
   "cell_type": "code",
   "execution_count": 15,
   "id": "7d7b57bd",
   "metadata": {
    "scrolled": true
   },
   "outputs": [
    {
     "name": "stdout",
     "output_type": "stream",
     "text": [
      "File: C:\\MED-PC\\Data\\2022-07-13_20h03m_Subject .txt\n",
      "\n",
      "\n",
      "\n",
      "\n",
      "\n",
      "\n",
      "\n",
      "Start Date: 07/13/22\n",
      "\n",
      "End Date: 07/13/22\n",
      "\n",
      "Subject: \n",
      "\n",
      "Experiment: \n",
      "\n",
      "Group: \n",
      "\n",
      "Box: 1\n",
      "\n",
      "Start Time: 20:03:12\n",
      "\n",
      "End Time: 20:09:03\n",
      "\n",
      "MSN: C57_reward_competition\n",
      "\n",
      "A:    3899.000\n",
      "\n",
      "D:    7500.000\n",
      "\n",
      "E:       0.000\n",
      "\n",
      "L:       0.000\n",
      "\n",
      "M:       0.000\n",
      "\n",
      "O:       0.000\n",
      "\n",
      "T:     349.920\n",
      "\n"
     ]
    }
   ],
   "source": [
    "with open(all_med_pc_file[0]) as f:\n",
    "    lines = f.readlines()\n",
    "    for line in lines[:20]:\n",
    "        print(line)"
   ]
  },
  {
   "cell_type": "markdown",
   "id": "3480b276",
   "metadata": {},
   "source": [
    "- **Please make sure that the corresponding `.mpc` file (aka the MED-PC script) that was ran to create the log file, is also in the same folder**"
   ]
  },
  {
   "cell_type": "code",
   "execution_count": null,
   "id": "e7afabfc",
   "metadata": {},
   "outputs": [],
   "source": []
  },
  {
   "cell_type": "code",
   "execution_count": 16,
   "id": "0c38d1eb",
   "metadata": {
    "scrolled": false
   },
   "outputs": [],
   "source": [
    "concatted_medpc_df = extract.dataframe.get_medpc_dataframe_from_list_of_files(medpc_files=all_med_pc_file)\n",
    "concatted_medpc_df = concatted_medpc_df.reset_index(drop=True)"
   ]
  },
  {
   "cell_type": "code",
   "execution_count": 17,
   "id": "f9339573",
   "metadata": {},
   "outputs": [
    {
     "data": {
      "text/html": [
       "<div>\n",
       "<style scoped>\n",
       "    .dataframe tbody tr th:only-of-type {\n",
       "        vertical-align: middle;\n",
       "    }\n",
       "\n",
       "    .dataframe tbody tr th {\n",
       "        vertical-align: top;\n",
       "    }\n",
       "\n",
       "    .dataframe thead th {\n",
       "        text-align: right;\n",
       "    }\n",
       "</style>\n",
       "<table border=\"1\" class=\"dataframe\">\n",
       "  <thead>\n",
       "    <tr style=\"text-align: right;\">\n",
       "      <th></th>\n",
       "      <th>(P)Portentry</th>\n",
       "      <th>(Q)USdelivery</th>\n",
       "      <th>(R)UStime</th>\n",
       "      <th>(W)ITIvalues</th>\n",
       "      <th>(S)CSpresentation</th>\n",
       "      <th>(N)Portexit</th>\n",
       "      <th>(K)CStype</th>\n",
       "      <th>(G)controlled_stimulus_secondscomputer</th>\n",
       "      <th>(H)controlled_stimulus_minutescomputer</th>\n",
       "      <th>(I)controlled_stimulus_hourscomputer</th>\n",
       "      <th>(B)port_entry_secondscomputer</th>\n",
       "      <th>(F)port_entry_minutescomputer</th>\n",
       "      <th>(J)port_entry_hourscomputer</th>\n",
       "      <th>date</th>\n",
       "      <th>subject</th>\n",
       "      <th>file_path</th>\n",
       "    </tr>\n",
       "  </thead>\n",
       "  <tbody>\n",
       "    <tr>\n",
       "      <th>0</th>\n",
       "      <td>75.47</td>\n",
       "      <td>64.0</td>\n",
       "      <td>399.0</td>\n",
       "      <td>0.0</td>\n",
       "      <td>60.01</td>\n",
       "      <td>76.09</td>\n",
       "      <td>1.0</td>\n",
       "      <td>13.0</td>\n",
       "      <td>4.0</td>\n",
       "      <td>20.0</td>\n",
       "      <td>28.0</td>\n",
       "      <td>4.0</td>\n",
       "      <td>20.0</td>\n",
       "      <td>20220713</td>\n",
       "      <td></td>\n",
       "      <td>./data/automatic_30_min_end_test/2022-07-13_20...</td>\n",
       "    </tr>\n",
       "    <tr>\n",
       "      <th>1</th>\n",
       "      <td>110.92</td>\n",
       "      <td>144.0</td>\n",
       "      <td>399.0</td>\n",
       "      <td>0.0</td>\n",
       "      <td>140.01</td>\n",
       "      <td>111.35</td>\n",
       "      <td>1.0</td>\n",
       "      <td>33.0</td>\n",
       "      <td>5.0</td>\n",
       "      <td>20.0</td>\n",
       "      <td>4.0</td>\n",
       "      <td>5.0</td>\n",
       "      <td>20.0</td>\n",
       "      <td>20220713</td>\n",
       "      <td></td>\n",
       "      <td>./data/automatic_30_min_end_test/2022-07-13_20...</td>\n",
       "    </tr>\n",
       "    <tr>\n",
       "      <th>2</th>\n",
       "      <td>185.83</td>\n",
       "      <td>234.0</td>\n",
       "      <td>399.0</td>\n",
       "      <td>0.0</td>\n",
       "      <td>230.01</td>\n",
       "      <td>186.37</td>\n",
       "      <td>1.0</td>\n",
       "      <td>3.0</td>\n",
       "      <td>7.0</td>\n",
       "      <td>20.0</td>\n",
       "      <td>19.0</td>\n",
       "      <td>6.0</td>\n",
       "      <td>20.0</td>\n",
       "      <td>20220713</td>\n",
       "      <td></td>\n",
       "      <td>./data/automatic_30_min_end_test/2022-07-13_20...</td>\n",
       "    </tr>\n",
       "    <tr>\n",
       "      <th>3</th>\n",
       "      <td>257.49</td>\n",
       "      <td>314.0</td>\n",
       "      <td>399.0</td>\n",
       "      <td>0.0</td>\n",
       "      <td>310.01</td>\n",
       "      <td>258.08</td>\n",
       "      <td>1.0</td>\n",
       "      <td>23.0</td>\n",
       "      <td>8.0</td>\n",
       "      <td>20.0</td>\n",
       "      <td>31.0</td>\n",
       "      <td>7.0</td>\n",
       "      <td>20.0</td>\n",
       "      <td>20220713</td>\n",
       "      <td></td>\n",
       "      <td>./data/automatic_30_min_end_test/2022-07-13_20...</td>\n",
       "    </tr>\n",
       "    <tr>\n",
       "      <th>4</th>\n",
       "      <td>270.67</td>\n",
       "      <td>NaN</td>\n",
       "      <td>NaN</td>\n",
       "      <td>0.0</td>\n",
       "      <td>8000.00</td>\n",
       "      <td>271.50</td>\n",
       "      <td>0.0</td>\n",
       "      <td>0.0</td>\n",
       "      <td>0.0</td>\n",
       "      <td>0.0</td>\n",
       "      <td>44.0</td>\n",
       "      <td>7.0</td>\n",
       "      <td>20.0</td>\n",
       "      <td>20220713</td>\n",
       "      <td></td>\n",
       "      <td>./data/automatic_30_min_end_test/2022-07-13_20...</td>\n",
       "    </tr>\n",
       "  </tbody>\n",
       "</table>\n",
       "</div>"
      ],
      "text/plain": [
       "   (P)Portentry  (Q)USdelivery  (R)UStime  (W)ITIvalues  (S)CSpresentation  \\\n",
       "0         75.47           64.0      399.0           0.0              60.01   \n",
       "1        110.92          144.0      399.0           0.0             140.01   \n",
       "2        185.83          234.0      399.0           0.0             230.01   \n",
       "3        257.49          314.0      399.0           0.0             310.01   \n",
       "4        270.67            NaN        NaN           0.0            8000.00   \n",
       "\n",
       "   (N)Portexit  (K)CStype  (G)controlled_stimulus_secondscomputer  \\\n",
       "0        76.09        1.0                                    13.0   \n",
       "1       111.35        1.0                                    33.0   \n",
       "2       186.37        1.0                                     3.0   \n",
       "3       258.08        1.0                                    23.0   \n",
       "4       271.50        0.0                                     0.0   \n",
       "\n",
       "   (H)controlled_stimulus_minutescomputer  \\\n",
       "0                                     4.0   \n",
       "1                                     5.0   \n",
       "2                                     7.0   \n",
       "3                                     8.0   \n",
       "4                                     0.0   \n",
       "\n",
       "   (I)controlled_stimulus_hourscomputer  (B)port_entry_secondscomputer  \\\n",
       "0                                  20.0                           28.0   \n",
       "1                                  20.0                            4.0   \n",
       "2                                  20.0                           19.0   \n",
       "3                                  20.0                           31.0   \n",
       "4                                   0.0                           44.0   \n",
       "\n",
       "   (F)port_entry_minutescomputer  (J)port_entry_hourscomputer      date  \\\n",
       "0                            4.0                         20.0  20220713   \n",
       "1                            5.0                         20.0  20220713   \n",
       "2                            6.0                         20.0  20220713   \n",
       "3                            7.0                         20.0  20220713   \n",
       "4                            7.0                         20.0  20220713   \n",
       "\n",
       "  subject                                          file_path  \n",
       "0          ./data/automatic_30_min_end_test/2022-07-13_20...  \n",
       "1          ./data/automatic_30_min_end_test/2022-07-13_20...  \n",
       "2          ./data/automatic_30_min_end_test/2022-07-13_20...  \n",
       "3          ./data/automatic_30_min_end_test/2022-07-13_20...  \n",
       "4          ./data/automatic_30_min_end_test/2022-07-13_20...  "
      ]
     },
     "execution_count": 17,
     "metadata": {},
     "output_type": "execute_result"
    }
   ],
   "source": [
    "concatted_medpc_df.head()"
   ]
  },
  {
   "cell_type": "code",
   "execution_count": 18,
   "id": "d65c4236",
   "metadata": {},
   "outputs": [
    {
     "data": {
      "text/html": [
       "<div>\n",
       "<style scoped>\n",
       "    .dataframe tbody tr th:only-of-type {\n",
       "        vertical-align: middle;\n",
       "    }\n",
       "\n",
       "    .dataframe tbody tr th {\n",
       "        vertical-align: top;\n",
       "    }\n",
       "\n",
       "    .dataframe thead th {\n",
       "        text-align: right;\n",
       "    }\n",
       "</style>\n",
       "<table border=\"1\" class=\"dataframe\">\n",
       "  <thead>\n",
       "    <tr style=\"text-align: right;\">\n",
       "      <th></th>\n",
       "      <th>(P)Portentry</th>\n",
       "      <th>(Q)USdelivery</th>\n",
       "      <th>(R)UStime</th>\n",
       "      <th>(W)ITIvalues</th>\n",
       "      <th>(S)CSpresentation</th>\n",
       "      <th>(N)Portexit</th>\n",
       "      <th>(K)CStype</th>\n",
       "      <th>(G)controlled_stimulus_secondscomputer</th>\n",
       "      <th>(H)controlled_stimulus_minutescomputer</th>\n",
       "      <th>(I)controlled_stimulus_hourscomputer</th>\n",
       "      <th>(B)port_entry_secondscomputer</th>\n",
       "      <th>(F)port_entry_minutescomputer</th>\n",
       "      <th>(J)port_entry_hourscomputer</th>\n",
       "      <th>date</th>\n",
       "      <th>subject</th>\n",
       "      <th>file_path</th>\n",
       "    </tr>\n",
       "  </thead>\n",
       "  <tbody>\n",
       "    <tr>\n",
       "      <th>2507</th>\n",
       "      <td>NaN</td>\n",
       "      <td>NaN</td>\n",
       "      <td>NaN</td>\n",
       "      <td>NaN</td>\n",
       "      <td>NaN</td>\n",
       "      <td>NaN</td>\n",
       "      <td>NaN</td>\n",
       "      <td>NaN</td>\n",
       "      <td>NaN</td>\n",
       "      <td>NaN</td>\n",
       "      <td>0.0</td>\n",
       "      <td>NaN</td>\n",
       "      <td>NaN</td>\n",
       "      <td>20220713</td>\n",
       "      <td></td>\n",
       "      <td>./data/automatic_30_min_end_test/2022-07-13_20...</td>\n",
       "    </tr>\n",
       "    <tr>\n",
       "      <th>2508</th>\n",
       "      <td>NaN</td>\n",
       "      <td>NaN</td>\n",
       "      <td>NaN</td>\n",
       "      <td>NaN</td>\n",
       "      <td>NaN</td>\n",
       "      <td>NaN</td>\n",
       "      <td>NaN</td>\n",
       "      <td>NaN</td>\n",
       "      <td>NaN</td>\n",
       "      <td>NaN</td>\n",
       "      <td>0.0</td>\n",
       "      <td>NaN</td>\n",
       "      <td>NaN</td>\n",
       "      <td>20220713</td>\n",
       "      <td></td>\n",
       "      <td>./data/automatic_30_min_end_test/2022-07-13_20...</td>\n",
       "    </tr>\n",
       "    <tr>\n",
       "      <th>2509</th>\n",
       "      <td>NaN</td>\n",
       "      <td>NaN</td>\n",
       "      <td>NaN</td>\n",
       "      <td>NaN</td>\n",
       "      <td>NaN</td>\n",
       "      <td>NaN</td>\n",
       "      <td>NaN</td>\n",
       "      <td>NaN</td>\n",
       "      <td>NaN</td>\n",
       "      <td>NaN</td>\n",
       "      <td>4.0</td>\n",
       "      <td>NaN</td>\n",
       "      <td>NaN</td>\n",
       "      <td>20220713</td>\n",
       "      <td></td>\n",
       "      <td>./data/automatic_30_min_end_test/2022-07-13_20...</td>\n",
       "    </tr>\n",
       "    <tr>\n",
       "      <th>2510</th>\n",
       "      <td>NaN</td>\n",
       "      <td>NaN</td>\n",
       "      <td>NaN</td>\n",
       "      <td>NaN</td>\n",
       "      <td>NaN</td>\n",
       "      <td>NaN</td>\n",
       "      <td>NaN</td>\n",
       "      <td>NaN</td>\n",
       "      <td>NaN</td>\n",
       "      <td>NaN</td>\n",
       "      <td>0.0</td>\n",
       "      <td>NaN</td>\n",
       "      <td>NaN</td>\n",
       "      <td>20220713</td>\n",
       "      <td></td>\n",
       "      <td>./data/automatic_30_min_end_test/2022-07-13_20...</td>\n",
       "    </tr>\n",
       "    <tr>\n",
       "      <th>2511</th>\n",
       "      <td>NaN</td>\n",
       "      <td>NaN</td>\n",
       "      <td>NaN</td>\n",
       "      <td>NaN</td>\n",
       "      <td>NaN</td>\n",
       "      <td>NaN</td>\n",
       "      <td>NaN</td>\n",
       "      <td>NaN</td>\n",
       "      <td>NaN</td>\n",
       "      <td>NaN</td>\n",
       "      <td>0.0</td>\n",
       "      <td>NaN</td>\n",
       "      <td>NaN</td>\n",
       "      <td>20220713</td>\n",
       "      <td></td>\n",
       "      <td>./data/automatic_30_min_end_test/2022-07-13_20...</td>\n",
       "    </tr>\n",
       "  </tbody>\n",
       "</table>\n",
       "</div>"
      ],
      "text/plain": [
       "      (P)Portentry  (Q)USdelivery  (R)UStime  (W)ITIvalues  (S)CSpresentation  \\\n",
       "2507           NaN            NaN        NaN           NaN                NaN   \n",
       "2508           NaN            NaN        NaN           NaN                NaN   \n",
       "2509           NaN            NaN        NaN           NaN                NaN   \n",
       "2510           NaN            NaN        NaN           NaN                NaN   \n",
       "2511           NaN            NaN        NaN           NaN                NaN   \n",
       "\n",
       "      (N)Portexit  (K)CStype  (G)controlled_stimulus_secondscomputer  \\\n",
       "2507          NaN        NaN                                     NaN   \n",
       "2508          NaN        NaN                                     NaN   \n",
       "2509          NaN        NaN                                     NaN   \n",
       "2510          NaN        NaN                                     NaN   \n",
       "2511          NaN        NaN                                     NaN   \n",
       "\n",
       "      (H)controlled_stimulus_minutescomputer  \\\n",
       "2507                                     NaN   \n",
       "2508                                     NaN   \n",
       "2509                                     NaN   \n",
       "2510                                     NaN   \n",
       "2511                                     NaN   \n",
       "\n",
       "      (I)controlled_stimulus_hourscomputer  (B)port_entry_secondscomputer  \\\n",
       "2507                                   NaN                            0.0   \n",
       "2508                                   NaN                            0.0   \n",
       "2509                                   NaN                            4.0   \n",
       "2510                                   NaN                            0.0   \n",
       "2511                                   NaN                            0.0   \n",
       "\n",
       "      (F)port_entry_minutescomputer  (J)port_entry_hourscomputer      date  \\\n",
       "2507                            NaN                          NaN  20220713   \n",
       "2508                            NaN                          NaN  20220713   \n",
       "2509                            NaN                          NaN  20220713   \n",
       "2510                            NaN                          NaN  20220713   \n",
       "2511                            NaN                          NaN  20220713   \n",
       "\n",
       "     subject                                          file_path  \n",
       "2507          ./data/automatic_30_min_end_test/2022-07-13_20...  \n",
       "2508          ./data/automatic_30_min_end_test/2022-07-13_20...  \n",
       "2509          ./data/automatic_30_min_end_test/2022-07-13_20...  \n",
       "2510          ./data/automatic_30_min_end_test/2022-07-13_20...  \n",
       "2511          ./data/automatic_30_min_end_test/2022-07-13_20...  "
      ]
     },
     "execution_count": 18,
     "metadata": {},
     "output_type": "execute_result"
    }
   ],
   "source": [
    "concatted_medpc_df.tail()"
   ]
  },
  {
   "cell_type": "markdown",
   "id": "faf9155d",
   "metadata": {},
   "source": [
    "- Dropping all rows that don't have the CS presentation time"
   ]
  },
  {
   "cell_type": "code",
   "execution_count": 19,
   "id": "c0067591",
   "metadata": {
    "scrolled": true
   },
   "outputs": [],
   "source": [
    "cs_time_df = concatted_medpc_df[concatted_medpc_df[\"(F)port_entry_minutescomputer\"] != 0.0].dropna(subset=\"(F)port_entry_minutescomputer\")"
   ]
  },
  {
   "cell_type": "code",
   "execution_count": 20,
   "id": "b96708e1",
   "metadata": {},
   "outputs": [
    {
     "data": {
      "text/plain": [
       "array(['./data/automatic_30_min_end_test/2022-07-13_20h03m_Subject .txt'],\n",
       "      dtype=object)"
      ]
     },
     "execution_count": 20,
     "metadata": {},
     "output_type": "execute_result"
    }
   ],
   "source": [
    "cs_time_df[\"file_path\"].unique()"
   ]
  },
  {
   "cell_type": "markdown",
   "id": "39b836dd",
   "metadata": {},
   "source": [
    "# Making a column for the Controlle Stimulus time"
   ]
  },
  {
   "cell_type": "markdown",
   "id": "76a67b79",
   "metadata": {},
   "source": [
    "- Because the hour, the minute, and the seconds are all in different columns we will combine them into one"
   ]
  },
  {
   "cell_type": "code",
   "execution_count": 21,
   "id": "29acd960",
   "metadata": {},
   "outputs": [
    {
     "data": {
      "text/plain": [
       "Index(['(P)Portentry', '(Q)USdelivery', '(R)UStime', '(W)ITIvalues',\n",
       "       '(S)CSpresentation', '(N)Portexit', '(K)CStype',\n",
       "       '(G)controlled_stimulus_secondscomputer',\n",
       "       '(H)controlled_stimulus_minutescomputer',\n",
       "       '(I)controlled_stimulus_hourscomputer', '(B)port_entry_secondscomputer',\n",
       "       '(F)port_entry_minutescomputer', '(J)port_entry_hourscomputer', 'date',\n",
       "       'subject', 'file_path'],\n",
       "      dtype='object')"
      ]
     },
     "execution_count": 21,
     "metadata": {},
     "output_type": "execute_result"
    }
   ],
   "source": [
    "cs_time_df.columns"
   ]
  },
  {
   "cell_type": "markdown",
   "id": "4f5c97dd",
   "metadata": {},
   "source": [
    "- Making the numbers for hours, minutes, and seconds into whole numbers"
   ]
  },
  {
   "cell_type": "code",
   "execution_count": 22,
   "id": "c84b6279",
   "metadata": {},
   "outputs": [],
   "source": [
    "cs_time_df[\"cs_second\"] = cs_time_df[\"(G)controlled_stimulus_secondscomputer\"].astype(int).astype(str)\n",
    "cs_time_df[\"cs_minute\"] = cs_time_df[\"(H)controlled_stimulus_minutescomputer\"].astype(int).astype(str)\n",
    "cs_time_df[\"cs_hour\"] = cs_time_df[\"(I)controlled_stimulus_hourscomputer\"].astype(int).astype(str)\n"
   ]
  },
  {
   "cell_type": "markdown",
   "id": "a8fe568a",
   "metadata": {},
   "source": [
    "- Combining the hours, minutes, and seconds into one column as a string"
   ]
  },
  {
   "cell_type": "code",
   "execution_count": 23,
   "id": "c1f66194",
   "metadata": {},
   "outputs": [],
   "source": [
    "cs_time_df[\"cs_time_str\"] = cs_time_df.apply(lambda x: \":\".join([x[\"cs_hour\"], x[\"cs_minute\"],  x[\"cs_second\"]]), axis=1)"
   ]
  },
  {
   "cell_type": "markdown",
   "id": "440c4041",
   "metadata": {},
   "source": [
    "- Converting the time into a Python datetime object\n",
    "    - This will allow us to make calculations"
   ]
  },
  {
   "cell_type": "code",
   "execution_count": 24,
   "id": "3350191f",
   "metadata": {},
   "outputs": [],
   "source": [
    "cs_time_df[\"cs_time_object\"] = cs_time_df[\"cs_time_str\"].apply(lambda x: datetime.strptime(x, '%H:%M:%S'))\n"
   ]
  },
  {
   "cell_type": "code",
   "execution_count": 25,
   "id": "4869260e",
   "metadata": {
    "scrolled": true
   },
   "outputs": [
    {
     "data": {
      "text/html": [
       "<div>\n",
       "<style scoped>\n",
       "    .dataframe tbody tr th:only-of-type {\n",
       "        vertical-align: middle;\n",
       "    }\n",
       "\n",
       "    .dataframe tbody tr th {\n",
       "        vertical-align: top;\n",
       "    }\n",
       "\n",
       "    .dataframe thead th {\n",
       "        text-align: right;\n",
       "    }\n",
       "</style>\n",
       "<table border=\"1\" class=\"dataframe\">\n",
       "  <thead>\n",
       "    <tr style=\"text-align: right;\">\n",
       "      <th></th>\n",
       "      <th>(P)Portentry</th>\n",
       "      <th>(Q)USdelivery</th>\n",
       "      <th>(R)UStime</th>\n",
       "      <th>(W)ITIvalues</th>\n",
       "      <th>(S)CSpresentation</th>\n",
       "      <th>(N)Portexit</th>\n",
       "      <th>(K)CStype</th>\n",
       "      <th>(G)controlled_stimulus_secondscomputer</th>\n",
       "      <th>(H)controlled_stimulus_minutescomputer</th>\n",
       "      <th>(I)controlled_stimulus_hourscomputer</th>\n",
       "      <th>...</th>\n",
       "      <th>(F)port_entry_minutescomputer</th>\n",
       "      <th>(J)port_entry_hourscomputer</th>\n",
       "      <th>date</th>\n",
       "      <th>subject</th>\n",
       "      <th>file_path</th>\n",
       "      <th>cs_second</th>\n",
       "      <th>cs_minute</th>\n",
       "      <th>cs_hour</th>\n",
       "      <th>cs_time_str</th>\n",
       "      <th>cs_time_object</th>\n",
       "    </tr>\n",
       "  </thead>\n",
       "  <tbody>\n",
       "    <tr>\n",
       "      <th>0</th>\n",
       "      <td>75.47</td>\n",
       "      <td>64.0</td>\n",
       "      <td>399.0</td>\n",
       "      <td>0.0</td>\n",
       "      <td>60.01</td>\n",
       "      <td>76.09</td>\n",
       "      <td>1.0</td>\n",
       "      <td>13.0</td>\n",
       "      <td>4.0</td>\n",
       "      <td>20.0</td>\n",
       "      <td>...</td>\n",
       "      <td>4.0</td>\n",
       "      <td>20.0</td>\n",
       "      <td>20220713</td>\n",
       "      <td></td>\n",
       "      <td>./data/automatic_30_min_end_test/2022-07-13_20...</td>\n",
       "      <td>13</td>\n",
       "      <td>4</td>\n",
       "      <td>20</td>\n",
       "      <td>20:4:13</td>\n",
       "      <td>1900-01-01 20:04:13</td>\n",
       "    </tr>\n",
       "    <tr>\n",
       "      <th>1</th>\n",
       "      <td>110.92</td>\n",
       "      <td>144.0</td>\n",
       "      <td>399.0</td>\n",
       "      <td>0.0</td>\n",
       "      <td>140.01</td>\n",
       "      <td>111.35</td>\n",
       "      <td>1.0</td>\n",
       "      <td>33.0</td>\n",
       "      <td>5.0</td>\n",
       "      <td>20.0</td>\n",
       "      <td>...</td>\n",
       "      <td>5.0</td>\n",
       "      <td>20.0</td>\n",
       "      <td>20220713</td>\n",
       "      <td></td>\n",
       "      <td>./data/automatic_30_min_end_test/2022-07-13_20...</td>\n",
       "      <td>33</td>\n",
       "      <td>5</td>\n",
       "      <td>20</td>\n",
       "      <td>20:5:33</td>\n",
       "      <td>1900-01-01 20:05:33</td>\n",
       "    </tr>\n",
       "    <tr>\n",
       "      <th>2</th>\n",
       "      <td>185.83</td>\n",
       "      <td>234.0</td>\n",
       "      <td>399.0</td>\n",
       "      <td>0.0</td>\n",
       "      <td>230.01</td>\n",
       "      <td>186.37</td>\n",
       "      <td>1.0</td>\n",
       "      <td>3.0</td>\n",
       "      <td>7.0</td>\n",
       "      <td>20.0</td>\n",
       "      <td>...</td>\n",
       "      <td>6.0</td>\n",
       "      <td>20.0</td>\n",
       "      <td>20220713</td>\n",
       "      <td></td>\n",
       "      <td>./data/automatic_30_min_end_test/2022-07-13_20...</td>\n",
       "      <td>3</td>\n",
       "      <td>7</td>\n",
       "      <td>20</td>\n",
       "      <td>20:7:3</td>\n",
       "      <td>1900-01-01 20:07:03</td>\n",
       "    </tr>\n",
       "    <tr>\n",
       "      <th>3</th>\n",
       "      <td>257.49</td>\n",
       "      <td>314.0</td>\n",
       "      <td>399.0</td>\n",
       "      <td>0.0</td>\n",
       "      <td>310.01</td>\n",
       "      <td>258.08</td>\n",
       "      <td>1.0</td>\n",
       "      <td>23.0</td>\n",
       "      <td>8.0</td>\n",
       "      <td>20.0</td>\n",
       "      <td>...</td>\n",
       "      <td>7.0</td>\n",
       "      <td>20.0</td>\n",
       "      <td>20220713</td>\n",
       "      <td></td>\n",
       "      <td>./data/automatic_30_min_end_test/2022-07-13_20...</td>\n",
       "      <td>23</td>\n",
       "      <td>8</td>\n",
       "      <td>20</td>\n",
       "      <td>20:8:23</td>\n",
       "      <td>1900-01-01 20:08:23</td>\n",
       "    </tr>\n",
       "    <tr>\n",
       "      <th>4</th>\n",
       "      <td>270.67</td>\n",
       "      <td>NaN</td>\n",
       "      <td>NaN</td>\n",
       "      <td>0.0</td>\n",
       "      <td>8000.00</td>\n",
       "      <td>271.50</td>\n",
       "      <td>0.0</td>\n",
       "      <td>0.0</td>\n",
       "      <td>0.0</td>\n",
       "      <td>0.0</td>\n",
       "      <td>...</td>\n",
       "      <td>7.0</td>\n",
       "      <td>20.0</td>\n",
       "      <td>20220713</td>\n",
       "      <td></td>\n",
       "      <td>./data/automatic_30_min_end_test/2022-07-13_20...</td>\n",
       "      <td>0</td>\n",
       "      <td>0</td>\n",
       "      <td>0</td>\n",
       "      <td>0:0:0</td>\n",
       "      <td>1900-01-01 00:00:00</td>\n",
       "    </tr>\n",
       "    <tr>\n",
       "      <th>5</th>\n",
       "      <td>307.10</td>\n",
       "      <td>NaN</td>\n",
       "      <td>NaN</td>\n",
       "      <td>0.0</td>\n",
       "      <td>9000.00</td>\n",
       "      <td>307.91</td>\n",
       "      <td>0.0</td>\n",
       "      <td>0.0</td>\n",
       "      <td>0.0</td>\n",
       "      <td>0.0</td>\n",
       "      <td>...</td>\n",
       "      <td>8.0</td>\n",
       "      <td>20.0</td>\n",
       "      <td>20220713</td>\n",
       "      <td></td>\n",
       "      <td>./data/automatic_30_min_end_test/2022-07-13_20...</td>\n",
       "      <td>0</td>\n",
       "      <td>0</td>\n",
       "      <td>0</td>\n",
       "      <td>0:0:0</td>\n",
       "      <td>1900-01-01 00:00:00</td>\n",
       "    </tr>\n",
       "    <tr>\n",
       "      <th>6</th>\n",
       "      <td>329.32</td>\n",
       "      <td>NaN</td>\n",
       "      <td>NaN</td>\n",
       "      <td>0.0</td>\n",
       "      <td>8000.00</td>\n",
       "      <td>330.08</td>\n",
       "      <td>0.0</td>\n",
       "      <td>0.0</td>\n",
       "      <td>0.0</td>\n",
       "      <td>0.0</td>\n",
       "      <td>...</td>\n",
       "      <td>8.0</td>\n",
       "      <td>20.0</td>\n",
       "      <td>20220713</td>\n",
       "      <td></td>\n",
       "      <td>./data/automatic_30_min_end_test/2022-07-13_20...</td>\n",
       "      <td>0</td>\n",
       "      <td>0</td>\n",
       "      <td>0</td>\n",
       "      <td>0:0:0</td>\n",
       "      <td>1900-01-01 00:00:00</td>\n",
       "    </tr>\n",
       "    <tr>\n",
       "      <th>7</th>\n",
       "      <td>332.74</td>\n",
       "      <td>NaN</td>\n",
       "      <td>NaN</td>\n",
       "      <td>0.0</td>\n",
       "      <td>7500.00</td>\n",
       "      <td>333.61</td>\n",
       "      <td>0.0</td>\n",
       "      <td>0.0</td>\n",
       "      <td>0.0</td>\n",
       "      <td>0.0</td>\n",
       "      <td>...</td>\n",
       "      <td>8.0</td>\n",
       "      <td>20.0</td>\n",
       "      <td>20220713</td>\n",
       "      <td></td>\n",
       "      <td>./data/automatic_30_min_end_test/2022-07-13_20...</td>\n",
       "      <td>0</td>\n",
       "      <td>0</td>\n",
       "      <td>0</td>\n",
       "      <td>0:0:0</td>\n",
       "      <td>1900-01-01 00:00:00</td>\n",
       "    </tr>\n",
       "    <tr>\n",
       "      <th>8</th>\n",
       "      <td>337.10</td>\n",
       "      <td>NaN</td>\n",
       "      <td>NaN</td>\n",
       "      <td>0.0</td>\n",
       "      <td>10000.00</td>\n",
       "      <td>337.62</td>\n",
       "      <td>0.0</td>\n",
       "      <td>0.0</td>\n",
       "      <td>0.0</td>\n",
       "      <td>0.0</td>\n",
       "      <td>...</td>\n",
       "      <td>8.0</td>\n",
       "      <td>20.0</td>\n",
       "      <td>20220713</td>\n",
       "      <td></td>\n",
       "      <td>./data/automatic_30_min_end_test/2022-07-13_20...</td>\n",
       "      <td>0</td>\n",
       "      <td>0</td>\n",
       "      <td>0</td>\n",
       "      <td>0:0:0</td>\n",
       "      <td>1900-01-01 00:00:00</td>\n",
       "    </tr>\n",
       "    <tr>\n",
       "      <th>9</th>\n",
       "      <td>341.29</td>\n",
       "      <td>NaN</td>\n",
       "      <td>NaN</td>\n",
       "      <td>0.0</td>\n",
       "      <td>9500.00</td>\n",
       "      <td>341.97</td>\n",
       "      <td>0.0</td>\n",
       "      <td>0.0</td>\n",
       "      <td>0.0</td>\n",
       "      <td>0.0</td>\n",
       "      <td>...</td>\n",
       "      <td>8.0</td>\n",
       "      <td>20.0</td>\n",
       "      <td>20220713</td>\n",
       "      <td></td>\n",
       "      <td>./data/automatic_30_min_end_test/2022-07-13_20...</td>\n",
       "      <td>0</td>\n",
       "      <td>0</td>\n",
       "      <td>0</td>\n",
       "      <td>0:0:0</td>\n",
       "      <td>1900-01-01 00:00:00</td>\n",
       "    </tr>\n",
       "  </tbody>\n",
       "</table>\n",
       "<p>10 rows × 21 columns</p>\n",
       "</div>"
      ],
      "text/plain": [
       "   (P)Portentry  (Q)USdelivery  (R)UStime  (W)ITIvalues  (S)CSpresentation  \\\n",
       "0         75.47           64.0      399.0           0.0              60.01   \n",
       "1        110.92          144.0      399.0           0.0             140.01   \n",
       "2        185.83          234.0      399.0           0.0             230.01   \n",
       "3        257.49          314.0      399.0           0.0             310.01   \n",
       "4        270.67            NaN        NaN           0.0            8000.00   \n",
       "5        307.10            NaN        NaN           0.0            9000.00   \n",
       "6        329.32            NaN        NaN           0.0            8000.00   \n",
       "7        332.74            NaN        NaN           0.0            7500.00   \n",
       "8        337.10            NaN        NaN           0.0           10000.00   \n",
       "9        341.29            NaN        NaN           0.0            9500.00   \n",
       "\n",
       "   (N)Portexit  (K)CStype  (G)controlled_stimulus_secondscomputer  \\\n",
       "0        76.09        1.0                                    13.0   \n",
       "1       111.35        1.0                                    33.0   \n",
       "2       186.37        1.0                                     3.0   \n",
       "3       258.08        1.0                                    23.0   \n",
       "4       271.50        0.0                                     0.0   \n",
       "5       307.91        0.0                                     0.0   \n",
       "6       330.08        0.0                                     0.0   \n",
       "7       333.61        0.0                                     0.0   \n",
       "8       337.62        0.0                                     0.0   \n",
       "9       341.97        0.0                                     0.0   \n",
       "\n",
       "   (H)controlled_stimulus_minutescomputer  \\\n",
       "0                                     4.0   \n",
       "1                                     5.0   \n",
       "2                                     7.0   \n",
       "3                                     8.0   \n",
       "4                                     0.0   \n",
       "5                                     0.0   \n",
       "6                                     0.0   \n",
       "7                                     0.0   \n",
       "8                                     0.0   \n",
       "9                                     0.0   \n",
       "\n",
       "   (I)controlled_stimulus_hourscomputer  ...  (F)port_entry_minutescomputer  \\\n",
       "0                                  20.0  ...                            4.0   \n",
       "1                                  20.0  ...                            5.0   \n",
       "2                                  20.0  ...                            6.0   \n",
       "3                                  20.0  ...                            7.0   \n",
       "4                                   0.0  ...                            7.0   \n",
       "5                                   0.0  ...                            8.0   \n",
       "6                                   0.0  ...                            8.0   \n",
       "7                                   0.0  ...                            8.0   \n",
       "8                                   0.0  ...                            8.0   \n",
       "9                                   0.0  ...                            8.0   \n",
       "\n",
       "   (J)port_entry_hourscomputer      date subject  \\\n",
       "0                         20.0  20220713           \n",
       "1                         20.0  20220713           \n",
       "2                         20.0  20220713           \n",
       "3                         20.0  20220713           \n",
       "4                         20.0  20220713           \n",
       "5                         20.0  20220713           \n",
       "6                         20.0  20220713           \n",
       "7                         20.0  20220713           \n",
       "8                         20.0  20220713           \n",
       "9                         20.0  20220713           \n",
       "\n",
       "                                           file_path cs_second cs_minute  \\\n",
       "0  ./data/automatic_30_min_end_test/2022-07-13_20...        13         4   \n",
       "1  ./data/automatic_30_min_end_test/2022-07-13_20...        33         5   \n",
       "2  ./data/automatic_30_min_end_test/2022-07-13_20...         3         7   \n",
       "3  ./data/automatic_30_min_end_test/2022-07-13_20...        23         8   \n",
       "4  ./data/automatic_30_min_end_test/2022-07-13_20...         0         0   \n",
       "5  ./data/automatic_30_min_end_test/2022-07-13_20...         0         0   \n",
       "6  ./data/automatic_30_min_end_test/2022-07-13_20...         0         0   \n",
       "7  ./data/automatic_30_min_end_test/2022-07-13_20...         0         0   \n",
       "8  ./data/automatic_30_min_end_test/2022-07-13_20...         0         0   \n",
       "9  ./data/automatic_30_min_end_test/2022-07-13_20...         0         0   \n",
       "\n",
       "  cs_hour cs_time_str      cs_time_object  \n",
       "0      20     20:4:13 1900-01-01 20:04:13  \n",
       "1      20     20:5:33 1900-01-01 20:05:33  \n",
       "2      20      20:7:3 1900-01-01 20:07:03  \n",
       "3      20     20:8:23 1900-01-01 20:08:23  \n",
       "4       0       0:0:0 1900-01-01 00:00:00  \n",
       "5       0       0:0:0 1900-01-01 00:00:00  \n",
       "6       0       0:0:0 1900-01-01 00:00:00  \n",
       "7       0       0:0:0 1900-01-01 00:00:00  \n",
       "8       0       0:0:0 1900-01-01 00:00:00  \n",
       "9       0       0:0:0 1900-01-01 00:00:00  \n",
       "\n",
       "[10 rows x 21 columns]"
      ]
     },
     "execution_count": 25,
     "metadata": {},
     "output_type": "execute_result"
    }
   ],
   "source": [
    "cs_time_df"
   ]
  },
  {
   "cell_type": "markdown",
   "id": "2b949275",
   "metadata": {},
   "source": [
    "# Making a column for the Port Entry time"
   ]
  },
  {
   "cell_type": "markdown",
   "id": "5b166247",
   "metadata": {},
   "source": [
    "- Because the hour, the minute, and the seconds are all in different columns we will combine them into one"
   ]
  },
  {
   "cell_type": "code",
   "execution_count": 26,
   "id": "20feabc9",
   "metadata": {},
   "outputs": [
    {
     "data": {
      "text/plain": [
       "Index(['(P)Portentry', '(Q)USdelivery', '(R)UStime', '(W)ITIvalues',\n",
       "       '(S)CSpresentation', '(N)Portexit', '(K)CStype',\n",
       "       '(G)controlled_stimulus_secondscomputer',\n",
       "       '(H)controlled_stimulus_minutescomputer',\n",
       "       '(I)controlled_stimulus_hourscomputer', '(B)port_entry_secondscomputer',\n",
       "       '(F)port_entry_minutescomputer', '(J)port_entry_hourscomputer', 'date',\n",
       "       'subject', 'file_path', 'cs_second', 'cs_minute', 'cs_hour',\n",
       "       'cs_time_str', 'cs_time_object'],\n",
       "      dtype='object')"
      ]
     },
     "execution_count": 26,
     "metadata": {},
     "output_type": "execute_result"
    }
   ],
   "source": [
    "cs_time_df.columns"
   ]
  },
  {
   "cell_type": "markdown",
   "id": "8f34cdd3",
   "metadata": {},
   "source": [
    "- Making the numbers for hours, minutes, and seconds into whole numbers"
   ]
  },
  {
   "cell_type": "code",
   "execution_count": 27,
   "id": "d2886d02",
   "metadata": {},
   "outputs": [],
   "source": [
    "cs_time_df[\"pe_second\"] = cs_time_df[\"(B)port_entry_secondscomputer\"].astype(int).astype(str)\n",
    "cs_time_df[\"pe_minute\"] = cs_time_df[\"(F)port_entry_minutescomputer\"].astype(int).astype(str)\n",
    "cs_time_df[\"pe_hour\"] = cs_time_df[\"(J)port_entry_hourscomputer\"].astype(int).astype(str)\n"
   ]
  },
  {
   "cell_type": "markdown",
   "id": "3b0a7a82",
   "metadata": {},
   "source": [
    "- Combining the hours, minutes, and seconds into one column as a string"
   ]
  },
  {
   "cell_type": "code",
   "execution_count": 28,
   "id": "00676b51",
   "metadata": {},
   "outputs": [],
   "source": [
    "cs_time_df[\"pe_time_str\"] = cs_time_df.apply(lambda x: \":\".join([x[\"pe_hour\"], x[\"pe_minute\"],  x[\"pe_second\"]]), axis=1)"
   ]
  },
  {
   "cell_type": "markdown",
   "id": "0ddb3e41",
   "metadata": {},
   "source": [
    "- Converting the time into a Python datetime object\n",
    "    - This will allow us to make calculations"
   ]
  },
  {
   "cell_type": "code",
   "execution_count": 29,
   "id": "f1bb8332",
   "metadata": {},
   "outputs": [],
   "source": [
    "cs_time_df[\"pe_time_object\"] = cs_time_df[\"pe_time_str\"].apply(lambda x: datetime.strptime(x, '%H:%M:%S'))\n"
   ]
  },
  {
   "cell_type": "code",
   "execution_count": 74,
   "id": "e3f109fb",
   "metadata": {},
   "outputs": [
    {
     "data": {
      "text/plain": [
       "0   1900-01-01 20:04:28\n",
       "1   1900-01-01 20:05:04\n",
       "2   1900-01-01 20:06:19\n",
       "3   1900-01-01 20:07:31\n",
       "4   1900-01-01 20:07:44\n",
       "5   1900-01-01 20:08:20\n",
       "6   1900-01-01 20:08:42\n",
       "7   1900-01-01 20:08:46\n",
       "8   1900-01-01 20:08:50\n",
       "9   1900-01-01 20:08:54\n",
       "Name: pe_time_object, dtype: datetime64[ns]"
      ]
     },
     "execution_count": 74,
     "metadata": {},
     "output_type": "execute_result"
    }
   ],
   "source": [
    "cs_time_df[\"pe_time_object\"]"
   ]
  },
  {
   "cell_type": "code",
   "execution_count": null,
   "id": "f93a8735",
   "metadata": {},
   "outputs": [],
   "source": [
    "cs_time_df[\"pe_time_object\"]"
   ]
  },
  {
   "cell_type": "code",
   "execution_count": 30,
   "id": "8df31ba2",
   "metadata": {
    "scrolled": true
   },
   "outputs": [
    {
     "data": {
      "text/html": [
       "<div>\n",
       "<style scoped>\n",
       "    .dataframe tbody tr th:only-of-type {\n",
       "        vertical-align: middle;\n",
       "    }\n",
       "\n",
       "    .dataframe tbody tr th {\n",
       "        vertical-align: top;\n",
       "    }\n",
       "\n",
       "    .dataframe thead th {\n",
       "        text-align: right;\n",
       "    }\n",
       "</style>\n",
       "<table border=\"1\" class=\"dataframe\">\n",
       "  <thead>\n",
       "    <tr style=\"text-align: right;\">\n",
       "      <th></th>\n",
       "      <th>(P)Portentry</th>\n",
       "      <th>(Q)USdelivery</th>\n",
       "      <th>(R)UStime</th>\n",
       "      <th>(W)ITIvalues</th>\n",
       "      <th>(S)CSpresentation</th>\n",
       "      <th>(N)Portexit</th>\n",
       "      <th>(K)CStype</th>\n",
       "      <th>(G)controlled_stimulus_secondscomputer</th>\n",
       "      <th>(H)controlled_stimulus_minutescomputer</th>\n",
       "      <th>(I)controlled_stimulus_hourscomputer</th>\n",
       "      <th>...</th>\n",
       "      <th>cs_second</th>\n",
       "      <th>cs_minute</th>\n",
       "      <th>cs_hour</th>\n",
       "      <th>cs_time_str</th>\n",
       "      <th>cs_time_object</th>\n",
       "      <th>pe_second</th>\n",
       "      <th>pe_minute</th>\n",
       "      <th>pe_hour</th>\n",
       "      <th>pe_time_str</th>\n",
       "      <th>pe_time_object</th>\n",
       "    </tr>\n",
       "  </thead>\n",
       "  <tbody>\n",
       "    <tr>\n",
       "      <th>0</th>\n",
       "      <td>75.47</td>\n",
       "      <td>64.0</td>\n",
       "      <td>399.0</td>\n",
       "      <td>0.0</td>\n",
       "      <td>60.01</td>\n",
       "      <td>76.09</td>\n",
       "      <td>1.0</td>\n",
       "      <td>13.0</td>\n",
       "      <td>4.0</td>\n",
       "      <td>20.0</td>\n",
       "      <td>...</td>\n",
       "      <td>13</td>\n",
       "      <td>4</td>\n",
       "      <td>20</td>\n",
       "      <td>20:4:13</td>\n",
       "      <td>1900-01-01 20:04:13</td>\n",
       "      <td>28</td>\n",
       "      <td>4</td>\n",
       "      <td>20</td>\n",
       "      <td>20:4:28</td>\n",
       "      <td>1900-01-01 20:04:28</td>\n",
       "    </tr>\n",
       "    <tr>\n",
       "      <th>1</th>\n",
       "      <td>110.92</td>\n",
       "      <td>144.0</td>\n",
       "      <td>399.0</td>\n",
       "      <td>0.0</td>\n",
       "      <td>140.01</td>\n",
       "      <td>111.35</td>\n",
       "      <td>1.0</td>\n",
       "      <td>33.0</td>\n",
       "      <td>5.0</td>\n",
       "      <td>20.0</td>\n",
       "      <td>...</td>\n",
       "      <td>33</td>\n",
       "      <td>5</td>\n",
       "      <td>20</td>\n",
       "      <td>20:5:33</td>\n",
       "      <td>1900-01-01 20:05:33</td>\n",
       "      <td>4</td>\n",
       "      <td>5</td>\n",
       "      <td>20</td>\n",
       "      <td>20:5:4</td>\n",
       "      <td>1900-01-01 20:05:04</td>\n",
       "    </tr>\n",
       "    <tr>\n",
       "      <th>2</th>\n",
       "      <td>185.83</td>\n",
       "      <td>234.0</td>\n",
       "      <td>399.0</td>\n",
       "      <td>0.0</td>\n",
       "      <td>230.01</td>\n",
       "      <td>186.37</td>\n",
       "      <td>1.0</td>\n",
       "      <td>3.0</td>\n",
       "      <td>7.0</td>\n",
       "      <td>20.0</td>\n",
       "      <td>...</td>\n",
       "      <td>3</td>\n",
       "      <td>7</td>\n",
       "      <td>20</td>\n",
       "      <td>20:7:3</td>\n",
       "      <td>1900-01-01 20:07:03</td>\n",
       "      <td>19</td>\n",
       "      <td>6</td>\n",
       "      <td>20</td>\n",
       "      <td>20:6:19</td>\n",
       "      <td>1900-01-01 20:06:19</td>\n",
       "    </tr>\n",
       "    <tr>\n",
       "      <th>3</th>\n",
       "      <td>257.49</td>\n",
       "      <td>314.0</td>\n",
       "      <td>399.0</td>\n",
       "      <td>0.0</td>\n",
       "      <td>310.01</td>\n",
       "      <td>258.08</td>\n",
       "      <td>1.0</td>\n",
       "      <td>23.0</td>\n",
       "      <td>8.0</td>\n",
       "      <td>20.0</td>\n",
       "      <td>...</td>\n",
       "      <td>23</td>\n",
       "      <td>8</td>\n",
       "      <td>20</td>\n",
       "      <td>20:8:23</td>\n",
       "      <td>1900-01-01 20:08:23</td>\n",
       "      <td>31</td>\n",
       "      <td>7</td>\n",
       "      <td>20</td>\n",
       "      <td>20:7:31</td>\n",
       "      <td>1900-01-01 20:07:31</td>\n",
       "    </tr>\n",
       "    <tr>\n",
       "      <th>4</th>\n",
       "      <td>270.67</td>\n",
       "      <td>NaN</td>\n",
       "      <td>NaN</td>\n",
       "      <td>0.0</td>\n",
       "      <td>8000.00</td>\n",
       "      <td>271.50</td>\n",
       "      <td>0.0</td>\n",
       "      <td>0.0</td>\n",
       "      <td>0.0</td>\n",
       "      <td>0.0</td>\n",
       "      <td>...</td>\n",
       "      <td>0</td>\n",
       "      <td>0</td>\n",
       "      <td>0</td>\n",
       "      <td>0:0:0</td>\n",
       "      <td>1900-01-01 00:00:00</td>\n",
       "      <td>44</td>\n",
       "      <td>7</td>\n",
       "      <td>20</td>\n",
       "      <td>20:7:44</td>\n",
       "      <td>1900-01-01 20:07:44</td>\n",
       "    </tr>\n",
       "    <tr>\n",
       "      <th>5</th>\n",
       "      <td>307.10</td>\n",
       "      <td>NaN</td>\n",
       "      <td>NaN</td>\n",
       "      <td>0.0</td>\n",
       "      <td>9000.00</td>\n",
       "      <td>307.91</td>\n",
       "      <td>0.0</td>\n",
       "      <td>0.0</td>\n",
       "      <td>0.0</td>\n",
       "      <td>0.0</td>\n",
       "      <td>...</td>\n",
       "      <td>0</td>\n",
       "      <td>0</td>\n",
       "      <td>0</td>\n",
       "      <td>0:0:0</td>\n",
       "      <td>1900-01-01 00:00:00</td>\n",
       "      <td>20</td>\n",
       "      <td>8</td>\n",
       "      <td>20</td>\n",
       "      <td>20:8:20</td>\n",
       "      <td>1900-01-01 20:08:20</td>\n",
       "    </tr>\n",
       "    <tr>\n",
       "      <th>6</th>\n",
       "      <td>329.32</td>\n",
       "      <td>NaN</td>\n",
       "      <td>NaN</td>\n",
       "      <td>0.0</td>\n",
       "      <td>8000.00</td>\n",
       "      <td>330.08</td>\n",
       "      <td>0.0</td>\n",
       "      <td>0.0</td>\n",
       "      <td>0.0</td>\n",
       "      <td>0.0</td>\n",
       "      <td>...</td>\n",
       "      <td>0</td>\n",
       "      <td>0</td>\n",
       "      <td>0</td>\n",
       "      <td>0:0:0</td>\n",
       "      <td>1900-01-01 00:00:00</td>\n",
       "      <td>42</td>\n",
       "      <td>8</td>\n",
       "      <td>20</td>\n",
       "      <td>20:8:42</td>\n",
       "      <td>1900-01-01 20:08:42</td>\n",
       "    </tr>\n",
       "    <tr>\n",
       "      <th>7</th>\n",
       "      <td>332.74</td>\n",
       "      <td>NaN</td>\n",
       "      <td>NaN</td>\n",
       "      <td>0.0</td>\n",
       "      <td>7500.00</td>\n",
       "      <td>333.61</td>\n",
       "      <td>0.0</td>\n",
       "      <td>0.0</td>\n",
       "      <td>0.0</td>\n",
       "      <td>0.0</td>\n",
       "      <td>...</td>\n",
       "      <td>0</td>\n",
       "      <td>0</td>\n",
       "      <td>0</td>\n",
       "      <td>0:0:0</td>\n",
       "      <td>1900-01-01 00:00:00</td>\n",
       "      <td>46</td>\n",
       "      <td>8</td>\n",
       "      <td>20</td>\n",
       "      <td>20:8:46</td>\n",
       "      <td>1900-01-01 20:08:46</td>\n",
       "    </tr>\n",
       "    <tr>\n",
       "      <th>8</th>\n",
       "      <td>337.10</td>\n",
       "      <td>NaN</td>\n",
       "      <td>NaN</td>\n",
       "      <td>0.0</td>\n",
       "      <td>10000.00</td>\n",
       "      <td>337.62</td>\n",
       "      <td>0.0</td>\n",
       "      <td>0.0</td>\n",
       "      <td>0.0</td>\n",
       "      <td>0.0</td>\n",
       "      <td>...</td>\n",
       "      <td>0</td>\n",
       "      <td>0</td>\n",
       "      <td>0</td>\n",
       "      <td>0:0:0</td>\n",
       "      <td>1900-01-01 00:00:00</td>\n",
       "      <td>50</td>\n",
       "      <td>8</td>\n",
       "      <td>20</td>\n",
       "      <td>20:8:50</td>\n",
       "      <td>1900-01-01 20:08:50</td>\n",
       "    </tr>\n",
       "    <tr>\n",
       "      <th>9</th>\n",
       "      <td>341.29</td>\n",
       "      <td>NaN</td>\n",
       "      <td>NaN</td>\n",
       "      <td>0.0</td>\n",
       "      <td>9500.00</td>\n",
       "      <td>341.97</td>\n",
       "      <td>0.0</td>\n",
       "      <td>0.0</td>\n",
       "      <td>0.0</td>\n",
       "      <td>0.0</td>\n",
       "      <td>...</td>\n",
       "      <td>0</td>\n",
       "      <td>0</td>\n",
       "      <td>0</td>\n",
       "      <td>0:0:0</td>\n",
       "      <td>1900-01-01 00:00:00</td>\n",
       "      <td>54</td>\n",
       "      <td>8</td>\n",
       "      <td>20</td>\n",
       "      <td>20:8:54</td>\n",
       "      <td>1900-01-01 20:08:54</td>\n",
       "    </tr>\n",
       "  </tbody>\n",
       "</table>\n",
       "<p>10 rows × 26 columns</p>\n",
       "</div>"
      ],
      "text/plain": [
       "   (P)Portentry  (Q)USdelivery  (R)UStime  (W)ITIvalues  (S)CSpresentation  \\\n",
       "0         75.47           64.0      399.0           0.0              60.01   \n",
       "1        110.92          144.0      399.0           0.0             140.01   \n",
       "2        185.83          234.0      399.0           0.0             230.01   \n",
       "3        257.49          314.0      399.0           0.0             310.01   \n",
       "4        270.67            NaN        NaN           0.0            8000.00   \n",
       "5        307.10            NaN        NaN           0.0            9000.00   \n",
       "6        329.32            NaN        NaN           0.0            8000.00   \n",
       "7        332.74            NaN        NaN           0.0            7500.00   \n",
       "8        337.10            NaN        NaN           0.0           10000.00   \n",
       "9        341.29            NaN        NaN           0.0            9500.00   \n",
       "\n",
       "   (N)Portexit  (K)CStype  (G)controlled_stimulus_secondscomputer  \\\n",
       "0        76.09        1.0                                    13.0   \n",
       "1       111.35        1.0                                    33.0   \n",
       "2       186.37        1.0                                     3.0   \n",
       "3       258.08        1.0                                    23.0   \n",
       "4       271.50        0.0                                     0.0   \n",
       "5       307.91        0.0                                     0.0   \n",
       "6       330.08        0.0                                     0.0   \n",
       "7       333.61        0.0                                     0.0   \n",
       "8       337.62        0.0                                     0.0   \n",
       "9       341.97        0.0                                     0.0   \n",
       "\n",
       "   (H)controlled_stimulus_minutescomputer  \\\n",
       "0                                     4.0   \n",
       "1                                     5.0   \n",
       "2                                     7.0   \n",
       "3                                     8.0   \n",
       "4                                     0.0   \n",
       "5                                     0.0   \n",
       "6                                     0.0   \n",
       "7                                     0.0   \n",
       "8                                     0.0   \n",
       "9                                     0.0   \n",
       "\n",
       "   (I)controlled_stimulus_hourscomputer  ...  cs_second  cs_minute  cs_hour  \\\n",
       "0                                  20.0  ...         13          4       20   \n",
       "1                                  20.0  ...         33          5       20   \n",
       "2                                  20.0  ...          3          7       20   \n",
       "3                                  20.0  ...         23          8       20   \n",
       "4                                   0.0  ...          0          0        0   \n",
       "5                                   0.0  ...          0          0        0   \n",
       "6                                   0.0  ...          0          0        0   \n",
       "7                                   0.0  ...          0          0        0   \n",
       "8                                   0.0  ...          0          0        0   \n",
       "9                                   0.0  ...          0          0        0   \n",
       "\n",
       "  cs_time_str      cs_time_object pe_second pe_minute pe_hour pe_time_str  \\\n",
       "0     20:4:13 1900-01-01 20:04:13        28         4      20     20:4:28   \n",
       "1     20:5:33 1900-01-01 20:05:33         4         5      20      20:5:4   \n",
       "2      20:7:3 1900-01-01 20:07:03        19         6      20     20:6:19   \n",
       "3     20:8:23 1900-01-01 20:08:23        31         7      20     20:7:31   \n",
       "4       0:0:0 1900-01-01 00:00:00        44         7      20     20:7:44   \n",
       "5       0:0:0 1900-01-01 00:00:00        20         8      20     20:8:20   \n",
       "6       0:0:0 1900-01-01 00:00:00        42         8      20     20:8:42   \n",
       "7       0:0:0 1900-01-01 00:00:00        46         8      20     20:8:46   \n",
       "8       0:0:0 1900-01-01 00:00:00        50         8      20     20:8:50   \n",
       "9       0:0:0 1900-01-01 00:00:00        54         8      20     20:8:54   \n",
       "\n",
       "       pe_time_object  \n",
       "0 1900-01-01 20:04:28  \n",
       "1 1900-01-01 20:05:04  \n",
       "2 1900-01-01 20:06:19  \n",
       "3 1900-01-01 20:07:31  \n",
       "4 1900-01-01 20:07:44  \n",
       "5 1900-01-01 20:08:20  \n",
       "6 1900-01-01 20:08:42  \n",
       "7 1900-01-01 20:08:46  \n",
       "8 1900-01-01 20:08:50  \n",
       "9 1900-01-01 20:08:54  \n",
       "\n",
       "[10 rows x 26 columns]"
      ]
     },
     "execution_count": 30,
     "metadata": {},
     "output_type": "execute_result"
    }
   ],
   "source": [
    "cs_time_df"
   ]
  },
  {
   "cell_type": "markdown",
   "id": "9a473a52",
   "metadata": {},
   "source": [
    "# Importing Video Data"
   ]
  },
  {
   "cell_type": "markdown",
   "id": "c9ccf26c",
   "metadata": {},
   "source": [
    "- These CSVs are create in Bonsai when the video is being recorded. They give a time stamp of when the video is first being recorded."
   ]
  },
  {
   "cell_type": "code",
   "execution_count": 31,
   "id": "5f545e57",
   "metadata": {},
   "outputs": [],
   "source": [
    "video_recording_time_stamps = pd.read_csv(\"./data/automatic_30_min_end_test/clock_test_time_2022-07-13T20_02_37.csv\", header=None)"
   ]
  },
  {
   "cell_type": "code",
   "execution_count": 32,
   "id": "afb672e4",
   "metadata": {},
   "outputs": [
    {
     "data": {
      "text/html": [
       "<div>\n",
       "<style scoped>\n",
       "    .dataframe tbody tr th:only-of-type {\n",
       "        vertical-align: middle;\n",
       "    }\n",
       "\n",
       "    .dataframe tbody tr th {\n",
       "        vertical-align: top;\n",
       "    }\n",
       "\n",
       "    .dataframe thead th {\n",
       "        text-align: right;\n",
       "    }\n",
       "</style>\n",
       "<table border=\"1\" class=\"dataframe\">\n",
       "  <thead>\n",
       "    <tr style=\"text-align: right;\">\n",
       "      <th></th>\n",
       "      <th>0</th>\n",
       "      <th>1</th>\n",
       "    </tr>\n",
       "  </thead>\n",
       "  <tbody>\n",
       "    <tr>\n",
       "      <th>0</th>\n",
       "      <td>(7/14/2022 12:02:39 AM</td>\n",
       "      <td>693); 2022-07-13 20:02:39.361000</td>\n",
       "    </tr>\n",
       "    <tr>\n",
       "      <th>1</th>\n",
       "      <td>(7/14/2022 12:02:39 AM</td>\n",
       "      <td>740); 2022-07-13 20:02:39.408000</td>\n",
       "    </tr>\n",
       "    <tr>\n",
       "      <th>2</th>\n",
       "      <td>(7/14/2022 12:02:39 AM</td>\n",
       "      <td>789); 2022-07-13 20:02:39.456000</td>\n",
       "    </tr>\n",
       "    <tr>\n",
       "      <th>3</th>\n",
       "      <td>(7/14/2022 12:02:39 AM</td>\n",
       "      <td>853); 2022-07-13 20:02:39.520000</td>\n",
       "    </tr>\n",
       "    <tr>\n",
       "      <th>4</th>\n",
       "      <td>(7/14/2022 12:02:39 AM</td>\n",
       "      <td>900); 2022-07-13 20:02:39.567000</td>\n",
       "    </tr>\n",
       "  </tbody>\n",
       "</table>\n",
       "</div>"
      ],
      "text/plain": [
       "                        0                                  1\n",
       "0  (7/14/2022 12:02:39 AM   693); 2022-07-13 20:02:39.361000\n",
       "1  (7/14/2022 12:02:39 AM   740); 2022-07-13 20:02:39.408000\n",
       "2  (7/14/2022 12:02:39 AM   789); 2022-07-13 20:02:39.456000\n",
       "3  (7/14/2022 12:02:39 AM   853); 2022-07-13 20:02:39.520000\n",
       "4  (7/14/2022 12:02:39 AM   900); 2022-07-13 20:02:39.567000"
      ]
     },
     "execution_count": 32,
     "metadata": {},
     "output_type": "execute_result"
    }
   ],
   "source": [
    "video_recording_time_stamps.head()"
   ]
  },
  {
   "cell_type": "markdown",
   "id": "08373149",
   "metadata": {},
   "source": [
    "- The video is first being recorded in the time specified by the cell in the first row and the first column\n",
    "    - We will try to get on the hour, minute, seconds from this\n",
    "        - By getting everthing after the space, and then removing everything before the period"
   ]
  },
  {
   "cell_type": "code",
   "execution_count": 33,
   "id": "42dad327",
   "metadata": {},
   "outputs": [],
   "source": [
    "video_recording_time_stamps[\"time\"] = video_recording_time_stamps[1].apply(lambda x: x.split()[-1].split(\".\")[0])\n"
   ]
  },
  {
   "cell_type": "code",
   "execution_count": 34,
   "id": "181e0d31",
   "metadata": {},
   "outputs": [
    {
     "data": {
      "text/html": [
       "<div>\n",
       "<style scoped>\n",
       "    .dataframe tbody tr th:only-of-type {\n",
       "        vertical-align: middle;\n",
       "    }\n",
       "\n",
       "    .dataframe tbody tr th {\n",
       "        vertical-align: top;\n",
       "    }\n",
       "\n",
       "    .dataframe thead th {\n",
       "        text-align: right;\n",
       "    }\n",
       "</style>\n",
       "<table border=\"1\" class=\"dataframe\">\n",
       "  <thead>\n",
       "    <tr style=\"text-align: right;\">\n",
       "      <th></th>\n",
       "      <th>0</th>\n",
       "      <th>1</th>\n",
       "      <th>time</th>\n",
       "    </tr>\n",
       "  </thead>\n",
       "  <tbody>\n",
       "    <tr>\n",
       "      <th>0</th>\n",
       "      <td>(7/14/2022 12:02:39 AM</td>\n",
       "      <td>693); 2022-07-13 20:02:39.361000</td>\n",
       "      <td>20:02:39</td>\n",
       "    </tr>\n",
       "    <tr>\n",
       "      <th>1</th>\n",
       "      <td>(7/14/2022 12:02:39 AM</td>\n",
       "      <td>740); 2022-07-13 20:02:39.408000</td>\n",
       "      <td>20:02:39</td>\n",
       "    </tr>\n",
       "    <tr>\n",
       "      <th>2</th>\n",
       "      <td>(7/14/2022 12:02:39 AM</td>\n",
       "      <td>789); 2022-07-13 20:02:39.456000</td>\n",
       "      <td>20:02:39</td>\n",
       "    </tr>\n",
       "    <tr>\n",
       "      <th>3</th>\n",
       "      <td>(7/14/2022 12:02:39 AM</td>\n",
       "      <td>853); 2022-07-13 20:02:39.520000</td>\n",
       "      <td>20:02:39</td>\n",
       "    </tr>\n",
       "    <tr>\n",
       "      <th>4</th>\n",
       "      <td>(7/14/2022 12:02:39 AM</td>\n",
       "      <td>900); 2022-07-13 20:02:39.567000</td>\n",
       "      <td>20:02:39</td>\n",
       "    </tr>\n",
       "  </tbody>\n",
       "</table>\n",
       "</div>"
      ],
      "text/plain": [
       "                        0                                  1      time\n",
       "0  (7/14/2022 12:02:39 AM   693); 2022-07-13 20:02:39.361000  20:02:39\n",
       "1  (7/14/2022 12:02:39 AM   740); 2022-07-13 20:02:39.408000  20:02:39\n",
       "2  (7/14/2022 12:02:39 AM   789); 2022-07-13 20:02:39.456000  20:02:39\n",
       "3  (7/14/2022 12:02:39 AM   853); 2022-07-13 20:02:39.520000  20:02:39\n",
       "4  (7/14/2022 12:02:39 AM   900); 2022-07-13 20:02:39.567000  20:02:39"
      ]
     },
     "execution_count": 34,
     "metadata": {},
     "output_type": "execute_result"
    }
   ],
   "source": [
    "video_recording_time_stamps.head()"
   ]
  },
  {
   "cell_type": "markdown",
   "id": "828a2752",
   "metadata": {},
   "source": [
    "- Getting the first time that's listed, which is when the video starts being recorded"
   ]
  },
  {
   "cell_type": "code",
   "execution_count": 35,
   "id": "c4bd22c8",
   "metadata": {},
   "outputs": [],
   "source": [
    "video_recording_start_time_str = video_recording_time_stamps[\"time\"][0]\n"
   ]
  },
  {
   "cell_type": "code",
   "execution_count": 36,
   "id": "bbf79883",
   "metadata": {},
   "outputs": [
    {
     "data": {
      "text/plain": [
       "'20:02:39'"
      ]
     },
     "execution_count": 36,
     "metadata": {},
     "output_type": "execute_result"
    }
   ],
   "source": [
    "video_recording_start_time_str"
   ]
  },
  {
   "cell_type": "markdown",
   "id": "8e9fab6d",
   "metadata": {},
   "source": [
    "- Converting this into a datetime object so that we can make calculations"
   ]
  },
  {
   "cell_type": "code",
   "execution_count": 37,
   "id": "e08d8afe",
   "metadata": {},
   "outputs": [],
   "source": [
    "video_recording_start_time_object = datetime.strptime(video_recording_start_time_str, '%H:%M:%S')\n"
   ]
  },
  {
   "cell_type": "code",
   "execution_count": 38,
   "id": "b56a00bf",
   "metadata": {},
   "outputs": [
    {
     "data": {
      "text/plain": [
       "datetime.datetime(1900, 1, 1, 20, 2, 39)"
      ]
     },
     "execution_count": 38,
     "metadata": {},
     "output_type": "execute_result"
    }
   ],
   "source": [
    "video_recording_start_time_object"
   ]
  },
  {
   "cell_type": "markdown",
   "id": "10324f04",
   "metadata": {},
   "source": [
    "# Syncing the MED-PC timestamps with the time in the video"
   ]
  },
  {
   "cell_type": "markdown",
   "id": "418ddc09",
   "metadata": {},
   "source": [
    "- To get when in the video something happens(i.e. 10 seconds), we will calculate the difference of the time of the event with the time that the video first starts being recorded\n",
    "- NOTE: Make sure that you are using the associated files for the MED-PC recording file and the video file"
   ]
  },
  {
   "cell_type": "code",
   "execution_count": 39,
   "id": "e0aa620e",
   "metadata": {},
   "outputs": [],
   "source": [
    "first_medpc_recording_file = cs_time_df[\"file_path\"].unique()[0]\n",
    "\n",
    "first_cs_time_df = cs_time_df[cs_time_df[\"file_path\"] == first_medpc_recording_file]"
   ]
  },
  {
   "cell_type": "code",
   "execution_count": 40,
   "id": "f68a39d2",
   "metadata": {},
   "outputs": [
    {
     "data": {
      "text/plain": [
       "Timestamp('1900-01-01 20:04:13')"
      ]
     },
     "execution_count": 40,
     "metadata": {},
     "output_type": "execute_result"
    }
   ],
   "source": [
    "# The time of the first controlled stimulus \n",
    "first_cs_time_df[\"cs_time_object\"].iloc[0]"
   ]
  },
  {
   "cell_type": "code",
   "execution_count": 41,
   "id": "70528a1f",
   "metadata": {},
   "outputs": [
    {
     "data": {
      "text/plain": [
       "Timestamp('1900-01-01 20:05:33')"
      ]
     },
     "execution_count": 41,
     "metadata": {},
     "output_type": "execute_result"
    }
   ],
   "source": [
    "# The time of the second controlled stiumuls\n",
    "first_cs_time_df[\"cs_time_object\"].iloc[1]"
   ]
  },
  {
   "cell_type": "code",
   "execution_count": 42,
   "id": "2e9f4704",
   "metadata": {},
   "outputs": [
    {
     "data": {
      "text/plain": [
       "datetime.datetime(1900, 1, 1, 20, 2, 39)"
      ]
     },
     "execution_count": 42,
     "metadata": {},
     "output_type": "execute_result"
    }
   ],
   "source": [
    "# The time that the video started being recorded\n",
    "video_recording_start_time_object"
   ]
  },
  {
   "cell_type": "code",
   "execution_count": 43,
   "id": "15cdea03",
   "metadata": {},
   "outputs": [],
   "source": [
    "# The time in the video that the controlled stimulus occurs\n",
    "cs_01_time_object = first_cs_time_df[\"cs_time_object\"].iloc[0] - video_recording_start_time_object \n",
    "cs_02_time_object = first_cs_time_df[\"cs_time_object\"].iloc[1] - video_recording_start_time_object \n",
    "cs_03_time_object = first_cs_time_df[\"cs_time_object\"].iloc[2] - video_recording_start_time_object "
   ]
  },
  {
   "cell_type": "code",
   "execution_count": 44,
   "id": "198d60b7",
   "metadata": {},
   "outputs": [
    {
     "data": {
      "text/plain": [
       "94"
      ]
     },
     "execution_count": 44,
     "metadata": {},
     "output_type": "execute_result"
    }
   ],
   "source": [
    "cs_01_time_object.seconds"
   ]
  },
  {
   "cell_type": "code",
   "execution_count": 45,
   "id": "ad48a7df",
   "metadata": {},
   "outputs": [
    {
     "data": {
      "text/plain": [
       "174"
      ]
     },
     "execution_count": 45,
     "metadata": {},
     "output_type": "execute_result"
    }
   ],
   "source": [
    "cs_02_time_object.seconds"
   ]
  },
  {
   "cell_type": "code",
   "execution_count": 46,
   "id": "9035aa4e",
   "metadata": {},
   "outputs": [
    {
     "data": {
      "text/plain": [
       "264"
      ]
     },
     "execution_count": 46,
     "metadata": {},
     "output_type": "execute_result"
    }
   ],
   "source": [
    "cs_03_time_object.seconds"
   ]
  },
  {
   "cell_type": "code",
   "execution_count": null,
   "id": "caf04cea",
   "metadata": {},
   "outputs": [],
   "source": []
  },
  {
   "cell_type": "code",
   "execution_count": null,
   "id": "f2a06d28",
   "metadata": {},
   "outputs": [],
   "source": []
  },
  {
   "cell_type": "markdown",
   "id": "836e0766",
   "metadata": {},
   "source": [
    "# Syncing the MED-PC Port Entires with the time in the video"
   ]
  },
  {
   "cell_type": "markdown",
   "id": "323f0a8c",
   "metadata": {},
   "source": [
    "- To get when in the video something happens(i.e. 10 seconds), we will calculate the difference of the time of the event with the time that the video first starts being recorded\n",
    "- NOTE: Make sure that you are using the associated files for the MED-PC recording file and the video file"
   ]
  },
  {
   "cell_type": "code",
   "execution_count": 47,
   "id": "240f4d17",
   "metadata": {},
   "outputs": [
    {
     "data": {
      "text/plain": [
       "0    4.0\n",
       "1    5.0\n",
       "2    6.0\n",
       "3    7.0\n",
       "4    7.0\n",
       "5    8.0\n",
       "6    8.0\n",
       "7    8.0\n",
       "8    8.0\n",
       "9    8.0\n",
       "Name: (F)port_entry_minutescomputer, dtype: float64"
      ]
     },
     "execution_count": 47,
     "metadata": {},
     "output_type": "execute_result"
    }
   ],
   "source": [
    "first_cs_time_df[\"(F)port_entry_minutescomputer\"].head(n=50)"
   ]
  },
  {
   "cell_type": "code",
   "execution_count": 48,
   "id": "84cf7599",
   "metadata": {},
   "outputs": [
    {
     "data": {
      "text/plain": [
       "0    4.0\n",
       "1    5.0\n",
       "2    6.0\n",
       "3    7.0\n",
       "4    7.0\n",
       "5    8.0\n",
       "6    8.0\n",
       "7    8.0\n",
       "8    8.0\n",
       "9    8.0\n",
       "Name: (F)port_entry_minutescomputer, dtype: float64"
      ]
     },
     "execution_count": 48,
     "metadata": {},
     "output_type": "execute_result"
    }
   ],
   "source": [
    "first_cs_time_df[\"(F)port_entry_minutescomputer\"].tail(n=50)"
   ]
  },
  {
   "cell_type": "code",
   "execution_count": 49,
   "id": "edf9c615",
   "metadata": {},
   "outputs": [
    {
     "data": {
      "text/plain": [
       "0    28.0\n",
       "1     4.0\n",
       "2    19.0\n",
       "3    31.0\n",
       "4    44.0\n",
       "5    20.0\n",
       "6    42.0\n",
       "7    46.0\n",
       "8    50.0\n",
       "9    54.0\n",
       "Name: (B)port_entry_secondscomputer, dtype: float64"
      ]
     },
     "execution_count": 49,
     "metadata": {},
     "output_type": "execute_result"
    }
   ],
   "source": [
    "first_cs_time_df[\"(B)port_entry_secondscomputer\"].head(n=50)"
   ]
  },
  {
   "cell_type": "code",
   "execution_count": 50,
   "id": "e77eb43e",
   "metadata": {},
   "outputs": [
    {
     "data": {
      "text/plain": [
       "0    28.0\n",
       "1     4.0\n",
       "2    19.0\n",
       "3    31.0\n",
       "4    44.0\n",
       "5    20.0\n",
       "6    42.0\n",
       "7    46.0\n",
       "8    50.0\n",
       "9    54.0\n",
       "Name: (B)port_entry_secondscomputer, dtype: float64"
      ]
     },
     "execution_count": 50,
     "metadata": {},
     "output_type": "execute_result"
    }
   ],
   "source": [
    "first_cs_time_df[\"(B)port_entry_secondscomputer\"].tail(n=50)"
   ]
  },
  {
   "cell_type": "code",
   "execution_count": 51,
   "id": "241e5a54",
   "metadata": {},
   "outputs": [],
   "source": [
    "# The time in the video that the controlled stimulus occurs\n",
    "port_entry_01_time_object = first_cs_time_df[\"pe_time_object\"].iloc[0] - video_recording_start_time_object \n",
    "port_entry_02_time_object = first_cs_time_df[\"pe_time_object\"].iloc[5] - video_recording_start_time_object \n",
    "port_entry_03_time_object = first_cs_time_df[\"pe_time_object\"].iloc[8] - video_recording_start_time_object "
   ]
  },
  {
   "cell_type": "code",
   "execution_count": 52,
   "id": "7b9319cf",
   "metadata": {},
   "outputs": [
    {
     "data": {
      "text/plain": [
       "Timestamp('1900-01-01 20:08:50')"
      ]
     },
     "execution_count": 52,
     "metadata": {},
     "output_type": "execute_result"
    }
   ],
   "source": [
    "first_cs_time_df[\"pe_time_object\"].iloc[8]"
   ]
  },
  {
   "cell_type": "code",
   "execution_count": 53,
   "id": "fce4c06f",
   "metadata": {},
   "outputs": [
    {
     "data": {
      "text/plain": [
       "109"
      ]
     },
     "execution_count": 53,
     "metadata": {},
     "output_type": "execute_result"
    }
   ],
   "source": [
    "port_entry_01_time_object.seconds"
   ]
  },
  {
   "cell_type": "code",
   "execution_count": 54,
   "id": "34083e17",
   "metadata": {},
   "outputs": [
    {
     "data": {
      "text/plain": [
       "341"
      ]
     },
     "execution_count": 54,
     "metadata": {},
     "output_type": "execute_result"
    }
   ],
   "source": [
    "port_entry_02_time_object.seconds"
   ]
  },
  {
   "cell_type": "code",
   "execution_count": 55,
   "id": "6b921c40",
   "metadata": {},
   "outputs": [
    {
     "data": {
      "text/plain": [
       "371"
      ]
     },
     "execution_count": 55,
     "metadata": {},
     "output_type": "execute_result"
    }
   ],
   "source": [
    "port_entry_03_time_object.seconds"
   ]
  },
  {
   "cell_type": "code",
   "execution_count": null,
   "id": "da49ba8c",
   "metadata": {},
   "outputs": [],
   "source": []
  },
  {
   "cell_type": "code",
   "execution_count": null,
   "id": "2d8ec213",
   "metadata": {},
   "outputs": [],
   "source": []
  },
  {
   "cell_type": "markdown",
   "id": "78318ba8",
   "metadata": {},
   "source": [
    "# Trimming the video"
   ]
  },
  {
   "cell_type": "code",
   "execution_count": 56,
   "id": "e3f90100",
   "metadata": {},
   "outputs": [],
   "source": [
    "video_object = VideoFileClip(\"./data/automatic_30_min_end_test/2clock_test_recording_2022-07-13T20_02_39.avi\")"
   ]
  },
  {
   "cell_type": "code",
   "execution_count": 57,
   "id": "1360d5a8",
   "metadata": {},
   "outputs": [
    {
     "data": {
      "text/plain": [
       "385.57"
      ]
     },
     "execution_count": 57,
     "metadata": {},
     "output_type": "execute_result"
    }
   ],
   "source": [
    "video_object.duration"
   ]
  },
  {
   "cell_type": "markdown",
   "id": "b27e7765",
   "metadata": {},
   "source": [
    "fixed func issue with: https://github.com/Zulko/moviepy/issues/1765\n"
   ]
  },
  {
   "cell_type": "code",
   "execution_count": 58,
   "id": "9d24075e",
   "metadata": {},
   "outputs": [],
   "source": [
    "cs1_trimmed_video = video_object.subclip(cs_01_time_object.seconds, cs_02_time_object.seconds + 20)"
   ]
  },
  {
   "cell_type": "code",
   "execution_count": 59,
   "id": "db2662bc",
   "metadata": {},
   "outputs": [],
   "source": [
    "cs2_trimmed_video = video_object.subclip(cs_02_time_object.seconds, cs_03_time_object.seconds + 20)"
   ]
  },
  {
   "cell_type": "code",
   "execution_count": 60,
   "id": "3cf48a80",
   "metadata": {},
   "outputs": [],
   "source": [
    "cs3_trimmed_video = video_object.subclip(cs_03_time_object.seconds, video_object.duration)"
   ]
  },
  {
   "cell_type": "code",
   "execution_count": null,
   "id": "9ef0ca20",
   "metadata": {},
   "outputs": [],
   "source": []
  },
  {
   "cell_type": "code",
   "execution_count": 61,
   "id": "a1757cdf",
   "metadata": {},
   "outputs": [],
   "source": [
    "pe1_trimmed_video = video_object.subclip(port_entry_01_time_object.seconds, port_entry_02_time_object.seconds + 20)"
   ]
  },
  {
   "cell_type": "code",
   "execution_count": 62,
   "id": "f91b6869",
   "metadata": {},
   "outputs": [],
   "source": [
    "pe2_trimmed_video = video_object.subclip(port_entry_02_time_object.seconds, port_entry_03_time_object.seconds + 20)"
   ]
  },
  {
   "cell_type": "code",
   "execution_count": 63,
   "id": "c3a73c7d",
   "metadata": {},
   "outputs": [],
   "source": [
    "pe3_trimmed_video = video_object.subclip(port_entry_03_time_object.seconds, video_object.duration)"
   ]
  },
  {
   "cell_type": "code",
   "execution_count": 64,
   "id": "e376b7c8",
   "metadata": {},
   "outputs": [
    {
     "name": "stdout",
     "output_type": "stream",
     "text": [
      "Moviepy - Building video ./data/automatic_30_min_end_test/trimmed_cs1.mp4.\n",
      "Moviepy - Writing video ./data/automatic_30_min_end_test/trimmed_cs1.mp4\n",
      "\n"
     ]
    },
    {
     "name": "stderr",
     "output_type": "stream",
     "text": [
      "                                                                                                                                       "
     ]
    },
    {
     "name": "stdout",
     "output_type": "stream",
     "text": [
      "Moviepy - Done !\n",
      "Moviepy - video ready ./data/automatic_30_min_end_test/trimmed_cs1.mp4\n"
     ]
    },
    {
     "name": "stderr",
     "output_type": "stream",
     "text": [
      "\r"
     ]
    }
   ],
   "source": [
    "cs1_trimmed_video.to_videofile(\"./data/automatic_30_min_end_test/trimmed_cs1.mp4\")"
   ]
  },
  {
   "cell_type": "code",
   "execution_count": 65,
   "id": "f9713b8c",
   "metadata": {},
   "outputs": [
    {
     "name": "stdout",
     "output_type": "stream",
     "text": [
      "Moviepy - Building video ./data/automatic_30_min_end_test/trimmed_cs2.mp4.\n",
      "Moviepy - Writing video ./data/automatic_30_min_end_test/trimmed_cs2.mp4\n",
      "\n"
     ]
    },
    {
     "name": "stderr",
     "output_type": "stream",
     "text": [
      "                                                                                                                                       \r"
     ]
    },
    {
     "name": "stdout",
     "output_type": "stream",
     "text": [
      "Moviepy - Done !\n",
      "Moviepy - video ready ./data/automatic_30_min_end_test/trimmed_cs2.mp4\n"
     ]
    }
   ],
   "source": [
    "cs2_trimmed_video.to_videofile(\"./data/automatic_30_min_end_test/trimmed_cs2.mp4\")"
   ]
  },
  {
   "cell_type": "code",
   "execution_count": 66,
   "id": "ceeaae6f",
   "metadata": {},
   "outputs": [
    {
     "name": "stdout",
     "output_type": "stream",
     "text": [
      "Moviepy - Building video ./data/automatic_30_min_end_test//trimmed_cs3.mp4.\n",
      "Moviepy - Writing video ./data/automatic_30_min_end_test//trimmed_cs3.mp4\n",
      "\n"
     ]
    },
    {
     "name": "stderr",
     "output_type": "stream",
     "text": [
      "                                                                                                                                       "
     ]
    },
    {
     "name": "stdout",
     "output_type": "stream",
     "text": [
      "Moviepy - Done !\n",
      "Moviepy - video ready ./data/automatic_30_min_end_test//trimmed_cs3.mp4\n"
     ]
    },
    {
     "name": "stderr",
     "output_type": "stream",
     "text": [
      "\r"
     ]
    }
   ],
   "source": [
    "cs3_trimmed_video.to_videofile(\"./data/automatic_30_min_end_test//trimmed_cs3.mp4\")"
   ]
  },
  {
   "cell_type": "code",
   "execution_count": null,
   "id": "10804840",
   "metadata": {},
   "outputs": [],
   "source": []
  },
  {
   "cell_type": "code",
   "execution_count": 67,
   "id": "2cf97d7c",
   "metadata": {},
   "outputs": [],
   "source": [
    "pe1_trimmed_video = video_object.subclip(port_entry_01_time_object.seconds, port_entry_02_time_object.seconds + 20)"
   ]
  },
  {
   "cell_type": "code",
   "execution_count": 68,
   "id": "e6011137",
   "metadata": {},
   "outputs": [],
   "source": [
    "pe2_trimmed_video = video_object.subclip(port_entry_02_time_object.seconds, port_entry_03_time_object.seconds + 20)"
   ]
  },
  {
   "cell_type": "code",
   "execution_count": 69,
   "id": "a2baa36c",
   "metadata": {},
   "outputs": [],
   "source": [
    "pe3_trimmed_video = video_object.subclip(port_entry_03_time_object.seconds, video_object.duration)"
   ]
  },
  {
   "cell_type": "code",
   "execution_count": null,
   "id": "4b14c4fc",
   "metadata": {},
   "outputs": [],
   "source": []
  },
  {
   "cell_type": "code",
   "execution_count": null,
   "id": "84258f57",
   "metadata": {},
   "outputs": [],
   "source": []
  },
  {
   "cell_type": "code",
   "execution_count": 70,
   "id": "0048fe8f",
   "metadata": {},
   "outputs": [
    {
     "name": "stdout",
     "output_type": "stream",
     "text": [
      "Moviepy - Building video ./data/automatic_30_min_end_test/trimmed_pe1.mp4.\n",
      "Moviepy - Writing video ./data/automatic_30_min_end_test/trimmed_pe1.mp4\n",
      "\n"
     ]
    },
    {
     "name": "stderr",
     "output_type": "stream",
     "text": [
      "                                                                                                                                       \r"
     ]
    },
    {
     "name": "stdout",
     "output_type": "stream",
     "text": [
      "Moviepy - Done !\n",
      "Moviepy - video ready ./data/automatic_30_min_end_test/trimmed_pe1.mp4\n"
     ]
    }
   ],
   "source": [
    "pe1_trimmed_video.to_videofile(\"./data/automatic_30_min_end_test/trimmed_pe1.mp4\")"
   ]
  },
  {
   "cell_type": "code",
   "execution_count": 71,
   "id": "e44ff613",
   "metadata": {},
   "outputs": [
    {
     "name": "stdout",
     "output_type": "stream",
     "text": [
      "Moviepy - Building video ./data/automatic_30_min_end_test/trimmed_pe2.mp4.\n",
      "Moviepy - Writing video ./data/automatic_30_min_end_test/trimmed_pe2.mp4\n",
      "\n"
     ]
    },
    {
     "name": "stderr",
     "output_type": "stream",
     "text": [
      "                                                                                                                                       "
     ]
    },
    {
     "name": "stdout",
     "output_type": "stream",
     "text": [
      "Moviepy - Done !\n",
      "Moviepy - video ready ./data/automatic_30_min_end_test/trimmed_pe2.mp4\n"
     ]
    },
    {
     "name": "stderr",
     "output_type": "stream",
     "text": [
      "\r"
     ]
    }
   ],
   "source": [
    "pe2_trimmed_video.to_videofile(\"./data/automatic_30_min_end_test/trimmed_pe2.mp4\")"
   ]
  },
  {
   "cell_type": "code",
   "execution_count": 72,
   "id": "95a32e67",
   "metadata": {},
   "outputs": [
    {
     "name": "stdout",
     "output_type": "stream",
     "text": [
      "Moviepy - Building video ./data/automatic_30_min_end_test//trimmed_pe3.mp4.\n",
      "Moviepy - Writing video ./data/automatic_30_min_end_test//trimmed_pe3.mp4\n",
      "\n"
     ]
    },
    {
     "name": "stderr",
     "output_type": "stream",
     "text": [
      "                                                                                                                                       \r"
     ]
    },
    {
     "name": "stdout",
     "output_type": "stream",
     "text": [
      "Moviepy - Done !\n",
      "Moviepy - video ready ./data/automatic_30_min_end_test//trimmed_pe3.mp4\n"
     ]
    }
   ],
   "source": [
    "pe3_trimmed_video.to_videofile(\"./data/automatic_30_min_end_test//trimmed_pe3.mp4\")"
   ]
  },
  {
   "cell_type": "code",
   "execution_count": null,
   "id": "76fc712e",
   "metadata": {},
   "outputs": [],
   "source": []
  },
  {
   "cell_type": "code",
   "execution_count": 73,
   "id": "9a9cad23",
   "metadata": {
    "scrolled": false
   },
   "outputs": [
    {
     "data": {
      "text/html": [
       "<video src=\"./data/automatic_30_min_end_test/trimmed_cs1.mp4\" controls  >\n",
       "      Your browser does not support the <code>video</code> element.\n",
       "    </video>"
      ],
      "text/plain": [
       "<IPython.core.display.Video object>"
      ]
     },
     "execution_count": 73,
     "metadata": {},
     "output_type": "execute_result"
    }
   ],
   "source": [
    "Video(\"./data/automatic_30_min_end_test/trimmed_cs1.mp4\")"
   ]
  }
 ],
 "metadata": {
  "kernelspec": {
   "display_name": "Python 3 (ipykernel)",
   "language": "python",
   "name": "python3"
  },
  "language_info": {
   "codemirror_mode": {
    "name": "ipython",
    "version": 3
   },
   "file_extension": ".py",
   "mimetype": "text/x-python",
   "name": "python",
   "nbconvert_exporter": "python",
   "pygments_lexer": "ipython3",
   "version": "3.9.16"
  }
 },
 "nbformat": 4,
 "nbformat_minor": 5
}
