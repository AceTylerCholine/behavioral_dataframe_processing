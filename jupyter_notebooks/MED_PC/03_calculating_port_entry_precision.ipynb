{
 "cells": [
  {
   "cell_type": "markdown",
   "id": "ec0f0e72",
   "metadata": {},
   "source": [
    "# MED-PC Data Processing Notebook"
   ]
  },
  {
   "cell_type": "markdown",
   "id": "3e96b039",
   "metadata": {},
   "source": [
    "## Importing the Python Libraries"
   ]
  },
  {
   "cell_type": "code",
   "execution_count": 1,
   "id": "df497936",
   "metadata": {},
   "outputs": [],
   "source": [
    "import sys\n",
    "import glob\n",
    "from collections import defaultdict\n",
    "import os\n",
    "import numpy as np\n",
    "import pandas as pd\n",
    "import matplotlib.pyplot as plt"
   ]
  },
  {
   "cell_type": "code",
   "execution_count": 2,
   "id": "b6678428",
   "metadata": {},
   "outputs": [],
   "source": [
    "from medpc2excel.medpc_read import medpc_read"
   ]
  },
  {
   "cell_type": "code",
   "execution_count": 3,
   "id": "d2693f50",
   "metadata": {},
   "outputs": [],
   "source": [
    "# setting path\n",
    "sys.path.append('../../src')"
   ]
  },
  {
   "cell_type": "code",
   "execution_count": 4,
   "id": "2eca7742",
   "metadata": {},
   "outputs": [],
   "source": [
    "# All the libraries that were created for this repository\n",
    "import extract.dataframe\n",
    "import extract.metadata\n",
    "import processing.tone\n",
    "import processing.port"
   ]
  },
  {
   "cell_type": "code",
   "execution_count": 5,
   "id": "52a5a4ee",
   "metadata": {},
   "outputs": [],
   "source": [
    "# Increase size of plot in jupyter\n",
    "\n",
    "plt.rcParams[\"figure.figsize\"] = (10,6)"
   ]
  },
  {
   "cell_type": "markdown",
   "id": "f37ffbe9",
   "metadata": {},
   "source": [
    "# Loading in Recording and Metadata from Previous Notebook"
   ]
  },
  {
   "cell_type": "markdown",
   "id": "a1ab455f",
   "metadata": {},
   "source": [
    "# NOTE: If you changed the directory of where the MED-PC recording dataframes, then you must change the directories in the following paths"
   ]
  },
  {
   "cell_type": "markdown",
   "id": "fe7f5896",
   "metadata": {},
   "source": [
    "- This will get all the files in each specified path"
   ]
  },
  {
   "cell_type": "code",
   "execution_count": 6,
   "id": "7d9bce44",
   "metadata": {},
   "outputs": [],
   "source": [
    "concatted_medpc_files = glob.glob(\"./proc/extracted_recording_data_and_metadata/*/MEDPC_recording_cage_*.csv\")\n",
    "metadata_files = glob.glob(\"./proc/extracted_recording_data_and_metadata/*/metadata_cage_*.csv\")\n",
    "recording_and_metadata_files = glob.glob(\"./proc/extracted_recording_data_and_metadata/*/recording_metadata_cage_*.csv\")"
   ]
  },
  {
   "cell_type": "markdown",
   "id": "df6b3e84",
   "metadata": {},
   "source": [
    "# NOTE: If there is more than one MED-PC recording dataframes, then you must manually change the path in the `pd.read_csv()` for the corresponding variables. Verify if this is the correct file that you want to use"
   ]
  },
  {
   "cell_type": "code",
   "execution_count": 7,
   "id": "55d367bf",
   "metadata": {},
   "outputs": [
    {
     "data": {
      "text/plain": [
       "'./proc/extracted_recording_data_and_metadata/experiment_Pilot_of_Pilot_cage_1_2_date_20220504_20220516/metadata_cage_1_2_date_20220504_20220516.csv'"
      ]
     },
     "execution_count": 7,
     "metadata": {},
     "output_type": "execute_result"
    }
   ],
   "source": [
    "metadata_files[0]"
   ]
  },
  {
   "cell_type": "code",
   "execution_count": 8,
   "id": "0f9a45de",
   "metadata": {},
   "outputs": [
    {
     "data": {
      "text/plain": [
       "'./proc/extracted_recording_data_and_metadata/experiment_Pilot_of_Pilot_cage_1_2_date_20220504_20220516/MEDPC_recording_cage_1_2_date_20220504_20220516.csv'"
      ]
     },
     "execution_count": 8,
     "metadata": {},
     "output_type": "execute_result"
    }
   ],
   "source": [
    "concatted_medpc_files[0]"
   ]
  },
  {
   "cell_type": "code",
   "execution_count": 9,
   "id": "0876bf99",
   "metadata": {},
   "outputs": [
    {
     "data": {
      "text/plain": [
       "'./proc/extracted_recording_data_and_metadata/experiment_Pilot_of_Pilot_cage_1_2_date_20220504_20220516/recording_metadata_cage_1_2_date_20220504_20220516.csv'"
      ]
     },
     "execution_count": 9,
     "metadata": {},
     "output_type": "execute_result"
    }
   ],
   "source": [
    "recording_and_metadata_files[0]"
   ]
  },
  {
   "cell_type": "code",
   "execution_count": 10,
   "id": "3f535e7c",
   "metadata": {},
   "outputs": [],
   "source": [
    "metadata_df = pd.read_csv(metadata_files[0], index_col=0)\n",
    "concatted_medpc_df = pd.read_csv(concatted_medpc_files[0], index_col=0)\n",
    "recording_and_metadata_df = pd.read_csv(recording_and_metadata_files[0], index_col=0)"
   ]
  },
  {
   "cell_type": "markdown",
   "id": "85769c29",
   "metadata": {},
   "source": [
    "- The Dataframe the contains the metadata(columns) of each recording file(rows)\n",
    "    - We will mostly use this to get the cage number for each subject"
   ]
  },
  {
   "cell_type": "code",
   "execution_count": 11,
   "id": "ac51c847",
   "metadata": {
    "scrolled": true
   },
   "outputs": [
    {
     "data": {
      "text/html": [
       "<div>\n",
       "<style scoped>\n",
       "    .dataframe tbody tr th:only-of-type {\n",
       "        vertical-align: middle;\n",
       "    }\n",
       "\n",
       "    .dataframe tbody tr th {\n",
       "        vertical-align: top;\n",
       "    }\n",
       "\n",
       "    .dataframe thead th {\n",
       "        text-align: right;\n",
       "    }\n",
       "</style>\n",
       "<table border=\"1\" class=\"dataframe\">\n",
       "  <thead>\n",
       "    <tr style=\"text-align: right;\">\n",
       "      <th></th>\n",
       "      <th>index</th>\n",
       "      <th>File</th>\n",
       "      <th>Start Date</th>\n",
       "      <th>End Date</th>\n",
       "      <th>Subject</th>\n",
       "      <th>Experiment</th>\n",
       "      <th>Group</th>\n",
       "      <th>Box</th>\n",
       "      <th>Start Time</th>\n",
       "      <th>End Time</th>\n",
       "      <th>MSN</th>\n",
       "      <th>cage</th>\n",
       "    </tr>\n",
       "  </thead>\n",
       "  <tbody>\n",
       "    <tr>\n",
       "      <th>0</th>\n",
       "      <td>./example_recordings/2022-05-05_12h23m_Subject...</td>\n",
       "      <td>C:\\MED-PC\\Data\\2022-05-05_12h23m_Subject 1.3.txt</td>\n",
       "      <td>05/05/22</td>\n",
       "      <td>05/05/22</td>\n",
       "      <td>1.3</td>\n",
       "      <td>Pilot of Pilot</td>\n",
       "      <td>Cage 2</td>\n",
       "      <td>1</td>\n",
       "      <td>12:23:04</td>\n",
       "      <td>13:25:29</td>\n",
       "      <td>levelNP_CS_reward_laserepochON1st_noshock</td>\n",
       "      <td>2</td>\n",
       "    </tr>\n",
       "    <tr>\n",
       "      <th>1</th>\n",
       "      <td>./example_recordings/2022-05-08_11h14m_Subject...</td>\n",
       "      <td>C:\\MED-PC\\Data\\2022-05-08_11h14m_Subject 1.3.txt</td>\n",
       "      <td>05/08/22</td>\n",
       "      <td>05/08/22</td>\n",
       "      <td>1.3</td>\n",
       "      <td>Pilot of Pilot</td>\n",
       "      <td>Cage 2</td>\n",
       "      <td>4</td>\n",
       "      <td>11:14:36</td>\n",
       "      <td>12:19:20</td>\n",
       "      <td>levelNP_CS_reward_laserepochON1st_noshock</td>\n",
       "      <td>2</td>\n",
       "    </tr>\n",
       "    <tr>\n",
       "      <th>2</th>\n",
       "      <td>./example_recordings/2022-05-09_11h19m_Subject...</td>\n",
       "      <td>C:\\MED-PC\\Data\\2022-05-09_11h19m_Subject 2.1.txt</td>\n",
       "      <td>05/09/22</td>\n",
       "      <td>05/09/22</td>\n",
       "      <td>2.1</td>\n",
       "      <td>Pilot of Pilot</td>\n",
       "      <td>Cage 2</td>\n",
       "      <td>3</td>\n",
       "      <td>11:19:47</td>\n",
       "      <td>12:24:58</td>\n",
       "      <td>levelNP_CS_reward_laserepochON1st_noshock</td>\n",
       "      <td>2</td>\n",
       "    </tr>\n",
       "    <tr>\n",
       "      <th>3</th>\n",
       "      <td>./example_recordings/2022-05-12_10h22m_Subject...</td>\n",
       "      <td>C:\\MED-PC\\Data\\2022-05-12_10h22m_Subject 2.1.txt</td>\n",
       "      <td>05/12/22</td>\n",
       "      <td>05/12/22</td>\n",
       "      <td>2.1</td>\n",
       "      <td>Pilot of Pilot</td>\n",
       "      <td>Cage 2</td>\n",
       "      <td>2</td>\n",
       "      <td>10:22:56</td>\n",
       "      <td>11:27:32</td>\n",
       "      <td>levelNP_CS_reward_laserepochON1st_noshock</td>\n",
       "      <td>2</td>\n",
       "    </tr>\n",
       "    <tr>\n",
       "      <th>4</th>\n",
       "      <td>./example_recordings/2022-05-07_08h53m_Subject...</td>\n",
       "      <td>C:\\MED-PC\\Data\\2022-05-07_08h53m_Subject 2.2.txt</td>\n",
       "      <td>05/07/22</td>\n",
       "      <td>05/07/22</td>\n",
       "      <td>2.2</td>\n",
       "      <td>Pilot of Pilot</td>\n",
       "      <td>Cage 1</td>\n",
       "      <td>1</td>\n",
       "      <td>08:53:20</td>\n",
       "      <td>10:21:47</td>\n",
       "      <td>levelNP_CS_reward_laserepochON1st_noshock</td>\n",
       "      <td>1</td>\n",
       "    </tr>\n",
       "  </tbody>\n",
       "</table>\n",
       "</div>"
      ],
      "text/plain": [
       "                                               index  \\\n",
       "0  ./example_recordings/2022-05-05_12h23m_Subject...   \n",
       "1  ./example_recordings/2022-05-08_11h14m_Subject...   \n",
       "2  ./example_recordings/2022-05-09_11h19m_Subject...   \n",
       "3  ./example_recordings/2022-05-12_10h22m_Subject...   \n",
       "4  ./example_recordings/2022-05-07_08h53m_Subject...   \n",
       "\n",
       "                                               File Start Date  End Date  \\\n",
       "0  C:\\MED-PC\\Data\\2022-05-05_12h23m_Subject 1.3.txt   05/05/22  05/05/22   \n",
       "1  C:\\MED-PC\\Data\\2022-05-08_11h14m_Subject 1.3.txt   05/08/22  05/08/22   \n",
       "2  C:\\MED-PC\\Data\\2022-05-09_11h19m_Subject 2.1.txt   05/09/22  05/09/22   \n",
       "3  C:\\MED-PC\\Data\\2022-05-12_10h22m_Subject 2.1.txt   05/12/22  05/12/22   \n",
       "4  C:\\MED-PC\\Data\\2022-05-07_08h53m_Subject 2.2.txt   05/07/22  05/07/22   \n",
       "\n",
       "   Subject      Experiment   Group  Box Start Time  End Time  \\\n",
       "0      1.3  Pilot of Pilot  Cage 2    1   12:23:04  13:25:29   \n",
       "1      1.3  Pilot of Pilot  Cage 2    4   11:14:36  12:19:20   \n",
       "2      2.1  Pilot of Pilot  Cage 2    3   11:19:47  12:24:58   \n",
       "3      2.1  Pilot of Pilot  Cage 2    2   10:22:56  11:27:32   \n",
       "4      2.2  Pilot of Pilot  Cage 1    1   08:53:20  10:21:47   \n",
       "\n",
       "                                         MSN  cage  \n",
       "0  levelNP_CS_reward_laserepochON1st_noshock     2  \n",
       "1  levelNP_CS_reward_laserepochON1st_noshock     2  \n",
       "2  levelNP_CS_reward_laserepochON1st_noshock     2  \n",
       "3  levelNP_CS_reward_laserepochON1st_noshock     2  \n",
       "4  levelNP_CS_reward_laserepochON1st_noshock     1  "
      ]
     },
     "execution_count": 11,
     "metadata": {},
     "output_type": "execute_result"
    }
   ],
   "source": [
    "metadata_df.head()"
   ]
  },
  {
   "cell_type": "markdown",
   "id": "a16b331e",
   "metadata": {},
   "source": [
    "- The Dataframe the contains the recording data for all the files.\n",
    "    - The 1st row is the first data entries for each type of data(with the type being specified by the column label). This does not mean that all these are related or occured for the same trial. i.e. There can be many port entries and exits for a subject before and after a tone is played.\n",
    "    - Each recording session will usually have a few thousand rows(although, most of of the columns will probably be blank by the end). And then after the last row of one session, the next row will be the next session with a different `file_path`"
   ]
  },
  {
   "cell_type": "code",
   "execution_count": 12,
   "id": "6ac7fe6f",
   "metadata": {},
   "outputs": [
    {
     "data": {
      "text/html": [
       "<div>\n",
       "<style scoped>\n",
       "    .dataframe tbody tr th:only-of-type {\n",
       "        vertical-align: middle;\n",
       "    }\n",
       "\n",
       "    .dataframe tbody tr th {\n",
       "        vertical-align: top;\n",
       "    }\n",
       "\n",
       "    .dataframe thead th {\n",
       "        text-align: right;\n",
       "    }\n",
       "</style>\n",
       "<table border=\"1\" class=\"dataframe\">\n",
       "  <thead>\n",
       "    <tr style=\"text-align: right;\">\n",
       "      <th></th>\n",
       "      <th>(P)Portentry</th>\n",
       "      <th>(Q)USdelivery</th>\n",
       "      <th>(R)UStime</th>\n",
       "      <th>(W)ITIvalues</th>\n",
       "      <th>(S)CSpresentation</th>\n",
       "      <th>(N)Portexit</th>\n",
       "      <th>(K)CStype</th>\n",
       "      <th>(B)shockintensity</th>\n",
       "      <th>date</th>\n",
       "      <th>subject</th>\n",
       "      <th>file_path</th>\n",
       "    </tr>\n",
       "  </thead>\n",
       "  <tbody>\n",
       "    <tr>\n",
       "      <th>0</th>\n",
       "      <td>439.08</td>\n",
       "      <td>64.0</td>\n",
       "      <td>399.0</td>\n",
       "      <td>0.0</td>\n",
       "      <td>60.01</td>\n",
       "      <td>439.10</td>\n",
       "      <td>1.0</td>\n",
       "      <td>0.0</td>\n",
       "      <td>20220505</td>\n",
       "      <td>1.3</td>\n",
       "      <td>./example_recordings/2022-05-05_12h23m_Subject...</td>\n",
       "    </tr>\n",
       "    <tr>\n",
       "      <th>1</th>\n",
       "      <td>439.13</td>\n",
       "      <td>489.0</td>\n",
       "      <td>399.0</td>\n",
       "      <td>0.0</td>\n",
       "      <td>140.01</td>\n",
       "      <td>449.23</td>\n",
       "      <td>1.0</td>\n",
       "      <td>0.0</td>\n",
       "      <td>20220505</td>\n",
       "      <td>1.3</td>\n",
       "      <td>./example_recordings/2022-05-05_12h23m_Subject...</td>\n",
       "    </tr>\n",
       "    <tr>\n",
       "      <th>2</th>\n",
       "      <td>677.76</td>\n",
       "      <td>754.0</td>\n",
       "      <td>399.0</td>\n",
       "      <td>0.0</td>\n",
       "      <td>230.01</td>\n",
       "      <td>678.31</td>\n",
       "      <td>1.0</td>\n",
       "      <td>0.0</td>\n",
       "      <td>20220505</td>\n",
       "      <td>1.3</td>\n",
       "      <td>./example_recordings/2022-05-05_12h23m_Subject...</td>\n",
       "    </tr>\n",
       "    <tr>\n",
       "      <th>3</th>\n",
       "      <td>678.49</td>\n",
       "      <td>944.0</td>\n",
       "      <td>399.0</td>\n",
       "      <td>0.0</td>\n",
       "      <td>310.01</td>\n",
       "      <td>683.61</td>\n",
       "      <td>1.0</td>\n",
       "      <td>0.0</td>\n",
       "      <td>20220505</td>\n",
       "      <td>1.3</td>\n",
       "      <td>./example_recordings/2022-05-05_12h23m_Subject...</td>\n",
       "    </tr>\n",
       "    <tr>\n",
       "      <th>4</th>\n",
       "      <td>851.64</td>\n",
       "      <td>1329.0</td>\n",
       "      <td>399.0</td>\n",
       "      <td>0.0</td>\n",
       "      <td>385.01</td>\n",
       "      <td>856.41</td>\n",
       "      <td>1.0</td>\n",
       "      <td>0.0</td>\n",
       "      <td>20220505</td>\n",
       "      <td>1.3</td>\n",
       "      <td>./example_recordings/2022-05-05_12h23m_Subject...</td>\n",
       "    </tr>\n",
       "  </tbody>\n",
       "</table>\n",
       "</div>"
      ],
      "text/plain": [
       "   (P)Portentry  (Q)USdelivery  (R)UStime  (W)ITIvalues  (S)CSpresentation  \\\n",
       "0        439.08           64.0      399.0           0.0              60.01   \n",
       "1        439.13          489.0      399.0           0.0             140.01   \n",
       "2        677.76          754.0      399.0           0.0             230.01   \n",
       "3        678.49          944.0      399.0           0.0             310.01   \n",
       "4        851.64         1329.0      399.0           0.0             385.01   \n",
       "\n",
       "   (N)Portexit  (K)CStype  (B)shockintensity      date  subject  \\\n",
       "0       439.10        1.0                0.0  20220505      1.3   \n",
       "1       449.23        1.0                0.0  20220505      1.3   \n",
       "2       678.31        1.0                0.0  20220505      1.3   \n",
       "3       683.61        1.0                0.0  20220505      1.3   \n",
       "4       856.41        1.0                0.0  20220505      1.3   \n",
       "\n",
       "                                           file_path  \n",
       "0  ./example_recordings/2022-05-05_12h23m_Subject...  \n",
       "1  ./example_recordings/2022-05-05_12h23m_Subject...  \n",
       "2  ./example_recordings/2022-05-05_12h23m_Subject...  \n",
       "3  ./example_recordings/2022-05-05_12h23m_Subject...  \n",
       "4  ./example_recordings/2022-05-05_12h23m_Subject...  "
      ]
     },
     "execution_count": 12,
     "metadata": {},
     "output_type": "execute_result"
    }
   ],
   "source": [
    "concatted_medpc_df.head()"
   ]
  },
  {
   "cell_type": "markdown",
   "id": "e555d6ea",
   "metadata": {},
   "source": [
    "- This dataframe combines the recording data and metadata dataframes. This is done by using the subject ID as a common column to merge together off of."
   ]
  },
  {
   "cell_type": "code",
   "execution_count": 13,
   "id": "4049d4e9",
   "metadata": {
    "scrolled": false
   },
   "outputs": [
    {
     "data": {
      "text/html": [
       "<div>\n",
       "<style scoped>\n",
       "    .dataframe tbody tr th:only-of-type {\n",
       "        vertical-align: middle;\n",
       "    }\n",
       "\n",
       "    .dataframe tbody tr th {\n",
       "        vertical-align: top;\n",
       "    }\n",
       "\n",
       "    .dataframe thead th {\n",
       "        text-align: right;\n",
       "    }\n",
       "</style>\n",
       "<table border=\"1\" class=\"dataframe\">\n",
       "  <thead>\n",
       "    <tr style=\"text-align: right;\">\n",
       "      <th></th>\n",
       "      <th>(P)Portentry</th>\n",
       "      <th>(Q)USdelivery</th>\n",
       "      <th>(R)UStime</th>\n",
       "      <th>(W)ITIvalues</th>\n",
       "      <th>(S)CSpresentation</th>\n",
       "      <th>(N)Portexit</th>\n",
       "      <th>(K)CStype</th>\n",
       "      <th>(B)shockintensity</th>\n",
       "      <th>date</th>\n",
       "      <th>subject</th>\n",
       "      <th>...</th>\n",
       "      <th>Start Date</th>\n",
       "      <th>End Date</th>\n",
       "      <th>Subject</th>\n",
       "      <th>Experiment</th>\n",
       "      <th>Group</th>\n",
       "      <th>Box</th>\n",
       "      <th>Start Time</th>\n",
       "      <th>End Time</th>\n",
       "      <th>MSN</th>\n",
       "      <th>cage</th>\n",
       "    </tr>\n",
       "  </thead>\n",
       "  <tbody>\n",
       "    <tr>\n",
       "      <th>0</th>\n",
       "      <td>439.08</td>\n",
       "      <td>64.0</td>\n",
       "      <td>399.0</td>\n",
       "      <td>0.0</td>\n",
       "      <td>60.01</td>\n",
       "      <td>439.10</td>\n",
       "      <td>1.0</td>\n",
       "      <td>0.0</td>\n",
       "      <td>20220505</td>\n",
       "      <td>1.3</td>\n",
       "      <td>...</td>\n",
       "      <td>05/05/22</td>\n",
       "      <td>05/05/22</td>\n",
       "      <td>1.3</td>\n",
       "      <td>Pilot of Pilot</td>\n",
       "      <td>Cage 2</td>\n",
       "      <td>1</td>\n",
       "      <td>12:23:04</td>\n",
       "      <td>13:25:29</td>\n",
       "      <td>levelNP_CS_reward_laserepochON1st_noshock</td>\n",
       "      <td>2</td>\n",
       "    </tr>\n",
       "    <tr>\n",
       "      <th>1</th>\n",
       "      <td>439.13</td>\n",
       "      <td>489.0</td>\n",
       "      <td>399.0</td>\n",
       "      <td>0.0</td>\n",
       "      <td>140.01</td>\n",
       "      <td>449.23</td>\n",
       "      <td>1.0</td>\n",
       "      <td>0.0</td>\n",
       "      <td>20220505</td>\n",
       "      <td>1.3</td>\n",
       "      <td>...</td>\n",
       "      <td>05/05/22</td>\n",
       "      <td>05/05/22</td>\n",
       "      <td>1.3</td>\n",
       "      <td>Pilot of Pilot</td>\n",
       "      <td>Cage 2</td>\n",
       "      <td>1</td>\n",
       "      <td>12:23:04</td>\n",
       "      <td>13:25:29</td>\n",
       "      <td>levelNP_CS_reward_laserepochON1st_noshock</td>\n",
       "      <td>2</td>\n",
       "    </tr>\n",
       "    <tr>\n",
       "      <th>2</th>\n",
       "      <td>677.76</td>\n",
       "      <td>754.0</td>\n",
       "      <td>399.0</td>\n",
       "      <td>0.0</td>\n",
       "      <td>230.01</td>\n",
       "      <td>678.31</td>\n",
       "      <td>1.0</td>\n",
       "      <td>0.0</td>\n",
       "      <td>20220505</td>\n",
       "      <td>1.3</td>\n",
       "      <td>...</td>\n",
       "      <td>05/05/22</td>\n",
       "      <td>05/05/22</td>\n",
       "      <td>1.3</td>\n",
       "      <td>Pilot of Pilot</td>\n",
       "      <td>Cage 2</td>\n",
       "      <td>1</td>\n",
       "      <td>12:23:04</td>\n",
       "      <td>13:25:29</td>\n",
       "      <td>levelNP_CS_reward_laserepochON1st_noshock</td>\n",
       "      <td>2</td>\n",
       "    </tr>\n",
       "    <tr>\n",
       "      <th>3</th>\n",
       "      <td>678.49</td>\n",
       "      <td>944.0</td>\n",
       "      <td>399.0</td>\n",
       "      <td>0.0</td>\n",
       "      <td>310.01</td>\n",
       "      <td>683.61</td>\n",
       "      <td>1.0</td>\n",
       "      <td>0.0</td>\n",
       "      <td>20220505</td>\n",
       "      <td>1.3</td>\n",
       "      <td>...</td>\n",
       "      <td>05/05/22</td>\n",
       "      <td>05/05/22</td>\n",
       "      <td>1.3</td>\n",
       "      <td>Pilot of Pilot</td>\n",
       "      <td>Cage 2</td>\n",
       "      <td>1</td>\n",
       "      <td>12:23:04</td>\n",
       "      <td>13:25:29</td>\n",
       "      <td>levelNP_CS_reward_laserepochON1st_noshock</td>\n",
       "      <td>2</td>\n",
       "    </tr>\n",
       "    <tr>\n",
       "      <th>4</th>\n",
       "      <td>851.64</td>\n",
       "      <td>1329.0</td>\n",
       "      <td>399.0</td>\n",
       "      <td>0.0</td>\n",
       "      <td>385.01</td>\n",
       "      <td>856.41</td>\n",
       "      <td>1.0</td>\n",
       "      <td>0.0</td>\n",
       "      <td>20220505</td>\n",
       "      <td>1.3</td>\n",
       "      <td>...</td>\n",
       "      <td>05/05/22</td>\n",
       "      <td>05/05/22</td>\n",
       "      <td>1.3</td>\n",
       "      <td>Pilot of Pilot</td>\n",
       "      <td>Cage 2</td>\n",
       "      <td>1</td>\n",
       "      <td>12:23:04</td>\n",
       "      <td>13:25:29</td>\n",
       "      <td>levelNP_CS_reward_laserepochON1st_noshock</td>\n",
       "      <td>2</td>\n",
       "    </tr>\n",
       "  </tbody>\n",
       "</table>\n",
       "<p>5 rows × 23 columns</p>\n",
       "</div>"
      ],
      "text/plain": [
       "   (P)Portentry  (Q)USdelivery  (R)UStime  (W)ITIvalues  (S)CSpresentation  \\\n",
       "0        439.08           64.0      399.0           0.0              60.01   \n",
       "1        439.13          489.0      399.0           0.0             140.01   \n",
       "2        677.76          754.0      399.0           0.0             230.01   \n",
       "3        678.49          944.0      399.0           0.0             310.01   \n",
       "4        851.64         1329.0      399.0           0.0             385.01   \n",
       "\n",
       "   (N)Portexit  (K)CStype  (B)shockintensity      date  subject  ...  \\\n",
       "0       439.10        1.0                0.0  20220505      1.3  ...   \n",
       "1       449.23        1.0                0.0  20220505      1.3  ...   \n",
       "2       678.31        1.0                0.0  20220505      1.3  ...   \n",
       "3       683.61        1.0                0.0  20220505      1.3  ...   \n",
       "4       856.41        1.0                0.0  20220505      1.3  ...   \n",
       "\n",
       "  Start Date  End Date Subject      Experiment   Group  Box Start Time  \\\n",
       "0   05/05/22  05/05/22     1.3  Pilot of Pilot  Cage 2    1   12:23:04   \n",
       "1   05/05/22  05/05/22     1.3  Pilot of Pilot  Cage 2    1   12:23:04   \n",
       "2   05/05/22  05/05/22     1.3  Pilot of Pilot  Cage 2    1   12:23:04   \n",
       "3   05/05/22  05/05/22     1.3  Pilot of Pilot  Cage 2    1   12:23:04   \n",
       "4   05/05/22  05/05/22     1.3  Pilot of Pilot  Cage 2    1   12:23:04   \n",
       "\n",
       "   End Time                                        MSN cage  \n",
       "0  13:25:29  levelNP_CS_reward_laserepochON1st_noshock    2  \n",
       "1  13:25:29  levelNP_CS_reward_laserepochON1st_noshock    2  \n",
       "2  13:25:29  levelNP_CS_reward_laserepochON1st_noshock    2  \n",
       "3  13:25:29  levelNP_CS_reward_laserepochON1st_noshock    2  \n",
       "4  13:25:29  levelNP_CS_reward_laserepochON1st_noshock    2  \n",
       "\n",
       "[5 rows x 23 columns]"
      ]
     },
     "execution_count": 13,
     "metadata": {},
     "output_type": "execute_result"
    }
   ],
   "source": [
    "recording_and_metadata_df.head()"
   ]
  },
  {
   "cell_type": "markdown",
   "id": "131e8fca",
   "metadata": {},
   "source": [
    "# NOTE: Follow directions below if you want to change which cages or dates to plot`"
   ]
  },
  {
   "cell_type": "markdown",
   "id": "6b3d889f",
   "metadata": {},
   "source": [
    "- You must change the cell below by clicking on the cell and then pressing the `esc` key. Then press the `Y` button on your keyboard. If you want to switch it back do the same but press the `R` button instead. This switches it from a cell that is run as if it's code, or back to a cell where it's just treated as text\n",
    "- Then from above, copy the numbers that you want to use for the cage numbers and the dates"
   ]
  },
  {
   "cell_type": "code",
   "execution_count": 14,
   "id": "e5822402",
   "metadata": {},
   "outputs": [],
   "source": [
    "all_cages = [1]\n",
    "all_dates = [20220508, 20220509, 20220510, 20220511, 20220512]"
   ]
  },
  {
   "cell_type": "code",
   "execution_count": 15,
   "id": "a8bb92e2",
   "metadata": {},
   "outputs": [],
   "source": [
    "recording_and_metadata_df = recording_and_metadata_df[recording_and_metadata_df[\"cage\"].isin(all_cages) & recording_and_metadata_df[\"date\"].isin(all_dates)]"
   ]
  },
  {
   "cell_type": "markdown",
   "id": "5b125067",
   "metadata": {},
   "source": [
    "## Getting the Cage Numbers and the Dates for the file names"
   ]
  },
  {
   "cell_type": "markdown",
   "id": "65845ee0",
   "metadata": {},
   "source": [
    "- Seeing if any rows have NaN values for the cages"
   ]
  },
  {
   "cell_type": "code",
   "execution_count": 16,
   "id": "d0f3d0ea",
   "metadata": {},
   "outputs": [
    {
     "data": {
      "text/html": [
       "<div>\n",
       "<style scoped>\n",
       "    .dataframe tbody tr th:only-of-type {\n",
       "        vertical-align: middle;\n",
       "    }\n",
       "\n",
       "    .dataframe tbody tr th {\n",
       "        vertical-align: top;\n",
       "    }\n",
       "\n",
       "    .dataframe thead th {\n",
       "        text-align: right;\n",
       "    }\n",
       "</style>\n",
       "<table border=\"1\" class=\"dataframe\">\n",
       "  <thead>\n",
       "    <tr style=\"text-align: right;\">\n",
       "      <th></th>\n",
       "      <th>(P)Portentry</th>\n",
       "      <th>(Q)USdelivery</th>\n",
       "      <th>(R)UStime</th>\n",
       "      <th>(W)ITIvalues</th>\n",
       "      <th>(S)CSpresentation</th>\n",
       "      <th>(N)Portexit</th>\n",
       "      <th>(K)CStype</th>\n",
       "      <th>(B)shockintensity</th>\n",
       "      <th>date</th>\n",
       "      <th>subject</th>\n",
       "      <th>...</th>\n",
       "      <th>Start Date</th>\n",
       "      <th>End Date</th>\n",
       "      <th>Subject</th>\n",
       "      <th>Experiment</th>\n",
       "      <th>Group</th>\n",
       "      <th>Box</th>\n",
       "      <th>Start Time</th>\n",
       "      <th>End Time</th>\n",
       "      <th>MSN</th>\n",
       "      <th>cage</th>\n",
       "    </tr>\n",
       "  </thead>\n",
       "  <tbody>\n",
       "  </tbody>\n",
       "</table>\n",
       "<p>0 rows × 23 columns</p>\n",
       "</div>"
      ],
      "text/plain": [
       "Empty DataFrame\n",
       "Columns: [(P)Portentry, (Q)USdelivery, (R)UStime, (W)ITIvalues, (S)CSpresentation, (N)Portexit, (K)CStype, (B)shockintensity, date, subject, file_path, index, File, Start Date, End Date, Subject, Experiment, Group, Box, Start Time, End Time, MSN, cage]\n",
       "Index: []\n",
       "\n",
       "[0 rows x 23 columns]"
      ]
     },
     "execution_count": 16,
     "metadata": {},
     "output_type": "execute_result"
    }
   ],
   "source": [
    "recording_and_metadata_df[pd.isna(recording_and_metadata_df[\"cage\"])]"
   ]
  },
  {
   "cell_type": "markdown",
   "id": "5b233420",
   "metadata": {},
   "source": [
    "- Dropping the NaN values so we can get the cage numbers"
   ]
  },
  {
   "cell_type": "code",
   "execution_count": 17,
   "id": "f55a3cf1",
   "metadata": {},
   "outputs": [],
   "source": [
    "recording_and_metadata_df = recording_and_metadata_df.dropna(subset=[\"cage\"])"
   ]
  },
  {
   "cell_type": "code",
   "execution_count": 18,
   "id": "9c84b588",
   "metadata": {},
   "outputs": [],
   "source": [
    "# removing blank spaces\n",
    "cage_numbers = [str(int(number)) for number in all_cages if number is not np.nan]\n",
    "# sorting numbers\n",
    "cage_numbers = sorted(cage_numbers)\n",
    "cage_numbers_for_title = \"_\".join(cage_numbers)"
   ]
  },
  {
   "cell_type": "code",
   "execution_count": 19,
   "id": "578dc612",
   "metadata": {},
   "outputs": [
    {
     "data": {
      "text/plain": [
       "'1'"
      ]
     },
     "execution_count": 19,
     "metadata": {},
     "output_type": "execute_result"
    }
   ],
   "source": [
    "cage_numbers_for_title"
   ]
  },
  {
   "cell_type": "code",
   "execution_count": 20,
   "id": "b943d673",
   "metadata": {},
   "outputs": [],
   "source": [
    "# Getting the first and last recording date to get a range\n",
    "earliest_date = min(all_dates)\n",
    "latest_date = max(all_dates)"
   ]
  },
  {
   "cell_type": "code",
   "execution_count": 21,
   "id": "80e05406",
   "metadata": {},
   "outputs": [
    {
     "data": {
      "text/plain": [
       "20220508"
      ]
     },
     "execution_count": 21,
     "metadata": {},
     "output_type": "execute_result"
    }
   ],
   "source": [
    "earliest_date"
   ]
  },
  {
   "cell_type": "code",
   "execution_count": 22,
   "id": "ca6fbe08",
   "metadata": {},
   "outputs": [
    {
     "data": {
      "text/plain": [
       "20220512"
      ]
     },
     "execution_count": 22,
     "metadata": {},
     "output_type": "execute_result"
    }
   ],
   "source": [
    "latest_date"
   ]
  },
  {
   "cell_type": "markdown",
   "id": "29cb4a79",
   "metadata": {},
   "source": [
    "# Getting the Probability that the Mice Is Inside the Port"
   ]
  },
  {
   "cell_type": "markdown",
   "id": "80b22ed4",
   "metadata": {},
   "source": [
    "- Port entry precision is calculated by finding the number of trials in one recording session that a subject is in the port entry. This is done by divding all of the time of the session into 10ms increments. And then seeing how many times a subject is in that port for a given 10 ms increment for all the sessions. \n",
    "    - MED-PC records only in 10ms intervals(the smallest that it can), so a subject is either in the port or not. It is binary.\n",
    "    - For example, we may be interested in what's happening 5 seconds after the tone plays. We would look at all the recordings that happened between 5 seconds to 5 seconds and 10ms after the tone for all session. If there was 10 total sessions in one trial and the subject was in the port 4 times during the 5s to 5s 10ms interval, then the probability is 4/10.\n"
   ]
  },
  {
   "cell_type": "markdown",
   "id": "911d6611",
   "metadata": {},
   "source": [
    "## 1. Getting All the Time Intervals Between the Port Entry and Port Exit Times"
   ]
  },
  {
   "cell_type": "markdown",
   "id": "ef357066",
   "metadata": {},
   "source": [
    "- We will do an example with just one recording session"
   ]
  },
  {
   "cell_type": "code",
   "execution_count": 23,
   "id": "f5292a46",
   "metadata": {},
   "outputs": [],
   "source": [
    "example_med_pc_file = recording_and_metadata_df[\"file_path\"].iloc[0]"
   ]
  },
  {
   "cell_type": "code",
   "execution_count": 24,
   "id": "86cbdba5",
   "metadata": {},
   "outputs": [],
   "source": [
    "example_med_pc_df = recording_and_metadata_df[recording_and_metadata_df[\"file_path\"] == example_med_pc_file]"
   ]
  },
  {
   "cell_type": "code",
   "execution_count": null,
   "id": "8e1f1c1f",
   "metadata": {},
   "outputs": [],
   "source": []
  },
  {
   "cell_type": "code",
   "execution_count": 25,
   "id": "9ef83b79",
   "metadata": {},
   "outputs": [
    {
     "data": {
      "text/plain": [
       "12705     ./example_recordings/2022-05-09_09h48m_Subject...\n",
       "12706     ./example_recordings/2022-05-09_09h48m_Subject...\n",
       "12707     ./example_recordings/2022-05-09_09h48m_Subject...\n",
       "12708     ./example_recordings/2022-05-09_09h48m_Subject...\n",
       "12709     ./example_recordings/2022-05-09_09h48m_Subject...\n",
       "                                ...                        \n",
       "185488    ./example_recordings/2022-05-11_15h25m_Subject...\n",
       "185489    ./example_recordings/2022-05-11_15h25m_Subject...\n",
       "185490    ./example_recordings/2022-05-11_15h25m_Subject...\n",
       "185491    ./example_recordings/2022-05-11_15h25m_Subject...\n",
       "185492    ./example_recordings/2022-05-11_15h25m_Subject...\n",
       "Name: file_path, Length: 40656, dtype: object"
      ]
     },
     "execution_count": 25,
     "metadata": {},
     "output_type": "execute_result"
    }
   ],
   "source": [
    "recording_and_metadata_df[\"file_path\"]"
   ]
  },
  {
   "cell_type": "code",
   "execution_count": 26,
   "id": "5f748dd3",
   "metadata": {},
   "outputs": [
    {
     "data": {
      "text/html": [
       "<div>\n",
       "<style scoped>\n",
       "    .dataframe tbody tr th:only-of-type {\n",
       "        vertical-align: middle;\n",
       "    }\n",
       "\n",
       "    .dataframe tbody tr th {\n",
       "        vertical-align: top;\n",
       "    }\n",
       "\n",
       "    .dataframe thead th {\n",
       "        text-align: right;\n",
       "    }\n",
       "</style>\n",
       "<table border=\"1\" class=\"dataframe\">\n",
       "  <thead>\n",
       "    <tr style=\"text-align: right;\">\n",
       "      <th></th>\n",
       "      <th>(P)Portentry</th>\n",
       "      <th>(Q)USdelivery</th>\n",
       "      <th>(R)UStime</th>\n",
       "      <th>(W)ITIvalues</th>\n",
       "      <th>(S)CSpresentation</th>\n",
       "      <th>(N)Portexit</th>\n",
       "      <th>(K)CStype</th>\n",
       "      <th>(B)shockintensity</th>\n",
       "      <th>date</th>\n",
       "      <th>subject</th>\n",
       "      <th>...</th>\n",
       "      <th>Start Date</th>\n",
       "      <th>End Date</th>\n",
       "      <th>Subject</th>\n",
       "      <th>Experiment</th>\n",
       "      <th>Group</th>\n",
       "      <th>Box</th>\n",
       "      <th>Start Time</th>\n",
       "      <th>End Time</th>\n",
       "      <th>MSN</th>\n",
       "      <th>cage</th>\n",
       "    </tr>\n",
       "  </thead>\n",
       "  <tbody>\n",
       "    <tr>\n",
       "      <th>12705</th>\n",
       "      <td>4.46</td>\n",
       "      <td>64.0</td>\n",
       "      <td>399.0</td>\n",
       "      <td>0.0</td>\n",
       "      <td>60.01</td>\n",
       "      <td>5.03</td>\n",
       "      <td>1.0</td>\n",
       "      <td>0.0</td>\n",
       "      <td>20220509</td>\n",
       "      <td>1.1</td>\n",
       "      <td>...</td>\n",
       "      <td>05/09/22</td>\n",
       "      <td>05/09/22</td>\n",
       "      <td>1.1</td>\n",
       "      <td>Pilot of Pilot</td>\n",
       "      <td>Cage 1</td>\n",
       "      <td>2</td>\n",
       "      <td>09:48:49</td>\n",
       "      <td>11:00:54</td>\n",
       "      <td>levelNP_CS_reward_laserepochON1st_noshock</td>\n",
       "      <td>1</td>\n",
       "    </tr>\n",
       "    <tr>\n",
       "      <th>12706</th>\n",
       "      <td>53.73</td>\n",
       "      <td>144.0</td>\n",
       "      <td>399.0</td>\n",
       "      <td>0.0</td>\n",
       "      <td>140.01</td>\n",
       "      <td>59.77</td>\n",
       "      <td>1.0</td>\n",
       "      <td>0.0</td>\n",
       "      <td>20220509</td>\n",
       "      <td>1.1</td>\n",
       "      <td>...</td>\n",
       "      <td>05/09/22</td>\n",
       "      <td>05/09/22</td>\n",
       "      <td>1.1</td>\n",
       "      <td>Pilot of Pilot</td>\n",
       "      <td>Cage 1</td>\n",
       "      <td>2</td>\n",
       "      <td>09:48:49</td>\n",
       "      <td>11:00:54</td>\n",
       "      <td>levelNP_CS_reward_laserepochON1st_noshock</td>\n",
       "      <td>1</td>\n",
       "    </tr>\n",
       "    <tr>\n",
       "      <th>12707</th>\n",
       "      <td>61.61</td>\n",
       "      <td>234.0</td>\n",
       "      <td>399.0</td>\n",
       "      <td>0.0</td>\n",
       "      <td>230.01</td>\n",
       "      <td>73.37</td>\n",
       "      <td>1.0</td>\n",
       "      <td>0.0</td>\n",
       "      <td>20220509</td>\n",
       "      <td>1.1</td>\n",
       "      <td>...</td>\n",
       "      <td>05/09/22</td>\n",
       "      <td>05/09/22</td>\n",
       "      <td>1.1</td>\n",
       "      <td>Pilot of Pilot</td>\n",
       "      <td>Cage 1</td>\n",
       "      <td>2</td>\n",
       "      <td>09:48:49</td>\n",
       "      <td>11:00:54</td>\n",
       "      <td>levelNP_CS_reward_laserepochON1st_noshock</td>\n",
       "      <td>1</td>\n",
       "    </tr>\n",
       "    <tr>\n",
       "      <th>12708</th>\n",
       "      <td>77.85</td>\n",
       "      <td>314.0</td>\n",
       "      <td>399.0</td>\n",
       "      <td>0.0</td>\n",
       "      <td>310.01</td>\n",
       "      <td>80.71</td>\n",
       "      <td>1.0</td>\n",
       "      <td>0.0</td>\n",
       "      <td>20220509</td>\n",
       "      <td>1.1</td>\n",
       "      <td>...</td>\n",
       "      <td>05/09/22</td>\n",
       "      <td>05/09/22</td>\n",
       "      <td>1.1</td>\n",
       "      <td>Pilot of Pilot</td>\n",
       "      <td>Cage 1</td>\n",
       "      <td>2</td>\n",
       "      <td>09:48:49</td>\n",
       "      <td>11:00:54</td>\n",
       "      <td>levelNP_CS_reward_laserepochON1st_noshock</td>\n",
       "      <td>1</td>\n",
       "    </tr>\n",
       "    <tr>\n",
       "      <th>12709</th>\n",
       "      <td>95.26</td>\n",
       "      <td>389.0</td>\n",
       "      <td>399.0</td>\n",
       "      <td>0.0</td>\n",
       "      <td>385.01</td>\n",
       "      <td>99.79</td>\n",
       "      <td>1.0</td>\n",
       "      <td>0.0</td>\n",
       "      <td>20220509</td>\n",
       "      <td>1.1</td>\n",
       "      <td>...</td>\n",
       "      <td>05/09/22</td>\n",
       "      <td>05/09/22</td>\n",
       "      <td>1.1</td>\n",
       "      <td>Pilot of Pilot</td>\n",
       "      <td>Cage 1</td>\n",
       "      <td>2</td>\n",
       "      <td>09:48:49</td>\n",
       "      <td>11:00:54</td>\n",
       "      <td>levelNP_CS_reward_laserepochON1st_noshock</td>\n",
       "      <td>1</td>\n",
       "    </tr>\n",
       "  </tbody>\n",
       "</table>\n",
       "<p>5 rows × 23 columns</p>\n",
       "</div>"
      ],
      "text/plain": [
       "       (P)Portentry  (Q)USdelivery  (R)UStime  (W)ITIvalues  \\\n",
       "12705          4.46           64.0      399.0           0.0   \n",
       "12706         53.73          144.0      399.0           0.0   \n",
       "12707         61.61          234.0      399.0           0.0   \n",
       "12708         77.85          314.0      399.0           0.0   \n",
       "12709         95.26          389.0      399.0           0.0   \n",
       "\n",
       "       (S)CSpresentation  (N)Portexit  (K)CStype  (B)shockintensity      date  \\\n",
       "12705              60.01         5.03        1.0                0.0  20220509   \n",
       "12706             140.01        59.77        1.0                0.0  20220509   \n",
       "12707             230.01        73.37        1.0                0.0  20220509   \n",
       "12708             310.01        80.71        1.0                0.0  20220509   \n",
       "12709             385.01        99.79        1.0                0.0  20220509   \n",
       "\n",
       "       subject  ... Start Date  End Date Subject      Experiment   Group  Box  \\\n",
       "12705      1.1  ...   05/09/22  05/09/22     1.1  Pilot of Pilot  Cage 1    2   \n",
       "12706      1.1  ...   05/09/22  05/09/22     1.1  Pilot of Pilot  Cage 1    2   \n",
       "12707      1.1  ...   05/09/22  05/09/22     1.1  Pilot of Pilot  Cage 1    2   \n",
       "12708      1.1  ...   05/09/22  05/09/22     1.1  Pilot of Pilot  Cage 1    2   \n",
       "12709      1.1  ...   05/09/22  05/09/22     1.1  Pilot of Pilot  Cage 1    2   \n",
       "\n",
       "      Start Time  End Time                                        MSN cage  \n",
       "12705   09:48:49  11:00:54  levelNP_CS_reward_laserepochON1st_noshock    1  \n",
       "12706   09:48:49  11:00:54  levelNP_CS_reward_laserepochON1st_noshock    1  \n",
       "12707   09:48:49  11:00:54  levelNP_CS_reward_laserepochON1st_noshock    1  \n",
       "12708   09:48:49  11:00:54  levelNP_CS_reward_laserepochON1st_noshock    1  \n",
       "12709   09:48:49  11:00:54  levelNP_CS_reward_laserepochON1st_noshock    1  \n",
       "\n",
       "[5 rows x 23 columns]"
      ]
     },
     "execution_count": 26,
     "metadata": {},
     "output_type": "execute_result"
    }
   ],
   "source": [
    "example_med_pc_df.head()"
   ]
  },
  {
   "cell_type": "markdown",
   "id": "972050a8",
   "metadata": {},
   "source": [
    "## 1.1 Processing the Dataframe to remove all rows with NaNs"
   ]
  },
  {
   "cell_type": "markdown",
   "id": "970f5fb1",
   "metadata": {},
   "source": [
    "- Our first goal is to get all the port entry and exit times\n",
    "- To do this, we must remove all extraneous rows that have NaNs for the port entry and exit times"
   ]
  },
  {
   "cell_type": "code",
   "execution_count": 27,
   "id": "ad70165e",
   "metadata": {},
   "outputs": [],
   "source": [
    "example_med_pc_df = example_med_pc_df.dropna(subset=(\"(P)Portentry\", \"(N)Portexit\"))"
   ]
  },
  {
   "cell_type": "code",
   "execution_count": 28,
   "id": "ae253548",
   "metadata": {},
   "outputs": [
    {
     "data": {
      "text/html": [
       "<div>\n",
       "<style scoped>\n",
       "    .dataframe tbody tr th:only-of-type {\n",
       "        vertical-align: middle;\n",
       "    }\n",
       "\n",
       "    .dataframe tbody tr th {\n",
       "        vertical-align: top;\n",
       "    }\n",
       "\n",
       "    .dataframe thead th {\n",
       "        text-align: right;\n",
       "    }\n",
       "</style>\n",
       "<table border=\"1\" class=\"dataframe\">\n",
       "  <thead>\n",
       "    <tr style=\"text-align: right;\">\n",
       "      <th></th>\n",
       "      <th>(P)Portentry</th>\n",
       "      <th>(Q)USdelivery</th>\n",
       "      <th>(R)UStime</th>\n",
       "      <th>(W)ITIvalues</th>\n",
       "      <th>(S)CSpresentation</th>\n",
       "      <th>(N)Portexit</th>\n",
       "      <th>(K)CStype</th>\n",
       "      <th>(B)shockintensity</th>\n",
       "      <th>date</th>\n",
       "      <th>subject</th>\n",
       "      <th>...</th>\n",
       "      <th>Start Date</th>\n",
       "      <th>End Date</th>\n",
       "      <th>Subject</th>\n",
       "      <th>Experiment</th>\n",
       "      <th>Group</th>\n",
       "      <th>Box</th>\n",
       "      <th>Start Time</th>\n",
       "      <th>End Time</th>\n",
       "      <th>MSN</th>\n",
       "      <th>cage</th>\n",
       "    </tr>\n",
       "  </thead>\n",
       "  <tbody>\n",
       "    <tr>\n",
       "      <th>12705</th>\n",
       "      <td>4.46</td>\n",
       "      <td>64.0</td>\n",
       "      <td>399.0</td>\n",
       "      <td>0.0</td>\n",
       "      <td>60.01</td>\n",
       "      <td>5.03</td>\n",
       "      <td>1.0</td>\n",
       "      <td>0.0</td>\n",
       "      <td>20220509</td>\n",
       "      <td>1.1</td>\n",
       "      <td>...</td>\n",
       "      <td>05/09/22</td>\n",
       "      <td>05/09/22</td>\n",
       "      <td>1.1</td>\n",
       "      <td>Pilot of Pilot</td>\n",
       "      <td>Cage 1</td>\n",
       "      <td>2</td>\n",
       "      <td>09:48:49</td>\n",
       "      <td>11:00:54</td>\n",
       "      <td>levelNP_CS_reward_laserepochON1st_noshock</td>\n",
       "      <td>1</td>\n",
       "    </tr>\n",
       "    <tr>\n",
       "      <th>12706</th>\n",
       "      <td>53.73</td>\n",
       "      <td>144.0</td>\n",
       "      <td>399.0</td>\n",
       "      <td>0.0</td>\n",
       "      <td>140.01</td>\n",
       "      <td>59.77</td>\n",
       "      <td>1.0</td>\n",
       "      <td>0.0</td>\n",
       "      <td>20220509</td>\n",
       "      <td>1.1</td>\n",
       "      <td>...</td>\n",
       "      <td>05/09/22</td>\n",
       "      <td>05/09/22</td>\n",
       "      <td>1.1</td>\n",
       "      <td>Pilot of Pilot</td>\n",
       "      <td>Cage 1</td>\n",
       "      <td>2</td>\n",
       "      <td>09:48:49</td>\n",
       "      <td>11:00:54</td>\n",
       "      <td>levelNP_CS_reward_laserepochON1st_noshock</td>\n",
       "      <td>1</td>\n",
       "    </tr>\n",
       "    <tr>\n",
       "      <th>12707</th>\n",
       "      <td>61.61</td>\n",
       "      <td>234.0</td>\n",
       "      <td>399.0</td>\n",
       "      <td>0.0</td>\n",
       "      <td>230.01</td>\n",
       "      <td>73.37</td>\n",
       "      <td>1.0</td>\n",
       "      <td>0.0</td>\n",
       "      <td>20220509</td>\n",
       "      <td>1.1</td>\n",
       "      <td>...</td>\n",
       "      <td>05/09/22</td>\n",
       "      <td>05/09/22</td>\n",
       "      <td>1.1</td>\n",
       "      <td>Pilot of Pilot</td>\n",
       "      <td>Cage 1</td>\n",
       "      <td>2</td>\n",
       "      <td>09:48:49</td>\n",
       "      <td>11:00:54</td>\n",
       "      <td>levelNP_CS_reward_laserepochON1st_noshock</td>\n",
       "      <td>1</td>\n",
       "    </tr>\n",
       "    <tr>\n",
       "      <th>12708</th>\n",
       "      <td>77.85</td>\n",
       "      <td>314.0</td>\n",
       "      <td>399.0</td>\n",
       "      <td>0.0</td>\n",
       "      <td>310.01</td>\n",
       "      <td>80.71</td>\n",
       "      <td>1.0</td>\n",
       "      <td>0.0</td>\n",
       "      <td>20220509</td>\n",
       "      <td>1.1</td>\n",
       "      <td>...</td>\n",
       "      <td>05/09/22</td>\n",
       "      <td>05/09/22</td>\n",
       "      <td>1.1</td>\n",
       "      <td>Pilot of Pilot</td>\n",
       "      <td>Cage 1</td>\n",
       "      <td>2</td>\n",
       "      <td>09:48:49</td>\n",
       "      <td>11:00:54</td>\n",
       "      <td>levelNP_CS_reward_laserepochON1st_noshock</td>\n",
       "      <td>1</td>\n",
       "    </tr>\n",
       "    <tr>\n",
       "      <th>12709</th>\n",
       "      <td>95.26</td>\n",
       "      <td>389.0</td>\n",
       "      <td>399.0</td>\n",
       "      <td>0.0</td>\n",
       "      <td>385.01</td>\n",
       "      <td>99.79</td>\n",
       "      <td>1.0</td>\n",
       "      <td>0.0</td>\n",
       "      <td>20220509</td>\n",
       "      <td>1.1</td>\n",
       "      <td>...</td>\n",
       "      <td>05/09/22</td>\n",
       "      <td>05/09/22</td>\n",
       "      <td>1.1</td>\n",
       "      <td>Pilot of Pilot</td>\n",
       "      <td>Cage 1</td>\n",
       "      <td>2</td>\n",
       "      <td>09:48:49</td>\n",
       "      <td>11:00:54</td>\n",
       "      <td>levelNP_CS_reward_laserepochON1st_noshock</td>\n",
       "      <td>1</td>\n",
       "    </tr>\n",
       "    <tr>\n",
       "      <th>...</th>\n",
       "      <td>...</td>\n",
       "      <td>...</td>\n",
       "      <td>...</td>\n",
       "      <td>...</td>\n",
       "      <td>...</td>\n",
       "      <td>...</td>\n",
       "      <td>...</td>\n",
       "      <td>...</td>\n",
       "      <td>...</td>\n",
       "      <td>...</td>\n",
       "      <td>...</td>\n",
       "      <td>...</td>\n",
       "      <td>...</td>\n",
       "      <td>...</td>\n",
       "      <td>...</td>\n",
       "      <td>...</td>\n",
       "      <td>...</td>\n",
       "      <td>...</td>\n",
       "      <td>...</td>\n",
       "      <td>...</td>\n",
       "      <td>...</td>\n",
       "    </tr>\n",
       "    <tr>\n",
       "      <th>13285</th>\n",
       "      <td>3576.19</td>\n",
       "      <td>NaN</td>\n",
       "      <td>NaN</td>\n",
       "      <td>0.0</td>\n",
       "      <td>NaN</td>\n",
       "      <td>3580.07</td>\n",
       "      <td>0.0</td>\n",
       "      <td>0.0</td>\n",
       "      <td>20220509</td>\n",
       "      <td>1.1</td>\n",
       "      <td>...</td>\n",
       "      <td>05/09/22</td>\n",
       "      <td>05/09/22</td>\n",
       "      <td>1.1</td>\n",
       "      <td>Pilot of Pilot</td>\n",
       "      <td>Cage 1</td>\n",
       "      <td>2</td>\n",
       "      <td>09:48:49</td>\n",
       "      <td>11:00:54</td>\n",
       "      <td>levelNP_CS_reward_laserepochON1st_noshock</td>\n",
       "      <td>1</td>\n",
       "    </tr>\n",
       "    <tr>\n",
       "      <th>13286</th>\n",
       "      <td>3591.79</td>\n",
       "      <td>NaN</td>\n",
       "      <td>NaN</td>\n",
       "      <td>0.0</td>\n",
       "      <td>NaN</td>\n",
       "      <td>3593.85</td>\n",
       "      <td>0.0</td>\n",
       "      <td>0.0</td>\n",
       "      <td>20220509</td>\n",
       "      <td>1.1</td>\n",
       "      <td>...</td>\n",
       "      <td>05/09/22</td>\n",
       "      <td>05/09/22</td>\n",
       "      <td>1.1</td>\n",
       "      <td>Pilot of Pilot</td>\n",
       "      <td>Cage 1</td>\n",
       "      <td>2</td>\n",
       "      <td>09:48:49</td>\n",
       "      <td>11:00:54</td>\n",
       "      <td>levelNP_CS_reward_laserepochON1st_noshock</td>\n",
       "      <td>1</td>\n",
       "    </tr>\n",
       "    <tr>\n",
       "      <th>13287</th>\n",
       "      <td>3610.91</td>\n",
       "      <td>NaN</td>\n",
       "      <td>NaN</td>\n",
       "      <td>0.0</td>\n",
       "      <td>NaN</td>\n",
       "      <td>3611.45</td>\n",
       "      <td>0.0</td>\n",
       "      <td>0.0</td>\n",
       "      <td>20220509</td>\n",
       "      <td>1.1</td>\n",
       "      <td>...</td>\n",
       "      <td>05/09/22</td>\n",
       "      <td>05/09/22</td>\n",
       "      <td>1.1</td>\n",
       "      <td>Pilot of Pilot</td>\n",
       "      <td>Cage 1</td>\n",
       "      <td>2</td>\n",
       "      <td>09:48:49</td>\n",
       "      <td>11:00:54</td>\n",
       "      <td>levelNP_CS_reward_laserepochON1st_noshock</td>\n",
       "      <td>1</td>\n",
       "    </tr>\n",
       "    <tr>\n",
       "      <th>13288</th>\n",
       "      <td>3615.69</td>\n",
       "      <td>NaN</td>\n",
       "      <td>NaN</td>\n",
       "      <td>0.0</td>\n",
       "      <td>NaN</td>\n",
       "      <td>3615.72</td>\n",
       "      <td>0.0</td>\n",
       "      <td>0.0</td>\n",
       "      <td>20220509</td>\n",
       "      <td>1.1</td>\n",
       "      <td>...</td>\n",
       "      <td>05/09/22</td>\n",
       "      <td>05/09/22</td>\n",
       "      <td>1.1</td>\n",
       "      <td>Pilot of Pilot</td>\n",
       "      <td>Cage 1</td>\n",
       "      <td>2</td>\n",
       "      <td>09:48:49</td>\n",
       "      <td>11:00:54</td>\n",
       "      <td>levelNP_CS_reward_laserepochON1st_noshock</td>\n",
       "      <td>1</td>\n",
       "    </tr>\n",
       "    <tr>\n",
       "      <th>13289</th>\n",
       "      <td>3615.75</td>\n",
       "      <td>NaN</td>\n",
       "      <td>NaN</td>\n",
       "      <td>0.0</td>\n",
       "      <td>NaN</td>\n",
       "      <td>3615.77</td>\n",
       "      <td>0.0</td>\n",
       "      <td>0.0</td>\n",
       "      <td>20220509</td>\n",
       "      <td>1.1</td>\n",
       "      <td>...</td>\n",
       "      <td>05/09/22</td>\n",
       "      <td>05/09/22</td>\n",
       "      <td>1.1</td>\n",
       "      <td>Pilot of Pilot</td>\n",
       "      <td>Cage 1</td>\n",
       "      <td>2</td>\n",
       "      <td>09:48:49</td>\n",
       "      <td>11:00:54</td>\n",
       "      <td>levelNP_CS_reward_laserepochON1st_noshock</td>\n",
       "      <td>1</td>\n",
       "    </tr>\n",
       "  </tbody>\n",
       "</table>\n",
       "<p>585 rows × 23 columns</p>\n",
       "</div>"
      ],
      "text/plain": [
       "       (P)Portentry  (Q)USdelivery  (R)UStime  (W)ITIvalues  \\\n",
       "12705          4.46           64.0      399.0           0.0   \n",
       "12706         53.73          144.0      399.0           0.0   \n",
       "12707         61.61          234.0      399.0           0.0   \n",
       "12708         77.85          314.0      399.0           0.0   \n",
       "12709         95.26          389.0      399.0           0.0   \n",
       "...             ...            ...        ...           ...   \n",
       "13285       3576.19            NaN        NaN           0.0   \n",
       "13286       3591.79            NaN        NaN           0.0   \n",
       "13287       3610.91            NaN        NaN           0.0   \n",
       "13288       3615.69            NaN        NaN           0.0   \n",
       "13289       3615.75            NaN        NaN           0.0   \n",
       "\n",
       "       (S)CSpresentation  (N)Portexit  (K)CStype  (B)shockintensity      date  \\\n",
       "12705              60.01         5.03        1.0                0.0  20220509   \n",
       "12706             140.01        59.77        1.0                0.0  20220509   \n",
       "12707             230.01        73.37        1.0                0.0  20220509   \n",
       "12708             310.01        80.71        1.0                0.0  20220509   \n",
       "12709             385.01        99.79        1.0                0.0  20220509   \n",
       "...                  ...          ...        ...                ...       ...   \n",
       "13285                NaN      3580.07        0.0                0.0  20220509   \n",
       "13286                NaN      3593.85        0.0                0.0  20220509   \n",
       "13287                NaN      3611.45        0.0                0.0  20220509   \n",
       "13288                NaN      3615.72        0.0                0.0  20220509   \n",
       "13289                NaN      3615.77        0.0                0.0  20220509   \n",
       "\n",
       "       subject  ... Start Date  End Date Subject      Experiment   Group  Box  \\\n",
       "12705      1.1  ...   05/09/22  05/09/22     1.1  Pilot of Pilot  Cage 1    2   \n",
       "12706      1.1  ...   05/09/22  05/09/22     1.1  Pilot of Pilot  Cage 1    2   \n",
       "12707      1.1  ...   05/09/22  05/09/22     1.1  Pilot of Pilot  Cage 1    2   \n",
       "12708      1.1  ...   05/09/22  05/09/22     1.1  Pilot of Pilot  Cage 1    2   \n",
       "12709      1.1  ...   05/09/22  05/09/22     1.1  Pilot of Pilot  Cage 1    2   \n",
       "...        ...  ...        ...       ...     ...             ...     ...  ...   \n",
       "13285      1.1  ...   05/09/22  05/09/22     1.1  Pilot of Pilot  Cage 1    2   \n",
       "13286      1.1  ...   05/09/22  05/09/22     1.1  Pilot of Pilot  Cage 1    2   \n",
       "13287      1.1  ...   05/09/22  05/09/22     1.1  Pilot of Pilot  Cage 1    2   \n",
       "13288      1.1  ...   05/09/22  05/09/22     1.1  Pilot of Pilot  Cage 1    2   \n",
       "13289      1.1  ...   05/09/22  05/09/22     1.1  Pilot of Pilot  Cage 1    2   \n",
       "\n",
       "      Start Time  End Time                                        MSN cage  \n",
       "12705   09:48:49  11:00:54  levelNP_CS_reward_laserepochON1st_noshock    1  \n",
       "12706   09:48:49  11:00:54  levelNP_CS_reward_laserepochON1st_noshock    1  \n",
       "12707   09:48:49  11:00:54  levelNP_CS_reward_laserepochON1st_noshock    1  \n",
       "12708   09:48:49  11:00:54  levelNP_CS_reward_laserepochON1st_noshock    1  \n",
       "12709   09:48:49  11:00:54  levelNP_CS_reward_laserepochON1st_noshock    1  \n",
       "...          ...       ...                                        ...  ...  \n",
       "13285   09:48:49  11:00:54  levelNP_CS_reward_laserepochON1st_noshock    1  \n",
       "13286   09:48:49  11:00:54  levelNP_CS_reward_laserepochON1st_noshock    1  \n",
       "13287   09:48:49  11:00:54  levelNP_CS_reward_laserepochON1st_noshock    1  \n",
       "13288   09:48:49  11:00:54  levelNP_CS_reward_laserepochON1st_noshock    1  \n",
       "13289   09:48:49  11:00:54  levelNP_CS_reward_laserepochON1st_noshock    1  \n",
       "\n",
       "[585 rows x 23 columns]"
      ]
     },
     "execution_count": 28,
     "metadata": {},
     "output_type": "execute_result"
    }
   ],
   "source": [
    "example_med_pc_df"
   ]
  },
  {
   "cell_type": "markdown",
   "id": "439772a2",
   "metadata": {},
   "source": [
    "## 1.2 Converting All the Port Entry and Port Exit Times in to Whole Numbers"
   ]
  },
  {
   "cell_type": "markdown",
   "id": "4a67e61e",
   "metadata": {},
   "source": [
    "- We will turn all Port entry and exit times into whole numbers. This needs to be done so that we can use it as an index in a list of `True`/`False` for each 10ms increment.\n",
    "    - This will be done with port entry/exit and the tone playing time"
   ]
  },
  {
   "cell_type": "code",
   "execution_count": 29,
   "id": "3bd7bbb5",
   "metadata": {},
   "outputs": [],
   "source": [
    "example_med_pc_df[\"port_entry_scaled\"] = example_med_pc_df[\"(P)Portentry\"].apply(lambda x: processing.port.scale_time_to_whole_number(x))\n",
    "example_med_pc_df[\"port_exit_scaled\"] = example_med_pc_df[\"(N)Portexit\"].apply(lambda x: processing.port.scale_time_to_whole_number(x))\n",
    "example_med_pc_df[\"tone_start_scaled\"] = example_med_pc_df[\"(S)CSpresentation\"].apply(lambda x: processing.port.scale_time_to_whole_number(x))"
   ]
  },
  {
   "cell_type": "code",
   "execution_count": 30,
   "id": "472775d3",
   "metadata": {
    "scrolled": true
   },
   "outputs": [
    {
     "data": {
      "text/html": [
       "<div>\n",
       "<style scoped>\n",
       "    .dataframe tbody tr th:only-of-type {\n",
       "        vertical-align: middle;\n",
       "    }\n",
       "\n",
       "    .dataframe tbody tr th {\n",
       "        vertical-align: top;\n",
       "    }\n",
       "\n",
       "    .dataframe thead th {\n",
       "        text-align: right;\n",
       "    }\n",
       "</style>\n",
       "<table border=\"1\" class=\"dataframe\">\n",
       "  <thead>\n",
       "    <tr style=\"text-align: right;\">\n",
       "      <th></th>\n",
       "      <th>(P)Portentry</th>\n",
       "      <th>(Q)USdelivery</th>\n",
       "      <th>(R)UStime</th>\n",
       "      <th>(W)ITIvalues</th>\n",
       "      <th>(S)CSpresentation</th>\n",
       "      <th>(N)Portexit</th>\n",
       "      <th>(K)CStype</th>\n",
       "      <th>(B)shockintensity</th>\n",
       "      <th>date</th>\n",
       "      <th>subject</th>\n",
       "      <th>...</th>\n",
       "      <th>Experiment</th>\n",
       "      <th>Group</th>\n",
       "      <th>Box</th>\n",
       "      <th>Start Time</th>\n",
       "      <th>End Time</th>\n",
       "      <th>MSN</th>\n",
       "      <th>cage</th>\n",
       "      <th>port_entry_scaled</th>\n",
       "      <th>port_exit_scaled</th>\n",
       "      <th>tone_start_scaled</th>\n",
       "    </tr>\n",
       "  </thead>\n",
       "  <tbody>\n",
       "    <tr>\n",
       "      <th>12705</th>\n",
       "      <td>4.46</td>\n",
       "      <td>64.0</td>\n",
       "      <td>399.0</td>\n",
       "      <td>0.0</td>\n",
       "      <td>60.01</td>\n",
       "      <td>5.03</td>\n",
       "      <td>1.0</td>\n",
       "      <td>0.0</td>\n",
       "      <td>20220509</td>\n",
       "      <td>1.1</td>\n",
       "      <td>...</td>\n",
       "      <td>Pilot of Pilot</td>\n",
       "      <td>Cage 1</td>\n",
       "      <td>2</td>\n",
       "      <td>09:48:49</td>\n",
       "      <td>11:00:54</td>\n",
       "      <td>levelNP_CS_reward_laserepochON1st_noshock</td>\n",
       "      <td>1</td>\n",
       "      <td>446</td>\n",
       "      <td>503</td>\n",
       "      <td>6001</td>\n",
       "    </tr>\n",
       "    <tr>\n",
       "      <th>12706</th>\n",
       "      <td>53.73</td>\n",
       "      <td>144.0</td>\n",
       "      <td>399.0</td>\n",
       "      <td>0.0</td>\n",
       "      <td>140.01</td>\n",
       "      <td>59.77</td>\n",
       "      <td>1.0</td>\n",
       "      <td>0.0</td>\n",
       "      <td>20220509</td>\n",
       "      <td>1.1</td>\n",
       "      <td>...</td>\n",
       "      <td>Pilot of Pilot</td>\n",
       "      <td>Cage 1</td>\n",
       "      <td>2</td>\n",
       "      <td>09:48:49</td>\n",
       "      <td>11:00:54</td>\n",
       "      <td>levelNP_CS_reward_laserepochON1st_noshock</td>\n",
       "      <td>1</td>\n",
       "      <td>5373</td>\n",
       "      <td>5977</td>\n",
       "      <td>14001</td>\n",
       "    </tr>\n",
       "    <tr>\n",
       "      <th>12707</th>\n",
       "      <td>61.61</td>\n",
       "      <td>234.0</td>\n",
       "      <td>399.0</td>\n",
       "      <td>0.0</td>\n",
       "      <td>230.01</td>\n",
       "      <td>73.37</td>\n",
       "      <td>1.0</td>\n",
       "      <td>0.0</td>\n",
       "      <td>20220509</td>\n",
       "      <td>1.1</td>\n",
       "      <td>...</td>\n",
       "      <td>Pilot of Pilot</td>\n",
       "      <td>Cage 1</td>\n",
       "      <td>2</td>\n",
       "      <td>09:48:49</td>\n",
       "      <td>11:00:54</td>\n",
       "      <td>levelNP_CS_reward_laserepochON1st_noshock</td>\n",
       "      <td>1</td>\n",
       "      <td>6161</td>\n",
       "      <td>7337</td>\n",
       "      <td>23001</td>\n",
       "    </tr>\n",
       "    <tr>\n",
       "      <th>12708</th>\n",
       "      <td>77.85</td>\n",
       "      <td>314.0</td>\n",
       "      <td>399.0</td>\n",
       "      <td>0.0</td>\n",
       "      <td>310.01</td>\n",
       "      <td>80.71</td>\n",
       "      <td>1.0</td>\n",
       "      <td>0.0</td>\n",
       "      <td>20220509</td>\n",
       "      <td>1.1</td>\n",
       "      <td>...</td>\n",
       "      <td>Pilot of Pilot</td>\n",
       "      <td>Cage 1</td>\n",
       "      <td>2</td>\n",
       "      <td>09:48:49</td>\n",
       "      <td>11:00:54</td>\n",
       "      <td>levelNP_CS_reward_laserepochON1st_noshock</td>\n",
       "      <td>1</td>\n",
       "      <td>7784</td>\n",
       "      <td>8070</td>\n",
       "      <td>31001</td>\n",
       "    </tr>\n",
       "    <tr>\n",
       "      <th>12709</th>\n",
       "      <td>95.26</td>\n",
       "      <td>389.0</td>\n",
       "      <td>399.0</td>\n",
       "      <td>0.0</td>\n",
       "      <td>385.01</td>\n",
       "      <td>99.79</td>\n",
       "      <td>1.0</td>\n",
       "      <td>0.0</td>\n",
       "      <td>20220509</td>\n",
       "      <td>1.1</td>\n",
       "      <td>...</td>\n",
       "      <td>Pilot of Pilot</td>\n",
       "      <td>Cage 1</td>\n",
       "      <td>2</td>\n",
       "      <td>09:48:49</td>\n",
       "      <td>11:00:54</td>\n",
       "      <td>levelNP_CS_reward_laserepochON1st_noshock</td>\n",
       "      <td>1</td>\n",
       "      <td>9526</td>\n",
       "      <td>9979</td>\n",
       "      <td>38501</td>\n",
       "    </tr>\n",
       "  </tbody>\n",
       "</table>\n",
       "<p>5 rows × 26 columns</p>\n",
       "</div>"
      ],
      "text/plain": [
       "       (P)Portentry  (Q)USdelivery  (R)UStime  (W)ITIvalues  \\\n",
       "12705          4.46           64.0      399.0           0.0   \n",
       "12706         53.73          144.0      399.0           0.0   \n",
       "12707         61.61          234.0      399.0           0.0   \n",
       "12708         77.85          314.0      399.0           0.0   \n",
       "12709         95.26          389.0      399.0           0.0   \n",
       "\n",
       "       (S)CSpresentation  (N)Portexit  (K)CStype  (B)shockintensity      date  \\\n",
       "12705              60.01         5.03        1.0                0.0  20220509   \n",
       "12706             140.01        59.77        1.0                0.0  20220509   \n",
       "12707             230.01        73.37        1.0                0.0  20220509   \n",
       "12708             310.01        80.71        1.0                0.0  20220509   \n",
       "12709             385.01        99.79        1.0                0.0  20220509   \n",
       "\n",
       "       subject  ...      Experiment   Group Box Start Time  End Time  \\\n",
       "12705      1.1  ...  Pilot of Pilot  Cage 1   2   09:48:49  11:00:54   \n",
       "12706      1.1  ...  Pilot of Pilot  Cage 1   2   09:48:49  11:00:54   \n",
       "12707      1.1  ...  Pilot of Pilot  Cage 1   2   09:48:49  11:00:54   \n",
       "12708      1.1  ...  Pilot of Pilot  Cage 1   2   09:48:49  11:00:54   \n",
       "12709      1.1  ...  Pilot of Pilot  Cage 1   2   09:48:49  11:00:54   \n",
       "\n",
       "                                             MSN cage port_entry_scaled  \\\n",
       "12705  levelNP_CS_reward_laserepochON1st_noshock    1               446   \n",
       "12706  levelNP_CS_reward_laserepochON1st_noshock    1              5373   \n",
       "12707  levelNP_CS_reward_laserepochON1st_noshock    1              6161   \n",
       "12708  levelNP_CS_reward_laserepochON1st_noshock    1              7784   \n",
       "12709  levelNP_CS_reward_laserepochON1st_noshock    1              9526   \n",
       "\n",
       "       port_exit_scaled tone_start_scaled  \n",
       "12705               503              6001  \n",
       "12706              5977             14001  \n",
       "12707              7337             23001  \n",
       "12708              8070             31001  \n",
       "12709              9979             38501  \n",
       "\n",
       "[5 rows x 26 columns]"
      ]
     },
     "execution_count": 30,
     "metadata": {},
     "output_type": "execute_result"
    }
   ],
   "source": [
    "example_med_pc_df.head()"
   ]
  },
  {
   "cell_type": "markdown",
   "id": "de0d21e8",
   "metadata": {},
   "source": [
    "## 1.3 Getting All the Numbers Between the Port Entry and Exit Times"
   ]
  },
  {
   "cell_type": "markdown",
   "id": "095bf439",
   "metadata": {},
   "source": [
    "- We are creating an array of 10ms intervals as whole numbers that are between the port entry and exit time\n",
    "    - For this example, the first would be between 7136 and 7142. And then between 7177 and 8439"
   ]
  },
  {
   "cell_type": "code",
   "execution_count": 31,
   "id": "515d4ece",
   "metadata": {},
   "outputs": [],
   "source": [
    "example_port_entry_times = processing.port.get_all_port_entry_increments(port_entry_scaled=example_med_pc_df[\"port_entry_scaled\"], port_exit_scaled=example_med_pc_df[\"port_exit_scaled\"])"
   ]
  },
  {
   "cell_type": "code",
   "execution_count": 32,
   "id": "327e2b39",
   "metadata": {},
   "outputs": [
    {
     "data": {
      "text/plain": [
       "array([446, 447, 448, 449, 450, 451, 452, 453, 454, 455])"
      ]
     },
     "execution_count": 32,
     "metadata": {},
     "output_type": "execute_result"
    }
   ],
   "source": [
    "example_port_entry_times[:10]"
   ]
  },
  {
   "cell_type": "markdown",
   "id": "646250c8",
   "metadata": {},
   "source": [
    "## 1.4 Getting all the numbers from 0 to the time of the last tone plus 2000(or 20 seconds)"
   ]
  },
  {
   "cell_type": "markdown",
   "id": "c66c9e53",
   "metadata": {},
   "source": [
    "- Creating a list of numbers from 0 to the time of the last tone. This will be used to get all the numbers that are 20 seconds before and after a tone being played\n",
    "- We will first get all the times that the tones played"
   ]
  },
  {
   "cell_type": "code",
   "execution_count": 33,
   "id": "135116c2",
   "metadata": {},
   "outputs": [
    {
     "name": "stderr",
     "output_type": "stream",
     "text": [
      "/nancy/projects/behavioral_dataframe_processing/jupyter_notebooks/MED_PC/../../src/processing/tone.py:52: FutureWarning: The behavior of `series[i:j]` with an integer-dtype index is deprecated. In a future version, this will be treated as *label-based* indexing, consistent with e.g. `series[i]` lookups. To retain the old behavior, use `series.iloc[i:j]`. To get the future behavior, use `series.loc[i:j]`.\n",
      "  tone_pd_series = tone_pd_series[:max_tone_index]\n"
     ]
    }
   ],
   "source": [
    "example_valid_tone_times = processing.tone.get_valid_tones(tone_pd_series=example_med_pc_df[\"tone_start_scaled\"]).astype(int)"
   ]
  },
  {
   "cell_type": "code",
   "execution_count": 34,
   "id": "95eca2ea",
   "metadata": {},
   "outputs": [
    {
     "name": "stderr",
     "output_type": "stream",
     "text": [
      "/tmp/ipykernel_3186950/4063955565.py:1: FutureWarning: The behavior of `series[i:j]` with an integer-dtype index is deprecated. In a future version, this will be treated as *label-based* indexing, consistent with e.g. `series[i]` lookups. To retain the old behavior, use `series.iloc[i:j]`. To get the future behavior, use `series.loc[i:j]`.\n",
      "  example_valid_tone_times[:10]\n"
     ]
    },
    {
     "data": {
      "text/plain": [
       "12705     6001\n",
       "12706    14001\n",
       "12707    23001\n",
       "12708    31001\n",
       "12709    38501\n",
       "12710    48501\n",
       "12711    58001\n",
       "12712    67001\n",
       "12713    75001\n",
       "12714    84001\n",
       "Name: tone_start_scaled, dtype: int64"
      ]
     },
     "execution_count": 34,
     "metadata": {},
     "output_type": "execute_result"
    }
   ],
   "source": [
    "example_valid_tone_times[:10]"
   ]
  },
  {
   "cell_type": "markdown",
   "id": "2c270402",
   "metadata": {},
   "source": [
    "- Then getting all the numbers from 0 to the last tone time. We will add 2000(or 20 seconds) to the last tone time"
   ]
  },
  {
   "cell_type": "code",
   "execution_count": 35,
   "id": "ba29dafa",
   "metadata": {},
   "outputs": [],
   "source": [
    "# Using the last tone and adding 2000(or 20 seconds to it)\n",
    "example_experiment_interval = np.arange(example_valid_tone_times.max() + 2001)"
   ]
  },
  {
   "cell_type": "code",
   "execution_count": 36,
   "id": "b788df6d",
   "metadata": {
    "scrolled": true
   },
   "outputs": [
    {
     "data": {
      "text/plain": [
       "array([     0,      1,      2, ..., 363499, 363500, 363501])"
      ]
     },
     "execution_count": 36,
     "metadata": {},
     "output_type": "execute_result"
    }
   ],
   "source": [
    "example_experiment_interval"
   ]
  },
  {
   "cell_type": "markdown",
   "id": "8cb4441b",
   "metadata": {},
   "source": [
    "# 2. Make a set and see which numbers are in that set"
   ]
  },
  {
   "cell_type": "markdown",
   "id": "4f06ac2c",
   "metadata": {},
   "source": [
    "### 2.2 Getting a mask of all the numbers that are within a port entry and port exit time"
   ]
  },
  {
   "cell_type": "code",
   "execution_count": 37,
   "id": "39cf3852",
   "metadata": {},
   "outputs": [],
   "source": [
    "example_port_entry_mask = np.isin(example_experiment_interval, example_port_entry_times)"
   ]
  },
  {
   "cell_type": "code",
   "execution_count": 38,
   "id": "fe537698",
   "metadata": {},
   "outputs": [
    {
     "data": {
      "text/plain": [
       "array([False, False, False, ..., False, False, False])"
      ]
     },
     "execution_count": 38,
     "metadata": {},
     "output_type": "execute_result"
    }
   ],
   "source": [
    "example_port_entry_mask"
   ]
  },
  {
   "cell_type": "code",
   "execution_count": 39,
   "id": "3a2c5a17",
   "metadata": {
    "scrolled": false
   },
   "outputs": [
    {
     "data": {
      "text/plain": [
       "array([   446,    447,    448, ..., 361575, 361576, 361577])"
      ]
     },
     "execution_count": 39,
     "metadata": {},
     "output_type": "execute_result"
    }
   ],
   "source": [
    "example_experiment_interval[np.isin(example_experiment_interval, example_port_entry_times)]"
   ]
  },
  {
   "cell_type": "markdown",
   "id": "31679161",
   "metadata": {},
   "source": [
    "# 2. Create a Mask that is \"if a Subject is in the Port or Not for a Given Time Increment\""
   ]
  },
  {
   "cell_type": "markdown",
   "id": "860a3c0b",
   "metadata": {},
   "source": [
    "- A mask is how Numpy knows whether or not a value in a given index meets a criteria or not. For this, we will create a mask of values that in between all the port start and exit times\n",
    "    - For more information: https://jakevdp.github.io/PythonDataScienceHandbook/02.06-boolean-arrays-and-masks.html\n",
    "- First we will get the time that the last tone played and add 2000(or 20 seconds to it)"
   ]
  },
  {
   "cell_type": "code",
   "execution_count": 40,
   "id": "eb62f59c",
   "metadata": {},
   "outputs": [],
   "source": [
    "max_time = example_valid_tone_times.max() + 2001"
   ]
  },
  {
   "cell_type": "code",
   "execution_count": 41,
   "id": "4d0e13f9",
   "metadata": {},
   "outputs": [
    {
     "data": {
      "text/plain": [
       "363502"
      ]
     },
     "execution_count": 41,
     "metadata": {},
     "output_type": "execute_result"
    }
   ],
   "source": [
    "max_time"
   ]
  },
  {
   "cell_type": "markdown",
   "id": "782ae899",
   "metadata": {},
   "source": [
    "- Now we will create the mask of whether or not a given time is between the port entry and exit times\n"
   ]
  },
  {
   "cell_type": "code",
   "execution_count": 42,
   "id": "9c482924",
   "metadata": {},
   "outputs": [],
   "source": [
    "example_experiment_interval, example_port_entry_mask = processing.port.get_inside_port_mask(max_time=max_time, inside_port_numbers=example_port_entry_times)"
   ]
  },
  {
   "cell_type": "markdown",
   "id": "6ac1e014",
   "metadata": {},
   "source": [
    "- This is all the numbers between the start of the recording session until the end of the last tone playing"
   ]
  },
  {
   "cell_type": "code",
   "execution_count": 43,
   "id": "7b95aba7",
   "metadata": {},
   "outputs": [
    {
     "data": {
      "text/plain": [
       "array([     1,      2,      3, ..., 363500, 363501, 363502])"
      ]
     },
     "execution_count": 43,
     "metadata": {},
     "output_type": "execute_result"
    }
   ],
   "source": [
    "example_experiment_interval"
   ]
  },
  {
   "cell_type": "markdown",
   "id": "f31911e2",
   "metadata": {},
   "source": [
    "- This is the mask of whether or not the subject is in the port or not. It seems like it is all False, but this is only because it's showing the beginning and the end of the recording session. So the subject is likely not in the port yet"
   ]
  },
  {
   "cell_type": "code",
   "execution_count": 44,
   "id": "8dbe0830",
   "metadata": {},
   "outputs": [
    {
     "data": {
      "text/plain": [
       "array([False, False, False, ..., False, False, False])"
      ]
     },
     "execution_count": 44,
     "metadata": {},
     "output_type": "execute_result"
    }
   ],
   "source": [
    "example_port_entry_mask"
   ]
  },
  {
   "cell_type": "markdown",
   "id": "2efe809b",
   "metadata": {},
   "source": [
    "- Although not needed, we can use the mask to get all the times that the subject was inside the port"
   ]
  },
  {
   "cell_type": "code",
   "execution_count": 45,
   "id": "4b405794",
   "metadata": {},
   "outputs": [
    {
     "data": {
      "text/plain": [
       "array([   446,    447,    448, ..., 361575, 361576, 361577])"
      ]
     },
     "execution_count": 45,
     "metadata": {},
     "output_type": "execute_result"
    }
   ],
   "source": [
    "example_experiment_interval[example_port_entry_mask]"
   ]
  },
  {
   "cell_type": "markdown",
   "id": "f11d9b95",
   "metadata": {},
   "source": [
    "## 3. Find the Overlap between the Tone Times and the Port Entries"
   ]
  },
  {
   "cell_type": "markdown",
   "id": "e20bb2f8",
   "metadata": {},
   "source": [
    "- Now we will use the mask to see when the subject was in the port for each session."
   ]
  },
  {
   "cell_type": "markdown",
   "id": "334864c3",
   "metadata": {},
   "source": [
    "### 3.1 Calculating the probability that the subject is in the port for each time increment between sessions"
   ]
  },
  {
   "cell_type": "markdown",
   "id": "678ba956",
   "metadata": {},
   "source": [
    "- We will first get the inside port mask for the time 20 seconds before and after each session"
   ]
  },
  {
   "cell_type": "code",
   "execution_count": 46,
   "id": "44a004b9",
   "metadata": {},
   "outputs": [
    {
     "name": "stderr",
     "output_type": "stream",
     "text": [
      "/tmp/ipykernel_3186950/1210236414.py:5: FutureWarning: iteritems is deprecated and will be removed in a future version. Use .items instead.\n",
      "  for index, tone_start in example_valid_tone_times.iteritems():\n"
     ]
    }
   ],
   "source": [
    "# Creating a dictionary for demonstration\n",
    "tone_time_to_mask = defaultdict(dict)\n",
    "# We will use a list in the end\n",
    "example_all_tone_time_masks = []\n",
    "for index, tone_start in example_valid_tone_times.iteritems():\n",
    "    # Sometimes the tone start time can be a float\n",
    "    tone_start_int = int(tone_start)\n",
    "    example_all_tone_time_masks.append(example_port_entry_mask[tone_start_int - 2000: tone_start_int + 2000])\n",
    "    tone_time_to_mask[tone_start_int] = example_port_entry_mask[tone_start_int - 2000: tone_start_int + 2000]\n",
    "# Combining all the masks so that each row is 1 session\n",
    "stacked_example_all_tone_time_masks = np.stack(example_all_tone_time_masks)"
   ]
  },
  {
   "cell_type": "code",
   "execution_count": 47,
   "id": "e80fed5b",
   "metadata": {},
   "outputs": [
    {
     "data": {
      "text/plain": [
       "array([[False, False, False, ...,  True,  True,  True],\n",
       "       [False, False, False, ...,  True,  True,  True],\n",
       "       [False, False, False, ..., False, False, False],\n",
       "       ...,\n",
       "       [False, False, False, ...,  True,  True,  True],\n",
       "       [False, False, False, ...,  True,  True,  True],\n",
       "       [False, False, False, ..., False, False, False]])"
      ]
     },
     "execution_count": 47,
     "metadata": {},
     "output_type": "execute_result"
    }
   ],
   "source": [
    "stacked_example_all_tone_time_masks"
   ]
  },
  {
   "cell_type": "code",
   "execution_count": 48,
   "id": "43600853",
   "metadata": {},
   "outputs": [
    {
     "data": {
      "text/plain": [
       "defaultdict(dict,\n",
       "            {6001: array([False, False, False, ...,  True,  True,  True]),\n",
       "             14001: array([False, False, False, ...,  True,  True,  True]),\n",
       "             23001: array([False, False, False, ..., False, False, False]),\n",
       "             31001: array([False, False, False, ..., False, False, False]),\n",
       "             38501: array([False, False, False, ...,  True,  True,  True]),\n",
       "             48501: array([False, False, False, ..., False, False, False]),\n",
       "             58001: array([ True,  True,  True, ..., False, False, False]),\n",
       "             67001: array([False, False, False, ..., False, False, False]),\n",
       "             75001: array([False, False, False, ..., False, False, False]),\n",
       "             84001: array([False, False, False, ...,  True,  True,  True]),\n",
       "             94001: array([ True,  True,  True, ..., False, False, False]),\n",
       "             103001: array([False, False, False, ...,  True,  True,  True]),\n",
       "             115001: array([False, False, False, ...,  True,  True,  True]),\n",
       "             124001: array([False, False, False, ...,  True,  True,  True]),\n",
       "             132501: array([False, False, False, ...,  True,  True,  True]),\n",
       "             141501: array([False, False, False, ...,  True,  True,  True]),\n",
       "             151001: array([False, False, False, ...,  True,  True,  True]),\n",
       "             163001: array([False, False, False, ..., False, False, False]),\n",
       "             171001: array([False, False, False, ...,  True,  True,  True]),\n",
       "             180501: array([False, False, False, ...,  True,  True,  True]),\n",
       "             188501: array([False, False, False, ...,  True,  True,  True]),\n",
       "             197501: array([False, False, False, ...,  True,  True,  True]),\n",
       "             205501: array([ True,  True,  True, ...,  True,  True,  True]),\n",
       "             213001: array([ True,  True,  True, ...,  True,  True,  True]),\n",
       "             223001: array([ True,  True,  True, ...,  True,  True,  True]),\n",
       "             232501: array([False, False, False, ...,  True,  True,  True]),\n",
       "             241501: array([ True,  True,  True, ...,  True,  True,  True]),\n",
       "             249501: array([False, False, False, ...,  True,  True,  True]),\n",
       "             258501: array([ True,  True,  True, ...,  True,  True,  True]),\n",
       "             268501: array([False, False, False, ..., False, False, False]),\n",
       "             277501: array([False, False, False, ..., False, False, False]),\n",
       "             289501: array([False, False, False, ...,  True,  True,  True]),\n",
       "             298501: array([False, False, False, ...,  True,  True,  True]),\n",
       "             307001: array([False, False, False, ..., False, False, False]),\n",
       "             316001: array([False, False, False, ..., False, False, False]),\n",
       "             325501: array([False, False, False, ...,  True,  True,  True]),\n",
       "             334501: array([ True,  True,  True, ...,  True,  True,  True]),\n",
       "             342501: array([False, False, False, ...,  True,  True,  True]),\n",
       "             351501: array([False, False, False, ...,  True,  True,  True]),\n",
       "             361501: array([False, False, False, ..., False, False, False])})"
      ]
     },
     "execution_count": 48,
     "metadata": {},
     "output_type": "execute_result"
    }
   ],
   "source": [
    "tone_time_to_mask"
   ]
  },
  {
   "cell_type": "markdown",
   "id": "dffdbf7a",
   "metadata": {},
   "source": [
    "- In Numpy, `True` objects have a value of 1, and `False` objects have a value of 0. So we can calculate the mean of the `True` and `False` and that will be the proportion that is `True`. Which will be the proportion that the subject is inside the port\n",
    "    - We will calculate the mean by column. So averaging all the same time increments for each session. For exampled, we are seeing the proportion that the subject is inside the port at 5 seconds to 5 seconds 10ms across all sessions"
   ]
  },
  {
   "cell_type": "code",
   "execution_count": 49,
   "id": "0a07d8df",
   "metadata": {},
   "outputs": [],
   "source": [
    "mean_example_all_tone_time_masks = stacked_example_all_tone_time_masks.mean(axis=0)"
   ]
  },
  {
   "cell_type": "markdown",
   "id": "73ec80df",
   "metadata": {},
   "source": [
    "- Each value is the average for the given time increment for all sessions\n",
    "    - It starts out at -20 seconds to -19 seconds -990ms. Then it's -19 seconds -990ms to -19seconds to -980ms. Until we reach 19 seconds 990ms to 20 seconds after the tone."
   ]
  },
  {
   "cell_type": "code",
   "execution_count": 50,
   "id": "cbf4422e",
   "metadata": {},
   "outputs": [
    {
     "data": {
      "text/plain": [
       "array([0.2  , 0.2  , 0.2  , ..., 0.675, 0.675, 0.675])"
      ]
     },
     "execution_count": 50,
     "metadata": {},
     "output_type": "execute_result"
    }
   ],
   "source": [
    "mean_example_all_tone_time_masks"
   ]
  },
  {
   "cell_type": "code",
   "execution_count": 51,
   "id": "4610d9cb",
   "metadata": {},
   "outputs": [
    {
     "data": {
      "text/plain": [
       "(4000,)"
      ]
     },
     "execution_count": 51,
     "metadata": {},
     "output_type": "execute_result"
    }
   ],
   "source": [
    "mean_example_all_tone_time_masks.shape"
   ]
  },
  {
   "cell_type": "markdown",
   "id": "4d293756",
   "metadata": {},
   "source": [
    "## 3.2 Doing it with a function"
   ]
  },
  {
   "cell_type": "code",
   "execution_count": 52,
   "id": "963ee09c",
   "metadata": {},
   "outputs": [
    {
     "data": {
      "text/plain": [
       "array([0.2  , 0.2  , 0.2  , ..., 0.675, 0.675, 0.675])"
      ]
     },
     "execution_count": 52,
     "metadata": {},
     "output_type": "execute_result"
    }
   ],
   "source": [
    "processing.port.get_inside_port_probability_averages_for_all_increments(tone_times=example_valid_tone_times, inside_port_mask=example_port_entry_mask)"
   ]
  },
  {
   "cell_type": "markdown",
   "id": "1a077c73",
   "metadata": {},
   "source": [
    "### 3.3 Plotting all the probailities"
   ]
  },
  {
   "cell_type": "markdown",
   "id": "18035a80",
   "metadata": {},
   "source": [
    "- We are going to plot the time before and after the tone plays as X, and the average probability that a subject is in the port for a given time increment as Y"
   ]
  },
  {
   "cell_type": "code",
   "execution_count": 53,
   "id": "b4475bb6",
   "metadata": {},
   "outputs": [
    {
     "data": {
      "text/plain": [
       "Text(0.5, 1.0, 'Probability Inside Port for 10ms Increments 20 Seconds Before and After Tone')"
      ]
     },
     "execution_count": 53,
     "metadata": {},
     "output_type": "execute_result"
    },
    {
     "data": {
      "image/png": "[encoded data removed]",
      "text/plain": [
       "<Figure size 1000x600 with 1 Axes>"
      ]
     },
     "metadata": {},
     "output_type": "display_data"
    }
   ],
   "source": [
    "plt.plot(np.linspace(-20,20,4000), mean_example_all_tone_time_masks)\n",
    "plt.xlabel(\"Seconds from the start of the tone\")\n",
    "plt.ylabel(\"Probability Inside Port\")\n",
    "plt.title(\"Probability Inside Port for 10ms Increments 20 Seconds Before and After Tone\")"
   ]
  },
  {
   "cell_type": "markdown",
   "id": "966101d5",
   "metadata": {},
   "source": [
    "# 4. Plotting for Multiple Training Sessions"
   ]
  },
  {
   "cell_type": "markdown",
   "id": "c806a2a6",
   "metadata": {},
   "source": [
    "## 4.1 Checking Which Sessions Have Valid Tone Times"
   ]
  },
  {
   "cell_type": "code",
   "execution_count": 54,
   "id": "1d16609c",
   "metadata": {},
   "outputs": [
    {
     "data": {
      "text/html": [
       "<div>\n",
       "<style scoped>\n",
       "    .dataframe tbody tr th:only-of-type {\n",
       "        vertical-align: middle;\n",
       "    }\n",
       "\n",
       "    .dataframe tbody tr th {\n",
       "        vertical-align: top;\n",
       "    }\n",
       "\n",
       "    .dataframe thead th {\n",
       "        text-align: right;\n",
       "    }\n",
       "</style>\n",
       "<table border=\"1\" class=\"dataframe\">\n",
       "  <thead>\n",
       "    <tr style=\"text-align: right;\">\n",
       "      <th></th>\n",
       "      <th>(P)Portentry</th>\n",
       "      <th>(Q)USdelivery</th>\n",
       "      <th>(R)UStime</th>\n",
       "      <th>(W)ITIvalues</th>\n",
       "      <th>(S)CSpresentation</th>\n",
       "      <th>(N)Portexit</th>\n",
       "      <th>(K)CStype</th>\n",
       "      <th>(B)shockintensity</th>\n",
       "      <th>date</th>\n",
       "      <th>subject</th>\n",
       "      <th>file_path</th>\n",
       "    </tr>\n",
       "  </thead>\n",
       "  <tbody>\n",
       "    <tr>\n",
       "      <th>0</th>\n",
       "      <td>439.08</td>\n",
       "      <td>64.0</td>\n",
       "      <td>399.0</td>\n",
       "      <td>0.0</td>\n",
       "      <td>60.01</td>\n",
       "      <td>439.10</td>\n",
       "      <td>1.0</td>\n",
       "      <td>0.0</td>\n",
       "      <td>20220505</td>\n",
       "      <td>1.3</td>\n",
       "      <td>./example_recordings/2022-05-05_12h23m_Subject...</td>\n",
       "    </tr>\n",
       "    <tr>\n",
       "      <th>1</th>\n",
       "      <td>439.13</td>\n",
       "      <td>489.0</td>\n",
       "      <td>399.0</td>\n",
       "      <td>0.0</td>\n",
       "      <td>140.01</td>\n",
       "      <td>449.23</td>\n",
       "      <td>1.0</td>\n",
       "      <td>0.0</td>\n",
       "      <td>20220505</td>\n",
       "      <td>1.3</td>\n",
       "      <td>./example_recordings/2022-05-05_12h23m_Subject...</td>\n",
       "    </tr>\n",
       "    <tr>\n",
       "      <th>2</th>\n",
       "      <td>677.76</td>\n",
       "      <td>754.0</td>\n",
       "      <td>399.0</td>\n",
       "      <td>0.0</td>\n",
       "      <td>230.01</td>\n",
       "      <td>678.31</td>\n",
       "      <td>1.0</td>\n",
       "      <td>0.0</td>\n",
       "      <td>20220505</td>\n",
       "      <td>1.3</td>\n",
       "      <td>./example_recordings/2022-05-05_12h23m_Subject...</td>\n",
       "    </tr>\n",
       "    <tr>\n",
       "      <th>3</th>\n",
       "      <td>678.49</td>\n",
       "      <td>944.0</td>\n",
       "      <td>399.0</td>\n",
       "      <td>0.0</td>\n",
       "      <td>310.01</td>\n",
       "      <td>683.61</td>\n",
       "      <td>1.0</td>\n",
       "      <td>0.0</td>\n",
       "      <td>20220505</td>\n",
       "      <td>1.3</td>\n",
       "      <td>./example_recordings/2022-05-05_12h23m_Subject...</td>\n",
       "    </tr>\n",
       "    <tr>\n",
       "      <th>4</th>\n",
       "      <td>851.64</td>\n",
       "      <td>1329.0</td>\n",
       "      <td>399.0</td>\n",
       "      <td>0.0</td>\n",
       "      <td>385.01</td>\n",
       "      <td>856.41</td>\n",
       "      <td>1.0</td>\n",
       "      <td>0.0</td>\n",
       "      <td>20220505</td>\n",
       "      <td>1.3</td>\n",
       "      <td>./example_recordings/2022-05-05_12h23m_Subject...</td>\n",
       "    </tr>\n",
       "  </tbody>\n",
       "</table>\n",
       "</div>"
      ],
      "text/plain": [
       "   (P)Portentry  (Q)USdelivery  (R)UStime  (W)ITIvalues  (S)CSpresentation  \\\n",
       "0        439.08           64.0      399.0           0.0              60.01   \n",
       "1        439.13          489.0      399.0           0.0             140.01   \n",
       "2        677.76          754.0      399.0           0.0             230.01   \n",
       "3        678.49          944.0      399.0           0.0             310.01   \n",
       "4        851.64         1329.0      399.0           0.0             385.01   \n",
       "\n",
       "   (N)Portexit  (K)CStype  (B)shockintensity      date  subject  \\\n",
       "0       439.10        1.0                0.0  20220505      1.3   \n",
       "1       449.23        1.0                0.0  20220505      1.3   \n",
       "2       678.31        1.0                0.0  20220505      1.3   \n",
       "3       683.61        1.0                0.0  20220505      1.3   \n",
       "4       856.41        1.0                0.0  20220505      1.3   \n",
       "\n",
       "                                           file_path  \n",
       "0  ./example_recordings/2022-05-05_12h23m_Subject...  \n",
       "1  ./example_recordings/2022-05-05_12h23m_Subject...  \n",
       "2  ./example_recordings/2022-05-05_12h23m_Subject...  \n",
       "3  ./example_recordings/2022-05-05_12h23m_Subject...  \n",
       "4  ./example_recordings/2022-05-05_12h23m_Subject...  "
      ]
     },
     "execution_count": 54,
     "metadata": {},
     "output_type": "execute_result"
    }
   ],
   "source": [
    "concatted_medpc_df.head()"
   ]
  },
  {
   "cell_type": "markdown",
   "id": "752e1f5e",
   "metadata": {},
   "source": [
    "- Getting all the files with valid tone times. Some files were for testing and do not have the times that the tones were played"
   ]
  },
  {
   "cell_type": "code",
   "execution_count": 55,
   "id": "6e1cd9e0",
   "metadata": {},
   "outputs": [
    {
     "name": "stderr",
     "output_type": "stream",
     "text": [
      "/nancy/projects/behavioral_dataframe_processing/jupyter_notebooks/MED_PC/../../src/processing/tone.py:52: FutureWarning: The behavior of `series[i:j]` with an integer-dtype index is deprecated. In a future version, this will be treated as *label-based* indexing, consistent with e.g. `series[i]` lookups. To retain the old behavior, use `series.iloc[i:j]`. To get the future behavior, use `series.loc[i:j]`.\n",
      "  tone_pd_series = tone_pd_series[:max_tone_index]\n"
     ]
    }
   ],
   "source": [
    "valid_files = []\n",
    "for file_path in recording_and_metadata_df[\"file_path\"].unique():\n",
    "    current_medpc_df = recording_and_metadata_df[recording_and_metadata_df[\"file_path\"] == file_path]\n",
    "    valid_tones = processing.tone.get_valid_tones(tone_pd_series= current_medpc_df[\"(S)CSpresentation\"])\n",
    "\n",
    "    if not valid_tones.empty:\n",
    "        valid_files.append(file_path)\n",
    "    else:\n",
    "        print(\"Skipped {}\".format(key))"
   ]
  },
  {
   "cell_type": "code",
   "execution_count": 56,
   "id": "cff922d4",
   "metadata": {},
   "outputs": [
    {
     "data": {
      "text/plain": [
       "['./example_recordings/2022-05-09_09h48m_Subject 1.1.txt',\n",
       " './example_recordings/2022-05-11_15h25m_Subject 2.2.txt',\n",
       " './example_recordings/2022-05-08_09h49m_Subject 2.3.txt',\n",
       " './example_recordings/2022-05-11_15h25m_Subject 2.3.txt',\n",
       " './example_recordings/2022-05-10_15h58m_Subject 1.1.txt']"
      ]
     },
     "execution_count": 56,
     "metadata": {},
     "output_type": "execute_result"
    }
   ],
   "source": [
    "valid_files[:5]"
   ]
  },
  {
   "cell_type": "markdown",
   "id": "9420b2d2",
   "metadata": {},
   "source": [
    "- Getting all rows that meet the criteria of being from a vile with valid tone times"
   ]
  },
  {
   "cell_type": "code",
   "execution_count": 57,
   "id": "80a66a7b",
   "metadata": {},
   "outputs": [],
   "source": [
    "valid_files_df = recording_and_metadata_df[recording_and_metadata_df[\"file_path\"].isin(valid_files)]"
   ]
  },
  {
   "cell_type": "code",
   "execution_count": 58,
   "id": "607aabe1",
   "metadata": {},
   "outputs": [
    {
     "data": {
      "text/html": [
       "<div>\n",
       "<style scoped>\n",
       "    .dataframe tbody tr th:only-of-type {\n",
       "        vertical-align: middle;\n",
       "    }\n",
       "\n",
       "    .dataframe tbody tr th {\n",
       "        vertical-align: top;\n",
       "    }\n",
       "\n",
       "    .dataframe thead th {\n",
       "        text-align: right;\n",
       "    }\n",
       "</style>\n",
       "<table border=\"1\" class=\"dataframe\">\n",
       "  <thead>\n",
       "    <tr style=\"text-align: right;\">\n",
       "      <th></th>\n",
       "      <th>(P)Portentry</th>\n",
       "      <th>(Q)USdelivery</th>\n",
       "      <th>(R)UStime</th>\n",
       "      <th>(W)ITIvalues</th>\n",
       "      <th>(S)CSpresentation</th>\n",
       "      <th>(N)Portexit</th>\n",
       "      <th>(K)CStype</th>\n",
       "      <th>(B)shockintensity</th>\n",
       "      <th>date</th>\n",
       "      <th>subject</th>\n",
       "      <th>...</th>\n",
       "      <th>Start Date</th>\n",
       "      <th>End Date</th>\n",
       "      <th>Subject</th>\n",
       "      <th>Experiment</th>\n",
       "      <th>Group</th>\n",
       "      <th>Box</th>\n",
       "      <th>Start Time</th>\n",
       "      <th>End Time</th>\n",
       "      <th>MSN</th>\n",
       "      <th>cage</th>\n",
       "    </tr>\n",
       "  </thead>\n",
       "  <tbody>\n",
       "    <tr>\n",
       "      <th>12705</th>\n",
       "      <td>4.46</td>\n",
       "      <td>64.0</td>\n",
       "      <td>399.0</td>\n",
       "      <td>0.0</td>\n",
       "      <td>60.01</td>\n",
       "      <td>5.03</td>\n",
       "      <td>1.0</td>\n",
       "      <td>0.0</td>\n",
       "      <td>20220509</td>\n",
       "      <td>1.1</td>\n",
       "      <td>...</td>\n",
       "      <td>05/09/22</td>\n",
       "      <td>05/09/22</td>\n",
       "      <td>1.1</td>\n",
       "      <td>Pilot of Pilot</td>\n",
       "      <td>Cage 1</td>\n",
       "      <td>2</td>\n",
       "      <td>09:48:49</td>\n",
       "      <td>11:00:54</td>\n",
       "      <td>levelNP_CS_reward_laserepochON1st_noshock</td>\n",
       "      <td>1</td>\n",
       "    </tr>\n",
       "    <tr>\n",
       "      <th>12706</th>\n",
       "      <td>53.73</td>\n",
       "      <td>144.0</td>\n",
       "      <td>399.0</td>\n",
       "      <td>0.0</td>\n",
       "      <td>140.01</td>\n",
       "      <td>59.77</td>\n",
       "      <td>1.0</td>\n",
       "      <td>0.0</td>\n",
       "      <td>20220509</td>\n",
       "      <td>1.1</td>\n",
       "      <td>...</td>\n",
       "      <td>05/09/22</td>\n",
       "      <td>05/09/22</td>\n",
       "      <td>1.1</td>\n",
       "      <td>Pilot of Pilot</td>\n",
       "      <td>Cage 1</td>\n",
       "      <td>2</td>\n",
       "      <td>09:48:49</td>\n",
       "      <td>11:00:54</td>\n",
       "      <td>levelNP_CS_reward_laserepochON1st_noshock</td>\n",
       "      <td>1</td>\n",
       "    </tr>\n",
       "    <tr>\n",
       "      <th>12707</th>\n",
       "      <td>61.61</td>\n",
       "      <td>234.0</td>\n",
       "      <td>399.0</td>\n",
       "      <td>0.0</td>\n",
       "      <td>230.01</td>\n",
       "      <td>73.37</td>\n",
       "      <td>1.0</td>\n",
       "      <td>0.0</td>\n",
       "      <td>20220509</td>\n",
       "      <td>1.1</td>\n",
       "      <td>...</td>\n",
       "      <td>05/09/22</td>\n",
       "      <td>05/09/22</td>\n",
       "      <td>1.1</td>\n",
       "      <td>Pilot of Pilot</td>\n",
       "      <td>Cage 1</td>\n",
       "      <td>2</td>\n",
       "      <td>09:48:49</td>\n",
       "      <td>11:00:54</td>\n",
       "      <td>levelNP_CS_reward_laserepochON1st_noshock</td>\n",
       "      <td>1</td>\n",
       "    </tr>\n",
       "    <tr>\n",
       "      <th>12708</th>\n",
       "      <td>77.85</td>\n",
       "      <td>314.0</td>\n",
       "      <td>399.0</td>\n",
       "      <td>0.0</td>\n",
       "      <td>310.01</td>\n",
       "      <td>80.71</td>\n",
       "      <td>1.0</td>\n",
       "      <td>0.0</td>\n",
       "      <td>20220509</td>\n",
       "      <td>1.1</td>\n",
       "      <td>...</td>\n",
       "      <td>05/09/22</td>\n",
       "      <td>05/09/22</td>\n",
       "      <td>1.1</td>\n",
       "      <td>Pilot of Pilot</td>\n",
       "      <td>Cage 1</td>\n",
       "      <td>2</td>\n",
       "      <td>09:48:49</td>\n",
       "      <td>11:00:54</td>\n",
       "      <td>levelNP_CS_reward_laserepochON1st_noshock</td>\n",
       "      <td>1</td>\n",
       "    </tr>\n",
       "    <tr>\n",
       "      <th>12709</th>\n",
       "      <td>95.26</td>\n",
       "      <td>389.0</td>\n",
       "      <td>399.0</td>\n",
       "      <td>0.0</td>\n",
       "      <td>385.01</td>\n",
       "      <td>99.79</td>\n",
       "      <td>1.0</td>\n",
       "      <td>0.0</td>\n",
       "      <td>20220509</td>\n",
       "      <td>1.1</td>\n",
       "      <td>...</td>\n",
       "      <td>05/09/22</td>\n",
       "      <td>05/09/22</td>\n",
       "      <td>1.1</td>\n",
       "      <td>Pilot of Pilot</td>\n",
       "      <td>Cage 1</td>\n",
       "      <td>2</td>\n",
       "      <td>09:48:49</td>\n",
       "      <td>11:00:54</td>\n",
       "      <td>levelNP_CS_reward_laserepochON1st_noshock</td>\n",
       "      <td>1</td>\n",
       "    </tr>\n",
       "  </tbody>\n",
       "</table>\n",
       "<p>5 rows × 23 columns</p>\n",
       "</div>"
      ],
      "text/plain": [
       "       (P)Portentry  (Q)USdelivery  (R)UStime  (W)ITIvalues  \\\n",
       "12705          4.46           64.0      399.0           0.0   \n",
       "12706         53.73          144.0      399.0           0.0   \n",
       "12707         61.61          234.0      399.0           0.0   \n",
       "12708         77.85          314.0      399.0           0.0   \n",
       "12709         95.26          389.0      399.0           0.0   \n",
       "\n",
       "       (S)CSpresentation  (N)Portexit  (K)CStype  (B)shockintensity      date  \\\n",
       "12705              60.01         5.03        1.0                0.0  20220509   \n",
       "12706             140.01        59.77        1.0                0.0  20220509   \n",
       "12707             230.01        73.37        1.0                0.0  20220509   \n",
       "12708             310.01        80.71        1.0                0.0  20220509   \n",
       "12709             385.01        99.79        1.0                0.0  20220509   \n",
       "\n",
       "       subject  ... Start Date  End Date Subject      Experiment   Group  Box  \\\n",
       "12705      1.1  ...   05/09/22  05/09/22     1.1  Pilot of Pilot  Cage 1    2   \n",
       "12706      1.1  ...   05/09/22  05/09/22     1.1  Pilot of Pilot  Cage 1    2   \n",
       "12707      1.1  ...   05/09/22  05/09/22     1.1  Pilot of Pilot  Cage 1    2   \n",
       "12708      1.1  ...   05/09/22  05/09/22     1.1  Pilot of Pilot  Cage 1    2   \n",
       "12709      1.1  ...   05/09/22  05/09/22     1.1  Pilot of Pilot  Cage 1    2   \n",
       "\n",
       "      Start Time  End Time                                        MSN cage  \n",
       "12705   09:48:49  11:00:54  levelNP_CS_reward_laserepochON1st_noshock    1  \n",
       "12706   09:48:49  11:00:54  levelNP_CS_reward_laserepochON1st_noshock    1  \n",
       "12707   09:48:49  11:00:54  levelNP_CS_reward_laserepochON1st_noshock    1  \n",
       "12708   09:48:49  11:00:54  levelNP_CS_reward_laserepochON1st_noshock    1  \n",
       "12709   09:48:49  11:00:54  levelNP_CS_reward_laserepochON1st_noshock    1  \n",
       "\n",
       "[5 rows x 23 columns]"
      ]
     },
     "execution_count": 58,
     "metadata": {},
     "output_type": "execute_result"
    }
   ],
   "source": [
    "valid_files_df.head()"
   ]
  },
  {
   "cell_type": "code",
   "execution_count": 59,
   "id": "cde42d65",
   "metadata": {},
   "outputs": [
    {
     "data": {
      "text/html": [
       "<div>\n",
       "<style scoped>\n",
       "    .dataframe tbody tr th:only-of-type {\n",
       "        vertical-align: middle;\n",
       "    }\n",
       "\n",
       "    .dataframe tbody tr th {\n",
       "        vertical-align: top;\n",
       "    }\n",
       "\n",
       "    .dataframe thead th {\n",
       "        text-align: right;\n",
       "    }\n",
       "</style>\n",
       "<table border=\"1\" class=\"dataframe\">\n",
       "  <thead>\n",
       "    <tr style=\"text-align: right;\">\n",
       "      <th></th>\n",
       "      <th>(P)Portentry</th>\n",
       "      <th>(Q)USdelivery</th>\n",
       "      <th>(R)UStime</th>\n",
       "      <th>(W)ITIvalues</th>\n",
       "      <th>(S)CSpresentation</th>\n",
       "      <th>(N)Portexit</th>\n",
       "      <th>(K)CStype</th>\n",
       "      <th>(B)shockintensity</th>\n",
       "      <th>date</th>\n",
       "      <th>subject</th>\n",
       "      <th>...</th>\n",
       "      <th>Start Date</th>\n",
       "      <th>End Date</th>\n",
       "      <th>Subject</th>\n",
       "      <th>Experiment</th>\n",
       "      <th>Group</th>\n",
       "      <th>Box</th>\n",
       "      <th>Start Time</th>\n",
       "      <th>End Time</th>\n",
       "      <th>MSN</th>\n",
       "      <th>cage</th>\n",
       "    </tr>\n",
       "  </thead>\n",
       "  <tbody>\n",
       "    <tr>\n",
       "      <th>185488</th>\n",
       "      <td>NaN</td>\n",
       "      <td>NaN</td>\n",
       "      <td>NaN</td>\n",
       "      <td>NaN</td>\n",
       "      <td>NaN</td>\n",
       "      <td>NaN</td>\n",
       "      <td>1.0</td>\n",
       "      <td>NaN</td>\n",
       "      <td>20220511</td>\n",
       "      <td>1.1</td>\n",
       "      <td>...</td>\n",
       "      <td>05/11/22</td>\n",
       "      <td>05/12/22</td>\n",
       "      <td>1.1</td>\n",
       "      <td>Pilot of Pilot</td>\n",
       "      <td>Cage 1</td>\n",
       "      <td>1</td>\n",
       "      <td>15:25:43</td>\n",
       "      <td>10:08:20</td>\n",
       "      <td>levelNP_CS_reward_laserepochON1st_noshock</td>\n",
       "      <td>1</td>\n",
       "    </tr>\n",
       "    <tr>\n",
       "      <th>185489</th>\n",
       "      <td>NaN</td>\n",
       "      <td>NaN</td>\n",
       "      <td>NaN</td>\n",
       "      <td>NaN</td>\n",
       "      <td>NaN</td>\n",
       "      <td>NaN</td>\n",
       "      <td>1.0</td>\n",
       "      <td>NaN</td>\n",
       "      <td>20220511</td>\n",
       "      <td>1.1</td>\n",
       "      <td>...</td>\n",
       "      <td>05/11/22</td>\n",
       "      <td>05/12/22</td>\n",
       "      <td>1.1</td>\n",
       "      <td>Pilot of Pilot</td>\n",
       "      <td>Cage 1</td>\n",
       "      <td>1</td>\n",
       "      <td>15:25:43</td>\n",
       "      <td>10:08:20</td>\n",
       "      <td>levelNP_CS_reward_laserepochON1st_noshock</td>\n",
       "      <td>1</td>\n",
       "    </tr>\n",
       "    <tr>\n",
       "      <th>185490</th>\n",
       "      <td>NaN</td>\n",
       "      <td>NaN</td>\n",
       "      <td>NaN</td>\n",
       "      <td>NaN</td>\n",
       "      <td>NaN</td>\n",
       "      <td>NaN</td>\n",
       "      <td>1.0</td>\n",
       "      <td>NaN</td>\n",
       "      <td>20220511</td>\n",
       "      <td>1.1</td>\n",
       "      <td>...</td>\n",
       "      <td>05/11/22</td>\n",
       "      <td>05/12/22</td>\n",
       "      <td>1.1</td>\n",
       "      <td>Pilot of Pilot</td>\n",
       "      <td>Cage 1</td>\n",
       "      <td>1</td>\n",
       "      <td>15:25:43</td>\n",
       "      <td>10:08:20</td>\n",
       "      <td>levelNP_CS_reward_laserepochON1st_noshock</td>\n",
       "      <td>1</td>\n",
       "    </tr>\n",
       "    <tr>\n",
       "      <th>185491</th>\n",
       "      <td>NaN</td>\n",
       "      <td>NaN</td>\n",
       "      <td>NaN</td>\n",
       "      <td>NaN</td>\n",
       "      <td>NaN</td>\n",
       "      <td>NaN</td>\n",
       "      <td>1.0</td>\n",
       "      <td>NaN</td>\n",
       "      <td>20220511</td>\n",
       "      <td>1.1</td>\n",
       "      <td>...</td>\n",
       "      <td>05/11/22</td>\n",
       "      <td>05/12/22</td>\n",
       "      <td>1.1</td>\n",
       "      <td>Pilot of Pilot</td>\n",
       "      <td>Cage 1</td>\n",
       "      <td>1</td>\n",
       "      <td>15:25:43</td>\n",
       "      <td>10:08:20</td>\n",
       "      <td>levelNP_CS_reward_laserepochON1st_noshock</td>\n",
       "      <td>1</td>\n",
       "    </tr>\n",
       "    <tr>\n",
       "      <th>185492</th>\n",
       "      <td>NaN</td>\n",
       "      <td>NaN</td>\n",
       "      <td>NaN</td>\n",
       "      <td>NaN</td>\n",
       "      <td>NaN</td>\n",
       "      <td>NaN</td>\n",
       "      <td>1.0</td>\n",
       "      <td>NaN</td>\n",
       "      <td>20220511</td>\n",
       "      <td>1.1</td>\n",
       "      <td>...</td>\n",
       "      <td>05/11/22</td>\n",
       "      <td>05/12/22</td>\n",
       "      <td>1.1</td>\n",
       "      <td>Pilot of Pilot</td>\n",
       "      <td>Cage 1</td>\n",
       "      <td>1</td>\n",
       "      <td>15:25:43</td>\n",
       "      <td>10:08:20</td>\n",
       "      <td>levelNP_CS_reward_laserepochON1st_noshock</td>\n",
       "      <td>1</td>\n",
       "    </tr>\n",
       "  </tbody>\n",
       "</table>\n",
       "<p>5 rows × 23 columns</p>\n",
       "</div>"
      ],
      "text/plain": [
       "        (P)Portentry  (Q)USdelivery  (R)UStime  (W)ITIvalues  \\\n",
       "185488           NaN            NaN        NaN           NaN   \n",
       "185489           NaN            NaN        NaN           NaN   \n",
       "185490           NaN            NaN        NaN           NaN   \n",
       "185491           NaN            NaN        NaN           NaN   \n",
       "185492           NaN            NaN        NaN           NaN   \n",
       "\n",
       "        (S)CSpresentation  (N)Portexit  (K)CStype  (B)shockintensity  \\\n",
       "185488                NaN          NaN        1.0                NaN   \n",
       "185489                NaN          NaN        1.0                NaN   \n",
       "185490                NaN          NaN        1.0                NaN   \n",
       "185491                NaN          NaN        1.0                NaN   \n",
       "185492                NaN          NaN        1.0                NaN   \n",
       "\n",
       "            date  subject  ... Start Date  End Date Subject      Experiment  \\\n",
       "185488  20220511      1.1  ...   05/11/22  05/12/22     1.1  Pilot of Pilot   \n",
       "185489  20220511      1.1  ...   05/11/22  05/12/22     1.1  Pilot of Pilot   \n",
       "185490  20220511      1.1  ...   05/11/22  05/12/22     1.1  Pilot of Pilot   \n",
       "185491  20220511      1.1  ...   05/11/22  05/12/22     1.1  Pilot of Pilot   \n",
       "185492  20220511      1.1  ...   05/11/22  05/12/22     1.1  Pilot of Pilot   \n",
       "\n",
       "         Group  Box Start Time  End Time  \\\n",
       "185488  Cage 1    1   15:25:43  10:08:20   \n",
       "185489  Cage 1    1   15:25:43  10:08:20   \n",
       "185490  Cage 1    1   15:25:43  10:08:20   \n",
       "185491  Cage 1    1   15:25:43  10:08:20   \n",
       "185492  Cage 1    1   15:25:43  10:08:20   \n",
       "\n",
       "                                              MSN cage  \n",
       "185488  levelNP_CS_reward_laserepochON1st_noshock    1  \n",
       "185489  levelNP_CS_reward_laserepochON1st_noshock    1  \n",
       "185490  levelNP_CS_reward_laserepochON1st_noshock    1  \n",
       "185491  levelNP_CS_reward_laserepochON1st_noshock    1  \n",
       "185492  levelNP_CS_reward_laserepochON1st_noshock    1  \n",
       "\n",
       "[5 rows x 23 columns]"
      ]
     },
     "execution_count": 59,
     "metadata": {},
     "output_type": "execute_result"
    }
   ],
   "source": [
    "valid_files_df.tail()"
   ]
  },
  {
   "cell_type": "markdown",
   "id": "40b3f261",
   "metadata": {},
   "source": [
    "## 4.2 Going through Each Subject and Each Day to Get the Average Probability of All the Time Increments Across All Trials"
   ]
  },
  {
   "cell_type": "markdown",
   "id": "d404fe8f",
   "metadata": {},
   "source": [
    "- We will be doing what we did for all the subjects and dates now"
   ]
  },
  {
   "cell_type": "code",
   "execution_count": 60,
   "id": "86f91041",
   "metadata": {},
   "outputs": [
    {
     "name": "stderr",
     "output_type": "stream",
     "text": [
      "/nancy/projects/behavioral_dataframe_processing/jupyter_notebooks/MED_PC/../../src/processing/tone.py:52: FutureWarning: The behavior of `series[i:j]` with an integer-dtype index is deprecated. In a future version, this will be treated as *label-based* indexing, consistent with e.g. `series[i]` lookups. To retain the old behavior, use `series.iloc[i:j]`. To get the future behavior, use `series.loc[i:j]`.\n",
      "  tone_pd_series = tone_pd_series[:max_tone_index]\n",
      "/nancy/projects/behavioral_dataframe_processing/jupyter_notebooks/MED_PC/../../src/processing/tone.py:52: FutureWarning: The behavior of `series[i:j]` with an integer-dtype index is deprecated. In a future version, this will be treated as *label-based* indexing, consistent with e.g. `series[i]` lookups. To retain the old behavior, use `series.iloc[i:j]`. To get the future behavior, use `series.loc[i:j]`.\n",
      "  tone_pd_series = tone_pd_series[:max_tone_index]\n",
      "/nancy/projects/behavioral_dataframe_processing/jupyter_notebooks/MED_PC/../../src/processing/tone.py:52: FutureWarning: The behavior of `series[i:j]` with an integer-dtype index is deprecated. In a future version, this will be treated as *label-based* indexing, consistent with e.g. `series[i]` lookups. To retain the old behavior, use `series.iloc[i:j]`. To get the future behavior, use `series.loc[i:j]`.\n",
      "  tone_pd_series = tone_pd_series[:max_tone_index]\n",
      "/nancy/projects/behavioral_dataframe_processing/jupyter_notebooks/MED_PC/../../src/processing/tone.py:52: FutureWarning: The behavior of `series[i:j]` with an integer-dtype index is deprecated. In a future version, this will be treated as *label-based* indexing, consistent with e.g. `series[i]` lookups. To retain the old behavior, use `series.iloc[i:j]`. To get the future behavior, use `series.loc[i:j]`.\n",
      "  tone_pd_series = tone_pd_series[:max_tone_index]\n",
      "/nancy/projects/behavioral_dataframe_processing/jupyter_notebooks/MED_PC/../../src/processing/tone.py:52: FutureWarning: The behavior of `series[i:j]` with an integer-dtype index is deprecated. In a future version, this will be treated as *label-based* indexing, consistent with e.g. `series[i]` lookups. To retain the old behavior, use `series.iloc[i:j]`. To get the future behavior, use `series.loc[i:j]`.\n",
      "  tone_pd_series = tone_pd_series[:max_tone_index]\n",
      "/nancy/projects/behavioral_dataframe_processing/jupyter_notebooks/MED_PC/../../src/processing/tone.py:52: FutureWarning: The behavior of `series[i:j]` with an integer-dtype index is deprecated. In a future version, this will be treated as *label-based* indexing, consistent with e.g. `series[i]` lookups. To retain the old behavior, use `series.iloc[i:j]`. To get the future behavior, use `series.loc[i:j]`.\n",
      "  tone_pd_series = tone_pd_series[:max_tone_index]\n",
      "/nancy/projects/behavioral_dataframe_processing/jupyter_notebooks/MED_PC/../../src/processing/tone.py:52: FutureWarning: The behavior of `series[i:j]` with an integer-dtype index is deprecated. In a future version, this will be treated as *label-based* indexing, consistent with e.g. `series[i]` lookups. To retain the old behavior, use `series.iloc[i:j]`. To get the future behavior, use `series.loc[i:j]`.\n",
      "  tone_pd_series = tone_pd_series[:max_tone_index]\n",
      "/nancy/projects/behavioral_dataframe_processing/jupyter_notebooks/MED_PC/../../src/processing/tone.py:52: FutureWarning: The behavior of `series[i:j]` with an integer-dtype index is deprecated. In a future version, this will be treated as *label-based* indexing, consistent with e.g. `series[i]` lookups. To retain the old behavior, use `series.iloc[i:j]`. To get the future behavior, use `series.loc[i:j]`.\n",
      "  tone_pd_series = tone_pd_series[:max_tone_index]\n",
      "/nancy/projects/behavioral_dataframe_processing/jupyter_notebooks/MED_PC/../../src/processing/tone.py:52: FutureWarning: The behavior of `series[i:j]` with an integer-dtype index is deprecated. In a future version, this will be treated as *label-based* indexing, consistent with e.g. `series[i]` lookups. To retain the old behavior, use `series.iloc[i:j]`. To get the future behavior, use `series.loc[i:j]`.\n",
      "  tone_pd_series = tone_pd_series[:max_tone_index]\n",
      "/nancy/projects/behavioral_dataframe_processing/jupyter_notebooks/MED_PC/../../src/processing/tone.py:52: FutureWarning: The behavior of `series[i:j]` with an integer-dtype index is deprecated. In a future version, this will be treated as *label-based* indexing, consistent with e.g. `series[i]` lookups. To retain the old behavior, use `series.iloc[i:j]`. To get the future behavior, use `series.loc[i:j]`.\n",
      "  tone_pd_series = tone_pd_series[:max_tone_index]\n",
      "/nancy/projects/behavioral_dataframe_processing/jupyter_notebooks/MED_PC/../../src/processing/tone.py:52: FutureWarning: The behavior of `series[i:j]` with an integer-dtype index is deprecated. In a future version, this will be treated as *label-based* indexing, consistent with e.g. `series[i]` lookups. To retain the old behavior, use `series.iloc[i:j]`. To get the future behavior, use `series.loc[i:j]`.\n",
      "  tone_pd_series = tone_pd_series[:max_tone_index]\n",
      "/nancy/projects/behavioral_dataframe_processing/jupyter_notebooks/MED_PC/../../src/processing/tone.py:52: FutureWarning: The behavior of `series[i:j]` with an integer-dtype index is deprecated. In a future version, this will be treated as *label-based* indexing, consistent with e.g. `series[i]` lookups. To retain the old behavior, use `series.iloc[i:j]`. To get the future behavior, use `series.loc[i:j]`.\n",
      "  tone_pd_series = tone_pd_series[:max_tone_index]\n",
      "/nancy/projects/behavioral_dataframe_processing/jupyter_notebooks/MED_PC/../../src/processing/tone.py:52: FutureWarning: The behavior of `series[i:j]` with an integer-dtype index is deprecated. In a future version, this will be treated as *label-based* indexing, consistent with e.g. `series[i]` lookups. To retain the old behavior, use `series.iloc[i:j]`. To get the future behavior, use `series.loc[i:j]`.\n",
      "  tone_pd_series = tone_pd_series[:max_tone_index]\n",
      "/nancy/projects/behavioral_dataframe_processing/jupyter_notebooks/MED_PC/../../src/processing/tone.py:52: FutureWarning: The behavior of `series[i:j]` with an integer-dtype index is deprecated. In a future version, this will be treated as *label-based* indexing, consistent with e.g. `series[i]` lookups. To retain the old behavior, use `series.iloc[i:j]`. To get the future behavior, use `series.loc[i:j]`.\n",
      "  tone_pd_series = tone_pd_series[:max_tone_index]\n",
      "/nancy/projects/behavioral_dataframe_processing/jupyter_notebooks/MED_PC/../../src/processing/tone.py:52: FutureWarning: The behavior of `series[i:j]` with an integer-dtype index is deprecated. In a future version, this will be treated as *label-based* indexing, consistent with e.g. `series[i]` lookups. To retain the old behavior, use `series.iloc[i:j]`. To get the future behavior, use `series.loc[i:j]`.\n",
      "  tone_pd_series = tone_pd_series[:max_tone_index]\n",
      "/nancy/projects/behavioral_dataframe_processing/jupyter_notebooks/MED_PC/../../src/processing/tone.py:52: FutureWarning: The behavior of `series[i:j]` with an integer-dtype index is deprecated. In a future version, this will be treated as *label-based* indexing, consistent with e.g. `series[i]` lookups. To retain the old behavior, use `series.iloc[i:j]`. To get the future behavior, use `series.loc[i:j]`.\n",
      "  tone_pd_series = tone_pd_series[:max_tone_index]\n"
     ]
    }
   ],
   "source": [
    "subject_to_date_to_average_probability = defaultdict(dict)\n",
    "# Going through each subject\n",
    "for subject in recording_and_metadata_df[\"subject\"].unique():\n",
    "    # Getting all the rows that are for one subject \n",
    "    one_subject_all_days = recording_and_metadata_df[recording_and_metadata_df[\"subject\"] == subject]\n",
    "    \n",
    "    # Going through each date of one subject\n",
    "    for date in one_subject_all_days[\"date\"].unique():\n",
    "        # Getting all the rows that correspond to the date\n",
    "        one_day_df = one_subject_all_days[one_subject_all_days[\"date\"] == date].copy()\n",
    "        ### Scaling all the dataframes\n",
    "        one_day_df[\"port_entry_scaled\"] = one_day_df[\"(P)Portentry\"].apply(lambda x: processing.port.scale_time_to_whole_number(x))\n",
    "        one_day_df[\"port_exit_scaled\"] = one_day_df[\"(N)Portexit\"].apply(lambda x: processing.port.scale_time_to_whole_number(x))\n",
    "        one_day_df[\"tone_start_scaled\"] = one_day_df[\"(S)CSpresentation\"].apply(lambda x: processing.port.scale_time_to_whole_number(x))\n",
    "        \n",
    "        ### All the numbers of times inside port\n",
    "        one_day_entry_times = processing.port.get_all_port_entry_increments(port_entry_scaled=one_day_df[\"port_entry_scaled\"], port_exit_scaled=one_day_df[\"port_exit_scaled\"])\n",
    "        ### Getting all the valid tone times and the max tone time\n",
    "        one_day_valid_tone_times = processing.tone.get_valid_tones(tone_pd_series=one_day_df[\"tone_start_scaled\"]).astype(int)\n",
    "        one_day_max_time = one_day_valid_tone_times.max() + 2001\n",
    "        ### Getting a mask of all the times in the port\n",
    "        one_day_experiment_interval, one_day_entry_mask = processing.port.get_inside_port_mask(max_time=one_day_max_time, inside_port_numbers=one_day_entry_times)\n",
    "        ### Getting the average probability\n",
    "        one_day_average_all_tone_time_masks = processing.port.get_inside_port_probability_averages_for_all_increments(tone_times=one_day_valid_tone_times, inside_port_mask=one_day_entry_mask)\n",
    "        subject_to_date_to_average_probability[subject][date] = one_day_average_all_tone_time_masks\n"
   ]
  },
  {
   "cell_type": "code",
   "execution_count": 61,
   "id": "1affc2f1",
   "metadata": {},
   "outputs": [
    {
     "name": "stdout",
     "output_type": "stream",
     "text": [
      "Subject: 1.1\n",
      "Date to probability inside port for each increment: {20220509: array([0.2  , 0.2  , 0.2  , ..., 0.675, 0.675, 0.675]), 20220510: array([0.675, 0.675, 0.675, ..., 0.45 , 0.45 , 0.475]), 20220508: array([0.17948718, 0.17948718, 0.20512821, ..., 0.69230769, 0.69230769,\n",
      "       0.69230769]), 20220511: array([0.575, 0.575, 0.575, ..., 0.75 , 0.775, 0.775])}\n"
     ]
    }
   ],
   "source": [
    "for key, value in subject_to_date_to_average_probability.items():\n",
    "    print(\"Subject: {}\".format(key))\n",
    "    print(\"Date to probability inside port for each increment: {}\".format(value))\n",
    "    break"
   ]
  },
  {
   "cell_type": "code",
   "execution_count": 62,
   "id": "d13c84b8",
   "metadata": {
    "scrolled": true
   },
   "outputs": [
    {
     "data": {
      "text/plain": [
       "{}"
      ]
     },
     "execution_count": 62,
     "metadata": {},
     "output_type": "execute_result"
    }
   ],
   "source": [
    "subject_to_date_to_average_probability[\"3.3 (4)\"]"
   ]
  },
  {
   "cell_type": "code",
   "execution_count": 63,
   "id": "1759f45a",
   "metadata": {},
   "outputs": [],
   "source": [
    "subject_to_cage = pd.Series(metadata_df[\"cage\"].values.astype(int),index=metadata_df[\"Subject\"].values).to_dict()"
   ]
  },
  {
   "cell_type": "code",
   "execution_count": 64,
   "id": "7031affe",
   "metadata": {
    "scrolled": true
   },
   "outputs": [
    {
     "data": {
      "text/plain": [
       "{1.3: 2, 2.1: 2, 2.2: 1, 1.1: 1, 1.2: 2, 2.4: 2, 1.4: 1, 2.3: 1}"
      ]
     },
     "execution_count": 64,
     "metadata": {},
     "output_type": "execute_result"
    }
   ],
   "source": [
    "subject_to_cage"
   ]
  },
  {
   "cell_type": "markdown",
   "id": "04c47d4a",
   "metadata": {},
   "source": [
    "- Making directories for output"
   ]
  },
  {
   "cell_type": "code",
   "execution_count": 65,
   "id": "213b362d",
   "metadata": {},
   "outputs": [],
   "source": [
    "probability_inside_port_plots_output_directory = \"./proc/plots/probability_inside_port/cage_{}_date_{}_{}\".format(cage_numbers_for_title, earliest_date, latest_date)"
   ]
  },
  {
   "cell_type": "code",
   "execution_count": 66,
   "id": "b62e98e0",
   "metadata": {},
   "outputs": [
    {
     "data": {
      "text/plain": [
       "'./proc/plots/probability_inside_port/cage_1_date_20220508_20220512'"
      ]
     },
     "execution_count": 66,
     "metadata": {},
     "output_type": "execute_result"
    }
   ],
   "source": [
    "probability_inside_port_plots_output_directory"
   ]
  },
  {
   "cell_type": "code",
   "execution_count": 67,
   "id": "234b8b95",
   "metadata": {},
   "outputs": [],
   "source": [
    "os.makedirs(probability_inside_port_plots_output_directory, exist_ok=True)"
   ]
  },
  {
   "cell_type": "markdown",
   "id": "84776f3a",
   "metadata": {},
   "source": [
    "## Plotting the probability that the subject is in the port for a given time increment before or after the tone"
   ]
  },
  {
   "cell_type": "code",
   "execution_count": 68,
   "id": "48638ace",
   "metadata": {
    "scrolled": false
   },
   "outputs": [
    {
     "data": {
      "image/png": "[encoded data removed]",
      "text/plain": [
       "<Figure size 1000x600 with 1 Axes>"
      ]
     },
     "metadata": {},
     "output_type": "display_data"
    },
    {
     "data": {
      "image/png": "[encoded data removed]",
      "text/plain": [
       "<Figure size 1000x600 with 1 Axes>"
      ]
     },
     "metadata": {},
     "output_type": "display_data"
    },
    {
     "data": {
      "image/png": "[encoded data removed]",
      "text/plain": [
       "<Figure size 1000x600 with 1 Axes>"
      ]
     },
     "metadata": {},
     "output_type": "display_data"
    },
    {
     "data": {
      "image/png": "[encoded data removed]",
      "text/plain": [
       "<Figure size 1000x600 with 1 Axes>"
      ]
     },
     "metadata": {},
     "output_type": "display_data"
    }
   ],
   "source": [
    "all_colors = [\"k\", \"gray\", \"b\", \"m\", \"fuchsia\", \"c\",\"g\", \"lime\", \"y\", \"darkorange\", \"r\", \"deeppink\"]\n",
    "for subject_id in recording_and_metadata_df[\"subject\"].unique():\n",
    "    fig, ax = plt.subplots()\n",
    "    cage = int(subject_to_cage[subject_id])\n",
    "    ax.set_xlabel(\"Seconds from the start of the tone\")\n",
    "    ax.set_ylabel(\"Probability Inside Port\")\n",
    "    ax.set_title(\"Probability Inside Port Before/After Tone for Subject: {} in Cage {}\".format(subject_id, cage))\n",
    "    counter = 0\n",
    "\n",
    "    for key in sorted(subject_to_date_to_average_probability[subject_id].keys()):\n",
    "        ax.plot(np.linspace(-20,20,4000), subject_to_date_to_average_probability[subject_id][key], label=key, color=all_colors[counter])\n",
    "        counter += 1\n",
    "    handles, labels = ax.get_legend_handles_labels()\n",
    "    labels, handles = zip(*sorted(zip(labels, handles), key=lambda t: t[0]))\n",
    "    ax.set_ylim(0, 1)\n",
    "    ax.legend(handles, labels)\n",
    "\n",
    "    file_name = \"probability_inside_port_cage_{}_subject_{}_date_{}_{}.png\".format(cage, subject_id, earliest_date, latest_date)\n",
    "    plt.savefig(os.path.join(probability_inside_port_plots_output_directory, file_name))"
   ]
  },
  {
   "cell_type": "markdown",
   "id": "910f10ef",
   "metadata": {},
   "source": [
    "# 4. Licking Specifity Average"
   ]
  },
  {
   "cell_type": "markdown",
   "id": "abc5f6c6",
   "metadata": {},
   "source": [
    "- Licking specifity is measured by getting that average probability for all time increments that the subject is in a port from either -20 to 0 seconds from the tone playing or 0 to 10 seconds from the tone playing. The goal will be to more easily compare if the subject is correctly associating the tone with the reward by comparing how often they're in the port before and after the tone."
   ]
  },
  {
   "cell_type": "markdown",
   "id": "ce4fe61c",
   "metadata": {},
   "source": [
    "- Getting the mean of all the port probabilites for each subject + date combination for -20 to 0 seconds from the tone playing or 0 to 10 seconds from the tone playing."
   ]
  },
  {
   "cell_type": "code",
   "execution_count": 69,
   "id": "613aa093",
   "metadata": {},
   "outputs": [],
   "source": [
    "subject_to_date_to_licking_specificty = defaultdict(lambda: defaultdict(dict))\n",
    "for subject, all_dates in subject_to_date_to_average_probability.items():\n",
    "    for date, averages in all_dates.items():\n",
    "        subject_to_date_to_licking_specificty[subject][date][\"-20_to_0\"] = averages[0:2000].mean()\n",
    "        subject_to_date_to_licking_specificty[subject][date][\"0_to_10\"] = averages[2000:3000].mean()"
   ]
  },
  {
   "cell_type": "code",
   "execution_count": 70,
   "id": "157cf709",
   "metadata": {},
   "outputs": [
    {
     "name": "stdout",
     "output_type": "stream",
     "text": [
      "Subject: 1.1\n",
      "Date to licking specifity before and after tone: defaultdict(<class 'dict'>, {20220509: {'-20_to_0': 0.30695, '0_to_10': 0.821}, 20220510: {'-20_to_0': 0.47636249999999997, '0_to_10': 0.9103}, 20220508: {'-20_to_0': 0.31156410256410255, '0_to_10': 0.7757435897435897}, 20220511: {'-20_to_0': 0.5971375000000001, '0_to_10': 0.9236749999999999}})\n"
     ]
    }
   ],
   "source": [
    "for key, value in subject_to_date_to_licking_specificty.items():\n",
    "    print(\"Subject: {}\".format(key))\n",
    "    print(\"Date to licking specifity before and after tone: {}\".format(value))\n",
    "    break"
   ]
  },
  {
   "cell_type": "markdown",
   "id": "66545b7f",
   "metadata": {},
   "source": [
    "- Turning the dictionary into dataframe for plotting"
   ]
  },
  {
   "cell_type": "code",
   "execution_count": 71,
   "id": "40e1863a",
   "metadata": {},
   "outputs": [],
   "source": [
    "licking_specifity_df = pd.DataFrame.from_dict({(i,j): subject_to_date_to_licking_specificty[i][j] \n",
    "                           for i in subject_to_date_to_licking_specificty.keys() \n",
    "                           for j in subject_to_date_to_licking_specificty[i].keys()},\n",
    "                       orient='index')\n"
   ]
  },
  {
   "cell_type": "markdown",
   "id": "0ea25edd",
   "metadata": {},
   "source": [
    "- Adding metadata and formatting the dataframe"
   ]
  },
  {
   "cell_type": "code",
   "execution_count": 72,
   "id": "f82b0b9d",
   "metadata": {},
   "outputs": [],
   "source": [
    "licking_specifity_df = licking_specifity_df.reset_index()\n",
    "licking_specifity_df = licking_specifity_df.rename(columns={\"level_0\": \"subject\", \"level_1\": \"date\"})"
   ]
  },
  {
   "cell_type": "code",
   "execution_count": 73,
   "id": "70a93a91",
   "metadata": {},
   "outputs": [],
   "source": [
    "licking_specifity_df[\"date_int\"] = licking_specifity_df[\"date\"].astype(int)\n",
    "licking_specifity_df[\"cage\"] = licking_specifity_df[\"subject\"].map(subject_to_cage)"
   ]
  },
  {
   "cell_type": "code",
   "execution_count": 74,
   "id": "10c2efe4",
   "metadata": {},
   "outputs": [
    {
     "data": {
      "text/html": [
       "<div>\n",
       "<style scoped>\n",
       "    .dataframe tbody tr th:only-of-type {\n",
       "        vertical-align: middle;\n",
       "    }\n",
       "\n",
       "    .dataframe tbody tr th {\n",
       "        vertical-align: top;\n",
       "    }\n",
       "\n",
       "    .dataframe thead th {\n",
       "        text-align: right;\n",
       "    }\n",
       "</style>\n",
       "<table border=\"1\" class=\"dataframe\">\n",
       "  <thead>\n",
       "    <tr style=\"text-align: right;\">\n",
       "      <th></th>\n",
       "      <th>subject</th>\n",
       "      <th>date</th>\n",
       "      <th>-20_to_0</th>\n",
       "      <th>0_to_10</th>\n",
       "      <th>date_int</th>\n",
       "      <th>cage</th>\n",
       "    </tr>\n",
       "  </thead>\n",
       "  <tbody>\n",
       "    <tr>\n",
       "      <th>0</th>\n",
       "      <td>1.1</td>\n",
       "      <td>20220509</td>\n",
       "      <td>0.306950</td>\n",
       "      <td>0.821000</td>\n",
       "      <td>20220509</td>\n",
       "      <td>1</td>\n",
       "    </tr>\n",
       "    <tr>\n",
       "      <th>1</th>\n",
       "      <td>1.1</td>\n",
       "      <td>20220510</td>\n",
       "      <td>0.476362</td>\n",
       "      <td>0.910300</td>\n",
       "      <td>20220510</td>\n",
       "      <td>1</td>\n",
       "    </tr>\n",
       "    <tr>\n",
       "      <th>2</th>\n",
       "      <td>1.1</td>\n",
       "      <td>20220508</td>\n",
       "      <td>0.311564</td>\n",
       "      <td>0.775744</td>\n",
       "      <td>20220508</td>\n",
       "      <td>1</td>\n",
       "    </tr>\n",
       "    <tr>\n",
       "      <th>3</th>\n",
       "      <td>1.1</td>\n",
       "      <td>20220511</td>\n",
       "      <td>0.597138</td>\n",
       "      <td>0.923675</td>\n",
       "      <td>20220511</td>\n",
       "      <td>1</td>\n",
       "    </tr>\n",
       "    <tr>\n",
       "      <th>4</th>\n",
       "      <td>2.2</td>\n",
       "      <td>20220511</td>\n",
       "      <td>0.537025</td>\n",
       "      <td>0.735025</td>\n",
       "      <td>20220511</td>\n",
       "      <td>1</td>\n",
       "    </tr>\n",
       "    <tr>\n",
       "      <th>5</th>\n",
       "      <td>2.2</td>\n",
       "      <td>20220510</td>\n",
       "      <td>0.304488</td>\n",
       "      <td>0.857350</td>\n",
       "      <td>20220510</td>\n",
       "      <td>1</td>\n",
       "    </tr>\n",
       "    <tr>\n",
       "      <th>6</th>\n",
       "      <td>2.2</td>\n",
       "      <td>20220508</td>\n",
       "      <td>0.410513</td>\n",
       "      <td>0.788872</td>\n",
       "      <td>20220508</td>\n",
       "      <td>1</td>\n",
       "    </tr>\n",
       "    <tr>\n",
       "      <th>7</th>\n",
       "      <td>2.2</td>\n",
       "      <td>20220509</td>\n",
       "      <td>0.373762</td>\n",
       "      <td>0.780475</td>\n",
       "      <td>20220509</td>\n",
       "      <td>1</td>\n",
       "    </tr>\n",
       "    <tr>\n",
       "      <th>8</th>\n",
       "      <td>2.3</td>\n",
       "      <td>20220508</td>\n",
       "      <td>0.184821</td>\n",
       "      <td>0.471590</td>\n",
       "      <td>20220508</td>\n",
       "      <td>1</td>\n",
       "    </tr>\n",
       "    <tr>\n",
       "      <th>9</th>\n",
       "      <td>2.3</td>\n",
       "      <td>20220511</td>\n",
       "      <td>0.400462</td>\n",
       "      <td>0.764650</td>\n",
       "      <td>20220511</td>\n",
       "      <td>1</td>\n",
       "    </tr>\n",
       "    <tr>\n",
       "      <th>10</th>\n",
       "      <td>2.3</td>\n",
       "      <td>20220509</td>\n",
       "      <td>0.237450</td>\n",
       "      <td>0.590975</td>\n",
       "      <td>20220509</td>\n",
       "      <td>1</td>\n",
       "    </tr>\n",
       "    <tr>\n",
       "      <th>11</th>\n",
       "      <td>2.3</td>\n",
       "      <td>20220510</td>\n",
       "      <td>0.364862</td>\n",
       "      <td>0.766025</td>\n",
       "      <td>20220510</td>\n",
       "      <td>1</td>\n",
       "    </tr>\n",
       "    <tr>\n",
       "      <th>12</th>\n",
       "      <td>1.4</td>\n",
       "      <td>20220511</td>\n",
       "      <td>0.567375</td>\n",
       "      <td>0.733300</td>\n",
       "      <td>20220511</td>\n",
       "      <td>1</td>\n",
       "    </tr>\n",
       "    <tr>\n",
       "      <th>13</th>\n",
       "      <td>1.4</td>\n",
       "      <td>20220508</td>\n",
       "      <td>0.147295</td>\n",
       "      <td>0.301154</td>\n",
       "      <td>20220508</td>\n",
       "      <td>1</td>\n",
       "    </tr>\n",
       "    <tr>\n",
       "      <th>14</th>\n",
       "      <td>1.4</td>\n",
       "      <td>20220509</td>\n",
       "      <td>0.351363</td>\n",
       "      <td>0.537850</td>\n",
       "      <td>20220509</td>\n",
       "      <td>1</td>\n",
       "    </tr>\n",
       "    <tr>\n",
       "      <th>15</th>\n",
       "      <td>1.4</td>\n",
       "      <td>20220510</td>\n",
       "      <td>0.387512</td>\n",
       "      <td>0.796950</td>\n",
       "      <td>20220510</td>\n",
       "      <td>1</td>\n",
       "    </tr>\n",
       "  </tbody>\n",
       "</table>\n",
       "</div>"
      ],
      "text/plain": [
       "    subject      date  -20_to_0   0_to_10  date_int  cage\n",
       "0       1.1  20220509  0.306950  0.821000  20220509     1\n",
       "1       1.1  20220510  0.476362  0.910300  20220510     1\n",
       "2       1.1  20220508  0.311564  0.775744  20220508     1\n",
       "3       1.1  20220511  0.597138  0.923675  20220511     1\n",
       "4       2.2  20220511  0.537025  0.735025  20220511     1\n",
       "5       2.2  20220510  0.304488  0.857350  20220510     1\n",
       "6       2.2  20220508  0.410513  0.788872  20220508     1\n",
       "7       2.2  20220509  0.373762  0.780475  20220509     1\n",
       "8       2.3  20220508  0.184821  0.471590  20220508     1\n",
       "9       2.3  20220511  0.400462  0.764650  20220511     1\n",
       "10      2.3  20220509  0.237450  0.590975  20220509     1\n",
       "11      2.3  20220510  0.364862  0.766025  20220510     1\n",
       "12      1.4  20220511  0.567375  0.733300  20220511     1\n",
       "13      1.4  20220508  0.147295  0.301154  20220508     1\n",
       "14      1.4  20220509  0.351363  0.537850  20220509     1\n",
       "15      1.4  20220510  0.387512  0.796950  20220510     1"
      ]
     },
     "execution_count": 74,
     "metadata": {},
     "output_type": "execute_result"
    }
   ],
   "source": [
    "licking_specifity_df"
   ]
  },
  {
   "cell_type": "code",
   "execution_count": 75,
   "id": "5d7e6943",
   "metadata": {},
   "outputs": [],
   "source": [
    "licking_specifity_df = licking_specifity_df.sort_values(by=[\"subject\", \"date_int\"])"
   ]
  },
  {
   "cell_type": "code",
   "execution_count": 76,
   "id": "5d5f4217",
   "metadata": {},
   "outputs": [],
   "source": [
    "licking_specifity_df = licking_specifity_df.reset_index(drop=True)"
   ]
  },
  {
   "cell_type": "markdown",
   "id": "6aa47026",
   "metadata": {},
   "source": [
    "- Making Directories"
   ]
  },
  {
   "cell_type": "code",
   "execution_count": 77,
   "id": "a34e22ba",
   "metadata": {},
   "outputs": [],
   "source": [
    "subject_and_date_rows_licking_specifity_output_directory = \"./proc/subject_and_date_rows_licking_specifity_output_directory/cage_{}_date_{}_{}\".format(cage_numbers_for_title, earliest_date, latest_date)"
   ]
  },
  {
   "cell_type": "code",
   "execution_count": 78,
   "id": "fc57f4a6",
   "metadata": {},
   "outputs": [
    {
     "data": {
      "text/plain": [
       "'./proc/subject_and_date_rows_licking_specifity_output_directory/cage_1_date_20220508_20220512'"
      ]
     },
     "execution_count": 78,
     "metadata": {},
     "output_type": "execute_result"
    }
   ],
   "source": [
    "subject_and_date_rows_licking_specifity_output_directory"
   ]
  },
  {
   "cell_type": "code",
   "execution_count": 79,
   "id": "a3bdb2dc",
   "metadata": {},
   "outputs": [],
   "source": [
    "os.makedirs(subject_and_date_rows_licking_specifity_output_directory, exist_ok=True)"
   ]
  },
  {
   "cell_type": "markdown",
   "id": "3d7995e0",
   "metadata": {},
   "source": [
    "- Saving the dataframe to a file"
   ]
  },
  {
   "cell_type": "code",
   "execution_count": 80,
   "id": "2394c4b8",
   "metadata": {},
   "outputs": [],
   "source": [
    "licking_specifity_df.to_csv(os.path.join(subject_and_date_rows_licking_specifity_output_directory, \"lsubject_and_date_rows_licking_specifity_cage_{}_date_{}_{}.csv\".format(cage_numbers_for_title, earliest_date, latest_date)))\n",
    "licking_specifity_df.to_excel(os.path.join(subject_and_date_rows_licking_specifity_output_directory, \"lsubject_and_date_rows_licking_specifity_cage_{}_date_{}_{}.xlsx\".format(cage_numbers_for_title, earliest_date, latest_date)))\n"
   ]
  },
  {
   "cell_type": "markdown",
   "id": "6545ee26",
   "metadata": {},
   "source": [
    "## Plotting the Licking Specifity"
   ]
  },
  {
   "cell_type": "markdown",
   "id": "10f3d93d",
   "metadata": {},
   "source": [
    "- Making the output directories"
   ]
  },
  {
   "cell_type": "code",
   "execution_count": 81,
   "id": "64313967",
   "metadata": {},
   "outputs": [],
   "source": [
    "licking_specifity_plots_output_directory = \"./proc/plots/licking_specifity/cage_{}_date_{}_{}\".format(cage_numbers_for_title, earliest_date, latest_date)"
   ]
  },
  {
   "cell_type": "code",
   "execution_count": 82,
   "id": "f09191cc",
   "metadata": {},
   "outputs": [
    {
     "data": {
      "text/plain": [
       "'./proc/plots/licking_specifity/cage_1_date_20220508_20220512'"
      ]
     },
     "execution_count": 82,
     "metadata": {},
     "output_type": "execute_result"
    }
   ],
   "source": [
    "licking_specifity_plots_output_directory"
   ]
  },
  {
   "cell_type": "code",
   "execution_count": 83,
   "id": "11e8a8c9",
   "metadata": {},
   "outputs": [],
   "source": [
    "os.makedirs(licking_specifity_plots_output_directory, exist_ok=True)"
   ]
  },
  {
   "cell_type": "markdown",
   "id": "afc8c7fe",
   "metadata": {},
   "source": [
    "- Creating the plots"
   ]
  },
  {
   "cell_type": "code",
   "execution_count": 84,
   "id": "b72e6ba2",
   "metadata": {
    "scrolled": true
   },
   "outputs": [
    {
     "data": {
      "image/png": "[encoded data removed]",
      "text/plain": [
       "<Figure size 1000x600 with 1 Axes>"
      ]
     },
     "metadata": {},
     "output_type": "display_data"
    }
   ],
   "source": [
    "all_colors = [\"b\", \"g\", \"y\", \"r\"]\n",
    "\n",
    "for cage in licking_specifity_df[\"cage\"].unique():\n",
    "    fig, ax = plt.subplots()\n",
    "\n",
    "    cage_df = licking_specifity_df[licking_specifity_df[\"cage\"] == cage]\n",
    "    counter = 0\n",
    "    for subject in cage_df[\"subject\"].unique():\n",
    "        subject_df = cage_df[cage_df[\"subject\"] == subject]\n",
    "        \n",
    "        \n",
    "        ax.plot(subject_df[\"date_int\"] - subject_df[\"date_int\"].min() + 1, subject_df[\"-20_to_0\"], '--', color=all_colors[counter], label=\"{} at -20s to 0s\".format(subject))\n",
    "        ax.plot(subject_df[\"date_int\"] - subject_df[\"date_int\"].min() + 1, subject_df[\"0_to_10\"], '-', color=all_colors[counter], label=\"{} at 0s to 10s\".format(subject))\n",
    "        counter += 1\n",
    "        \n",
    "    ax.set_xlabel(\"The Days After the First Session\")\n",
    "    ax.set_ylabel(\"Average Licking Specificty Probaility\")\n",
    "    ax.set_title(\"Licking Specifity Probability Before and After Tone Onset: Cage {}\".format(int(cage)))\n",
    "\n",
    "    ax.set_ylim(0, 1)\n",
    "    ax.legend()\n",
    "    \n",
    "    file_name = \"licking_specifity_plot_cage_{}_date_{}_{}.png\".format(int(cage), earliest_date, latest_date)\n",
    "    plt.savefig(os.path.join(licking_specifity_plots_output_directory, file_name))\n",
    "    "
   ]
  },
  {
   "cell_type": "code",
   "execution_count": null,
   "id": "3848975e",
   "metadata": {},
   "outputs": [],
   "source": []
  }
 ],
 "metadata": {
  "kernelspec": {
   "display_name": "Python 3 (ipykernel)",
   "language": "python",
   "name": "python3"
  },
  "language_info": {
   "codemirror_mode": {
    "name": "ipython",
    "version": 3
   },
   "file_extension": ".py",
   "mimetype": "text/x-python",
   "name": "python",
   "nbconvert_exporter": "python",
   "pygments_lexer": "ipython3",
   "version": "3.9.13"
  }
 },
 "nbformat": 4,
 "nbformat_minor": 5
}
