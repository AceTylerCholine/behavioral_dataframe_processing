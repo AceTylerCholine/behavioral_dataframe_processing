{
 "cells": [
  {
   "cell_type": "markdown",
   "id": "cd97c972",
   "metadata": {},
   "source": [
    "# Reward Competition Elo Score Calculation"
   ]
  },
  {
   "cell_type": "code",
   "execution_count": 1,
   "id": "cf755b46",
   "metadata": {},
   "outputs": [],
   "source": [
    "import re\n",
    "import os\n",
    "import sys\n",
    "import string\n",
    "from collections import defaultdict\n",
    "import glob\n",
    "import warnings\n",
    "from datetime import datetime\n",
    "from datetime import timedelta\n",
    "import ast"
   ]
  },
  {
   "cell_type": "code",
   "execution_count": 2,
   "id": "9537e067",
   "metadata": {},
   "outputs": [],
   "source": [
    "import matplotlib.pyplot as plt\n",
    "import numpy as np\n",
    "import pandas as pd\n",
    "import xlrd"
   ]
  },
  {
   "cell_type": "code",
   "execution_count": 3,
   "id": "2e3d2466",
   "metadata": {},
   "outputs": [],
   "source": [
    "# setting path\n",
    "sys.path.append('../../src')"
   ]
  },
  {
   "cell_type": "code",
   "execution_count": 4,
   "id": "104016aa",
   "metadata": {},
   "outputs": [],
   "source": [
    "from eloscore import eloscore"
   ]
  },
  {
   "cell_type": "code",
   "execution_count": 5,
   "id": "6ea31ca1",
   "metadata": {},
   "outputs": [],
   "source": [
    "# Increase size of plot in jupyter\n",
    "\n",
    "plt.rcParams[\"figure.figsize\"] = (18,10)"
   ]
  },
  {
   "cell_type": "markdown",
   "id": "8b7c1562",
   "metadata": {},
   "source": [
    "## TODO: ADD Summary"
   ]
  },
  {
   "cell_type": "markdown",
   "id": "082b25db",
   "metadata": {},
   "source": [
    "# Make it iterate through a list of sheets"
   ]
  },
  {
   "cell_type": "markdown",
   "id": "a5950969",
   "metadata": {},
   "source": [
    "- Notebook that calcuates the Elo Score of mice competing over access to a tone associated reward port\n",
    "- The data is a spreadsheet of combination of subjects (as rows) against dates (as columns)"
   ]
  },
  {
   "cell_type": "markdown",
   "id": "921da23e",
   "metadata": {},
   "source": [
    "## Name of protocol for naming"
   ]
  },
  {
   "cell_type": "markdown",
   "id": "fd2e5003",
   "metadata": {},
   "source": [
    "- This name will be used to name files and title plots. Please change if you are using a different protocol or adding more details\n",
    "    - **NOTE**: This should be changed based on the name the protocol"
   ]
  },
  {
   "cell_type": "code",
   "execution_count": 6,
   "id": "b0439515",
   "metadata": {},
   "outputs": [],
   "source": [
    "protocol_name = \"reward_competition\""
   ]
  },
  {
   "cell_type": "markdown",
   "id": "e10e8fbb",
   "metadata": {},
   "source": [
    "## Getting the file name of the raw data"
   ]
  },
  {
   "cell_type": "markdown",
   "id": "372e2dbf",
   "metadata": {},
   "source": [
    "- Default input folder and keyword to search the files for \n",
    "    - **NOTE**: This should not be changed unless there is a consistent change with the file naming convention"
   ]
  },
  {
   "cell_type": "code",
   "execution_count": 7,
   "id": "2841663a",
   "metadata": {},
   "outputs": [],
   "source": [
    "input_folder = \"./data\""
   ]
  },
  {
   "cell_type": "code",
   "execution_count": 8,
   "id": "d027a260",
   "metadata": {},
   "outputs": [],
   "source": [
    "# Accomodates for both capitalization of the file names\n",
    "raw_data_file_keyword = '*[rR]eward*'"
   ]
  },
  {
   "cell_type": "markdown",
   "id": "6f894105",
   "metadata": {},
   "source": [
    "- Asking the user what the path to the recording files are, with the option of using wildcards"
   ]
  },
  {
   "cell_type": "code",
   "execution_count": 9,
   "id": "6e17ad71",
   "metadata": {},
   "outputs": [
    {
     "name": "stdout",
     "output_type": "stream",
     "text": [
      "Type out the path(address) of the raw behavioral recording excel sheets.\n",
      "Remember that if you are using a relative path, it will be based off of the location of this Jupyter Notebook.\n",
      "\n",
      "Globbing can also be used if you want to search with a wild card(Capitalization matters). \n",
      "i.e. './data/*Home*' will be able to find './data/Homecage_observations.xlsx'\n",
      "\n",
      "NOTE: If left blank, the path will automatically be guessed off of the default settings \n",
      "./data/*Reward*\n"
     ]
    }
   ],
   "source": [
    "raw_data_glob_pattern = input(\"\"\"Type out the path(address) of the raw behavioral recording excel sheets.\n",
    "Remember that if you are using a relative path, it will be based off of the location of this Jupyter Notebook.\n",
    "\n",
    "Globbing can also be used if you want to search with a wild card(Capitalization matters). \n",
    "i.e. './data/*Home*' will be able to find './data/Homecage_observations.xlsx'\n",
    "\n",
    "NOTE: If left blank, the path will automatically be guessed off of the default settings \n",
    "\"\"\")"
   ]
  },
  {
   "cell_type": "markdown",
   "id": "a0206991",
   "metadata": {},
   "source": [
    "- By default, this will search for files that are in the `./data` folder (in the folder that this notebook is in) that have key word you specified in the file name"
   ]
  },
  {
   "cell_type": "code",
   "execution_count": 10,
   "id": "c43c85f0",
   "metadata": {},
   "outputs": [],
   "source": [
    "# Using the user inputted path/pattern\n",
    "if raw_data_glob_pattern.strip():\n",
    "    # Getting a list of all matching files\n",
    "    raw_data_files_list = glob.glob(raw_data_glob_pattern.strip())\n",
    "    # Checking if there were any files that matched\n",
    "    if raw_data_files_list:\n",
    "        raw_data_file_path = raw_data_files_list[0]\n",
    "    else:\n",
    "        raise ValueError(\"No files were found with the path/pattern of {}. Please rerun the previous cell with the correct path\".format(raw_data_glob_pattern))\n",
    "\n",
    "# Using the default pattern\n",
    "else:\n",
    "    # Searching for matching files with recursion\n",
    "    if glob.glob(os.path.join(input_folder + \"**\", raw_data_file_keyword)):\n",
    "        raw_data_glob_pattern = os.path.join(input_folder + \"**\", raw_data_file_keyword)\n",
    "        # Getting a list of all matching files\n",
    "        raw_data_files_list = glob.glob(raw_data_glob_pattern)\n",
    "    # Searching for matching files only in the specified folder\n",
    "    elif glob.glob(os.path.join(input_folder, raw_data_file_keyword)):\n",
    "        raw_data_glob_pattern = glob.glob(os.path.join(input_folder, raw_data_file_keyword))\n",
    "        # Getting a list of all matching files\n",
    "        raw_data_files_list = glob.glob(raw_data_glob_pattern)\n",
    "    else:\n",
    "        raise ValueError(\"No files were found in {} that had the keyword {} in it\".format(input_folder, raw_data_file_keyword))\n"
   ]
  },
  {
   "cell_type": "markdown",
   "id": "60269935",
   "metadata": {},
   "source": [
    "- Checking to see if only one file is specified"
   ]
  },
  {
   "cell_type": "code",
   "execution_count": 11,
   "id": "233df8d3",
   "metadata": {},
   "outputs": [],
   "source": [
    "if len(raw_data_files_list) >= 2:\n",
    "    raise ValueError(\"More than one file was found with the path/pattern of {}. Please rerun the previous cell with the correct path\".format(raw_data_glob_pattern))\n",
    "else:\n",
    "    # Using the first(and only file) as the file path\n",
    "    raw_data_file_path = raw_data_files_list[0]"
   ]
  },
  {
   "cell_type": "code",
   "execution_count": 12,
   "id": "b17b0f37",
   "metadata": {},
   "outputs": [
    {
     "data": {
      "text/plain": [
       "'./data/Reward_Competition_Video_Scoring_Assignments.xlsx'"
      ]
     },
     "execution_count": 12,
     "metadata": {},
     "output_type": "execute_result"
    }
   ],
   "source": [
    "raw_data_file_path"
   ]
  },
  {
   "cell_type": "markdown",
   "id": "539ffb33",
   "metadata": {},
   "source": [
    "## Getting a list of all the sheets"
   ]
  },
  {
   "cell_type": "code",
   "execution_count": 13,
   "id": "bb3ff67b",
   "metadata": {},
   "outputs": [],
   "source": [
    "# Getting the sheet names for the excel file\n",
    "xls = pd.ExcelFile(raw_data_file_path)\n",
    "raw_data_sheet_names = xls.sheet_names"
   ]
  },
  {
   "cell_type": "code",
   "execution_count": 14,
   "id": "aeb563da",
   "metadata": {
    "scrolled": false
   },
   "outputs": [
    {
     "data": {
      "text/plain": [
       "['Master Master',\n",
       " 'Master List',\n",
       " 'Master Day 2',\n",
       " 'Master Day 1',\n",
       " 'Meghan',\n",
       " 'Jocelyn',\n",
       " 'Erika',\n",
       " 'Ezra',\n",
       " 'Naeliz']"
      ]
     },
     "execution_count": 14,
     "metadata": {},
     "output_type": "execute_result"
    }
   ],
   "source": [
    "raw_data_sheet_names"
   ]
  },
  {
   "cell_type": "markdown",
   "id": "7e40c9d6",
   "metadata": {},
   "source": [
    "- Asking the user what sheets they want to use"
   ]
  },
  {
   "cell_type": "code",
   "execution_count": 15,
   "id": "59c3aa13",
   "metadata": {},
   "outputs": [
    {
     "name": "stdout",
     "output_type": "stream",
     "text": [
      "Type out the name of the sheets that you want to be processed. \n",
      "Each name must be put in quotes and seperated by a comma(,). i.e. \"CAGE3\", \"CAGE4\"\n",
      "\n",
      "The available sheets are: ['Master Master', 'Master List', 'Master Day 2', 'Master Day 1', 'Meghan', 'Jocelyn', 'Erika', 'Ezra', 'Naeliz']\n",
      "\n",
      "Alternatively, you can use the index of the list of names above. \n",
      "Remember, that Python is zero indexed so the first item will be have the 0 index, second the 1 index, and so on. \n",
      "i.e. 1, 2\n",
      "\n",
      "NOTE: If left blank, all sheets will be used\n",
      "0\n"
     ]
    }
   ],
   "source": [
    "inputted_sheet_names_string = input(\"\"\"Type out the name of the sheets that you want to be processed. \n",
    "Each name must be put in quotes and seperated by a comma(,). i.e. \"CAGE3\", \"CAGE4\"\n",
    "\n",
    "The available sheets are: {}\n",
    "\n",
    "Alternatively, you can use the index of the list of names above. \n",
    "Remember, that Python is zero indexed so the first item will be have the 0 index, second the 1 index, and so on. \n",
    "i.e. 1, 2\n",
    "\n",
    "NOTE: If left blank, all sheets will be used\n",
    "\"\"\".format(raw_data_sheet_names))"
   ]
  },
  {
   "cell_type": "code",
   "execution_count": 16,
   "id": "06b1581e",
   "metadata": {},
   "outputs": [],
   "source": [
    "# Making a list out of the string of inputted sheet names\n",
    "if inputted_sheet_names_string:\n",
    "    inputted_sheet_names_string = \"[\" + inputted_sheet_names_string + \"]\"\n",
    "    # Turning the string into a list\n",
    "    inputted_sheet_names_list = ast.literal_eval(inputted_sheet_names_string)\n",
    "# Using all the sheet names if no sheet name is specified\n",
    "else:\n",
    "    inputted_sheet_names_list =  raw_data_sheet_names"
   ]
  },
  {
   "cell_type": "code",
   "execution_count": 17,
   "id": "0ee3a658",
   "metadata": {},
   "outputs": [
    {
     "data": {
      "text/plain": [
       "[0]"
      ]
     },
     "execution_count": 17,
     "metadata": {},
     "output_type": "execute_result"
    }
   ],
   "source": [
    "inputted_sheet_names_list"
   ]
  },
  {
   "cell_type": "markdown",
   "id": "3deda2bf",
   "metadata": {},
   "source": [
    "- Converting all the numbers into the sheet name that the index of the number corresponds to"
   ]
  },
  {
   "cell_type": "code",
   "execution_count": 18,
   "id": "4bac1b3f",
   "metadata": {},
   "outputs": [],
   "source": [
    "for index, sheet in enumerate(inputted_sheet_names_list):\n",
    "    # Checking if the sheet name was a number\n",
    "    if isinstance(sheet, int) and str(sheet).isdigit():\n",
    "        inputted_sheet_names_list[index] =  raw_data_sheet_names[sheet]"
   ]
  },
  {
   "cell_type": "code",
   "execution_count": 19,
   "id": "6bdf26ca",
   "metadata": {},
   "outputs": [
    {
     "data": {
      "text/plain": [
       "['Master Master']"
      ]
     },
     "execution_count": 19,
     "metadata": {},
     "output_type": "execute_result"
    }
   ],
   "source": [
    "inputted_sheet_names_list"
   ]
  },
  {
   "cell_type": "markdown",
   "id": "b35a8c85",
   "metadata": {},
   "source": [
    "- Checking to see if all the sheets are in the excel file"
   ]
  },
  {
   "cell_type": "code",
   "execution_count": 20,
   "id": "1caa55ee",
   "metadata": {},
   "outputs": [],
   "source": [
    "if not set(inputted_sheet_names_list).issubset(raw_data_sheet_names):\n",
    "    # Getting all the sheets that were not in the original spreadsheet\n",
    "    not_included_sheet_names = set(inputted_sheet_names_list) - set(raw_data_sheet_names)\n",
    "    raise ValueError(\"All the listed sheet names are not in {}\".format(not_included_sheet_names))"
   ]
  },
  {
   "cell_type": "markdown",
   "id": "a934ef8f",
   "metadata": {},
   "source": [
    "## Finding the row for the header"
   ]
  },
  {
   "cell_type": "markdown",
   "id": "bc1c2300",
   "metadata": {},
   "source": [
    "- Headers are the row in a spreadsheet that has all the column names. Sometimes spreadsheets don't use the first row as the row with the column names. So, the row for the header will be asked or assumed to be the first row"
   ]
  },
  {
   "cell_type": "code",
   "execution_count": 21,
   "id": "de68ae7a",
   "metadata": {},
   "outputs": [
    {
     "name": "stdout",
     "output_type": "stream",
     "text": [
      "\n",
      "Current Sheet Name: Master Master\n",
      "Columns Names: Index(['Date', 'Cage', 'Box', 'Match', 'Scorer', 'Trial 1 Time',\n",
      "       'Trial 1 Winner', 'Trial 2 Time ', 'Trial 2 Winner', 'Trial 3 Time',\n",
      "       'Trial 3 Winner', 'Trial 4 Time', 'Trial 4 Winner', 'Trial 5 Time',\n",
      "       'Trial 5 Winner', 'Trial 6 Time', 'Trial 6 Winner', 'Trial 7 Time',\n",
      "       'Trial 7 Winner', 'Trial 8 Time', 'Trial 8 Winner', 'Trial 9 Time',\n",
      "       'Trial 9 Winner', 'Trial 10 Time ', 'Trial 10 Winner', 'Trial 11 Time',\n",
      "       'Trial 11 Winner', 'Trial 12 Time ', 'Trial 12 Winner', 'Trial 13 Time',\n",
      "       'Trial 13 Winner', 'Trial 14 Time', 'Trial 14 Winner', 'Trial 15 Time',\n",
      "       'Trial 15 Winner', 'Trial 16 Time ', 'Trial 16 Winner', 'Trial 17 Time',\n",
      "       'Trial 17 Winner', 'Trial 18 Time', 'Trial 18 Winner', 'Trial 19 Time',\n",
      "       'Trial 19 Winner', 'Trial 20 Time', 'Trial 20 Winner', 'Mouse 1 Wins',\n",
      "       'Mouse 2 Wins', 'Ties '],\n",
      "      dtype='object')\n",
      "First few rows of this dataframe:\n",
      "        Date  Cage  Box      Match  Scorer Trial 1 Time Trial 1 Winner  \\\n",
      "0 2022-05-19     1  1.0  1.1 v 2.2     NaN    1:12-1:22            1.1   \n",
      "1 2022-05-19     1  2.0  2.3 v 1.4     NaN    1:12-1:22            1.4   \n",
      "2 2022-05-19     1  3.0  1.1 v 2.3     NaN    1:07-1:17            2.3   \n",
      "3 2022-05-19     1  4.0  2.2 v 1.4     NaN    1:06-1:16            1.4   \n",
      "4 2022-05-19     1  2.0  2.2 v 2.3     NaN    1:11-1:21            2.2   \n",
      "\n",
      "  Trial 2 Time  Trial 2 Winner Trial 3 Time  ... Trial 17 Winner  \\\n",
      "0     2:31-2:41            1.1    4:00-4:10  ...             1.1   \n",
      "1     2:30-2:40            1.4    3:59-4:09  ...             1.4   \n",
      "2     3:56-4:06            tie    5:14-5:24  ...             2.3   \n",
      "3     2:25-2:35            2.2    3:54-4:04  ...             2.2   \n",
      "4     2:30-2:40            2.3    4:00-4:10  ...             2.3   \n",
      "\n",
      "  Trial 18 Time Trial 18 Winner Trial 19 Time Trial 19 Winner Trial 20 Time  \\\n",
      "0   27:00-27:10             2.2   28:19-28:29             1.1   29:53-30:03   \n",
      "1   27:01-27:11             1.4   28:20-28:30             2.3   29:53-30:03   \n",
      "2   28:16-28:26             2.3   29:49-29:59             2.3           NaN   \n",
      "3   26:56-27:06             1.4   28:15-28:25             1.4   29:48-29:58   \n",
      "4   27:01-27:11             2.2   28:19-28:29             2.2   29:53-30:03   \n",
      "\n",
      "  Trial 20 Winner Mouse 1 Wins       Mouse 2 Wins Ties   \n",
      "0             1.1         11.0                  9   0.0  \n",
      "1             2.3         11.0                  9   0.0  \n",
      "2             NaN          NaN                NaN   NaN  \n",
      "3             1.4          NaN  checked whole row   NaN  \n",
      "4             2.2          NaN  checked whole row   NaN  \n",
      "\n",
      "[5 rows x 48 columns]\n",
      "Type the row number to be used as the header\n",
      "    (AKA the row with the column name that you want to use.)\n",
      "    If you want to keep the column names that were displayed, type 0.\n",
      "    If you want to use a different row, then type the corresponding number. \n",
      "    \n",
      "    The rows displayed in this cell are dataframes created from Pandas. \n",
      "    To use the row with the 0 index for column names, type 1. \n",
      "    For the row with the 1 index, it will be 2 and so on. i.e. 2\n",
      "    \n",
      "    If you are looking at the original spread sheet, remember that Python is zero indexed. \n",
      "    So the first row will be 0, second will be 1, and so on. \n",
      "    i.e. 1\n",
      "    \n",
      "    NOTE: If left blank, the original row that was used will be used.\n",
      "    0\n"
     ]
    }
   ],
   "source": [
    "sheet_name_to_everything = defaultdict(dict)\n",
    "for sheet in inputted_sheet_names_list:\n",
    "    print(\"\\nCurrent Sheet Name: {}\".format(sheet))    \n",
    "    per_sheet_dataframe = pd.read_excel(raw_data_file_path, sheet_name=sheet, header=0)\n",
    "    \n",
    "    # Showing the columns that are chosen with the header being the 0th row\n",
    "    print(\"Columns Names: {}\".format(per_sheet_dataframe.columns))\n",
    "    # Show the dataframe that would be created with the header being the 0th row\n",
    "    print(\"First few rows of this dataframe:\")\n",
    "    print(pd.read_excel(raw_data_file_path, sheet_name=sheet, header=0).head())\n",
    "    \n",
    "    # Allowing the user the choose the row number for the header\n",
    "    header_row = input(\"\"\"Type the row number to be used as the header\n",
    "    (AKA the row with the column name that you want to use.)\n",
    "    If you want to keep the column names that were displayed, type 0.\n",
    "    If you want to use a different row, then type the corresponding number. \n",
    "    \n",
    "    The rows displayed in this cell are dataframes created from Pandas. \n",
    "    To use the row with the 0 index for column names, type 1. \n",
    "    For the row with the 1 index, it will be 2 and so on. i.e. 2\n",
    "    \n",
    "    If you are looking at the original spread sheet, remember that Python is zero indexed. \n",
    "    So the first row will be 0, second will be 1, and so on. \n",
    "    i.e. 1\n",
    "    \n",
    "    NOTE: If left blank, the original row that was used will be used.\n",
    "    \"\"\").strip()\n",
    "    \n",
    "    if header_row == \"\":\n",
    "        header_row = 0\n",
    "    else:\n",
    "        header_row = int(header_row)\n",
    "    \n",
    "    # Checking if any of the column names are from empty cells\n",
    "    column_names = \"\".join([str(col) for col in pd.read_excel(raw_data_file_path, sheet_name=sheet, header=header_row).columns])\n",
    "    # If a column name came from an empty cell, it would have \"Unnamed\" in it\n",
    "    if \"Unnamed\" in column_names:\n",
    "        raise ValueError(\"\"\"Not all the cells in the chosen row are filled in.\n",
    "                         Please choose a row that has the name of the columns\n",
    "                         \n",
    "                         The values in this row are: {}\"\"\".format(column_names))\n",
    "    else:\n",
    "        sheet_name_to_everything[sheet][\"header_row\"] = header_row"
   ]
  },
  {
   "cell_type": "code",
   "execution_count": 22,
   "id": "ca5ea725",
   "metadata": {},
   "outputs": [
    {
     "data": {
      "text/plain": [
       "defaultdict(dict, {'Master Master': {'header_row': 0}})"
      ]
     },
     "execution_count": 22,
     "metadata": {},
     "output_type": "execute_result"
    }
   ],
   "source": [
    "sheet_name_to_everything"
   ]
  },
  {
   "cell_type": "markdown",
   "id": "04cc8630",
   "metadata": {},
   "source": [
    "## Reading in all the spreadsheets"
   ]
  },
  {
   "cell_type": "code",
   "execution_count": 23,
   "id": "f35a7cd1",
   "metadata": {},
   "outputs": [],
   "source": [
    "# Going through each sheet and creating a dataframe of it\n",
    "for key, value in sheet_name_to_everything.items():\n",
    "    sheet_name_to_everything[key][\"original_behavior_recording_dataframe\"] = pd.read_excel(raw_data_file_path, sheet_name=key, header=value[\"header_row\"])"
   ]
  },
  {
   "cell_type": "code",
   "execution_count": 24,
   "id": "99dc8c44",
   "metadata": {},
   "outputs": [
    {
     "data": {
      "text/html": [
       "<div>\n",
       "<style scoped>\n",
       "    .dataframe tbody tr th:only-of-type {\n",
       "        vertical-align: middle;\n",
       "    }\n",
       "\n",
       "    .dataframe tbody tr th {\n",
       "        vertical-align: top;\n",
       "    }\n",
       "\n",
       "    .dataframe thead th {\n",
       "        text-align: right;\n",
       "    }\n",
       "</style>\n",
       "<table border=\"1\" class=\"dataframe\">\n",
       "  <thead>\n",
       "    <tr style=\"text-align: right;\">\n",
       "      <th></th>\n",
       "      <th>Date</th>\n",
       "      <th>Cage</th>\n",
       "      <th>Box</th>\n",
       "      <th>Match</th>\n",
       "      <th>Scorer</th>\n",
       "      <th>Trial 1 Time</th>\n",
       "      <th>Trial 1 Winner</th>\n",
       "      <th>Trial 2 Time</th>\n",
       "      <th>Trial 2 Winner</th>\n",
       "      <th>Trial 3 Time</th>\n",
       "      <th>...</th>\n",
       "      <th>Trial 17 Winner</th>\n",
       "      <th>Trial 18 Time</th>\n",
       "      <th>Trial 18 Winner</th>\n",
       "      <th>Trial 19 Time</th>\n",
       "      <th>Trial 19 Winner</th>\n",
       "      <th>Trial 20 Time</th>\n",
       "      <th>Trial 20 Winner</th>\n",
       "      <th>Mouse 1 Wins</th>\n",
       "      <th>Mouse 2 Wins</th>\n",
       "      <th>Ties</th>\n",
       "    </tr>\n",
       "  </thead>\n",
       "  <tbody>\n",
       "    <tr>\n",
       "      <th>0</th>\n",
       "      <td>2022-05-19</td>\n",
       "      <td>1</td>\n",
       "      <td>1.0</td>\n",
       "      <td>1.1 v 2.2</td>\n",
       "      <td>NaN</td>\n",
       "      <td>1:12-1:22</td>\n",
       "      <td>1.1</td>\n",
       "      <td>2:31-2:41</td>\n",
       "      <td>1.1</td>\n",
       "      <td>4:00-4:10</td>\n",
       "      <td>...</td>\n",
       "      <td>1.1</td>\n",
       "      <td>27:00-27:10</td>\n",
       "      <td>2.2</td>\n",
       "      <td>28:19-28:29</td>\n",
       "      <td>1.1</td>\n",
       "      <td>29:53-30:03</td>\n",
       "      <td>1.1</td>\n",
       "      <td>11.0</td>\n",
       "      <td>9</td>\n",
       "      <td>0.0</td>\n",
       "    </tr>\n",
       "    <tr>\n",
       "      <th>1</th>\n",
       "      <td>2022-05-19</td>\n",
       "      <td>1</td>\n",
       "      <td>2.0</td>\n",
       "      <td>2.3 v 1.4</td>\n",
       "      <td>NaN</td>\n",
       "      <td>1:12-1:22</td>\n",
       "      <td>1.4</td>\n",
       "      <td>2:30-2:40</td>\n",
       "      <td>1.4</td>\n",
       "      <td>3:59-4:09</td>\n",
       "      <td>...</td>\n",
       "      <td>1.4</td>\n",
       "      <td>27:01-27:11</td>\n",
       "      <td>1.4</td>\n",
       "      <td>28:20-28:30</td>\n",
       "      <td>2.3</td>\n",
       "      <td>29:53-30:03</td>\n",
       "      <td>2.3</td>\n",
       "      <td>11.0</td>\n",
       "      <td>9</td>\n",
       "      <td>0.0</td>\n",
       "    </tr>\n",
       "    <tr>\n",
       "      <th>2</th>\n",
       "      <td>2022-05-19</td>\n",
       "      <td>1</td>\n",
       "      <td>3.0</td>\n",
       "      <td>1.1 v 2.3</td>\n",
       "      <td>NaN</td>\n",
       "      <td>1:07-1:17</td>\n",
       "      <td>2.3</td>\n",
       "      <td>3:56-4:06</td>\n",
       "      <td>tie</td>\n",
       "      <td>5:14-5:24</td>\n",
       "      <td>...</td>\n",
       "      <td>2.3</td>\n",
       "      <td>28:16-28:26</td>\n",
       "      <td>2.3</td>\n",
       "      <td>29:49-29:59</td>\n",
       "      <td>2.3</td>\n",
       "      <td>NaN</td>\n",
       "      <td>NaN</td>\n",
       "      <td>NaN</td>\n",
       "      <td>NaN</td>\n",
       "      <td>NaN</td>\n",
       "    </tr>\n",
       "    <tr>\n",
       "      <th>3</th>\n",
       "      <td>2022-05-19</td>\n",
       "      <td>1</td>\n",
       "      <td>4.0</td>\n",
       "      <td>2.2 v 1.4</td>\n",
       "      <td>NaN</td>\n",
       "      <td>1:06-1:16</td>\n",
       "      <td>1.4</td>\n",
       "      <td>2:25-2:35</td>\n",
       "      <td>2.2</td>\n",
       "      <td>3:54-4:04</td>\n",
       "      <td>...</td>\n",
       "      <td>2.2</td>\n",
       "      <td>26:56-27:06</td>\n",
       "      <td>1.4</td>\n",
       "      <td>28:15-28:25</td>\n",
       "      <td>1.4</td>\n",
       "      <td>29:48-29:58</td>\n",
       "      <td>1.4</td>\n",
       "      <td>NaN</td>\n",
       "      <td>checked whole row</td>\n",
       "      <td>NaN</td>\n",
       "    </tr>\n",
       "    <tr>\n",
       "      <th>4</th>\n",
       "      <td>2022-05-19</td>\n",
       "      <td>1</td>\n",
       "      <td>2.0</td>\n",
       "      <td>2.2 v 2.3</td>\n",
       "      <td>NaN</td>\n",
       "      <td>1:11-1:21</td>\n",
       "      <td>2.2</td>\n",
       "      <td>2:30-2:40</td>\n",
       "      <td>2.3</td>\n",
       "      <td>4:00-4:10</td>\n",
       "      <td>...</td>\n",
       "      <td>2.3</td>\n",
       "      <td>27:01-27:11</td>\n",
       "      <td>2.2</td>\n",
       "      <td>28:19-28:29</td>\n",
       "      <td>2.2</td>\n",
       "      <td>29:53-30:03</td>\n",
       "      <td>2.2</td>\n",
       "      <td>NaN</td>\n",
       "      <td>checked whole row</td>\n",
       "      <td>NaN</td>\n",
       "    </tr>\n",
       "  </tbody>\n",
       "</table>\n",
       "<p>5 rows × 48 columns</p>\n",
       "</div>"
      ],
      "text/plain": [
       "        Date  Cage  Box      Match  Scorer Trial 1 Time Trial 1 Winner  \\\n",
       "0 2022-05-19     1  1.0  1.1 v 2.2     NaN    1:12-1:22            1.1   \n",
       "1 2022-05-19     1  2.0  2.3 v 1.4     NaN    1:12-1:22            1.4   \n",
       "2 2022-05-19     1  3.0  1.1 v 2.3     NaN    1:07-1:17            2.3   \n",
       "3 2022-05-19     1  4.0  2.2 v 1.4     NaN    1:06-1:16            1.4   \n",
       "4 2022-05-19     1  2.0  2.2 v 2.3     NaN    1:11-1:21            2.2   \n",
       "\n",
       "  Trial 2 Time  Trial 2 Winner Trial 3 Time  ... Trial 17 Winner  \\\n",
       "0     2:31-2:41            1.1    4:00-4:10  ...             1.1   \n",
       "1     2:30-2:40            1.4    3:59-4:09  ...             1.4   \n",
       "2     3:56-4:06            tie    5:14-5:24  ...             2.3   \n",
       "3     2:25-2:35            2.2    3:54-4:04  ...             2.2   \n",
       "4     2:30-2:40            2.3    4:00-4:10  ...             2.3   \n",
       "\n",
       "  Trial 18 Time Trial 18 Winner Trial 19 Time Trial 19 Winner Trial 20 Time  \\\n",
       "0   27:00-27:10             2.2   28:19-28:29             1.1   29:53-30:03   \n",
       "1   27:01-27:11             1.4   28:20-28:30             2.3   29:53-30:03   \n",
       "2   28:16-28:26             2.3   29:49-29:59             2.3           NaN   \n",
       "3   26:56-27:06             1.4   28:15-28:25             1.4   29:48-29:58   \n",
       "4   27:01-27:11             2.2   28:19-28:29             2.2   29:53-30:03   \n",
       "\n",
       "  Trial 20 Winner Mouse 1 Wins       Mouse 2 Wins Ties   \n",
       "0             1.1         11.0                  9   0.0  \n",
       "1             2.3         11.0                  9   0.0  \n",
       "2             NaN          NaN                NaN   NaN  \n",
       "3             1.4          NaN  checked whole row   NaN  \n",
       "4             2.2          NaN  checked whole row   NaN  \n",
       "\n",
       "[5 rows x 48 columns]"
      ]
     },
     "execution_count": 24,
     "metadata": {},
     "output_type": "execute_result"
    }
   ],
   "source": [
    "sheet_name_to_everything[key][\"original_behavior_recording_dataframe\"].head()"
   ]
  },
  {
   "cell_type": "code",
   "execution_count": 25,
   "id": "ed0c66f9",
   "metadata": {},
   "outputs": [
    {
     "data": {
      "text/html": [
       "<div>\n",
       "<style scoped>\n",
       "    .dataframe tbody tr th:only-of-type {\n",
       "        vertical-align: middle;\n",
       "    }\n",
       "\n",
       "    .dataframe tbody tr th {\n",
       "        vertical-align: top;\n",
       "    }\n",
       "\n",
       "    .dataframe thead th {\n",
       "        text-align: right;\n",
       "    }\n",
       "</style>\n",
       "<table border=\"1\" class=\"dataframe\">\n",
       "  <thead>\n",
       "    <tr style=\"text-align: right;\">\n",
       "      <th></th>\n",
       "      <th>Date</th>\n",
       "      <th>Cage</th>\n",
       "      <th>Box</th>\n",
       "      <th>Match</th>\n",
       "      <th>Scorer</th>\n",
       "      <th>Trial 1 Time</th>\n",
       "      <th>Trial 1 Winner</th>\n",
       "      <th>Trial 2 Time</th>\n",
       "      <th>Trial 2 Winner</th>\n",
       "      <th>Trial 3 Time</th>\n",
       "      <th>...</th>\n",
       "      <th>Trial 17 Winner</th>\n",
       "      <th>Trial 18 Time</th>\n",
       "      <th>Trial 18 Winner</th>\n",
       "      <th>Trial 19 Time</th>\n",
       "      <th>Trial 19 Winner</th>\n",
       "      <th>Trial 20 Time</th>\n",
       "      <th>Trial 20 Winner</th>\n",
       "      <th>Mouse 1 Wins</th>\n",
       "      <th>Mouse 2 Wins</th>\n",
       "      <th>Ties</th>\n",
       "    </tr>\n",
       "  </thead>\n",
       "  <tbody>\n",
       "    <tr>\n",
       "      <th>43</th>\n",
       "      <td>2022-05-20</td>\n",
       "      <td>4</td>\n",
       "      <td>1.0</td>\n",
       "      <td>3.4 (2) v 4.3 (3)</td>\n",
       "      <td>NaN</td>\n",
       "      <td>1:13-1:23</td>\n",
       "      <td>4.3 (3)</td>\n",
       "      <td>2:31-2:41</td>\n",
       "      <td>4.3 (3)</td>\n",
       "      <td>4:00-4:10</td>\n",
       "      <td>...</td>\n",
       "      <td>4.3 (3)</td>\n",
       "      <td>27:01-27:11</td>\n",
       "      <td>4.3 (3)</td>\n",
       "      <td>28:20-28:30</td>\n",
       "      <td>4.3 (3)</td>\n",
       "      <td>29:54-30:04</td>\n",
       "      <td>3.4 (2)</td>\n",
       "      <td>6.0</td>\n",
       "      <td>10</td>\n",
       "      <td>4.0</td>\n",
       "    </tr>\n",
       "    <tr>\n",
       "      <th>44</th>\n",
       "      <td>2022-05-20</td>\n",
       "      <td>4</td>\n",
       "      <td>4.0</td>\n",
       "      <td>3.1 (1) v 4.3 (3)</td>\n",
       "      <td>NaN</td>\n",
       "      <td>2:56-3:06</td>\n",
       "      <td>4.3 (3)</td>\n",
       "      <td>4:15-4:25</td>\n",
       "      <td>4.3 (3)</td>\n",
       "      <td>5:44-5:54</td>\n",
       "      <td>...</td>\n",
       "      <td>3.1 (1)</td>\n",
       "      <td>28:46-28:56</td>\n",
       "      <td>3.1 (1)</td>\n",
       "      <td>30:05-30:15</td>\n",
       "      <td>3.1 (1)</td>\n",
       "      <td>NaN</td>\n",
       "      <td>NaN</td>\n",
       "      <td>13.0</td>\n",
       "      <td>5</td>\n",
       "      <td>1.0</td>\n",
       "    </tr>\n",
       "    <tr>\n",
       "      <th>45</th>\n",
       "      <td>2022-05-20</td>\n",
       "      <td>4</td>\n",
       "      <td>3.0</td>\n",
       "      <td>3.4 (2) v 4.4 (4)</td>\n",
       "      <td>NaN</td>\n",
       "      <td>2:57-3:07</td>\n",
       "      <td>4.4 (4)</td>\n",
       "      <td>4:15-4:25</td>\n",
       "      <td>4.4 (4)</td>\n",
       "      <td>5:44-5:54</td>\n",
       "      <td>...</td>\n",
       "      <td>3.4 (2)</td>\n",
       "      <td>28:46-28:56</td>\n",
       "      <td>4.4 (4)</td>\n",
       "      <td>30:05-30:15</td>\n",
       "      <td>3.4 (2)</td>\n",
       "      <td>NaN</td>\n",
       "      <td>NaN</td>\n",
       "      <td>NaN</td>\n",
       "      <td>checked whole row</td>\n",
       "      <td>NaN</td>\n",
       "    </tr>\n",
       "    <tr>\n",
       "      <th>46</th>\n",
       "      <td>2022-05-20</td>\n",
       "      <td>4</td>\n",
       "      <td>2.0</td>\n",
       "      <td>3.1 (1) v 3.4 (2)</td>\n",
       "      <td>NaN</td>\n",
       "      <td>1:11-1:21</td>\n",
       "      <td>3.1 (1)</td>\n",
       "      <td>2:30-2:40</td>\n",
       "      <td>3.4 (2)</td>\n",
       "      <td>3:58-4:08</td>\n",
       "      <td>...</td>\n",
       "      <td>3.1 (1)</td>\n",
       "      <td>27:00-27:10</td>\n",
       "      <td>3.1 (1)</td>\n",
       "      <td>28:19-28:29</td>\n",
       "      <td>3.1 (1)</td>\n",
       "      <td>29:52-30:02</td>\n",
       "      <td>3.1 (1)</td>\n",
       "      <td>NaN</td>\n",
       "      <td>checked whole row</td>\n",
       "      <td>NaN</td>\n",
       "    </tr>\n",
       "    <tr>\n",
       "      <th>47</th>\n",
       "      <td>2022-05-20</td>\n",
       "      <td>4</td>\n",
       "      <td>1.0</td>\n",
       "      <td>4.3 (3) v 4.4 (4)</td>\n",
       "      <td>NaN</td>\n",
       "      <td>1:12-1:22</td>\n",
       "      <td>4.3 (3)</td>\n",
       "      <td>2:30-2:40</td>\n",
       "      <td>4.3 (3)</td>\n",
       "      <td>3:58-4:08</td>\n",
       "      <td>...</td>\n",
       "      <td>4.4 (4)</td>\n",
       "      <td>27:00-27:10</td>\n",
       "      <td>Tie</td>\n",
       "      <td>28:19-28:29</td>\n",
       "      <td>4.4 (4)</td>\n",
       "      <td>29:53-30:03</td>\n",
       "      <td>4.3 (3)</td>\n",
       "      <td>7.0</td>\n",
       "      <td>12</td>\n",
       "      <td>1.0</td>\n",
       "    </tr>\n",
       "  </tbody>\n",
       "</table>\n",
       "<p>5 rows × 48 columns</p>\n",
       "</div>"
      ],
      "text/plain": [
       "         Date  Cage  Box              Match  Scorer Trial 1 Time  \\\n",
       "43 2022-05-20     4  1.0  3.4 (2) v 4.3 (3)     NaN    1:13-1:23   \n",
       "44 2022-05-20     4  4.0  3.1 (1) v 4.3 (3)     NaN    2:56-3:06   \n",
       "45 2022-05-20     4  3.0  3.4 (2) v 4.4 (4)     NaN    2:57-3:07   \n",
       "46 2022-05-20     4  2.0  3.1 (1) v 3.4 (2)     NaN    1:11-1:21   \n",
       "47 2022-05-20     4  1.0  4.3 (3) v 4.4 (4)     NaN    1:12-1:22   \n",
       "\n",
       "   Trial 1 Winner Trial 2 Time  Trial 2 Winner Trial 3 Time  ...  \\\n",
       "43        4.3 (3)     2:31-2:41        4.3 (3)    4:00-4:10  ...   \n",
       "44        4.3 (3)     4:15-4:25        4.3 (3)    5:44-5:54  ...   \n",
       "45        4.4 (4)     4:15-4:25        4.4 (4)    5:44-5:54  ...   \n",
       "46        3.1 (1)     2:30-2:40        3.4 (2)    3:58-4:08  ...   \n",
       "47        4.3 (3)     2:30-2:40        4.3 (3)    3:58-4:08  ...   \n",
       "\n",
       "   Trial 17 Winner Trial 18 Time Trial 18 Winner Trial 19 Time  \\\n",
       "43         4.3 (3)   27:01-27:11         4.3 (3)   28:20-28:30   \n",
       "44         3.1 (1)   28:46-28:56         3.1 (1)   30:05-30:15   \n",
       "45         3.4 (2)   28:46-28:56         4.4 (4)   30:05-30:15   \n",
       "46         3.1 (1)   27:00-27:10         3.1 (1)   28:19-28:29   \n",
       "47         4.4 (4)   27:00-27:10             Tie   28:19-28:29   \n",
       "\n",
       "   Trial 19 Winner Trial 20 Time Trial 20 Winner Mouse 1 Wins  \\\n",
       "43         4.3 (3)   29:54-30:04         3.4 (2)          6.0   \n",
       "44         3.1 (1)           NaN             NaN         13.0   \n",
       "45         3.4 (2)           NaN             NaN          NaN   \n",
       "46         3.1 (1)   29:52-30:02         3.1 (1)          NaN   \n",
       "47         4.4 (4)   29:53-30:03         4.3 (3)          7.0   \n",
       "\n",
       "         Mouse 2 Wins Ties   \n",
       "43                 10   4.0  \n",
       "44                  5   1.0  \n",
       "45  checked whole row   NaN  \n",
       "46  checked whole row   NaN  \n",
       "47                 12   1.0  \n",
       "\n",
       "[5 rows x 48 columns]"
      ]
     },
     "execution_count": 25,
     "metadata": {},
     "output_type": "execute_result"
    }
   ],
   "source": [
    "sheet_name_to_everything[key][\"original_behavior_recording_dataframe\"].tail()"
   ]
  },
  {
   "cell_type": "markdown",
   "id": "15834e87",
   "metadata": {},
   "source": [
    "## Standarizing the Columns"
   ]
  },
  {
   "cell_type": "markdown",
   "id": "af7890d3",
   "metadata": {},
   "source": [
    "- Making all the column names lower case and removing any extra spaces in the beginning and at the end"
   ]
  },
  {
   "cell_type": "code",
   "execution_count": 26,
   "id": "13d5c711",
   "metadata": {},
   "outputs": [],
   "source": [
    "for key, value in sheet_name_to_everything.items():\n",
    "    # Creating a dictionary that maps the original column name to the standarized one\n",
    "    column_name_to_standarized = defaultdict(dict)\n",
    "    for col in sheet_name_to_everything[key][\"original_behavior_recording_dataframe\"]:\n",
    "        # Making the column name lower case and removing the spaces\n",
    "        column_name_to_standarized[col] = str(col).lower().strip()\n",
    "    sheet_name_to_everything[key][\"column_name_to_standarized\"] = column_name_to_standarized"
   ]
  },
  {
   "cell_type": "code",
   "execution_count": 27,
   "id": "47e30c5b",
   "metadata": {},
   "outputs": [
    {
     "data": {
      "text/plain": [
       "defaultdict(dict,\n",
       "            {'Date': 'date',\n",
       "             'Cage': 'cage',\n",
       "             'Box': 'box',\n",
       "             'Match': 'match',\n",
       "             'Scorer': 'scorer',\n",
       "             'Trial 1 Time': 'trial 1 time',\n",
       "             'Trial 1 Winner': 'trial 1 winner',\n",
       "             'Trial 2 Time ': 'trial 2 time',\n",
       "             'Trial 2 Winner': 'trial 2 winner',\n",
       "             'Trial 3 Time': 'trial 3 time',\n",
       "             'Trial 3 Winner': 'trial 3 winner',\n",
       "             'Trial 4 Time': 'trial 4 time',\n",
       "             'Trial 4 Winner': 'trial 4 winner',\n",
       "             'Trial 5 Time': 'trial 5 time',\n",
       "             'Trial 5 Winner': 'trial 5 winner',\n",
       "             'Trial 6 Time': 'trial 6 time',\n",
       "             'Trial 6 Winner': 'trial 6 winner',\n",
       "             'Trial 7 Time': 'trial 7 time',\n",
       "             'Trial 7 Winner': 'trial 7 winner',\n",
       "             'Trial 8 Time': 'trial 8 time',\n",
       "             'Trial 8 Winner': 'trial 8 winner',\n",
       "             'Trial 9 Time': 'trial 9 time',\n",
       "             'Trial 9 Winner': 'trial 9 winner',\n",
       "             'Trial 10 Time ': 'trial 10 time',\n",
       "             'Trial 10 Winner': 'trial 10 winner',\n",
       "             'Trial 11 Time': 'trial 11 time',\n",
       "             'Trial 11 Winner': 'trial 11 winner',\n",
       "             'Trial 12 Time ': 'trial 12 time',\n",
       "             'Trial 12 Winner': 'trial 12 winner',\n",
       "             'Trial 13 Time': 'trial 13 time',\n",
       "             'Trial 13 Winner': 'trial 13 winner',\n",
       "             'Trial 14 Time': 'trial 14 time',\n",
       "             'Trial 14 Winner': 'trial 14 winner',\n",
       "             'Trial 15 Time': 'trial 15 time',\n",
       "             'Trial 15 Winner': 'trial 15 winner',\n",
       "             'Trial 16 Time ': 'trial 16 time',\n",
       "             'Trial 16 Winner': 'trial 16 winner',\n",
       "             'Trial 17 Time': 'trial 17 time',\n",
       "             'Trial 17 Winner': 'trial 17 winner',\n",
       "             'Trial 18 Time': 'trial 18 time',\n",
       "             'Trial 18 Winner': 'trial 18 winner',\n",
       "             'Trial 19 Time': 'trial 19 time',\n",
       "             'Trial 19 Winner': 'trial 19 winner',\n",
       "             'Trial 20 Time': 'trial 20 time',\n",
       "             'Trial 20 Winner': 'trial 20 winner',\n",
       "             'Mouse 1 Wins': 'mouse 1 wins',\n",
       "             'Mouse 2 Wins': 'mouse 2 wins',\n",
       "             'Ties ': 'ties'})"
      ]
     },
     "execution_count": 27,
     "metadata": {},
     "output_type": "execute_result"
    }
   ],
   "source": [
    "sheet_name_to_everything[key][\"column_name_to_standarized\"]"
   ]
  },
  {
   "cell_type": "code",
   "execution_count": 28,
   "id": "8fafcc6f",
   "metadata": {},
   "outputs": [],
   "source": [
    "# Renaming all the columns to the lower case and space removed version\n",
    "for key, value in sheet_name_to_everything.items():\n",
    "    sheet_name_to_everything[key][\"processed_behavior_recording_dataframe\"] = sheet_name_to_everything[key][\"original_behavior_recording_dataframe\"].rename(columns=sheet_name_to_everything[key][\"column_name_to_standarized\"])"
   ]
  },
  {
   "cell_type": "code",
   "execution_count": 29,
   "id": "49758e21",
   "metadata": {},
   "outputs": [
    {
     "data": {
      "text/html": [
       "<div>\n",
       "<style scoped>\n",
       "    .dataframe tbody tr th:only-of-type {\n",
       "        vertical-align: middle;\n",
       "    }\n",
       "\n",
       "    .dataframe tbody tr th {\n",
       "        vertical-align: top;\n",
       "    }\n",
       "\n",
       "    .dataframe thead th {\n",
       "        text-align: right;\n",
       "    }\n",
       "</style>\n",
       "<table border=\"1\" class=\"dataframe\">\n",
       "  <thead>\n",
       "    <tr style=\"text-align: right;\">\n",
       "      <th></th>\n",
       "      <th>date</th>\n",
       "      <th>cage</th>\n",
       "      <th>box</th>\n",
       "      <th>match</th>\n",
       "      <th>scorer</th>\n",
       "      <th>trial 1 time</th>\n",
       "      <th>trial 1 winner</th>\n",
       "      <th>trial 2 time</th>\n",
       "      <th>trial 2 winner</th>\n",
       "      <th>trial 3 time</th>\n",
       "      <th>...</th>\n",
       "      <th>trial 17 winner</th>\n",
       "      <th>trial 18 time</th>\n",
       "      <th>trial 18 winner</th>\n",
       "      <th>trial 19 time</th>\n",
       "      <th>trial 19 winner</th>\n",
       "      <th>trial 20 time</th>\n",
       "      <th>trial 20 winner</th>\n",
       "      <th>mouse 1 wins</th>\n",
       "      <th>mouse 2 wins</th>\n",
       "      <th>ties</th>\n",
       "    </tr>\n",
       "  </thead>\n",
       "  <tbody>\n",
       "    <tr>\n",
       "      <th>0</th>\n",
       "      <td>2022-05-19</td>\n",
       "      <td>1</td>\n",
       "      <td>1.0</td>\n",
       "      <td>1.1 v 2.2</td>\n",
       "      <td>NaN</td>\n",
       "      <td>1:12-1:22</td>\n",
       "      <td>1.1</td>\n",
       "      <td>2:31-2:41</td>\n",
       "      <td>1.1</td>\n",
       "      <td>4:00-4:10</td>\n",
       "      <td>...</td>\n",
       "      <td>1.1</td>\n",
       "      <td>27:00-27:10</td>\n",
       "      <td>2.2</td>\n",
       "      <td>28:19-28:29</td>\n",
       "      <td>1.1</td>\n",
       "      <td>29:53-30:03</td>\n",
       "      <td>1.1</td>\n",
       "      <td>11.0</td>\n",
       "      <td>9</td>\n",
       "      <td>0.0</td>\n",
       "    </tr>\n",
       "    <tr>\n",
       "      <th>1</th>\n",
       "      <td>2022-05-19</td>\n",
       "      <td>1</td>\n",
       "      <td>2.0</td>\n",
       "      <td>2.3 v 1.4</td>\n",
       "      <td>NaN</td>\n",
       "      <td>1:12-1:22</td>\n",
       "      <td>1.4</td>\n",
       "      <td>2:30-2:40</td>\n",
       "      <td>1.4</td>\n",
       "      <td>3:59-4:09</td>\n",
       "      <td>...</td>\n",
       "      <td>1.4</td>\n",
       "      <td>27:01-27:11</td>\n",
       "      <td>1.4</td>\n",
       "      <td>28:20-28:30</td>\n",
       "      <td>2.3</td>\n",
       "      <td>29:53-30:03</td>\n",
       "      <td>2.3</td>\n",
       "      <td>11.0</td>\n",
       "      <td>9</td>\n",
       "      <td>0.0</td>\n",
       "    </tr>\n",
       "    <tr>\n",
       "      <th>2</th>\n",
       "      <td>2022-05-19</td>\n",
       "      <td>1</td>\n",
       "      <td>3.0</td>\n",
       "      <td>1.1 v 2.3</td>\n",
       "      <td>NaN</td>\n",
       "      <td>1:07-1:17</td>\n",
       "      <td>2.3</td>\n",
       "      <td>3:56-4:06</td>\n",
       "      <td>tie</td>\n",
       "      <td>5:14-5:24</td>\n",
       "      <td>...</td>\n",
       "      <td>2.3</td>\n",
       "      <td>28:16-28:26</td>\n",
       "      <td>2.3</td>\n",
       "      <td>29:49-29:59</td>\n",
       "      <td>2.3</td>\n",
       "      <td>NaN</td>\n",
       "      <td>NaN</td>\n",
       "      <td>NaN</td>\n",
       "      <td>NaN</td>\n",
       "      <td>NaN</td>\n",
       "    </tr>\n",
       "    <tr>\n",
       "      <th>3</th>\n",
       "      <td>2022-05-19</td>\n",
       "      <td>1</td>\n",
       "      <td>4.0</td>\n",
       "      <td>2.2 v 1.4</td>\n",
       "      <td>NaN</td>\n",
       "      <td>1:06-1:16</td>\n",
       "      <td>1.4</td>\n",
       "      <td>2:25-2:35</td>\n",
       "      <td>2.2</td>\n",
       "      <td>3:54-4:04</td>\n",
       "      <td>...</td>\n",
       "      <td>2.2</td>\n",
       "      <td>26:56-27:06</td>\n",
       "      <td>1.4</td>\n",
       "      <td>28:15-28:25</td>\n",
       "      <td>1.4</td>\n",
       "      <td>29:48-29:58</td>\n",
       "      <td>1.4</td>\n",
       "      <td>NaN</td>\n",
       "      <td>checked whole row</td>\n",
       "      <td>NaN</td>\n",
       "    </tr>\n",
       "    <tr>\n",
       "      <th>4</th>\n",
       "      <td>2022-05-19</td>\n",
       "      <td>1</td>\n",
       "      <td>2.0</td>\n",
       "      <td>2.2 v 2.3</td>\n",
       "      <td>NaN</td>\n",
       "      <td>1:11-1:21</td>\n",
       "      <td>2.2</td>\n",
       "      <td>2:30-2:40</td>\n",
       "      <td>2.3</td>\n",
       "      <td>4:00-4:10</td>\n",
       "      <td>...</td>\n",
       "      <td>2.3</td>\n",
       "      <td>27:01-27:11</td>\n",
       "      <td>2.2</td>\n",
       "      <td>28:19-28:29</td>\n",
       "      <td>2.2</td>\n",
       "      <td>29:53-30:03</td>\n",
       "      <td>2.2</td>\n",
       "      <td>NaN</td>\n",
       "      <td>checked whole row</td>\n",
       "      <td>NaN</td>\n",
       "    </tr>\n",
       "  </tbody>\n",
       "</table>\n",
       "<p>5 rows × 48 columns</p>\n",
       "</div>"
      ],
      "text/plain": [
       "        date  cage  box      match  scorer trial 1 time trial 1 winner  \\\n",
       "0 2022-05-19     1  1.0  1.1 v 2.2     NaN    1:12-1:22            1.1   \n",
       "1 2022-05-19     1  2.0  2.3 v 1.4     NaN    1:12-1:22            1.4   \n",
       "2 2022-05-19     1  3.0  1.1 v 2.3     NaN    1:07-1:17            2.3   \n",
       "3 2022-05-19     1  4.0  2.2 v 1.4     NaN    1:06-1:16            1.4   \n",
       "4 2022-05-19     1  2.0  2.2 v 2.3     NaN    1:11-1:21            2.2   \n",
       "\n",
       "  trial 2 time trial 2 winner trial 3 time  ... trial 17 winner trial 18 time  \\\n",
       "0    2:31-2:41            1.1    4:00-4:10  ...             1.1   27:00-27:10   \n",
       "1    2:30-2:40            1.4    3:59-4:09  ...             1.4   27:01-27:11   \n",
       "2    3:56-4:06            tie    5:14-5:24  ...             2.3   28:16-28:26   \n",
       "3    2:25-2:35            2.2    3:54-4:04  ...             2.2   26:56-27:06   \n",
       "4    2:30-2:40            2.3    4:00-4:10  ...             2.3   27:01-27:11   \n",
       "\n",
       "  trial 18 winner trial 19 time trial 19 winner trial 20 time trial 20 winner  \\\n",
       "0             2.2   28:19-28:29             1.1   29:53-30:03             1.1   \n",
       "1             1.4   28:20-28:30             2.3   29:53-30:03             2.3   \n",
       "2             2.3   29:49-29:59             2.3           NaN             NaN   \n",
       "3             1.4   28:15-28:25             1.4   29:48-29:58             1.4   \n",
       "4             2.2   28:19-28:29             2.2   29:53-30:03             2.2   \n",
       "\n",
       "  mouse 1 wins       mouse 2 wins ties  \n",
       "0         11.0                  9  0.0  \n",
       "1         11.0                  9  0.0  \n",
       "2          NaN                NaN  NaN  \n",
       "3          NaN  checked whole row  NaN  \n",
       "4          NaN  checked whole row  NaN  \n",
       "\n",
       "[5 rows x 48 columns]"
      ]
     },
     "execution_count": 29,
     "metadata": {},
     "output_type": "execute_result"
    }
   ],
   "source": [
    "sheet_name_to_everything[key][\"processed_behavior_recording_dataframe\"].head()"
   ]
  },
  {
   "cell_type": "markdown",
   "id": "852d401f",
   "metadata": {},
   "source": [
    "## Removing Unnecessary Columns"
   ]
  },
  {
   "cell_type": "markdown",
   "id": "db6eab4f",
   "metadata": {},
   "source": [
    "# TODO: Pick which columns to drop or keep"
   ]
  },
  {
   "cell_type": "code",
   "execution_count": 30,
   "id": "c92f7cf3",
   "metadata": {},
   "outputs": [],
   "source": [
    "reward_competition_df = sheet_name_to_everything[key][\"processed_behavior_recording_dataframe\"]"
   ]
  },
  {
   "cell_type": "code",
   "execution_count": 31,
   "id": "16cf1433",
   "metadata": {},
   "outputs": [
    {
     "data": {
      "text/plain": [
       "Index(['date', 'cage', 'box', 'match', 'scorer', 'trial 1 time',\n",
       "       'trial 1 winner', 'trial 2 time', 'trial 2 winner', 'trial 3 time',\n",
       "       'trial 3 winner', 'trial 4 time', 'trial 4 winner', 'trial 5 time',\n",
       "       'trial 5 winner', 'trial 6 time', 'trial 6 winner', 'trial 7 time',\n",
       "       'trial 7 winner', 'trial 8 time', 'trial 8 winner', 'trial 9 time',\n",
       "       'trial 9 winner', 'trial 10 time', 'trial 10 winner', 'trial 11 time',\n",
       "       'trial 11 winner', 'trial 12 time', 'trial 12 winner', 'trial 13 time',\n",
       "       'trial 13 winner', 'trial 14 time', 'trial 14 winner', 'trial 15 time',\n",
       "       'trial 15 winner', 'trial 16 time', 'trial 16 winner', 'trial 17 time',\n",
       "       'trial 17 winner', 'trial 18 time', 'trial 18 winner', 'trial 19 time',\n",
       "       'trial 19 winner', 'trial 20 time', 'trial 20 winner', 'mouse 1 wins',\n",
       "       'mouse 2 wins', 'ties'],\n",
       "      dtype='object')"
      ]
     },
     "execution_count": 31,
     "metadata": {},
     "output_type": "execute_result"
    }
   ],
   "source": [
    "reward_competition_df.columns"
   ]
  },
  {
   "cell_type": "code",
   "execution_count": 32,
   "id": "effed4ce",
   "metadata": {},
   "outputs": [],
   "source": [
    "reward_competition_df = reward_competition_df.drop([\"mouse 1 wins\", \"mouse 2 wins\", \"ties\", \" \"], axis=1, errors=\"ignore\")"
   ]
  },
  {
   "cell_type": "code",
   "execution_count": 33,
   "id": "bf15b42c",
   "metadata": {},
   "outputs": [],
   "source": [
    "columns_to_keep = [col for col in reward_competition_df.columns if \"time\" not in col.lower().strip()]"
   ]
  },
  {
   "cell_type": "code",
   "execution_count": 34,
   "id": "2a64a402",
   "metadata": {},
   "outputs": [
    {
     "data": {
      "text/plain": [
       "['date',\n",
       " 'cage',\n",
       " 'box',\n",
       " 'match',\n",
       " 'scorer',\n",
       " 'trial 1 winner',\n",
       " 'trial 2 winner',\n",
       " 'trial 3 winner',\n",
       " 'trial 4 winner',\n",
       " 'trial 5 winner',\n",
       " 'trial 6 winner',\n",
       " 'trial 7 winner',\n",
       " 'trial 8 winner',\n",
       " 'trial 9 winner',\n",
       " 'trial 10 winner',\n",
       " 'trial 11 winner',\n",
       " 'trial 12 winner',\n",
       " 'trial 13 winner',\n",
       " 'trial 14 winner',\n",
       " 'trial 15 winner',\n",
       " 'trial 16 winner',\n",
       " 'trial 17 winner',\n",
       " 'trial 18 winner',\n",
       " 'trial 19 winner',\n",
       " 'trial 20 winner']"
      ]
     },
     "execution_count": 34,
     "metadata": {},
     "output_type": "execute_result"
    }
   ],
   "source": [
    "columns_to_keep"
   ]
  },
  {
   "cell_type": "code",
   "execution_count": 35,
   "id": "bdc6c5fd",
   "metadata": {},
   "outputs": [],
   "source": [
    "reward_competition_df = reward_competition_df[columns_to_keep].copy()"
   ]
  },
  {
   "cell_type": "code",
   "execution_count": 36,
   "id": "b0dc057e",
   "metadata": {},
   "outputs": [
    {
     "data": {
      "text/html": [
       "<div>\n",
       "<style scoped>\n",
       "    .dataframe tbody tr th:only-of-type {\n",
       "        vertical-align: middle;\n",
       "    }\n",
       "\n",
       "    .dataframe tbody tr th {\n",
       "        vertical-align: top;\n",
       "    }\n",
       "\n",
       "    .dataframe thead th {\n",
       "        text-align: right;\n",
       "    }\n",
       "</style>\n",
       "<table border=\"1\" class=\"dataframe\">\n",
       "  <thead>\n",
       "    <tr style=\"text-align: right;\">\n",
       "      <th></th>\n",
       "      <th>date</th>\n",
       "      <th>cage</th>\n",
       "      <th>box</th>\n",
       "      <th>match</th>\n",
       "      <th>scorer</th>\n",
       "      <th>trial 1 winner</th>\n",
       "      <th>trial 2 winner</th>\n",
       "      <th>trial 3 winner</th>\n",
       "      <th>trial 4 winner</th>\n",
       "      <th>trial 5 winner</th>\n",
       "      <th>...</th>\n",
       "      <th>trial 11 winner</th>\n",
       "      <th>trial 12 winner</th>\n",
       "      <th>trial 13 winner</th>\n",
       "      <th>trial 14 winner</th>\n",
       "      <th>trial 15 winner</th>\n",
       "      <th>trial 16 winner</th>\n",
       "      <th>trial 17 winner</th>\n",
       "      <th>trial 18 winner</th>\n",
       "      <th>trial 19 winner</th>\n",
       "      <th>trial 20 winner</th>\n",
       "    </tr>\n",
       "  </thead>\n",
       "  <tbody>\n",
       "    <tr>\n",
       "      <th>0</th>\n",
       "      <td>2022-05-19</td>\n",
       "      <td>1</td>\n",
       "      <td>1.0</td>\n",
       "      <td>1.1 v 2.2</td>\n",
       "      <td>NaN</td>\n",
       "      <td>1.1</td>\n",
       "      <td>1.1</td>\n",
       "      <td>1.1</td>\n",
       "      <td>1.1</td>\n",
       "      <td>2.2</td>\n",
       "      <td>...</td>\n",
       "      <td>1.1</td>\n",
       "      <td>2.2</td>\n",
       "      <td>2.2</td>\n",
       "      <td>2.2</td>\n",
       "      <td>2.2</td>\n",
       "      <td>2.2</td>\n",
       "      <td>1.1</td>\n",
       "      <td>2.2</td>\n",
       "      <td>1.1</td>\n",
       "      <td>1.1</td>\n",
       "    </tr>\n",
       "    <tr>\n",
       "      <th>1</th>\n",
       "      <td>2022-05-19</td>\n",
       "      <td>1</td>\n",
       "      <td>2.0</td>\n",
       "      <td>2.3 v 1.4</td>\n",
       "      <td>NaN</td>\n",
       "      <td>1.4</td>\n",
       "      <td>1.4</td>\n",
       "      <td>2.3</td>\n",
       "      <td>2.3</td>\n",
       "      <td>1.4</td>\n",
       "      <td>...</td>\n",
       "      <td>2.3</td>\n",
       "      <td>2.3</td>\n",
       "      <td>2.3</td>\n",
       "      <td>2.3</td>\n",
       "      <td>1.4</td>\n",
       "      <td>1.4</td>\n",
       "      <td>1.4</td>\n",
       "      <td>1.4</td>\n",
       "      <td>2.3</td>\n",
       "      <td>2.3</td>\n",
       "    </tr>\n",
       "    <tr>\n",
       "      <th>2</th>\n",
       "      <td>2022-05-19</td>\n",
       "      <td>1</td>\n",
       "      <td>3.0</td>\n",
       "      <td>1.1 v 2.3</td>\n",
       "      <td>NaN</td>\n",
       "      <td>2.3</td>\n",
       "      <td>tie</td>\n",
       "      <td>2.3</td>\n",
       "      <td>1.1</td>\n",
       "      <td>1.1</td>\n",
       "      <td>...</td>\n",
       "      <td>2.3</td>\n",
       "      <td>2.3</td>\n",
       "      <td>1.1</td>\n",
       "      <td>2.3</td>\n",
       "      <td>2.3</td>\n",
       "      <td>2.3</td>\n",
       "      <td>2.3</td>\n",
       "      <td>2.3</td>\n",
       "      <td>2.3</td>\n",
       "      <td>NaN</td>\n",
       "    </tr>\n",
       "    <tr>\n",
       "      <th>3</th>\n",
       "      <td>2022-05-19</td>\n",
       "      <td>1</td>\n",
       "      <td>4.0</td>\n",
       "      <td>2.2 v 1.4</td>\n",
       "      <td>NaN</td>\n",
       "      <td>1.4</td>\n",
       "      <td>2.2</td>\n",
       "      <td>2.2</td>\n",
       "      <td>2.2</td>\n",
       "      <td>1.4</td>\n",
       "      <td>...</td>\n",
       "      <td>2.2</td>\n",
       "      <td>1.4</td>\n",
       "      <td>2.2</td>\n",
       "      <td>2.2</td>\n",
       "      <td>1.4</td>\n",
       "      <td>2.2</td>\n",
       "      <td>2.2</td>\n",
       "      <td>1.4</td>\n",
       "      <td>1.4</td>\n",
       "      <td>1.4</td>\n",
       "    </tr>\n",
       "    <tr>\n",
       "      <th>4</th>\n",
       "      <td>2022-05-19</td>\n",
       "      <td>1</td>\n",
       "      <td>2.0</td>\n",
       "      <td>2.2 v 2.3</td>\n",
       "      <td>NaN</td>\n",
       "      <td>2.2</td>\n",
       "      <td>2.3</td>\n",
       "      <td>2.3</td>\n",
       "      <td>2.3</td>\n",
       "      <td>2.2</td>\n",
       "      <td>...</td>\n",
       "      <td>2.3</td>\n",
       "      <td>tie</td>\n",
       "      <td>2.2</td>\n",
       "      <td>2.3</td>\n",
       "      <td>2.2</td>\n",
       "      <td>2.2</td>\n",
       "      <td>2.3</td>\n",
       "      <td>2.2</td>\n",
       "      <td>2.2</td>\n",
       "      <td>2.2</td>\n",
       "    </tr>\n",
       "  </tbody>\n",
       "</table>\n",
       "<p>5 rows × 25 columns</p>\n",
       "</div>"
      ],
      "text/plain": [
       "        date  cage  box      match  scorer trial 1 winner trial 2 winner  \\\n",
       "0 2022-05-19     1  1.0  1.1 v 2.2     NaN            1.1            1.1   \n",
       "1 2022-05-19     1  2.0  2.3 v 1.4     NaN            1.4            1.4   \n",
       "2 2022-05-19     1  3.0  1.1 v 2.3     NaN            2.3            tie   \n",
       "3 2022-05-19     1  4.0  2.2 v 1.4     NaN            1.4            2.2   \n",
       "4 2022-05-19     1  2.0  2.2 v 2.3     NaN            2.2            2.3   \n",
       "\n",
       "  trial 3 winner trial 4 winner trial 5 winner  ... trial 11 winner  \\\n",
       "0            1.1            1.1            2.2  ...             1.1   \n",
       "1            2.3            2.3            1.4  ...             2.3   \n",
       "2            2.3            1.1            1.1  ...             2.3   \n",
       "3            2.2            2.2            1.4  ...             2.2   \n",
       "4            2.3            2.3            2.2  ...             2.3   \n",
       "\n",
       "  trial 12 winner trial 13 winner trial 14 winner trial 15 winner  \\\n",
       "0             2.2             2.2             2.2             2.2   \n",
       "1             2.3             2.3             2.3             1.4   \n",
       "2             2.3             1.1             2.3             2.3   \n",
       "3             1.4             2.2             2.2             1.4   \n",
       "4             tie             2.2             2.3             2.2   \n",
       "\n",
       "  trial 16 winner trial 17 winner trial 18 winner trial 19 winner  \\\n",
       "0             2.2             1.1             2.2             1.1   \n",
       "1             1.4             1.4             1.4             2.3   \n",
       "2             2.3             2.3             2.3             2.3   \n",
       "3             2.2             2.2             1.4             1.4   \n",
       "4             2.2             2.3             2.2             2.2   \n",
       "\n",
       "  trial 20 winner  \n",
       "0             1.1  \n",
       "1             2.3  \n",
       "2             NaN  \n",
       "3             1.4  \n",
       "4             2.2  \n",
       "\n",
       "[5 rows x 25 columns]"
      ]
     },
     "execution_count": 36,
     "metadata": {},
     "output_type": "execute_result"
    }
   ],
   "source": [
    "reward_competition_df.head()"
   ]
  },
  {
   "cell_type": "code",
   "execution_count": 37,
   "id": "e28cb862",
   "metadata": {},
   "outputs": [],
   "source": [
    "reward_competition_df = reward_competition_df.dropna(subset=[\"trial 1 winner\"])"
   ]
  },
  {
   "cell_type": "markdown",
   "id": "038ed4af",
   "metadata": {},
   "source": [
    "## Add both IDs as a column"
   ]
  },
  {
   "cell_type": "markdown",
   "id": "a9182674",
   "metadata": {},
   "source": [
    "# TODO: Pick the match column"
   ]
  },
  {
   "cell_type": "code",
   "execution_count": 38,
   "id": "0d85ca17",
   "metadata": {},
   "outputs": [],
   "source": [
    "reward_competition_df[\"animal_ids\"] = reward_competition_df[\"match\"].apply(lambda x: set([x.strip() for x in x.split(\"v\")]))"
   ]
  },
  {
   "cell_type": "code",
   "execution_count": 39,
   "id": "f1a0a009",
   "metadata": {
    "scrolled": true
   },
   "outputs": [
    {
     "data": {
      "text/html": [
       "<div>\n",
       "<style scoped>\n",
       "    .dataframe tbody tr th:only-of-type {\n",
       "        vertical-align: middle;\n",
       "    }\n",
       "\n",
       "    .dataframe tbody tr th {\n",
       "        vertical-align: top;\n",
       "    }\n",
       "\n",
       "    .dataframe thead th {\n",
       "        text-align: right;\n",
       "    }\n",
       "</style>\n",
       "<table border=\"1\" class=\"dataframe\">\n",
       "  <thead>\n",
       "    <tr style=\"text-align: right;\">\n",
       "      <th></th>\n",
       "      <th>date</th>\n",
       "      <th>cage</th>\n",
       "      <th>box</th>\n",
       "      <th>match</th>\n",
       "      <th>scorer</th>\n",
       "      <th>trial 1 winner</th>\n",
       "      <th>trial 2 winner</th>\n",
       "      <th>trial 3 winner</th>\n",
       "      <th>trial 4 winner</th>\n",
       "      <th>trial 5 winner</th>\n",
       "      <th>...</th>\n",
       "      <th>trial 12 winner</th>\n",
       "      <th>trial 13 winner</th>\n",
       "      <th>trial 14 winner</th>\n",
       "      <th>trial 15 winner</th>\n",
       "      <th>trial 16 winner</th>\n",
       "      <th>trial 17 winner</th>\n",
       "      <th>trial 18 winner</th>\n",
       "      <th>trial 19 winner</th>\n",
       "      <th>trial 20 winner</th>\n",
       "      <th>animal_ids</th>\n",
       "    </tr>\n",
       "  </thead>\n",
       "  <tbody>\n",
       "    <tr>\n",
       "      <th>0</th>\n",
       "      <td>2022-05-19</td>\n",
       "      <td>1</td>\n",
       "      <td>1.0</td>\n",
       "      <td>1.1 v 2.2</td>\n",
       "      <td>NaN</td>\n",
       "      <td>1.1</td>\n",
       "      <td>1.1</td>\n",
       "      <td>1.1</td>\n",
       "      <td>1.1</td>\n",
       "      <td>2.2</td>\n",
       "      <td>...</td>\n",
       "      <td>2.2</td>\n",
       "      <td>2.2</td>\n",
       "      <td>2.2</td>\n",
       "      <td>2.2</td>\n",
       "      <td>2.2</td>\n",
       "      <td>1.1</td>\n",
       "      <td>2.2</td>\n",
       "      <td>1.1</td>\n",
       "      <td>1.1</td>\n",
       "      <td>{1.1, 2.2}</td>\n",
       "    </tr>\n",
       "    <tr>\n",
       "      <th>1</th>\n",
       "      <td>2022-05-19</td>\n",
       "      <td>1</td>\n",
       "      <td>2.0</td>\n",
       "      <td>2.3 v 1.4</td>\n",
       "      <td>NaN</td>\n",
       "      <td>1.4</td>\n",
       "      <td>1.4</td>\n",
       "      <td>2.3</td>\n",
       "      <td>2.3</td>\n",
       "      <td>1.4</td>\n",
       "      <td>...</td>\n",
       "      <td>2.3</td>\n",
       "      <td>2.3</td>\n",
       "      <td>2.3</td>\n",
       "      <td>1.4</td>\n",
       "      <td>1.4</td>\n",
       "      <td>1.4</td>\n",
       "      <td>1.4</td>\n",
       "      <td>2.3</td>\n",
       "      <td>2.3</td>\n",
       "      <td>{1.4, 2.3}</td>\n",
       "    </tr>\n",
       "    <tr>\n",
       "      <th>2</th>\n",
       "      <td>2022-05-19</td>\n",
       "      <td>1</td>\n",
       "      <td>3.0</td>\n",
       "      <td>1.1 v 2.3</td>\n",
       "      <td>NaN</td>\n",
       "      <td>2.3</td>\n",
       "      <td>tie</td>\n",
       "      <td>2.3</td>\n",
       "      <td>1.1</td>\n",
       "      <td>1.1</td>\n",
       "      <td>...</td>\n",
       "      <td>2.3</td>\n",
       "      <td>1.1</td>\n",
       "      <td>2.3</td>\n",
       "      <td>2.3</td>\n",
       "      <td>2.3</td>\n",
       "      <td>2.3</td>\n",
       "      <td>2.3</td>\n",
       "      <td>2.3</td>\n",
       "      <td>NaN</td>\n",
       "      <td>{1.1, 2.3}</td>\n",
       "    </tr>\n",
       "    <tr>\n",
       "      <th>3</th>\n",
       "      <td>2022-05-19</td>\n",
       "      <td>1</td>\n",
       "      <td>4.0</td>\n",
       "      <td>2.2 v 1.4</td>\n",
       "      <td>NaN</td>\n",
       "      <td>1.4</td>\n",
       "      <td>2.2</td>\n",
       "      <td>2.2</td>\n",
       "      <td>2.2</td>\n",
       "      <td>1.4</td>\n",
       "      <td>...</td>\n",
       "      <td>1.4</td>\n",
       "      <td>2.2</td>\n",
       "      <td>2.2</td>\n",
       "      <td>1.4</td>\n",
       "      <td>2.2</td>\n",
       "      <td>2.2</td>\n",
       "      <td>1.4</td>\n",
       "      <td>1.4</td>\n",
       "      <td>1.4</td>\n",
       "      <td>{1.4, 2.2}</td>\n",
       "    </tr>\n",
       "    <tr>\n",
       "      <th>4</th>\n",
       "      <td>2022-05-19</td>\n",
       "      <td>1</td>\n",
       "      <td>2.0</td>\n",
       "      <td>2.2 v 2.3</td>\n",
       "      <td>NaN</td>\n",
       "      <td>2.2</td>\n",
       "      <td>2.3</td>\n",
       "      <td>2.3</td>\n",
       "      <td>2.3</td>\n",
       "      <td>2.2</td>\n",
       "      <td>...</td>\n",
       "      <td>tie</td>\n",
       "      <td>2.2</td>\n",
       "      <td>2.3</td>\n",
       "      <td>2.2</td>\n",
       "      <td>2.2</td>\n",
       "      <td>2.3</td>\n",
       "      <td>2.2</td>\n",
       "      <td>2.2</td>\n",
       "      <td>2.2</td>\n",
       "      <td>{2.3, 2.2}</td>\n",
       "    </tr>\n",
       "  </tbody>\n",
       "</table>\n",
       "<p>5 rows × 26 columns</p>\n",
       "</div>"
      ],
      "text/plain": [
       "        date  cage  box      match  scorer trial 1 winner trial 2 winner  \\\n",
       "0 2022-05-19     1  1.0  1.1 v 2.2     NaN            1.1            1.1   \n",
       "1 2022-05-19     1  2.0  2.3 v 1.4     NaN            1.4            1.4   \n",
       "2 2022-05-19     1  3.0  1.1 v 2.3     NaN            2.3            tie   \n",
       "3 2022-05-19     1  4.0  2.2 v 1.4     NaN            1.4            2.2   \n",
       "4 2022-05-19     1  2.0  2.2 v 2.3     NaN            2.2            2.3   \n",
       "\n",
       "  trial 3 winner trial 4 winner trial 5 winner  ... trial 12 winner  \\\n",
       "0            1.1            1.1            2.2  ...             2.2   \n",
       "1            2.3            2.3            1.4  ...             2.3   \n",
       "2            2.3            1.1            1.1  ...             2.3   \n",
       "3            2.2            2.2            1.4  ...             1.4   \n",
       "4            2.3            2.3            2.2  ...             tie   \n",
       "\n",
       "  trial 13 winner trial 14 winner trial 15 winner trial 16 winner  \\\n",
       "0             2.2             2.2             2.2             2.2   \n",
       "1             2.3             2.3             1.4             1.4   \n",
       "2             1.1             2.3             2.3             2.3   \n",
       "3             2.2             2.2             1.4             2.2   \n",
       "4             2.2             2.3             2.2             2.2   \n",
       "\n",
       "  trial 17 winner trial 18 winner trial 19 winner trial 20 winner  animal_ids  \n",
       "0             1.1             2.2             1.1             1.1  {1.1, 2.2}  \n",
       "1             1.4             1.4             2.3             2.3  {1.4, 2.3}  \n",
       "2             2.3             2.3             2.3             NaN  {1.1, 2.3}  \n",
       "3             2.2             1.4             1.4             1.4  {1.4, 2.2}  \n",
       "4             2.3             2.2             2.2             2.2  {2.3, 2.2}  \n",
       "\n",
       "[5 rows x 26 columns]"
      ]
     },
     "execution_count": 39,
     "metadata": {},
     "output_type": "execute_result"
    }
   ],
   "source": [
    "reward_competition_df.head()"
   ]
  },
  {
   "cell_type": "markdown",
   "id": "3adb10cf",
   "metadata": {},
   "source": [
    "## Melt "
   ]
  },
  {
   "cell_type": "code",
   "execution_count": 40,
   "id": "5da7a9e6",
   "metadata": {},
   "outputs": [],
   "source": [
    "reward_competition_df[\"index\"] = reward_competition_df.index\n",
    "reward_competition_df = reward_competition_df.reset_index(drop=True)"
   ]
  },
  {
   "cell_type": "code",
   "execution_count": 41,
   "id": "43719692",
   "metadata": {
    "scrolled": true
   },
   "outputs": [
    {
     "data": {
      "text/html": [
       "<div>\n",
       "<style scoped>\n",
       "    .dataframe tbody tr th:only-of-type {\n",
       "        vertical-align: middle;\n",
       "    }\n",
       "\n",
       "    .dataframe tbody tr th {\n",
       "        vertical-align: top;\n",
       "    }\n",
       "\n",
       "    .dataframe thead th {\n",
       "        text-align: right;\n",
       "    }\n",
       "</style>\n",
       "<table border=\"1\" class=\"dataframe\">\n",
       "  <thead>\n",
       "    <tr style=\"text-align: right;\">\n",
       "      <th></th>\n",
       "      <th>date</th>\n",
       "      <th>cage</th>\n",
       "      <th>box</th>\n",
       "      <th>match</th>\n",
       "      <th>scorer</th>\n",
       "      <th>trial 1 winner</th>\n",
       "      <th>trial 2 winner</th>\n",
       "      <th>trial 3 winner</th>\n",
       "      <th>trial 4 winner</th>\n",
       "      <th>trial 5 winner</th>\n",
       "      <th>...</th>\n",
       "      <th>trial 13 winner</th>\n",
       "      <th>trial 14 winner</th>\n",
       "      <th>trial 15 winner</th>\n",
       "      <th>trial 16 winner</th>\n",
       "      <th>trial 17 winner</th>\n",
       "      <th>trial 18 winner</th>\n",
       "      <th>trial 19 winner</th>\n",
       "      <th>trial 20 winner</th>\n",
       "      <th>animal_ids</th>\n",
       "      <th>index</th>\n",
       "    </tr>\n",
       "  </thead>\n",
       "  <tbody>\n",
       "    <tr>\n",
       "      <th>0</th>\n",
       "      <td>2022-05-19</td>\n",
       "      <td>1</td>\n",
       "      <td>1.0</td>\n",
       "      <td>1.1 v 2.2</td>\n",
       "      <td>NaN</td>\n",
       "      <td>1.1</td>\n",
       "      <td>1.1</td>\n",
       "      <td>1.1</td>\n",
       "      <td>1.1</td>\n",
       "      <td>2.2</td>\n",
       "      <td>...</td>\n",
       "      <td>2.2</td>\n",
       "      <td>2.2</td>\n",
       "      <td>2.2</td>\n",
       "      <td>2.2</td>\n",
       "      <td>1.1</td>\n",
       "      <td>2.2</td>\n",
       "      <td>1.1</td>\n",
       "      <td>1.1</td>\n",
       "      <td>{1.1, 2.2}</td>\n",
       "      <td>0</td>\n",
       "    </tr>\n",
       "    <tr>\n",
       "      <th>1</th>\n",
       "      <td>2022-05-19</td>\n",
       "      <td>1</td>\n",
       "      <td>2.0</td>\n",
       "      <td>2.3 v 1.4</td>\n",
       "      <td>NaN</td>\n",
       "      <td>1.4</td>\n",
       "      <td>1.4</td>\n",
       "      <td>2.3</td>\n",
       "      <td>2.3</td>\n",
       "      <td>1.4</td>\n",
       "      <td>...</td>\n",
       "      <td>2.3</td>\n",
       "      <td>2.3</td>\n",
       "      <td>1.4</td>\n",
       "      <td>1.4</td>\n",
       "      <td>1.4</td>\n",
       "      <td>1.4</td>\n",
       "      <td>2.3</td>\n",
       "      <td>2.3</td>\n",
       "      <td>{1.4, 2.3}</td>\n",
       "      <td>1</td>\n",
       "    </tr>\n",
       "    <tr>\n",
       "      <th>2</th>\n",
       "      <td>2022-05-19</td>\n",
       "      <td>1</td>\n",
       "      <td>3.0</td>\n",
       "      <td>1.1 v 2.3</td>\n",
       "      <td>NaN</td>\n",
       "      <td>2.3</td>\n",
       "      <td>tie</td>\n",
       "      <td>2.3</td>\n",
       "      <td>1.1</td>\n",
       "      <td>1.1</td>\n",
       "      <td>...</td>\n",
       "      <td>1.1</td>\n",
       "      <td>2.3</td>\n",
       "      <td>2.3</td>\n",
       "      <td>2.3</td>\n",
       "      <td>2.3</td>\n",
       "      <td>2.3</td>\n",
       "      <td>2.3</td>\n",
       "      <td>NaN</td>\n",
       "      <td>{1.1, 2.3}</td>\n",
       "      <td>2</td>\n",
       "    </tr>\n",
       "    <tr>\n",
       "      <th>3</th>\n",
       "      <td>2022-05-19</td>\n",
       "      <td>1</td>\n",
       "      <td>4.0</td>\n",
       "      <td>2.2 v 1.4</td>\n",
       "      <td>NaN</td>\n",
       "      <td>1.4</td>\n",
       "      <td>2.2</td>\n",
       "      <td>2.2</td>\n",
       "      <td>2.2</td>\n",
       "      <td>1.4</td>\n",
       "      <td>...</td>\n",
       "      <td>2.2</td>\n",
       "      <td>2.2</td>\n",
       "      <td>1.4</td>\n",
       "      <td>2.2</td>\n",
       "      <td>2.2</td>\n",
       "      <td>1.4</td>\n",
       "      <td>1.4</td>\n",
       "      <td>1.4</td>\n",
       "      <td>{1.4, 2.2}</td>\n",
       "      <td>3</td>\n",
       "    </tr>\n",
       "    <tr>\n",
       "      <th>4</th>\n",
       "      <td>2022-05-19</td>\n",
       "      <td>1</td>\n",
       "      <td>2.0</td>\n",
       "      <td>2.2 v 2.3</td>\n",
       "      <td>NaN</td>\n",
       "      <td>2.2</td>\n",
       "      <td>2.3</td>\n",
       "      <td>2.3</td>\n",
       "      <td>2.3</td>\n",
       "      <td>2.2</td>\n",
       "      <td>...</td>\n",
       "      <td>2.2</td>\n",
       "      <td>2.3</td>\n",
       "      <td>2.2</td>\n",
       "      <td>2.2</td>\n",
       "      <td>2.3</td>\n",
       "      <td>2.2</td>\n",
       "      <td>2.2</td>\n",
       "      <td>2.2</td>\n",
       "      <td>{2.3, 2.2}</td>\n",
       "      <td>4</td>\n",
       "    </tr>\n",
       "  </tbody>\n",
       "</table>\n",
       "<p>5 rows × 27 columns</p>\n",
       "</div>"
      ],
      "text/plain": [
       "        date  cage  box      match  scorer trial 1 winner trial 2 winner  \\\n",
       "0 2022-05-19     1  1.0  1.1 v 2.2     NaN            1.1            1.1   \n",
       "1 2022-05-19     1  2.0  2.3 v 1.4     NaN            1.4            1.4   \n",
       "2 2022-05-19     1  3.0  1.1 v 2.3     NaN            2.3            tie   \n",
       "3 2022-05-19     1  4.0  2.2 v 1.4     NaN            1.4            2.2   \n",
       "4 2022-05-19     1  2.0  2.2 v 2.3     NaN            2.2            2.3   \n",
       "\n",
       "  trial 3 winner trial 4 winner trial 5 winner  ... trial 13 winner  \\\n",
       "0            1.1            1.1            2.2  ...             2.2   \n",
       "1            2.3            2.3            1.4  ...             2.3   \n",
       "2            2.3            1.1            1.1  ...             1.1   \n",
       "3            2.2            2.2            1.4  ...             2.2   \n",
       "4            2.3            2.3            2.2  ...             2.2   \n",
       "\n",
       "  trial 14 winner trial 15 winner trial 16 winner trial 17 winner  \\\n",
       "0             2.2             2.2             2.2             1.1   \n",
       "1             2.3             1.4             1.4             1.4   \n",
       "2             2.3             2.3             2.3             2.3   \n",
       "3             2.2             1.4             2.2             2.2   \n",
       "4             2.3             2.2             2.2             2.3   \n",
       "\n",
       "  trial 18 winner trial 19 winner trial 20 winner  animal_ids index  \n",
       "0             2.2             1.1             1.1  {1.1, 2.2}     0  \n",
       "1             1.4             2.3             2.3  {1.4, 2.3}     1  \n",
       "2             2.3             2.3             NaN  {1.1, 2.3}     2  \n",
       "3             1.4             1.4             1.4  {1.4, 2.2}     3  \n",
       "4             2.2             2.2             2.2  {2.3, 2.2}     4  \n",
       "\n",
       "[5 rows x 27 columns]"
      ]
     },
     "execution_count": 41,
     "metadata": {},
     "output_type": "execute_result"
    }
   ],
   "source": [
    "reward_competition_df.head()"
   ]
  },
  {
   "cell_type": "markdown",
   "id": "89e6b466",
   "metadata": {},
   "source": [
    "# TODO: Pick the columns to keep"
   ]
  },
  {
   "cell_type": "code",
   "execution_count": 42,
   "id": "778219ec",
   "metadata": {},
   "outputs": [],
   "source": [
    "melted_reward_competition_df = reward_competition_df.melt(id_vars=[\"index\", \"date\", \"cage\", \"box\", \"match\", \"scorer\", \"animal_ids\"], \n",
    "        var_name=\"trial\", \n",
    "        value_name=\"winner\")"
   ]
  },
  {
   "cell_type": "code",
   "execution_count": 43,
   "id": "a47c0d48",
   "metadata": {},
   "outputs": [
    {
     "data": {
      "text/html": [
       "<div>\n",
       "<style scoped>\n",
       "    .dataframe tbody tr th:only-of-type {\n",
       "        vertical-align: middle;\n",
       "    }\n",
       "\n",
       "    .dataframe tbody tr th {\n",
       "        vertical-align: top;\n",
       "    }\n",
       "\n",
       "    .dataframe thead th {\n",
       "        text-align: right;\n",
       "    }\n",
       "</style>\n",
       "<table border=\"1\" class=\"dataframe\">\n",
       "  <thead>\n",
       "    <tr style=\"text-align: right;\">\n",
       "      <th></th>\n",
       "      <th>index</th>\n",
       "      <th>date</th>\n",
       "      <th>cage</th>\n",
       "      <th>box</th>\n",
       "      <th>match</th>\n",
       "      <th>scorer</th>\n",
       "      <th>animal_ids</th>\n",
       "      <th>trial</th>\n",
       "      <th>winner</th>\n",
       "    </tr>\n",
       "  </thead>\n",
       "  <tbody>\n",
       "    <tr>\n",
       "      <th>0</th>\n",
       "      <td>0</td>\n",
       "      <td>2022-05-19</td>\n",
       "      <td>1</td>\n",
       "      <td>1.0</td>\n",
       "      <td>1.1 v 2.2</td>\n",
       "      <td>NaN</td>\n",
       "      <td>{1.1, 2.2}</td>\n",
       "      <td>trial 1 winner</td>\n",
       "      <td>1.1</td>\n",
       "    </tr>\n",
       "    <tr>\n",
       "      <th>1</th>\n",
       "      <td>1</td>\n",
       "      <td>2022-05-19</td>\n",
       "      <td>1</td>\n",
       "      <td>2.0</td>\n",
       "      <td>2.3 v 1.4</td>\n",
       "      <td>NaN</td>\n",
       "      <td>{1.4, 2.3}</td>\n",
       "      <td>trial 1 winner</td>\n",
       "      <td>1.4</td>\n",
       "    </tr>\n",
       "    <tr>\n",
       "      <th>2</th>\n",
       "      <td>2</td>\n",
       "      <td>2022-05-19</td>\n",
       "      <td>1</td>\n",
       "      <td>3.0</td>\n",
       "      <td>1.1 v 2.3</td>\n",
       "      <td>NaN</td>\n",
       "      <td>{1.1, 2.3}</td>\n",
       "      <td>trial 1 winner</td>\n",
       "      <td>2.3</td>\n",
       "    </tr>\n",
       "    <tr>\n",
       "      <th>3</th>\n",
       "      <td>3</td>\n",
       "      <td>2022-05-19</td>\n",
       "      <td>1</td>\n",
       "      <td>4.0</td>\n",
       "      <td>2.2 v 1.4</td>\n",
       "      <td>NaN</td>\n",
       "      <td>{1.4, 2.2}</td>\n",
       "      <td>trial 1 winner</td>\n",
       "      <td>1.4</td>\n",
       "    </tr>\n",
       "    <tr>\n",
       "      <th>4</th>\n",
       "      <td>4</td>\n",
       "      <td>2022-05-19</td>\n",
       "      <td>1</td>\n",
       "      <td>2.0</td>\n",
       "      <td>2.2 v 2.3</td>\n",
       "      <td>NaN</td>\n",
       "      <td>{2.3, 2.2}</td>\n",
       "      <td>trial 1 winner</td>\n",
       "      <td>2.2</td>\n",
       "    </tr>\n",
       "  </tbody>\n",
       "</table>\n",
       "</div>"
      ],
      "text/plain": [
       "   index       date  cage  box      match  scorer  animal_ids           trial  \\\n",
       "0      0 2022-05-19     1  1.0  1.1 v 2.2     NaN  {1.1, 2.2}  trial 1 winner   \n",
       "1      1 2022-05-19     1  2.0  2.3 v 1.4     NaN  {1.4, 2.3}  trial 1 winner   \n",
       "2      2 2022-05-19     1  3.0  1.1 v 2.3     NaN  {1.1, 2.3}  trial 1 winner   \n",
       "3      3 2022-05-19     1  4.0  2.2 v 1.4     NaN  {1.4, 2.2}  trial 1 winner   \n",
       "4      4 2022-05-19     1  2.0  2.2 v 2.3     NaN  {2.3, 2.2}  trial 1 winner   \n",
       "\n",
       "  winner  \n",
       "0    1.1  \n",
       "1    1.4  \n",
       "2    2.3  \n",
       "3    1.4  \n",
       "4    2.2  "
      ]
     },
     "execution_count": 43,
     "metadata": {},
     "output_type": "execute_result"
    }
   ],
   "source": [
    "melted_reward_competition_df.head()"
   ]
  },
  {
   "cell_type": "markdown",
   "id": "705b0acb",
   "metadata": {},
   "source": [
    "- Dropping all rows that don't contain Winner"
   ]
  },
  {
   "cell_type": "code",
   "execution_count": 44,
   "id": "a4c06042",
   "metadata": {},
   "outputs": [],
   "source": [
    "melted_reward_competition_df = melted_reward_competition_df.dropna(subset=\"winner\")"
   ]
  },
  {
   "cell_type": "markdown",
   "id": "0a8d683f",
   "metadata": {},
   "source": [
    "- Making all the ids into string"
   ]
  },
  {
   "cell_type": "code",
   "execution_count": 45,
   "id": "c5aa91c2",
   "metadata": {},
   "outputs": [],
   "source": [
    "melted_reward_competition_df[\"winner\"] = melted_reward_competition_df[\"winner\"].astype(str)"
   ]
  },
  {
   "cell_type": "markdown",
   "id": "dc4d01af",
   "metadata": {},
   "source": [
    "- Getting the number of the trial so that we can order by number(instead of string, which would make 11 come before 2)"
   ]
  },
  {
   "cell_type": "code",
   "execution_count": 46,
   "id": "9c95882d",
   "metadata": {},
   "outputs": [],
   "source": [
    "melted_reward_competition_df[\"trial_number\"] = melted_reward_competition_df[\"trial\"].apply(lambda x: int(x.lower().strip(\"trial\").strip(\"winner\")))"
   ]
  },
  {
   "cell_type": "code",
   "execution_count": 47,
   "id": "67affc21",
   "metadata": {},
   "outputs": [],
   "source": [
    "melted_reward_competition_df = melted_reward_competition_df.sort_values([\"index\", \"trial_number\"])"
   ]
  },
  {
   "cell_type": "code",
   "execution_count": 48,
   "id": "af0ba03a",
   "metadata": {},
   "outputs": [
    {
     "data": {
      "text/html": [
       "<div>\n",
       "<style scoped>\n",
       "    .dataframe tbody tr th:only-of-type {\n",
       "        vertical-align: middle;\n",
       "    }\n",
       "\n",
       "    .dataframe tbody tr th {\n",
       "        vertical-align: top;\n",
       "    }\n",
       "\n",
       "    .dataframe thead th {\n",
       "        text-align: right;\n",
       "    }\n",
       "</style>\n",
       "<table border=\"1\" class=\"dataframe\">\n",
       "  <thead>\n",
       "    <tr style=\"text-align: right;\">\n",
       "      <th></th>\n",
       "      <th>index</th>\n",
       "      <th>date</th>\n",
       "      <th>cage</th>\n",
       "      <th>box</th>\n",
       "      <th>match</th>\n",
       "      <th>scorer</th>\n",
       "      <th>animal_ids</th>\n",
       "      <th>trial</th>\n",
       "      <th>winner</th>\n",
       "      <th>trial_number</th>\n",
       "    </tr>\n",
       "  </thead>\n",
       "  <tbody>\n",
       "    <tr>\n",
       "      <th>0</th>\n",
       "      <td>0</td>\n",
       "      <td>2022-05-19</td>\n",
       "      <td>1</td>\n",
       "      <td>1.0</td>\n",
       "      <td>1.1 v 2.2</td>\n",
       "      <td>NaN</td>\n",
       "      <td>{1.1, 2.2}</td>\n",
       "      <td>trial 1 winner</td>\n",
       "      <td>1.1</td>\n",
       "      <td>1</td>\n",
       "    </tr>\n",
       "    <tr>\n",
       "      <th>48</th>\n",
       "      <td>0</td>\n",
       "      <td>2022-05-19</td>\n",
       "      <td>1</td>\n",
       "      <td>1.0</td>\n",
       "      <td>1.1 v 2.2</td>\n",
       "      <td>NaN</td>\n",
       "      <td>{1.1, 2.2}</td>\n",
       "      <td>trial 2 winner</td>\n",
       "      <td>1.1</td>\n",
       "      <td>2</td>\n",
       "    </tr>\n",
       "    <tr>\n",
       "      <th>96</th>\n",
       "      <td>0</td>\n",
       "      <td>2022-05-19</td>\n",
       "      <td>1</td>\n",
       "      <td>1.0</td>\n",
       "      <td>1.1 v 2.2</td>\n",
       "      <td>NaN</td>\n",
       "      <td>{1.1, 2.2}</td>\n",
       "      <td>trial 3 winner</td>\n",
       "      <td>1.1</td>\n",
       "      <td>3</td>\n",
       "    </tr>\n",
       "    <tr>\n",
       "      <th>144</th>\n",
       "      <td>0</td>\n",
       "      <td>2022-05-19</td>\n",
       "      <td>1</td>\n",
       "      <td>1.0</td>\n",
       "      <td>1.1 v 2.2</td>\n",
       "      <td>NaN</td>\n",
       "      <td>{1.1, 2.2}</td>\n",
       "      <td>trial 4 winner</td>\n",
       "      <td>1.1</td>\n",
       "      <td>4</td>\n",
       "    </tr>\n",
       "    <tr>\n",
       "      <th>192</th>\n",
       "      <td>0</td>\n",
       "      <td>2022-05-19</td>\n",
       "      <td>1</td>\n",
       "      <td>1.0</td>\n",
       "      <td>1.1 v 2.2</td>\n",
       "      <td>NaN</td>\n",
       "      <td>{1.1, 2.2}</td>\n",
       "      <td>trial 5 winner</td>\n",
       "      <td>2.2</td>\n",
       "      <td>5</td>\n",
       "    </tr>\n",
       "  </tbody>\n",
       "</table>\n",
       "</div>"
      ],
      "text/plain": [
       "     index       date  cage  box      match  scorer  animal_ids  \\\n",
       "0        0 2022-05-19     1  1.0  1.1 v 2.2     NaN  {1.1, 2.2}   \n",
       "48       0 2022-05-19     1  1.0  1.1 v 2.2     NaN  {1.1, 2.2}   \n",
       "96       0 2022-05-19     1  1.0  1.1 v 2.2     NaN  {1.1, 2.2}   \n",
       "144      0 2022-05-19     1  1.0  1.1 v 2.2     NaN  {1.1, 2.2}   \n",
       "192      0 2022-05-19     1  1.0  1.1 v 2.2     NaN  {1.1, 2.2}   \n",
       "\n",
       "              trial winner  trial_number  \n",
       "0    trial 1 winner    1.1             1  \n",
       "48   trial 2 winner    1.1             2  \n",
       "96   trial 3 winner    1.1             3  \n",
       "144  trial 4 winner    1.1             4  \n",
       "192  trial 5 winner    2.2             5  "
      ]
     },
     "execution_count": 48,
     "metadata": {},
     "output_type": "execute_result"
    }
   ],
   "source": [
    "melted_reward_competition_df.head()"
   ]
  },
  {
   "cell_type": "code",
   "execution_count": 49,
   "id": "923b7c24",
   "metadata": {},
   "outputs": [
    {
     "data": {
      "text/plain": [
       "array([ 1,  2,  3,  4,  5,  6,  7,  8,  9, 10, 11, 12, 13, 14, 15, 16, 17,\n",
       "       18, 19, 20])"
      ]
     },
     "execution_count": 49,
     "metadata": {},
     "output_type": "execute_result"
    }
   ],
   "source": [
    "melted_reward_competition_df[\"trial_number\"].unique()"
   ]
  },
  {
   "cell_type": "code",
   "execution_count": 50,
   "id": "65e49b9b",
   "metadata": {},
   "outputs": [
    {
     "data": {
      "text/plain": [
       "array(['1.1', '2.2', '1.4', '2.3', 'tie', 'Tie', 'NO TRIAL', '2.1', '1.2',\n",
       "       '1.3', '2.4', '4.1 (1)', '3.2 (2)', '4.2 (3)', '3.3 (4)',\n",
       "       '3.1 (1)', '3.4 (2)', '4.3 (3)', '4.4 (4)'], dtype=object)"
      ]
     },
     "execution_count": 50,
     "metadata": {},
     "output_type": "execute_result"
    }
   ],
   "source": [
    "melted_reward_competition_df[\"winner\"].unique()"
   ]
  },
  {
   "cell_type": "markdown",
   "id": "54bfd940",
   "metadata": {},
   "source": [
    "- Removing all the ties"
   ]
  },
  {
   "cell_type": "code",
   "execution_count": 51,
   "id": "f8826843",
   "metadata": {},
   "outputs": [],
   "source": [
    "all_winner_ids = []\n",
    "for winner_id in melted_reward_competition_df[\"winner\"].unique():\n",
    "    if not re.search('[a-zA-Z]', str(winner_id)):\n",
    "        all_winner_ids.append(winner_id)"
   ]
  },
  {
   "cell_type": "code",
   "execution_count": 52,
   "id": "7e2269c0",
   "metadata": {},
   "outputs": [
    {
     "data": {
      "text/plain": [
       "['1.1',\n",
       " '2.2',\n",
       " '1.4',\n",
       " '2.3',\n",
       " '2.1',\n",
       " '1.2',\n",
       " '1.3',\n",
       " '2.4',\n",
       " '4.1 (1)',\n",
       " '3.2 (2)',\n",
       " '4.2 (3)',\n",
       " '3.3 (4)',\n",
       " '3.1 (1)',\n",
       " '3.4 (2)',\n",
       " '4.3 (3)',\n",
       " '4.4 (4)']"
      ]
     },
     "execution_count": 52,
     "metadata": {},
     "output_type": "execute_result"
    }
   ],
   "source": [
    "all_winner_ids"
   ]
  },
  {
   "cell_type": "markdown",
   "id": "a8f9a3e2",
   "metadata": {},
   "source": [
    "- Dropping all rows that don't have numbers as IDs for the winner column"
   ]
  },
  {
   "cell_type": "code",
   "execution_count": 53,
   "id": "29e78eb7",
   "metadata": {},
   "outputs": [],
   "source": [
    "melted_reward_competition_df = melted_reward_competition_df[melted_reward_competition_df[\"winner\"].isin(all_winner_ids)]"
   ]
  },
  {
   "cell_type": "code",
   "execution_count": 54,
   "id": "9230cfd7",
   "metadata": {},
   "outputs": [
    {
     "data": {
      "text/plain": [
       "array(['1.1', '2.2', '1.4', '2.3', '2.1', '1.2', '1.3', '2.4', '4.1 (1)',\n",
       "       '3.2 (2)', '4.2 (3)', '3.3 (4)', '3.1 (1)', '3.4 (2)', '4.3 (3)',\n",
       "       '4.4 (4)'], dtype=object)"
      ]
     },
     "execution_count": 54,
     "metadata": {},
     "output_type": "execute_result"
    }
   ],
   "source": [
    "melted_reward_competition_df[\"winner\"].unique()"
   ]
  },
  {
   "cell_type": "markdown",
   "id": "9fcce421",
   "metadata": {},
   "source": [
    "## Add a column for the loser ID"
   ]
  },
  {
   "cell_type": "code",
   "execution_count": 55,
   "id": "2e5713c5",
   "metadata": {},
   "outputs": [
    {
     "data": {
      "text/plain": [
       "Index(['index', 'date', 'cage', 'box', 'match', 'scorer', 'animal_ids',\n",
       "       'trial', 'winner', 'trial_number'],\n",
       "      dtype='object')"
      ]
     },
     "execution_count": 55,
     "metadata": {},
     "output_type": "execute_result"
    }
   ],
   "source": [
    "melted_reward_competition_df.columns"
   ]
  },
  {
   "cell_type": "code",
   "execution_count": 56,
   "id": "f232daaf",
   "metadata": {},
   "outputs": [
    {
     "data": {
      "text/html": [
       "<div>\n",
       "<style scoped>\n",
       "    .dataframe tbody tr th:only-of-type {\n",
       "        vertical-align: middle;\n",
       "    }\n",
       "\n",
       "    .dataframe tbody tr th {\n",
       "        vertical-align: top;\n",
       "    }\n",
       "\n",
       "    .dataframe thead th {\n",
       "        text-align: right;\n",
       "    }\n",
       "</style>\n",
       "<table border=\"1\" class=\"dataframe\">\n",
       "  <thead>\n",
       "    <tr style=\"text-align: right;\">\n",
       "      <th></th>\n",
       "      <th>index</th>\n",
       "      <th>date</th>\n",
       "      <th>cage</th>\n",
       "      <th>box</th>\n",
       "      <th>match</th>\n",
       "      <th>scorer</th>\n",
       "      <th>animal_ids</th>\n",
       "      <th>trial</th>\n",
       "      <th>winner</th>\n",
       "      <th>trial_number</th>\n",
       "    </tr>\n",
       "  </thead>\n",
       "  <tbody>\n",
       "    <tr>\n",
       "      <th>0</th>\n",
       "      <td>0</td>\n",
       "      <td>2022-05-19</td>\n",
       "      <td>1</td>\n",
       "      <td>1.0</td>\n",
       "      <td>1.1 v 2.2</td>\n",
       "      <td>NaN</td>\n",
       "      <td>{1.1, 2.2}</td>\n",
       "      <td>trial 1 winner</td>\n",
       "      <td>1.1</td>\n",
       "      <td>1</td>\n",
       "    </tr>\n",
       "    <tr>\n",
       "      <th>48</th>\n",
       "      <td>0</td>\n",
       "      <td>2022-05-19</td>\n",
       "      <td>1</td>\n",
       "      <td>1.0</td>\n",
       "      <td>1.1 v 2.2</td>\n",
       "      <td>NaN</td>\n",
       "      <td>{1.1, 2.2}</td>\n",
       "      <td>trial 2 winner</td>\n",
       "      <td>1.1</td>\n",
       "      <td>2</td>\n",
       "    </tr>\n",
       "    <tr>\n",
       "      <th>96</th>\n",
       "      <td>0</td>\n",
       "      <td>2022-05-19</td>\n",
       "      <td>1</td>\n",
       "      <td>1.0</td>\n",
       "      <td>1.1 v 2.2</td>\n",
       "      <td>NaN</td>\n",
       "      <td>{1.1, 2.2}</td>\n",
       "      <td>trial 3 winner</td>\n",
       "      <td>1.1</td>\n",
       "      <td>3</td>\n",
       "    </tr>\n",
       "    <tr>\n",
       "      <th>144</th>\n",
       "      <td>0</td>\n",
       "      <td>2022-05-19</td>\n",
       "      <td>1</td>\n",
       "      <td>1.0</td>\n",
       "      <td>1.1 v 2.2</td>\n",
       "      <td>NaN</td>\n",
       "      <td>{1.1, 2.2}</td>\n",
       "      <td>trial 4 winner</td>\n",
       "      <td>1.1</td>\n",
       "      <td>4</td>\n",
       "    </tr>\n",
       "    <tr>\n",
       "      <th>192</th>\n",
       "      <td>0</td>\n",
       "      <td>2022-05-19</td>\n",
       "      <td>1</td>\n",
       "      <td>1.0</td>\n",
       "      <td>1.1 v 2.2</td>\n",
       "      <td>NaN</td>\n",
       "      <td>{1.1, 2.2}</td>\n",
       "      <td>trial 5 winner</td>\n",
       "      <td>2.2</td>\n",
       "      <td>5</td>\n",
       "    </tr>\n",
       "  </tbody>\n",
       "</table>\n",
       "</div>"
      ],
      "text/plain": [
       "     index       date  cage  box      match  scorer  animal_ids  \\\n",
       "0        0 2022-05-19     1  1.0  1.1 v 2.2     NaN  {1.1, 2.2}   \n",
       "48       0 2022-05-19     1  1.0  1.1 v 2.2     NaN  {1.1, 2.2}   \n",
       "96       0 2022-05-19     1  1.0  1.1 v 2.2     NaN  {1.1, 2.2}   \n",
       "144      0 2022-05-19     1  1.0  1.1 v 2.2     NaN  {1.1, 2.2}   \n",
       "192      0 2022-05-19     1  1.0  1.1 v 2.2     NaN  {1.1, 2.2}   \n",
       "\n",
       "              trial winner  trial_number  \n",
       "0    trial 1 winner    1.1             1  \n",
       "48   trial 2 winner    1.1             2  \n",
       "96   trial 3 winner    1.1             3  \n",
       "144  trial 4 winner    1.1             4  \n",
       "192  trial 5 winner    2.2             5  "
      ]
     },
     "execution_count": 56,
     "metadata": {},
     "output_type": "execute_result"
    }
   ],
   "source": [
    "melted_reward_competition_df.head()"
   ]
  },
  {
   "cell_type": "code",
   "execution_count": 57,
   "id": "c8490865",
   "metadata": {},
   "outputs": [],
   "source": [
    "melted_reward_competition_df[\"loser\"] = melted_reward_competition_df.apply(lambda x: (list(x[\"animal_ids\"] - set([x[\"winner\"]]))[0]), axis=1)"
   ]
  },
  {
   "cell_type": "code",
   "execution_count": 58,
   "id": "f5c4506f",
   "metadata": {},
   "outputs": [
    {
     "data": {
      "text/plain": [
       "array(['2.2', '1.1', '2.3', '1.4', '1.2', '2.1', '2.4', '1.3', '3.2 (2)',\n",
       "       '4.1 (1)', '3.3 (4)', '4.2 (3)', '3.4 (2)', '3.1 (1)', '4.4 (4)',\n",
       "       '4.3 (3)'], dtype=object)"
      ]
     },
     "execution_count": 58,
     "metadata": {},
     "output_type": "execute_result"
    }
   ],
   "source": [
    "melted_reward_competition_df[\"loser\"].unique()"
   ]
  },
  {
   "cell_type": "code",
   "execution_count": 59,
   "id": "d9710db3",
   "metadata": {},
   "outputs": [
    {
     "data": {
      "text/html": [
       "<div>\n",
       "<style scoped>\n",
       "    .dataframe tbody tr th:only-of-type {\n",
       "        vertical-align: middle;\n",
       "    }\n",
       "\n",
       "    .dataframe tbody tr th {\n",
       "        vertical-align: top;\n",
       "    }\n",
       "\n",
       "    .dataframe thead th {\n",
       "        text-align: right;\n",
       "    }\n",
       "</style>\n",
       "<table border=\"1\" class=\"dataframe\">\n",
       "  <thead>\n",
       "    <tr style=\"text-align: right;\">\n",
       "      <th></th>\n",
       "      <th>index</th>\n",
       "      <th>date</th>\n",
       "      <th>cage</th>\n",
       "      <th>box</th>\n",
       "      <th>match</th>\n",
       "      <th>scorer</th>\n",
       "      <th>animal_ids</th>\n",
       "      <th>trial</th>\n",
       "      <th>winner</th>\n",
       "      <th>trial_number</th>\n",
       "      <th>loser</th>\n",
       "    </tr>\n",
       "  </thead>\n",
       "  <tbody>\n",
       "    <tr>\n",
       "      <th>0</th>\n",
       "      <td>0</td>\n",
       "      <td>2022-05-19</td>\n",
       "      <td>1</td>\n",
       "      <td>1.0</td>\n",
       "      <td>1.1 v 2.2</td>\n",
       "      <td>NaN</td>\n",
       "      <td>{1.1, 2.2}</td>\n",
       "      <td>trial 1 winner</td>\n",
       "      <td>1.1</td>\n",
       "      <td>1</td>\n",
       "      <td>2.2</td>\n",
       "    </tr>\n",
       "    <tr>\n",
       "      <th>48</th>\n",
       "      <td>0</td>\n",
       "      <td>2022-05-19</td>\n",
       "      <td>1</td>\n",
       "      <td>1.0</td>\n",
       "      <td>1.1 v 2.2</td>\n",
       "      <td>NaN</td>\n",
       "      <td>{1.1, 2.2}</td>\n",
       "      <td>trial 2 winner</td>\n",
       "      <td>1.1</td>\n",
       "      <td>2</td>\n",
       "      <td>2.2</td>\n",
       "    </tr>\n",
       "    <tr>\n",
       "      <th>96</th>\n",
       "      <td>0</td>\n",
       "      <td>2022-05-19</td>\n",
       "      <td>1</td>\n",
       "      <td>1.0</td>\n",
       "      <td>1.1 v 2.2</td>\n",
       "      <td>NaN</td>\n",
       "      <td>{1.1, 2.2}</td>\n",
       "      <td>trial 3 winner</td>\n",
       "      <td>1.1</td>\n",
       "      <td>3</td>\n",
       "      <td>2.2</td>\n",
       "    </tr>\n",
       "    <tr>\n",
       "      <th>144</th>\n",
       "      <td>0</td>\n",
       "      <td>2022-05-19</td>\n",
       "      <td>1</td>\n",
       "      <td>1.0</td>\n",
       "      <td>1.1 v 2.2</td>\n",
       "      <td>NaN</td>\n",
       "      <td>{1.1, 2.2}</td>\n",
       "      <td>trial 4 winner</td>\n",
       "      <td>1.1</td>\n",
       "      <td>4</td>\n",
       "      <td>2.2</td>\n",
       "    </tr>\n",
       "    <tr>\n",
       "      <th>192</th>\n",
       "      <td>0</td>\n",
       "      <td>2022-05-19</td>\n",
       "      <td>1</td>\n",
       "      <td>1.0</td>\n",
       "      <td>1.1 v 2.2</td>\n",
       "      <td>NaN</td>\n",
       "      <td>{1.1, 2.2}</td>\n",
       "      <td>trial 5 winner</td>\n",
       "      <td>2.2</td>\n",
       "      <td>5</td>\n",
       "      <td>1.1</td>\n",
       "    </tr>\n",
       "  </tbody>\n",
       "</table>\n",
       "</div>"
      ],
      "text/plain": [
       "     index       date  cage  box      match  scorer  animal_ids  \\\n",
       "0        0 2022-05-19     1  1.0  1.1 v 2.2     NaN  {1.1, 2.2}   \n",
       "48       0 2022-05-19     1  1.0  1.1 v 2.2     NaN  {1.1, 2.2}   \n",
       "96       0 2022-05-19     1  1.0  1.1 v 2.2     NaN  {1.1, 2.2}   \n",
       "144      0 2022-05-19     1  1.0  1.1 v 2.2     NaN  {1.1, 2.2}   \n",
       "192      0 2022-05-19     1  1.0  1.1 v 2.2     NaN  {1.1, 2.2}   \n",
       "\n",
       "              trial winner  trial_number loser  \n",
       "0    trial 1 winner    1.1             1   2.2  \n",
       "48   trial 2 winner    1.1             2   2.2  \n",
       "96   trial 3 winner    1.1             3   2.2  \n",
       "144  trial 4 winner    1.1             4   2.2  \n",
       "192  trial 5 winner    2.2             5   1.1  "
      ]
     },
     "execution_count": 59,
     "metadata": {},
     "output_type": "execute_result"
    }
   ],
   "source": [
    "melted_reward_competition_df.head(n=5)"
   ]
  },
  {
   "cell_type": "code",
   "execution_count": 60,
   "id": "de0878ec",
   "metadata": {},
   "outputs": [
    {
     "data": {
      "text/html": [
       "<div>\n",
       "<style scoped>\n",
       "    .dataframe tbody tr th:only-of-type {\n",
       "        vertical-align: middle;\n",
       "    }\n",
       "\n",
       "    .dataframe tbody tr th {\n",
       "        vertical-align: top;\n",
       "    }\n",
       "\n",
       "    .dataframe thead th {\n",
       "        text-align: right;\n",
       "    }\n",
       "</style>\n",
       "<table border=\"1\" class=\"dataframe\">\n",
       "  <thead>\n",
       "    <tr style=\"text-align: right;\">\n",
       "      <th></th>\n",
       "      <th>index</th>\n",
       "      <th>date</th>\n",
       "      <th>cage</th>\n",
       "      <th>box</th>\n",
       "      <th>match</th>\n",
       "      <th>scorer</th>\n",
       "      <th>animal_ids</th>\n",
       "      <th>trial</th>\n",
       "      <th>winner</th>\n",
       "      <th>trial_number</th>\n",
       "      <th>loser</th>\n",
       "    </tr>\n",
       "  </thead>\n",
       "  <tbody>\n",
       "    <tr>\n",
       "      <th>719</th>\n",
       "      <td>47</td>\n",
       "      <td>2022-05-20</td>\n",
       "      <td>4</td>\n",
       "      <td>1.0</td>\n",
       "      <td>4.3 (3) v 4.4 (4)</td>\n",
       "      <td>NaN</td>\n",
       "      <td>{4.4 (4), 4.3 (3)}</td>\n",
       "      <td>trial 15 winner</td>\n",
       "      <td>4.3 (3)</td>\n",
       "      <td>15</td>\n",
       "      <td>4.4 (4)</td>\n",
       "    </tr>\n",
       "    <tr>\n",
       "      <th>767</th>\n",
       "      <td>47</td>\n",
       "      <td>2022-05-20</td>\n",
       "      <td>4</td>\n",
       "      <td>1.0</td>\n",
       "      <td>4.3 (3) v 4.4 (4)</td>\n",
       "      <td>NaN</td>\n",
       "      <td>{4.4 (4), 4.3 (3)}</td>\n",
       "      <td>trial 16 winner</td>\n",
       "      <td>4.3 (3)</td>\n",
       "      <td>16</td>\n",
       "      <td>4.4 (4)</td>\n",
       "    </tr>\n",
       "    <tr>\n",
       "      <th>815</th>\n",
       "      <td>47</td>\n",
       "      <td>2022-05-20</td>\n",
       "      <td>4</td>\n",
       "      <td>1.0</td>\n",
       "      <td>4.3 (3) v 4.4 (4)</td>\n",
       "      <td>NaN</td>\n",
       "      <td>{4.4 (4), 4.3 (3)}</td>\n",
       "      <td>trial 17 winner</td>\n",
       "      <td>4.4 (4)</td>\n",
       "      <td>17</td>\n",
       "      <td>4.3 (3)</td>\n",
       "    </tr>\n",
       "    <tr>\n",
       "      <th>911</th>\n",
       "      <td>47</td>\n",
       "      <td>2022-05-20</td>\n",
       "      <td>4</td>\n",
       "      <td>1.0</td>\n",
       "      <td>4.3 (3) v 4.4 (4)</td>\n",
       "      <td>NaN</td>\n",
       "      <td>{4.4 (4), 4.3 (3)}</td>\n",
       "      <td>trial 19 winner</td>\n",
       "      <td>4.4 (4)</td>\n",
       "      <td>19</td>\n",
       "      <td>4.3 (3)</td>\n",
       "    </tr>\n",
       "    <tr>\n",
       "      <th>959</th>\n",
       "      <td>47</td>\n",
       "      <td>2022-05-20</td>\n",
       "      <td>4</td>\n",
       "      <td>1.0</td>\n",
       "      <td>4.3 (3) v 4.4 (4)</td>\n",
       "      <td>NaN</td>\n",
       "      <td>{4.4 (4), 4.3 (3)}</td>\n",
       "      <td>trial 20 winner</td>\n",
       "      <td>4.3 (3)</td>\n",
       "      <td>20</td>\n",
       "      <td>4.4 (4)</td>\n",
       "    </tr>\n",
       "  </tbody>\n",
       "</table>\n",
       "</div>"
      ],
      "text/plain": [
       "     index       date  cage  box              match  scorer  \\\n",
       "719     47 2022-05-20     4  1.0  4.3 (3) v 4.4 (4)     NaN   \n",
       "767     47 2022-05-20     4  1.0  4.3 (3) v 4.4 (4)     NaN   \n",
       "815     47 2022-05-20     4  1.0  4.3 (3) v 4.4 (4)     NaN   \n",
       "911     47 2022-05-20     4  1.0  4.3 (3) v 4.4 (4)     NaN   \n",
       "959     47 2022-05-20     4  1.0  4.3 (3) v 4.4 (4)     NaN   \n",
       "\n",
       "             animal_ids            trial   winner  trial_number    loser  \n",
       "719  {4.4 (4), 4.3 (3)}  trial 15 winner  4.3 (3)            15  4.4 (4)  \n",
       "767  {4.4 (4), 4.3 (3)}  trial 16 winner  4.3 (3)            16  4.4 (4)  \n",
       "815  {4.4 (4), 4.3 (3)}  trial 17 winner  4.4 (4)            17  4.3 (3)  \n",
       "911  {4.4 (4), 4.3 (3)}  trial 19 winner  4.4 (4)            19  4.3 (3)  \n",
       "959  {4.4 (4), 4.3 (3)}  trial 20 winner  4.3 (3)            20  4.4 (4)  "
      ]
     },
     "execution_count": 60,
     "metadata": {},
     "output_type": "execute_result"
    }
   ],
   "source": [
    "melted_reward_competition_df.tail(n=5)"
   ]
  },
  {
   "cell_type": "markdown",
   "id": "cf5ec39f",
   "metadata": {},
   "source": [
    "## Calculating ELO Score"
   ]
  },
  {
   "cell_type": "markdown",
   "id": "5b2390aa",
   "metadata": {},
   "source": [
    "- Example calculation"
   ]
  },
  {
   "cell_type": "code",
   "execution_count": 61,
   "id": "e334d47f",
   "metadata": {},
   "outputs": [
    {
     "data": {
      "text/plain": [
       "1019.9"
      ]
     },
     "execution_count": 61,
     "metadata": {},
     "output_type": "execute_result"
    }
   ],
   "source": [
    "eloscore.calculate_elo_score(subject_elo_score=1000, agent_elo_score=2000)"
   ]
  },
  {
   "cell_type": "markdown",
   "id": "671cfc52",
   "metadata": {},
   "source": [
    "# TODO: Find a way to account for ties"
   ]
  },
  {
   "cell_type": "markdown",
   "id": "3412a5c0",
   "metadata": {},
   "source": [
    "## Get the Elo score for all the events"
   ]
  },
  {
   "cell_type": "code",
   "execution_count": 62,
   "id": "5130bfce",
   "metadata": {},
   "outputs": [
    {
     "data": {
      "text/plain": [
       "defaultdict(<function eloscore.eloscore.update_elo_score.<locals>.<lambda>()>,\n",
       "            {'A': 1010.0, 'B': 990.0})"
      ]
     },
     "execution_count": 62,
     "metadata": {},
     "output_type": "execute_result"
    }
   ],
   "source": [
    "eloscore.update_elo_score(winner_id=\"A\", loser_id=\"B\")"
   ]
  },
  {
   "cell_type": "markdown",
   "id": "bfa74955",
   "metadata": {},
   "source": [
    "- Function that creates a dictionary that has the original/updated elo score for each event"
   ]
  },
  {
   "cell_type": "code",
   "execution_count": 63,
   "id": "41bbc15e",
   "metadata": {},
   "outputs": [],
   "source": [
    "cage_to_elo_score_dict = defaultdict(dict)\n",
    "for cage in melted_reward_competition_df[\"cage\"].unique():\n",
    "    cage_df = melted_reward_competition_df[melted_reward_competition_df[\"cage\"] == cage]\n",
    "    cage_to_elo_score_dict[cage] = eloscore.iterate_elo_score_calculation_for_dataframe(dataframe=cage_df, winner_column=\"winner\", loser_column=\"loser\", additional_columns=[\"index\", \"date\", \"cage\", \"box\", \"match\", \"scorer\", \"animal_ids\", \"trial\", \"trial_number\"])"
   ]
  },
  {
   "cell_type": "code",
   "execution_count": 64,
   "id": "26069f8f",
   "metadata": {},
   "outputs": [
    {
     "data": {
      "text/plain": [
       "dict_keys([1, 2, 3, 4])"
      ]
     },
     "execution_count": 64,
     "metadata": {},
     "output_type": "execute_result"
    }
   ],
   "source": [
    "cage_to_elo_score_dict.keys()"
   ]
  },
  {
   "cell_type": "code",
   "execution_count": 65,
   "id": "01d3b5b1",
   "metadata": {},
   "outputs": [
    {
     "data": {
      "text/plain": [
       "{'total_match_number': 1,\n",
       " 'subject_id': '1.1',\n",
       " 'agent_id': '2.2',\n",
       " 'original_elo_score': 1000,\n",
       " 'updated_elo_score': 1010.0,\n",
       " 'win_draw_loss': 1,\n",
       " 'index': 0,\n",
       " 'date': Timestamp('2022-05-19 00:00:00'),\n",
       " 'cage': 1,\n",
       " 'box': 1.0,\n",
       " 'match': '1.1 v 2.2',\n",
       " 'scorer': nan,\n",
       " 'animal_ids': {'1.1', '2.2'},\n",
       " 'trial': 'trial 1 winner',\n",
       " 'trial_number': 1}"
      ]
     },
     "execution_count": 65,
     "metadata": {},
     "output_type": "execute_result"
    }
   ],
   "source": [
    "cage_to_elo_score_dict[list(cage_to_elo_score_dict.keys())[0]][0]"
   ]
  },
  {
   "cell_type": "markdown",
   "id": "badfdb05",
   "metadata": {},
   "source": [
    "- Turning the dictionary into a dataframe"
   ]
  },
  {
   "cell_type": "code",
   "execution_count": 66,
   "id": "789985f4",
   "metadata": {},
   "outputs": [
    {
     "name": "stdout",
     "output_type": "stream",
     "text": [
      "     total_trial_number  total_match_number subject_id agent_id  \\\n",
      "0                     0                   1        1.1      2.2   \n",
      "1                     1                   1        2.2      1.1   \n",
      "2                     2                   2        1.1      2.2   \n",
      "3                     3                   2        2.2      1.1   \n",
      "4                     4                   3        1.1      2.2   \n",
      "..                  ...                 ...        ...      ...   \n",
      "429                 429                 215        2.3      1.4   \n",
      "430                 430                 216        1.4      2.3   \n",
      "431                 431                 216        2.3      1.4   \n",
      "432                 432                 217        2.3      1.4   \n",
      "433                 433                 217        1.4      2.3   \n",
      "\n",
      "     original_elo_score  updated_elo_score  win_draw_loss  index       date  \\\n",
      "0                1000.0             1010.0              1      0 2022-05-19   \n",
      "1                1000.0              990.0              0      0 2022-05-19   \n",
      "2                1010.0             1019.4              1      0 2022-05-19   \n",
      "3                 990.0              980.6              0      0 2022-05-19   \n",
      "4                1019.4             1028.3              1      0 2022-05-19   \n",
      "..                  ...                ...            ...    ...        ...   \n",
      "429               908.3              898.9              0     11 2022-05-20   \n",
      "430               940.1              948.9              1     11 2022-05-20   \n",
      "431               898.9              890.1              0     11 2022-05-20   \n",
      "432               890.1              901.8              1     11 2022-05-20   \n",
      "433               948.9              937.2              0     11 2022-05-20   \n",
      "\n",
      "     cage  box      match  scorer  animal_ids            trial  trial_number  \n",
      "0       1  1.0  1.1 v 2.2     NaN  {1.1, 2.2}   trial 1 winner             1  \n",
      "1       1  1.0  1.1 v 2.2     NaN  {1.1, 2.2}   trial 1 winner             1  \n",
      "2       1  1.0  1.1 v 2.2     NaN  {1.1, 2.2}   trial 2 winner             2  \n",
      "3       1  1.0  1.1 v 2.2     NaN  {1.1, 2.2}   trial 2 winner             2  \n",
      "4       1  1.0  1.1 v 2.2     NaN  {1.1, 2.2}   trial 3 winner             3  \n",
      "..    ...  ...        ...     ...         ...              ...           ...  \n",
      "429     1  3.0  2.3 v 1.4     NaN  {1.4, 2.3}  trial 18 winner            18  \n",
      "430     1  3.0  2.3 v 1.4     NaN  {1.4, 2.3}  trial 19 winner            19  \n",
      "431     1  3.0  2.3 v 1.4     NaN  {1.4, 2.3}  trial 19 winner            19  \n",
      "432     1  3.0  2.3 v 1.4     NaN  {1.4, 2.3}  trial 20 winner            20  \n",
      "433     1  3.0  2.3 v 1.4     NaN  {1.4, 2.3}  trial 20 winner            20  \n",
      "\n",
      "[434 rows x 16 columns]\n",
      "     total_trial_number  total_match_number subject_id agent_id  \\\n",
      "0                     0                   1        2.1      1.2   \n",
      "1                     1                   1        1.2      2.1   \n",
      "2                     2                   2        2.1      1.2   \n",
      "3                     3                   2        1.2      2.1   \n",
      "4                     4                   3        1.2      2.1   \n",
      "..                  ...                 ...        ...      ...   \n",
      "421                 421                 211        1.3      2.4   \n",
      "422                 422                 212        2.4      1.3   \n",
      "423                 423                 212        1.3      2.4   \n",
      "424                 424                 213        2.4      1.3   \n",
      "425                 425                 213        1.3      2.4   \n",
      "\n",
      "     original_elo_score  updated_elo_score  win_draw_loss  index       date  \\\n",
      "0                1000.0             1010.0              1     12 2022-05-19   \n",
      "1                1000.0              990.0              0     12 2022-05-19   \n",
      "2                1010.0             1019.4              1     12 2022-05-19   \n",
      "3                 990.0              980.6              0     12 2022-05-19   \n",
      "4                 980.6              991.7              1     12 2022-05-19   \n",
      "..                  ...                ...            ...    ...        ...   \n",
      "421              1001.4              991.6              0     23 2022-05-20   \n",
      "422              1018.4             1027.6              1     23 2022-05-20   \n",
      "423               991.6              982.4              0     23 2022-05-20   \n",
      "424              1027.6             1036.3              1     23 2022-05-20   \n",
      "425               982.4              973.7              0     23 2022-05-20   \n",
      "\n",
      "     cage  box      match  scorer  animal_ids            trial  trial_number  \n",
      "0       2  3.0  2.1 v 1.2     NaN  {1.2, 2.1}   trial 1 winner             1  \n",
      "1       2  3.0  2.1 v 1.2     NaN  {1.2, 2.1}   trial 1 winner             1  \n",
      "2       2  3.0  2.1 v 1.2     NaN  {1.2, 2.1}   trial 2 winner             2  \n",
      "3       2  3.0  2.1 v 1.2     NaN  {1.2, 2.1}   trial 2 winner             2  \n",
      "4       2  3.0  2.1 v 1.2     NaN  {1.2, 2.1}   trial 3 winner             3  \n",
      "..    ...  ...        ...     ...         ...              ...           ...  \n",
      "421     2  1.0  1.3 v 2.4     NaN  {2.4, 1.3}  trial 18 winner            18  \n",
      "422     2  1.0  1.3 v 2.4     NaN  {2.4, 1.3}  trial 19 winner            19  \n",
      "423     2  1.0  1.3 v 2.4     NaN  {2.4, 1.3}  trial 19 winner            19  \n",
      "424     2  1.0  1.3 v 2.4     NaN  {2.4, 1.3}  trial 20 winner            20  \n",
      "425     2  1.0  1.3 v 2.4     NaN  {2.4, 1.3}  trial 20 winner            20  \n",
      "\n",
      "[426 rows x 16 columns]\n",
      "     total_trial_number  total_match_number subject_id agent_id  \\\n",
      "0                     0                   1    4.1 (1)  3.2 (2)   \n",
      "1                     1                   1    3.2 (2)  4.1 (1)   \n",
      "2                     2                   2    4.1 (1)  3.2 (2)   \n",
      "3                     3                   2    3.2 (2)  4.1 (1)   \n",
      "4                     4                   3    3.2 (2)  4.1 (1)   \n",
      "..                  ...                 ...        ...      ...   \n",
      "445                 445                 223    3.3 (4)  4.1 (1)   \n",
      "446                 446                 224    4.1 (1)  3.3 (4)   \n",
      "447                 447                 224    3.3 (4)  4.1 (1)   \n",
      "448                 448                 225    4.1 (1)  3.3 (4)   \n",
      "449                 449                 225    3.3 (4)  4.1 (1)   \n",
      "\n",
      "     original_elo_score  updated_elo_score  win_draw_loss  index       date  \\\n",
      "0                1000.0             1010.0              1     24 2022-05-19   \n",
      "1                1000.0              990.0              0     24 2022-05-19   \n",
      "2                1010.0             1019.4              1     24 2022-05-19   \n",
      "3                 990.0              980.6              0     24 2022-05-19   \n",
      "4                 980.6              991.7              1     24 2022-05-19   \n",
      "..                  ...                ...            ...    ...        ...   \n",
      "445               946.4              940.9              0     35 2022-05-20   \n",
      "446              1121.0             1126.2              1     35 2022-05-20   \n",
      "447               940.9              935.7              0     35 2022-05-20   \n",
      "448              1126.2             1131.2              1     35 2022-05-20   \n",
      "449               935.7              930.7              0     35 2022-05-20   \n",
      "\n",
      "     cage  box              match  scorer          animal_ids  \\\n",
      "0       3  1.0  4.1 (1) v 3.2 (2)     NaN  {3.2 (2), 4.1 (1)}   \n",
      "1       3  1.0  4.1 (1) v 3.2 (2)     NaN  {3.2 (2), 4.1 (1)}   \n",
      "2       3  1.0  4.1 (1) v 3.2 (2)     NaN  {3.2 (2), 4.1 (1)}   \n",
      "3       3  1.0  4.1 (1) v 3.2 (2)     NaN  {3.2 (2), 4.1 (1)}   \n",
      "4       3  1.0  4.1 (1) v 3.2 (2)     NaN  {3.2 (2), 4.1 (1)}   \n",
      "..    ...  ...                ...     ...                 ...   \n",
      "445     3  1.4  4.1 (1) v 3.3 (4)     NaN  {3.3 (4), 4.1 (1)}   \n",
      "446     3  1.4  4.1 (1) v 3.3 (4)     NaN  {3.3 (4), 4.1 (1)}   \n",
      "447     3  1.4  4.1 (1) v 3.3 (4)     NaN  {3.3 (4), 4.1 (1)}   \n",
      "448     3  1.4  4.1 (1) v 3.3 (4)     NaN  {3.3 (4), 4.1 (1)}   \n",
      "449     3  1.4  4.1 (1) v 3.3 (4)     NaN  {3.3 (4), 4.1 (1)}   \n",
      "\n",
      "               trial  trial_number  \n",
      "0     trial 1 winner             1  \n",
      "1     trial 1 winner             1  \n",
      "2     trial 2 winner             2  \n",
      "3     trial 2 winner             2  \n",
      "4     trial 3 winner             3  \n",
      "..               ...           ...  \n",
      "445  trial 18 winner            18  \n",
      "446  trial 19 winner            19  \n",
      "447  trial 19 winner            19  \n",
      "448  trial 20 winner            20  \n",
      "449  trial 20 winner            20  \n",
      "\n",
      "[450 rows x 16 columns]\n",
      "     total_trial_number  total_match_number subject_id agent_id  \\\n",
      "0                     0                   1    3.1 (1)  3.4 (2)   \n",
      "1                     1                   1    3.4 (2)  3.1 (1)   \n",
      "2                     2                   2    3.1 (1)  3.4 (2)   \n",
      "3                     3                   2    3.4 (2)  3.1 (1)   \n",
      "4                     4                   3    3.1 (1)  3.4 (2)   \n",
      "..                  ...                 ...        ...      ...   \n",
      "433                 433                 217    4.3 (3)  4.4 (4)   \n",
      "434                 434                 218    4.4 (4)  4.3 (3)   \n",
      "435                 435                 218    4.3 (3)  4.4 (4)   \n",
      "436                 436                 219    4.3 (3)  4.4 (4)   \n",
      "437                 437                 219    4.4 (4)  4.3 (3)   \n",
      "\n",
      "     original_elo_score  updated_elo_score  win_draw_loss  index       date  \\\n",
      "0                1000.0             1010.0              1     36 2022-05-19   \n",
      "1                1000.0              990.0              0     36 2022-05-19   \n",
      "2                1010.0             1019.4              1     36 2022-05-19   \n",
      "3                 990.0              980.6              0     36 2022-05-19   \n",
      "4                1019.4             1028.3              1     36 2022-05-19   \n",
      "..                  ...                ...            ...    ...        ...   \n",
      "433               964.9              957.5              0     47 2022-05-20   \n",
      "434              1065.4             1072.4              1     47 2022-05-20   \n",
      "435               957.5              950.5              0     47 2022-05-20   \n",
      "436               950.5              963.9              1     47 2022-05-20   \n",
      "437              1072.4             1059.0              0     47 2022-05-20   \n",
      "\n",
      "     cage  box              match  scorer          animal_ids  \\\n",
      "0       4  3.0  3.1 (1) v 3.4 (2)     NaN  {3.4 (2), 3.1 (1)}   \n",
      "1       4  3.0  3.1 (1) v 3.4 (2)     NaN  {3.4 (2), 3.1 (1)}   \n",
      "2       4  3.0  3.1 (1) v 3.4 (2)     NaN  {3.4 (2), 3.1 (1)}   \n",
      "3       4  3.0  3.1 (1) v 3.4 (2)     NaN  {3.4 (2), 3.1 (1)}   \n",
      "4       4  3.0  3.1 (1) v 3.4 (2)     NaN  {3.4 (2), 3.1 (1)}   \n",
      "..    ...  ...                ...     ...                 ...   \n",
      "433     4  1.0  4.3 (3) v 4.4 (4)     NaN  {4.4 (4), 4.3 (3)}   \n",
      "434     4  1.0  4.3 (3) v 4.4 (4)     NaN  {4.4 (4), 4.3 (3)}   \n",
      "435     4  1.0  4.3 (3) v 4.4 (4)     NaN  {4.4 (4), 4.3 (3)}   \n",
      "436     4  1.0  4.3 (3) v 4.4 (4)     NaN  {4.4 (4), 4.3 (3)}   \n",
      "437     4  1.0  4.3 (3) v 4.4 (4)     NaN  {4.4 (4), 4.3 (3)}   \n",
      "\n",
      "               trial  trial_number  \n",
      "0     trial 1 winner             1  \n",
      "1     trial 1 winner             1  \n",
      "2     trial 2 winner             2  \n",
      "3     trial 2 winner             2  \n",
      "4     trial 3 winner             3  \n",
      "..               ...           ...  \n",
      "433  trial 17 winner            17  \n",
      "434  trial 19 winner            19  \n",
      "435  trial 19 winner            19  \n",
      "436  trial 20 winner            20  \n",
      "437  trial 20 winner            20  \n",
      "\n",
      "[438 rows x 16 columns]\n"
     ]
    }
   ],
   "source": [
    "all_cage_elo_score_list = []\n",
    "for key in cage_to_elo_score_dict.keys():\n",
    "    cage_elo_score_df = pd.DataFrame.from_dict(cage_to_elo_score_dict[key], orient=\"index\")\n",
    "    cage_elo_score_df.insert(0, 'total_trial_number', range(0, 0 + len(cage_elo_score_df)))\n",
    "    print(cage_elo_score_df)\n",
    "    all_cage_elo_score_list.append(cage_elo_score_df)\n"
   ]
  },
  {
   "cell_type": "code",
   "execution_count": 67,
   "id": "53f66bb5",
   "metadata": {},
   "outputs": [],
   "source": [
    "all_cage_elo_score_df = pd.concat(all_cage_elo_score_list)"
   ]
  },
  {
   "cell_type": "code",
   "execution_count": 68,
   "id": "cfba525f",
   "metadata": {
    "scrolled": true
   },
   "outputs": [
    {
     "data": {
      "text/html": [
       "<div>\n",
       "<style scoped>\n",
       "    .dataframe tbody tr th:only-of-type {\n",
       "        vertical-align: middle;\n",
       "    }\n",
       "\n",
       "    .dataframe tbody tr th {\n",
       "        vertical-align: top;\n",
       "    }\n",
       "\n",
       "    .dataframe thead th {\n",
       "        text-align: right;\n",
       "    }\n",
       "</style>\n",
       "<table border=\"1\" class=\"dataframe\">\n",
       "  <thead>\n",
       "    <tr style=\"text-align: right;\">\n",
       "      <th></th>\n",
       "      <th>total_trial_number</th>\n",
       "      <th>total_match_number</th>\n",
       "      <th>subject_id</th>\n",
       "      <th>agent_id</th>\n",
       "      <th>original_elo_score</th>\n",
       "      <th>updated_elo_score</th>\n",
       "      <th>win_draw_loss</th>\n",
       "      <th>index</th>\n",
       "      <th>date</th>\n",
       "      <th>cage</th>\n",
       "      <th>box</th>\n",
       "      <th>match</th>\n",
       "      <th>scorer</th>\n",
       "      <th>animal_ids</th>\n",
       "      <th>trial</th>\n",
       "      <th>trial_number</th>\n",
       "    </tr>\n",
       "  </thead>\n",
       "  <tbody>\n",
       "    <tr>\n",
       "      <th>0</th>\n",
       "      <td>0</td>\n",
       "      <td>1</td>\n",
       "      <td>1.1</td>\n",
       "      <td>2.2</td>\n",
       "      <td>1000.0</td>\n",
       "      <td>1010.0</td>\n",
       "      <td>1</td>\n",
       "      <td>0</td>\n",
       "      <td>2022-05-19</td>\n",
       "      <td>1</td>\n",
       "      <td>1.0</td>\n",
       "      <td>1.1 v 2.2</td>\n",
       "      <td>NaN</td>\n",
       "      <td>{1.1, 2.2}</td>\n",
       "      <td>trial 1 winner</td>\n",
       "      <td>1</td>\n",
       "    </tr>\n",
       "    <tr>\n",
       "      <th>1</th>\n",
       "      <td>1</td>\n",
       "      <td>1</td>\n",
       "      <td>2.2</td>\n",
       "      <td>1.1</td>\n",
       "      <td>1000.0</td>\n",
       "      <td>990.0</td>\n",
       "      <td>0</td>\n",
       "      <td>0</td>\n",
       "      <td>2022-05-19</td>\n",
       "      <td>1</td>\n",
       "      <td>1.0</td>\n",
       "      <td>1.1 v 2.2</td>\n",
       "      <td>NaN</td>\n",
       "      <td>{1.1, 2.2}</td>\n",
       "      <td>trial 1 winner</td>\n",
       "      <td>1</td>\n",
       "    </tr>\n",
       "    <tr>\n",
       "      <th>2</th>\n",
       "      <td>2</td>\n",
       "      <td>2</td>\n",
       "      <td>1.1</td>\n",
       "      <td>2.2</td>\n",
       "      <td>1010.0</td>\n",
       "      <td>1019.4</td>\n",
       "      <td>1</td>\n",
       "      <td>0</td>\n",
       "      <td>2022-05-19</td>\n",
       "      <td>1</td>\n",
       "      <td>1.0</td>\n",
       "      <td>1.1 v 2.2</td>\n",
       "      <td>NaN</td>\n",
       "      <td>{1.1, 2.2}</td>\n",
       "      <td>trial 2 winner</td>\n",
       "      <td>2</td>\n",
       "    </tr>\n",
       "    <tr>\n",
       "      <th>3</th>\n",
       "      <td>3</td>\n",
       "      <td>2</td>\n",
       "      <td>2.2</td>\n",
       "      <td>1.1</td>\n",
       "      <td>990.0</td>\n",
       "      <td>980.6</td>\n",
       "      <td>0</td>\n",
       "      <td>0</td>\n",
       "      <td>2022-05-19</td>\n",
       "      <td>1</td>\n",
       "      <td>1.0</td>\n",
       "      <td>1.1 v 2.2</td>\n",
       "      <td>NaN</td>\n",
       "      <td>{1.1, 2.2}</td>\n",
       "      <td>trial 2 winner</td>\n",
       "      <td>2</td>\n",
       "    </tr>\n",
       "    <tr>\n",
       "      <th>4</th>\n",
       "      <td>4</td>\n",
       "      <td>3</td>\n",
       "      <td>1.1</td>\n",
       "      <td>2.2</td>\n",
       "      <td>1019.4</td>\n",
       "      <td>1028.3</td>\n",
       "      <td>1</td>\n",
       "      <td>0</td>\n",
       "      <td>2022-05-19</td>\n",
       "      <td>1</td>\n",
       "      <td>1.0</td>\n",
       "      <td>1.1 v 2.2</td>\n",
       "      <td>NaN</td>\n",
       "      <td>{1.1, 2.2}</td>\n",
       "      <td>trial 3 winner</td>\n",
       "      <td>3</td>\n",
       "    </tr>\n",
       "  </tbody>\n",
       "</table>\n",
       "</div>"
      ],
      "text/plain": [
       "   total_trial_number  total_match_number subject_id agent_id  \\\n",
       "0                   0                   1        1.1      2.2   \n",
       "1                   1                   1        2.2      1.1   \n",
       "2                   2                   2        1.1      2.2   \n",
       "3                   3                   2        2.2      1.1   \n",
       "4                   4                   3        1.1      2.2   \n",
       "\n",
       "   original_elo_score  updated_elo_score  win_draw_loss  index       date  \\\n",
       "0              1000.0             1010.0              1      0 2022-05-19   \n",
       "1              1000.0              990.0              0      0 2022-05-19   \n",
       "2              1010.0             1019.4              1      0 2022-05-19   \n",
       "3               990.0              980.6              0      0 2022-05-19   \n",
       "4              1019.4             1028.3              1      0 2022-05-19   \n",
       "\n",
       "   cage  box      match  scorer  animal_ids           trial  trial_number  \n",
       "0     1  1.0  1.1 v 2.2     NaN  {1.1, 2.2}  trial 1 winner             1  \n",
       "1     1  1.0  1.1 v 2.2     NaN  {1.1, 2.2}  trial 1 winner             1  \n",
       "2     1  1.0  1.1 v 2.2     NaN  {1.1, 2.2}  trial 2 winner             2  \n",
       "3     1  1.0  1.1 v 2.2     NaN  {1.1, 2.2}  trial 2 winner             2  \n",
       "4     1  1.0  1.1 v 2.2     NaN  {1.1, 2.2}  trial 3 winner             3  "
      ]
     },
     "execution_count": 68,
     "metadata": {},
     "output_type": "execute_result"
    }
   ],
   "source": [
    "all_cage_elo_score_df.head()"
   ]
  },
  {
   "cell_type": "code",
   "execution_count": 69,
   "id": "04bb8bad",
   "metadata": {
    "scrolled": true
   },
   "outputs": [
    {
     "data": {
      "text/html": [
       "<div>\n",
       "<style scoped>\n",
       "    .dataframe tbody tr th:only-of-type {\n",
       "        vertical-align: middle;\n",
       "    }\n",
       "\n",
       "    .dataframe tbody tr th {\n",
       "        vertical-align: top;\n",
       "    }\n",
       "\n",
       "    .dataframe thead th {\n",
       "        text-align: right;\n",
       "    }\n",
       "</style>\n",
       "<table border=\"1\" class=\"dataframe\">\n",
       "  <thead>\n",
       "    <tr style=\"text-align: right;\">\n",
       "      <th></th>\n",
       "      <th>total_trial_number</th>\n",
       "      <th>total_match_number</th>\n",
       "      <th>subject_id</th>\n",
       "      <th>agent_id</th>\n",
       "      <th>original_elo_score</th>\n",
       "      <th>updated_elo_score</th>\n",
       "      <th>win_draw_loss</th>\n",
       "      <th>index</th>\n",
       "      <th>date</th>\n",
       "      <th>cage</th>\n",
       "      <th>box</th>\n",
       "      <th>match</th>\n",
       "      <th>scorer</th>\n",
       "      <th>animal_ids</th>\n",
       "      <th>trial</th>\n",
       "      <th>trial_number</th>\n",
       "    </tr>\n",
       "  </thead>\n",
       "  <tbody>\n",
       "    <tr>\n",
       "      <th>433</th>\n",
       "      <td>433</td>\n",
       "      <td>217</td>\n",
       "      <td>4.3 (3)</td>\n",
       "      <td>4.4 (4)</td>\n",
       "      <td>964.9</td>\n",
       "      <td>957.5</td>\n",
       "      <td>0</td>\n",
       "      <td>47</td>\n",
       "      <td>2022-05-20</td>\n",
       "      <td>4</td>\n",
       "      <td>1.0</td>\n",
       "      <td>4.3 (3) v 4.4 (4)</td>\n",
       "      <td>NaN</td>\n",
       "      <td>{4.4 (4), 4.3 (3)}</td>\n",
       "      <td>trial 17 winner</td>\n",
       "      <td>17</td>\n",
       "    </tr>\n",
       "    <tr>\n",
       "      <th>434</th>\n",
       "      <td>434</td>\n",
       "      <td>218</td>\n",
       "      <td>4.4 (4)</td>\n",
       "      <td>4.3 (3)</td>\n",
       "      <td>1065.4</td>\n",
       "      <td>1072.4</td>\n",
       "      <td>1</td>\n",
       "      <td>47</td>\n",
       "      <td>2022-05-20</td>\n",
       "      <td>4</td>\n",
       "      <td>1.0</td>\n",
       "      <td>4.3 (3) v 4.4 (4)</td>\n",
       "      <td>NaN</td>\n",
       "      <td>{4.4 (4), 4.3 (3)}</td>\n",
       "      <td>trial 19 winner</td>\n",
       "      <td>19</td>\n",
       "    </tr>\n",
       "    <tr>\n",
       "      <th>435</th>\n",
       "      <td>435</td>\n",
       "      <td>218</td>\n",
       "      <td>4.3 (3)</td>\n",
       "      <td>4.4 (4)</td>\n",
       "      <td>957.5</td>\n",
       "      <td>950.5</td>\n",
       "      <td>0</td>\n",
       "      <td>47</td>\n",
       "      <td>2022-05-20</td>\n",
       "      <td>4</td>\n",
       "      <td>1.0</td>\n",
       "      <td>4.3 (3) v 4.4 (4)</td>\n",
       "      <td>NaN</td>\n",
       "      <td>{4.4 (4), 4.3 (3)}</td>\n",
       "      <td>trial 19 winner</td>\n",
       "      <td>19</td>\n",
       "    </tr>\n",
       "    <tr>\n",
       "      <th>436</th>\n",
       "      <td>436</td>\n",
       "      <td>219</td>\n",
       "      <td>4.3 (3)</td>\n",
       "      <td>4.4 (4)</td>\n",
       "      <td>950.5</td>\n",
       "      <td>963.9</td>\n",
       "      <td>1</td>\n",
       "      <td>47</td>\n",
       "      <td>2022-05-20</td>\n",
       "      <td>4</td>\n",
       "      <td>1.0</td>\n",
       "      <td>4.3 (3) v 4.4 (4)</td>\n",
       "      <td>NaN</td>\n",
       "      <td>{4.4 (4), 4.3 (3)}</td>\n",
       "      <td>trial 20 winner</td>\n",
       "      <td>20</td>\n",
       "    </tr>\n",
       "    <tr>\n",
       "      <th>437</th>\n",
       "      <td>437</td>\n",
       "      <td>219</td>\n",
       "      <td>4.4 (4)</td>\n",
       "      <td>4.3 (3)</td>\n",
       "      <td>1072.4</td>\n",
       "      <td>1059.0</td>\n",
       "      <td>0</td>\n",
       "      <td>47</td>\n",
       "      <td>2022-05-20</td>\n",
       "      <td>4</td>\n",
       "      <td>1.0</td>\n",
       "      <td>4.3 (3) v 4.4 (4)</td>\n",
       "      <td>NaN</td>\n",
       "      <td>{4.4 (4), 4.3 (3)}</td>\n",
       "      <td>trial 20 winner</td>\n",
       "      <td>20</td>\n",
       "    </tr>\n",
       "  </tbody>\n",
       "</table>\n",
       "</div>"
      ],
      "text/plain": [
       "     total_trial_number  total_match_number subject_id agent_id  \\\n",
       "433                 433                 217    4.3 (3)  4.4 (4)   \n",
       "434                 434                 218    4.4 (4)  4.3 (3)   \n",
       "435                 435                 218    4.3 (3)  4.4 (4)   \n",
       "436                 436                 219    4.3 (3)  4.4 (4)   \n",
       "437                 437                 219    4.4 (4)  4.3 (3)   \n",
       "\n",
       "     original_elo_score  updated_elo_score  win_draw_loss  index       date  \\\n",
       "433               964.9              957.5              0     47 2022-05-20   \n",
       "434              1065.4             1072.4              1     47 2022-05-20   \n",
       "435               957.5              950.5              0     47 2022-05-20   \n",
       "436               950.5              963.9              1     47 2022-05-20   \n",
       "437              1072.4             1059.0              0     47 2022-05-20   \n",
       "\n",
       "     cage  box              match  scorer          animal_ids  \\\n",
       "433     4  1.0  4.3 (3) v 4.4 (4)     NaN  {4.4 (4), 4.3 (3)}   \n",
       "434     4  1.0  4.3 (3) v 4.4 (4)     NaN  {4.4 (4), 4.3 (3)}   \n",
       "435     4  1.0  4.3 (3) v 4.4 (4)     NaN  {4.4 (4), 4.3 (3)}   \n",
       "436     4  1.0  4.3 (3) v 4.4 (4)     NaN  {4.4 (4), 4.3 (3)}   \n",
       "437     4  1.0  4.3 (3) v 4.4 (4)     NaN  {4.4 (4), 4.3 (3)}   \n",
       "\n",
       "               trial  trial_number  \n",
       "433  trial 17 winner            17  \n",
       "434  trial 19 winner            19  \n",
       "435  trial 19 winner            19  \n",
       "436  trial 20 winner            20  \n",
       "437  trial 20 winner            20  "
      ]
     },
     "execution_count": 69,
     "metadata": {},
     "output_type": "execute_result"
    }
   ],
   "source": [
    "all_cage_elo_score_df.tail()"
   ]
  },
  {
   "cell_type": "code",
   "execution_count": null,
   "id": "e34316b6",
   "metadata": {},
   "outputs": [],
   "source": []
  },
  {
   "cell_type": "markdown",
   "id": "ac4481a7",
   "metadata": {},
   "source": [
    "## Saving the Elo Score Dataframes"
   ]
  },
  {
   "cell_type": "markdown",
   "id": "1bc6ca45",
   "metadata": {},
   "source": [
    "- Create folders to save processed data"
   ]
  },
  {
   "cell_type": "code",
   "execution_count": null,
   "id": "9d55a191",
   "metadata": {},
   "outputs": [],
   "source": []
  },
  {
   "cell_type": "markdown",
   "id": "d304fffc",
   "metadata": {},
   "source": [
    "- Adding the cage information for each cage"
   ]
  },
  {
   "cell_type": "raw",
   "id": "e3e624c2",
   "metadata": {},
   "source": [
    "all_cage_elo_score_df[\"id_with_cage_number\"] = all_cage_elo_score_df.apply(lambda x: str(x[\"cage\"]) + \".\" + str(x[\"subject_id\"]), axis = 1)\n"
   ]
  },
  {
   "cell_type": "code",
   "execution_count": 70,
   "id": "252b3ace",
   "metadata": {},
   "outputs": [
    {
     "data": {
      "text/html": [
       "<div>\n",
       "<style scoped>\n",
       "    .dataframe tbody tr th:only-of-type {\n",
       "        vertical-align: middle;\n",
       "    }\n",
       "\n",
       "    .dataframe tbody tr th {\n",
       "        vertical-align: top;\n",
       "    }\n",
       "\n",
       "    .dataframe thead th {\n",
       "        text-align: right;\n",
       "    }\n",
       "</style>\n",
       "<table border=\"1\" class=\"dataframe\">\n",
       "  <thead>\n",
       "    <tr style=\"text-align: right;\">\n",
       "      <th></th>\n",
       "      <th>total_trial_number</th>\n",
       "      <th>total_match_number</th>\n",
       "      <th>subject_id</th>\n",
       "      <th>agent_id</th>\n",
       "      <th>original_elo_score</th>\n",
       "      <th>updated_elo_score</th>\n",
       "      <th>win_draw_loss</th>\n",
       "      <th>index</th>\n",
       "      <th>date</th>\n",
       "      <th>cage</th>\n",
       "      <th>box</th>\n",
       "      <th>match</th>\n",
       "      <th>scorer</th>\n",
       "      <th>animal_ids</th>\n",
       "      <th>trial</th>\n",
       "      <th>trial_number</th>\n",
       "    </tr>\n",
       "  </thead>\n",
       "  <tbody>\n",
       "    <tr>\n",
       "      <th>0</th>\n",
       "      <td>0</td>\n",
       "      <td>1</td>\n",
       "      <td>1.1</td>\n",
       "      <td>2.2</td>\n",
       "      <td>1000.0</td>\n",
       "      <td>1010.0</td>\n",
       "      <td>1</td>\n",
       "      <td>0</td>\n",
       "      <td>2022-05-19</td>\n",
       "      <td>1</td>\n",
       "      <td>1.0</td>\n",
       "      <td>1.1 v 2.2</td>\n",
       "      <td>NaN</td>\n",
       "      <td>{1.1, 2.2}</td>\n",
       "      <td>trial 1 winner</td>\n",
       "      <td>1</td>\n",
       "    </tr>\n",
       "    <tr>\n",
       "      <th>1</th>\n",
       "      <td>1</td>\n",
       "      <td>1</td>\n",
       "      <td>2.2</td>\n",
       "      <td>1.1</td>\n",
       "      <td>1000.0</td>\n",
       "      <td>990.0</td>\n",
       "      <td>0</td>\n",
       "      <td>0</td>\n",
       "      <td>2022-05-19</td>\n",
       "      <td>1</td>\n",
       "      <td>1.0</td>\n",
       "      <td>1.1 v 2.2</td>\n",
       "      <td>NaN</td>\n",
       "      <td>{1.1, 2.2}</td>\n",
       "      <td>trial 1 winner</td>\n",
       "      <td>1</td>\n",
       "    </tr>\n",
       "    <tr>\n",
       "      <th>2</th>\n",
       "      <td>2</td>\n",
       "      <td>2</td>\n",
       "      <td>1.1</td>\n",
       "      <td>2.2</td>\n",
       "      <td>1010.0</td>\n",
       "      <td>1019.4</td>\n",
       "      <td>1</td>\n",
       "      <td>0</td>\n",
       "      <td>2022-05-19</td>\n",
       "      <td>1</td>\n",
       "      <td>1.0</td>\n",
       "      <td>1.1 v 2.2</td>\n",
       "      <td>NaN</td>\n",
       "      <td>{1.1, 2.2}</td>\n",
       "      <td>trial 2 winner</td>\n",
       "      <td>2</td>\n",
       "    </tr>\n",
       "    <tr>\n",
       "      <th>3</th>\n",
       "      <td>3</td>\n",
       "      <td>2</td>\n",
       "      <td>2.2</td>\n",
       "      <td>1.1</td>\n",
       "      <td>990.0</td>\n",
       "      <td>980.6</td>\n",
       "      <td>0</td>\n",
       "      <td>0</td>\n",
       "      <td>2022-05-19</td>\n",
       "      <td>1</td>\n",
       "      <td>1.0</td>\n",
       "      <td>1.1 v 2.2</td>\n",
       "      <td>NaN</td>\n",
       "      <td>{1.1, 2.2}</td>\n",
       "      <td>trial 2 winner</td>\n",
       "      <td>2</td>\n",
       "    </tr>\n",
       "    <tr>\n",
       "      <th>4</th>\n",
       "      <td>4</td>\n",
       "      <td>3</td>\n",
       "      <td>1.1</td>\n",
       "      <td>2.2</td>\n",
       "      <td>1019.4</td>\n",
       "      <td>1028.3</td>\n",
       "      <td>1</td>\n",
       "      <td>0</td>\n",
       "      <td>2022-05-19</td>\n",
       "      <td>1</td>\n",
       "      <td>1.0</td>\n",
       "      <td>1.1 v 2.2</td>\n",
       "      <td>NaN</td>\n",
       "      <td>{1.1, 2.2}</td>\n",
       "      <td>trial 3 winner</td>\n",
       "      <td>3</td>\n",
       "    </tr>\n",
       "  </tbody>\n",
       "</table>\n",
       "</div>"
      ],
      "text/plain": [
       "   total_trial_number  total_match_number subject_id agent_id  \\\n",
       "0                   0                   1        1.1      2.2   \n",
       "1                   1                   1        2.2      1.1   \n",
       "2                   2                   2        1.1      2.2   \n",
       "3                   3                   2        2.2      1.1   \n",
       "4                   4                   3        1.1      2.2   \n",
       "\n",
       "   original_elo_score  updated_elo_score  win_draw_loss  index       date  \\\n",
       "0              1000.0             1010.0              1      0 2022-05-19   \n",
       "1              1000.0              990.0              0      0 2022-05-19   \n",
       "2              1010.0             1019.4              1      0 2022-05-19   \n",
       "3               990.0              980.6              0      0 2022-05-19   \n",
       "4              1019.4             1028.3              1      0 2022-05-19   \n",
       "\n",
       "   cage  box      match  scorer  animal_ids           trial  trial_number  \n",
       "0     1  1.0  1.1 v 2.2     NaN  {1.1, 2.2}  trial 1 winner             1  \n",
       "1     1  1.0  1.1 v 2.2     NaN  {1.1, 2.2}  trial 1 winner             1  \n",
       "2     1  1.0  1.1 v 2.2     NaN  {1.1, 2.2}  trial 2 winner             2  \n",
       "3     1  1.0  1.1 v 2.2     NaN  {1.1, 2.2}  trial 2 winner             2  \n",
       "4     1  1.0  1.1 v 2.2     NaN  {1.1, 2.2}  trial 3 winner             3  "
      ]
     },
     "execution_count": 70,
     "metadata": {},
     "output_type": "execute_result"
    }
   ],
   "source": [
    "all_cage_elo_score_df.head()"
   ]
  },
  {
   "cell_type": "code",
   "execution_count": 71,
   "id": "685d56c4",
   "metadata": {},
   "outputs": [],
   "source": [
    "id_to_final_elo_score_dict = defaultdict(dict)\n",
    "for subject_id in all_cage_elo_score_df[\"subject_id\"].unique():\n",
    "    per_subject_df = all_cage_elo_score_df[all_cage_elo_score_df[\"subject_id\"] == subject_id]\n",
    "    id_to_final_elo_score_dict[str(subject_id)][\"final_elo_score\"] = per_subject_df.iloc[-1][\"updated_elo_score\"]"
   ]
  },
  {
   "cell_type": "code",
   "execution_count": 72,
   "id": "9ef442b8",
   "metadata": {},
   "outputs": [
    {
     "data": {
      "text/plain": [
       "defaultdict(dict,\n",
       "            {'1.1': {'final_elo_score': 1097.1},\n",
       "             '2.2': {'final_elo_score': 1063.9},\n",
       "             '1.4': {'final_elo_score': 937.2},\n",
       "             '2.3': {'final_elo_score': 901.8},\n",
       "             '2.1': {'final_elo_score': 1071.7},\n",
       "             '1.2': {'final_elo_score': 918.3},\n",
       "             '1.3': {'final_elo_score': 973.7},\n",
       "             '2.4': {'final_elo_score': 1036.3},\n",
       "             '4.1 (1)': {'final_elo_score': 1131.2},\n",
       "             '3.2 (2)': {'final_elo_score': 954.6},\n",
       "             '4.2 (3)': {'final_elo_score': 983.5},\n",
       "             '3.3 (4)': {'final_elo_score': 930.7},\n",
       "             '3.1 (1)': {'final_elo_score': 1128.2},\n",
       "             '3.4 (2)': {'final_elo_score': 848.9},\n",
       "             '4.3 (3)': {'final_elo_score': 963.9},\n",
       "             '4.4 (4)': {'final_elo_score': 1059.0}})"
      ]
     },
     "execution_count": 72,
     "metadata": {},
     "output_type": "execute_result"
    }
   ],
   "source": [
    "id_to_final_elo_score_dict"
   ]
  },
  {
   "cell_type": "code",
   "execution_count": 73,
   "id": "c181a6a3",
   "metadata": {},
   "outputs": [],
   "source": [
    "id_to_final_elo_score_df = pd.DataFrame.from_dict(id_to_final_elo_score_dict, orient=\"index\")\n",
    "id_to_final_elo_score_df[\"experiment_type\"] = protocol_name"
   ]
  },
  {
   "cell_type": "code",
   "execution_count": 74,
   "id": "f005b096",
   "metadata": {},
   "outputs": [
    {
     "data": {
      "text/html": [
       "<div>\n",
       "<style scoped>\n",
       "    .dataframe tbody tr th:only-of-type {\n",
       "        vertical-align: middle;\n",
       "    }\n",
       "\n",
       "    .dataframe tbody tr th {\n",
       "        vertical-align: top;\n",
       "    }\n",
       "\n",
       "    .dataframe thead th {\n",
       "        text-align: right;\n",
       "    }\n",
       "</style>\n",
       "<table border=\"1\" class=\"dataframe\">\n",
       "  <thead>\n",
       "    <tr style=\"text-align: right;\">\n",
       "      <th></th>\n",
       "      <th>final_elo_score</th>\n",
       "      <th>experiment_type</th>\n",
       "    </tr>\n",
       "  </thead>\n",
       "  <tbody>\n",
       "    <tr>\n",
       "      <th>1.1</th>\n",
       "      <td>1097.1</td>\n",
       "      <td>reward_competition</td>\n",
       "    </tr>\n",
       "    <tr>\n",
       "      <th>1.2</th>\n",
       "      <td>918.3</td>\n",
       "      <td>reward_competition</td>\n",
       "    </tr>\n",
       "    <tr>\n",
       "      <th>1.3</th>\n",
       "      <td>973.7</td>\n",
       "      <td>reward_competition</td>\n",
       "    </tr>\n",
       "    <tr>\n",
       "      <th>1.4</th>\n",
       "      <td>937.2</td>\n",
       "      <td>reward_competition</td>\n",
       "    </tr>\n",
       "    <tr>\n",
       "      <th>2.1</th>\n",
       "      <td>1071.7</td>\n",
       "      <td>reward_competition</td>\n",
       "    </tr>\n",
       "  </tbody>\n",
       "</table>\n",
       "</div>"
      ],
      "text/plain": [
       "     final_elo_score     experiment_type\n",
       "1.1           1097.1  reward_competition\n",
       "1.2            918.3  reward_competition\n",
       "1.3            973.7  reward_competition\n",
       "1.4            937.2  reward_competition\n",
       "2.1           1071.7  reward_competition"
      ]
     },
     "execution_count": 74,
     "metadata": {},
     "output_type": "execute_result"
    }
   ],
   "source": [
    "id_to_final_elo_score_df.head()"
   ]
  },
  {
   "cell_type": "markdown",
   "id": "16542145",
   "metadata": {},
   "source": [
    "# Plotting the Elo Score by match number"
   ]
  },
  {
   "cell_type": "code",
   "execution_count": 75,
   "id": "3f6bc41f",
   "metadata": {},
   "outputs": [],
   "source": [
    "all_cages = \"_\".join([str(cage) for cage in sorted(all_cage_elo_score_df[\"cage\"].unique())])"
   ]
  },
  {
   "cell_type": "code",
   "execution_count": 76,
   "id": "1c6f3a20",
   "metadata": {},
   "outputs": [
    {
     "data": {
      "text/plain": [
       "'1_2_3_4'"
      ]
     },
     "execution_count": 76,
     "metadata": {},
     "output_type": "execute_result"
    }
   ],
   "source": [
    "all_cages"
   ]
  },
  {
   "cell_type": "code",
   "execution_count": 77,
   "id": "16744354",
   "metadata": {},
   "outputs": [],
   "source": [
    "earliest_date = all_cage_elo_score_df[\"date\"].min()\n",
    "latest_date = all_cage_elo_score_df[\"date\"].max()"
   ]
  },
  {
   "cell_type": "code",
   "execution_count": null,
   "id": "e0c959bc",
   "metadata": {},
   "outputs": [],
   "source": []
  },
  {
   "cell_type": "code",
   "execution_count": 78,
   "id": "bd5760f4",
   "metadata": {},
   "outputs": [],
   "source": [
    "earliest_date = str(earliest_date.date()).replace(\"-\", \"\")"
   ]
  },
  {
   "cell_type": "code",
   "execution_count": 79,
   "id": "21693dfa",
   "metadata": {},
   "outputs": [],
   "source": [
    "latest_date = str(latest_date.date()).replace(\"-\", \"\")"
   ]
  },
  {
   "cell_type": "code",
   "execution_count": 80,
   "id": "e63ae10a",
   "metadata": {},
   "outputs": [
    {
     "data": {
      "text/plain": [
       "'20220519'"
      ]
     },
     "execution_count": 80,
     "metadata": {},
     "output_type": "execute_result"
    }
   ],
   "source": [
    "earliest_date"
   ]
  },
  {
   "cell_type": "code",
   "execution_count": 81,
   "id": "f0232589",
   "metadata": {},
   "outputs": [
    {
     "data": {
      "text/plain": [
       "'20220520'"
      ]
     },
     "execution_count": 81,
     "metadata": {},
     "output_type": "execute_result"
    }
   ],
   "source": [
    "latest_date"
   ]
  },
  {
   "cell_type": "code",
   "execution_count": 82,
   "id": "7a0586b4",
   "metadata": {},
   "outputs": [],
   "source": [
    "plot_output_directory = \"./proc/plots/reward_competition/cage_{}_date_{}_{}\".format(all_cages, earliest_date, latest_date)"
   ]
  },
  {
   "cell_type": "code",
   "execution_count": 83,
   "id": "8a903f34",
   "metadata": {},
   "outputs": [
    {
     "data": {
      "text/plain": [
       "'./proc/plots/reward_competition/cage_1_2_3_4_date_20220519_20220520'"
      ]
     },
     "execution_count": 83,
     "metadata": {},
     "output_type": "execute_result"
    }
   ],
   "source": [
    "plot_output_directory"
   ]
  },
  {
   "cell_type": "code",
   "execution_count": 84,
   "id": "2e5d7d17",
   "metadata": {},
   "outputs": [],
   "source": [
    "os.makedirs(plot_output_directory, exist_ok=True)"
   ]
  },
  {
   "cell_type": "code",
   "execution_count": 85,
   "id": "7c69a8bd",
   "metadata": {},
   "outputs": [],
   "source": [
    "all_cage_elo_score_df[\"subject_id\"] = all_cage_elo_score_df[\"subject_id\"].astype(str)\n",
    "all_cage_elo_score_df[\"agent_id\"] = all_cage_elo_score_df[\"agent_id\"].astype(str)"
   ]
  },
  {
   "cell_type": "code",
   "execution_count": 86,
   "id": "692f8641",
   "metadata": {},
   "outputs": [],
   "source": [
    "# Increase size of plot in jupyter\n",
    "\n",
    "plt.rcParams[\"figure.figsize\"] = (18,10)"
   ]
  },
  {
   "cell_type": "code",
   "execution_count": 93,
   "id": "663d73e7",
   "metadata": {},
   "outputs": [
    {
     "data": {
      "image/png": "[encoded data removed]",
      "text/plain": [
       "<Figure size 1296x720 with 1 Axes>"
      ]
     },
     "metadata": {
      "needs_background": "light"
     },
     "output_type": "display_data"
    },
    {
     "data": {
      "image/png": "[encoded data removed]",
      "text/plain": [
       "<Figure size 1296x720 with 1 Axes>"
      ]
     },
     "metadata": {
      "needs_background": "light"
     },
     "output_type": "display_data"
    },
    {
     "data": {
      "image/png": "[encoded data removed]",
      "text/plain": [
       "<Figure size 1296x720 with 1 Axes>"
      ]
     },
     "metadata": {
      "needs_background": "light"
     },
     "output_type": "display_data"
    },
    {
     "data": {
      "image/png": "[encoded data removed]",
      "text/plain": [
       "<Figure size 1296x720 with 1 Axes>"
      ]
     },
     "metadata": {
      "needs_background": "light"
     },
     "output_type": "display_data"
    }
   ],
   "source": [
    "for cage in all_cage_elo_score_df[\"cage\"].unique():\n",
    "    fig, ax = plt.subplots()\n",
    "    plt.rcParams[\"figure.figsize\"] = (18,10)\n",
    "    per_cage_df = all_cage_elo_score_df[all_cage_elo_score_df[\"cage\"] == cage]\n",
    "       \n",
    "    for index in per_cage_df[\"index\"].unique():\n",
    "        first_session_in_trial = per_cage_df[per_cage_df[\"index\"] == index].iloc[0][\"total_trial_number\"]\n",
    "        plt.vlines(x=[first_session_in_trial - 0.5], ymin=700, ymax=1300, colors='black', linestyle='dashed')\n",
    "\n",
    "    \n",
    "    \n",
    "    # Drawing a line for each subject\n",
    "    for subject in sorted(per_cage_df[\"subject_id\"].unique()):\n",
    "        # Getting all the rows with the current subject\n",
    "        subject_df = per_cage_df[per_cage_df[\"subject_id\"] == subject]\n",
    "        # Making the dates into days after the first session by subtracting all the dates by the first date\n",
    "        plt.plot(subject_df[\"total_trial_number\"], subject_df[\"updated_elo_score\"], '-o', label=subject)\n",
    "    \n",
    "    # Labeling the X/Y Axis and the title\n",
    "    ax.set_xlabel(\"Trial Number\")\n",
    "    ax.set_ylabel(\"Elo Score\")\n",
    "    ax.set_title(\"Elo Score for {}: {}\".format(string.capwords(\" \".join(protocol_name.split(\"_\"))), cage))\n",
    "    # To show the legend\n",
    "    ax.legend()\n",
    "    plt.xticks(rotation=90)\n",
    "    plt.ylim(700, 1300) \n",
    "    file_name = \"{}_elo_score_{}_date_{}_{}.png\".format(protocol_name, cage, earliest_date, latest_date)\n",
    "    plt.savefig(os.path.join(plot_output_directory, file_name))  \n",
    "    \n",
    "    plt.show()"
   ]
  },
  {
   "cell_type": "code",
   "execution_count": null,
   "id": "b61a7aea",
   "metadata": {},
   "outputs": [],
   "source": []
  },
  {
   "cell_type": "markdown",
   "id": "bd303ecd",
   "metadata": {},
   "source": [
    "# Saving the Dataframes"
   ]
  },
  {
   "cell_type": "code",
   "execution_count": null,
   "id": "5fac6546",
   "metadata": {},
   "outputs": [],
   "source": []
  },
  {
   "cell_type": "code",
   "execution_count": 88,
   "id": "e2e1781a",
   "metadata": {},
   "outputs": [],
   "source": [
    "elo_score_spreadsheet_output_directory = \"./proc/elo_score_spread_sheets/{}_elo_score/cage_{}_date_{}_{}\".format(protocol_name, all_cages, earliest_date, latest_date)"
   ]
  },
  {
   "cell_type": "code",
   "execution_count": 89,
   "id": "a91dcff0",
   "metadata": {},
   "outputs": [
    {
     "data": {
      "text/plain": [
       "'./proc/elo_score_spread_sheets/reward_competition_elo_score/cage_1_2_3_4_date_20220519_20220520'"
      ]
     },
     "execution_count": 89,
     "metadata": {},
     "output_type": "execute_result"
    }
   ],
   "source": [
    "elo_score_spreadsheet_output_directory"
   ]
  },
  {
   "cell_type": "code",
   "execution_count": 90,
   "id": "bb6e7b70",
   "metadata": {},
   "outputs": [],
   "source": [
    "os.makedirs(elo_score_spreadsheet_output_directory, exist_ok=True)"
   ]
  },
  {
   "cell_type": "code",
   "execution_count": 91,
   "id": "b7d18391",
   "metadata": {},
   "outputs": [],
   "source": [
    "file_name = \"{}_elo_score_history_cages_{}_date_{}_{}.csv\".format(protocol_name, all_cages, earliest_date, latest_date)\n",
    "all_cage_elo_score_df.to_csv(os.path.join(elo_score_spreadsheet_output_directory, file_name))"
   ]
  },
  {
   "cell_type": "code",
   "execution_count": 92,
   "id": "c335e989",
   "metadata": {},
   "outputs": [],
   "source": [
    "file_name = \"{}_final_elo_score_cages_{}_date_{}_{}.csv\".format(protocol_name, all_cages, earliest_date, latest_date)\n",
    "id_to_final_elo_score_df.to_csv(os.path.join(elo_score_spreadsheet_output_directory, file_name))"
   ]
  },
  {
   "cell_type": "code",
   "execution_count": null,
   "id": "1ab3d173",
   "metadata": {},
   "outputs": [],
   "source": []
  }
 ],
 "metadata": {
  "kernelspec": {
   "display_name": "Python 3 (ipykernel)",
   "language": "python",
   "name": "python3"
  },
  "language_info": {
   "codemirror_mode": {
    "name": "ipython",
    "version": 3
   },
   "file_extension": ".py",
   "mimetype": "text/x-python",
   "name": "python",
   "nbconvert_exporter": "python",
   "pygments_lexer": "ipython3",
   "version": "3.9.12"
  },
  "vscode": {
   "interpreter": {
    "hash": "dfa3458735eaf687e58730314206b7eff423bc707da2360eaa14de4cfab40566"
   }
  }
 },
 "nbformat": 4,
 "nbformat_minor": 5
}
