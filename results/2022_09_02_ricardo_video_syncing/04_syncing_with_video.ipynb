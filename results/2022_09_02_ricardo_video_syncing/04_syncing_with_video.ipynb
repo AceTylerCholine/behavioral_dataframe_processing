{
 "cells": [
  {
   "cell_type": "markdown",
   "id": "ec0f0e72",
   "metadata": {},
   "source": [
    "# MED-PC Extracting the Recording Data and Metadata"
   ]
  },
  {
   "cell_type": "markdown",
   "id": "3e96b039",
   "metadata": {},
   "source": [
    "## Importing the Python Libraries"
   ]
  },
  {
   "cell_type": "code",
   "execution_count": 1,
   "id": "df497936",
   "metadata": {},
   "outputs": [],
   "source": [
    "import sys\n",
    "import glob\n",
    "from collections import defaultdict\n",
    "import os\n",
    "import datetime\n",
    "import numpy as np\n",
    "import pandas as pd\n",
    "import matplotlib.pyplot as plt\n",
    "from moviepy.editor import *\n",
    "from datetime import datetime\n",
    "from IPython.display import Video"
   ]
  },
  {
   "cell_type": "code",
   "execution_count": 2,
   "id": "b6678428",
   "metadata": {},
   "outputs": [],
   "source": [
    "from medpc2excel.medpc_read import medpc_read"
   ]
  },
  {
   "cell_type": "code",
   "execution_count": 3,
   "id": "d2693f50",
   "metadata": {},
   "outputs": [],
   "source": [
    "# setting path\n",
    "sys.path.append('../../src')"
   ]
  },
  {
   "cell_type": "code",
   "execution_count": 4,
   "id": "2eca7742",
   "metadata": {},
   "outputs": [],
   "source": [
    "# All the libraries that were created for this repository\n",
    "import extract.dataframe\n",
    "import processing.tone\n",
    "import extract.metadata"
   ]
  },
  {
   "cell_type": "markdown",
   "id": "52dd42ca",
   "metadata": {},
   "source": [
    "## Getting the Metadata from all the MED-PC Recording Files"
   ]
  },
  {
   "cell_type": "code",
   "execution_count": 5,
   "id": "09939ec3",
   "metadata": {},
   "outputs": [],
   "source": [
    "VideoFileClip??"
   ]
  },
  {
   "cell_type": "markdown",
   "id": "51a96419",
   "metadata": {},
   "source": [
    "- Getting all the file paths of the recording files(that happen to all end in `.txt`"
   ]
  },
  {
   "cell_type": "markdown",
   "id": "005ccdc3",
   "metadata": {},
   "source": [
    "# NOTE: The following path must be changed to the directory where your MED-PC recording files are located, if they are not in the specied folder"
   ]
  },
  {
   "cell_type": "code",
   "execution_count": 6,
   "id": "faa6c858",
   "metadata": {},
   "outputs": [],
   "source": [
    "all_med_pc_file = glob.glob(\"./data/med_pc/*.txt\")"
   ]
  },
  {
   "cell_type": "markdown",
   "id": "07578f1d",
   "metadata": {},
   "source": [
    "- Use this instead if you're using you're own data"
   ]
  },
  {
   "cell_type": "raw",
   "id": "3d3671a9",
   "metadata": {},
   "source": [
    "all_med_pc_file = glob.glob(\"./data/clock_recording/*.txt\")"
   ]
  },
  {
   "cell_type": "code",
   "execution_count": 7,
   "id": "29194eda",
   "metadata": {},
   "outputs": [
    {
     "data": {
      "text/plain": [
       "['./data/med_pc/2022-05-20_10h24m_Subject 2.1 v 1.3.txt',\n",
       " './data/med_pc/2022-05-19_09h09m_Subject 2.3v1.4.txt']"
      ]
     },
     "execution_count": 7,
     "metadata": {},
     "output_type": "execute_result"
    }
   ],
   "source": [
    "all_med_pc_file[:10]"
   ]
  },
  {
   "cell_type": "markdown",
   "id": "062be1de",
   "metadata": {},
   "source": [
    "- Example of what the MED-PC Recording file looks like"
   ]
  },
  {
   "cell_type": "code",
   "execution_count": 8,
   "id": "1c7118af",
   "metadata": {},
   "outputs": [
    {
     "name": "stdout",
     "output_type": "stream",
     "text": [
      "File: C:\\MED-PC\\Data\\2022-05-20_10h24m_Subject 2.1 v 1.3.txt\n",
      "\n",
      "\n",
      "\n",
      "\n",
      "\n",
      "\n",
      "\n",
      "Start Date: 05/20/22\n",
      "\n",
      "End Date: 05/20/22\n",
      "\n",
      "Subject: 2.1 v 1.3\n",
      "\n",
      "Experiment: Pilot of Pilot\n",
      "\n",
      "Group: Cage 2\n",
      "\n",
      "Box: 4\n",
      "\n",
      "Start Time: 10:24:10\n",
      "\n",
      "End Time: 11:55:14\n",
      "\n",
      "MSN: C57_reward\n",
      "\n",
      "A:    1599.000\n",
      "\n",
      "D:    8000.000\n",
      "\n",
      "F:    2000.000\n",
      "\n",
      "G:       0.000\n",
      "\n",
      "H:       0.000\n",
      "\n",
      "I:       0.000\n",
      "\n",
      "L:       0.000\n",
      "\n"
     ]
    }
   ],
   "source": [
    "with open(all_med_pc_file[0]) as f:\n",
    "    lines = f.readlines()\n",
    "    for line in lines[:20]:\n",
    "        print(line)"
   ]
  },
  {
   "cell_type": "markdown",
   "id": "23b6a4cc",
   "metadata": {},
   "source": [
    "- We will be extracting the first 10 or so lines that look like:\n",
    "\n",
    "```\n",
    "File: C:\\MED-PC\\Data\\2022-05-06_12h59m_Subject 3.4 (2).txt\n",
    "\n",
    "Start Date: 05/06/22\n",
    "\n",
    "End Date: 05/06/22\n",
    "\n",
    "Subject: 3.4 (2)\n",
    "\n",
    "Experiment: Pilot of Pilot\n",
    "\n",
    "Group: Cage 4\n",
    "\n",
    "Box: 1\n",
    "\n",
    "Start Time: 12:59:58\n",
    "\n",
    "End Time: 14:02:38\n",
    "\n",
    "MSN: levelNP_CS_reward_laserepochON1st_noshock\n",
    "```\n",
    "    \n",
    "- We will just find all the lines that start with \"File\", \"Start Date\", \"End Date\", \"Subject\", \"Experiment\", \"Group\", \"Box\", \"Start Time\", \"End Time\", or \"MSN\". And then stop once all the metadata types have been collected"
   ]
  },
  {
   "cell_type": "code",
   "execution_count": 9,
   "id": "67503081",
   "metadata": {},
   "outputs": [],
   "source": [
    "# This makes a nested dictionary of file paths to each individual metadata type\n",
    "file_path_to_meta_data = extract.metadata.get_all_med_pc_meta_data_from_files(list_of_files=all_med_pc_file)"
   ]
  },
  {
   "cell_type": "code",
   "execution_count": 10,
   "id": "35ff0f55",
   "metadata": {},
   "outputs": [
    {
     "name": "stdout",
     "output_type": "stream",
     "text": [
      "File path: ./data/med_pc/2022-05-20_10h24m_Subject 2.1 v 1.3.txt\n",
      "Metadata types and associated values: {'File': 'C:\\\\MED-PC\\\\Data\\\\2022-05-20_10h24m_Subject 2.1 v 1.3.txt', 'Start Date': '05/20/22', 'End Date': '05/20/22', 'Subject': '2.1 v 1.3', 'Experiment': 'Pilot of Pilot', 'Group': 'Cage 2', 'Box': '4', 'Start Time': '10:24:10', 'End Time': '11:55:14', 'MSN': 'C57_reward'}\n"
     ]
    }
   ],
   "source": [
    "for key, value in file_path_to_meta_data.items():\n",
    "    print(\"File path: {}\".format(key))\n",
    "    print(\"Metadata types and associated values: {}\".format(value))\n",
    "    break"
   ]
  },
  {
   "cell_type": "markdown",
   "id": "2c00edf5",
   "metadata": {},
   "source": [
    "## Making a Dataframe out of the Metadata"
   ]
  },
  {
   "cell_type": "code",
   "execution_count": 11,
   "id": "6fcb3201",
   "metadata": {},
   "outputs": [],
   "source": [
    "# Turning the dictionary into a Pandas Dataframe\n",
    "metadata_df = pd.DataFrame.from_dict(file_path_to_meta_data, orient=\"index\")\n",
    "# Resetting the index because currently the file path is the index \n",
    "metadata_df = metadata_df.reset_index()"
   ]
  },
  {
   "cell_type": "code",
   "execution_count": 12,
   "id": "b98fcaf2",
   "metadata": {},
   "outputs": [
    {
     "data": {
      "text/html": [
       "<div>\n",
       "<style scoped>\n",
       "    .dataframe tbody tr th:only-of-type {\n",
       "        vertical-align: middle;\n",
       "    }\n",
       "\n",
       "    .dataframe tbody tr th {\n",
       "        vertical-align: top;\n",
       "    }\n",
       "\n",
       "    .dataframe thead th {\n",
       "        text-align: right;\n",
       "    }\n",
       "</style>\n",
       "<table border=\"1\" class=\"dataframe\">\n",
       "  <thead>\n",
       "    <tr style=\"text-align: right;\">\n",
       "      <th></th>\n",
       "      <th>index</th>\n",
       "      <th>File</th>\n",
       "      <th>Start Date</th>\n",
       "      <th>End Date</th>\n",
       "      <th>Subject</th>\n",
       "      <th>Experiment</th>\n",
       "      <th>Group</th>\n",
       "      <th>Box</th>\n",
       "      <th>Start Time</th>\n",
       "      <th>End Time</th>\n",
       "      <th>MSN</th>\n",
       "    </tr>\n",
       "  </thead>\n",
       "  <tbody>\n",
       "    <tr>\n",
       "      <th>0</th>\n",
       "      <td>./data/med_pc/2022-05-20_10h24m_Subject 2.1 v ...</td>\n",
       "      <td>C:\\MED-PC\\Data\\2022-05-20_10h24m_Subject 2.1 v...</td>\n",
       "      <td>05/20/22</td>\n",
       "      <td>05/20/22</td>\n",
       "      <td>2.1 v 1.3</td>\n",
       "      <td>Pilot of Pilot</td>\n",
       "      <td>Cage 2</td>\n",
       "      <td>4</td>\n",
       "      <td>10:24:10</td>\n",
       "      <td>11:55:14</td>\n",
       "      <td>C57_reward</td>\n",
       "    </tr>\n",
       "    <tr>\n",
       "      <th>1</th>\n",
       "      <td>./data/med_pc/2022-05-19_09h09m_Subject 2.3v1....</td>\n",
       "      <td>C:\\MED-PC\\Data\\2022-05-19_09h09m_Subject 2.3v1...</td>\n",
       "      <td>05/19/22</td>\n",
       "      <td>05/19/22</td>\n",
       "      <td>2.3v1.4</td>\n",
       "      <td>Pilot of Pilot</td>\n",
       "      <td>Cage 1</td>\n",
       "      <td>2</td>\n",
       "      <td>09:09:40</td>\n",
       "      <td>09:51:34</td>\n",
       "      <td>C57_reward</td>\n",
       "    </tr>\n",
       "  </tbody>\n",
       "</table>\n",
       "</div>"
      ],
      "text/plain": [
       "                                               index  \\\n",
       "0  ./data/med_pc/2022-05-20_10h24m_Subject 2.1 v ...   \n",
       "1  ./data/med_pc/2022-05-19_09h09m_Subject 2.3v1....   \n",
       "\n",
       "                                                File Start Date  End Date  \\\n",
       "0  C:\\MED-PC\\Data\\2022-05-20_10h24m_Subject 2.1 v...   05/20/22  05/20/22   \n",
       "1  C:\\MED-PC\\Data\\2022-05-19_09h09m_Subject 2.3v1...   05/19/22  05/19/22   \n",
       "\n",
       "     Subject      Experiment   Group Box Start Time  End Time         MSN  \n",
       "0  2.1 v 1.3  Pilot of Pilot  Cage 2   4   10:24:10  11:55:14  C57_reward  \n",
       "1    2.3v1.4  Pilot of Pilot  Cage 1   2   09:09:40  09:51:34  C57_reward  "
      ]
     },
     "execution_count": 12,
     "metadata": {},
     "output_type": "execute_result"
    }
   ],
   "source": [
    "metadata_df.head()"
   ]
  },
  {
   "cell_type": "code",
   "execution_count": 13,
   "id": "371584e7",
   "metadata": {},
   "outputs": [
    {
     "data": {
      "text/html": [
       "<div>\n",
       "<style scoped>\n",
       "    .dataframe tbody tr th:only-of-type {\n",
       "        vertical-align: middle;\n",
       "    }\n",
       "\n",
       "    .dataframe tbody tr th {\n",
       "        vertical-align: top;\n",
       "    }\n",
       "\n",
       "    .dataframe thead th {\n",
       "        text-align: right;\n",
       "    }\n",
       "</style>\n",
       "<table border=\"1\" class=\"dataframe\">\n",
       "  <thead>\n",
       "    <tr style=\"text-align: right;\">\n",
       "      <th></th>\n",
       "      <th>index</th>\n",
       "      <th>File</th>\n",
       "      <th>Start Date</th>\n",
       "      <th>End Date</th>\n",
       "      <th>Subject</th>\n",
       "      <th>Experiment</th>\n",
       "      <th>Group</th>\n",
       "      <th>Box</th>\n",
       "      <th>Start Time</th>\n",
       "      <th>End Time</th>\n",
       "      <th>MSN</th>\n",
       "    </tr>\n",
       "  </thead>\n",
       "  <tbody>\n",
       "    <tr>\n",
       "      <th>0</th>\n",
       "      <td>./data/med_pc/2022-05-20_10h24m_Subject 2.1 v ...</td>\n",
       "      <td>C:\\MED-PC\\Data\\2022-05-20_10h24m_Subject 2.1 v...</td>\n",
       "      <td>05/20/22</td>\n",
       "      <td>05/20/22</td>\n",
       "      <td>2.1 v 1.3</td>\n",
       "      <td>Pilot of Pilot</td>\n",
       "      <td>Cage 2</td>\n",
       "      <td>4</td>\n",
       "      <td>10:24:10</td>\n",
       "      <td>11:55:14</td>\n",
       "      <td>C57_reward</td>\n",
       "    </tr>\n",
       "    <tr>\n",
       "      <th>1</th>\n",
       "      <td>./data/med_pc/2022-05-19_09h09m_Subject 2.3v1....</td>\n",
       "      <td>C:\\MED-PC\\Data\\2022-05-19_09h09m_Subject 2.3v1...</td>\n",
       "      <td>05/19/22</td>\n",
       "      <td>05/19/22</td>\n",
       "      <td>2.3v1.4</td>\n",
       "      <td>Pilot of Pilot</td>\n",
       "      <td>Cage 1</td>\n",
       "      <td>2</td>\n",
       "      <td>09:09:40</td>\n",
       "      <td>09:51:34</td>\n",
       "      <td>C57_reward</td>\n",
       "    </tr>\n",
       "  </tbody>\n",
       "</table>\n",
       "</div>"
      ],
      "text/plain": [
       "                                               index  \\\n",
       "0  ./data/med_pc/2022-05-20_10h24m_Subject 2.1 v ...   \n",
       "1  ./data/med_pc/2022-05-19_09h09m_Subject 2.3v1....   \n",
       "\n",
       "                                                File Start Date  End Date  \\\n",
       "0  C:\\MED-PC\\Data\\2022-05-20_10h24m_Subject 2.1 v...   05/20/22  05/20/22   \n",
       "1  C:\\MED-PC\\Data\\2022-05-19_09h09m_Subject 2.3v1...   05/19/22  05/19/22   \n",
       "\n",
       "     Subject      Experiment   Group Box Start Time  End Time         MSN  \n",
       "0  2.1 v 1.3  Pilot of Pilot  Cage 2   4   10:24:10  11:55:14  C57_reward  \n",
       "1    2.3v1.4  Pilot of Pilot  Cage 1   2   09:09:40  09:51:34  C57_reward  "
      ]
     },
     "execution_count": 13,
     "metadata": {},
     "output_type": "execute_result"
    }
   ],
   "source": [
    "metadata_df.tail()"
   ]
  },
  {
   "cell_type": "markdown",
   "id": "8ac4297a",
   "metadata": {},
   "source": [
    "- Just getting the numbers out of the column that contains the cage information"
   ]
  },
  {
   "cell_type": "markdown",
   "id": "dd4bc5a5",
   "metadata": {},
   "source": [
    "## Inputting all the MED-PC log files"
   ]
  },
  {
   "cell_type": "markdown",
   "id": "c78aaf6c",
   "metadata": {},
   "source": [
    "- Example of what the MED-PC Script looks like that was ran when recording the behaviors"
   ]
  },
  {
   "cell_type": "code",
   "execution_count": 14,
   "id": "8dee131d",
   "metadata": {},
   "outputs": [
    {
     "name": "stdout",
     "output_type": "stream",
     "text": [
      "\\v3 stop tone with poke\n",
      "\n",
      "\\v3.2 monitor port entries AND exits\n",
      "\n",
      "\n",
      "\n",
      "\\INPUTS\n",
      "\n",
      "^port = 8\n",
      "\n",
      "\n",
      "\n",
      "\\OUTPUTS\n",
      "\n",
      "^fan = 16\n",
      "\n",
      "^houselight = 11\n",
      "\n",
      "^tone1 = 2\n",
      "\n",
      "^tone2 = 3\n",
      "\n",
      "^tone3 = 4\n",
      "\n",
      "^tone4 = 5\n",
      "\n",
      "^pump = 9\n",
      "\n",
      "^whitenoise = 1\n",
      "\n",
      "^laser=10\n",
      "\n",
      "^csout = 5\n",
      "\n",
      "^peout = 15\n",
      "\n",
      "^cs1out = 17\n",
      "\n",
      "^cs2out = 13\n",
      "\n",
      "^cs3out = 14\n",
      "\n",
      "\n",
      "\n",
      "\\EXP SETTINGS\n",
      "\n",
      "^ncsNoShock = 0\n",
      "\n",
      "^initCS1trials = 3\n",
      "\n",
      "\n",
      "\n",
      "\\ARRAYS\n",
      "\n",
      "DIM P = 20000 \\Port entry time stamp array\n",
      "\n",
      "DIM Q = 2500 \\US delivery time stamp array (absolute)\n",
      "\n",
      "DIM R = 2500 \\US time stamp array (relative to last CS)\n",
      "\n",
      "DIM W = 2500 \\ITI values used for CS\n",
      "\n",
      "DIM S = 2500 \\CS presentation values (absolute - every time light turns on)\n",
      "\n",
      "DIM N = 20000 \\Port exit time stamp array\n",
      "\n",
      "DIM K = 2500 \\CS type\n",
      "\n",
      "DIM B = 2500 \\shock intensity\n",
      "\n",
      "\n",
      "\n",
      "LIST V = 80\", 90\", 80\", 75\", 100\", 95\", 90\", 80\", 90\", 100\", 90\", 120\", 90\", 85\", 90\", 95\", 120\", 80\", 95\", 80\", 90\", 80\", 75\", 100\", 95\", 90\", 80\", 90\", 100\", 90\", 120\", 90\", 85\", 90\", 95\", 90\", 80\", 90\", 100\", 90\", 90\", 90\", 90\", 90\", 90\", 90\", 90\", 90\", 90\", 90\", 90\", 90\", 90\", 90\", 90\", 90\", 90\", 90\", 90\"  \\, 100\", 108\", 117\", 121\", 133\", 145\", 165\" \\CS ITI values (tone + houselight)\n",
      "\n",
      "LIST E = 120\", 80\", 95\" \\CS ITI values for first few trials\n",
      "\n",
      "LIST M = 1, 1, 1, 1, 1, 1, 1, 1, 1, 1, 1, 1, 1, 1, 1, 1, 1, 1, 1, 1,1, 1, 1, 1, 1, 1, 1, 1, 1, 1, 1, 1, 1, 1, 1, 1, 1, 1, 1, 1 \\1 is CS1, 2 is CS2, 3 is CS3\n",
      "\n",
      "LIST J =0.7, 0.7, 0.7, 0.7 \\0.9, 0.9, 0.9, 0.9 \\0, 0.3, 0.6, 0.9\n",
      "\n",
      "\n",
      "\n",
      "\\Counter and Flag array\n",
      "\n",
      "DIM C = 10\n",
      "\n",
      "\\All counters are zero-indexed!! Meaning, if C(0) = 3, there were 4 port entries\n",
      "\n",
      "\\C(0) counter for number of port entries\n",
      "\n",
      "\\C(1) counter for CS presentation number\n",
      "\n",
      "\\C(2) counter for US delivery : this is 1-indexed,  meaning number indicates number of sucrose deliveries\n",
      "\n",
      "\\C(3) flag to indicate if sucrose is in port =0 if no port entry was made, =1 if port entry was made (i.e., no sucrose)\n",
      "\n",
      "\\C(4) counter for number of port exits\n",
      "\n",
      "\\C(5) number of CS1\n",
      "\n",
      "\\C(6) number of CS2\n",
      "\n",
      "\\C(7) number of CS3\n",
      "\n",
      "\\C(8) number of sucrose deliveries\n",
      "\n",
      "\\C(9) number of shock deliveries\n",
      "\n",
      "\n",
      "\n",
      "\\Z-pulses\n",
      "\n",
      "\\Z1: start task after initial delay\n",
      "\n",
      "\\Z2: start of CS\n",
      "\n",
      "\\Z3: port entry\n",
      "\n",
      "\\Z4: port exit\n",
      "\n",
      "\\Z5: trigger CS1\n",
      "\n",
      "\\Z6: trigger CS2\n",
      "\n",
      "\\Z7: trigger CS3\n",
      "\n",
      "\\Z8: turn off all CS triggers\n",
      "\n",
      "\\Z12: INX trigger TTL\n",
      "\n",
      "\n",
      "\n",
      "\\Variables\n",
      "\n",
      "\\A - Time since last CS\n",
      "\n",
      "\\B - Shock intensity\n",
      "\n",
      "\\C - Counter array\n",
      "\n",
      "\\D - Current ITI value\n",
      "\n",
      "\\E - CS ITI values for first few trials\n",
      "\n",
      "\\F - Shock duration\n",
      "\n",
      "\\G -\n",
      "\n",
      "\\H -\n",
      "\n",
      "\\I -\n",
      "\n",
      "\\J - Shock intensity repo\n",
      "\n",
      "\\K - CS type\n",
      "\n",
      "\\L -\n",
      "\n",
      "\\M - CS type repo\n",
      "\n",
      "\\N - Port exit time stamp array\n",
      "\n",
      "\\O -\n",
      "\n",
      "\\P - Port entry time stamp array\n",
      "\n",
      "\\Q - Sucrose delivery time stamp array (absolute)\n",
      "\n",
      "\\R - Sucrose delivery time stamp array (relative to last CS)\n",
      "\n",
      "\\S - CS presentation time stamp array\n",
      "\n",
      "\\T - Session timer\n",
      "\n",
      "\\U - Time since last CS presentation\n",
      "\n",
      "\\V - List of CS ITI values (tone + houselight)\n",
      "\n",
      "\\W - ITI values used for CS one each trial\n",
      "\n",
      "\\X -\n",
      "\n",
      "\\Y - Beam break monitor variable\n",
      "\n",
      "\\Z -\n",
      "\n",
      "\n",
      "\n",
      "\n",
      "\n",
      "DISKVARS = A, B, C, D, E, F, G, H, I, J, K, L, M, N, O, P, Q, R, S, T, U, V, W, X, Y, Z\n",
      "\n",
      "DISKCOLUMNS = 1\n",
      "\n",
      "\n",
      "\n",
      "\\Detect port entry\n",
      "\n",
      "S.S.1,\n",
      "\n"
     ]
    }
   ],
   "source": [
    "with open(\"./data/med_pc/C57_reward.MPC\") as f:\n",
    "    lines = f.readlines()\n",
    "    for line in lines[:100]:\n",
    "        print(line)"
   ]
  },
  {
   "cell_type": "markdown",
   "id": "0ee62e6c",
   "metadata": {},
   "source": [
    "- We will be using the comments in the MED-PC script(which starts with the `\\`) to create a name for the variables. By default, MED-PC uses a single letter as the name of the variable.\n",
    "    - This will use the medpc2excel library found in https://github.com/cyf203/medpc2excel\n",
    "- Example of the comments in the MED-PC script that we will use the names from:\n",
    "\n",
    "```\n",
    "\\Variables\n",
    "\n",
    "\\A - Time since last CS\n",
    "\n",
    "\\B - Shock intensity\n",
    "\n",
    "\\C - Counter array\n",
    "\n",
    "\\D - Current ITI value\n",
    "\n",
    "\\E - CS ITI values for first few trials\n",
    "\n",
    "\\F - Shock duration\n",
    "\n",
    "\\G -\n",
    "\n",
    "\\H -\n",
    "\n",
    "\\I -\n",
    "\n",
    "\\J - Shock intensity repo\n",
    "\n",
    "\\K - CS type\n",
    "\n",
    "\\L -\n",
    "\n",
    "\\M - CS type repo\n",
    "\n",
    "\\N - Port exit time stamp array\n",
    "\n",
    "\\O -\n",
    "\n",
    "\\P - Port entry time stamp array\n",
    "\n",
    "\\Q - Sucrose delivery time stamp array (absolute)\n",
    "\n",
    "\\R - Sucrose delivery time stamp array (relative to last CS)\n",
    "\n",
    "\\S - CS presentation time stamp array\n",
    "\n",
    "\\T - Session timer\n",
    "\n",
    "\\U - Time since last CS presentation\n",
    "\n",
    "\\V - List of CS ITI values (tone + houselight)\n",
    "\n",
    "\\W - ITI values used for CS one each trial\n",
    "\n",
    "\\X -\n",
    "\n",
    "\\Y - Beam break monitor variable\n",
    "\n",
    "\\Z -\n",
    "```"
   ]
  },
  {
   "cell_type": "code",
   "execution_count": 15,
   "id": "7d7b57bd",
   "metadata": {
    "scrolled": true
   },
   "outputs": [
    {
     "name": "stdout",
     "output_type": "stream",
     "text": [
      "File: C:\\MED-PC\\Data\\2022-05-20_10h24m_Subject 2.1 v 1.3.txt\n",
      "\n",
      "\n",
      "\n",
      "\n",
      "\n",
      "\n",
      "\n",
      "Start Date: 05/20/22\n",
      "\n",
      "End Date: 05/20/22\n",
      "\n",
      "Subject: 2.1 v 1.3\n",
      "\n",
      "Experiment: Pilot of Pilot\n",
      "\n",
      "Group: Cage 2\n",
      "\n",
      "Box: 4\n",
      "\n",
      "Start Time: 10:24:10\n",
      "\n",
      "End Time: 11:55:14\n",
      "\n",
      "MSN: C57_reward\n",
      "\n",
      "A:    1599.000\n",
      "\n",
      "D:    8000.000\n",
      "\n",
      "F:    2000.000\n",
      "\n",
      "G:       0.000\n",
      "\n",
      "H:       0.000\n",
      "\n",
      "I:       0.000\n",
      "\n",
      "L:       0.000\n",
      "\n"
     ]
    }
   ],
   "source": [
    "with open(all_med_pc_file[0]) as f:\n",
    "    lines = f.readlines()\n",
    "    for line in lines[:20]:\n",
    "        print(line)"
   ]
  },
  {
   "cell_type": "markdown",
   "id": "3480b276",
   "metadata": {},
   "source": [
    "- **Please make sure that the corresponding `.mpc` file (aka the MED-PC script) that was ran to create the log file, is also in the same folder**"
   ]
  },
  {
   "cell_type": "code",
   "execution_count": null,
   "id": "e7afabfc",
   "metadata": {},
   "outputs": [],
   "source": []
  },
  {
   "cell_type": "code",
   "execution_count": 16,
   "id": "0c38d1eb",
   "metadata": {
    "scrolled": true
   },
   "outputs": [],
   "source": [
    "concatted_medpc_df = extract.dataframe.get_medpc_dataframe_from_list_of_files(medpc_files=all_med_pc_file)\n",
    "concatted_medpc_df = concatted_medpc_df.reset_index(drop=True)"
   ]
  },
  {
   "cell_type": "code",
   "execution_count": 17,
   "id": "f9339573",
   "metadata": {},
   "outputs": [
    {
     "data": {
      "text/html": [
       "<div>\n",
       "<style scoped>\n",
       "    .dataframe tbody tr th:only-of-type {\n",
       "        vertical-align: middle;\n",
       "    }\n",
       "\n",
       "    .dataframe tbody tr th {\n",
       "        vertical-align: top;\n",
       "    }\n",
       "\n",
       "    .dataframe thead th {\n",
       "        text-align: right;\n",
       "    }\n",
       "</style>\n",
       "<table border=\"1\" class=\"dataframe\">\n",
       "  <thead>\n",
       "    <tr style=\"text-align: right;\">\n",
       "      <th></th>\n",
       "      <th>(P)Portentry</th>\n",
       "      <th>(Q)USdelivery</th>\n",
       "      <th>(R)UStime</th>\n",
       "      <th>(W)ITIvalues</th>\n",
       "      <th>(S)CSpresentation</th>\n",
       "      <th>(N)Portexit</th>\n",
       "      <th>(K)CStype</th>\n",
       "      <th>(B)shockintensity</th>\n",
       "      <th>date</th>\n",
       "      <th>subject</th>\n",
       "      <th>file_path</th>\n",
       "    </tr>\n",
       "  </thead>\n",
       "  <tbody>\n",
       "    <tr>\n",
       "      <th>0</th>\n",
       "      <td>1.89</td>\n",
       "      <td>64.0</td>\n",
       "      <td>399.0</td>\n",
       "      <td>0.0</td>\n",
       "      <td>60.01</td>\n",
       "      <td>3.07</td>\n",
       "      <td>1.0</td>\n",
       "      <td>0.0</td>\n",
       "      <td>20220520</td>\n",
       "      <td>2.1 v 1.3</td>\n",
       "      <td>./data/med_pc/2022-05-20_10h24m_Subject 2.1 v ...</td>\n",
       "    </tr>\n",
       "    <tr>\n",
       "      <th>1</th>\n",
       "      <td>3.36</td>\n",
       "      <td>144.0</td>\n",
       "      <td>399.0</td>\n",
       "      <td>0.0</td>\n",
       "      <td>140.01</td>\n",
       "      <td>3.50</td>\n",
       "      <td>1.0</td>\n",
       "      <td>0.0</td>\n",
       "      <td>20220520</td>\n",
       "      <td>2.1 v 1.3</td>\n",
       "      <td>./data/med_pc/2022-05-20_10h24m_Subject 2.1 v ...</td>\n",
       "    </tr>\n",
       "    <tr>\n",
       "      <th>2</th>\n",
       "      <td>4.99</td>\n",
       "      <td>234.0</td>\n",
       "      <td>399.0</td>\n",
       "      <td>0.0</td>\n",
       "      <td>230.01</td>\n",
       "      <td>6.80</td>\n",
       "      <td>1.0</td>\n",
       "      <td>0.0</td>\n",
       "      <td>20220520</td>\n",
       "      <td>2.1 v 1.3</td>\n",
       "      <td>./data/med_pc/2022-05-20_10h24m_Subject 2.1 v ...</td>\n",
       "    </tr>\n",
       "    <tr>\n",
       "      <th>3</th>\n",
       "      <td>7.57</td>\n",
       "      <td>314.0</td>\n",
       "      <td>399.0</td>\n",
       "      <td>0.0</td>\n",
       "      <td>310.01</td>\n",
       "      <td>7.61</td>\n",
       "      <td>1.0</td>\n",
       "      <td>0.0</td>\n",
       "      <td>20220520</td>\n",
       "      <td>2.1 v 1.3</td>\n",
       "      <td>./data/med_pc/2022-05-20_10h24m_Subject 2.1 v ...</td>\n",
       "    </tr>\n",
       "    <tr>\n",
       "      <th>4</th>\n",
       "      <td>8.00</td>\n",
       "      <td>389.0</td>\n",
       "      <td>399.0</td>\n",
       "      <td>0.0</td>\n",
       "      <td>385.01</td>\n",
       "      <td>8.51</td>\n",
       "      <td>1.0</td>\n",
       "      <td>0.0</td>\n",
       "      <td>20220520</td>\n",
       "      <td>2.1 v 1.3</td>\n",
       "      <td>./data/med_pc/2022-05-20_10h24m_Subject 2.1 v ...</td>\n",
       "    </tr>\n",
       "  </tbody>\n",
       "</table>\n",
       "</div>"
      ],
      "text/plain": [
       "   (P)Portentry  (Q)USdelivery  (R)UStime  (W)ITIvalues  (S)CSpresentation  \\\n",
       "0          1.89           64.0      399.0           0.0              60.01   \n",
       "1          3.36          144.0      399.0           0.0             140.01   \n",
       "2          4.99          234.0      399.0           0.0             230.01   \n",
       "3          7.57          314.0      399.0           0.0             310.01   \n",
       "4          8.00          389.0      399.0           0.0             385.01   \n",
       "\n",
       "   (N)Portexit  (K)CStype  (B)shockintensity      date    subject  \\\n",
       "0         3.07        1.0                0.0  20220520  2.1 v 1.3   \n",
       "1         3.50        1.0                0.0  20220520  2.1 v 1.3   \n",
       "2         6.80        1.0                0.0  20220520  2.1 v 1.3   \n",
       "3         7.61        1.0                0.0  20220520  2.1 v 1.3   \n",
       "4         8.51        1.0                0.0  20220520  2.1 v 1.3   \n",
       "\n",
       "                                           file_path  \n",
       "0  ./data/med_pc/2022-05-20_10h24m_Subject 2.1 v ...  \n",
       "1  ./data/med_pc/2022-05-20_10h24m_Subject 2.1 v ...  \n",
       "2  ./data/med_pc/2022-05-20_10h24m_Subject 2.1 v ...  \n",
       "3  ./data/med_pc/2022-05-20_10h24m_Subject 2.1 v ...  \n",
       "4  ./data/med_pc/2022-05-20_10h24m_Subject 2.1 v ...  "
      ]
     },
     "execution_count": 17,
     "metadata": {},
     "output_type": "execute_result"
    }
   ],
   "source": [
    "concatted_medpc_df.head()"
   ]
  },
  {
   "cell_type": "code",
   "execution_count": 18,
   "id": "d65c4236",
   "metadata": {},
   "outputs": [
    {
     "data": {
      "text/html": [
       "<div>\n",
       "<style scoped>\n",
       "    .dataframe tbody tr th:only-of-type {\n",
       "        vertical-align: middle;\n",
       "    }\n",
       "\n",
       "    .dataframe tbody tr th {\n",
       "        vertical-align: top;\n",
       "    }\n",
       "\n",
       "    .dataframe thead th {\n",
       "        text-align: right;\n",
       "    }\n",
       "</style>\n",
       "<table border=\"1\" class=\"dataframe\">\n",
       "  <thead>\n",
       "    <tr style=\"text-align: right;\">\n",
       "      <th></th>\n",
       "      <th>(P)Portentry</th>\n",
       "      <th>(Q)USdelivery</th>\n",
       "      <th>(R)UStime</th>\n",
       "      <th>(W)ITIvalues</th>\n",
       "      <th>(S)CSpresentation</th>\n",
       "      <th>(N)Portexit</th>\n",
       "      <th>(K)CStype</th>\n",
       "      <th>(B)shockintensity</th>\n",
       "      <th>date</th>\n",
       "      <th>subject</th>\n",
       "      <th>file_path</th>\n",
       "    </tr>\n",
       "  </thead>\n",
       "  <tbody>\n",
       "    <tr>\n",
       "      <th>5077</th>\n",
       "      <td>NaN</td>\n",
       "      <td>NaN</td>\n",
       "      <td>NaN</td>\n",
       "      <td>NaN</td>\n",
       "      <td>NaN</td>\n",
       "      <td>NaN</td>\n",
       "      <td>1.0</td>\n",
       "      <td>NaN</td>\n",
       "      <td>20220519</td>\n",
       "      <td>2.3v1.4</td>\n",
       "      <td>./data/med_pc/2022-05-19_09h09m_Subject 2.3v1....</td>\n",
       "    </tr>\n",
       "    <tr>\n",
       "      <th>5078</th>\n",
       "      <td>NaN</td>\n",
       "      <td>NaN</td>\n",
       "      <td>NaN</td>\n",
       "      <td>NaN</td>\n",
       "      <td>NaN</td>\n",
       "      <td>NaN</td>\n",
       "      <td>1.0</td>\n",
       "      <td>NaN</td>\n",
       "      <td>20220519</td>\n",
       "      <td>2.3v1.4</td>\n",
       "      <td>./data/med_pc/2022-05-19_09h09m_Subject 2.3v1....</td>\n",
       "    </tr>\n",
       "    <tr>\n",
       "      <th>5079</th>\n",
       "      <td>NaN</td>\n",
       "      <td>NaN</td>\n",
       "      <td>NaN</td>\n",
       "      <td>NaN</td>\n",
       "      <td>NaN</td>\n",
       "      <td>NaN</td>\n",
       "      <td>1.0</td>\n",
       "      <td>NaN</td>\n",
       "      <td>20220519</td>\n",
       "      <td>2.3v1.4</td>\n",
       "      <td>./data/med_pc/2022-05-19_09h09m_Subject 2.3v1....</td>\n",
       "    </tr>\n",
       "    <tr>\n",
       "      <th>5080</th>\n",
       "      <td>NaN</td>\n",
       "      <td>NaN</td>\n",
       "      <td>NaN</td>\n",
       "      <td>NaN</td>\n",
       "      <td>NaN</td>\n",
       "      <td>NaN</td>\n",
       "      <td>1.0</td>\n",
       "      <td>NaN</td>\n",
       "      <td>20220519</td>\n",
       "      <td>2.3v1.4</td>\n",
       "      <td>./data/med_pc/2022-05-19_09h09m_Subject 2.3v1....</td>\n",
       "    </tr>\n",
       "    <tr>\n",
       "      <th>5081</th>\n",
       "      <td>NaN</td>\n",
       "      <td>NaN</td>\n",
       "      <td>NaN</td>\n",
       "      <td>NaN</td>\n",
       "      <td>NaN</td>\n",
       "      <td>NaN</td>\n",
       "      <td>1.0</td>\n",
       "      <td>NaN</td>\n",
       "      <td>20220519</td>\n",
       "      <td>2.3v1.4</td>\n",
       "      <td>./data/med_pc/2022-05-19_09h09m_Subject 2.3v1....</td>\n",
       "    </tr>\n",
       "  </tbody>\n",
       "</table>\n",
       "</div>"
      ],
      "text/plain": [
       "      (P)Portentry  (Q)USdelivery  (R)UStime  (W)ITIvalues  (S)CSpresentation  \\\n",
       "5077           NaN            NaN        NaN           NaN                NaN   \n",
       "5078           NaN            NaN        NaN           NaN                NaN   \n",
       "5079           NaN            NaN        NaN           NaN                NaN   \n",
       "5080           NaN            NaN        NaN           NaN                NaN   \n",
       "5081           NaN            NaN        NaN           NaN                NaN   \n",
       "\n",
       "      (N)Portexit  (K)CStype  (B)shockintensity      date  subject  \\\n",
       "5077          NaN        1.0                NaN  20220519  2.3v1.4   \n",
       "5078          NaN        1.0                NaN  20220519  2.3v1.4   \n",
       "5079          NaN        1.0                NaN  20220519  2.3v1.4   \n",
       "5080          NaN        1.0                NaN  20220519  2.3v1.4   \n",
       "5081          NaN        1.0                NaN  20220519  2.3v1.4   \n",
       "\n",
       "                                              file_path  \n",
       "5077  ./data/med_pc/2022-05-19_09h09m_Subject 2.3v1....  \n",
       "5078  ./data/med_pc/2022-05-19_09h09m_Subject 2.3v1....  \n",
       "5079  ./data/med_pc/2022-05-19_09h09m_Subject 2.3v1....  \n",
       "5080  ./data/med_pc/2022-05-19_09h09m_Subject 2.3v1....  \n",
       "5081  ./data/med_pc/2022-05-19_09h09m_Subject 2.3v1....  "
      ]
     },
     "execution_count": 18,
     "metadata": {},
     "output_type": "execute_result"
    }
   ],
   "source": [
    "concatted_medpc_df.tail()"
   ]
  },
  {
   "cell_type": "code",
   "execution_count": 19,
   "id": "027c1243",
   "metadata": {},
   "outputs": [],
   "source": [
    "concatted_medpc_df = concatted_medpc_df[concatted_medpc_df[\"(S)CSpresentation\"] % 1000 != 0].dropna()"
   ]
  },
  {
   "cell_type": "markdown",
   "id": "faf9155d",
   "metadata": {},
   "source": [
    "- Dropping all rows that don't have the CS presentation time"
   ]
  },
  {
   "cell_type": "code",
   "execution_count": 20,
   "id": "c0067591",
   "metadata": {
    "scrolled": true
   },
   "outputs": [],
   "source": [
    "cs_time_df = concatted_medpc_df[concatted_medpc_df[\"(P)Portentry\"] != 0.0].dropna(subset=\"(P)Portentry\")"
   ]
  },
  {
   "cell_type": "code",
   "execution_count": 21,
   "id": "b96708e1",
   "metadata": {},
   "outputs": [
    {
     "data": {
      "text/plain": [
       "array(['./data/med_pc/2022-05-20_10h24m_Subject 2.1 v 1.3.txt',\n",
       "       './data/med_pc/2022-05-19_09h09m_Subject 2.3v1.4.txt'],\n",
       "      dtype=object)"
      ]
     },
     "execution_count": 21,
     "metadata": {},
     "output_type": "execute_result"
    }
   ],
   "source": [
    "cs_time_df[\"file_path\"].unique()"
   ]
  },
  {
   "cell_type": "markdown",
   "id": "4abfe94e",
   "metadata": {},
   "source": [
    "# Adding the time of the start of the video"
   ]
  },
  {
   "cell_type": "code",
   "execution_count": 22,
   "id": "36cefbee",
   "metadata": {},
   "outputs": [],
   "source": [
    "from datetime import datetime, timedelta\n"
   ]
  },
  {
   "cell_type": "code",
   "execution_count": 23,
   "id": "30881003",
   "metadata": {},
   "outputs": [],
   "source": [
    "\n",
    "cage_1_video_start_time = datetime(2022, 5, 19, 9, 20, 28)\n",
    "cage_2_video_start_time = datetime(2022, 5, 20, 11, 24, 29)"
   ]
  },
  {
   "cell_type": "code",
   "execution_count": 24,
   "id": "cd9e6003",
   "metadata": {},
   "outputs": [
    {
     "data": {
      "text/plain": [
       "datetime.datetime(2022, 5, 19, 9, 20, 28)"
      ]
     },
     "execution_count": 24,
     "metadata": {},
     "output_type": "execute_result"
    }
   ],
   "source": [
    "cage_1_video_start_time"
   ]
  },
  {
   "cell_type": "code",
   "execution_count": 25,
   "id": "f2629560",
   "metadata": {},
   "outputs": [
    {
     "data": {
      "text/plain": [
       "datetime.datetime(2022, 5, 20, 11, 24, 29)"
      ]
     },
     "execution_count": 25,
     "metadata": {},
     "output_type": "execute_result"
    }
   ],
   "source": [
    "cage_2_video_start_time"
   ]
  },
  {
   "cell_type": "code",
   "execution_count": 26,
   "id": "a10c258b",
   "metadata": {},
   "outputs": [
    {
     "data": {
      "text/plain": [
       "datetime.datetime(2022, 5, 19, 9, 21, 28)"
      ]
     },
     "execution_count": 26,
     "metadata": {},
     "output_type": "execute_result"
    }
   ],
   "source": [
    "cage_1_video_start_time + timedelta(seconds=60)"
   ]
  },
  {
   "cell_type": "markdown",
   "id": "8794a88b",
   "metadata": {},
   "source": [
    "## Correcting for the delay in recording time"
   ]
  },
  {
   "cell_type": "markdown",
   "id": "c7a81655",
   "metadata": {},
   "source": [
    "- In cage 1 video, tone 2(140 seconds) happened at 2 minutes 31 seconds(151 seconds)\n",
    "    - In theory 11 second delay between the video time suggested by MED-PC versus the actual time in the video. "
   ]
  },
  {
   "cell_type": "markdown",
   "id": "3e05d330",
   "metadata": {},
   "source": [
    "- In cage 2 video, tone 2(140 seconds) happened at 2 minutes 29 seconds(149 seconds)\n",
    "    - In theory 9 second delay between the video time suggested by MED-PC versus the actual time in the video. "
   ]
  },
  {
   "cell_type": "code",
   "execution_count": 27,
   "id": "b165f2d1",
   "metadata": {},
   "outputs": [],
   "source": [
    "cage_1_video_delay_duration = 11\n",
    "cage_2_video_delay_duration = 9\n"
   ]
  },
  {
   "cell_type": "markdown",
   "id": "ef3bdc59",
   "metadata": {},
   "source": [
    "## Adding a column for the tone/port entry time in the video"
   ]
  },
  {
   "cell_type": "code",
   "execution_count": 28,
   "id": "b13882d8",
   "metadata": {},
   "outputs": [
    {
     "data": {
      "text/plain": [
       "array(['./data/med_pc/2022-05-20_10h24m_Subject 2.1 v 1.3.txt',\n",
       "       './data/med_pc/2022-05-19_09h09m_Subject 2.3v1.4.txt'],\n",
       "      dtype=object)"
      ]
     },
     "execution_count": 28,
     "metadata": {},
     "output_type": "execute_result"
    }
   ],
   "source": [
    "concatted_medpc_df[\"file_path\"].unique()"
   ]
  },
  {
   "cell_type": "code",
   "execution_count": 29,
   "id": "d9d10b58",
   "metadata": {},
   "outputs": [],
   "source": [
    "cage_2_medpc_df = concatted_medpc_df[concatted_medpc_df[\"file_path\"] == concatted_medpc_df[\"file_path\"].unique()[0]]"
   ]
  },
  {
   "cell_type": "code",
   "execution_count": 30,
   "id": "150f9c35",
   "metadata": {},
   "outputs": [],
   "source": [
    "cage_1_medpc_df = concatted_medpc_df[concatted_medpc_df[\"file_path\"] == concatted_medpc_df[\"file_path\"].unique()[1]]"
   ]
  },
  {
   "cell_type": "code",
   "execution_count": 31,
   "id": "ab65cf67",
   "metadata": {},
   "outputs": [
    {
     "data": {
      "text/html": [
       "<div>\n",
       "<style scoped>\n",
       "    .dataframe tbody tr th:only-of-type {\n",
       "        vertical-align: middle;\n",
       "    }\n",
       "\n",
       "    .dataframe tbody tr th {\n",
       "        vertical-align: top;\n",
       "    }\n",
       "\n",
       "    .dataframe thead th {\n",
       "        text-align: right;\n",
       "    }\n",
       "</style>\n",
       "<table border=\"1\" class=\"dataframe\">\n",
       "  <thead>\n",
       "    <tr style=\"text-align: right;\">\n",
       "      <th></th>\n",
       "      <th>(P)Portentry</th>\n",
       "      <th>(Q)USdelivery</th>\n",
       "      <th>(R)UStime</th>\n",
       "      <th>(W)ITIvalues</th>\n",
       "      <th>(S)CSpresentation</th>\n",
       "      <th>(N)Portexit</th>\n",
       "      <th>(K)CStype</th>\n",
       "      <th>(B)shockintensity</th>\n",
       "      <th>date</th>\n",
       "      <th>subject</th>\n",
       "      <th>file_path</th>\n",
       "    </tr>\n",
       "  </thead>\n",
       "  <tbody>\n",
       "    <tr>\n",
       "      <th>2541</th>\n",
       "      <td>329.87</td>\n",
       "      <td>64.0</td>\n",
       "      <td>399.0</td>\n",
       "      <td>0.0</td>\n",
       "      <td>60.01</td>\n",
       "      <td>332.03</td>\n",
       "      <td>1.0</td>\n",
       "      <td>0.0</td>\n",
       "      <td>20220519</td>\n",
       "      <td>2.3v1.4</td>\n",
       "      <td>./data/med_pc/2022-05-19_09h09m_Subject 2.3v1....</td>\n",
       "    </tr>\n",
       "    <tr>\n",
       "      <th>2542</th>\n",
       "      <td>356.64</td>\n",
       "      <td>389.0</td>\n",
       "      <td>399.0</td>\n",
       "      <td>0.0</td>\n",
       "      <td>140.01</td>\n",
       "      <td>356.68</td>\n",
       "      <td>1.0</td>\n",
       "      <td>0.0</td>\n",
       "      <td>20220519</td>\n",
       "      <td>2.3v1.4</td>\n",
       "      <td>./data/med_pc/2022-05-19_09h09m_Subject 2.3v1....</td>\n",
       "    </tr>\n",
       "    <tr>\n",
       "      <th>2543</th>\n",
       "      <td>382.57</td>\n",
       "      <td>489.0</td>\n",
       "      <td>399.0</td>\n",
       "      <td>0.0</td>\n",
       "      <td>230.01</td>\n",
       "      <td>383.32</td>\n",
       "      <td>1.0</td>\n",
       "      <td>0.0</td>\n",
       "      <td>20220519</td>\n",
       "      <td>2.3v1.4</td>\n",
       "      <td>./data/med_pc/2022-05-19_09h09m_Subject 2.3v1....</td>\n",
       "    </tr>\n",
       "    <tr>\n",
       "      <th>2544</th>\n",
       "      <td>389.84</td>\n",
       "      <td>584.0</td>\n",
       "      <td>399.0</td>\n",
       "      <td>0.0</td>\n",
       "      <td>310.01</td>\n",
       "      <td>410.48</td>\n",
       "      <td>1.0</td>\n",
       "      <td>0.0</td>\n",
       "      <td>20220519</td>\n",
       "      <td>2.3v1.4</td>\n",
       "      <td>./data/med_pc/2022-05-19_09h09m_Subject 2.3v1....</td>\n",
       "    </tr>\n",
       "    <tr>\n",
       "      <th>2545</th>\n",
       "      <td>410.75</td>\n",
       "      <td>674.0</td>\n",
       "      <td>399.0</td>\n",
       "      <td>0.0</td>\n",
       "      <td>385.01</td>\n",
       "      <td>411.59</td>\n",
       "      <td>1.0</td>\n",
       "      <td>0.0</td>\n",
       "      <td>20220519</td>\n",
       "      <td>2.3v1.4</td>\n",
       "      <td>./data/med_pc/2022-05-19_09h09m_Subject 2.3v1....</td>\n",
       "    </tr>\n",
       "  </tbody>\n",
       "</table>\n",
       "</div>"
      ],
      "text/plain": [
       "      (P)Portentry  (Q)USdelivery  (R)UStime  (W)ITIvalues  (S)CSpresentation  \\\n",
       "2541        329.87           64.0      399.0           0.0              60.01   \n",
       "2542        356.64          389.0      399.0           0.0             140.01   \n",
       "2543        382.57          489.0      399.0           0.0             230.01   \n",
       "2544        389.84          584.0      399.0           0.0             310.01   \n",
       "2545        410.75          674.0      399.0           0.0             385.01   \n",
       "\n",
       "      (N)Portexit  (K)CStype  (B)shockintensity      date  subject  \\\n",
       "2541       332.03        1.0                0.0  20220519  2.3v1.4   \n",
       "2542       356.68        1.0                0.0  20220519  2.3v1.4   \n",
       "2543       383.32        1.0                0.0  20220519  2.3v1.4   \n",
       "2544       410.48        1.0                0.0  20220519  2.3v1.4   \n",
       "2545       411.59        1.0                0.0  20220519  2.3v1.4   \n",
       "\n",
       "                                              file_path  \n",
       "2541  ./data/med_pc/2022-05-19_09h09m_Subject 2.3v1....  \n",
       "2542  ./data/med_pc/2022-05-19_09h09m_Subject 2.3v1....  \n",
       "2543  ./data/med_pc/2022-05-19_09h09m_Subject 2.3v1....  \n",
       "2544  ./data/med_pc/2022-05-19_09h09m_Subject 2.3v1....  \n",
       "2545  ./data/med_pc/2022-05-19_09h09m_Subject 2.3v1....  "
      ]
     },
     "execution_count": 31,
     "metadata": {},
     "output_type": "execute_result"
    }
   ],
   "source": [
    "cage_1_medpc_df.head()"
   ]
  },
  {
   "cell_type": "code",
   "execution_count": 32,
   "id": "dbe11ab1",
   "metadata": {},
   "outputs": [
    {
     "data": {
      "text/html": [
       "<div>\n",
       "<style scoped>\n",
       "    .dataframe tbody tr th:only-of-type {\n",
       "        vertical-align: middle;\n",
       "    }\n",
       "\n",
       "    .dataframe tbody tr th {\n",
       "        vertical-align: top;\n",
       "    }\n",
       "\n",
       "    .dataframe thead th {\n",
       "        text-align: right;\n",
       "    }\n",
       "</style>\n",
       "<table border=\"1\" class=\"dataframe\">\n",
       "  <thead>\n",
       "    <tr style=\"text-align: right;\">\n",
       "      <th></th>\n",
       "      <th>(P)Portentry</th>\n",
       "      <th>(Q)USdelivery</th>\n",
       "      <th>(R)UStime</th>\n",
       "      <th>(W)ITIvalues</th>\n",
       "      <th>(S)CSpresentation</th>\n",
       "      <th>(N)Portexit</th>\n",
       "      <th>(K)CStype</th>\n",
       "      <th>(B)shockintensity</th>\n",
       "      <th>date</th>\n",
       "      <th>subject</th>\n",
       "      <th>file_path</th>\n",
       "    </tr>\n",
       "  </thead>\n",
       "  <tbody>\n",
       "    <tr>\n",
       "      <th>0</th>\n",
       "      <td>1.89</td>\n",
       "      <td>64.0</td>\n",
       "      <td>399.0</td>\n",
       "      <td>0.0</td>\n",
       "      <td>60.01</td>\n",
       "      <td>3.07</td>\n",
       "      <td>1.0</td>\n",
       "      <td>0.0</td>\n",
       "      <td>20220520</td>\n",
       "      <td>2.1 v 1.3</td>\n",
       "      <td>./data/med_pc/2022-05-20_10h24m_Subject 2.1 v ...</td>\n",
       "    </tr>\n",
       "    <tr>\n",
       "      <th>1</th>\n",
       "      <td>3.36</td>\n",
       "      <td>144.0</td>\n",
       "      <td>399.0</td>\n",
       "      <td>0.0</td>\n",
       "      <td>140.01</td>\n",
       "      <td>3.50</td>\n",
       "      <td>1.0</td>\n",
       "      <td>0.0</td>\n",
       "      <td>20220520</td>\n",
       "      <td>2.1 v 1.3</td>\n",
       "      <td>./data/med_pc/2022-05-20_10h24m_Subject 2.1 v ...</td>\n",
       "    </tr>\n",
       "    <tr>\n",
       "      <th>2</th>\n",
       "      <td>4.99</td>\n",
       "      <td>234.0</td>\n",
       "      <td>399.0</td>\n",
       "      <td>0.0</td>\n",
       "      <td>230.01</td>\n",
       "      <td>6.80</td>\n",
       "      <td>1.0</td>\n",
       "      <td>0.0</td>\n",
       "      <td>20220520</td>\n",
       "      <td>2.1 v 1.3</td>\n",
       "      <td>./data/med_pc/2022-05-20_10h24m_Subject 2.1 v ...</td>\n",
       "    </tr>\n",
       "    <tr>\n",
       "      <th>3</th>\n",
       "      <td>7.57</td>\n",
       "      <td>314.0</td>\n",
       "      <td>399.0</td>\n",
       "      <td>0.0</td>\n",
       "      <td>310.01</td>\n",
       "      <td>7.61</td>\n",
       "      <td>1.0</td>\n",
       "      <td>0.0</td>\n",
       "      <td>20220520</td>\n",
       "      <td>2.1 v 1.3</td>\n",
       "      <td>./data/med_pc/2022-05-20_10h24m_Subject 2.1 v ...</td>\n",
       "    </tr>\n",
       "    <tr>\n",
       "      <th>4</th>\n",
       "      <td>8.00</td>\n",
       "      <td>389.0</td>\n",
       "      <td>399.0</td>\n",
       "      <td>0.0</td>\n",
       "      <td>385.01</td>\n",
       "      <td>8.51</td>\n",
       "      <td>1.0</td>\n",
       "      <td>0.0</td>\n",
       "      <td>20220520</td>\n",
       "      <td>2.1 v 1.3</td>\n",
       "      <td>./data/med_pc/2022-05-20_10h24m_Subject 2.1 v ...</td>\n",
       "    </tr>\n",
       "  </tbody>\n",
       "</table>\n",
       "</div>"
      ],
      "text/plain": [
       "   (P)Portentry  (Q)USdelivery  (R)UStime  (W)ITIvalues  (S)CSpresentation  \\\n",
       "0          1.89           64.0      399.0           0.0              60.01   \n",
       "1          3.36          144.0      399.0           0.0             140.01   \n",
       "2          4.99          234.0      399.0           0.0             230.01   \n",
       "3          7.57          314.0      399.0           0.0             310.01   \n",
       "4          8.00          389.0      399.0           0.0             385.01   \n",
       "\n",
       "   (N)Portexit  (K)CStype  (B)shockintensity      date    subject  \\\n",
       "0         3.07        1.0                0.0  20220520  2.1 v 1.3   \n",
       "1         3.50        1.0                0.0  20220520  2.1 v 1.3   \n",
       "2         6.80        1.0                0.0  20220520  2.1 v 1.3   \n",
       "3         7.61        1.0                0.0  20220520  2.1 v 1.3   \n",
       "4         8.51        1.0                0.0  20220520  2.1 v 1.3   \n",
       "\n",
       "                                           file_path  \n",
       "0  ./data/med_pc/2022-05-20_10h24m_Subject 2.1 v ...  \n",
       "1  ./data/med_pc/2022-05-20_10h24m_Subject 2.1 v ...  \n",
       "2  ./data/med_pc/2022-05-20_10h24m_Subject 2.1 v ...  \n",
       "3  ./data/med_pc/2022-05-20_10h24m_Subject 2.1 v ...  \n",
       "4  ./data/med_pc/2022-05-20_10h24m_Subject 2.1 v ...  "
      ]
     },
     "execution_count": 32,
     "metadata": {},
     "output_type": "execute_result"
    }
   ],
   "source": [
    "cage_2_medpc_df.head()"
   ]
  },
  {
   "cell_type": "code",
   "execution_count": 33,
   "id": "43a14e65",
   "metadata": {},
   "outputs": [],
   "source": [
    "cage_1_medpc_df[\"tone_playing_time_in_video\"] = cage_1_medpc_df[\"(S)CSpresentation\"] + cage_1_video_delay_duration\n",
    "cage_1_medpc_df[\"port_entry_time_in_video\"] = cage_1_medpc_df[\"(P)Portentry\"] + cage_1_video_delay_duration\n"
   ]
  },
  {
   "cell_type": "code",
   "execution_count": 34,
   "id": "c154bb8c",
   "metadata": {},
   "outputs": [],
   "source": [
    "cage_2_medpc_df[\"tone_playing_time_in_video\"] = cage_2_medpc_df[\"(S)CSpresentation\"] + cage_2_video_delay_duration\n",
    "cage_2_medpc_df[\"port_entry_time_in_video\"] = cage_2_medpc_df[\"(P)Portentry\"] + cage_2_video_delay_duration\n"
   ]
  },
  {
   "cell_type": "code",
   "execution_count": 35,
   "id": "31edd26c",
   "metadata": {},
   "outputs": [
    {
     "data": {
      "text/html": [
       "<div>\n",
       "<style scoped>\n",
       "    .dataframe tbody tr th:only-of-type {\n",
       "        vertical-align: middle;\n",
       "    }\n",
       "\n",
       "    .dataframe tbody tr th {\n",
       "        vertical-align: top;\n",
       "    }\n",
       "\n",
       "    .dataframe thead th {\n",
       "        text-align: right;\n",
       "    }\n",
       "</style>\n",
       "<table border=\"1\" class=\"dataframe\">\n",
       "  <thead>\n",
       "    <tr style=\"text-align: right;\">\n",
       "      <th></th>\n",
       "      <th>(P)Portentry</th>\n",
       "      <th>(Q)USdelivery</th>\n",
       "      <th>(R)UStime</th>\n",
       "      <th>(W)ITIvalues</th>\n",
       "      <th>(S)CSpresentation</th>\n",
       "      <th>(N)Portexit</th>\n",
       "      <th>(K)CStype</th>\n",
       "      <th>(B)shockintensity</th>\n",
       "      <th>date</th>\n",
       "      <th>subject</th>\n",
       "      <th>file_path</th>\n",
       "      <th>tone_playing_time_in_video</th>\n",
       "      <th>port_entry_time_in_video</th>\n",
       "    </tr>\n",
       "  </thead>\n",
       "  <tbody>\n",
       "    <tr>\n",
       "      <th>2541</th>\n",
       "      <td>329.87</td>\n",
       "      <td>64.0</td>\n",
       "      <td>399.0</td>\n",
       "      <td>0.0</td>\n",
       "      <td>60.01</td>\n",
       "      <td>332.03</td>\n",
       "      <td>1.0</td>\n",
       "      <td>0.0</td>\n",
       "      <td>20220519</td>\n",
       "      <td>2.3v1.4</td>\n",
       "      <td>./data/med_pc/2022-05-19_09h09m_Subject 2.3v1....</td>\n",
       "      <td>71.01</td>\n",
       "      <td>340.87</td>\n",
       "    </tr>\n",
       "    <tr>\n",
       "      <th>2542</th>\n",
       "      <td>356.64</td>\n",
       "      <td>389.0</td>\n",
       "      <td>399.0</td>\n",
       "      <td>0.0</td>\n",
       "      <td>140.01</td>\n",
       "      <td>356.68</td>\n",
       "      <td>1.0</td>\n",
       "      <td>0.0</td>\n",
       "      <td>20220519</td>\n",
       "      <td>2.3v1.4</td>\n",
       "      <td>./data/med_pc/2022-05-19_09h09m_Subject 2.3v1....</td>\n",
       "      <td>151.01</td>\n",
       "      <td>367.64</td>\n",
       "    </tr>\n",
       "    <tr>\n",
       "      <th>2543</th>\n",
       "      <td>382.57</td>\n",
       "      <td>489.0</td>\n",
       "      <td>399.0</td>\n",
       "      <td>0.0</td>\n",
       "      <td>230.01</td>\n",
       "      <td>383.32</td>\n",
       "      <td>1.0</td>\n",
       "      <td>0.0</td>\n",
       "      <td>20220519</td>\n",
       "      <td>2.3v1.4</td>\n",
       "      <td>./data/med_pc/2022-05-19_09h09m_Subject 2.3v1....</td>\n",
       "      <td>241.01</td>\n",
       "      <td>393.57</td>\n",
       "    </tr>\n",
       "    <tr>\n",
       "      <th>2544</th>\n",
       "      <td>389.84</td>\n",
       "      <td>584.0</td>\n",
       "      <td>399.0</td>\n",
       "      <td>0.0</td>\n",
       "      <td>310.01</td>\n",
       "      <td>410.48</td>\n",
       "      <td>1.0</td>\n",
       "      <td>0.0</td>\n",
       "      <td>20220519</td>\n",
       "      <td>2.3v1.4</td>\n",
       "      <td>./data/med_pc/2022-05-19_09h09m_Subject 2.3v1....</td>\n",
       "      <td>321.01</td>\n",
       "      <td>400.84</td>\n",
       "    </tr>\n",
       "    <tr>\n",
       "      <th>2545</th>\n",
       "      <td>410.75</td>\n",
       "      <td>674.0</td>\n",
       "      <td>399.0</td>\n",
       "      <td>0.0</td>\n",
       "      <td>385.01</td>\n",
       "      <td>411.59</td>\n",
       "      <td>1.0</td>\n",
       "      <td>0.0</td>\n",
       "      <td>20220519</td>\n",
       "      <td>2.3v1.4</td>\n",
       "      <td>./data/med_pc/2022-05-19_09h09m_Subject 2.3v1....</td>\n",
       "      <td>396.01</td>\n",
       "      <td>421.75</td>\n",
       "    </tr>\n",
       "  </tbody>\n",
       "</table>\n",
       "</div>"
      ],
      "text/plain": [
       "      (P)Portentry  (Q)USdelivery  (R)UStime  (W)ITIvalues  (S)CSpresentation  \\\n",
       "2541        329.87           64.0      399.0           0.0              60.01   \n",
       "2542        356.64          389.0      399.0           0.0             140.01   \n",
       "2543        382.57          489.0      399.0           0.0             230.01   \n",
       "2544        389.84          584.0      399.0           0.0             310.01   \n",
       "2545        410.75          674.0      399.0           0.0             385.01   \n",
       "\n",
       "      (N)Portexit  (K)CStype  (B)shockintensity      date  subject  \\\n",
       "2541       332.03        1.0                0.0  20220519  2.3v1.4   \n",
       "2542       356.68        1.0                0.0  20220519  2.3v1.4   \n",
       "2543       383.32        1.0                0.0  20220519  2.3v1.4   \n",
       "2544       410.48        1.0                0.0  20220519  2.3v1.4   \n",
       "2545       411.59        1.0                0.0  20220519  2.3v1.4   \n",
       "\n",
       "                                              file_path  \\\n",
       "2541  ./data/med_pc/2022-05-19_09h09m_Subject 2.3v1....   \n",
       "2542  ./data/med_pc/2022-05-19_09h09m_Subject 2.3v1....   \n",
       "2543  ./data/med_pc/2022-05-19_09h09m_Subject 2.3v1....   \n",
       "2544  ./data/med_pc/2022-05-19_09h09m_Subject 2.3v1....   \n",
       "2545  ./data/med_pc/2022-05-19_09h09m_Subject 2.3v1....   \n",
       "\n",
       "      tone_playing_time_in_video  port_entry_time_in_video  \n",
       "2541                       71.01                    340.87  \n",
       "2542                      151.01                    367.64  \n",
       "2543                      241.01                    393.57  \n",
       "2544                      321.01                    400.84  \n",
       "2545                      396.01                    421.75  "
      ]
     },
     "execution_count": 35,
     "metadata": {},
     "output_type": "execute_result"
    }
   ],
   "source": [
    "cage_1_medpc_df.head()"
   ]
  },
  {
   "cell_type": "code",
   "execution_count": 36,
   "id": "fbbd1a28",
   "metadata": {},
   "outputs": [
    {
     "data": {
      "text/html": [
       "<div>\n",
       "<style scoped>\n",
       "    .dataframe tbody tr th:only-of-type {\n",
       "        vertical-align: middle;\n",
       "    }\n",
       "\n",
       "    .dataframe tbody tr th {\n",
       "        vertical-align: top;\n",
       "    }\n",
       "\n",
       "    .dataframe thead th {\n",
       "        text-align: right;\n",
       "    }\n",
       "</style>\n",
       "<table border=\"1\" class=\"dataframe\">\n",
       "  <thead>\n",
       "    <tr style=\"text-align: right;\">\n",
       "      <th></th>\n",
       "      <th>(P)Portentry</th>\n",
       "      <th>(Q)USdelivery</th>\n",
       "      <th>(R)UStime</th>\n",
       "      <th>(W)ITIvalues</th>\n",
       "      <th>(S)CSpresentation</th>\n",
       "      <th>(N)Portexit</th>\n",
       "      <th>(K)CStype</th>\n",
       "      <th>(B)shockintensity</th>\n",
       "      <th>date</th>\n",
       "      <th>subject</th>\n",
       "      <th>file_path</th>\n",
       "      <th>tone_playing_time_in_video</th>\n",
       "      <th>port_entry_time_in_video</th>\n",
       "    </tr>\n",
       "  </thead>\n",
       "  <tbody>\n",
       "    <tr>\n",
       "      <th>2541</th>\n",
       "      <td>329.87</td>\n",
       "      <td>64.0</td>\n",
       "      <td>399.0</td>\n",
       "      <td>0.0</td>\n",
       "      <td>60.01</td>\n",
       "      <td>332.03</td>\n",
       "      <td>1.0</td>\n",
       "      <td>0.0</td>\n",
       "      <td>20220519</td>\n",
       "      <td>2.3v1.4</td>\n",
       "      <td>./data/med_pc/2022-05-19_09h09m_Subject 2.3v1....</td>\n",
       "      <td>71.01</td>\n",
       "      <td>340.87</td>\n",
       "    </tr>\n",
       "    <tr>\n",
       "      <th>2542</th>\n",
       "      <td>356.64</td>\n",
       "      <td>389.0</td>\n",
       "      <td>399.0</td>\n",
       "      <td>0.0</td>\n",
       "      <td>140.01</td>\n",
       "      <td>356.68</td>\n",
       "      <td>1.0</td>\n",
       "      <td>0.0</td>\n",
       "      <td>20220519</td>\n",
       "      <td>2.3v1.4</td>\n",
       "      <td>./data/med_pc/2022-05-19_09h09m_Subject 2.3v1....</td>\n",
       "      <td>151.01</td>\n",
       "      <td>367.64</td>\n",
       "    </tr>\n",
       "    <tr>\n",
       "      <th>2543</th>\n",
       "      <td>382.57</td>\n",
       "      <td>489.0</td>\n",
       "      <td>399.0</td>\n",
       "      <td>0.0</td>\n",
       "      <td>230.01</td>\n",
       "      <td>383.32</td>\n",
       "      <td>1.0</td>\n",
       "      <td>0.0</td>\n",
       "      <td>20220519</td>\n",
       "      <td>2.3v1.4</td>\n",
       "      <td>./data/med_pc/2022-05-19_09h09m_Subject 2.3v1....</td>\n",
       "      <td>241.01</td>\n",
       "      <td>393.57</td>\n",
       "    </tr>\n",
       "    <tr>\n",
       "      <th>2544</th>\n",
       "      <td>389.84</td>\n",
       "      <td>584.0</td>\n",
       "      <td>399.0</td>\n",
       "      <td>0.0</td>\n",
       "      <td>310.01</td>\n",
       "      <td>410.48</td>\n",
       "      <td>1.0</td>\n",
       "      <td>0.0</td>\n",
       "      <td>20220519</td>\n",
       "      <td>2.3v1.4</td>\n",
       "      <td>./data/med_pc/2022-05-19_09h09m_Subject 2.3v1....</td>\n",
       "      <td>321.01</td>\n",
       "      <td>400.84</td>\n",
       "    </tr>\n",
       "    <tr>\n",
       "      <th>2545</th>\n",
       "      <td>410.75</td>\n",
       "      <td>674.0</td>\n",
       "      <td>399.0</td>\n",
       "      <td>0.0</td>\n",
       "      <td>385.01</td>\n",
       "      <td>411.59</td>\n",
       "      <td>1.0</td>\n",
       "      <td>0.0</td>\n",
       "      <td>20220519</td>\n",
       "      <td>2.3v1.4</td>\n",
       "      <td>./data/med_pc/2022-05-19_09h09m_Subject 2.3v1....</td>\n",
       "      <td>396.01</td>\n",
       "      <td>421.75</td>\n",
       "    </tr>\n",
       "    <tr>\n",
       "      <th>2546</th>\n",
       "      <td>411.71</td>\n",
       "      <td>754.0</td>\n",
       "      <td>399.0</td>\n",
       "      <td>0.0</td>\n",
       "      <td>485.01</td>\n",
       "      <td>412.80</td>\n",
       "      <td>1.0</td>\n",
       "      <td>0.0</td>\n",
       "      <td>20220519</td>\n",
       "      <td>2.3v1.4</td>\n",
       "      <td>./data/med_pc/2022-05-19_09h09m_Subject 2.3v1....</td>\n",
       "      <td>496.01</td>\n",
       "      <td>422.71</td>\n",
       "    </tr>\n",
       "    <tr>\n",
       "      <th>2547</th>\n",
       "      <td>415.91</td>\n",
       "      <td>844.0</td>\n",
       "      <td>399.0</td>\n",
       "      <td>0.0</td>\n",
       "      <td>580.01</td>\n",
       "      <td>416.03</td>\n",
       "      <td>1.0</td>\n",
       "      <td>0.0</td>\n",
       "      <td>20220519</td>\n",
       "      <td>2.3v1.4</td>\n",
       "      <td>./data/med_pc/2022-05-19_09h09m_Subject 2.3v1....</td>\n",
       "      <td>591.01</td>\n",
       "      <td>426.91</td>\n",
       "    </tr>\n",
       "    <tr>\n",
       "      <th>2548</th>\n",
       "      <td>416.08</td>\n",
       "      <td>944.0</td>\n",
       "      <td>399.0</td>\n",
       "      <td>0.0</td>\n",
       "      <td>670.01</td>\n",
       "      <td>421.43</td>\n",
       "      <td>1.0</td>\n",
       "      <td>0.0</td>\n",
       "      <td>20220519</td>\n",
       "      <td>2.3v1.4</td>\n",
       "      <td>./data/med_pc/2022-05-19_09h09m_Subject 2.3v1....</td>\n",
       "      <td>681.01</td>\n",
       "      <td>427.08</td>\n",
       "    </tr>\n",
       "    <tr>\n",
       "      <th>2549</th>\n",
       "      <td>422.09</td>\n",
       "      <td>1034.0</td>\n",
       "      <td>399.0</td>\n",
       "      <td>0.0</td>\n",
       "      <td>750.01</td>\n",
       "      <td>422.21</td>\n",
       "      <td>1.0</td>\n",
       "      <td>0.0</td>\n",
       "      <td>20220519</td>\n",
       "      <td>2.3v1.4</td>\n",
       "      <td>./data/med_pc/2022-05-19_09h09m_Subject 2.3v1....</td>\n",
       "      <td>761.01</td>\n",
       "      <td>433.09</td>\n",
       "    </tr>\n",
       "    <tr>\n",
       "      <th>2550</th>\n",
       "      <td>422.41</td>\n",
       "      <td>1154.0</td>\n",
       "      <td>399.0</td>\n",
       "      <td>0.0</td>\n",
       "      <td>840.01</td>\n",
       "      <td>423.68</td>\n",
       "      <td>1.0</td>\n",
       "      <td>0.0</td>\n",
       "      <td>20220519</td>\n",
       "      <td>2.3v1.4</td>\n",
       "      <td>./data/med_pc/2022-05-19_09h09m_Subject 2.3v1....</td>\n",
       "      <td>851.01</td>\n",
       "      <td>433.41</td>\n",
       "    </tr>\n",
       "    <tr>\n",
       "      <th>2551</th>\n",
       "      <td>429.66</td>\n",
       "      <td>1244.0</td>\n",
       "      <td>399.0</td>\n",
       "      <td>0.0</td>\n",
       "      <td>940.01</td>\n",
       "      <td>433.29</td>\n",
       "      <td>1.0</td>\n",
       "      <td>0.0</td>\n",
       "      <td>20220519</td>\n",
       "      <td>2.3v1.4</td>\n",
       "      <td>./data/med_pc/2022-05-19_09h09m_Subject 2.3v1....</td>\n",
       "      <td>951.01</td>\n",
       "      <td>440.66</td>\n",
       "    </tr>\n",
       "    <tr>\n",
       "      <th>2552</th>\n",
       "      <td>433.71</td>\n",
       "      <td>1329.0</td>\n",
       "      <td>399.0</td>\n",
       "      <td>0.0</td>\n",
       "      <td>1030.01</td>\n",
       "      <td>433.96</td>\n",
       "      <td>1.0</td>\n",
       "      <td>0.0</td>\n",
       "      <td>20220519</td>\n",
       "      <td>2.3v1.4</td>\n",
       "      <td>./data/med_pc/2022-05-19_09h09m_Subject 2.3v1....</td>\n",
       "      <td>1041.01</td>\n",
       "      <td>444.71</td>\n",
       "    </tr>\n",
       "    <tr>\n",
       "      <th>2553</th>\n",
       "      <td>434.35</td>\n",
       "      <td>1419.0</td>\n",
       "      <td>399.0</td>\n",
       "      <td>0.0</td>\n",
       "      <td>1150.01</td>\n",
       "      <td>435.92</td>\n",
       "      <td>1.0</td>\n",
       "      <td>0.0</td>\n",
       "      <td>20220519</td>\n",
       "      <td>2.3v1.4</td>\n",
       "      <td>./data/med_pc/2022-05-19_09h09m_Subject 2.3v1....</td>\n",
       "      <td>1161.01</td>\n",
       "      <td>445.35</td>\n",
       "    </tr>\n",
       "    <tr>\n",
       "      <th>2554</th>\n",
       "      <td>436.16</td>\n",
       "      <td>1514.0</td>\n",
       "      <td>399.0</td>\n",
       "      <td>0.0</td>\n",
       "      <td>1240.01</td>\n",
       "      <td>436.21</td>\n",
       "      <td>1.0</td>\n",
       "      <td>0.0</td>\n",
       "      <td>20220519</td>\n",
       "      <td>2.3v1.4</td>\n",
       "      <td>./data/med_pc/2022-05-19_09h09m_Subject 2.3v1....</td>\n",
       "      <td>1251.01</td>\n",
       "      <td>447.16</td>\n",
       "    </tr>\n",
       "    <tr>\n",
       "      <th>2555</th>\n",
       "      <td>436.50</td>\n",
       "      <td>1634.0</td>\n",
       "      <td>399.0</td>\n",
       "      <td>0.0</td>\n",
       "      <td>1325.01</td>\n",
       "      <td>436.52</td>\n",
       "      <td>1.0</td>\n",
       "      <td>0.0</td>\n",
       "      <td>20220519</td>\n",
       "      <td>2.3v1.4</td>\n",
       "      <td>./data/med_pc/2022-05-19_09h09m_Subject 2.3v1....</td>\n",
       "      <td>1336.01</td>\n",
       "      <td>447.50</td>\n",
       "    </tr>\n",
       "    <tr>\n",
       "      <th>2556</th>\n",
       "      <td>436.54</td>\n",
       "      <td>1714.0</td>\n",
       "      <td>399.0</td>\n",
       "      <td>0.0</td>\n",
       "      <td>1415.01</td>\n",
       "      <td>436.64</td>\n",
       "      <td>1.0</td>\n",
       "      <td>0.0</td>\n",
       "      <td>20220519</td>\n",
       "      <td>2.3v1.4</td>\n",
       "      <td>./data/med_pc/2022-05-19_09h09m_Subject 2.3v1....</td>\n",
       "      <td>1426.01</td>\n",
       "      <td>447.54</td>\n",
       "    </tr>\n",
       "    <tr>\n",
       "      <th>2557</th>\n",
       "      <td>436.71</td>\n",
       "      <td>1809.0</td>\n",
       "      <td>399.0</td>\n",
       "      <td>0.0</td>\n",
       "      <td>1510.01</td>\n",
       "      <td>437.58</td>\n",
       "      <td>1.0</td>\n",
       "      <td>0.0</td>\n",
       "      <td>20220519</td>\n",
       "      <td>2.3v1.4</td>\n",
       "      <td>./data/med_pc/2022-05-19_09h09m_Subject 2.3v1....</td>\n",
       "      <td>1521.01</td>\n",
       "      <td>447.71</td>\n",
       "    </tr>\n",
       "  </tbody>\n",
       "</table>\n",
       "</div>"
      ],
      "text/plain": [
       "      (P)Portentry  (Q)USdelivery  (R)UStime  (W)ITIvalues  (S)CSpresentation  \\\n",
       "2541        329.87           64.0      399.0           0.0              60.01   \n",
       "2542        356.64          389.0      399.0           0.0             140.01   \n",
       "2543        382.57          489.0      399.0           0.0             230.01   \n",
       "2544        389.84          584.0      399.0           0.0             310.01   \n",
       "2545        410.75          674.0      399.0           0.0             385.01   \n",
       "2546        411.71          754.0      399.0           0.0             485.01   \n",
       "2547        415.91          844.0      399.0           0.0             580.01   \n",
       "2548        416.08          944.0      399.0           0.0             670.01   \n",
       "2549        422.09         1034.0      399.0           0.0             750.01   \n",
       "2550        422.41         1154.0      399.0           0.0             840.01   \n",
       "2551        429.66         1244.0      399.0           0.0             940.01   \n",
       "2552        433.71         1329.0      399.0           0.0            1030.01   \n",
       "2553        434.35         1419.0      399.0           0.0            1150.01   \n",
       "2554        436.16         1514.0      399.0           0.0            1240.01   \n",
       "2555        436.50         1634.0      399.0           0.0            1325.01   \n",
       "2556        436.54         1714.0      399.0           0.0            1415.01   \n",
       "2557        436.71         1809.0      399.0           0.0            1510.01   \n",
       "\n",
       "      (N)Portexit  (K)CStype  (B)shockintensity      date  subject  \\\n",
       "2541       332.03        1.0                0.0  20220519  2.3v1.4   \n",
       "2542       356.68        1.0                0.0  20220519  2.3v1.4   \n",
       "2543       383.32        1.0                0.0  20220519  2.3v1.4   \n",
       "2544       410.48        1.0                0.0  20220519  2.3v1.4   \n",
       "2545       411.59        1.0                0.0  20220519  2.3v1.4   \n",
       "2546       412.80        1.0                0.0  20220519  2.3v1.4   \n",
       "2547       416.03        1.0                0.0  20220519  2.3v1.4   \n",
       "2548       421.43        1.0                0.0  20220519  2.3v1.4   \n",
       "2549       422.21        1.0                0.0  20220519  2.3v1.4   \n",
       "2550       423.68        1.0                0.0  20220519  2.3v1.4   \n",
       "2551       433.29        1.0                0.0  20220519  2.3v1.4   \n",
       "2552       433.96        1.0                0.0  20220519  2.3v1.4   \n",
       "2553       435.92        1.0                0.0  20220519  2.3v1.4   \n",
       "2554       436.21        1.0                0.0  20220519  2.3v1.4   \n",
       "2555       436.52        1.0                0.0  20220519  2.3v1.4   \n",
       "2556       436.64        1.0                0.0  20220519  2.3v1.4   \n",
       "2557       437.58        1.0                0.0  20220519  2.3v1.4   \n",
       "\n",
       "                                              file_path  \\\n",
       "2541  ./data/med_pc/2022-05-19_09h09m_Subject 2.3v1....   \n",
       "2542  ./data/med_pc/2022-05-19_09h09m_Subject 2.3v1....   \n",
       "2543  ./data/med_pc/2022-05-19_09h09m_Subject 2.3v1....   \n",
       "2544  ./data/med_pc/2022-05-19_09h09m_Subject 2.3v1....   \n",
       "2545  ./data/med_pc/2022-05-19_09h09m_Subject 2.3v1....   \n",
       "2546  ./data/med_pc/2022-05-19_09h09m_Subject 2.3v1....   \n",
       "2547  ./data/med_pc/2022-05-19_09h09m_Subject 2.3v1....   \n",
       "2548  ./data/med_pc/2022-05-19_09h09m_Subject 2.3v1....   \n",
       "2549  ./data/med_pc/2022-05-19_09h09m_Subject 2.3v1....   \n",
       "2550  ./data/med_pc/2022-05-19_09h09m_Subject 2.3v1....   \n",
       "2551  ./data/med_pc/2022-05-19_09h09m_Subject 2.3v1....   \n",
       "2552  ./data/med_pc/2022-05-19_09h09m_Subject 2.3v1....   \n",
       "2553  ./data/med_pc/2022-05-19_09h09m_Subject 2.3v1....   \n",
       "2554  ./data/med_pc/2022-05-19_09h09m_Subject 2.3v1....   \n",
       "2555  ./data/med_pc/2022-05-19_09h09m_Subject 2.3v1....   \n",
       "2556  ./data/med_pc/2022-05-19_09h09m_Subject 2.3v1....   \n",
       "2557  ./data/med_pc/2022-05-19_09h09m_Subject 2.3v1....   \n",
       "\n",
       "      tone_playing_time_in_video  port_entry_time_in_video  \n",
       "2541                       71.01                    340.87  \n",
       "2542                      151.01                    367.64  \n",
       "2543                      241.01                    393.57  \n",
       "2544                      321.01                    400.84  \n",
       "2545                      396.01                    421.75  \n",
       "2546                      496.01                    422.71  \n",
       "2547                      591.01                    426.91  \n",
       "2548                      681.01                    427.08  \n",
       "2549                      761.01                    433.09  \n",
       "2550                      851.01                    433.41  \n",
       "2551                      951.01                    440.66  \n",
       "2552                     1041.01                    444.71  \n",
       "2553                     1161.01                    445.35  \n",
       "2554                     1251.01                    447.16  \n",
       "2555                     1336.01                    447.50  \n",
       "2556                     1426.01                    447.54  \n",
       "2557                     1521.01                    447.71  "
      ]
     },
     "execution_count": 36,
     "metadata": {},
     "output_type": "execute_result"
    }
   ],
   "source": [
    "cage_1_medpc_df.head(n=50)"
   ]
  },
  {
   "cell_type": "code",
   "execution_count": 37,
   "id": "ad0ab083",
   "metadata": {},
   "outputs": [],
   "source": [
    "cage_1_medpc_df.to_csv(\"./data/proc/cage_1_medpc.csv\")"
   ]
  },
  {
   "cell_type": "code",
   "execution_count": 38,
   "id": "5f372096",
   "metadata": {},
   "outputs": [],
   "source": [
    "cage_2_medpc_df.to_csv(\"./data/proc/cage_2_medpc.csv\")"
   ]
  },
  {
   "cell_type": "code",
   "execution_count": 39,
   "id": "bf0c97bf",
   "metadata": {},
   "outputs": [
    {
     "ename": "ValueError",
     "evalue": "Rest of the notebook is previous work",
     "output_type": "error",
     "traceback": [
      "\u001b[0;31m---------------------------------------------------------------------------\u001b[0m",
      "\u001b[0;31mValueError\u001b[0m                                Traceback (most recent call last)",
      "Input \u001b[0;32mIn [39]\u001b[0m, in \u001b[0;36m<cell line: 1>\u001b[0;34m()\u001b[0m\n\u001b[0;32m----> 1\u001b[0m \u001b[38;5;28;01mraise\u001b[39;00m \u001b[38;5;167;01mValueError\u001b[39;00m(\u001b[38;5;124m\"\u001b[39m\u001b[38;5;124mRest of the notebook is previous work\u001b[39m\u001b[38;5;124m\"\u001b[39m)\n",
      "\u001b[0;31mValueError\u001b[0m: Rest of the notebook is previous work"
     ]
    }
   ],
   "source": [
    "raise ValueError(\"Rest of the notebook is previous work\")"
   ]
  },
  {
   "cell_type": "markdown",
   "id": "a0d205ed",
   "metadata": {},
   "source": [
    "# Stuff Below if previous work"
   ]
  },
  {
   "cell_type": "markdown",
   "id": "39b836dd",
   "metadata": {},
   "source": [
    "# Making a column for the Controlle Stimulus time"
   ]
  },
  {
   "cell_type": "markdown",
   "id": "76a67b79",
   "metadata": {},
   "source": [
    "- Because the hour, the minute, and the seconds are all in different columns we will combine them into one"
   ]
  },
  {
   "cell_type": "code",
   "execution_count": null,
   "id": "29acd960",
   "metadata": {},
   "outputs": [],
   "source": [
    "cs_time_df.columns"
   ]
  },
  {
   "cell_type": "markdown",
   "id": "4f5c97dd",
   "metadata": {},
   "source": [
    "- Making the numbers for hours, minutes, and seconds into whole numbers"
   ]
  },
  {
   "cell_type": "code",
   "execution_count": null,
   "id": "c84b6279",
   "metadata": {},
   "outputs": [],
   "source": [
    "cs_time_df[\"cs_second\"] = cs_time_df[\"(G)controlled_stimulus_secondscomputer\"].astype(int).astype(str)\n",
    "cs_time_df[\"cs_minute\"] = cs_time_df[\"(H)controlled_stimulus_minutescomputer\"].astype(int).astype(str)\n",
    "cs_time_df[\"cs_hour\"] = cs_time_df[\"(I)controlled_stimulus_hourscomputer\"].astype(int).astype(str)\n"
   ]
  },
  {
   "cell_type": "markdown",
   "id": "a8fe568a",
   "metadata": {},
   "source": [
    "- Combining the hours, minutes, and seconds into one column as a string"
   ]
  },
  {
   "cell_type": "code",
   "execution_count": null,
   "id": "c1f66194",
   "metadata": {},
   "outputs": [],
   "source": [
    "cs_time_df[\"cs_time_str\"] = cs_time_df.apply(lambda x: \":\".join([x[\"cs_hour\"], x[\"cs_minute\"],  x[\"cs_second\"]]), axis=1)"
   ]
  },
  {
   "cell_type": "markdown",
   "id": "440c4041",
   "metadata": {},
   "source": [
    "- Converting the time into a Python datetime object\n",
    "    - This will allow us to make calculations"
   ]
  },
  {
   "cell_type": "code",
   "execution_count": null,
   "id": "3350191f",
   "metadata": {},
   "outputs": [],
   "source": [
    "cs_time_df[\"cs_time_object\"] = cs_time_df[\"cs_time_str\"].apply(lambda x: datetime.strptime(x, '%H:%M:%S'))\n"
   ]
  },
  {
   "cell_type": "code",
   "execution_count": null,
   "id": "4869260e",
   "metadata": {
    "scrolled": true
   },
   "outputs": [],
   "source": [
    "cs_time_df"
   ]
  },
  {
   "cell_type": "markdown",
   "id": "2b949275",
   "metadata": {},
   "source": [
    "# Making a column for the Port Entry time"
   ]
  },
  {
   "cell_type": "markdown",
   "id": "5b166247",
   "metadata": {},
   "source": [
    "- Because the hour, the minute, and the seconds are all in different columns we will combine them into one"
   ]
  },
  {
   "cell_type": "code",
   "execution_count": null,
   "id": "20feabc9",
   "metadata": {},
   "outputs": [],
   "source": [
    "cs_time_df.columns"
   ]
  },
  {
   "cell_type": "markdown",
   "id": "8f34cdd3",
   "metadata": {},
   "source": [
    "- Making the numbers for hours, minutes, and seconds into whole numbers"
   ]
  },
  {
   "cell_type": "code",
   "execution_count": null,
   "id": "d2886d02",
   "metadata": {},
   "outputs": [],
   "source": [
    "cs_time_df[\"pe_second\"] = cs_time_df[\"(B)port_entry_secondscomputer\"].astype(int).astype(str)\n",
    "cs_time_df[\"pe_minute\"] = cs_time_df[\"(F)port_entry_minutescomputer\"].astype(int).astype(str)\n",
    "cs_time_df[\"pe_hour\"] = cs_time_df[\"(J)port_entry_hourscomputer\"].astype(int).astype(str)\n"
   ]
  },
  {
   "cell_type": "markdown",
   "id": "3b0a7a82",
   "metadata": {},
   "source": [
    "- Combining the hours, minutes, and seconds into one column as a string"
   ]
  },
  {
   "cell_type": "code",
   "execution_count": null,
   "id": "00676b51",
   "metadata": {},
   "outputs": [],
   "source": [
    "cs_time_df[\"pe_time_str\"] = cs_time_df.apply(lambda x: \":\".join([x[\"pe_hour\"], x[\"pe_minute\"],  x[\"pe_second\"]]), axis=1)"
   ]
  },
  {
   "cell_type": "markdown",
   "id": "0ddb3e41",
   "metadata": {},
   "source": [
    "- Converting the time into a Python datetime object\n",
    "    - This will allow us to make calculations"
   ]
  },
  {
   "cell_type": "code",
   "execution_count": null,
   "id": "f1bb8332",
   "metadata": {},
   "outputs": [],
   "source": [
    "cs_time_df[\"pe_time_object\"] = cs_time_df[\"pe_time_str\"].apply(lambda x: datetime.strptime(x, '%H:%M:%S'))\n"
   ]
  },
  {
   "cell_type": "code",
   "execution_count": null,
   "id": "e3f109fb",
   "metadata": {},
   "outputs": [],
   "source": [
    "cs_time_df[\"pe_time_object\"]"
   ]
  },
  {
   "cell_type": "code",
   "execution_count": null,
   "id": "f93a8735",
   "metadata": {},
   "outputs": [],
   "source": [
    "cs_time_df[\"pe_time_object\"]"
   ]
  },
  {
   "cell_type": "code",
   "execution_count": null,
   "id": "8df31ba2",
   "metadata": {
    "scrolled": true
   },
   "outputs": [],
   "source": [
    "cs_time_df"
   ]
  },
  {
   "cell_type": "markdown",
   "id": "9a473a52",
   "metadata": {},
   "source": [
    "# Importing Video Data"
   ]
  },
  {
   "cell_type": "markdown",
   "id": "c9ccf26c",
   "metadata": {},
   "source": [
    "- These CSVs are create in Bonsai when the video is being recorded. They give a time stamp of when the video is first being recorded."
   ]
  },
  {
   "cell_type": "code",
   "execution_count": null,
   "id": "5f545e57",
   "metadata": {},
   "outputs": [],
   "source": [
    "video_recording_time_stamps = pd.read_csv(\"./data/automatic_30_min_end_test/clock_test_time_2022-07-13T20_02_37.csv\", header=None)"
   ]
  },
  {
   "cell_type": "code",
   "execution_count": null,
   "id": "afb672e4",
   "metadata": {},
   "outputs": [],
   "source": [
    "video_recording_time_stamps.head()"
   ]
  },
  {
   "cell_type": "markdown",
   "id": "08373149",
   "metadata": {},
   "source": [
    "- The video is first being recorded in the time specified by the cell in the first row and the first column\n",
    "    - We will try to get on the hour, minute, seconds from this\n",
    "        - By getting everthing after the space, and then removing everything before the period"
   ]
  },
  {
   "cell_type": "code",
   "execution_count": null,
   "id": "42dad327",
   "metadata": {},
   "outputs": [],
   "source": [
    "video_recording_time_stamps[\"time\"] = video_recording_time_stamps[1].apply(lambda x: x.split()[-1].split(\".\")[0])\n"
   ]
  },
  {
   "cell_type": "code",
   "execution_count": null,
   "id": "181e0d31",
   "metadata": {},
   "outputs": [],
   "source": [
    "video_recording_time_stamps.head()"
   ]
  },
  {
   "cell_type": "markdown",
   "id": "828a2752",
   "metadata": {},
   "source": [
    "- Getting the first time that's listed, which is when the video starts being recorded"
   ]
  },
  {
   "cell_type": "code",
   "execution_count": null,
   "id": "c4bd22c8",
   "metadata": {},
   "outputs": [],
   "source": [
    "video_recording_start_time_str = video_recording_time_stamps[\"time\"][0]\n"
   ]
  },
  {
   "cell_type": "code",
   "execution_count": null,
   "id": "bbf79883",
   "metadata": {},
   "outputs": [],
   "source": [
    "video_recording_start_time_str"
   ]
  },
  {
   "cell_type": "markdown",
   "id": "8e9fab6d",
   "metadata": {},
   "source": [
    "- Converting this into a datetime object so that we can make calculations"
   ]
  },
  {
   "cell_type": "code",
   "execution_count": null,
   "id": "e08d8afe",
   "metadata": {},
   "outputs": [],
   "source": [
    "video_recording_start_time_object = datetime.strptime(video_recording_start_time_str, '%H:%M:%S')\n"
   ]
  },
  {
   "cell_type": "code",
   "execution_count": null,
   "id": "b56a00bf",
   "metadata": {},
   "outputs": [],
   "source": [
    "video_recording_start_time_object"
   ]
  },
  {
   "cell_type": "markdown",
   "id": "10324f04",
   "metadata": {},
   "source": [
    "# Syncing the MED-PC timestamps with the time in the video"
   ]
  },
  {
   "cell_type": "markdown",
   "id": "418ddc09",
   "metadata": {},
   "source": [
    "- To get when in the video something happens(i.e. 10 seconds), we will calculate the difference of the time of the event with the time that the video first starts being recorded\n",
    "- NOTE: Make sure that you are using the associated files for the MED-PC recording file and the video file"
   ]
  },
  {
   "cell_type": "code",
   "execution_count": null,
   "id": "e0aa620e",
   "metadata": {},
   "outputs": [],
   "source": [
    "first_medpc_recording_file = cs_time_df[\"file_path\"].unique()[0]\n",
    "\n",
    "first_cs_time_df = cs_time_df[cs_time_df[\"file_path\"] == first_medpc_recording_file]"
   ]
  },
  {
   "cell_type": "code",
   "execution_count": null,
   "id": "f68a39d2",
   "metadata": {},
   "outputs": [],
   "source": [
    "# The time of the first controlled stimulus \n",
    "first_cs_time_df[\"cs_time_object\"].iloc[0]"
   ]
  },
  {
   "cell_type": "code",
   "execution_count": null,
   "id": "70528a1f",
   "metadata": {},
   "outputs": [],
   "source": [
    "# The time of the second controlled stiumuls\n",
    "first_cs_time_df[\"cs_time_object\"].iloc[1]"
   ]
  },
  {
   "cell_type": "code",
   "execution_count": null,
   "id": "2e9f4704",
   "metadata": {},
   "outputs": [],
   "source": [
    "# The time that the video started being recorded\n",
    "video_recording_start_time_object"
   ]
  },
  {
   "cell_type": "code",
   "execution_count": null,
   "id": "15cdea03",
   "metadata": {},
   "outputs": [],
   "source": [
    "# The time in the video that the controlled stimulus occurs\n",
    "cs_01_time_object = first_cs_time_df[\"cs_time_object\"].iloc[0] - video_recording_start_time_object \n",
    "cs_02_time_object = first_cs_time_df[\"cs_time_object\"].iloc[1] - video_recording_start_time_object \n",
    "cs_03_time_object = first_cs_time_df[\"cs_time_object\"].iloc[2] - video_recording_start_time_object "
   ]
  },
  {
   "cell_type": "code",
   "execution_count": null,
   "id": "198d60b7",
   "metadata": {},
   "outputs": [],
   "source": [
    "cs_01_time_object.seconds"
   ]
  },
  {
   "cell_type": "code",
   "execution_count": null,
   "id": "ad48a7df",
   "metadata": {},
   "outputs": [],
   "source": [
    "cs_02_time_object.seconds"
   ]
  },
  {
   "cell_type": "code",
   "execution_count": null,
   "id": "9035aa4e",
   "metadata": {},
   "outputs": [],
   "source": [
    "cs_03_time_object.seconds"
   ]
  },
  {
   "cell_type": "code",
   "execution_count": null,
   "id": "caf04cea",
   "metadata": {},
   "outputs": [],
   "source": []
  },
  {
   "cell_type": "code",
   "execution_count": null,
   "id": "f2a06d28",
   "metadata": {},
   "outputs": [],
   "source": []
  },
  {
   "cell_type": "markdown",
   "id": "836e0766",
   "metadata": {},
   "source": [
    "# Syncing the MED-PC Port Entires with the time in the video"
   ]
  },
  {
   "cell_type": "markdown",
   "id": "323f0a8c",
   "metadata": {},
   "source": [
    "- To get when in the video something happens(i.e. 10 seconds), we will calculate the difference of the time of the event with the time that the video first starts being recorded\n",
    "- NOTE: Make sure that you are using the associated files for the MED-PC recording file and the video file"
   ]
  },
  {
   "cell_type": "code",
   "execution_count": null,
   "id": "240f4d17",
   "metadata": {},
   "outputs": [],
   "source": [
    "first_cs_time_df[\"(F)port_entry_minutescomputer\"].head(n=50)"
   ]
  },
  {
   "cell_type": "code",
   "execution_count": null,
   "id": "84cf7599",
   "metadata": {},
   "outputs": [],
   "source": [
    "first_cs_time_df[\"(F)port_entry_minutescomputer\"].tail(n=50)"
   ]
  },
  {
   "cell_type": "code",
   "execution_count": null,
   "id": "edf9c615",
   "metadata": {},
   "outputs": [],
   "source": [
    "first_cs_time_df[\"(B)port_entry_secondscomputer\"].head(n=50)"
   ]
  },
  {
   "cell_type": "code",
   "execution_count": null,
   "id": "e77eb43e",
   "metadata": {},
   "outputs": [],
   "source": [
    "first_cs_time_df[\"(B)port_entry_secondscomputer\"].tail(n=50)"
   ]
  },
  {
   "cell_type": "code",
   "execution_count": null,
   "id": "241e5a54",
   "metadata": {},
   "outputs": [],
   "source": [
    "# The time in the video that the controlled stimulus occurs\n",
    "port_entry_01_time_object = first_cs_time_df[\"pe_time_object\"].iloc[0] - video_recording_start_time_object \n",
    "port_entry_02_time_object = first_cs_time_df[\"pe_time_object\"].iloc[5] - video_recording_start_time_object \n",
    "port_entry_03_time_object = first_cs_time_df[\"pe_time_object\"].iloc[8] - video_recording_start_time_object "
   ]
  },
  {
   "cell_type": "code",
   "execution_count": null,
   "id": "7b9319cf",
   "metadata": {},
   "outputs": [],
   "source": [
    "first_cs_time_df[\"pe_time_object\"].iloc[8]"
   ]
  },
  {
   "cell_type": "code",
   "execution_count": null,
   "id": "fce4c06f",
   "metadata": {},
   "outputs": [],
   "source": [
    "port_entry_01_time_object.seconds"
   ]
  },
  {
   "cell_type": "code",
   "execution_count": null,
   "id": "34083e17",
   "metadata": {},
   "outputs": [],
   "source": [
    "port_entry_02_time_object.seconds"
   ]
  },
  {
   "cell_type": "code",
   "execution_count": null,
   "id": "6b921c40",
   "metadata": {},
   "outputs": [],
   "source": [
    "port_entry_03_time_object.seconds"
   ]
  },
  {
   "cell_type": "code",
   "execution_count": null,
   "id": "da49ba8c",
   "metadata": {},
   "outputs": [],
   "source": []
  },
  {
   "cell_type": "code",
   "execution_count": null,
   "id": "2d8ec213",
   "metadata": {},
   "outputs": [],
   "source": []
  },
  {
   "cell_type": "markdown",
   "id": "78318ba8",
   "metadata": {},
   "source": [
    "# Trimming the video"
   ]
  },
  {
   "cell_type": "code",
   "execution_count": null,
   "id": "e3f90100",
   "metadata": {},
   "outputs": [],
   "source": [
    "video_object = VideoFileClip(\"./data/automatic_30_min_end_test/2clock_test_recording_2022-07-13T20_02_39.avi\")"
   ]
  },
  {
   "cell_type": "code",
   "execution_count": null,
   "id": "1360d5a8",
   "metadata": {},
   "outputs": [],
   "source": [
    "video_object.duration"
   ]
  },
  {
   "cell_type": "markdown",
   "id": "b27e7765",
   "metadata": {},
   "source": [
    "fixed func issue with: https://github.com/Zulko/moviepy/issues/1765\n"
   ]
  },
  {
   "cell_type": "code",
   "execution_count": null,
   "id": "9d24075e",
   "metadata": {},
   "outputs": [],
   "source": [
    "cs1_trimmed_video = video_object.subclip(cs_01_time_object.seconds, cs_02_time_object.seconds + 20)"
   ]
  },
  {
   "cell_type": "code",
   "execution_count": null,
   "id": "db2662bc",
   "metadata": {},
   "outputs": [],
   "source": [
    "cs2_trimmed_video = video_object.subclip(cs_02_time_object.seconds, cs_03_time_object.seconds + 20)"
   ]
  },
  {
   "cell_type": "code",
   "execution_count": null,
   "id": "3cf48a80",
   "metadata": {},
   "outputs": [],
   "source": [
    "cs3_trimmed_video = video_object.subclip(cs_03_time_object.seconds, video_object.duration)"
   ]
  },
  {
   "cell_type": "code",
   "execution_count": null,
   "id": "9ef0ca20",
   "metadata": {},
   "outputs": [],
   "source": []
  },
  {
   "cell_type": "code",
   "execution_count": null,
   "id": "a1757cdf",
   "metadata": {},
   "outputs": [],
   "source": [
    "pe1_trimmed_video = video_object.subclip(port_entry_01_time_object.seconds, port_entry_02_time_object.seconds + 20)"
   ]
  },
  {
   "cell_type": "code",
   "execution_count": null,
   "id": "f91b6869",
   "metadata": {},
   "outputs": [],
   "source": [
    "pe2_trimmed_video = video_object.subclip(port_entry_02_time_object.seconds, port_entry_03_time_object.seconds + 20)"
   ]
  },
  {
   "cell_type": "code",
   "execution_count": null,
   "id": "c3a73c7d",
   "metadata": {},
   "outputs": [],
   "source": [
    "pe3_trimmed_video = video_object.subclip(port_entry_03_time_object.seconds, video_object.duration)"
   ]
  },
  {
   "cell_type": "code",
   "execution_count": null,
   "id": "e376b7c8",
   "metadata": {},
   "outputs": [],
   "source": [
    "cs1_trimmed_video.to_videofile(\"./data/automatic_30_min_end_test/trimmed_cs1.mp4\")"
   ]
  },
  {
   "cell_type": "code",
   "execution_count": null,
   "id": "f9713b8c",
   "metadata": {},
   "outputs": [],
   "source": [
    "cs2_trimmed_video.to_videofile(\"./data/automatic_30_min_end_test/trimmed_cs2.mp4\")"
   ]
  },
  {
   "cell_type": "code",
   "execution_count": null,
   "id": "ceeaae6f",
   "metadata": {},
   "outputs": [],
   "source": [
    "cs3_trimmed_video.to_videofile(\"./data/automatic_30_min_end_test//trimmed_cs3.mp4\")"
   ]
  },
  {
   "cell_type": "code",
   "execution_count": null,
   "id": "10804840",
   "metadata": {},
   "outputs": [],
   "source": []
  },
  {
   "cell_type": "code",
   "execution_count": null,
   "id": "2cf97d7c",
   "metadata": {},
   "outputs": [],
   "source": [
    "pe1_trimmed_video = video_object.subclip(port_entry_01_time_object.seconds, port_entry_02_time_object.seconds + 20)"
   ]
  },
  {
   "cell_type": "code",
   "execution_count": null,
   "id": "e6011137",
   "metadata": {},
   "outputs": [],
   "source": [
    "pe2_trimmed_video = video_object.subclip(port_entry_02_time_object.seconds, port_entry_03_time_object.seconds + 20)"
   ]
  },
  {
   "cell_type": "code",
   "execution_count": null,
   "id": "a2baa36c",
   "metadata": {},
   "outputs": [],
   "source": [
    "pe3_trimmed_video = video_object.subclip(port_entry_03_time_object.seconds, video_object.duration)"
   ]
  },
  {
   "cell_type": "code",
   "execution_count": null,
   "id": "4b14c4fc",
   "metadata": {},
   "outputs": [],
   "source": []
  },
  {
   "cell_type": "code",
   "execution_count": null,
   "id": "84258f57",
   "metadata": {},
   "outputs": [],
   "source": []
  },
  {
   "cell_type": "code",
   "execution_count": null,
   "id": "0048fe8f",
   "metadata": {},
   "outputs": [],
   "source": [
    "pe1_trimmed_video.to_videofile(\"./data/automatic_30_min_end_test/trimmed_pe1.mp4\")"
   ]
  },
  {
   "cell_type": "code",
   "execution_count": null,
   "id": "e44ff613",
   "metadata": {},
   "outputs": [],
   "source": [
    "pe2_trimmed_video.to_videofile(\"./data/automatic_30_min_end_test/trimmed_pe2.mp4\")"
   ]
  },
  {
   "cell_type": "code",
   "execution_count": null,
   "id": "95a32e67",
   "metadata": {},
   "outputs": [],
   "source": [
    "pe3_trimmed_video.to_videofile(\"./data/automatic_30_min_end_test//trimmed_pe3.mp4\")"
   ]
  },
  {
   "cell_type": "code",
   "execution_count": null,
   "id": "76fc712e",
   "metadata": {},
   "outputs": [],
   "source": []
  },
  {
   "cell_type": "code",
   "execution_count": null,
   "id": "9a9cad23",
   "metadata": {
    "scrolled": false
   },
   "outputs": [],
   "source": [
    "Video(\"./data/automatic_30_min_end_test/trimmed_cs1.mp4\")"
   ]
  }
 ],
 "metadata": {
  "kernelspec": {
   "display_name": "Python 3 (ipykernel)",
   "language": "python",
   "name": "python3"
  },
  "language_info": {
   "codemirror_mode": {
    "name": "ipython",
    "version": 3
   },
   "file_extension": ".py",
   "mimetype": "text/x-python",
   "name": "python",
   "nbconvert_exporter": "python",
   "pygments_lexer": "ipython3",
   "version": "3.9.13"
  }
 },
 "nbformat": 4,
 "nbformat_minor": 5
}
