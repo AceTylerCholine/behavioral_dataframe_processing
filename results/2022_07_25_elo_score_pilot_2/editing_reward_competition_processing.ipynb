{
 "cells": [
  {
   "cell_type": "markdown",
   "id": "cd97c972",
   "metadata": {},
   "source": [
    "# Reward Competition Elo Score Calculation"
   ]
  },
  {
   "cell_type": "code",
   "execution_count": 1,
   "id": "cf755b46",
   "metadata": {},
   "outputs": [],
   "source": [
    "import re\n",
    "import os\n",
    "import sys\n",
    "import string\n",
    "from collections import defaultdict\n",
    "import glob\n",
    "import warnings\n",
    "from datetime import datetime\n",
    "from datetime import timedelta\n",
    "import ast"
   ]
  },
  {
   "cell_type": "code",
   "execution_count": 2,
   "id": "9537e067",
   "metadata": {},
   "outputs": [],
   "source": [
    "import matplotlib.pyplot as plt\n",
    "import numpy as np\n",
    "import pandas as pd\n",
    "import xlrd"
   ]
  },
  {
   "cell_type": "code",
   "execution_count": 3,
   "id": "2e3d2466",
   "metadata": {},
   "outputs": [],
   "source": [
    "# setting path\n",
    "sys.path.append('../../src')"
   ]
  },
  {
   "cell_type": "code",
   "execution_count": 4,
   "id": "104016aa",
   "metadata": {},
   "outputs": [],
   "source": [
    "from eloscore import eloscore"
   ]
  },
  {
   "cell_type": "code",
   "execution_count": 5,
   "id": "6ea31ca1",
   "metadata": {},
   "outputs": [],
   "source": [
    "# Increase size of plot in jupyter\n",
    "\n",
    "plt.rcParams[\"figure.figsize\"] = (18,10)"
   ]
  },
  {
   "cell_type": "markdown",
   "id": "8b7c1562",
   "metadata": {},
   "source": [
    "## TODO: ADD Summary"
   ]
  },
  {
   "cell_type": "markdown",
   "id": "082b25db",
   "metadata": {},
   "source": [
    "# Make it iterate through a list of sheets"
   ]
  },
  {
   "cell_type": "markdown",
   "id": "a5950969",
   "metadata": {},
   "source": [
    "- Notebook that calcuates the Elo Score of mice competing over access to a tone associated reward port\n",
    "- The data is a spreadsheet of combination of subjects (as rows) against dates (as columns)"
   ]
  },
  {
   "cell_type": "markdown",
   "id": "921da23e",
   "metadata": {},
   "source": [
    "## Name of protocol for naming"
   ]
  },
  {
   "cell_type": "markdown",
   "id": "fd2e5003",
   "metadata": {},
   "source": [
    "- This name will be used to name files and title plots. Please change if you are using a different protocol or adding more details\n",
    "    - **NOTE**: This should be changed based on the name the protocol"
   ]
  },
  {
   "cell_type": "code",
   "execution_count": 6,
   "id": "b0439515",
   "metadata": {},
   "outputs": [],
   "source": [
    "protocol_name = \"reward_competition\""
   ]
  },
  {
   "cell_type": "markdown",
   "id": "e10e8fbb",
   "metadata": {},
   "source": [
    "## Getting the file name of the raw data"
   ]
  },
  {
   "cell_type": "markdown",
   "id": "372e2dbf",
   "metadata": {},
   "source": [
    "- Default input folder and keyword to search the files for \n",
    "    - **NOTE**: This should not be changed unless there is a consistent change with the file naming convention"
   ]
  },
  {
   "cell_type": "code",
   "execution_count": 7,
   "id": "2841663a",
   "metadata": {},
   "outputs": [],
   "source": [
    "input_folder = \"./data\""
   ]
  },
  {
   "cell_type": "code",
   "execution_count": 8,
   "id": "d027a260",
   "metadata": {},
   "outputs": [],
   "source": [
    "# Accomodates for both capitalization of the file names\n",
    "raw_data_file_keyword = '*[rR]eward*'"
   ]
  },
  {
   "cell_type": "markdown",
   "id": "6f894105",
   "metadata": {},
   "source": [
    "- Asking the user what the path to the recording files are, with the option of using wildcards"
   ]
  },
  {
   "cell_type": "code",
   "execution_count": 9,
   "id": "6e17ad71",
   "metadata": {},
   "outputs": [
    {
     "name": "stdout",
     "output_type": "stream",
     "text": [
      "Type out the path(address) of the raw behavioral recording excel sheets.\n",
      "Remember that if you are using a relative path, it will be based off of the location of this Jupyter Notebook.\n",
      "\n",
      "Globbing can also be used if you want to search with a wild card(Capitalization matters). \n",
      "i.e. './data/*Home*' will be able to find './data/Homecage_observations.xlsx'\n",
      "\n",
      "NOTE: If left blank, the path will automatically be guessed off of the default settings \n",
      "./data/*Reward*\n"
     ]
    }
   ],
   "source": [
    "raw_data_glob_pattern = input(\"\"\"Type out the path(address) of the raw behavioral recording excel sheets.\n",
    "Remember that if you are using a relative path, it will be based off of the location of this Jupyter Notebook.\n",
    "\n",
    "Globbing can also be used if you want to search with a wild card(Capitalization matters). \n",
    "i.e. './data/*Home*' will be able to find './data/Homecage_observations.xlsx'\n",
    "\n",
    "NOTE: If left blank, the path will automatically be guessed off of the default settings \n",
    "\"\"\")"
   ]
  },
  {
   "cell_type": "markdown",
   "id": "a0206991",
   "metadata": {},
   "source": [
    "- By default, this will search for files that are in the `./data` folder (in the folder that this notebook is in) that have key word you specified in the file name"
   ]
  },
  {
   "cell_type": "code",
   "execution_count": 10,
   "id": "c43c85f0",
   "metadata": {},
   "outputs": [],
   "source": [
    "# Using the user inputted path/pattern\n",
    "if raw_data_glob_pattern.strip():\n",
    "    # Getting a list of all matching files\n",
    "    raw_data_files_list = glob.glob(raw_data_glob_pattern.strip())\n",
    "    # Checking if there were any files that matched\n",
    "    if raw_data_files_list:\n",
    "        raw_data_file_path = raw_data_files_list[0]\n",
    "    else:\n",
    "        raise ValueError(\"No files were found with the path/pattern of {}. Please rerun the previous cell with the correct path\".format(raw_data_glob_pattern))\n",
    "\n",
    "# Using the default pattern\n",
    "else:\n",
    "    # Searching for matching files with recursion\n",
    "    if glob.glob(os.path.join(input_folder + \"**\", raw_data_file_keyword)):\n",
    "        raw_data_glob_pattern = os.path.join(input_folder + \"**\", raw_data_file_keyword)\n",
    "        # Getting a list of all matching files\n",
    "        raw_data_files_list = glob.glob(raw_data_glob_pattern)\n",
    "    # Searching for matching files only in the specified folder\n",
    "    elif glob.glob(os.path.join(input_folder, raw_data_file_keyword)):\n",
    "        raw_data_glob_pattern = glob.glob(os.path.join(input_folder, raw_data_file_keyword))\n",
    "        # Getting a list of all matching files\n",
    "        raw_data_files_list = glob.glob(raw_data_glob_pattern)\n",
    "    else:\n",
    "        raise ValueError(\"No files were found in {} that had the keyword {} in it\".format(input_folder, raw_data_file_keyword))\n"
   ]
  },
  {
   "cell_type": "markdown",
   "id": "60269935",
   "metadata": {},
   "source": [
    "- Checking to see if only one file is specified"
   ]
  },
  {
   "cell_type": "code",
   "execution_count": 11,
   "id": "233df8d3",
   "metadata": {},
   "outputs": [],
   "source": [
    "if len(raw_data_files_list) >= 2:\n",
    "    raise ValueError(\"More than one file was found with the path/pattern of {}. Please rerun the previous cell with the correct path\".format(raw_data_glob_pattern))\n",
    "else:\n",
    "    # Using the first(and only file) as the file path\n",
    "    raw_data_file_path = raw_data_files_list[0]"
   ]
  },
  {
   "cell_type": "code",
   "execution_count": 12,
   "id": "b17b0f37",
   "metadata": {},
   "outputs": [
    {
     "data": {
      "text/plain": [
       "'./data/Reward_Competition_Scoring_MasterList.xlsx'"
      ]
     },
     "execution_count": 12,
     "metadata": {},
     "output_type": "execute_result"
    }
   ],
   "source": [
    "raw_data_file_path"
   ]
  },
  {
   "cell_type": "markdown",
   "id": "539ffb33",
   "metadata": {},
   "source": [
    "## Getting a list of all the sheets"
   ]
  },
  {
   "cell_type": "code",
   "execution_count": 13,
   "id": "bb3ff67b",
   "metadata": {},
   "outputs": [],
   "source": [
    "# Getting the sheet names for the excel file\n",
    "xls = pd.ExcelFile(raw_data_file_path)\n",
    "raw_data_sheet_names = xls.sheet_names"
   ]
  },
  {
   "cell_type": "code",
   "execution_count": 14,
   "id": "aeb563da",
   "metadata": {
    "scrolled": false
   },
   "outputs": [
    {
     "data": {
      "text/plain": [
       "['Master Assignment List',\n",
       " 'Jocelyn',\n",
       " 'Ezra',\n",
       " 'Albert',\n",
       " 'Isabel',\n",
       " 'Catalina',\n",
       " 'Meghan',\n",
       " 'Erika',\n",
       " 'Naeliz']"
      ]
     },
     "execution_count": 14,
     "metadata": {},
     "output_type": "execute_result"
    }
   ],
   "source": [
    "raw_data_sheet_names"
   ]
  },
  {
   "cell_type": "markdown",
   "id": "7e40c9d6",
   "metadata": {},
   "source": [
    "- Asking the user what sheets they want to use"
   ]
  },
  {
   "cell_type": "code",
   "execution_count": 15,
   "id": "59c3aa13",
   "metadata": {},
   "outputs": [
    {
     "name": "stdout",
     "output_type": "stream",
     "text": [
      "Type out the name of the sheets that you want to be processed. \n",
      "Each name must be put in quotes and seperated by a comma(,). i.e. \"CAGE3\", \"CAGE4\"\n",
      "\n",
      "The available sheets are: ['Master Assignment List', 'Jocelyn', 'Ezra', 'Albert', 'Isabel', 'Catalina', 'Meghan', 'Erika', 'Naeliz']\n",
      "\n",
      "Alternatively, you can use the index of the list of names above. \n",
      "Remember, that Python is zero indexed so the first item will be have the 0 index, second the 1 index, and so on. \n",
      "i.e. 1, 2\n",
      "\n",
      "NOTE: If left blank, all sheets will be used\n",
      "'Master Assignment List'\n"
     ]
    }
   ],
   "source": [
    "inputted_sheet_names_string = input(\"\"\"Type out the name of the sheets that you want to be processed. \n",
    "Each name must be put in quotes and seperated by a comma(,). i.e. \"CAGE3\", \"CAGE4\"\n",
    "\n",
    "The available sheets are: {}\n",
    "\n",
    "Alternatively, you can use the index of the list of names above. \n",
    "Remember, that Python is zero indexed so the first item will be have the 0 index, second the 1 index, and so on. \n",
    "i.e. 1, 2\n",
    "\n",
    "NOTE: If left blank, all sheets will be used\n",
    "\"\"\".format(raw_data_sheet_names))"
   ]
  },
  {
   "cell_type": "code",
   "execution_count": 16,
   "id": "06b1581e",
   "metadata": {},
   "outputs": [],
   "source": [
    "# Making a list out of the string of inputted sheet names\n",
    "if inputted_sheet_names_string:\n",
    "    inputted_sheet_names_string = \"[\" + inputted_sheet_names_string + \"]\"\n",
    "    # Turning the string into a list\n",
    "    inputted_sheet_names_list = ast.literal_eval(inputted_sheet_names_string)\n",
    "# Using all the sheet names if no sheet name is specified\n",
    "else:\n",
    "    inputted_sheet_names_list =  raw_data_sheet_names"
   ]
  },
  {
   "cell_type": "code",
   "execution_count": 17,
   "id": "0ee3a658",
   "metadata": {},
   "outputs": [
    {
     "data": {
      "text/plain": [
       "['Master Assignment List']"
      ]
     },
     "execution_count": 17,
     "metadata": {},
     "output_type": "execute_result"
    }
   ],
   "source": [
    "inputted_sheet_names_list"
   ]
  },
  {
   "cell_type": "markdown",
   "id": "3deda2bf",
   "metadata": {},
   "source": [
    "- Converting all the numbers into the sheet name that the index of the number corresponds to"
   ]
  },
  {
   "cell_type": "code",
   "execution_count": 18,
   "id": "4bac1b3f",
   "metadata": {},
   "outputs": [],
   "source": [
    "for index, sheet in enumerate(inputted_sheet_names_list):\n",
    "    # Checking if the sheet name was a number\n",
    "    if isinstance(sheet, int) and str(sheet).isdigit():\n",
    "        inputted_sheet_names_list[index] =  raw_data_sheet_names[sheet]"
   ]
  },
  {
   "cell_type": "code",
   "execution_count": 19,
   "id": "6bdf26ca",
   "metadata": {},
   "outputs": [
    {
     "data": {
      "text/plain": [
       "['Master Assignment List']"
      ]
     },
     "execution_count": 19,
     "metadata": {},
     "output_type": "execute_result"
    }
   ],
   "source": [
    "inputted_sheet_names_list"
   ]
  },
  {
   "cell_type": "markdown",
   "id": "b35a8c85",
   "metadata": {},
   "source": [
    "- Checking to see if all the sheets are in the excel file"
   ]
  },
  {
   "cell_type": "code",
   "execution_count": 20,
   "id": "1caa55ee",
   "metadata": {},
   "outputs": [],
   "source": [
    "if not set(inputted_sheet_names_list).issubset(raw_data_sheet_names):\n",
    "    # Getting all the sheets that were not in the original spreadsheet\n",
    "    not_included_sheet_names = set(inputted_sheet_names_list) - set(raw_data_sheet_names)\n",
    "    raise ValueError(\"All the listed sheet names are not in {}\".format(not_included_sheet_names))"
   ]
  },
  {
   "cell_type": "markdown",
   "id": "a934ef8f",
   "metadata": {},
   "source": [
    "## Finding the row for the header"
   ]
  },
  {
   "cell_type": "markdown",
   "id": "bc1c2300",
   "metadata": {},
   "source": [
    "- Headers are the row in a spreadsheet that has all the column names. Sometimes spreadsheets don't use the first row as the row with the column names. So, the row for the header will be asked or assumed to be the first row"
   ]
  },
  {
   "cell_type": "code",
   "execution_count": 21,
   "id": "de68ae7a",
   "metadata": {},
   "outputs": [
    {
     "name": "stdout",
     "output_type": "stream",
     "text": [
      "\n",
      "Current Sheet Name: Master Assignment List\n",
      "Columns Names: Index(['Date', 'Cage', 'Box', 'Match', 'Scorer', 'Trial 1 Time',\n",
      "       'Trial 1 Winner', 'Trial 2 Time ', 'Trial 2 Winner', 'Trial 3 Time',\n",
      "       'Trial 3 Winner', 'Trial 4 Time', 'Trial 4 Winner', 'Trial 5 Time',\n",
      "       'Trial 5 Winner', 'Trial 6 Time', 'Trial 6 Winner', 'Trial 7 Time',\n",
      "       'Trial 7 Winner', 'Trial 8 Time', 'Trial 8 Winner', 'Trial 9 Time',\n",
      "       'Trial 9 Winner', 'Trial 10 Time ', 'Trial 10 Winner', 'Trial 11 Time',\n",
      "       'Trial 11 Winner', 'Trial 12 Time ', 'Trial 12 Winner', 'Trial 13 Time',\n",
      "       'Trial 13 Winner', 'Trial 14 Time', 'Trial 14 Winner', 'Trial 15 Time',\n",
      "       'Trial 15 Winner', 'Trial 16 Time ', 'Trial 16 Winner', 'Trial 17 Time',\n",
      "       'Trial 17 Winner', 'Trial 18 Time', 'Trial 18 Winner', 'Trial 19 Time',\n",
      "       'Trial 19 Winner', 'Mouse 1 Wins', 'Mouse 2 Wins', 'Ties', ' '],\n",
      "      dtype='object')\n",
      "First few rows of this dataframe:\n",
      "        Date  Cage  Box Match    Scorer Trial 1 Time Trial 1 Winner  \\\n",
      "0 2022-07-28     1    1   1v2    Naeliz    0:48-0:58              2   \n",
      "1 2022-07-28     1    2   3v4     Erika    0:47-0:53              3   \n",
      "2 2022-07-28     1    3   2v3      Ezra  00:37-00:43              2   \n",
      "3 2022-07-28     1    4   1v4    Isabel    0:37-0:44              1   \n",
      "4 2022-07-28     1    1   2v4  Catalina  0:47 - 0:56              2   \n",
      "\n",
      "  Trial 2 Time  Trial 2 Winner Trial 3 Time  ...  Trial 17 Time  \\\n",
      "0     1:56-2:04              1    3:09-3:18  ...    20:53-21:00   \n",
      "1     1:54-2:00              4    3:09-3:15  ...    20:53-20:59   \n",
      "2     1:31-1:37              2    2:30-2:36  ...    16:42-16:48   \n",
      "3     1:31-1:38              1    2:31-2:38  ...    16:43-16:49   \n",
      "4   1:54 - 2:02              2  3:09 - 3:17  ...  20:52 - 21:00   \n",
      "\n",
      "  Trial 17 Winner  Trial 18 Time Trial 18 Winner  Trial 19 Time  \\\n",
      "0               1    22:33-22:42               1    23:39-23:47   \n",
      "1               3    22:33-22:39               4    23:39-23:45   \n",
      "2               3    18:02-18:08             tie    18:55-19:01   \n",
      "3               4    18:02-18:09               1    20:36-20:43   \n",
      "4               2  22:32 - 22:40             tie  23:39 - 23:47   \n",
      "\n",
      "  Trial 19 Winner Mouse 1 Wins Mouse 2 Wins Ties      \n",
      "0               1          NaN          NaN  NaN NaN  \n",
      "1               4          8.0         11.0  0.0 NaN  \n",
      "2             tie         12.0          3.0  4.0 NaN  \n",
      "3               1         18.0          1.0  NaN NaN  \n",
      "4             tie         11.0          3.0  5.0 NaN  \n",
      "\n",
      "[5 rows x 47 columns]\n",
      "Type the row number to be used as the header\n",
      "    (AKA the row with the column name that you want to use.)\n",
      "    If you want to keep the column names that were displayed, type 0.\n",
      "    If you want to use a different row, then type the corresponding number. \n",
      "    \n",
      "    The rows displayed in this cell are dataframes created from Pandas. \n",
      "    To use the row with the 0 index for column names, type 1. \n",
      "    For the row with the 1 index, it will be 2 and so on. i.e. 2\n",
      "    \n",
      "    If you are looking at the original spread sheet, remember that Python is zero indexed. \n",
      "    So the first row will be 0, second will be 1, and so on. \n",
      "    i.e. 1\n",
      "    \n",
      "    NOTE: If left blank, the original row that was used will be used.\n",
      "    \n"
     ]
    }
   ],
   "source": [
    "sheet_name_to_everything = defaultdict(dict)\n",
    "for sheet in inputted_sheet_names_list:\n",
    "    print(\"\\nCurrent Sheet Name: {}\".format(sheet))    \n",
    "    per_sheet_dataframe = pd.read_excel(raw_data_file_path, sheet_name=sheet, header=0)\n",
    "    \n",
    "    # Showing the columns that are chosen with the header being the 0th row\n",
    "    print(\"Columns Names: {}\".format(per_sheet_dataframe.columns))\n",
    "    # Show the dataframe that would be created with the header being the 0th row\n",
    "    print(\"First few rows of this dataframe:\")\n",
    "    print(pd.read_excel(raw_data_file_path, sheet_name=sheet, header=0).head())\n",
    "    \n",
    "    # Allowing the user the choose the row number for the header\n",
    "    header_row = input(\"\"\"Type the row number to be used as the header\n",
    "    (AKA the row with the column name that you want to use.)\n",
    "    If you want to keep the column names that were displayed, type 0.\n",
    "    If you want to use a different row, then type the corresponding number. \n",
    "    \n",
    "    The rows displayed in this cell are dataframes created from Pandas. \n",
    "    To use the row with the 0 index for column names, type 1. \n",
    "    For the row with the 1 index, it will be 2 and so on. i.e. 2\n",
    "    \n",
    "    If you are looking at the original spread sheet, remember that Python is zero indexed. \n",
    "    So the first row will be 0, second will be 1, and so on. \n",
    "    i.e. 1\n",
    "    \n",
    "    NOTE: If left blank, the original row that was used will be used.\n",
    "    \"\"\").strip()\n",
    "    \n",
    "    if header_row == \"\":\n",
    "        header_row = 0\n",
    "    else:\n",
    "        header_row = int(header_row)\n",
    "    \n",
    "    # Checking if any of the column names are from empty cells\n",
    "    column_names = \"\".join([str(col) for col in pd.read_excel(raw_data_file_path, sheet_name=sheet, header=header_row).columns])\n",
    "    # If a column name came from an empty cell, it would have \"Unnamed\" in it\n",
    "    if \"Unnamed\" in column_names:\n",
    "        raise ValueError(\"\"\"Not all the cells in the chosen row are filled in.\n",
    "                         Please choose a row that has the name of the columns\n",
    "                         \n",
    "                         The values in this row are: {}\"\"\".format(column_names))\n",
    "    else:\n",
    "        sheet_name_to_everything[sheet][\"header_row\"] = header_row"
   ]
  },
  {
   "cell_type": "code",
   "execution_count": 22,
   "id": "ca5ea725",
   "metadata": {},
   "outputs": [
    {
     "data": {
      "text/plain": [
       "defaultdict(dict, {'Master Assignment List': {'header_row': 0}})"
      ]
     },
     "execution_count": 22,
     "metadata": {},
     "output_type": "execute_result"
    }
   ],
   "source": [
    "sheet_name_to_everything"
   ]
  },
  {
   "cell_type": "markdown",
   "id": "04cc8630",
   "metadata": {},
   "source": [
    "## Reading in all the spreadsheets"
   ]
  },
  {
   "cell_type": "code",
   "execution_count": 23,
   "id": "f35a7cd1",
   "metadata": {},
   "outputs": [],
   "source": [
    "# Going through each sheet and creating a dataframe of it\n",
    "for key, value in sheet_name_to_everything.items():\n",
    "    sheet_name_to_everything[key][\"original_behavior_recording_dataframe\"] = pd.read_excel(raw_data_file_path, sheet_name=key, header=value[\"header_row\"])"
   ]
  },
  {
   "cell_type": "code",
   "execution_count": 24,
   "id": "99dc8c44",
   "metadata": {},
   "outputs": [
    {
     "data": {
      "text/html": [
       "<div>\n",
       "<style scoped>\n",
       "    .dataframe tbody tr th:only-of-type {\n",
       "        vertical-align: middle;\n",
       "    }\n",
       "\n",
       "    .dataframe tbody tr th {\n",
       "        vertical-align: top;\n",
       "    }\n",
       "\n",
       "    .dataframe thead th {\n",
       "        text-align: right;\n",
       "    }\n",
       "</style>\n",
       "<table border=\"1\" class=\"dataframe\">\n",
       "  <thead>\n",
       "    <tr style=\"text-align: right;\">\n",
       "      <th></th>\n",
       "      <th>Date</th>\n",
       "      <th>Cage</th>\n",
       "      <th>Box</th>\n",
       "      <th>Match</th>\n",
       "      <th>Scorer</th>\n",
       "      <th>Trial 1 Time</th>\n",
       "      <th>Trial 1 Winner</th>\n",
       "      <th>Trial 2 Time</th>\n",
       "      <th>Trial 2 Winner</th>\n",
       "      <th>Trial 3 Time</th>\n",
       "      <th>...</th>\n",
       "      <th>Trial 17 Time</th>\n",
       "      <th>Trial 17 Winner</th>\n",
       "      <th>Trial 18 Time</th>\n",
       "      <th>Trial 18 Winner</th>\n",
       "      <th>Trial 19 Time</th>\n",
       "      <th>Trial 19 Winner</th>\n",
       "      <th>Mouse 1 Wins</th>\n",
       "      <th>Mouse 2 Wins</th>\n",
       "      <th>Ties</th>\n",
       "      <th></th>\n",
       "    </tr>\n",
       "  </thead>\n",
       "  <tbody>\n",
       "    <tr>\n",
       "      <th>0</th>\n",
       "      <td>2022-07-28</td>\n",
       "      <td>1</td>\n",
       "      <td>1</td>\n",
       "      <td>1v2</td>\n",
       "      <td>Naeliz</td>\n",
       "      <td>0:48-0:58</td>\n",
       "      <td>2</td>\n",
       "      <td>1:56-2:04</td>\n",
       "      <td>1</td>\n",
       "      <td>3:09-3:18</td>\n",
       "      <td>...</td>\n",
       "      <td>20:53-21:00</td>\n",
       "      <td>1</td>\n",
       "      <td>22:33-22:42</td>\n",
       "      <td>1</td>\n",
       "      <td>23:39-23:47</td>\n",
       "      <td>1</td>\n",
       "      <td>NaN</td>\n",
       "      <td>NaN</td>\n",
       "      <td>NaN</td>\n",
       "      <td>NaN</td>\n",
       "    </tr>\n",
       "    <tr>\n",
       "      <th>1</th>\n",
       "      <td>2022-07-28</td>\n",
       "      <td>1</td>\n",
       "      <td>2</td>\n",
       "      <td>3v4</td>\n",
       "      <td>Erika</td>\n",
       "      <td>0:47-0:53</td>\n",
       "      <td>3</td>\n",
       "      <td>1:54-2:00</td>\n",
       "      <td>4</td>\n",
       "      <td>3:09-3:15</td>\n",
       "      <td>...</td>\n",
       "      <td>20:53-20:59</td>\n",
       "      <td>3</td>\n",
       "      <td>22:33-22:39</td>\n",
       "      <td>4</td>\n",
       "      <td>23:39-23:45</td>\n",
       "      <td>4</td>\n",
       "      <td>8.0</td>\n",
       "      <td>11.0</td>\n",
       "      <td>0.0</td>\n",
       "      <td>NaN</td>\n",
       "    </tr>\n",
       "    <tr>\n",
       "      <th>2</th>\n",
       "      <td>2022-07-28</td>\n",
       "      <td>1</td>\n",
       "      <td>3</td>\n",
       "      <td>2v3</td>\n",
       "      <td>Ezra</td>\n",
       "      <td>00:37-00:43</td>\n",
       "      <td>2</td>\n",
       "      <td>1:31-1:37</td>\n",
       "      <td>2</td>\n",
       "      <td>2:30-2:36</td>\n",
       "      <td>...</td>\n",
       "      <td>16:42-16:48</td>\n",
       "      <td>3</td>\n",
       "      <td>18:02-18:08</td>\n",
       "      <td>tie</td>\n",
       "      <td>18:55-19:01</td>\n",
       "      <td>tie</td>\n",
       "      <td>12.0</td>\n",
       "      <td>3.0</td>\n",
       "      <td>4.0</td>\n",
       "      <td>NaN</td>\n",
       "    </tr>\n",
       "    <tr>\n",
       "      <th>3</th>\n",
       "      <td>2022-07-28</td>\n",
       "      <td>1</td>\n",
       "      <td>4</td>\n",
       "      <td>1v4</td>\n",
       "      <td>Isabel</td>\n",
       "      <td>0:37-0:44</td>\n",
       "      <td>1</td>\n",
       "      <td>1:31-1:38</td>\n",
       "      <td>1</td>\n",
       "      <td>2:31-2:38</td>\n",
       "      <td>...</td>\n",
       "      <td>16:43-16:49</td>\n",
       "      <td>4</td>\n",
       "      <td>18:02-18:09</td>\n",
       "      <td>1</td>\n",
       "      <td>20:36-20:43</td>\n",
       "      <td>1</td>\n",
       "      <td>18.0</td>\n",
       "      <td>1.0</td>\n",
       "      <td>NaN</td>\n",
       "      <td>NaN</td>\n",
       "    </tr>\n",
       "    <tr>\n",
       "      <th>4</th>\n",
       "      <td>2022-07-28</td>\n",
       "      <td>1</td>\n",
       "      <td>1</td>\n",
       "      <td>2v4</td>\n",
       "      <td>Catalina</td>\n",
       "      <td>0:47 - 0:56</td>\n",
       "      <td>2</td>\n",
       "      <td>1:54 - 2:02</td>\n",
       "      <td>2</td>\n",
       "      <td>3:09 - 3:17</td>\n",
       "      <td>...</td>\n",
       "      <td>20:52 - 21:00</td>\n",
       "      <td>2</td>\n",
       "      <td>22:32 - 22:40</td>\n",
       "      <td>tie</td>\n",
       "      <td>23:39 - 23:47</td>\n",
       "      <td>tie</td>\n",
       "      <td>11.0</td>\n",
       "      <td>3.0</td>\n",
       "      <td>5.0</td>\n",
       "      <td>NaN</td>\n",
       "    </tr>\n",
       "  </tbody>\n",
       "</table>\n",
       "<p>5 rows × 47 columns</p>\n",
       "</div>"
      ],
      "text/plain": [
       "        Date  Cage  Box Match    Scorer Trial 1 Time Trial 1 Winner  \\\n",
       "0 2022-07-28     1    1   1v2    Naeliz    0:48-0:58              2   \n",
       "1 2022-07-28     1    2   3v4     Erika    0:47-0:53              3   \n",
       "2 2022-07-28     1    3   2v3      Ezra  00:37-00:43              2   \n",
       "3 2022-07-28     1    4   1v4    Isabel    0:37-0:44              1   \n",
       "4 2022-07-28     1    1   2v4  Catalina  0:47 - 0:56              2   \n",
       "\n",
       "  Trial 2 Time  Trial 2 Winner Trial 3 Time  ...  Trial 17 Time  \\\n",
       "0     1:56-2:04              1    3:09-3:18  ...    20:53-21:00   \n",
       "1     1:54-2:00              4    3:09-3:15  ...    20:53-20:59   \n",
       "2     1:31-1:37              2    2:30-2:36  ...    16:42-16:48   \n",
       "3     1:31-1:38              1    2:31-2:38  ...    16:43-16:49   \n",
       "4   1:54 - 2:02              2  3:09 - 3:17  ...  20:52 - 21:00   \n",
       "\n",
       "  Trial 17 Winner  Trial 18 Time Trial 18 Winner  Trial 19 Time  \\\n",
       "0               1    22:33-22:42               1    23:39-23:47   \n",
       "1               3    22:33-22:39               4    23:39-23:45   \n",
       "2               3    18:02-18:08             tie    18:55-19:01   \n",
       "3               4    18:02-18:09               1    20:36-20:43   \n",
       "4               2  22:32 - 22:40             tie  23:39 - 23:47   \n",
       "\n",
       "  Trial 19 Winner Mouse 1 Wins Mouse 2 Wins Ties      \n",
       "0               1          NaN          NaN  NaN NaN  \n",
       "1               4          8.0         11.0  0.0 NaN  \n",
       "2             tie         12.0          3.0  4.0 NaN  \n",
       "3               1         18.0          1.0  NaN NaN  \n",
       "4             tie         11.0          3.0  5.0 NaN  \n",
       "\n",
       "[5 rows x 47 columns]"
      ]
     },
     "execution_count": 24,
     "metadata": {},
     "output_type": "execute_result"
    }
   ],
   "source": [
    "sheet_name_to_everything[key][\"original_behavior_recording_dataframe\"].head()"
   ]
  },
  {
   "cell_type": "code",
   "execution_count": 25,
   "id": "ed0c66f9",
   "metadata": {},
   "outputs": [
    {
     "data": {
      "text/html": [
       "<div>\n",
       "<style scoped>\n",
       "    .dataframe tbody tr th:only-of-type {\n",
       "        vertical-align: middle;\n",
       "    }\n",
       "\n",
       "    .dataframe tbody tr th {\n",
       "        vertical-align: top;\n",
       "    }\n",
       "\n",
       "    .dataframe thead th {\n",
       "        text-align: right;\n",
       "    }\n",
       "</style>\n",
       "<table border=\"1\" class=\"dataframe\">\n",
       "  <thead>\n",
       "    <tr style=\"text-align: right;\">\n",
       "      <th></th>\n",
       "      <th>Date</th>\n",
       "      <th>Cage</th>\n",
       "      <th>Box</th>\n",
       "      <th>Match</th>\n",
       "      <th>Scorer</th>\n",
       "      <th>Trial 1 Time</th>\n",
       "      <th>Trial 1 Winner</th>\n",
       "      <th>Trial 2 Time</th>\n",
       "      <th>Trial 2 Winner</th>\n",
       "      <th>Trial 3 Time</th>\n",
       "      <th>...</th>\n",
       "      <th>Trial 17 Time</th>\n",
       "      <th>Trial 17 Winner</th>\n",
       "      <th>Trial 18 Time</th>\n",
       "      <th>Trial 18 Winner</th>\n",
       "      <th>Trial 19 Time</th>\n",
       "      <th>Trial 19 Winner</th>\n",
       "      <th>Mouse 1 Wins</th>\n",
       "      <th>Mouse 2 Wins</th>\n",
       "      <th>Ties</th>\n",
       "      <th></th>\n",
       "    </tr>\n",
       "  </thead>\n",
       "  <tbody>\n",
       "    <tr>\n",
       "      <th>67</th>\n",
       "      <td>2022-07-29</td>\n",
       "      <td>6</td>\n",
       "      <td>2</td>\n",
       "      <td>2v4</td>\n",
       "      <td>Isabel</td>\n",
       "      <td>0:46-0:53</td>\n",
       "      <td>4</td>\n",
       "      <td>1:51-1:59</td>\n",
       "      <td>4</td>\n",
       "      <td>3:06-3:14</td>\n",
       "      <td>...</td>\n",
       "      <td>20:41-20:50</td>\n",
       "      <td>4</td>\n",
       "      <td>22:21-22:30</td>\n",
       "      <td>4</td>\n",
       "      <td>23:28-23:36</td>\n",
       "      <td>4</td>\n",
       "      <td>0.0</td>\n",
       "      <td>19.0</td>\n",
       "      <td>0.0</td>\n",
       "      <td>NaN</td>\n",
       "    </tr>\n",
       "    <tr>\n",
       "      <th>68</th>\n",
       "      <td>2022-07-29</td>\n",
       "      <td>6</td>\n",
       "      <td>3</td>\n",
       "      <td>1v4</td>\n",
       "      <td>Catalina</td>\n",
       "      <td>0:44 - 0:52</td>\n",
       "      <td>1</td>\n",
       "      <td>1:50 - 1:59</td>\n",
       "      <td>1</td>\n",
       "      <td>3:05 - 3:13</td>\n",
       "      <td>...</td>\n",
       "      <td>20:00 - 20:07</td>\n",
       "      <td>1</td>\n",
       "      <td>21:35 - 21:44</td>\n",
       "      <td>1</td>\n",
       "      <td>22:42 - 22:49</td>\n",
       "      <td>1</td>\n",
       "      <td>16.0</td>\n",
       "      <td>2.0</td>\n",
       "      <td>1.0</td>\n",
       "      <td>NaN</td>\n",
       "    </tr>\n",
       "    <tr>\n",
       "      <th>69</th>\n",
       "      <td>2022-07-29</td>\n",
       "      <td>6</td>\n",
       "      <td>4</td>\n",
       "      <td>2v3</td>\n",
       "      <td>Erika</td>\n",
       "      <td>0:39-0:45</td>\n",
       "      <td>2</td>\n",
       "      <td>1:32-1:38</td>\n",
       "      <td>3</td>\n",
       "      <td>2:32-2:38</td>\n",
       "      <td>...</td>\n",
       "      <td>16:44-16:50</td>\n",
       "      <td>3</td>\n",
       "      <td>18:04-18:10</td>\n",
       "      <td>3</td>\n",
       "      <td>18:58-19:04</td>\n",
       "      <td>3</td>\n",
       "      <td>8.0</td>\n",
       "      <td>11.0</td>\n",
       "      <td>0.0</td>\n",
       "      <td>NaN</td>\n",
       "    </tr>\n",
       "    <tr>\n",
       "      <th>70</th>\n",
       "      <td>2022-07-29</td>\n",
       "      <td>6</td>\n",
       "      <td>1</td>\n",
       "      <td>3v4</td>\n",
       "      <td>Ezra</td>\n",
       "      <td>00:39-00:46</td>\n",
       "      <td>4</td>\n",
       "      <td>1:45-1:53</td>\n",
       "      <td>tie</td>\n",
       "      <td>3:01-3:08</td>\n",
       "      <td>...</td>\n",
       "      <td>20:44-20:51</td>\n",
       "      <td>4</td>\n",
       "      <td>22:24-22:31</td>\n",
       "      <td>tie</td>\n",
       "      <td>23:30-23:38</td>\n",
       "      <td>3</td>\n",
       "      <td>11.0</td>\n",
       "      <td>4.0</td>\n",
       "      <td>4.0</td>\n",
       "      <td>NaN</td>\n",
       "    </tr>\n",
       "    <tr>\n",
       "      <th>71</th>\n",
       "      <td>2022-07-29</td>\n",
       "      <td>6</td>\n",
       "      <td>1</td>\n",
       "      <td>1v2</td>\n",
       "      <td>Jocelyn</td>\n",
       "      <td>0:47-0:54</td>\n",
       "      <td>1</td>\n",
       "      <td>1:54-2:01</td>\n",
       "      <td>1</td>\n",
       "      <td>3:12-3:19</td>\n",
       "      <td>...</td>\n",
       "      <td>23:44-23:53</td>\n",
       "      <td>2</td>\n",
       "      <td>25:44-25:52</td>\n",
       "      <td>1</td>\n",
       "      <td>27:03-27:12</td>\n",
       "      <td>1</td>\n",
       "      <td>9.0</td>\n",
       "      <td>9.0</td>\n",
       "      <td>1.0</td>\n",
       "      <td>NaN</td>\n",
       "    </tr>\n",
       "  </tbody>\n",
       "</table>\n",
       "<p>5 rows × 47 columns</p>\n",
       "</div>"
      ],
      "text/plain": [
       "         Date  Cage  Box Match    Scorer Trial 1 Time Trial 1 Winner  \\\n",
       "67 2022-07-29     6    2   2v4    Isabel    0:46-0:53              4   \n",
       "68 2022-07-29     6    3   1v4  Catalina  0:44 - 0:52              1   \n",
       "69 2022-07-29     6    4   2v3    Erika     0:39-0:45              2   \n",
       "70 2022-07-29     6    1   3v4      Ezra  00:39-00:46              4   \n",
       "71 2022-07-29     6    1   1v2   Jocelyn    0:47-0:54              1   \n",
       "\n",
       "   Trial 2 Time  Trial 2 Winner Trial 3 Time  ...  Trial 17 Time  \\\n",
       "67     1:51-1:59              4    3:06-3:14  ...    20:41-20:50   \n",
       "68   1:50 - 1:59              1  3:05 - 3:13  ...  20:00 - 20:07   \n",
       "69     1:32-1:38              3    2:32-2:38  ...    16:44-16:50   \n",
       "70     1:45-1:53            tie    3:01-3:08  ...    20:44-20:51   \n",
       "71     1:54-2:01              1    3:12-3:19  ...    23:44-23:53   \n",
       "\n",
       "   Trial 17 Winner  Trial 18 Time Trial 18 Winner  Trial 19 Time  \\\n",
       "67               4    22:21-22:30               4    23:28-23:36   \n",
       "68               1  21:35 - 21:44               1  22:42 - 22:49   \n",
       "69               3    18:04-18:10               3    18:58-19:04   \n",
       "70               4    22:24-22:31             tie    23:30-23:38   \n",
       "71               2    25:44-25:52               1    27:03-27:12   \n",
       "\n",
       "   Trial 19 Winner Mouse 1 Wins Mouse 2 Wins Ties      \n",
       "67               4          0.0         19.0  0.0 NaN  \n",
       "68               1         16.0          2.0  1.0 NaN  \n",
       "69               3          8.0         11.0  0.0 NaN  \n",
       "70               3         11.0          4.0  4.0 NaN  \n",
       "71               1          9.0          9.0  1.0 NaN  \n",
       "\n",
       "[5 rows x 47 columns]"
      ]
     },
     "execution_count": 25,
     "metadata": {},
     "output_type": "execute_result"
    }
   ],
   "source": [
    "sheet_name_to_everything[key][\"original_behavior_recording_dataframe\"].tail()"
   ]
  },
  {
   "cell_type": "markdown",
   "id": "15834e87",
   "metadata": {},
   "source": [
    "## Standarizing the Columns"
   ]
  },
  {
   "cell_type": "markdown",
   "id": "af7890d3",
   "metadata": {},
   "source": [
    "- Making all the column names lower case and removing any extra spaces in the beginning and at the end"
   ]
  },
  {
   "cell_type": "code",
   "execution_count": 26,
   "id": "13d5c711",
   "metadata": {},
   "outputs": [],
   "source": [
    "for key, value in sheet_name_to_everything.items():\n",
    "    # Creating a dictionary that maps the original column name to the standarized one\n",
    "    column_name_to_standarized = defaultdict(dict)\n",
    "    for col in sheet_name_to_everything[key][\"original_behavior_recording_dataframe\"]:\n",
    "        # Making the column name lower case and removing the spaces\n",
    "        column_name_to_standarized[col] = str(col).lower().strip()\n",
    "    sheet_name_to_everything[key][\"column_name_to_standarized\"] = column_name_to_standarized"
   ]
  },
  {
   "cell_type": "code",
   "execution_count": 27,
   "id": "47e30c5b",
   "metadata": {},
   "outputs": [
    {
     "data": {
      "text/plain": [
       "defaultdict(dict,\n",
       "            {'Date': 'date',\n",
       "             'Cage': 'cage',\n",
       "             'Box': 'box',\n",
       "             'Match': 'match',\n",
       "             'Scorer': 'scorer',\n",
       "             'Trial 1 Time': 'trial 1 time',\n",
       "             'Trial 1 Winner': 'trial 1 winner',\n",
       "             'Trial 2 Time ': 'trial 2 time',\n",
       "             'Trial 2 Winner': 'trial 2 winner',\n",
       "             'Trial 3 Time': 'trial 3 time',\n",
       "             'Trial 3 Winner': 'trial 3 winner',\n",
       "             'Trial 4 Time': 'trial 4 time',\n",
       "             'Trial 4 Winner': 'trial 4 winner',\n",
       "             'Trial 5 Time': 'trial 5 time',\n",
       "             'Trial 5 Winner': 'trial 5 winner',\n",
       "             'Trial 6 Time': 'trial 6 time',\n",
       "             'Trial 6 Winner': 'trial 6 winner',\n",
       "             'Trial 7 Time': 'trial 7 time',\n",
       "             'Trial 7 Winner': 'trial 7 winner',\n",
       "             'Trial 8 Time': 'trial 8 time',\n",
       "             'Trial 8 Winner': 'trial 8 winner',\n",
       "             'Trial 9 Time': 'trial 9 time',\n",
       "             'Trial 9 Winner': 'trial 9 winner',\n",
       "             'Trial 10 Time ': 'trial 10 time',\n",
       "             'Trial 10 Winner': 'trial 10 winner',\n",
       "             'Trial 11 Time': 'trial 11 time',\n",
       "             'Trial 11 Winner': 'trial 11 winner',\n",
       "             'Trial 12 Time ': 'trial 12 time',\n",
       "             'Trial 12 Winner': 'trial 12 winner',\n",
       "             'Trial 13 Time': 'trial 13 time',\n",
       "             'Trial 13 Winner': 'trial 13 winner',\n",
       "             'Trial 14 Time': 'trial 14 time',\n",
       "             'Trial 14 Winner': 'trial 14 winner',\n",
       "             'Trial 15 Time': 'trial 15 time',\n",
       "             'Trial 15 Winner': 'trial 15 winner',\n",
       "             'Trial 16 Time ': 'trial 16 time',\n",
       "             'Trial 16 Winner': 'trial 16 winner',\n",
       "             'Trial 17 Time': 'trial 17 time',\n",
       "             'Trial 17 Winner': 'trial 17 winner',\n",
       "             'Trial 18 Time': 'trial 18 time',\n",
       "             'Trial 18 Winner': 'trial 18 winner',\n",
       "             'Trial 19 Time': 'trial 19 time',\n",
       "             'Trial 19 Winner': 'trial 19 winner',\n",
       "             'Mouse 1 Wins': 'mouse 1 wins',\n",
       "             'Mouse 2 Wins': 'mouse 2 wins',\n",
       "             'Ties': 'ties',\n",
       "             ' ': ''})"
      ]
     },
     "execution_count": 27,
     "metadata": {},
     "output_type": "execute_result"
    }
   ],
   "source": [
    "sheet_name_to_everything[key][\"column_name_to_standarized\"]"
   ]
  },
  {
   "cell_type": "code",
   "execution_count": 28,
   "id": "8fafcc6f",
   "metadata": {},
   "outputs": [],
   "source": [
    "# Renaming all the columns to the lower case and space removed version\n",
    "for key, value in sheet_name_to_everything.items():\n",
    "    sheet_name_to_everything[key][\"processed_behavior_recording_dataframe\"] = sheet_name_to_everything[key][\"original_behavior_recording_dataframe\"].rename(columns=sheet_name_to_everything[key][\"column_name_to_standarized\"])"
   ]
  },
  {
   "cell_type": "code",
   "execution_count": 29,
   "id": "49758e21",
   "metadata": {},
   "outputs": [
    {
     "data": {
      "text/html": [
       "<div>\n",
       "<style scoped>\n",
       "    .dataframe tbody tr th:only-of-type {\n",
       "        vertical-align: middle;\n",
       "    }\n",
       "\n",
       "    .dataframe tbody tr th {\n",
       "        vertical-align: top;\n",
       "    }\n",
       "\n",
       "    .dataframe thead th {\n",
       "        text-align: right;\n",
       "    }\n",
       "</style>\n",
       "<table border=\"1\" class=\"dataframe\">\n",
       "  <thead>\n",
       "    <tr style=\"text-align: right;\">\n",
       "      <th></th>\n",
       "      <th>date</th>\n",
       "      <th>cage</th>\n",
       "      <th>box</th>\n",
       "      <th>match</th>\n",
       "      <th>scorer</th>\n",
       "      <th>trial 1 time</th>\n",
       "      <th>trial 1 winner</th>\n",
       "      <th>trial 2 time</th>\n",
       "      <th>trial 2 winner</th>\n",
       "      <th>trial 3 time</th>\n",
       "      <th>...</th>\n",
       "      <th>trial 17 time</th>\n",
       "      <th>trial 17 winner</th>\n",
       "      <th>trial 18 time</th>\n",
       "      <th>trial 18 winner</th>\n",
       "      <th>trial 19 time</th>\n",
       "      <th>trial 19 winner</th>\n",
       "      <th>mouse 1 wins</th>\n",
       "      <th>mouse 2 wins</th>\n",
       "      <th>ties</th>\n",
       "      <th></th>\n",
       "    </tr>\n",
       "  </thead>\n",
       "  <tbody>\n",
       "    <tr>\n",
       "      <th>0</th>\n",
       "      <td>2022-07-28</td>\n",
       "      <td>1</td>\n",
       "      <td>1</td>\n",
       "      <td>1v2</td>\n",
       "      <td>Naeliz</td>\n",
       "      <td>0:48-0:58</td>\n",
       "      <td>2</td>\n",
       "      <td>1:56-2:04</td>\n",
       "      <td>1</td>\n",
       "      <td>3:09-3:18</td>\n",
       "      <td>...</td>\n",
       "      <td>20:53-21:00</td>\n",
       "      <td>1</td>\n",
       "      <td>22:33-22:42</td>\n",
       "      <td>1</td>\n",
       "      <td>23:39-23:47</td>\n",
       "      <td>1</td>\n",
       "      <td>NaN</td>\n",
       "      <td>NaN</td>\n",
       "      <td>NaN</td>\n",
       "      <td>NaN</td>\n",
       "    </tr>\n",
       "    <tr>\n",
       "      <th>1</th>\n",
       "      <td>2022-07-28</td>\n",
       "      <td>1</td>\n",
       "      <td>2</td>\n",
       "      <td>3v4</td>\n",
       "      <td>Erika</td>\n",
       "      <td>0:47-0:53</td>\n",
       "      <td>3</td>\n",
       "      <td>1:54-2:00</td>\n",
       "      <td>4</td>\n",
       "      <td>3:09-3:15</td>\n",
       "      <td>...</td>\n",
       "      <td>20:53-20:59</td>\n",
       "      <td>3</td>\n",
       "      <td>22:33-22:39</td>\n",
       "      <td>4</td>\n",
       "      <td>23:39-23:45</td>\n",
       "      <td>4</td>\n",
       "      <td>8.0</td>\n",
       "      <td>11.0</td>\n",
       "      <td>0.0</td>\n",
       "      <td>NaN</td>\n",
       "    </tr>\n",
       "    <tr>\n",
       "      <th>2</th>\n",
       "      <td>2022-07-28</td>\n",
       "      <td>1</td>\n",
       "      <td>3</td>\n",
       "      <td>2v3</td>\n",
       "      <td>Ezra</td>\n",
       "      <td>00:37-00:43</td>\n",
       "      <td>2</td>\n",
       "      <td>1:31-1:37</td>\n",
       "      <td>2</td>\n",
       "      <td>2:30-2:36</td>\n",
       "      <td>...</td>\n",
       "      <td>16:42-16:48</td>\n",
       "      <td>3</td>\n",
       "      <td>18:02-18:08</td>\n",
       "      <td>tie</td>\n",
       "      <td>18:55-19:01</td>\n",
       "      <td>tie</td>\n",
       "      <td>12.0</td>\n",
       "      <td>3.0</td>\n",
       "      <td>4.0</td>\n",
       "      <td>NaN</td>\n",
       "    </tr>\n",
       "    <tr>\n",
       "      <th>3</th>\n",
       "      <td>2022-07-28</td>\n",
       "      <td>1</td>\n",
       "      <td>4</td>\n",
       "      <td>1v4</td>\n",
       "      <td>Isabel</td>\n",
       "      <td>0:37-0:44</td>\n",
       "      <td>1</td>\n",
       "      <td>1:31-1:38</td>\n",
       "      <td>1</td>\n",
       "      <td>2:31-2:38</td>\n",
       "      <td>...</td>\n",
       "      <td>16:43-16:49</td>\n",
       "      <td>4</td>\n",
       "      <td>18:02-18:09</td>\n",
       "      <td>1</td>\n",
       "      <td>20:36-20:43</td>\n",
       "      <td>1</td>\n",
       "      <td>18.0</td>\n",
       "      <td>1.0</td>\n",
       "      <td>NaN</td>\n",
       "      <td>NaN</td>\n",
       "    </tr>\n",
       "    <tr>\n",
       "      <th>4</th>\n",
       "      <td>2022-07-28</td>\n",
       "      <td>1</td>\n",
       "      <td>1</td>\n",
       "      <td>2v4</td>\n",
       "      <td>Catalina</td>\n",
       "      <td>0:47 - 0:56</td>\n",
       "      <td>2</td>\n",
       "      <td>1:54 - 2:02</td>\n",
       "      <td>2</td>\n",
       "      <td>3:09 - 3:17</td>\n",
       "      <td>...</td>\n",
       "      <td>20:52 - 21:00</td>\n",
       "      <td>2</td>\n",
       "      <td>22:32 - 22:40</td>\n",
       "      <td>tie</td>\n",
       "      <td>23:39 - 23:47</td>\n",
       "      <td>tie</td>\n",
       "      <td>11.0</td>\n",
       "      <td>3.0</td>\n",
       "      <td>5.0</td>\n",
       "      <td>NaN</td>\n",
       "    </tr>\n",
       "  </tbody>\n",
       "</table>\n",
       "<p>5 rows × 47 columns</p>\n",
       "</div>"
      ],
      "text/plain": [
       "        date  cage  box match    scorer trial 1 time trial 1 winner  \\\n",
       "0 2022-07-28     1    1   1v2    Naeliz    0:48-0:58              2   \n",
       "1 2022-07-28     1    2   3v4     Erika    0:47-0:53              3   \n",
       "2 2022-07-28     1    3   2v3      Ezra  00:37-00:43              2   \n",
       "3 2022-07-28     1    4   1v4    Isabel    0:37-0:44              1   \n",
       "4 2022-07-28     1    1   2v4  Catalina  0:47 - 0:56              2   \n",
       "\n",
       "  trial 2 time trial 2 winner trial 3 time  ...  trial 17 time  \\\n",
       "0    1:56-2:04              1    3:09-3:18  ...    20:53-21:00   \n",
       "1    1:54-2:00              4    3:09-3:15  ...    20:53-20:59   \n",
       "2    1:31-1:37              2    2:30-2:36  ...    16:42-16:48   \n",
       "3    1:31-1:38              1    2:31-2:38  ...    16:43-16:49   \n",
       "4  1:54 - 2:02              2  3:09 - 3:17  ...  20:52 - 21:00   \n",
       "\n",
       "  trial 17 winner  trial 18 time trial 18 winner  trial 19 time  \\\n",
       "0               1    22:33-22:42               1    23:39-23:47   \n",
       "1               3    22:33-22:39               4    23:39-23:45   \n",
       "2               3    18:02-18:08             tie    18:55-19:01   \n",
       "3               4    18:02-18:09               1    20:36-20:43   \n",
       "4               2  22:32 - 22:40             tie  23:39 - 23:47   \n",
       "\n",
       "  trial 19 winner mouse 1 wins mouse 2 wins ties      \n",
       "0               1          NaN          NaN  NaN NaN  \n",
       "1               4          8.0         11.0  0.0 NaN  \n",
       "2             tie         12.0          3.0  4.0 NaN  \n",
       "3               1         18.0          1.0  NaN NaN  \n",
       "4             tie         11.0          3.0  5.0 NaN  \n",
       "\n",
       "[5 rows x 47 columns]"
      ]
     },
     "execution_count": 29,
     "metadata": {},
     "output_type": "execute_result"
    }
   ],
   "source": [
    "sheet_name_to_everything[key][\"processed_behavior_recording_dataframe\"].head()"
   ]
  },
  {
   "cell_type": "markdown",
   "id": "852d401f",
   "metadata": {},
   "source": [
    "## Removing Unnecessary Columns"
   ]
  },
  {
   "cell_type": "markdown",
   "id": "db6eab4f",
   "metadata": {},
   "source": [
    "# TODO: Pick which columns to drop or keep"
   ]
  },
  {
   "cell_type": "code",
   "execution_count": 30,
   "id": "c92f7cf3",
   "metadata": {},
   "outputs": [],
   "source": [
    "reward_competition_df = sheet_name_to_everything[key][\"processed_behavior_recording_dataframe\"]"
   ]
  },
  {
   "cell_type": "code",
   "execution_count": 31,
   "id": "16cf1433",
   "metadata": {},
   "outputs": [
    {
     "data": {
      "text/plain": [
       "Index(['date', 'cage', 'box', 'match', 'scorer', 'trial 1 time',\n",
       "       'trial 1 winner', 'trial 2 time', 'trial 2 winner', 'trial 3 time',\n",
       "       'trial 3 winner', 'trial 4 time', 'trial 4 winner', 'trial 5 time',\n",
       "       'trial 5 winner', 'trial 6 time', 'trial 6 winner', 'trial 7 time',\n",
       "       'trial 7 winner', 'trial 8 time', 'trial 8 winner', 'trial 9 time',\n",
       "       'trial 9 winner', 'trial 10 time', 'trial 10 winner', 'trial 11 time',\n",
       "       'trial 11 winner', 'trial 12 time', 'trial 12 winner', 'trial 13 time',\n",
       "       'trial 13 winner', 'trial 14 time', 'trial 14 winner', 'trial 15 time',\n",
       "       'trial 15 winner', 'trial 16 time', 'trial 16 winner', 'trial 17 time',\n",
       "       'trial 17 winner', 'trial 18 time', 'trial 18 winner', 'trial 19 time',\n",
       "       'trial 19 winner', 'mouse 1 wins', 'mouse 2 wins', 'ties', ''],\n",
       "      dtype='object')"
      ]
     },
     "execution_count": 31,
     "metadata": {},
     "output_type": "execute_result"
    }
   ],
   "source": [
    "reward_competition_df.columns"
   ]
  },
  {
   "cell_type": "code",
   "execution_count": 32,
   "id": "effed4ce",
   "metadata": {},
   "outputs": [],
   "source": [
    "reward_competition_df = reward_competition_df.drop([\"mouse 1 wins\", \"mouse 2 wins\", \"ties\", \" \"], axis=1, errors=\"ignore\")"
   ]
  },
  {
   "cell_type": "code",
   "execution_count": 33,
   "id": "bf15b42c",
   "metadata": {},
   "outputs": [],
   "source": [
    "columns_to_keep = [col for col in reward_competition_df.columns if \"time\" not in col.lower().strip()]"
   ]
  },
  {
   "cell_type": "code",
   "execution_count": 34,
   "id": "2a64a402",
   "metadata": {},
   "outputs": [
    {
     "data": {
      "text/plain": [
       "['date',\n",
       " 'cage',\n",
       " 'box',\n",
       " 'match',\n",
       " 'scorer',\n",
       " 'trial 1 winner',\n",
       " 'trial 2 winner',\n",
       " 'trial 3 winner',\n",
       " 'trial 4 winner',\n",
       " 'trial 5 winner',\n",
       " 'trial 6 winner',\n",
       " 'trial 7 winner',\n",
       " 'trial 8 winner',\n",
       " 'trial 9 winner',\n",
       " 'trial 10 winner',\n",
       " 'trial 11 winner',\n",
       " 'trial 12 winner',\n",
       " 'trial 13 winner',\n",
       " 'trial 14 winner',\n",
       " 'trial 15 winner',\n",
       " 'trial 16 winner',\n",
       " 'trial 17 winner',\n",
       " 'trial 18 winner',\n",
       " 'trial 19 winner',\n",
       " '']"
      ]
     },
     "execution_count": 34,
     "metadata": {},
     "output_type": "execute_result"
    }
   ],
   "source": [
    "columns_to_keep"
   ]
  },
  {
   "cell_type": "code",
   "execution_count": 35,
   "id": "bdc6c5fd",
   "metadata": {},
   "outputs": [],
   "source": [
    "reward_competition_df = reward_competition_df[columns_to_keep].copy()"
   ]
  },
  {
   "cell_type": "code",
   "execution_count": 36,
   "id": "b0dc057e",
   "metadata": {},
   "outputs": [
    {
     "data": {
      "text/html": [
       "<div>\n",
       "<style scoped>\n",
       "    .dataframe tbody tr th:only-of-type {\n",
       "        vertical-align: middle;\n",
       "    }\n",
       "\n",
       "    .dataframe tbody tr th {\n",
       "        vertical-align: top;\n",
       "    }\n",
       "\n",
       "    .dataframe thead th {\n",
       "        text-align: right;\n",
       "    }\n",
       "</style>\n",
       "<table border=\"1\" class=\"dataframe\">\n",
       "  <thead>\n",
       "    <tr style=\"text-align: right;\">\n",
       "      <th></th>\n",
       "      <th>date</th>\n",
       "      <th>cage</th>\n",
       "      <th>box</th>\n",
       "      <th>match</th>\n",
       "      <th>scorer</th>\n",
       "      <th>trial 1 winner</th>\n",
       "      <th>trial 2 winner</th>\n",
       "      <th>trial 3 winner</th>\n",
       "      <th>trial 4 winner</th>\n",
       "      <th>trial 5 winner</th>\n",
       "      <th>...</th>\n",
       "      <th>trial 11 winner</th>\n",
       "      <th>trial 12 winner</th>\n",
       "      <th>trial 13 winner</th>\n",
       "      <th>trial 14 winner</th>\n",
       "      <th>trial 15 winner</th>\n",
       "      <th>trial 16 winner</th>\n",
       "      <th>trial 17 winner</th>\n",
       "      <th>trial 18 winner</th>\n",
       "      <th>trial 19 winner</th>\n",
       "      <th></th>\n",
       "    </tr>\n",
       "  </thead>\n",
       "  <tbody>\n",
       "    <tr>\n",
       "      <th>0</th>\n",
       "      <td>2022-07-28</td>\n",
       "      <td>1</td>\n",
       "      <td>1</td>\n",
       "      <td>1v2</td>\n",
       "      <td>Naeliz</td>\n",
       "      <td>2</td>\n",
       "      <td>1</td>\n",
       "      <td>1</td>\n",
       "      <td>2</td>\n",
       "      <td>2</td>\n",
       "      <td>...</td>\n",
       "      <td>1</td>\n",
       "      <td>2</td>\n",
       "      <td>1</td>\n",
       "      <td>1</td>\n",
       "      <td>2</td>\n",
       "      <td>1</td>\n",
       "      <td>1</td>\n",
       "      <td>1</td>\n",
       "      <td>1</td>\n",
       "      <td>NaN</td>\n",
       "    </tr>\n",
       "    <tr>\n",
       "      <th>1</th>\n",
       "      <td>2022-07-28</td>\n",
       "      <td>1</td>\n",
       "      <td>2</td>\n",
       "      <td>3v4</td>\n",
       "      <td>Erika</td>\n",
       "      <td>3</td>\n",
       "      <td>4</td>\n",
       "      <td>4</td>\n",
       "      <td>3</td>\n",
       "      <td>4</td>\n",
       "      <td>...</td>\n",
       "      <td>4</td>\n",
       "      <td>3</td>\n",
       "      <td>3</td>\n",
       "      <td>4</td>\n",
       "      <td>3</td>\n",
       "      <td>3</td>\n",
       "      <td>3</td>\n",
       "      <td>4</td>\n",
       "      <td>4</td>\n",
       "      <td>NaN</td>\n",
       "    </tr>\n",
       "    <tr>\n",
       "      <th>2</th>\n",
       "      <td>2022-07-28</td>\n",
       "      <td>1</td>\n",
       "      <td>3</td>\n",
       "      <td>2v3</td>\n",
       "      <td>Ezra</td>\n",
       "      <td>2</td>\n",
       "      <td>2</td>\n",
       "      <td>2</td>\n",
       "      <td>2</td>\n",
       "      <td>2</td>\n",
       "      <td>...</td>\n",
       "      <td>2</td>\n",
       "      <td>2</td>\n",
       "      <td>tie</td>\n",
       "      <td>2</td>\n",
       "      <td>3</td>\n",
       "      <td>tie</td>\n",
       "      <td>3</td>\n",
       "      <td>tie</td>\n",
       "      <td>tie</td>\n",
       "      <td>NaN</td>\n",
       "    </tr>\n",
       "    <tr>\n",
       "      <th>3</th>\n",
       "      <td>2022-07-28</td>\n",
       "      <td>1</td>\n",
       "      <td>4</td>\n",
       "      <td>1v4</td>\n",
       "      <td>Isabel</td>\n",
       "      <td>1</td>\n",
       "      <td>1</td>\n",
       "      <td>1</td>\n",
       "      <td>1</td>\n",
       "      <td>1</td>\n",
       "      <td>...</td>\n",
       "      <td>1</td>\n",
       "      <td>1</td>\n",
       "      <td>1</td>\n",
       "      <td>1</td>\n",
       "      <td>1</td>\n",
       "      <td>1</td>\n",
       "      <td>4</td>\n",
       "      <td>1</td>\n",
       "      <td>1</td>\n",
       "      <td>NaN</td>\n",
       "    </tr>\n",
       "    <tr>\n",
       "      <th>4</th>\n",
       "      <td>2022-07-28</td>\n",
       "      <td>1</td>\n",
       "      <td>1</td>\n",
       "      <td>2v4</td>\n",
       "      <td>Catalina</td>\n",
       "      <td>2</td>\n",
       "      <td>2</td>\n",
       "      <td>4</td>\n",
       "      <td>2</td>\n",
       "      <td>4</td>\n",
       "      <td>...</td>\n",
       "      <td>2</td>\n",
       "      <td>2</td>\n",
       "      <td>tie</td>\n",
       "      <td>tie</td>\n",
       "      <td>tie</td>\n",
       "      <td>2</td>\n",
       "      <td>2</td>\n",
       "      <td>tie</td>\n",
       "      <td>tie</td>\n",
       "      <td>NaN</td>\n",
       "    </tr>\n",
       "  </tbody>\n",
       "</table>\n",
       "<p>5 rows × 25 columns</p>\n",
       "</div>"
      ],
      "text/plain": [
       "        date  cage  box match    scorer trial 1 winner trial 2 winner  \\\n",
       "0 2022-07-28     1    1   1v2    Naeliz              2              1   \n",
       "1 2022-07-28     1    2   3v4     Erika              3              4   \n",
       "2 2022-07-28     1    3   2v3      Ezra              2              2   \n",
       "3 2022-07-28     1    4   1v4    Isabel              1              1   \n",
       "4 2022-07-28     1    1   2v4  Catalina              2              2   \n",
       "\n",
       "  trial 3 winner trial 4 winner trial 5 winner  ... trial 11 winner  \\\n",
       "0              1              2              2  ...               1   \n",
       "1              4              3              4  ...               4   \n",
       "2              2              2              2  ...               2   \n",
       "3              1              1              1  ...               1   \n",
       "4              4              2              4  ...               2   \n",
       "\n",
       "  trial 12 winner trial 13 winner trial 14 winner trial 15 winner  \\\n",
       "0               2               1               1               2   \n",
       "1               3               3               4               3   \n",
       "2               2             tie               2               3   \n",
       "3               1               1               1               1   \n",
       "4               2             tie            tie              tie   \n",
       "\n",
       "  trial 16 winner trial 17 winner trial 18 winner trial 19 winner      \n",
       "0               1               1               1               1 NaN  \n",
       "1               3               3               4               4 NaN  \n",
       "2             tie               3             tie             tie NaN  \n",
       "3               1               4               1               1 NaN  \n",
       "4               2               2             tie             tie NaN  \n",
       "\n",
       "[5 rows x 25 columns]"
      ]
     },
     "execution_count": 36,
     "metadata": {},
     "output_type": "execute_result"
    }
   ],
   "source": [
    "reward_competition_df.head()"
   ]
  },
  {
   "cell_type": "code",
   "execution_count": 37,
   "id": "e28cb862",
   "metadata": {},
   "outputs": [],
   "source": [
    "reward_competition_df = reward_competition_df.dropna(subset=[\"trial 1 winner\"])"
   ]
  },
  {
   "cell_type": "markdown",
   "id": "038ed4af",
   "metadata": {},
   "source": [
    "## Add both IDs as a column"
   ]
  },
  {
   "cell_type": "markdown",
   "id": "a9182674",
   "metadata": {},
   "source": [
    "# TODO: Pick the match column"
   ]
  },
  {
   "cell_type": "code",
   "execution_count": 38,
   "id": "0d85ca17",
   "metadata": {},
   "outputs": [],
   "source": [
    "reward_competition_df[\"animal_ids\"] = reward_competition_df[\"match\"].apply(lambda x: set([x.strip() for x in x.split(\"v\")]))"
   ]
  },
  {
   "cell_type": "code",
   "execution_count": 39,
   "id": "f1a0a009",
   "metadata": {
    "scrolled": true
   },
   "outputs": [
    {
     "data": {
      "text/html": [
       "<div>\n",
       "<style scoped>\n",
       "    .dataframe tbody tr th:only-of-type {\n",
       "        vertical-align: middle;\n",
       "    }\n",
       "\n",
       "    .dataframe tbody tr th {\n",
       "        vertical-align: top;\n",
       "    }\n",
       "\n",
       "    .dataframe thead th {\n",
       "        text-align: right;\n",
       "    }\n",
       "</style>\n",
       "<table border=\"1\" class=\"dataframe\">\n",
       "  <thead>\n",
       "    <tr style=\"text-align: right;\">\n",
       "      <th></th>\n",
       "      <th>date</th>\n",
       "      <th>cage</th>\n",
       "      <th>box</th>\n",
       "      <th>match</th>\n",
       "      <th>scorer</th>\n",
       "      <th>trial 1 winner</th>\n",
       "      <th>trial 2 winner</th>\n",
       "      <th>trial 3 winner</th>\n",
       "      <th>trial 4 winner</th>\n",
       "      <th>trial 5 winner</th>\n",
       "      <th>...</th>\n",
       "      <th>trial 12 winner</th>\n",
       "      <th>trial 13 winner</th>\n",
       "      <th>trial 14 winner</th>\n",
       "      <th>trial 15 winner</th>\n",
       "      <th>trial 16 winner</th>\n",
       "      <th>trial 17 winner</th>\n",
       "      <th>trial 18 winner</th>\n",
       "      <th>trial 19 winner</th>\n",
       "      <th></th>\n",
       "      <th>animal_ids</th>\n",
       "    </tr>\n",
       "  </thead>\n",
       "  <tbody>\n",
       "    <tr>\n",
       "      <th>0</th>\n",
       "      <td>2022-07-28</td>\n",
       "      <td>1</td>\n",
       "      <td>1</td>\n",
       "      <td>1v2</td>\n",
       "      <td>Naeliz</td>\n",
       "      <td>2</td>\n",
       "      <td>1</td>\n",
       "      <td>1</td>\n",
       "      <td>2</td>\n",
       "      <td>2</td>\n",
       "      <td>...</td>\n",
       "      <td>2</td>\n",
       "      <td>1</td>\n",
       "      <td>1</td>\n",
       "      <td>2</td>\n",
       "      <td>1</td>\n",
       "      <td>1</td>\n",
       "      <td>1</td>\n",
       "      <td>1</td>\n",
       "      <td>NaN</td>\n",
       "      <td>{2, 1}</td>\n",
       "    </tr>\n",
       "    <tr>\n",
       "      <th>1</th>\n",
       "      <td>2022-07-28</td>\n",
       "      <td>1</td>\n",
       "      <td>2</td>\n",
       "      <td>3v4</td>\n",
       "      <td>Erika</td>\n",
       "      <td>3</td>\n",
       "      <td>4</td>\n",
       "      <td>4</td>\n",
       "      <td>3</td>\n",
       "      <td>4</td>\n",
       "      <td>...</td>\n",
       "      <td>3</td>\n",
       "      <td>3</td>\n",
       "      <td>4</td>\n",
       "      <td>3</td>\n",
       "      <td>3</td>\n",
       "      <td>3</td>\n",
       "      <td>4</td>\n",
       "      <td>4</td>\n",
       "      <td>NaN</td>\n",
       "      <td>{4, 3}</td>\n",
       "    </tr>\n",
       "    <tr>\n",
       "      <th>2</th>\n",
       "      <td>2022-07-28</td>\n",
       "      <td>1</td>\n",
       "      <td>3</td>\n",
       "      <td>2v3</td>\n",
       "      <td>Ezra</td>\n",
       "      <td>2</td>\n",
       "      <td>2</td>\n",
       "      <td>2</td>\n",
       "      <td>2</td>\n",
       "      <td>2</td>\n",
       "      <td>...</td>\n",
       "      <td>2</td>\n",
       "      <td>tie</td>\n",
       "      <td>2</td>\n",
       "      <td>3</td>\n",
       "      <td>tie</td>\n",
       "      <td>3</td>\n",
       "      <td>tie</td>\n",
       "      <td>tie</td>\n",
       "      <td>NaN</td>\n",
       "      <td>{2, 3}</td>\n",
       "    </tr>\n",
       "    <tr>\n",
       "      <th>3</th>\n",
       "      <td>2022-07-28</td>\n",
       "      <td>1</td>\n",
       "      <td>4</td>\n",
       "      <td>1v4</td>\n",
       "      <td>Isabel</td>\n",
       "      <td>1</td>\n",
       "      <td>1</td>\n",
       "      <td>1</td>\n",
       "      <td>1</td>\n",
       "      <td>1</td>\n",
       "      <td>...</td>\n",
       "      <td>1</td>\n",
       "      <td>1</td>\n",
       "      <td>1</td>\n",
       "      <td>1</td>\n",
       "      <td>1</td>\n",
       "      <td>4</td>\n",
       "      <td>1</td>\n",
       "      <td>1</td>\n",
       "      <td>NaN</td>\n",
       "      <td>{4, 1}</td>\n",
       "    </tr>\n",
       "    <tr>\n",
       "      <th>4</th>\n",
       "      <td>2022-07-28</td>\n",
       "      <td>1</td>\n",
       "      <td>1</td>\n",
       "      <td>2v4</td>\n",
       "      <td>Catalina</td>\n",
       "      <td>2</td>\n",
       "      <td>2</td>\n",
       "      <td>4</td>\n",
       "      <td>2</td>\n",
       "      <td>4</td>\n",
       "      <td>...</td>\n",
       "      <td>2</td>\n",
       "      <td>tie</td>\n",
       "      <td>tie</td>\n",
       "      <td>tie</td>\n",
       "      <td>2</td>\n",
       "      <td>2</td>\n",
       "      <td>tie</td>\n",
       "      <td>tie</td>\n",
       "      <td>NaN</td>\n",
       "      <td>{2, 4}</td>\n",
       "    </tr>\n",
       "  </tbody>\n",
       "</table>\n",
       "<p>5 rows × 26 columns</p>\n",
       "</div>"
      ],
      "text/plain": [
       "        date  cage  box match    scorer trial 1 winner trial 2 winner  \\\n",
       "0 2022-07-28     1    1   1v2    Naeliz              2              1   \n",
       "1 2022-07-28     1    2   3v4     Erika              3              4   \n",
       "2 2022-07-28     1    3   2v3      Ezra              2              2   \n",
       "3 2022-07-28     1    4   1v4    Isabel              1              1   \n",
       "4 2022-07-28     1    1   2v4  Catalina              2              2   \n",
       "\n",
       "  trial 3 winner trial 4 winner trial 5 winner  ... trial 12 winner  \\\n",
       "0              1              2              2  ...               2   \n",
       "1              4              3              4  ...               3   \n",
       "2              2              2              2  ...               2   \n",
       "3              1              1              1  ...               1   \n",
       "4              4              2              4  ...               2   \n",
       "\n",
       "  trial 13 winner trial 14 winner trial 15 winner trial 16 winner  \\\n",
       "0               1               1               2               1   \n",
       "1               3               4               3               3   \n",
       "2             tie               2               3             tie   \n",
       "3               1               1               1               1   \n",
       "4             tie            tie              tie               2   \n",
       "\n",
       "  trial 17 winner trial 18 winner trial 19 winner     animal_ids  \n",
       "0               1               1               1 NaN     {2, 1}  \n",
       "1               3               4               4 NaN     {4, 3}  \n",
       "2               3             tie             tie NaN     {2, 3}  \n",
       "3               4               1               1 NaN     {4, 1}  \n",
       "4               2             tie             tie NaN     {2, 4}  \n",
       "\n",
       "[5 rows x 26 columns]"
      ]
     },
     "execution_count": 39,
     "metadata": {},
     "output_type": "execute_result"
    }
   ],
   "source": [
    "reward_competition_df.head()"
   ]
  },
  {
   "cell_type": "markdown",
   "id": "3adb10cf",
   "metadata": {},
   "source": [
    "## Melt "
   ]
  },
  {
   "cell_type": "code",
   "execution_count": 40,
   "id": "5da7a9e6",
   "metadata": {},
   "outputs": [],
   "source": [
    "reward_competition_df[\"index\"] = reward_competition_df.index\n",
    "reward_competition_df = reward_competition_df.reset_index(drop=True)"
   ]
  },
  {
   "cell_type": "code",
   "execution_count": 41,
   "id": "43719692",
   "metadata": {
    "scrolled": true
   },
   "outputs": [
    {
     "data": {
      "text/html": [
       "<div>\n",
       "<style scoped>\n",
       "    .dataframe tbody tr th:only-of-type {\n",
       "        vertical-align: middle;\n",
       "    }\n",
       "\n",
       "    .dataframe tbody tr th {\n",
       "        vertical-align: top;\n",
       "    }\n",
       "\n",
       "    .dataframe thead th {\n",
       "        text-align: right;\n",
       "    }\n",
       "</style>\n",
       "<table border=\"1\" class=\"dataframe\">\n",
       "  <thead>\n",
       "    <tr style=\"text-align: right;\">\n",
       "      <th></th>\n",
       "      <th>date</th>\n",
       "      <th>cage</th>\n",
       "      <th>box</th>\n",
       "      <th>match</th>\n",
       "      <th>scorer</th>\n",
       "      <th>trial 1 winner</th>\n",
       "      <th>trial 2 winner</th>\n",
       "      <th>trial 3 winner</th>\n",
       "      <th>trial 4 winner</th>\n",
       "      <th>trial 5 winner</th>\n",
       "      <th>...</th>\n",
       "      <th>trial 13 winner</th>\n",
       "      <th>trial 14 winner</th>\n",
       "      <th>trial 15 winner</th>\n",
       "      <th>trial 16 winner</th>\n",
       "      <th>trial 17 winner</th>\n",
       "      <th>trial 18 winner</th>\n",
       "      <th>trial 19 winner</th>\n",
       "      <th></th>\n",
       "      <th>animal_ids</th>\n",
       "      <th>index</th>\n",
       "    </tr>\n",
       "  </thead>\n",
       "  <tbody>\n",
       "    <tr>\n",
       "      <th>0</th>\n",
       "      <td>2022-07-28</td>\n",
       "      <td>1</td>\n",
       "      <td>1</td>\n",
       "      <td>1v2</td>\n",
       "      <td>Naeliz</td>\n",
       "      <td>2</td>\n",
       "      <td>1</td>\n",
       "      <td>1</td>\n",
       "      <td>2</td>\n",
       "      <td>2</td>\n",
       "      <td>...</td>\n",
       "      <td>1</td>\n",
       "      <td>1</td>\n",
       "      <td>2</td>\n",
       "      <td>1</td>\n",
       "      <td>1</td>\n",
       "      <td>1</td>\n",
       "      <td>1</td>\n",
       "      <td>NaN</td>\n",
       "      <td>{2, 1}</td>\n",
       "      <td>0</td>\n",
       "    </tr>\n",
       "    <tr>\n",
       "      <th>1</th>\n",
       "      <td>2022-07-28</td>\n",
       "      <td>1</td>\n",
       "      <td>2</td>\n",
       "      <td>3v4</td>\n",
       "      <td>Erika</td>\n",
       "      <td>3</td>\n",
       "      <td>4</td>\n",
       "      <td>4</td>\n",
       "      <td>3</td>\n",
       "      <td>4</td>\n",
       "      <td>...</td>\n",
       "      <td>3</td>\n",
       "      <td>4</td>\n",
       "      <td>3</td>\n",
       "      <td>3</td>\n",
       "      <td>3</td>\n",
       "      <td>4</td>\n",
       "      <td>4</td>\n",
       "      <td>NaN</td>\n",
       "      <td>{4, 3}</td>\n",
       "      <td>1</td>\n",
       "    </tr>\n",
       "    <tr>\n",
       "      <th>2</th>\n",
       "      <td>2022-07-28</td>\n",
       "      <td>1</td>\n",
       "      <td>3</td>\n",
       "      <td>2v3</td>\n",
       "      <td>Ezra</td>\n",
       "      <td>2</td>\n",
       "      <td>2</td>\n",
       "      <td>2</td>\n",
       "      <td>2</td>\n",
       "      <td>2</td>\n",
       "      <td>...</td>\n",
       "      <td>tie</td>\n",
       "      <td>2</td>\n",
       "      <td>3</td>\n",
       "      <td>tie</td>\n",
       "      <td>3</td>\n",
       "      <td>tie</td>\n",
       "      <td>tie</td>\n",
       "      <td>NaN</td>\n",
       "      <td>{2, 3}</td>\n",
       "      <td>2</td>\n",
       "    </tr>\n",
       "    <tr>\n",
       "      <th>3</th>\n",
       "      <td>2022-07-28</td>\n",
       "      <td>1</td>\n",
       "      <td>4</td>\n",
       "      <td>1v4</td>\n",
       "      <td>Isabel</td>\n",
       "      <td>1</td>\n",
       "      <td>1</td>\n",
       "      <td>1</td>\n",
       "      <td>1</td>\n",
       "      <td>1</td>\n",
       "      <td>...</td>\n",
       "      <td>1</td>\n",
       "      <td>1</td>\n",
       "      <td>1</td>\n",
       "      <td>1</td>\n",
       "      <td>4</td>\n",
       "      <td>1</td>\n",
       "      <td>1</td>\n",
       "      <td>NaN</td>\n",
       "      <td>{4, 1}</td>\n",
       "      <td>3</td>\n",
       "    </tr>\n",
       "    <tr>\n",
       "      <th>4</th>\n",
       "      <td>2022-07-28</td>\n",
       "      <td>1</td>\n",
       "      <td>1</td>\n",
       "      <td>2v4</td>\n",
       "      <td>Catalina</td>\n",
       "      <td>2</td>\n",
       "      <td>2</td>\n",
       "      <td>4</td>\n",
       "      <td>2</td>\n",
       "      <td>4</td>\n",
       "      <td>...</td>\n",
       "      <td>tie</td>\n",
       "      <td>tie</td>\n",
       "      <td>tie</td>\n",
       "      <td>2</td>\n",
       "      <td>2</td>\n",
       "      <td>tie</td>\n",
       "      <td>tie</td>\n",
       "      <td>NaN</td>\n",
       "      <td>{2, 4}</td>\n",
       "      <td>4</td>\n",
       "    </tr>\n",
       "  </tbody>\n",
       "</table>\n",
       "<p>5 rows × 27 columns</p>\n",
       "</div>"
      ],
      "text/plain": [
       "        date  cage  box match    scorer trial 1 winner trial 2 winner  \\\n",
       "0 2022-07-28     1    1   1v2    Naeliz              2              1   \n",
       "1 2022-07-28     1    2   3v4     Erika              3              4   \n",
       "2 2022-07-28     1    3   2v3      Ezra              2              2   \n",
       "3 2022-07-28     1    4   1v4    Isabel              1              1   \n",
       "4 2022-07-28     1    1   2v4  Catalina              2              2   \n",
       "\n",
       "  trial 3 winner trial 4 winner trial 5 winner  ... trial 13 winner  \\\n",
       "0              1              2              2  ...               1   \n",
       "1              4              3              4  ...               3   \n",
       "2              2              2              2  ...             tie   \n",
       "3              1              1              1  ...               1   \n",
       "4              4              2              4  ...             tie   \n",
       "\n",
       "  trial 14 winner trial 15 winner trial 16 winner trial 17 winner  \\\n",
       "0               1               2               1               1   \n",
       "1               4               3               3               3   \n",
       "2               2               3             tie               3   \n",
       "3               1               1               1               4   \n",
       "4            tie              tie               2               2   \n",
       "\n",
       "  trial 18 winner trial 19 winner     animal_ids index  \n",
       "0               1               1 NaN     {2, 1}     0  \n",
       "1               4               4 NaN     {4, 3}     1  \n",
       "2             tie             tie NaN     {2, 3}     2  \n",
       "3               1               1 NaN     {4, 1}     3  \n",
       "4             tie             tie NaN     {2, 4}     4  \n",
       "\n",
       "[5 rows x 27 columns]"
      ]
     },
     "execution_count": 41,
     "metadata": {},
     "output_type": "execute_result"
    }
   ],
   "source": [
    "reward_competition_df.head()"
   ]
  },
  {
   "cell_type": "markdown",
   "id": "89e6b466",
   "metadata": {},
   "source": [
    "# TODO: Pick the columns to keep"
   ]
  },
  {
   "cell_type": "code",
   "execution_count": 42,
   "id": "778219ec",
   "metadata": {},
   "outputs": [],
   "source": [
    "melted_reward_competition_df = reward_competition_df.melt(id_vars=[\"index\", \"date\", \"cage\", \"box\", \"match\", \"scorer\", \"animal_ids\"], \n",
    "        var_name=\"trial\", \n",
    "        value_name=\"winner\")"
   ]
  },
  {
   "cell_type": "code",
   "execution_count": 43,
   "id": "a47c0d48",
   "metadata": {},
   "outputs": [
    {
     "data": {
      "text/html": [
       "<div>\n",
       "<style scoped>\n",
       "    .dataframe tbody tr th:only-of-type {\n",
       "        vertical-align: middle;\n",
       "    }\n",
       "\n",
       "    .dataframe tbody tr th {\n",
       "        vertical-align: top;\n",
       "    }\n",
       "\n",
       "    .dataframe thead th {\n",
       "        text-align: right;\n",
       "    }\n",
       "</style>\n",
       "<table border=\"1\" class=\"dataframe\">\n",
       "  <thead>\n",
       "    <tr style=\"text-align: right;\">\n",
       "      <th></th>\n",
       "      <th>index</th>\n",
       "      <th>date</th>\n",
       "      <th>cage</th>\n",
       "      <th>box</th>\n",
       "      <th>match</th>\n",
       "      <th>scorer</th>\n",
       "      <th>animal_ids</th>\n",
       "      <th>trial</th>\n",
       "      <th>winner</th>\n",
       "    </tr>\n",
       "  </thead>\n",
       "  <tbody>\n",
       "    <tr>\n",
       "      <th>0</th>\n",
       "      <td>0</td>\n",
       "      <td>2022-07-28</td>\n",
       "      <td>1</td>\n",
       "      <td>1</td>\n",
       "      <td>1v2</td>\n",
       "      <td>Naeliz</td>\n",
       "      <td>{2, 1}</td>\n",
       "      <td>trial 1 winner</td>\n",
       "      <td>2</td>\n",
       "    </tr>\n",
       "    <tr>\n",
       "      <th>1</th>\n",
       "      <td>1</td>\n",
       "      <td>2022-07-28</td>\n",
       "      <td>1</td>\n",
       "      <td>2</td>\n",
       "      <td>3v4</td>\n",
       "      <td>Erika</td>\n",
       "      <td>{4, 3}</td>\n",
       "      <td>trial 1 winner</td>\n",
       "      <td>3</td>\n",
       "    </tr>\n",
       "    <tr>\n",
       "      <th>2</th>\n",
       "      <td>2</td>\n",
       "      <td>2022-07-28</td>\n",
       "      <td>1</td>\n",
       "      <td>3</td>\n",
       "      <td>2v3</td>\n",
       "      <td>Ezra</td>\n",
       "      <td>{2, 3}</td>\n",
       "      <td>trial 1 winner</td>\n",
       "      <td>2</td>\n",
       "    </tr>\n",
       "    <tr>\n",
       "      <th>3</th>\n",
       "      <td>3</td>\n",
       "      <td>2022-07-28</td>\n",
       "      <td>1</td>\n",
       "      <td>4</td>\n",
       "      <td>1v4</td>\n",
       "      <td>Isabel</td>\n",
       "      <td>{4, 1}</td>\n",
       "      <td>trial 1 winner</td>\n",
       "      <td>1</td>\n",
       "    </tr>\n",
       "    <tr>\n",
       "      <th>4</th>\n",
       "      <td>4</td>\n",
       "      <td>2022-07-28</td>\n",
       "      <td>1</td>\n",
       "      <td>1</td>\n",
       "      <td>2v4</td>\n",
       "      <td>Catalina</td>\n",
       "      <td>{2, 4}</td>\n",
       "      <td>trial 1 winner</td>\n",
       "      <td>2</td>\n",
       "    </tr>\n",
       "  </tbody>\n",
       "</table>\n",
       "</div>"
      ],
      "text/plain": [
       "   index       date  cage  box match    scorer animal_ids           trial  \\\n",
       "0      0 2022-07-28     1    1   1v2    Naeliz     {2, 1}  trial 1 winner   \n",
       "1      1 2022-07-28     1    2   3v4     Erika     {4, 3}  trial 1 winner   \n",
       "2      2 2022-07-28     1    3   2v3      Ezra     {2, 3}  trial 1 winner   \n",
       "3      3 2022-07-28     1    4   1v4    Isabel     {4, 1}  trial 1 winner   \n",
       "4      4 2022-07-28     1    1   2v4  Catalina     {2, 4}  trial 1 winner   \n",
       "\n",
       "  winner  \n",
       "0      2  \n",
       "1      3  \n",
       "2      2  \n",
       "3      1  \n",
       "4      2  "
      ]
     },
     "execution_count": 43,
     "metadata": {},
     "output_type": "execute_result"
    }
   ],
   "source": [
    "melted_reward_competition_df.head()"
   ]
  },
  {
   "cell_type": "markdown",
   "id": "705b0acb",
   "metadata": {},
   "source": [
    "- Dropping all rows that don't contain Winner"
   ]
  },
  {
   "cell_type": "code",
   "execution_count": 44,
   "id": "a4c06042",
   "metadata": {},
   "outputs": [],
   "source": [
    "melted_reward_competition_df = melted_reward_competition_df.dropna(subset=\"winner\")"
   ]
  },
  {
   "cell_type": "markdown",
   "id": "0a8d683f",
   "metadata": {},
   "source": [
    "- Making all the ids into string"
   ]
  },
  {
   "cell_type": "code",
   "execution_count": 45,
   "id": "c5aa91c2",
   "metadata": {},
   "outputs": [],
   "source": [
    "melted_reward_competition_df[\"winner\"] = melted_reward_competition_df[\"winner\"].astype(str)"
   ]
  },
  {
   "cell_type": "markdown",
   "id": "dc4d01af",
   "metadata": {},
   "source": [
    "- Getting the number of the trial so that we can order by number(instead of string, which would make 11 come before 2)"
   ]
  },
  {
   "cell_type": "code",
   "execution_count": 46,
   "id": "9c95882d",
   "metadata": {},
   "outputs": [],
   "source": [
    "melted_reward_competition_df[\"trial_number\"] = melted_reward_competition_df[\"trial\"].apply(lambda x: int(x.lower().strip(\"trial\").strip(\"winner\")))"
   ]
  },
  {
   "cell_type": "code",
   "execution_count": 47,
   "id": "67affc21",
   "metadata": {},
   "outputs": [],
   "source": [
    "melted_reward_competition_df = melted_reward_competition_df.sort_values([\"index\", \"trial_number\"])"
   ]
  },
  {
   "cell_type": "code",
   "execution_count": 48,
   "id": "af0ba03a",
   "metadata": {},
   "outputs": [
    {
     "data": {
      "text/html": [
       "<div>\n",
       "<style scoped>\n",
       "    .dataframe tbody tr th:only-of-type {\n",
       "        vertical-align: middle;\n",
       "    }\n",
       "\n",
       "    .dataframe tbody tr th {\n",
       "        vertical-align: top;\n",
       "    }\n",
       "\n",
       "    .dataframe thead th {\n",
       "        text-align: right;\n",
       "    }\n",
       "</style>\n",
       "<table border=\"1\" class=\"dataframe\">\n",
       "  <thead>\n",
       "    <tr style=\"text-align: right;\">\n",
       "      <th></th>\n",
       "      <th>index</th>\n",
       "      <th>date</th>\n",
       "      <th>cage</th>\n",
       "      <th>box</th>\n",
       "      <th>match</th>\n",
       "      <th>scorer</th>\n",
       "      <th>animal_ids</th>\n",
       "      <th>trial</th>\n",
       "      <th>winner</th>\n",
       "      <th>trial_number</th>\n",
       "    </tr>\n",
       "  </thead>\n",
       "  <tbody>\n",
       "    <tr>\n",
       "      <th>0</th>\n",
       "      <td>0</td>\n",
       "      <td>2022-07-28</td>\n",
       "      <td>1</td>\n",
       "      <td>1</td>\n",
       "      <td>1v2</td>\n",
       "      <td>Naeliz</td>\n",
       "      <td>{2, 1}</td>\n",
       "      <td>trial 1 winner</td>\n",
       "      <td>2</td>\n",
       "      <td>1</td>\n",
       "    </tr>\n",
       "    <tr>\n",
       "      <th>72</th>\n",
       "      <td>0</td>\n",
       "      <td>2022-07-28</td>\n",
       "      <td>1</td>\n",
       "      <td>1</td>\n",
       "      <td>1v2</td>\n",
       "      <td>Naeliz</td>\n",
       "      <td>{2, 1}</td>\n",
       "      <td>trial 2 winner</td>\n",
       "      <td>1</td>\n",
       "      <td>2</td>\n",
       "    </tr>\n",
       "    <tr>\n",
       "      <th>144</th>\n",
       "      <td>0</td>\n",
       "      <td>2022-07-28</td>\n",
       "      <td>1</td>\n",
       "      <td>1</td>\n",
       "      <td>1v2</td>\n",
       "      <td>Naeliz</td>\n",
       "      <td>{2, 1}</td>\n",
       "      <td>trial 3 winner</td>\n",
       "      <td>1</td>\n",
       "      <td>3</td>\n",
       "    </tr>\n",
       "    <tr>\n",
       "      <th>216</th>\n",
       "      <td>0</td>\n",
       "      <td>2022-07-28</td>\n",
       "      <td>1</td>\n",
       "      <td>1</td>\n",
       "      <td>1v2</td>\n",
       "      <td>Naeliz</td>\n",
       "      <td>{2, 1}</td>\n",
       "      <td>trial 4 winner</td>\n",
       "      <td>2</td>\n",
       "      <td>4</td>\n",
       "    </tr>\n",
       "    <tr>\n",
       "      <th>288</th>\n",
       "      <td>0</td>\n",
       "      <td>2022-07-28</td>\n",
       "      <td>1</td>\n",
       "      <td>1</td>\n",
       "      <td>1v2</td>\n",
       "      <td>Naeliz</td>\n",
       "      <td>{2, 1}</td>\n",
       "      <td>trial 5 winner</td>\n",
       "      <td>2</td>\n",
       "      <td>5</td>\n",
       "    </tr>\n",
       "  </tbody>\n",
       "</table>\n",
       "</div>"
      ],
      "text/plain": [
       "     index       date  cage  box match  scorer animal_ids           trial  \\\n",
       "0        0 2022-07-28     1    1   1v2  Naeliz     {2, 1}  trial 1 winner   \n",
       "72       0 2022-07-28     1    1   1v2  Naeliz     {2, 1}  trial 2 winner   \n",
       "144      0 2022-07-28     1    1   1v2  Naeliz     {2, 1}  trial 3 winner   \n",
       "216      0 2022-07-28     1    1   1v2  Naeliz     {2, 1}  trial 4 winner   \n",
       "288      0 2022-07-28     1    1   1v2  Naeliz     {2, 1}  trial 5 winner   \n",
       "\n",
       "    winner  trial_number  \n",
       "0        2             1  \n",
       "72       1             2  \n",
       "144      1             3  \n",
       "216      2             4  \n",
       "288      2             5  "
      ]
     },
     "execution_count": 48,
     "metadata": {},
     "output_type": "execute_result"
    }
   ],
   "source": [
    "melted_reward_competition_df.head()"
   ]
  },
  {
   "cell_type": "code",
   "execution_count": 49,
   "id": "923b7c24",
   "metadata": {},
   "outputs": [
    {
     "data": {
      "text/plain": [
       "array([ 1,  2,  3,  4,  5,  6,  7,  8,  9, 10, 11, 12, 13, 14, 15, 16, 17,\n",
       "       18, 19])"
      ]
     },
     "execution_count": 49,
     "metadata": {},
     "output_type": "execute_result"
    }
   ],
   "source": [
    "melted_reward_competition_df[\"trial_number\"].unique()"
   ]
  },
  {
   "cell_type": "code",
   "execution_count": 50,
   "id": "65e49b9b",
   "metadata": {},
   "outputs": [
    {
     "data": {
      "text/plain": [
       "array(['2', '1', 'tie', '3', '4', 'tie '], dtype=object)"
      ]
     },
     "execution_count": 50,
     "metadata": {},
     "output_type": "execute_result"
    }
   ],
   "source": [
    "melted_reward_competition_df[\"winner\"].unique()"
   ]
  },
  {
   "cell_type": "markdown",
   "id": "54bfd940",
   "metadata": {},
   "source": [
    "- Removing all the ties"
   ]
  },
  {
   "cell_type": "code",
   "execution_count": 51,
   "id": "f8826843",
   "metadata": {},
   "outputs": [],
   "source": [
    "all_winner_ids = []\n",
    "for winner_id in melted_reward_competition_df[\"winner\"].unique():\n",
    "    if not re.search('[a-zA-Z]', str(winner_id)):\n",
    "        all_winner_ids.append(winner_id)"
   ]
  },
  {
   "cell_type": "code",
   "execution_count": 52,
   "id": "7e2269c0",
   "metadata": {},
   "outputs": [
    {
     "data": {
      "text/plain": [
       "['2', '1', '3', '4']"
      ]
     },
     "execution_count": 52,
     "metadata": {},
     "output_type": "execute_result"
    }
   ],
   "source": [
    "all_winner_ids"
   ]
  },
  {
   "cell_type": "markdown",
   "id": "a8f9a3e2",
   "metadata": {},
   "source": [
    "- Dropping all rows that don't have numbers as IDs for the winner column"
   ]
  },
  {
   "cell_type": "code",
   "execution_count": 53,
   "id": "29e78eb7",
   "metadata": {},
   "outputs": [],
   "source": [
    "melted_reward_competition_df = melted_reward_competition_df[melted_reward_competition_df[\"winner\"].isin(all_winner_ids)]"
   ]
  },
  {
   "cell_type": "code",
   "execution_count": 54,
   "id": "9230cfd7",
   "metadata": {},
   "outputs": [
    {
     "data": {
      "text/plain": [
       "array(['2', '1', '3', '4'], dtype=object)"
      ]
     },
     "execution_count": 54,
     "metadata": {},
     "output_type": "execute_result"
    }
   ],
   "source": [
    "melted_reward_competition_df[\"winner\"].unique()"
   ]
  },
  {
   "cell_type": "markdown",
   "id": "9fcce421",
   "metadata": {},
   "source": [
    "## Add a column for the loser ID"
   ]
  },
  {
   "cell_type": "code",
   "execution_count": 55,
   "id": "2e5713c5",
   "metadata": {},
   "outputs": [
    {
     "data": {
      "text/plain": [
       "Index(['index', 'date', 'cage', 'box', 'match', 'scorer', 'animal_ids',\n",
       "       'trial', 'winner', 'trial_number'],\n",
       "      dtype='object')"
      ]
     },
     "execution_count": 55,
     "metadata": {},
     "output_type": "execute_result"
    }
   ],
   "source": [
    "melted_reward_competition_df.columns"
   ]
  },
  {
   "cell_type": "code",
   "execution_count": 56,
   "id": "f232daaf",
   "metadata": {},
   "outputs": [
    {
     "data": {
      "text/html": [
       "<div>\n",
       "<style scoped>\n",
       "    .dataframe tbody tr th:only-of-type {\n",
       "        vertical-align: middle;\n",
       "    }\n",
       "\n",
       "    .dataframe tbody tr th {\n",
       "        vertical-align: top;\n",
       "    }\n",
       "\n",
       "    .dataframe thead th {\n",
       "        text-align: right;\n",
       "    }\n",
       "</style>\n",
       "<table border=\"1\" class=\"dataframe\">\n",
       "  <thead>\n",
       "    <tr style=\"text-align: right;\">\n",
       "      <th></th>\n",
       "      <th>index</th>\n",
       "      <th>date</th>\n",
       "      <th>cage</th>\n",
       "      <th>box</th>\n",
       "      <th>match</th>\n",
       "      <th>scorer</th>\n",
       "      <th>animal_ids</th>\n",
       "      <th>trial</th>\n",
       "      <th>winner</th>\n",
       "      <th>trial_number</th>\n",
       "    </tr>\n",
       "  </thead>\n",
       "  <tbody>\n",
       "    <tr>\n",
       "      <th>0</th>\n",
       "      <td>0</td>\n",
       "      <td>2022-07-28</td>\n",
       "      <td>1</td>\n",
       "      <td>1</td>\n",
       "      <td>1v2</td>\n",
       "      <td>Naeliz</td>\n",
       "      <td>{2, 1}</td>\n",
       "      <td>trial 1 winner</td>\n",
       "      <td>2</td>\n",
       "      <td>1</td>\n",
       "    </tr>\n",
       "    <tr>\n",
       "      <th>72</th>\n",
       "      <td>0</td>\n",
       "      <td>2022-07-28</td>\n",
       "      <td>1</td>\n",
       "      <td>1</td>\n",
       "      <td>1v2</td>\n",
       "      <td>Naeliz</td>\n",
       "      <td>{2, 1}</td>\n",
       "      <td>trial 2 winner</td>\n",
       "      <td>1</td>\n",
       "      <td>2</td>\n",
       "    </tr>\n",
       "    <tr>\n",
       "      <th>144</th>\n",
       "      <td>0</td>\n",
       "      <td>2022-07-28</td>\n",
       "      <td>1</td>\n",
       "      <td>1</td>\n",
       "      <td>1v2</td>\n",
       "      <td>Naeliz</td>\n",
       "      <td>{2, 1}</td>\n",
       "      <td>trial 3 winner</td>\n",
       "      <td>1</td>\n",
       "      <td>3</td>\n",
       "    </tr>\n",
       "    <tr>\n",
       "      <th>216</th>\n",
       "      <td>0</td>\n",
       "      <td>2022-07-28</td>\n",
       "      <td>1</td>\n",
       "      <td>1</td>\n",
       "      <td>1v2</td>\n",
       "      <td>Naeliz</td>\n",
       "      <td>{2, 1}</td>\n",
       "      <td>trial 4 winner</td>\n",
       "      <td>2</td>\n",
       "      <td>4</td>\n",
       "    </tr>\n",
       "    <tr>\n",
       "      <th>288</th>\n",
       "      <td>0</td>\n",
       "      <td>2022-07-28</td>\n",
       "      <td>1</td>\n",
       "      <td>1</td>\n",
       "      <td>1v2</td>\n",
       "      <td>Naeliz</td>\n",
       "      <td>{2, 1}</td>\n",
       "      <td>trial 5 winner</td>\n",
       "      <td>2</td>\n",
       "      <td>5</td>\n",
       "    </tr>\n",
       "  </tbody>\n",
       "</table>\n",
       "</div>"
      ],
      "text/plain": [
       "     index       date  cage  box match  scorer animal_ids           trial  \\\n",
       "0        0 2022-07-28     1    1   1v2  Naeliz     {2, 1}  trial 1 winner   \n",
       "72       0 2022-07-28     1    1   1v2  Naeliz     {2, 1}  trial 2 winner   \n",
       "144      0 2022-07-28     1    1   1v2  Naeliz     {2, 1}  trial 3 winner   \n",
       "216      0 2022-07-28     1    1   1v2  Naeliz     {2, 1}  trial 4 winner   \n",
       "288      0 2022-07-28     1    1   1v2  Naeliz     {2, 1}  trial 5 winner   \n",
       "\n",
       "    winner  trial_number  \n",
       "0        2             1  \n",
       "72       1             2  \n",
       "144      1             3  \n",
       "216      2             4  \n",
       "288      2             5  "
      ]
     },
     "execution_count": 56,
     "metadata": {},
     "output_type": "execute_result"
    }
   ],
   "source": [
    "melted_reward_competition_df.head()"
   ]
  },
  {
   "cell_type": "code",
   "execution_count": 57,
   "id": "c8490865",
   "metadata": {},
   "outputs": [],
   "source": [
    "melted_reward_competition_df[\"loser\"] = melted_reward_competition_df.apply(lambda x: (list(x[\"animal_ids\"] - set([x[\"winner\"]]))[0]), axis=1)"
   ]
  },
  {
   "cell_type": "code",
   "execution_count": 58,
   "id": "f5c4506f",
   "metadata": {},
   "outputs": [
    {
     "data": {
      "text/plain": [
       "array(['1', '2', '4', '3'], dtype=object)"
      ]
     },
     "execution_count": 58,
     "metadata": {},
     "output_type": "execute_result"
    }
   ],
   "source": [
    "melted_reward_competition_df[\"loser\"].unique()"
   ]
  },
  {
   "cell_type": "code",
   "execution_count": 59,
   "id": "d9710db3",
   "metadata": {},
   "outputs": [
    {
     "data": {
      "text/html": [
       "<div>\n",
       "<style scoped>\n",
       "    .dataframe tbody tr th:only-of-type {\n",
       "        vertical-align: middle;\n",
       "    }\n",
       "\n",
       "    .dataframe tbody tr th {\n",
       "        vertical-align: top;\n",
       "    }\n",
       "\n",
       "    .dataframe thead th {\n",
       "        text-align: right;\n",
       "    }\n",
       "</style>\n",
       "<table border=\"1\" class=\"dataframe\">\n",
       "  <thead>\n",
       "    <tr style=\"text-align: right;\">\n",
       "      <th></th>\n",
       "      <th>index</th>\n",
       "      <th>date</th>\n",
       "      <th>cage</th>\n",
       "      <th>box</th>\n",
       "      <th>match</th>\n",
       "      <th>scorer</th>\n",
       "      <th>animal_ids</th>\n",
       "      <th>trial</th>\n",
       "      <th>winner</th>\n",
       "      <th>trial_number</th>\n",
       "      <th>loser</th>\n",
       "    </tr>\n",
       "  </thead>\n",
       "  <tbody>\n",
       "    <tr>\n",
       "      <th>0</th>\n",
       "      <td>0</td>\n",
       "      <td>2022-07-28</td>\n",
       "      <td>1</td>\n",
       "      <td>1</td>\n",
       "      <td>1v2</td>\n",
       "      <td>Naeliz</td>\n",
       "      <td>{2, 1}</td>\n",
       "      <td>trial 1 winner</td>\n",
       "      <td>2</td>\n",
       "      <td>1</td>\n",
       "      <td>1</td>\n",
       "    </tr>\n",
       "    <tr>\n",
       "      <th>72</th>\n",
       "      <td>0</td>\n",
       "      <td>2022-07-28</td>\n",
       "      <td>1</td>\n",
       "      <td>1</td>\n",
       "      <td>1v2</td>\n",
       "      <td>Naeliz</td>\n",
       "      <td>{2, 1}</td>\n",
       "      <td>trial 2 winner</td>\n",
       "      <td>1</td>\n",
       "      <td>2</td>\n",
       "      <td>2</td>\n",
       "    </tr>\n",
       "    <tr>\n",
       "      <th>144</th>\n",
       "      <td>0</td>\n",
       "      <td>2022-07-28</td>\n",
       "      <td>1</td>\n",
       "      <td>1</td>\n",
       "      <td>1v2</td>\n",
       "      <td>Naeliz</td>\n",
       "      <td>{2, 1}</td>\n",
       "      <td>trial 3 winner</td>\n",
       "      <td>1</td>\n",
       "      <td>3</td>\n",
       "      <td>2</td>\n",
       "    </tr>\n",
       "    <tr>\n",
       "      <th>216</th>\n",
       "      <td>0</td>\n",
       "      <td>2022-07-28</td>\n",
       "      <td>1</td>\n",
       "      <td>1</td>\n",
       "      <td>1v2</td>\n",
       "      <td>Naeliz</td>\n",
       "      <td>{2, 1}</td>\n",
       "      <td>trial 4 winner</td>\n",
       "      <td>2</td>\n",
       "      <td>4</td>\n",
       "      <td>1</td>\n",
       "    </tr>\n",
       "    <tr>\n",
       "      <th>288</th>\n",
       "      <td>0</td>\n",
       "      <td>2022-07-28</td>\n",
       "      <td>1</td>\n",
       "      <td>1</td>\n",
       "      <td>1v2</td>\n",
       "      <td>Naeliz</td>\n",
       "      <td>{2, 1}</td>\n",
       "      <td>trial 5 winner</td>\n",
       "      <td>2</td>\n",
       "      <td>5</td>\n",
       "      <td>1</td>\n",
       "    </tr>\n",
       "  </tbody>\n",
       "</table>\n",
       "</div>"
      ],
      "text/plain": [
       "     index       date  cage  box match  scorer animal_ids           trial  \\\n",
       "0        0 2022-07-28     1    1   1v2  Naeliz     {2, 1}  trial 1 winner   \n",
       "72       0 2022-07-28     1    1   1v2  Naeliz     {2, 1}  trial 2 winner   \n",
       "144      0 2022-07-28     1    1   1v2  Naeliz     {2, 1}  trial 3 winner   \n",
       "216      0 2022-07-28     1    1   1v2  Naeliz     {2, 1}  trial 4 winner   \n",
       "288      0 2022-07-28     1    1   1v2  Naeliz     {2, 1}  trial 5 winner   \n",
       "\n",
       "    winner  trial_number loser  \n",
       "0        2             1     1  \n",
       "72       1             2     2  \n",
       "144      1             3     2  \n",
       "216      2             4     1  \n",
       "288      2             5     1  "
      ]
     },
     "execution_count": 59,
     "metadata": {},
     "output_type": "execute_result"
    }
   ],
   "source": [
    "melted_reward_competition_df.head(n=5)"
   ]
  },
  {
   "cell_type": "code",
   "execution_count": 60,
   "id": "de0878ec",
   "metadata": {},
   "outputs": [
    {
     "data": {
      "text/html": [
       "<div>\n",
       "<style scoped>\n",
       "    .dataframe tbody tr th:only-of-type {\n",
       "        vertical-align: middle;\n",
       "    }\n",
       "\n",
       "    .dataframe tbody tr th {\n",
       "        vertical-align: top;\n",
       "    }\n",
       "\n",
       "    .dataframe thead th {\n",
       "        text-align: right;\n",
       "    }\n",
       "</style>\n",
       "<table border=\"1\" class=\"dataframe\">\n",
       "  <thead>\n",
       "    <tr style=\"text-align: right;\">\n",
       "      <th></th>\n",
       "      <th>index</th>\n",
       "      <th>date</th>\n",
       "      <th>cage</th>\n",
       "      <th>box</th>\n",
       "      <th>match</th>\n",
       "      <th>scorer</th>\n",
       "      <th>animal_ids</th>\n",
       "      <th>trial</th>\n",
       "      <th>winner</th>\n",
       "      <th>trial_number</th>\n",
       "      <th>loser</th>\n",
       "    </tr>\n",
       "  </thead>\n",
       "  <tbody>\n",
       "    <tr>\n",
       "      <th>1079</th>\n",
       "      <td>71</td>\n",
       "      <td>2022-07-29</td>\n",
       "      <td>6</td>\n",
       "      <td>1</td>\n",
       "      <td>1v2</td>\n",
       "      <td>Jocelyn</td>\n",
       "      <td>{2, 1}</td>\n",
       "      <td>trial 15 winner</td>\n",
       "      <td>2</td>\n",
       "      <td>15</td>\n",
       "      <td>1</td>\n",
       "    </tr>\n",
       "    <tr>\n",
       "      <th>1151</th>\n",
       "      <td>71</td>\n",
       "      <td>2022-07-29</td>\n",
       "      <td>6</td>\n",
       "      <td>1</td>\n",
       "      <td>1v2</td>\n",
       "      <td>Jocelyn</td>\n",
       "      <td>{2, 1}</td>\n",
       "      <td>trial 16 winner</td>\n",
       "      <td>2</td>\n",
       "      <td>16</td>\n",
       "      <td>1</td>\n",
       "    </tr>\n",
       "    <tr>\n",
       "      <th>1223</th>\n",
       "      <td>71</td>\n",
       "      <td>2022-07-29</td>\n",
       "      <td>6</td>\n",
       "      <td>1</td>\n",
       "      <td>1v2</td>\n",
       "      <td>Jocelyn</td>\n",
       "      <td>{2, 1}</td>\n",
       "      <td>trial 17 winner</td>\n",
       "      <td>2</td>\n",
       "      <td>17</td>\n",
       "      <td>1</td>\n",
       "    </tr>\n",
       "    <tr>\n",
       "      <th>1295</th>\n",
       "      <td>71</td>\n",
       "      <td>2022-07-29</td>\n",
       "      <td>6</td>\n",
       "      <td>1</td>\n",
       "      <td>1v2</td>\n",
       "      <td>Jocelyn</td>\n",
       "      <td>{2, 1}</td>\n",
       "      <td>trial 18 winner</td>\n",
       "      <td>1</td>\n",
       "      <td>18</td>\n",
       "      <td>2</td>\n",
       "    </tr>\n",
       "    <tr>\n",
       "      <th>1367</th>\n",
       "      <td>71</td>\n",
       "      <td>2022-07-29</td>\n",
       "      <td>6</td>\n",
       "      <td>1</td>\n",
       "      <td>1v2</td>\n",
       "      <td>Jocelyn</td>\n",
       "      <td>{2, 1}</td>\n",
       "      <td>trial 19 winner</td>\n",
       "      <td>1</td>\n",
       "      <td>19</td>\n",
       "      <td>2</td>\n",
       "    </tr>\n",
       "  </tbody>\n",
       "</table>\n",
       "</div>"
      ],
      "text/plain": [
       "      index       date  cage  box match   scorer animal_ids            trial  \\\n",
       "1079     71 2022-07-29     6    1   1v2  Jocelyn     {2, 1}  trial 15 winner   \n",
       "1151     71 2022-07-29     6    1   1v2  Jocelyn     {2, 1}  trial 16 winner   \n",
       "1223     71 2022-07-29     6    1   1v2  Jocelyn     {2, 1}  trial 17 winner   \n",
       "1295     71 2022-07-29     6    1   1v2  Jocelyn     {2, 1}  trial 18 winner   \n",
       "1367     71 2022-07-29     6    1   1v2  Jocelyn     {2, 1}  trial 19 winner   \n",
       "\n",
       "     winner  trial_number loser  \n",
       "1079      2            15     1  \n",
       "1151      2            16     1  \n",
       "1223      2            17     1  \n",
       "1295      1            18     2  \n",
       "1367      1            19     2  "
      ]
     },
     "execution_count": 60,
     "metadata": {},
     "output_type": "execute_result"
    }
   ],
   "source": [
    "melted_reward_competition_df.tail(n=5)"
   ]
  },
  {
   "cell_type": "markdown",
   "id": "cf5ec39f",
   "metadata": {},
   "source": [
    "## Calculating ELO Score"
   ]
  },
  {
   "cell_type": "markdown",
   "id": "5b2390aa",
   "metadata": {},
   "source": [
    "- Example calculation"
   ]
  },
  {
   "cell_type": "code",
   "execution_count": 61,
   "id": "e334d47f",
   "metadata": {},
   "outputs": [
    {
     "data": {
      "text/plain": [
       "1019.9"
      ]
     },
     "execution_count": 61,
     "metadata": {},
     "output_type": "execute_result"
    }
   ],
   "source": [
    "eloscore.calculate_elo_score(subject_elo_score=1000, agent_elo_score=2000)"
   ]
  },
  {
   "cell_type": "markdown",
   "id": "671cfc52",
   "metadata": {},
   "source": [
    "# TODO: Find a way to account for ties"
   ]
  },
  {
   "cell_type": "markdown",
   "id": "3412a5c0",
   "metadata": {},
   "source": [
    "## Get the Elo score for all the events"
   ]
  },
  {
   "cell_type": "code",
   "execution_count": 62,
   "id": "5130bfce",
   "metadata": {},
   "outputs": [
    {
     "data": {
      "text/plain": [
       "defaultdict(<function eloscore.eloscore.update_elo_score.<locals>.<lambda>()>,\n",
       "            {'A': 1010.0, 'B': 990.0})"
      ]
     },
     "execution_count": 62,
     "metadata": {},
     "output_type": "execute_result"
    }
   ],
   "source": [
    "eloscore.update_elo_score(winner_id=\"A\", loser_id=\"B\")"
   ]
  },
  {
   "cell_type": "markdown",
   "id": "bfa74955",
   "metadata": {},
   "source": [
    "- Function that creates a dictionary that has the original/updated elo score for each event"
   ]
  },
  {
   "cell_type": "code",
   "execution_count": 63,
   "id": "41bbc15e",
   "metadata": {},
   "outputs": [],
   "source": [
    "cage_to_elo_score_dict = defaultdict(dict)\n",
    "for cage in melted_reward_competition_df[\"cage\"].unique():\n",
    "    cage_df = melted_reward_competition_df[melted_reward_competition_df[\"cage\"] == cage]\n",
    "    cage_to_elo_score_dict[cage] = eloscore.iterate_elo_score_calculation_for_dataframe(dataframe=cage_df, winner_column=\"winner\", loser_column=\"loser\", additional_columns=[\"index\", \"date\", \"cage\", \"box\", \"match\", \"scorer\", \"animal_ids\", \"trial\", \"trial_number\"])"
   ]
  },
  {
   "cell_type": "code",
   "execution_count": 64,
   "id": "26069f8f",
   "metadata": {},
   "outputs": [
    {
     "data": {
      "text/plain": [
       "dict_keys([1, 2, 3, 4, 5, 6])"
      ]
     },
     "execution_count": 64,
     "metadata": {},
     "output_type": "execute_result"
    }
   ],
   "source": [
    "cage_to_elo_score_dict.keys()"
   ]
  },
  {
   "cell_type": "code",
   "execution_count": 65,
   "id": "01d3b5b1",
   "metadata": {},
   "outputs": [
    {
     "data": {
      "text/plain": [
       "{'total_match_number': 1,\n",
       " 'subject_id': '2',\n",
       " 'agent_id': '1',\n",
       " 'original_elo_score': 1000,\n",
       " 'updated_elo_score': 1010.0,\n",
       " 'win_draw_loss': 1,\n",
       " 'index': 0,\n",
       " 'date': Timestamp('2022-07-28 00:00:00'),\n",
       " 'cage': 1,\n",
       " 'box': 1,\n",
       " 'match': '1v2',\n",
       " 'scorer': 'Naeliz',\n",
       " 'animal_ids': {'1', '2'},\n",
       " 'trial': 'trial 1 winner',\n",
       " 'trial_number': 1}"
      ]
     },
     "execution_count": 65,
     "metadata": {},
     "output_type": "execute_result"
    }
   ],
   "source": [
    "cage_to_elo_score_dict[list(cage_to_elo_score_dict.keys())[0]][0]"
   ]
  },
  {
   "cell_type": "markdown",
   "id": "badfdb05",
   "metadata": {},
   "source": [
    "- Turning the dictionary into a dataframe"
   ]
  },
  {
   "cell_type": "code",
   "execution_count": 66,
   "id": "789985f4",
   "metadata": {},
   "outputs": [
    {
     "name": "stdout",
     "output_type": "stream",
     "text": [
      "     total_trial_number  total_match_number subject_id agent_id  \\\n",
      "0                     0                   1          2        1   \n",
      "1                     1                   1          1        2   \n",
      "2                     2                   2          1        2   \n",
      "3                     3                   2          2        1   \n",
      "4                     4                   3          1        2   \n",
      "..                  ...                 ...        ...      ...   \n",
      "403                 403                 202          1        2   \n",
      "404                 404                 203          2        1   \n",
      "405                 405                 203          1        2   \n",
      "406                 406                 204          2        1   \n",
      "407                 407                 204          1        2   \n",
      "\n",
      "     original_elo_score  updated_elo_score  win_draw_loss  index       date  \\\n",
      "0                1000.0             1010.0              1      0 2022-07-28   \n",
      "1                1000.0              990.0              0      0 2022-07-28   \n",
      "2                 990.0             1000.6              1      0 2022-07-28   \n",
      "3                1010.0              999.4              0      0 2022-07-28   \n",
      "4                1000.6             1010.6              1      0 2022-07-28   \n",
      "..                  ...                ...            ...    ...        ...   \n",
      "403              1194.7             1179.6              0     41 2022-07-29   \n",
      "404              1014.0             1028.4              1     41 2022-07-29   \n",
      "405              1179.6             1165.2              0     41 2022-07-29   \n",
      "406              1028.4             1042.1              1     41 2022-07-29   \n",
      "407              1165.2             1151.5              0     41 2022-07-29   \n",
      "\n",
      "     cage  box match    scorer animal_ids            trial  trial_number  \n",
      "0       1    1   1v2    Naeliz     {2, 1}   trial 1 winner             1  \n",
      "1       1    1   1v2    Naeliz     {2, 1}   trial 1 winner             1  \n",
      "2       1    1   1v2    Naeliz     {2, 1}   trial 2 winner             2  \n",
      "3       1    1   1v2    Naeliz     {2, 1}   trial 2 winner             2  \n",
      "4       1    1   1v2    Naeliz     {2, 1}   trial 3 winner             3  \n",
      "..    ...  ...   ...       ...        ...              ...           ...  \n",
      "403     1    3   1v2  Catalina     {2, 1}  trial 13 winner            13  \n",
      "404     1    3   1v2  Catalina     {2, 1}  trial 14 winner            14  \n",
      "405     1    3   1v2  Catalina     {2, 1}  trial 14 winner            14  \n",
      "406     1    3   1v2  Catalina     {2, 1}  trial 15 winner            15  \n",
      "407     1    3   1v2  Catalina     {2, 1}  trial 15 winner            15  \n",
      "\n",
      "[408 rows x 16 columns]\n",
      "     total_trial_number  total_match_number subject_id agent_id  \\\n",
      "0                     0                   1          2        1   \n",
      "1                     1                   1          1        2   \n",
      "2                     2                   2          2        1   \n",
      "3                     3                   2          1        2   \n",
      "4                     4                   3          2        1   \n",
      "..                  ...                 ...        ...      ...   \n",
      "419                 419                 210          2        1   \n",
      "420                 420                 211          2        1   \n",
      "421                 421                 211          1        2   \n",
      "422                 422                 212          1        2   \n",
      "423                 423                 212          2        1   \n",
      "\n",
      "     original_elo_score  updated_elo_score  win_draw_loss  index       date  \\\n",
      "0                1000.0             1010.0              1      6 2022-07-28   \n",
      "1                1000.0              990.0              0      6 2022-07-28   \n",
      "2                1010.0             1019.4              1      6 2022-07-28   \n",
      "3                 990.0              980.6              0      6 2022-07-28   \n",
      "4                1019.4             1028.3              1      6 2022-07-28   \n",
      "..                  ...                ...            ...    ...        ...   \n",
      "419              1043.6             1026.8              0     47 2022-07-29   \n",
      "420              1026.8             1030.5              1     47 2022-07-29   \n",
      "421               771.7              768.0              0     47 2022-07-29   \n",
      "422               768.0              784.4              1     47 2022-07-29   \n",
      "423              1030.5             1014.1              0     47 2022-07-29   \n",
      "\n",
      "     cage  box match  scorer animal_ids            trial  trial_number  \n",
      "0       2    3   1v2  Albert     {2, 1}   trial 1 winner             1  \n",
      "1       2    3   1v2  Albert     {2, 1}   trial 1 winner             1  \n",
      "2       2    3   1v2  Albert     {2, 1}   trial 2 winner             2  \n",
      "3       2    3   1v2  Albert     {2, 1}   trial 2 winner             2  \n",
      "4       2    3   1v2  Albert     {2, 1}   trial 3 winner             3  \n",
      "..    ...  ...   ...     ...        ...              ...           ...  \n",
      "419     2    2   1v2  Isabel     {2, 1}  trial 17 winner            17  \n",
      "420     2    2   1v2  Isabel     {2, 1}  trial 18 winner            18  \n",
      "421     2    2   1v2  Isabel     {2, 1}  trial 18 winner            18  \n",
      "422     2    2   1v2  Isabel     {2, 1}  trial 19 winner            19  \n",
      "423     2    2   1v2  Isabel     {2, 1}  trial 19 winner            19  \n",
      "\n",
      "[424 rows x 16 columns]\n",
      "     total_trial_number  total_match_number subject_id agent_id  \\\n",
      "0                     0                   1          2        1   \n",
      "1                     1                   1          1        2   \n",
      "2                     2                   2          2        1   \n",
      "3                     3                   2          1        2   \n",
      "4                     4                   3          1        2   \n",
      "..                  ...                 ...        ...      ...   \n",
      "401                 401                 201          2        1   \n",
      "402                 402                 202          1        2   \n",
      "403                 403                 202          2        1   \n",
      "404                 404                 203          1        2   \n",
      "405                 405                 203          2        1   \n",
      "\n",
      "     original_elo_score  updated_elo_score  win_draw_loss  index       date  \\\n",
      "0                1000.0             1010.0              1     12 2022-07-28   \n",
      "1                1000.0              990.0              0     12 2022-07-28   \n",
      "2                1010.0             1019.4              1     12 2022-07-28   \n",
      "3                 990.0              980.6              0     12 2022-07-28   \n",
      "4                 980.6              991.7              1     12 2022-07-28   \n",
      "..                  ...                ...            ...    ...        ...   \n",
      "401               820.1              815.6              0     53 2022-07-29   \n",
      "402              1039.2             1043.5              1     53 2022-07-29   \n",
      "403               815.6              811.3              0     53 2022-07-29   \n",
      "404              1043.5             1047.7              1     53 2022-07-29   \n",
      "405               811.3              807.1              0     53 2022-07-29   \n",
      "\n",
      "     cage  box match   scorer animal_ids            trial  trial_number  \n",
      "0       3    1   1v2  Jocelyn     {2, 1}   trial 1 winner             1  \n",
      "1       3    1   1v2  Jocelyn     {2, 1}   trial 1 winner             1  \n",
      "2       3    1   1v2  Jocelyn     {2, 1}   trial 2 winner             2  \n",
      "3       3    1   1v2  Jocelyn     {2, 1}   trial 2 winner             2  \n",
      "4       3    1   1v2  Jocelyn     {2, 1}   trial 3 winner             3  \n",
      "..    ...  ...   ...      ...        ...              ...           ...  \n",
      "401     3    4   1v2     Ezra     {2, 1}  trial 17 winner            17  \n",
      "402     3    4   1v2     Ezra     {2, 1}  trial 18 winner            18  \n",
      "403     3    4   1v2     Ezra     {2, 1}  trial 18 winner            18  \n",
      "404     3    4   1v2     Ezra     {2, 1}  trial 19 winner            19  \n",
      "405     3    4   1v2     Ezra     {2, 1}  trial 19 winner            19  \n",
      "\n",
      "[406 rows x 16 columns]\n",
      "     total_trial_number  total_match_number subject_id agent_id  \\\n",
      "0                     0                   1          1        2   \n",
      "1                     1                   1          2        1   \n",
      "2                     2                   2          2        1   \n",
      "3                     3                   2          1        2   \n",
      "4                     4                   3          2        1   \n",
      "..                  ...                 ...        ...      ...   \n",
      "413                 413                 207          1        2   \n",
      "414                 414                 208          1        2   \n",
      "415                 415                 208          2        1   \n",
      "416                 416                 209          2        1   \n",
      "417                 417                 209          1        2   \n",
      "\n",
      "     original_elo_score  updated_elo_score  win_draw_loss  index       date  \\\n",
      "0                1000.0             1010.0              1     18 2022-07-28   \n",
      "1                1000.0              990.0              0     18 2022-07-28   \n",
      "2                 990.0             1000.6              1     18 2022-07-28   \n",
      "3                1010.0              999.4              0     18 2022-07-28   \n",
      "4                1000.6             1010.6              1     18 2022-07-28   \n",
      "..                  ...                ...            ...    ...        ...   \n",
      "413               866.5              860.5              0     59 2022-07-29   \n",
      "414               860.5              874.8              1     59 2022-07-29   \n",
      "415              1018.3             1004.0              0     59 2022-07-29   \n",
      "416              1004.0             1010.4              1     59 2022-07-29   \n",
      "417               874.8              868.4              0     59 2022-07-29   \n",
      "\n",
      "     cage  box match  scorer animal_ids            trial  trial_number  \n",
      "0       4    3   1v2  Meghan     {2, 1}   trial 1 winner             1  \n",
      "1       4    3   1v2  Meghan     {2, 1}   trial 1 winner             1  \n",
      "2       4    3   1v2  Meghan     {2, 1}   trial 2 winner             2  \n",
      "3       4    3   1v2  Meghan     {2, 1}   trial 2 winner             2  \n",
      "4       4    3   1v2  Meghan     {2, 1}   trial 3 winner             3  \n",
      "..    ...  ...   ...     ...        ...              ...           ...  \n",
      "413     4    2   1v2   Erika     {2, 1}  trial 17 winner            17  \n",
      "414     4    2   1v2   Erika     {2, 1}  trial 18 winner            18  \n",
      "415     4    2   1v2   Erika     {2, 1}  trial 18 winner            18  \n",
      "416     4    2   1v2   Erika     {2, 1}  trial 19 winner            19  \n",
      "417     4    2   1v2   Erika     {2, 1}  trial 19 winner            19  \n",
      "\n",
      "[418 rows x 16 columns]\n",
      "     total_trial_number  total_match_number subject_id agent_id  \\\n",
      "0                     0                   1          1        2   \n",
      "1                     1                   1          2        1   \n",
      "2                     2                   2          1        2   \n",
      "3                     3                   2          2        1   \n",
      "4                     4                   3          1        2   \n",
      "..                  ...                 ...        ...      ...   \n",
      "385                 385                 193          1        2   \n",
      "386                 386                 194          2        1   \n",
      "387                 387                 194          1        2   \n",
      "388                 388                 195          2        1   \n",
      "389                 389                 195          1        2   \n",
      "\n",
      "     original_elo_score  updated_elo_score  win_draw_loss  index       date  \\\n",
      "0                1000.0             1010.0              1     24 2022-07-28   \n",
      "1                1000.0              990.0              0     24 2022-07-28   \n",
      "2                1010.0             1019.4              1     24 2022-07-28   \n",
      "3                 990.0              980.6              0     24 2022-07-28   \n",
      "4                1019.4             1028.3              1     24 2022-07-28   \n",
      "..                  ...                ...            ...    ...        ...   \n",
      "385              1032.7             1026.0              0     65 2022-07-29   \n",
      "386              1157.8             1164.2              1     65 2022-07-29   \n",
      "387              1026.0             1019.6              0     65 2022-07-29   \n",
      "388              1164.2             1170.3              1     65 2022-07-29   \n",
      "389              1019.6             1013.5              0     65 2022-07-29   \n",
      "\n",
      "     cage  box match  scorer animal_ids            trial  trial_number  \n",
      "0       5    1   1v2  Erika      {2, 1}   trial 1 winner             1  \n",
      "1       5    1   1v2  Erika      {2, 1}   trial 1 winner             1  \n",
      "2       5    1   1v2  Erika      {2, 1}   trial 2 winner             2  \n",
      "3       5    1   1v2  Erika      {2, 1}   trial 2 winner             2  \n",
      "4       5    1   1v2  Erika      {2, 1}   trial 3 winner             3  \n",
      "..    ...  ...   ...     ...        ...              ...           ...  \n",
      "385     5    3   1v2  Albert     {2, 1}  trial 17 winner            17  \n",
      "386     5    3   1v2  Albert     {2, 1}  trial 18 winner            18  \n",
      "387     5    3   1v2  Albert     {2, 1}  trial 18 winner            18  \n",
      "388     5    3   1v2  Albert     {2, 1}  trial 19 winner            19  \n",
      "389     5    3   1v2  Albert     {2, 1}  trial 19 winner            19  \n",
      "\n",
      "[390 rows x 16 columns]\n",
      "     total_trial_number  total_match_number subject_id agent_id  \\\n",
      "0                     0                   1          1        2   \n",
      "1                     1                   1          2        1   \n",
      "2                     2                   2          1        2   \n",
      "3                     3                   2          2        1   \n",
      "4                     4                   3          1        2   \n",
      "..                  ...                 ...        ...      ...   \n",
      "417                 417                 209          1        2   \n",
      "418                 418                 210          1        2   \n",
      "419                 419                 210          2        1   \n",
      "420                 420                 211          1        2   \n",
      "421                 421                 211          2        1   \n",
      "\n",
      "     original_elo_score  updated_elo_score  win_draw_loss  index       date  \\\n",
      "0                1000.0             1010.0              1     30 2022-07-28   \n",
      "1                1000.0              990.0              0     30 2022-07-28   \n",
      "2                1010.0             1019.4              1     30 2022-07-28   \n",
      "3                 990.0              980.6              0     30 2022-07-28   \n",
      "4                1019.4             1028.3              1     30 2022-07-28   \n",
      "..                  ...                ...            ...    ...        ...   \n",
      "417              1112.2             1097.6              0     71 2022-07-29   \n",
      "418              1097.6             1103.7              1     71 2022-07-29   \n",
      "419               955.5              949.4              0     71 2022-07-29   \n",
      "420              1103.7             1109.5              1     71 2022-07-29   \n",
      "421               949.4              943.6              0     71 2022-07-29   \n",
      "\n",
      "     cage  box match   scorer animal_ids            trial  trial_number  \n",
      "0       6    3   1v2   Albert     {2, 1}   trial 1 winner             1  \n",
      "1       6    3   1v2   Albert     {2, 1}   trial 1 winner             1  \n",
      "2       6    3   1v2   Albert     {2, 1}   trial 2 winner             2  \n",
      "3       6    3   1v2   Albert     {2, 1}   trial 2 winner             2  \n",
      "4       6    3   1v2   Albert     {2, 1}   trial 4 winner             4  \n",
      "..    ...  ...   ...      ...        ...              ...           ...  \n",
      "417     6    1   1v2  Jocelyn     {2, 1}  trial 17 winner            17  \n",
      "418     6    1   1v2  Jocelyn     {2, 1}  trial 18 winner            18  \n",
      "419     6    1   1v2  Jocelyn     {2, 1}  trial 18 winner            18  \n",
      "420     6    1   1v2  Jocelyn     {2, 1}  trial 19 winner            19  \n",
      "421     6    1   1v2  Jocelyn     {2, 1}  trial 19 winner            19  \n",
      "\n",
      "[422 rows x 16 columns]\n"
     ]
    }
   ],
   "source": [
    "all_cage_elo_score_list = []\n",
    "for key in cage_to_elo_score_dict.keys():\n",
    "    cage_elo_score_df = pd.DataFrame.from_dict(cage_to_elo_score_dict[key], orient=\"index\")\n",
    "    cage_elo_score_df.insert(0, 'total_trial_number', range(0, 0 + len(cage_elo_score_df)))\n",
    "    print(cage_elo_score_df)\n",
    "    all_cage_elo_score_list.append(cage_elo_score_df)\n"
   ]
  },
  {
   "cell_type": "code",
   "execution_count": 67,
   "id": "53f66bb5",
   "metadata": {},
   "outputs": [],
   "source": [
    "all_cage_elo_score_df = pd.concat(all_cage_elo_score_list)"
   ]
  },
  {
   "cell_type": "code",
   "execution_count": 68,
   "id": "cfba525f",
   "metadata": {
    "scrolled": true
   },
   "outputs": [
    {
     "data": {
      "text/html": [
       "<div>\n",
       "<style scoped>\n",
       "    .dataframe tbody tr th:only-of-type {\n",
       "        vertical-align: middle;\n",
       "    }\n",
       "\n",
       "    .dataframe tbody tr th {\n",
       "        vertical-align: top;\n",
       "    }\n",
       "\n",
       "    .dataframe thead th {\n",
       "        text-align: right;\n",
       "    }\n",
       "</style>\n",
       "<table border=\"1\" class=\"dataframe\">\n",
       "  <thead>\n",
       "    <tr style=\"text-align: right;\">\n",
       "      <th></th>\n",
       "      <th>total_trial_number</th>\n",
       "      <th>total_match_number</th>\n",
       "      <th>subject_id</th>\n",
       "      <th>agent_id</th>\n",
       "      <th>original_elo_score</th>\n",
       "      <th>updated_elo_score</th>\n",
       "      <th>win_draw_loss</th>\n",
       "      <th>index</th>\n",
       "      <th>date</th>\n",
       "      <th>cage</th>\n",
       "      <th>box</th>\n",
       "      <th>match</th>\n",
       "      <th>scorer</th>\n",
       "      <th>animal_ids</th>\n",
       "      <th>trial</th>\n",
       "      <th>trial_number</th>\n",
       "    </tr>\n",
       "  </thead>\n",
       "  <tbody>\n",
       "    <tr>\n",
       "      <th>0</th>\n",
       "      <td>0</td>\n",
       "      <td>1</td>\n",
       "      <td>2</td>\n",
       "      <td>1</td>\n",
       "      <td>1000.0</td>\n",
       "      <td>1010.0</td>\n",
       "      <td>1</td>\n",
       "      <td>0</td>\n",
       "      <td>2022-07-28</td>\n",
       "      <td>1</td>\n",
       "      <td>1</td>\n",
       "      <td>1v2</td>\n",
       "      <td>Naeliz</td>\n",
       "      <td>{2, 1}</td>\n",
       "      <td>trial 1 winner</td>\n",
       "      <td>1</td>\n",
       "    </tr>\n",
       "    <tr>\n",
       "      <th>1</th>\n",
       "      <td>1</td>\n",
       "      <td>1</td>\n",
       "      <td>1</td>\n",
       "      <td>2</td>\n",
       "      <td>1000.0</td>\n",
       "      <td>990.0</td>\n",
       "      <td>0</td>\n",
       "      <td>0</td>\n",
       "      <td>2022-07-28</td>\n",
       "      <td>1</td>\n",
       "      <td>1</td>\n",
       "      <td>1v2</td>\n",
       "      <td>Naeliz</td>\n",
       "      <td>{2, 1}</td>\n",
       "      <td>trial 1 winner</td>\n",
       "      <td>1</td>\n",
       "    </tr>\n",
       "    <tr>\n",
       "      <th>2</th>\n",
       "      <td>2</td>\n",
       "      <td>2</td>\n",
       "      <td>1</td>\n",
       "      <td>2</td>\n",
       "      <td>990.0</td>\n",
       "      <td>1000.6</td>\n",
       "      <td>1</td>\n",
       "      <td>0</td>\n",
       "      <td>2022-07-28</td>\n",
       "      <td>1</td>\n",
       "      <td>1</td>\n",
       "      <td>1v2</td>\n",
       "      <td>Naeliz</td>\n",
       "      <td>{2, 1}</td>\n",
       "      <td>trial 2 winner</td>\n",
       "      <td>2</td>\n",
       "    </tr>\n",
       "    <tr>\n",
       "      <th>3</th>\n",
       "      <td>3</td>\n",
       "      <td>2</td>\n",
       "      <td>2</td>\n",
       "      <td>1</td>\n",
       "      <td>1010.0</td>\n",
       "      <td>999.4</td>\n",
       "      <td>0</td>\n",
       "      <td>0</td>\n",
       "      <td>2022-07-28</td>\n",
       "      <td>1</td>\n",
       "      <td>1</td>\n",
       "      <td>1v2</td>\n",
       "      <td>Naeliz</td>\n",
       "      <td>{2, 1}</td>\n",
       "      <td>trial 2 winner</td>\n",
       "      <td>2</td>\n",
       "    </tr>\n",
       "    <tr>\n",
       "      <th>4</th>\n",
       "      <td>4</td>\n",
       "      <td>3</td>\n",
       "      <td>1</td>\n",
       "      <td>2</td>\n",
       "      <td>1000.6</td>\n",
       "      <td>1010.6</td>\n",
       "      <td>1</td>\n",
       "      <td>0</td>\n",
       "      <td>2022-07-28</td>\n",
       "      <td>1</td>\n",
       "      <td>1</td>\n",
       "      <td>1v2</td>\n",
       "      <td>Naeliz</td>\n",
       "      <td>{2, 1}</td>\n",
       "      <td>trial 3 winner</td>\n",
       "      <td>3</td>\n",
       "    </tr>\n",
       "  </tbody>\n",
       "</table>\n",
       "</div>"
      ],
      "text/plain": [
       "   total_trial_number  total_match_number subject_id agent_id  \\\n",
       "0                   0                   1          2        1   \n",
       "1                   1                   1          1        2   \n",
       "2                   2                   2          1        2   \n",
       "3                   3                   2          2        1   \n",
       "4                   4                   3          1        2   \n",
       "\n",
       "   original_elo_score  updated_elo_score  win_draw_loss  index       date  \\\n",
       "0              1000.0             1010.0              1      0 2022-07-28   \n",
       "1              1000.0              990.0              0      0 2022-07-28   \n",
       "2               990.0             1000.6              1      0 2022-07-28   \n",
       "3              1010.0              999.4              0      0 2022-07-28   \n",
       "4              1000.6             1010.6              1      0 2022-07-28   \n",
       "\n",
       "   cage  box match  scorer animal_ids           trial  trial_number  \n",
       "0     1    1   1v2  Naeliz     {2, 1}  trial 1 winner             1  \n",
       "1     1    1   1v2  Naeliz     {2, 1}  trial 1 winner             1  \n",
       "2     1    1   1v2  Naeliz     {2, 1}  trial 2 winner             2  \n",
       "3     1    1   1v2  Naeliz     {2, 1}  trial 2 winner             2  \n",
       "4     1    1   1v2  Naeliz     {2, 1}  trial 3 winner             3  "
      ]
     },
     "execution_count": 68,
     "metadata": {},
     "output_type": "execute_result"
    }
   ],
   "source": [
    "all_cage_elo_score_df.head()"
   ]
  },
  {
   "cell_type": "code",
   "execution_count": 69,
   "id": "04bb8bad",
   "metadata": {
    "scrolled": true
   },
   "outputs": [
    {
     "data": {
      "text/html": [
       "<div>\n",
       "<style scoped>\n",
       "    .dataframe tbody tr th:only-of-type {\n",
       "        vertical-align: middle;\n",
       "    }\n",
       "\n",
       "    .dataframe tbody tr th {\n",
       "        vertical-align: top;\n",
       "    }\n",
       "\n",
       "    .dataframe thead th {\n",
       "        text-align: right;\n",
       "    }\n",
       "</style>\n",
       "<table border=\"1\" class=\"dataframe\">\n",
       "  <thead>\n",
       "    <tr style=\"text-align: right;\">\n",
       "      <th></th>\n",
       "      <th>total_trial_number</th>\n",
       "      <th>total_match_number</th>\n",
       "      <th>subject_id</th>\n",
       "      <th>agent_id</th>\n",
       "      <th>original_elo_score</th>\n",
       "      <th>updated_elo_score</th>\n",
       "      <th>win_draw_loss</th>\n",
       "      <th>index</th>\n",
       "      <th>date</th>\n",
       "      <th>cage</th>\n",
       "      <th>box</th>\n",
       "      <th>match</th>\n",
       "      <th>scorer</th>\n",
       "      <th>animal_ids</th>\n",
       "      <th>trial</th>\n",
       "      <th>trial_number</th>\n",
       "    </tr>\n",
       "  </thead>\n",
       "  <tbody>\n",
       "    <tr>\n",
       "      <th>417</th>\n",
       "      <td>417</td>\n",
       "      <td>209</td>\n",
       "      <td>1</td>\n",
       "      <td>2</td>\n",
       "      <td>1112.2</td>\n",
       "      <td>1097.6</td>\n",
       "      <td>0</td>\n",
       "      <td>71</td>\n",
       "      <td>2022-07-29</td>\n",
       "      <td>6</td>\n",
       "      <td>1</td>\n",
       "      <td>1v2</td>\n",
       "      <td>Jocelyn</td>\n",
       "      <td>{2, 1}</td>\n",
       "      <td>trial 17 winner</td>\n",
       "      <td>17</td>\n",
       "    </tr>\n",
       "    <tr>\n",
       "      <th>418</th>\n",
       "      <td>418</td>\n",
       "      <td>210</td>\n",
       "      <td>1</td>\n",
       "      <td>2</td>\n",
       "      <td>1097.6</td>\n",
       "      <td>1103.7</td>\n",
       "      <td>1</td>\n",
       "      <td>71</td>\n",
       "      <td>2022-07-29</td>\n",
       "      <td>6</td>\n",
       "      <td>1</td>\n",
       "      <td>1v2</td>\n",
       "      <td>Jocelyn</td>\n",
       "      <td>{2, 1}</td>\n",
       "      <td>trial 18 winner</td>\n",
       "      <td>18</td>\n",
       "    </tr>\n",
       "    <tr>\n",
       "      <th>419</th>\n",
       "      <td>419</td>\n",
       "      <td>210</td>\n",
       "      <td>2</td>\n",
       "      <td>1</td>\n",
       "      <td>955.5</td>\n",
       "      <td>949.4</td>\n",
       "      <td>0</td>\n",
       "      <td>71</td>\n",
       "      <td>2022-07-29</td>\n",
       "      <td>6</td>\n",
       "      <td>1</td>\n",
       "      <td>1v2</td>\n",
       "      <td>Jocelyn</td>\n",
       "      <td>{2, 1}</td>\n",
       "      <td>trial 18 winner</td>\n",
       "      <td>18</td>\n",
       "    </tr>\n",
       "    <tr>\n",
       "      <th>420</th>\n",
       "      <td>420</td>\n",
       "      <td>211</td>\n",
       "      <td>1</td>\n",
       "      <td>2</td>\n",
       "      <td>1103.7</td>\n",
       "      <td>1109.5</td>\n",
       "      <td>1</td>\n",
       "      <td>71</td>\n",
       "      <td>2022-07-29</td>\n",
       "      <td>6</td>\n",
       "      <td>1</td>\n",
       "      <td>1v2</td>\n",
       "      <td>Jocelyn</td>\n",
       "      <td>{2, 1}</td>\n",
       "      <td>trial 19 winner</td>\n",
       "      <td>19</td>\n",
       "    </tr>\n",
       "    <tr>\n",
       "      <th>421</th>\n",
       "      <td>421</td>\n",
       "      <td>211</td>\n",
       "      <td>2</td>\n",
       "      <td>1</td>\n",
       "      <td>949.4</td>\n",
       "      <td>943.6</td>\n",
       "      <td>0</td>\n",
       "      <td>71</td>\n",
       "      <td>2022-07-29</td>\n",
       "      <td>6</td>\n",
       "      <td>1</td>\n",
       "      <td>1v2</td>\n",
       "      <td>Jocelyn</td>\n",
       "      <td>{2, 1}</td>\n",
       "      <td>trial 19 winner</td>\n",
       "      <td>19</td>\n",
       "    </tr>\n",
       "  </tbody>\n",
       "</table>\n",
       "</div>"
      ],
      "text/plain": [
       "     total_trial_number  total_match_number subject_id agent_id  \\\n",
       "417                 417                 209          1        2   \n",
       "418                 418                 210          1        2   \n",
       "419                 419                 210          2        1   \n",
       "420                 420                 211          1        2   \n",
       "421                 421                 211          2        1   \n",
       "\n",
       "     original_elo_score  updated_elo_score  win_draw_loss  index       date  \\\n",
       "417              1112.2             1097.6              0     71 2022-07-29   \n",
       "418              1097.6             1103.7              1     71 2022-07-29   \n",
       "419               955.5              949.4              0     71 2022-07-29   \n",
       "420              1103.7             1109.5              1     71 2022-07-29   \n",
       "421               949.4              943.6              0     71 2022-07-29   \n",
       "\n",
       "     cage  box match   scorer animal_ids            trial  trial_number  \n",
       "417     6    1   1v2  Jocelyn     {2, 1}  trial 17 winner            17  \n",
       "418     6    1   1v2  Jocelyn     {2, 1}  trial 18 winner            18  \n",
       "419     6    1   1v2  Jocelyn     {2, 1}  trial 18 winner            18  \n",
       "420     6    1   1v2  Jocelyn     {2, 1}  trial 19 winner            19  \n",
       "421     6    1   1v2  Jocelyn     {2, 1}  trial 19 winner            19  "
      ]
     },
     "execution_count": 69,
     "metadata": {},
     "output_type": "execute_result"
    }
   ],
   "source": [
    "all_cage_elo_score_df.tail()"
   ]
  },
  {
   "cell_type": "code",
   "execution_count": null,
   "id": "e34316b6",
   "metadata": {},
   "outputs": [],
   "source": []
  },
  {
   "cell_type": "markdown",
   "id": "ac4481a7",
   "metadata": {},
   "source": [
    "## Saving the Elo Score Dataframes"
   ]
  },
  {
   "cell_type": "markdown",
   "id": "1bc6ca45",
   "metadata": {},
   "source": [
    "- Create folders to save processed data"
   ]
  },
  {
   "cell_type": "code",
   "execution_count": null,
   "id": "9d55a191",
   "metadata": {},
   "outputs": [],
   "source": []
  },
  {
   "cell_type": "markdown",
   "id": "d304fffc",
   "metadata": {},
   "source": [
    "- Adding the cage information for each cage"
   ]
  },
  {
   "cell_type": "raw",
   "id": "e3e624c2",
   "metadata": {},
   "source": [
    "all_cage_elo_score_df[\"id_with_cage_number\"] = all_cage_elo_score_df.apply(lambda x: str(x[\"cage\"]) + \".\" + str(x[\"subject_id\"]), axis = 1)\n"
   ]
  },
  {
   "cell_type": "code",
   "execution_count": 70,
   "id": "252b3ace",
   "metadata": {},
   "outputs": [
    {
     "data": {
      "text/html": [
       "<div>\n",
       "<style scoped>\n",
       "    .dataframe tbody tr th:only-of-type {\n",
       "        vertical-align: middle;\n",
       "    }\n",
       "\n",
       "    .dataframe tbody tr th {\n",
       "        vertical-align: top;\n",
       "    }\n",
       "\n",
       "    .dataframe thead th {\n",
       "        text-align: right;\n",
       "    }\n",
       "</style>\n",
       "<table border=\"1\" class=\"dataframe\">\n",
       "  <thead>\n",
       "    <tr style=\"text-align: right;\">\n",
       "      <th></th>\n",
       "      <th>total_trial_number</th>\n",
       "      <th>total_match_number</th>\n",
       "      <th>subject_id</th>\n",
       "      <th>agent_id</th>\n",
       "      <th>original_elo_score</th>\n",
       "      <th>updated_elo_score</th>\n",
       "      <th>win_draw_loss</th>\n",
       "      <th>index</th>\n",
       "      <th>date</th>\n",
       "      <th>cage</th>\n",
       "      <th>box</th>\n",
       "      <th>match</th>\n",
       "      <th>scorer</th>\n",
       "      <th>animal_ids</th>\n",
       "      <th>trial</th>\n",
       "      <th>trial_number</th>\n",
       "    </tr>\n",
       "  </thead>\n",
       "  <tbody>\n",
       "    <tr>\n",
       "      <th>0</th>\n",
       "      <td>0</td>\n",
       "      <td>1</td>\n",
       "      <td>2</td>\n",
       "      <td>1</td>\n",
       "      <td>1000.0</td>\n",
       "      <td>1010.0</td>\n",
       "      <td>1</td>\n",
       "      <td>0</td>\n",
       "      <td>2022-07-28</td>\n",
       "      <td>1</td>\n",
       "      <td>1</td>\n",
       "      <td>1v2</td>\n",
       "      <td>Naeliz</td>\n",
       "      <td>{2, 1}</td>\n",
       "      <td>trial 1 winner</td>\n",
       "      <td>1</td>\n",
       "    </tr>\n",
       "    <tr>\n",
       "      <th>1</th>\n",
       "      <td>1</td>\n",
       "      <td>1</td>\n",
       "      <td>1</td>\n",
       "      <td>2</td>\n",
       "      <td>1000.0</td>\n",
       "      <td>990.0</td>\n",
       "      <td>0</td>\n",
       "      <td>0</td>\n",
       "      <td>2022-07-28</td>\n",
       "      <td>1</td>\n",
       "      <td>1</td>\n",
       "      <td>1v2</td>\n",
       "      <td>Naeliz</td>\n",
       "      <td>{2, 1}</td>\n",
       "      <td>trial 1 winner</td>\n",
       "      <td>1</td>\n",
       "    </tr>\n",
       "    <tr>\n",
       "      <th>2</th>\n",
       "      <td>2</td>\n",
       "      <td>2</td>\n",
       "      <td>1</td>\n",
       "      <td>2</td>\n",
       "      <td>990.0</td>\n",
       "      <td>1000.6</td>\n",
       "      <td>1</td>\n",
       "      <td>0</td>\n",
       "      <td>2022-07-28</td>\n",
       "      <td>1</td>\n",
       "      <td>1</td>\n",
       "      <td>1v2</td>\n",
       "      <td>Naeliz</td>\n",
       "      <td>{2, 1}</td>\n",
       "      <td>trial 2 winner</td>\n",
       "      <td>2</td>\n",
       "    </tr>\n",
       "    <tr>\n",
       "      <th>3</th>\n",
       "      <td>3</td>\n",
       "      <td>2</td>\n",
       "      <td>2</td>\n",
       "      <td>1</td>\n",
       "      <td>1010.0</td>\n",
       "      <td>999.4</td>\n",
       "      <td>0</td>\n",
       "      <td>0</td>\n",
       "      <td>2022-07-28</td>\n",
       "      <td>1</td>\n",
       "      <td>1</td>\n",
       "      <td>1v2</td>\n",
       "      <td>Naeliz</td>\n",
       "      <td>{2, 1}</td>\n",
       "      <td>trial 2 winner</td>\n",
       "      <td>2</td>\n",
       "    </tr>\n",
       "    <tr>\n",
       "      <th>4</th>\n",
       "      <td>4</td>\n",
       "      <td>3</td>\n",
       "      <td>1</td>\n",
       "      <td>2</td>\n",
       "      <td>1000.6</td>\n",
       "      <td>1010.6</td>\n",
       "      <td>1</td>\n",
       "      <td>0</td>\n",
       "      <td>2022-07-28</td>\n",
       "      <td>1</td>\n",
       "      <td>1</td>\n",
       "      <td>1v2</td>\n",
       "      <td>Naeliz</td>\n",
       "      <td>{2, 1}</td>\n",
       "      <td>trial 3 winner</td>\n",
       "      <td>3</td>\n",
       "    </tr>\n",
       "  </tbody>\n",
       "</table>\n",
       "</div>"
      ],
      "text/plain": [
       "   total_trial_number  total_match_number subject_id agent_id  \\\n",
       "0                   0                   1          2        1   \n",
       "1                   1                   1          1        2   \n",
       "2                   2                   2          1        2   \n",
       "3                   3                   2          2        1   \n",
       "4                   4                   3          1        2   \n",
       "\n",
       "   original_elo_score  updated_elo_score  win_draw_loss  index       date  \\\n",
       "0              1000.0             1010.0              1      0 2022-07-28   \n",
       "1              1000.0              990.0              0      0 2022-07-28   \n",
       "2               990.0             1000.6              1      0 2022-07-28   \n",
       "3              1010.0              999.4              0      0 2022-07-28   \n",
       "4              1000.6             1010.6              1      0 2022-07-28   \n",
       "\n",
       "   cage  box match  scorer animal_ids           trial  trial_number  \n",
       "0     1    1   1v2  Naeliz     {2, 1}  trial 1 winner             1  \n",
       "1     1    1   1v2  Naeliz     {2, 1}  trial 1 winner             1  \n",
       "2     1    1   1v2  Naeliz     {2, 1}  trial 2 winner             2  \n",
       "3     1    1   1v2  Naeliz     {2, 1}  trial 2 winner             2  \n",
       "4     1    1   1v2  Naeliz     {2, 1}  trial 3 winner             3  "
      ]
     },
     "execution_count": 70,
     "metadata": {},
     "output_type": "execute_result"
    }
   ],
   "source": [
    "all_cage_elo_score_df.head()"
   ]
  },
  {
   "cell_type": "code",
   "execution_count": 71,
   "id": "685d56c4",
   "metadata": {},
   "outputs": [],
   "source": [
    "id_to_final_elo_score_dict = defaultdict(dict)\n",
    "for subject_id in all_cage_elo_score_df[\"subject_id\"].unique():\n",
    "    per_subject_df = all_cage_elo_score_df[all_cage_elo_score_df[\"subject_id\"] == subject_id]\n",
    "    id_to_final_elo_score_dict[str(subject_id)][\"final_elo_score\"] = per_subject_df.iloc[-1][\"updated_elo_score\"]"
   ]
  },
  {
   "cell_type": "code",
   "execution_count": 72,
   "id": "9ef442b8",
   "metadata": {},
   "outputs": [
    {
     "data": {
      "text/plain": [
       "defaultdict(dict,\n",
       "            {'2': {'final_elo_score': 943.6},\n",
       "             '1': {'final_elo_score': 1109.5},\n",
       "             '3': {'final_elo_score': 1008.2},\n",
       "             '4': {'final_elo_score': 938.7}})"
      ]
     },
     "execution_count": 72,
     "metadata": {},
     "output_type": "execute_result"
    }
   ],
   "source": [
    "id_to_final_elo_score_dict"
   ]
  },
  {
   "cell_type": "code",
   "execution_count": 73,
   "id": "c181a6a3",
   "metadata": {},
   "outputs": [],
   "source": [
    "id_to_final_elo_score_df = pd.DataFrame.from_dict(id_to_final_elo_score_dict, orient=\"index\")\n",
    "id_to_final_elo_score_df[\"experiment_type\"] = protocol_name"
   ]
  },
  {
   "cell_type": "code",
   "execution_count": 74,
   "id": "f005b096",
   "metadata": {},
   "outputs": [
    {
     "data": {
      "text/html": [
       "<div>\n",
       "<style scoped>\n",
       "    .dataframe tbody tr th:only-of-type {\n",
       "        vertical-align: middle;\n",
       "    }\n",
       "\n",
       "    .dataframe tbody tr th {\n",
       "        vertical-align: top;\n",
       "    }\n",
       "\n",
       "    .dataframe thead th {\n",
       "        text-align: right;\n",
       "    }\n",
       "</style>\n",
       "<table border=\"1\" class=\"dataframe\">\n",
       "  <thead>\n",
       "    <tr style=\"text-align: right;\">\n",
       "      <th></th>\n",
       "      <th>final_elo_score</th>\n",
       "      <th>experiment_type</th>\n",
       "    </tr>\n",
       "  </thead>\n",
       "  <tbody>\n",
       "    <tr>\n",
       "      <th>1</th>\n",
       "      <td>1109.5</td>\n",
       "      <td>reward_competition</td>\n",
       "    </tr>\n",
       "    <tr>\n",
       "      <th>2</th>\n",
       "      <td>943.6</td>\n",
       "      <td>reward_competition</td>\n",
       "    </tr>\n",
       "    <tr>\n",
       "      <th>3</th>\n",
       "      <td>1008.2</td>\n",
       "      <td>reward_competition</td>\n",
       "    </tr>\n",
       "    <tr>\n",
       "      <th>4</th>\n",
       "      <td>938.7</td>\n",
       "      <td>reward_competition</td>\n",
       "    </tr>\n",
       "  </tbody>\n",
       "</table>\n",
       "</div>"
      ],
      "text/plain": [
       "   final_elo_score     experiment_type\n",
       "1           1109.5  reward_competition\n",
       "2            943.6  reward_competition\n",
       "3           1008.2  reward_competition\n",
       "4            938.7  reward_competition"
      ]
     },
     "execution_count": 74,
     "metadata": {},
     "output_type": "execute_result"
    }
   ],
   "source": [
    "id_to_final_elo_score_df.head()"
   ]
  },
  {
   "cell_type": "markdown",
   "id": "16542145",
   "metadata": {},
   "source": [
    "# Plotting the Elo Score by match number"
   ]
  },
  {
   "cell_type": "code",
   "execution_count": 75,
   "id": "3f6bc41f",
   "metadata": {},
   "outputs": [],
   "source": [
    "all_cages = \"_\".join([str(cage) for cage in sorted(all_cage_elo_score_df[\"cage\"].unique())])"
   ]
  },
  {
   "cell_type": "code",
   "execution_count": 76,
   "id": "1c6f3a20",
   "metadata": {},
   "outputs": [
    {
     "data": {
      "text/plain": [
       "'1_2_3_4_5_6'"
      ]
     },
     "execution_count": 76,
     "metadata": {},
     "output_type": "execute_result"
    }
   ],
   "source": [
    "all_cages"
   ]
  },
  {
   "cell_type": "code",
   "execution_count": 77,
   "id": "16744354",
   "metadata": {},
   "outputs": [],
   "source": [
    "earliest_date = all_cage_elo_score_df[\"date\"].min()\n",
    "latest_date = all_cage_elo_score_df[\"date\"].max()"
   ]
  },
  {
   "cell_type": "code",
   "execution_count": null,
   "id": "e0c959bc",
   "metadata": {},
   "outputs": [],
   "source": []
  },
  {
   "cell_type": "code",
   "execution_count": 78,
   "id": "bd5760f4",
   "metadata": {},
   "outputs": [],
   "source": [
    "earliest_date = str(earliest_date.date()).replace(\"-\", \"\")"
   ]
  },
  {
   "cell_type": "code",
   "execution_count": 79,
   "id": "21693dfa",
   "metadata": {},
   "outputs": [],
   "source": [
    "latest_date = str(latest_date.date()).replace(\"-\", \"\")"
   ]
  },
  {
   "cell_type": "code",
   "execution_count": 80,
   "id": "e63ae10a",
   "metadata": {},
   "outputs": [
    {
     "data": {
      "text/plain": [
       "'20220728'"
      ]
     },
     "execution_count": 80,
     "metadata": {},
     "output_type": "execute_result"
    }
   ],
   "source": [
    "earliest_date"
   ]
  },
  {
   "cell_type": "code",
   "execution_count": 81,
   "id": "f0232589",
   "metadata": {},
   "outputs": [
    {
     "data": {
      "text/plain": [
       "'20220729'"
      ]
     },
     "execution_count": 81,
     "metadata": {},
     "output_type": "execute_result"
    }
   ],
   "source": [
    "latest_date"
   ]
  },
  {
   "cell_type": "code",
   "execution_count": 82,
   "id": "7a0586b4",
   "metadata": {},
   "outputs": [],
   "source": [
    "plot_output_directory = \"./proc/plots/reward_competition/cage_{}_date_{}_{}\".format(all_cages, earliest_date, latest_date)"
   ]
  },
  {
   "cell_type": "code",
   "execution_count": 83,
   "id": "8a903f34",
   "metadata": {},
   "outputs": [
    {
     "data": {
      "text/plain": [
       "'./proc/plots/reward_competition/cage_1_2_3_4_5_6_date_20220728_20220729'"
      ]
     },
     "execution_count": 83,
     "metadata": {},
     "output_type": "execute_result"
    }
   ],
   "source": [
    "plot_output_directory"
   ]
  },
  {
   "cell_type": "code",
   "execution_count": 84,
   "id": "2e5d7d17",
   "metadata": {},
   "outputs": [],
   "source": [
    "os.makedirs(plot_output_directory, exist_ok=True)"
   ]
  },
  {
   "cell_type": "code",
   "execution_count": 85,
   "id": "7c69a8bd",
   "metadata": {},
   "outputs": [],
   "source": [
    "all_cage_elo_score_df[\"subject_id\"] = all_cage_elo_score_df[\"subject_id\"].astype(str)\n",
    "all_cage_elo_score_df[\"agent_id\"] = all_cage_elo_score_df[\"agent_id\"].astype(str)"
   ]
  },
  {
   "cell_type": "code",
   "execution_count": 86,
   "id": "692f8641",
   "metadata": {},
   "outputs": [],
   "source": [
    "# Increase size of plot in jupyter\n",
    "\n",
    "plt.rcParams[\"figure.figsize\"] = (18,10)"
   ]
  },
  {
   "cell_type": "code",
   "execution_count": 93,
   "id": "663d73e7",
   "metadata": {},
   "outputs": [
    {
     "data": {
      "image/png": "[encoded data removed]",
      "text/plain": [
       "<Figure size 1296x720 with 1 Axes>"
      ]
     },
     "metadata": {
      "needs_background": "light"
     },
     "output_type": "display_data"
    },
    {
     "data": {
      "image/png": "[encoded data removed]",
      "text/plain": [
       "<Figure size 1296x720 with 1 Axes>"
      ]
     },
     "metadata": {
      "needs_background": "light"
     },
     "output_type": "display_data"
    },
    {
     "data": {
      "image/png": "[encoded data removed]",
      "text/plain": [
       "<Figure size 1296x720 with 1 Axes>"
      ]
     },
     "metadata": {
      "needs_background": "light"
     },
     "output_type": "display_data"
    },
    {
     "data": {
      "image/png": "[encoded data removed]",
      "text/plain": [
       "<Figure size 1296x720 with 1 Axes>"
      ]
     },
     "metadata": {
      "needs_background": "light"
     },
     "output_type": "display_data"
    },
    {
     "data": {
      "image/png": "[encoded data removed]",
      "text/plain": [
       "<Figure size 1296x720 with 1 Axes>"
      ]
     },
     "metadata": {
      "needs_background": "light"
     },
     "output_type": "display_data"
    },
    {
     "data": {
      "image/png": "[encoded data removed]",
      "text/plain": [
       "<Figure size 1296x720 with 1 Axes>"
      ]
     },
     "metadata": {
      "needs_background": "light"
     },
     "output_type": "display_data"
    }
   ],
   "source": [
    "for cage in all_cage_elo_score_df[\"cage\"].unique():\n",
    "    fig, ax = plt.subplots()\n",
    "    plt.rcParams[\"figure.figsize\"] = (18,10)\n",
    "    per_cage_df = all_cage_elo_score_df[all_cage_elo_score_df[\"cage\"] == cage]\n",
    "       \n",
    "    for index in per_cage_df[\"index\"].unique():\n",
    "        first_session_in_trial = per_cage_df[per_cage_df[\"index\"] == index].iloc[0][\"total_trial_number\"]\n",
    "        plt.vlines(x=[first_session_in_trial - 0.5], ymin=700, ymax=1300, colors='black', linestyle='dashed')\n",
    "\n",
    "    \n",
    "    \n",
    "    # Drawing a line for each subject\n",
    "    for subject in sorted(per_cage_df[\"subject_id\"].unique()):\n",
    "        # Getting all the rows with the current subject\n",
    "        subject_df = per_cage_df[per_cage_df[\"subject_id\"] == subject]\n",
    "        # Making the dates into days after the first session by subtracting all the dates by the first date\n",
    "        plt.plot(subject_df[\"total_trial_number\"], subject_df[\"updated_elo_score\"], '-o', label=subject)\n",
    "    \n",
    "    # Labeling the X/Y Axis and the title\n",
    "    ax.set_xlabel(\"Trial Number\")\n",
    "    ax.set_ylabel(\"Elo Score\")\n",
    "    ax.set_title(\"Elo Score for {}: {}\".format(string.capwords(\" \".join(protocol_name.split(\"_\"))), cage))\n",
    "    # To show the legend\n",
    "    ax.legend()\n",
    "    plt.xticks(rotation=90)\n",
    "    plt.ylim(700, 1300) \n",
    "    file_name = \"{}_elo_score_cage_{}_date_{}_{}.png\".format(protocol_name, cage, earliest_date, latest_date)\n",
    "    plt.savefig(os.path.join(plot_output_directory, file_name))  \n",
    "    \n",
    "    plt.show()"
   ]
  },
  {
   "cell_type": "code",
   "execution_count": null,
   "id": "b61a7aea",
   "metadata": {},
   "outputs": [],
   "source": []
  },
  {
   "cell_type": "markdown",
   "id": "bd303ecd",
   "metadata": {},
   "source": [
    "# Saving the Dataframes"
   ]
  },
  {
   "cell_type": "code",
   "execution_count": null,
   "id": "5fac6546",
   "metadata": {},
   "outputs": [],
   "source": []
  },
  {
   "cell_type": "code",
   "execution_count": 88,
   "id": "e2e1781a",
   "metadata": {},
   "outputs": [],
   "source": [
    "elo_score_spreadsheet_output_directory = \"./proc/elo_score_spread_sheets/{}_elo_score/cage_{}_date_{}_{}\".format(protocol_name, all_cages, earliest_date, latest_date)"
   ]
  },
  {
   "cell_type": "code",
   "execution_count": 89,
   "id": "a91dcff0",
   "metadata": {},
   "outputs": [
    {
     "data": {
      "text/plain": [
       "'./proc/elo_score_spread_sheets/reward_competition_elo_score/cage_1_2_3_4_5_6_date_20220728_20220729'"
      ]
     },
     "execution_count": 89,
     "metadata": {},
     "output_type": "execute_result"
    }
   ],
   "source": [
    "elo_score_spreadsheet_output_directory"
   ]
  },
  {
   "cell_type": "code",
   "execution_count": 90,
   "id": "bb6e7b70",
   "metadata": {},
   "outputs": [],
   "source": [
    "os.makedirs(elo_score_spreadsheet_output_directory, exist_ok=True)"
   ]
  },
  {
   "cell_type": "code",
   "execution_count": 91,
   "id": "b7d18391",
   "metadata": {},
   "outputs": [],
   "source": [
    "file_name = \"{}_elo_score_history_cages_{}_date_{}_{}.csv\".format(protocol_name, all_cages, earliest_date, latest_date)\n",
    "all_cage_elo_score_df.to_csv(os.path.join(elo_score_spreadsheet_output_directory, file_name))"
   ]
  },
  {
   "cell_type": "code",
   "execution_count": 92,
   "id": "c335e989",
   "metadata": {},
   "outputs": [],
   "source": [
    "file_name = \"{}_final_elo_score_cages_{}_date_{}_{}.csv\".format(protocol_name, all_cages, earliest_date, latest_date)\n",
    "id_to_final_elo_score_df.to_csv(os.path.join(elo_score_spreadsheet_output_directory, file_name))"
   ]
  },
  {
   "cell_type": "code",
   "execution_count": null,
   "id": "1ab3d173",
   "metadata": {},
   "outputs": [],
   "source": []
  }
 ],
 "metadata": {
  "kernelspec": {
   "display_name": "Python 3 (ipykernel)",
   "language": "python",
   "name": "python3"
  },
  "language_info": {
   "codemirror_mode": {
    "name": "ipython",
    "version": 3
   },
   "file_extension": ".py",
   "mimetype": "text/x-python",
   "name": "python",
   "nbconvert_exporter": "python",
   "pygments_lexer": "ipython3",
   "version": "3.9.12"
  },
  "vscode": {
   "interpreter": {
    "hash": "dfa3458735eaf687e58730314206b7eff423bc707da2360eaa14de4cfab40566"
   }
  }
 },
 "nbformat": 4,
 "nbformat_minor": 5
}
