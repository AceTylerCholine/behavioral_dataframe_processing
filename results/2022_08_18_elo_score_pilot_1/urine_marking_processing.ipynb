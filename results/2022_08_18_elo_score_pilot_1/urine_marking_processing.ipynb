{
 "cells": [
  {
   "cell_type": "markdown",
   "id": "cd97c972",
   "metadata": {},
   "source": [
    "# Elo Score Calculation"
   ]
  },
  {
   "cell_type": "code",
   "execution_count": 1,
   "id": "cf755b46",
   "metadata": {},
   "outputs": [],
   "source": [
    "import re\n",
    "import os\n",
    "import sys\n",
    "from collections import defaultdict\n",
    "import glob\n",
    "import warnings"
   ]
  },
  {
   "cell_type": "code",
   "execution_count": 2,
   "id": "9537e067",
   "metadata": {},
   "outputs": [],
   "source": [
    "from datetime import datetime\n",
    "from datetime import timedelta\n",
    "import matplotlib.pyplot as plt"
   ]
  },
  {
   "cell_type": "code",
   "execution_count": 3,
   "id": "1c9bfe6f",
   "metadata": {},
   "outputs": [],
   "source": [
    "import numpy as np\n",
    "import pandas as pd\n",
    "import xlrd"
   ]
  },
  {
   "cell_type": "code",
   "execution_count": 4,
   "id": "2e3d2466",
   "metadata": {},
   "outputs": [],
   "source": [
    "# setting path\n",
    "sys.path.append('../../src')"
   ]
  },
  {
   "cell_type": "code",
   "execution_count": 5,
   "id": "104016aa",
   "metadata": {},
   "outputs": [],
   "source": [
    "from eloscore import eloscore"
   ]
  },
  {
   "cell_type": "code",
   "execution_count": 6,
   "id": "6ea31ca1",
   "metadata": {},
   "outputs": [],
   "source": [
    "# Increase size of plot in jupyter\n",
    "\n",
    "plt.rcParams[\"figure.figsize\"] = (18,10)"
   ]
  },
  {
   "cell_type": "markdown",
   "id": "8b7c1562",
   "metadata": {},
   "source": [
    "## Summary"
   ]
  },
  {
   "cell_type": "markdown",
   "id": "a5950969",
   "metadata": {},
   "source": [
    "- Notebook that calcuates the Elo Score of mice competing over access to a tone associated reward port\n",
    "- The data is a spreadsheet of combination of subjects (as rows) against dates (as columns)"
   ]
  },
  {
   "cell_type": "markdown",
   "id": "fd395a00",
   "metadata": {},
   "source": [
    "## Getting the file name"
   ]
  },
  {
   "cell_type": "markdown",
   "id": "da933263",
   "metadata": {},
   "source": [
    "- Searching for files that are in the `./data` folder (in the folder that this notebook is in) that have `home` in the file name"
   ]
  },
  {
   "cell_type": "code",
   "execution_count": 7,
   "id": "d92f9409",
   "metadata": {},
   "outputs": [],
   "source": [
    "input_folder = \"./data\""
   ]
  },
  {
   "cell_type": "code",
   "execution_count": 8,
   "id": "9c972a09",
   "metadata": {},
   "outputs": [],
   "source": [
    "raw_data_file_keyword = '*[uU]rine*'"
   ]
  },
  {
   "cell_type": "code",
   "execution_count": 9,
   "id": "c142638e",
   "metadata": {},
   "outputs": [],
   "source": [
    "# Searching for matching files with recursion\n",
    "if glob.glob(os.path.join(input_folder + \"**\", raw_data_file_keyword)):\n",
    "    raw_data_files_list = glob.glob(os.path.join(input_folder + \"**\", raw_data_file_keyword))\n",
    "# Searching for matching files only in the folder\n",
    "elif glob.glob(os.path.join(input_folder, raw_data_file_keyword)):\n",
    "    raw_data_files_list = glob.glob(os.path.join(input_folder, raw_data_file_keyword))\n",
    "else:\n",
    "    raise ValueError(\"No files were found in {} that had the keyword {} in it\".format(input_folder, raw_data_file_keyword))"
   ]
  },
  {
   "cell_type": "code",
   "execution_count": 10,
   "id": "04d20383",
   "metadata": {},
   "outputs": [
    {
     "data": {
      "text/plain": [
       "['./data/Urine_Marking_Assay_Data.xlsx']"
      ]
     },
     "execution_count": 10,
     "metadata": {},
     "output_type": "execute_result"
    }
   ],
   "source": [
    "raw_data_files_list"
   ]
  },
  {
   "cell_type": "code",
   "execution_count": 11,
   "id": "aa2abf9c",
   "metadata": {},
   "outputs": [],
   "source": [
    "raw_data_file_path = raw_data_files_list[0]"
   ]
  },
  {
   "cell_type": "code",
   "execution_count": 12,
   "id": "0c4eec00",
   "metadata": {},
   "outputs": [
    {
     "data": {
      "text/plain": [
       "'./data/Urine_Marking_Assay_Data.xlsx'"
      ]
     },
     "execution_count": 12,
     "metadata": {},
     "output_type": "execute_result"
    }
   ],
   "source": [
    "raw_data_file_path"
   ]
  },
  {
   "cell_type": "markdown",
   "id": "a934ef8f",
   "metadata": {},
   "source": [
    "## Importing Data for One Sheet"
   ]
  },
  {
   "cell_type": "markdown",
   "id": "b7839431",
   "metadata": {},
   "source": [
    "- The original data has been trimmed so that only the cells with dates, winner ID's, and relevant metadata were kept"
   ]
  },
  {
   "cell_type": "code",
   "execution_count": 13,
   "id": "bb3ff67b",
   "metadata": {},
   "outputs": [],
   "source": [
    "xls = pd.ExcelFile(raw_data_file_path)\n",
    "sheets = xls.sheet_names"
   ]
  },
  {
   "cell_type": "code",
   "execution_count": 14,
   "id": "aeb563da",
   "metadata": {},
   "outputs": [
    {
     "data": {
      "text/plain": [
       "['Summary',\n",
       " 'CAGE1',\n",
       " 'CAGE2',\n",
       " 'CAGE3',\n",
       " 'CAGE4',\n",
       " 'ALLDATA',\n",
       " '_56F9DC9755BA473782653E2940F9']"
      ]
     },
     "execution_count": 14,
     "metadata": {},
     "output_type": "execute_result"
    }
   ],
   "source": [
    "sheets"
   ]
  },
  {
   "cell_type": "code",
   "execution_count": 15,
   "id": "5387e657",
   "metadata": {},
   "outputs": [],
   "source": [
    "# Seeing if \"Unnamed\" is in any of the cells for the 0th row\n",
    "if \"Unnamed\" not in \"\".join([str(col) for col in pd.read_excel(raw_data_file_path, sheet_name=sheets[1], header=0).columns]):\n",
    "    header_row = 0\n",
    "# Seeing if \"Unnamed\" is in any of the cells for the 1st row\n",
    "elif \"Unnamed\" not in \"\".join([str(col) for col in pd.read_excel(raw_data_file_path, sheet_name=sheets[1], header=1).columns]):\n",
    "    header_row = 1\n",
    "else:\n",
    "    header_row = 0\n",
    "    warnings.warn(\"\"\"Both the 0th and the 1st row have cells with blank values. This means that that these rows can not be used as headers. Please change the row number to the header\"\"\")\n"
   ]
  },
  {
   "cell_type": "code",
   "execution_count": 16,
   "id": "7cbb993b",
   "metadata": {},
   "outputs": [],
   "source": [
    "urine_marking_observations_df = pd.read_excel(raw_data_file_path, sheet_name=sheets[1], header=header_row)"
   ]
  },
  {
   "cell_type": "code",
   "execution_count": null,
   "id": "b93ea786",
   "metadata": {},
   "outputs": [],
   "source": []
  },
  {
   "cell_type": "code",
   "execution_count": 17,
   "id": "e9878131",
   "metadata": {},
   "outputs": [
    {
     "data": {
      "text/html": [
       "<div>\n",
       "<style scoped>\n",
       "    .dataframe tbody tr th:only-of-type {\n",
       "        vertical-align: middle;\n",
       "    }\n",
       "\n",
       "    .dataframe tbody tr th {\n",
       "        vertical-align: top;\n",
       "    }\n",
       "\n",
       "    .dataframe thead th {\n",
       "        text-align: right;\n",
       "    }\n",
       "</style>\n",
       "<table border=\"1\" class=\"dataframe\">\n",
       "  <thead>\n",
       "    <tr style=\"text-align: right;\">\n",
       "      <th></th>\n",
       "      <th>date</th>\n",
       "      <th>match</th>\n",
       "      <th>left_number_of_spots</th>\n",
       "      <th>right_number_of_spots</th>\n",
       "      <th>winner</th>\n",
       "      <th>loser</th>\n",
       "    </tr>\n",
       "  </thead>\n",
       "  <tbody>\n",
       "    <tr>\n",
       "      <th>0</th>\n",
       "      <td>2022-05-19</td>\n",
       "      <td>1.1 v 2.3</td>\n",
       "      <td>4</td>\n",
       "      <td>0</td>\n",
       "      <td>1.1</td>\n",
       "      <td>2.3</td>\n",
       "    </tr>\n",
       "    <tr>\n",
       "      <th>1</th>\n",
       "      <td>2022-05-19</td>\n",
       "      <td>2.2 v 1.4</td>\n",
       "      <td>0</td>\n",
       "      <td>6</td>\n",
       "      <td>1.4</td>\n",
       "      <td>2.2</td>\n",
       "    </tr>\n",
       "    <tr>\n",
       "      <th>2</th>\n",
       "      <td>2022-05-20</td>\n",
       "      <td>1.1 v 2.2</td>\n",
       "      <td>12</td>\n",
       "      <td>17</td>\n",
       "      <td>2.2</td>\n",
       "      <td>1.1</td>\n",
       "    </tr>\n",
       "    <tr>\n",
       "      <th>3</th>\n",
       "      <td>2022-05-20</td>\n",
       "      <td>2.3 v 1.4</td>\n",
       "      <td>0</td>\n",
       "      <td>10</td>\n",
       "      <td>1.4</td>\n",
       "      <td>2.3</td>\n",
       "    </tr>\n",
       "    <tr>\n",
       "      <th>4</th>\n",
       "      <td>2022-05-24</td>\n",
       "      <td>1.1 v 1.4</td>\n",
       "      <td>18</td>\n",
       "      <td>15</td>\n",
       "      <td>1.1</td>\n",
       "      <td>1.4</td>\n",
       "    </tr>\n",
       "    <tr>\n",
       "      <th>5</th>\n",
       "      <td>2022-05-24</td>\n",
       "      <td>2.2 v 2.3</td>\n",
       "      <td>0</td>\n",
       "      <td>0</td>\n",
       "      <td>tie</td>\n",
       "      <td>tie</td>\n",
       "    </tr>\n",
       "    <tr>\n",
       "      <th>6</th>\n",
       "      <td>2022-05-25</td>\n",
       "      <td>1.1 v 2.2</td>\n",
       "      <td>126</td>\n",
       "      <td>4</td>\n",
       "      <td>1.1</td>\n",
       "      <td>2.2</td>\n",
       "    </tr>\n",
       "    <tr>\n",
       "      <th>7</th>\n",
       "      <td>2022-05-25</td>\n",
       "      <td>2.3 v 1.4</td>\n",
       "      <td>0</td>\n",
       "      <td>8</td>\n",
       "      <td>1.4</td>\n",
       "      <td>2.3</td>\n",
       "    </tr>\n",
       "    <tr>\n",
       "      <th>8</th>\n",
       "      <td>2022-05-26</td>\n",
       "      <td>1.1 v 2.3</td>\n",
       "      <td>43</td>\n",
       "      <td>0</td>\n",
       "      <td>1.1</td>\n",
       "      <td>2.3</td>\n",
       "    </tr>\n",
       "    <tr>\n",
       "      <th>9</th>\n",
       "      <td>2022-05-26</td>\n",
       "      <td>2.2 v 1.4</td>\n",
       "      <td>24</td>\n",
       "      <td>10</td>\n",
       "      <td>2.2</td>\n",
       "      <td>1.4</td>\n",
       "    </tr>\n",
       "  </tbody>\n",
       "</table>\n",
       "</div>"
      ],
      "text/plain": [
       "        date      match  left_number_of_spots  right_number_of_spots winner  \\\n",
       "0 2022-05-19  1.1 v 2.3                     4                      0    1.1   \n",
       "1 2022-05-19  2.2 v 1.4                     0                      6    1.4   \n",
       "2 2022-05-20  1.1 v 2.2                    12                     17    2.2   \n",
       "3 2022-05-20  2.3 v 1.4                     0                     10    1.4   \n",
       "4 2022-05-24  1.1 v 1.4                    18                     15    1.1   \n",
       "5 2022-05-24  2.2 v 2.3                     0                      0    tie   \n",
       "6 2022-05-25  1.1 v 2.2                   126                      4    1.1   \n",
       "7 2022-05-25  2.3 v 1.4                     0                      8    1.4   \n",
       "8 2022-05-26  1.1 v 2.3                    43                      0    1.1   \n",
       "9 2022-05-26  2.2 v 1.4                    24                     10    2.2   \n",
       "\n",
       "  loser  \n",
       "0   2.3  \n",
       "1   2.2  \n",
       "2   1.1  \n",
       "3   2.3  \n",
       "4   1.4  \n",
       "5   tie  \n",
       "6   2.2  \n",
       "7   2.3  \n",
       "8   2.3  \n",
       "9   1.4  "
      ]
     },
     "execution_count": 17,
     "metadata": {},
     "output_type": "execute_result"
    }
   ],
   "source": [
    "urine_marking_observations_df"
   ]
  },
  {
   "cell_type": "code",
   "execution_count": 18,
   "id": "ec2be29b",
   "metadata": {
    "scrolled": true
   },
   "outputs": [
    {
     "data": {
      "text/html": [
       "<div>\n",
       "<style scoped>\n",
       "    .dataframe tbody tr th:only-of-type {\n",
       "        vertical-align: middle;\n",
       "    }\n",
       "\n",
       "    .dataframe tbody tr th {\n",
       "        vertical-align: top;\n",
       "    }\n",
       "\n",
       "    .dataframe thead th {\n",
       "        text-align: right;\n",
       "    }\n",
       "</style>\n",
       "<table border=\"1\" class=\"dataframe\">\n",
       "  <thead>\n",
       "    <tr style=\"text-align: right;\">\n",
       "      <th></th>\n",
       "      <th>date</th>\n",
       "      <th>match</th>\n",
       "      <th>left_number_of_spots</th>\n",
       "      <th>right_number_of_spots</th>\n",
       "      <th>winner</th>\n",
       "      <th>loser</th>\n",
       "    </tr>\n",
       "  </thead>\n",
       "  <tbody>\n",
       "    <tr>\n",
       "      <th>0</th>\n",
       "      <td>2022-05-19</td>\n",
       "      <td>1.1 v 2.3</td>\n",
       "      <td>4</td>\n",
       "      <td>0</td>\n",
       "      <td>1.1</td>\n",
       "      <td>2.3</td>\n",
       "    </tr>\n",
       "    <tr>\n",
       "      <th>1</th>\n",
       "      <td>2022-05-19</td>\n",
       "      <td>2.2 v 1.4</td>\n",
       "      <td>0</td>\n",
       "      <td>6</td>\n",
       "      <td>1.4</td>\n",
       "      <td>2.2</td>\n",
       "    </tr>\n",
       "    <tr>\n",
       "      <th>2</th>\n",
       "      <td>2022-05-20</td>\n",
       "      <td>1.1 v 2.2</td>\n",
       "      <td>12</td>\n",
       "      <td>17</td>\n",
       "      <td>2.2</td>\n",
       "      <td>1.1</td>\n",
       "    </tr>\n",
       "    <tr>\n",
       "      <th>3</th>\n",
       "      <td>2022-05-20</td>\n",
       "      <td>2.3 v 1.4</td>\n",
       "      <td>0</td>\n",
       "      <td>10</td>\n",
       "      <td>1.4</td>\n",
       "      <td>2.3</td>\n",
       "    </tr>\n",
       "    <tr>\n",
       "      <th>4</th>\n",
       "      <td>2022-05-24</td>\n",
       "      <td>1.1 v 1.4</td>\n",
       "      <td>18</td>\n",
       "      <td>15</td>\n",
       "      <td>1.1</td>\n",
       "      <td>1.4</td>\n",
       "    </tr>\n",
       "  </tbody>\n",
       "</table>\n",
       "</div>"
      ],
      "text/plain": [
       "        date      match  left_number_of_spots  right_number_of_spots winner  \\\n",
       "0 2022-05-19  1.1 v 2.3                     4                      0    1.1   \n",
       "1 2022-05-19  2.2 v 1.4                     0                      6    1.4   \n",
       "2 2022-05-20  1.1 v 2.2                    12                     17    2.2   \n",
       "3 2022-05-20  2.3 v 1.4                     0                     10    1.4   \n",
       "4 2022-05-24  1.1 v 1.4                    18                     15    1.1   \n",
       "\n",
       "  loser  \n",
       "0   2.3  \n",
       "1   2.2  \n",
       "2   1.1  \n",
       "3   2.3  \n",
       "4   1.4  "
      ]
     },
     "execution_count": 18,
     "metadata": {},
     "output_type": "execute_result"
    }
   ],
   "source": [
    "urine_marking_observations_df.head()"
   ]
  },
  {
   "cell_type": "code",
   "execution_count": 19,
   "id": "fc2d974d",
   "metadata": {},
   "outputs": [],
   "source": [
    "urine_marking_observations_df = urine_marking_observations_df.dropna(subset=[\"winner\"])"
   ]
  },
  {
   "cell_type": "code",
   "execution_count": 20,
   "id": "0e44dd84",
   "metadata": {},
   "outputs": [
    {
     "data": {
      "text/html": [
       "<div>\n",
       "<style scoped>\n",
       "    .dataframe tbody tr th:only-of-type {\n",
       "        vertical-align: middle;\n",
       "    }\n",
       "\n",
       "    .dataframe tbody tr th {\n",
       "        vertical-align: top;\n",
       "    }\n",
       "\n",
       "    .dataframe thead th {\n",
       "        text-align: right;\n",
       "    }\n",
       "</style>\n",
       "<table border=\"1\" class=\"dataframe\">\n",
       "  <thead>\n",
       "    <tr style=\"text-align: right;\">\n",
       "      <th></th>\n",
       "      <th>date</th>\n",
       "      <th>match</th>\n",
       "      <th>left_number_of_spots</th>\n",
       "      <th>right_number_of_spots</th>\n",
       "      <th>winner</th>\n",
       "      <th>loser</th>\n",
       "    </tr>\n",
       "  </thead>\n",
       "  <tbody>\n",
       "    <tr>\n",
       "      <th>0</th>\n",
       "      <td>2022-05-19</td>\n",
       "      <td>1.1 v 2.3</td>\n",
       "      <td>4</td>\n",
       "      <td>0</td>\n",
       "      <td>1.1</td>\n",
       "      <td>2.3</td>\n",
       "    </tr>\n",
       "    <tr>\n",
       "      <th>1</th>\n",
       "      <td>2022-05-19</td>\n",
       "      <td>2.2 v 1.4</td>\n",
       "      <td>0</td>\n",
       "      <td>6</td>\n",
       "      <td>1.4</td>\n",
       "      <td>2.2</td>\n",
       "    </tr>\n",
       "    <tr>\n",
       "      <th>2</th>\n",
       "      <td>2022-05-20</td>\n",
       "      <td>1.1 v 2.2</td>\n",
       "      <td>12</td>\n",
       "      <td>17</td>\n",
       "      <td>2.2</td>\n",
       "      <td>1.1</td>\n",
       "    </tr>\n",
       "    <tr>\n",
       "      <th>3</th>\n",
       "      <td>2022-05-20</td>\n",
       "      <td>2.3 v 1.4</td>\n",
       "      <td>0</td>\n",
       "      <td>10</td>\n",
       "      <td>1.4</td>\n",
       "      <td>2.3</td>\n",
       "    </tr>\n",
       "    <tr>\n",
       "      <th>4</th>\n",
       "      <td>2022-05-24</td>\n",
       "      <td>1.1 v 1.4</td>\n",
       "      <td>18</td>\n",
       "      <td>15</td>\n",
       "      <td>1.1</td>\n",
       "      <td>1.4</td>\n",
       "    </tr>\n",
       "    <tr>\n",
       "      <th>5</th>\n",
       "      <td>2022-05-24</td>\n",
       "      <td>2.2 v 2.3</td>\n",
       "      <td>0</td>\n",
       "      <td>0</td>\n",
       "      <td>tie</td>\n",
       "      <td>tie</td>\n",
       "    </tr>\n",
       "    <tr>\n",
       "      <th>6</th>\n",
       "      <td>2022-05-25</td>\n",
       "      <td>1.1 v 2.2</td>\n",
       "      <td>126</td>\n",
       "      <td>4</td>\n",
       "      <td>1.1</td>\n",
       "      <td>2.2</td>\n",
       "    </tr>\n",
       "    <tr>\n",
       "      <th>7</th>\n",
       "      <td>2022-05-25</td>\n",
       "      <td>2.3 v 1.4</td>\n",
       "      <td>0</td>\n",
       "      <td>8</td>\n",
       "      <td>1.4</td>\n",
       "      <td>2.3</td>\n",
       "    </tr>\n",
       "    <tr>\n",
       "      <th>8</th>\n",
       "      <td>2022-05-26</td>\n",
       "      <td>1.1 v 2.3</td>\n",
       "      <td>43</td>\n",
       "      <td>0</td>\n",
       "      <td>1.1</td>\n",
       "      <td>2.3</td>\n",
       "    </tr>\n",
       "    <tr>\n",
       "      <th>9</th>\n",
       "      <td>2022-05-26</td>\n",
       "      <td>2.2 v 1.4</td>\n",
       "      <td>24</td>\n",
       "      <td>10</td>\n",
       "      <td>2.2</td>\n",
       "      <td>1.4</td>\n",
       "    </tr>\n",
       "  </tbody>\n",
       "</table>\n",
       "</div>"
      ],
      "text/plain": [
       "        date      match  left_number_of_spots  right_number_of_spots winner  \\\n",
       "0 2022-05-19  1.1 v 2.3                     4                      0    1.1   \n",
       "1 2022-05-19  2.2 v 1.4                     0                      6    1.4   \n",
       "2 2022-05-20  1.1 v 2.2                    12                     17    2.2   \n",
       "3 2022-05-20  2.3 v 1.4                     0                     10    1.4   \n",
       "4 2022-05-24  1.1 v 1.4                    18                     15    1.1   \n",
       "5 2022-05-24  2.2 v 2.3                     0                      0    tie   \n",
       "6 2022-05-25  1.1 v 2.2                   126                      4    1.1   \n",
       "7 2022-05-25  2.3 v 1.4                     0                      8    1.4   \n",
       "8 2022-05-26  1.1 v 2.3                    43                      0    1.1   \n",
       "9 2022-05-26  2.2 v 1.4                    24                     10    2.2   \n",
       "\n",
       "  loser  \n",
       "0   2.3  \n",
       "1   2.2  \n",
       "2   1.1  \n",
       "3   2.3  \n",
       "4   1.4  \n",
       "5   tie  \n",
       "6   2.2  \n",
       "7   2.3  \n",
       "8   2.3  \n",
       "9   1.4  "
      ]
     },
     "execution_count": 20,
     "metadata": {},
     "output_type": "execute_result"
    }
   ],
   "source": [
    "urine_marking_observations_df"
   ]
  },
  {
   "cell_type": "markdown",
   "id": "62588bba",
   "metadata": {},
   "source": [
    "## Adding the session number"
   ]
  },
  {
   "cell_type": "markdown",
   "id": "add84e35",
   "metadata": {},
   "source": [
    "- Each new session has the date as a row, so we will get the index of all the rows with dates"
   ]
  },
  {
   "cell_type": "code",
   "execution_count": 21,
   "id": "9ab2f148",
   "metadata": {
    "scrolled": true
   },
   "outputs": [
    {
     "data": {
      "text/html": [
       "<div>\n",
       "<style scoped>\n",
       "    .dataframe tbody tr th:only-of-type {\n",
       "        vertical-align: middle;\n",
       "    }\n",
       "\n",
       "    .dataframe tbody tr th {\n",
       "        vertical-align: top;\n",
       "    }\n",
       "\n",
       "    .dataframe thead th {\n",
       "        text-align: right;\n",
       "    }\n",
       "</style>\n",
       "<table border=\"1\" class=\"dataframe\">\n",
       "  <thead>\n",
       "    <tr style=\"text-align: right;\">\n",
       "      <th></th>\n",
       "      <th>date</th>\n",
       "      <th>match</th>\n",
       "      <th>left_number_of_spots</th>\n",
       "      <th>right_number_of_spots</th>\n",
       "      <th>winner</th>\n",
       "      <th>loser</th>\n",
       "    </tr>\n",
       "  </thead>\n",
       "  <tbody>\n",
       "    <tr>\n",
       "      <th>0</th>\n",
       "      <td>2022-05-19</td>\n",
       "      <td>1.1 v 2.3</td>\n",
       "      <td>4</td>\n",
       "      <td>0</td>\n",
       "      <td>1.1</td>\n",
       "      <td>2.3</td>\n",
       "    </tr>\n",
       "    <tr>\n",
       "      <th>1</th>\n",
       "      <td>2022-05-19</td>\n",
       "      <td>2.2 v 1.4</td>\n",
       "      <td>0</td>\n",
       "      <td>6</td>\n",
       "      <td>1.4</td>\n",
       "      <td>2.2</td>\n",
       "    </tr>\n",
       "    <tr>\n",
       "      <th>2</th>\n",
       "      <td>2022-05-20</td>\n",
       "      <td>1.1 v 2.2</td>\n",
       "      <td>12</td>\n",
       "      <td>17</td>\n",
       "      <td>2.2</td>\n",
       "      <td>1.1</td>\n",
       "    </tr>\n",
       "    <tr>\n",
       "      <th>3</th>\n",
       "      <td>2022-05-20</td>\n",
       "      <td>2.3 v 1.4</td>\n",
       "      <td>0</td>\n",
       "      <td>10</td>\n",
       "      <td>1.4</td>\n",
       "      <td>2.3</td>\n",
       "    </tr>\n",
       "    <tr>\n",
       "      <th>4</th>\n",
       "      <td>2022-05-24</td>\n",
       "      <td>1.1 v 1.4</td>\n",
       "      <td>18</td>\n",
       "      <td>15</td>\n",
       "      <td>1.1</td>\n",
       "      <td>1.4</td>\n",
       "    </tr>\n",
       "    <tr>\n",
       "      <th>5</th>\n",
       "      <td>2022-05-24</td>\n",
       "      <td>2.2 v 2.3</td>\n",
       "      <td>0</td>\n",
       "      <td>0</td>\n",
       "      <td>tie</td>\n",
       "      <td>tie</td>\n",
       "    </tr>\n",
       "    <tr>\n",
       "      <th>6</th>\n",
       "      <td>2022-05-25</td>\n",
       "      <td>1.1 v 2.2</td>\n",
       "      <td>126</td>\n",
       "      <td>4</td>\n",
       "      <td>1.1</td>\n",
       "      <td>2.2</td>\n",
       "    </tr>\n",
       "    <tr>\n",
       "      <th>7</th>\n",
       "      <td>2022-05-25</td>\n",
       "      <td>2.3 v 1.4</td>\n",
       "      <td>0</td>\n",
       "      <td>8</td>\n",
       "      <td>1.4</td>\n",
       "      <td>2.3</td>\n",
       "    </tr>\n",
       "    <tr>\n",
       "      <th>8</th>\n",
       "      <td>2022-05-26</td>\n",
       "      <td>1.1 v 2.3</td>\n",
       "      <td>43</td>\n",
       "      <td>0</td>\n",
       "      <td>1.1</td>\n",
       "      <td>2.3</td>\n",
       "    </tr>\n",
       "    <tr>\n",
       "      <th>9</th>\n",
       "      <td>2022-05-26</td>\n",
       "      <td>2.2 v 1.4</td>\n",
       "      <td>24</td>\n",
       "      <td>10</td>\n",
       "      <td>2.2</td>\n",
       "      <td>1.4</td>\n",
       "    </tr>\n",
       "  </tbody>\n",
       "</table>\n",
       "</div>"
      ],
      "text/plain": [
       "        date      match  left_number_of_spots  right_number_of_spots winner  \\\n",
       "0 2022-05-19  1.1 v 2.3                     4                      0    1.1   \n",
       "1 2022-05-19  2.2 v 1.4                     0                      6    1.4   \n",
       "2 2022-05-20  1.1 v 2.2                    12                     17    2.2   \n",
       "3 2022-05-20  2.3 v 1.4                     0                     10    1.4   \n",
       "4 2022-05-24  1.1 v 1.4                    18                     15    1.1   \n",
       "5 2022-05-24  2.2 v 2.3                     0                      0    tie   \n",
       "6 2022-05-25  1.1 v 2.2                   126                      4    1.1   \n",
       "7 2022-05-25  2.3 v 1.4                     0                      8    1.4   \n",
       "8 2022-05-26  1.1 v 2.3                    43                      0    1.1   \n",
       "9 2022-05-26  2.2 v 1.4                    24                     10    2.2   \n",
       "\n",
       "  loser  \n",
       "0   2.3  \n",
       "1   2.2  \n",
       "2   1.1  \n",
       "3   2.3  \n",
       "4   1.4  \n",
       "5   tie  \n",
       "6   2.2  \n",
       "7   2.3  \n",
       "8   2.3  \n",
       "9   1.4  "
      ]
     },
     "execution_count": 21,
     "metadata": {},
     "output_type": "execute_result"
    }
   ],
   "source": [
    "urine_marking_observations_df.dropna(axis=0, subset=\"date\")"
   ]
  },
  {
   "cell_type": "markdown",
   "id": "f1f4166f",
   "metadata": {},
   "source": [
    "- Dropping all rows that are ties"
   ]
  },
  {
   "cell_type": "code",
   "execution_count": 22,
   "id": "068965ac",
   "metadata": {},
   "outputs": [],
   "source": [
    "urine_marking_observations_df = urine_marking_observations_df[pd.to_numeric(urine_marking_observations_df['winner'], errors='coerce').notnull()]"
   ]
  },
  {
   "cell_type": "markdown",
   "id": "86971800",
   "metadata": {},
   "source": [
    "- Getting the indexes of where each new session starts"
   ]
  },
  {
   "cell_type": "code",
   "execution_count": 23,
   "id": "449189cd",
   "metadata": {},
   "outputs": [
    {
     "data": {
      "text/plain": [
       "Int64Index([0, 1, 2, 3, 4, 6, 7, 8, 9], dtype='int64')"
      ]
     },
     "execution_count": 23,
     "metadata": {},
     "output_type": "execute_result"
    }
   ],
   "source": [
    "urine_marking_observations_df.dropna(axis=0, subset=\"date\").index"
   ]
  },
  {
   "cell_type": "code",
   "execution_count": 24,
   "id": "69a1b44c",
   "metadata": {},
   "outputs": [],
   "source": [
    "session_indexes = urine_marking_observations_df.dropna(axis=0, subset=\"date\").index"
   ]
  },
  {
   "cell_type": "markdown",
   "id": "d8ae3167",
   "metadata": {},
   "source": [
    "- Adding a column for the session number and then filling all the `NaNs`"
   ]
  },
  {
   "cell_type": "code",
   "execution_count": 25,
   "id": "e243acb6",
   "metadata": {},
   "outputs": [],
   "source": [
    "urine_marking_observations_df = eloscore.add_session_number_column(urine_marking_observations_df, session_indexes)\n",
    "urine_marking_observations_df = urine_marking_observations_df.fillna(method='ffill')"
   ]
  },
  {
   "cell_type": "markdown",
   "id": "c35e48b5",
   "metadata": {},
   "source": [
    "- Making another column for plotting"
   ]
  },
  {
   "cell_type": "code",
   "execution_count": 26,
   "id": "2bd524c4",
   "metadata": {},
   "outputs": [],
   "source": [
    "urine_marking_observations_df = eloscore.add_session_number_column(urine_marking_observations_df, session_indexes, session_number_column=\"session_number_plotting\")"
   ]
  },
  {
   "cell_type": "code",
   "execution_count": 27,
   "id": "9600985c",
   "metadata": {},
   "outputs": [
    {
     "data": {
      "text/html": [
       "<div>\n",
       "<style scoped>\n",
       "    .dataframe tbody tr th:only-of-type {\n",
       "        vertical-align: middle;\n",
       "    }\n",
       "\n",
       "    .dataframe tbody tr th {\n",
       "        vertical-align: top;\n",
       "    }\n",
       "\n",
       "    .dataframe thead th {\n",
       "        text-align: right;\n",
       "    }\n",
       "</style>\n",
       "<table border=\"1\" class=\"dataframe\">\n",
       "  <thead>\n",
       "    <tr style=\"text-align: right;\">\n",
       "      <th></th>\n",
       "      <th>date</th>\n",
       "      <th>match</th>\n",
       "      <th>left_number_of_spots</th>\n",
       "      <th>right_number_of_spots</th>\n",
       "      <th>winner</th>\n",
       "      <th>loser</th>\n",
       "      <th>session_number</th>\n",
       "      <th>session_number_plotting</th>\n",
       "    </tr>\n",
       "  </thead>\n",
       "  <tbody>\n",
       "    <tr>\n",
       "      <th>0</th>\n",
       "      <td>2022-05-19</td>\n",
       "      <td>1.1 v 2.3</td>\n",
       "      <td>4</td>\n",
       "      <td>0</td>\n",
       "      <td>1.1</td>\n",
       "      <td>2.3</td>\n",
       "      <td>1.0</td>\n",
       "      <td>1.0</td>\n",
       "    </tr>\n",
       "    <tr>\n",
       "      <th>1</th>\n",
       "      <td>2022-05-19</td>\n",
       "      <td>2.2 v 1.4</td>\n",
       "      <td>0</td>\n",
       "      <td>6</td>\n",
       "      <td>1.4</td>\n",
       "      <td>2.2</td>\n",
       "      <td>2.0</td>\n",
       "      <td>2.0</td>\n",
       "    </tr>\n",
       "    <tr>\n",
       "      <th>2</th>\n",
       "      <td>2022-05-20</td>\n",
       "      <td>1.1 v 2.2</td>\n",
       "      <td>12</td>\n",
       "      <td>17</td>\n",
       "      <td>2.2</td>\n",
       "      <td>1.1</td>\n",
       "      <td>3.0</td>\n",
       "      <td>3.0</td>\n",
       "    </tr>\n",
       "    <tr>\n",
       "      <th>3</th>\n",
       "      <td>2022-05-20</td>\n",
       "      <td>2.3 v 1.4</td>\n",
       "      <td>0</td>\n",
       "      <td>10</td>\n",
       "      <td>1.4</td>\n",
       "      <td>2.3</td>\n",
       "      <td>4.0</td>\n",
       "      <td>4.0</td>\n",
       "    </tr>\n",
       "    <tr>\n",
       "      <th>4</th>\n",
       "      <td>2022-05-24</td>\n",
       "      <td>1.1 v 1.4</td>\n",
       "      <td>18</td>\n",
       "      <td>15</td>\n",
       "      <td>1.1</td>\n",
       "      <td>1.4</td>\n",
       "      <td>5.0</td>\n",
       "      <td>5.0</td>\n",
       "    </tr>\n",
       "  </tbody>\n",
       "</table>\n",
       "</div>"
      ],
      "text/plain": [
       "        date      match  left_number_of_spots  right_number_of_spots  winner  \\\n",
       "0 2022-05-19  1.1 v 2.3                     4                      0     1.1   \n",
       "1 2022-05-19  2.2 v 1.4                     0                      6     1.4   \n",
       "2 2022-05-20  1.1 v 2.2                    12                     17     2.2   \n",
       "3 2022-05-20  2.3 v 1.4                     0                     10     1.4   \n",
       "4 2022-05-24  1.1 v 1.4                    18                     15     1.1   \n",
       "\n",
       "   loser  session_number  session_number_plotting  \n",
       "0    2.3             1.0                      1.0  \n",
       "1    2.2             2.0                      2.0  \n",
       "2    1.1             3.0                      3.0  \n",
       "3    2.3             4.0                      4.0  \n",
       "4    1.4             5.0                      5.0  "
      ]
     },
     "execution_count": 27,
     "metadata": {},
     "output_type": "execute_result"
    }
   ],
   "source": [
    "urine_marking_observations_df.head()"
   ]
  },
  {
   "cell_type": "markdown",
   "id": "cf5ec39f",
   "metadata": {},
   "source": [
    "## Calculating ELO Score"
   ]
  },
  {
   "cell_type": "markdown",
   "id": "5b2390aa",
   "metadata": {},
   "source": [
    "- Example calculation"
   ]
  },
  {
   "cell_type": "code",
   "execution_count": 28,
   "id": "e334d47f",
   "metadata": {},
   "outputs": [
    {
     "data": {
      "text/plain": [
       "1020"
      ]
     },
     "execution_count": 28,
     "metadata": {},
     "output_type": "execute_result"
    }
   ],
   "source": [
    "eloscore.calculate_elo_score(subject_elo_score=1000, agent_elo_score=2000)"
   ]
  },
  {
   "cell_type": "markdown",
   "id": "3412a5c0",
   "metadata": {},
   "source": [
    "## Get the Elo score for all the events"
   ]
  },
  {
   "cell_type": "code",
   "execution_count": 29,
   "id": "4ae10ebe",
   "metadata": {
    "scrolled": true
   },
   "outputs": [
    {
     "data": {
      "text/html": [
       "<div>\n",
       "<style scoped>\n",
       "    .dataframe tbody tr th:only-of-type {\n",
       "        vertical-align: middle;\n",
       "    }\n",
       "\n",
       "    .dataframe tbody tr th {\n",
       "        vertical-align: top;\n",
       "    }\n",
       "\n",
       "    .dataframe thead th {\n",
       "        text-align: right;\n",
       "    }\n",
       "</style>\n",
       "<table border=\"1\" class=\"dataframe\">\n",
       "  <thead>\n",
       "    <tr style=\"text-align: right;\">\n",
       "      <th></th>\n",
       "      <th>date</th>\n",
       "      <th>match</th>\n",
       "      <th>left_number_of_spots</th>\n",
       "      <th>right_number_of_spots</th>\n",
       "      <th>winner</th>\n",
       "      <th>loser</th>\n",
       "      <th>session_number</th>\n",
       "      <th>session_number_plotting</th>\n",
       "    </tr>\n",
       "  </thead>\n",
       "  <tbody>\n",
       "    <tr>\n",
       "      <th>0</th>\n",
       "      <td>2022-05-19</td>\n",
       "      <td>1.1 v 2.3</td>\n",
       "      <td>4</td>\n",
       "      <td>0</td>\n",
       "      <td>1.1</td>\n",
       "      <td>2.3</td>\n",
       "      <td>1.0</td>\n",
       "      <td>1.0</td>\n",
       "    </tr>\n",
       "    <tr>\n",
       "      <th>1</th>\n",
       "      <td>2022-05-19</td>\n",
       "      <td>2.2 v 1.4</td>\n",
       "      <td>0</td>\n",
       "      <td>6</td>\n",
       "      <td>1.4</td>\n",
       "      <td>2.2</td>\n",
       "      <td>2.0</td>\n",
       "      <td>2.0</td>\n",
       "    </tr>\n",
       "    <tr>\n",
       "      <th>2</th>\n",
       "      <td>2022-05-20</td>\n",
       "      <td>1.1 v 2.2</td>\n",
       "      <td>12</td>\n",
       "      <td>17</td>\n",
       "      <td>2.2</td>\n",
       "      <td>1.1</td>\n",
       "      <td>3.0</td>\n",
       "      <td>3.0</td>\n",
       "    </tr>\n",
       "    <tr>\n",
       "      <th>3</th>\n",
       "      <td>2022-05-20</td>\n",
       "      <td>2.3 v 1.4</td>\n",
       "      <td>0</td>\n",
       "      <td>10</td>\n",
       "      <td>1.4</td>\n",
       "      <td>2.3</td>\n",
       "      <td>4.0</td>\n",
       "      <td>4.0</td>\n",
       "    </tr>\n",
       "    <tr>\n",
       "      <th>4</th>\n",
       "      <td>2022-05-24</td>\n",
       "      <td>1.1 v 1.4</td>\n",
       "      <td>18</td>\n",
       "      <td>15</td>\n",
       "      <td>1.1</td>\n",
       "      <td>1.4</td>\n",
       "      <td>5.0</td>\n",
       "      <td>5.0</td>\n",
       "    </tr>\n",
       "  </tbody>\n",
       "</table>\n",
       "</div>"
      ],
      "text/plain": [
       "        date      match  left_number_of_spots  right_number_of_spots  winner  \\\n",
       "0 2022-05-19  1.1 v 2.3                     4                      0     1.1   \n",
       "1 2022-05-19  2.2 v 1.4                     0                      6     1.4   \n",
       "2 2022-05-20  1.1 v 2.2                    12                     17     2.2   \n",
       "3 2022-05-20  2.3 v 1.4                     0                     10     1.4   \n",
       "4 2022-05-24  1.1 v 1.4                    18                     15     1.1   \n",
       "\n",
       "   loser  session_number  session_number_plotting  \n",
       "0    2.3             1.0                      1.0  \n",
       "1    2.2             2.0                      2.0  \n",
       "2    1.1             3.0                      3.0  \n",
       "3    2.3             4.0                      4.0  \n",
       "4    1.4             5.0                      5.0  "
      ]
     },
     "execution_count": 29,
     "metadata": {},
     "output_type": "execute_result"
    }
   ],
   "source": [
    "urine_marking_observations_df.head()"
   ]
  },
  {
   "cell_type": "code",
   "execution_count": 30,
   "id": "5130bfce",
   "metadata": {},
   "outputs": [
    {
     "data": {
      "text/plain": [
       "defaultdict(<function eloscore.eloscore.update_elo_score.<locals>.<lambda>()>,\n",
       "            {'A': 1010.0, 'B': 990.0})"
      ]
     },
     "execution_count": 30,
     "metadata": {},
     "output_type": "execute_result"
    }
   ],
   "source": [
    "eloscore.update_elo_score(winner_id=\"A\", loser_id=\"B\")"
   ]
  },
  {
   "cell_type": "markdown",
   "id": "66cbe2bf",
   "metadata": {},
   "source": [
    "- Function that creates a dictionary that has the original/updated elo score for each event"
   ]
  },
  {
   "cell_type": "code",
   "execution_count": 31,
   "id": "ada17468",
   "metadata": {},
   "outputs": [],
   "source": [
    "index_to_elo_score_and_meta_data = eloscore.iterate_elo_score_calculation_for_data_frame(data_frame=urine_marking_observations_df, winner_column=\"winner\", loser_column=\"loser\", additional_columns=[\"date\", \"session_number\", \"session_number_plotting\"])"
   ]
  },
  {
   "cell_type": "code",
   "execution_count": 32,
   "id": "f03f72ba",
   "metadata": {},
   "outputs": [
    {
     "data": {
      "text/plain": [
       "{'total_match_number': 1,\n",
       " 'subject_id': 1.1,\n",
       " 'agent_id': 2.3,\n",
       " 'original_elo_score': 1000,\n",
       " 'updated_elo_score': 1010.0,\n",
       " 'win_draw_loss': 1,\n",
       " 'date': Timestamp('2022-05-19 00:00:00'),\n",
       " 'session_number': 1.0,\n",
       " 'session_number_plotting': 1.0}"
      ]
     },
     "execution_count": 32,
     "metadata": {},
     "output_type": "execute_result"
    }
   ],
   "source": [
    "index_to_elo_score_and_meta_data[0]"
   ]
  },
  {
   "cell_type": "markdown",
   "id": "f02d9046",
   "metadata": {},
   "source": [
    "- Turning the dictionary into a dataframe"
   ]
  },
  {
   "cell_type": "code",
   "execution_count": 33,
   "id": "eaad3b8b",
   "metadata": {},
   "outputs": [],
   "source": [
    "urine_marking_elo_score_df = pd.DataFrame.from_dict(index_to_elo_score_and_meta_data, orient=\"index\")"
   ]
  },
  {
   "cell_type": "code",
   "execution_count": 34,
   "id": "cfba525f",
   "metadata": {
    "scrolled": true
   },
   "outputs": [
    {
     "data": {
      "text/html": [
       "<div>\n",
       "<style scoped>\n",
       "    .dataframe tbody tr th:only-of-type {\n",
       "        vertical-align: middle;\n",
       "    }\n",
       "\n",
       "    .dataframe tbody tr th {\n",
       "        vertical-align: top;\n",
       "    }\n",
       "\n",
       "    .dataframe thead th {\n",
       "        text-align: right;\n",
       "    }\n",
       "</style>\n",
       "<table border=\"1\" class=\"dataframe\">\n",
       "  <thead>\n",
       "    <tr style=\"text-align: right;\">\n",
       "      <th></th>\n",
       "      <th>total_match_number</th>\n",
       "      <th>subject_id</th>\n",
       "      <th>agent_id</th>\n",
       "      <th>original_elo_score</th>\n",
       "      <th>updated_elo_score</th>\n",
       "      <th>win_draw_loss</th>\n",
       "      <th>date</th>\n",
       "      <th>session_number</th>\n",
       "      <th>session_number_plotting</th>\n",
       "    </tr>\n",
       "  </thead>\n",
       "  <tbody>\n",
       "    <tr>\n",
       "      <th>0</th>\n",
       "      <td>1</td>\n",
       "      <td>1.1</td>\n",
       "      <td>2.3</td>\n",
       "      <td>1000.0</td>\n",
       "      <td>1010.0</td>\n",
       "      <td>1</td>\n",
       "      <td>2022-05-19</td>\n",
       "      <td>1.0</td>\n",
       "      <td>1.0</td>\n",
       "    </tr>\n",
       "    <tr>\n",
       "      <th>1</th>\n",
       "      <td>1</td>\n",
       "      <td>2.3</td>\n",
       "      <td>2.3</td>\n",
       "      <td>1000.0</td>\n",
       "      <td>990.0</td>\n",
       "      <td>1</td>\n",
       "      <td>2022-05-19</td>\n",
       "      <td>1.0</td>\n",
       "      <td>1.0</td>\n",
       "    </tr>\n",
       "    <tr>\n",
       "      <th>2</th>\n",
       "      <td>2</td>\n",
       "      <td>1.4</td>\n",
       "      <td>2.2</td>\n",
       "      <td>1000.0</td>\n",
       "      <td>1010.0</td>\n",
       "      <td>1</td>\n",
       "      <td>2022-05-19</td>\n",
       "      <td>2.0</td>\n",
       "      <td>2.0</td>\n",
       "    </tr>\n",
       "    <tr>\n",
       "      <th>3</th>\n",
       "      <td>2</td>\n",
       "      <td>2.2</td>\n",
       "      <td>2.2</td>\n",
       "      <td>1000.0</td>\n",
       "      <td>990.0</td>\n",
       "      <td>1</td>\n",
       "      <td>2022-05-19</td>\n",
       "      <td>2.0</td>\n",
       "      <td>2.0</td>\n",
       "    </tr>\n",
       "    <tr>\n",
       "      <th>4</th>\n",
       "      <td>3</td>\n",
       "      <td>2.2</td>\n",
       "      <td>1.1</td>\n",
       "      <td>990.0</td>\n",
       "      <td>1000.6</td>\n",
       "      <td>1</td>\n",
       "      <td>2022-05-20</td>\n",
       "      <td>3.0</td>\n",
       "      <td>3.0</td>\n",
       "    </tr>\n",
       "  </tbody>\n",
       "</table>\n",
       "</div>"
      ],
      "text/plain": [
       "   total_match_number  subject_id  agent_id  original_elo_score  \\\n",
       "0                   1         1.1       2.3              1000.0   \n",
       "1                   1         2.3       2.3              1000.0   \n",
       "2                   2         1.4       2.2              1000.0   \n",
       "3                   2         2.2       2.2              1000.0   \n",
       "4                   3         2.2       1.1               990.0   \n",
       "\n",
       "   updated_elo_score  win_draw_loss       date  session_number  \\\n",
       "0             1010.0              1 2022-05-19             1.0   \n",
       "1              990.0              1 2022-05-19             1.0   \n",
       "2             1010.0              1 2022-05-19             2.0   \n",
       "3              990.0              1 2022-05-19             2.0   \n",
       "4             1000.6              1 2022-05-20             3.0   \n",
       "\n",
       "   session_number_plotting  \n",
       "0                      1.0  \n",
       "1                      1.0  \n",
       "2                      2.0  \n",
       "3                      2.0  \n",
       "4                      3.0  "
      ]
     },
     "execution_count": 34,
     "metadata": {},
     "output_type": "execute_result"
    }
   ],
   "source": [
    "urine_marking_elo_score_df.head()"
   ]
  },
  {
   "cell_type": "code",
   "execution_count": 35,
   "id": "04bb8bad",
   "metadata": {
    "scrolled": true
   },
   "outputs": [
    {
     "data": {
      "text/html": [
       "<div>\n",
       "<style scoped>\n",
       "    .dataframe tbody tr th:only-of-type {\n",
       "        vertical-align: middle;\n",
       "    }\n",
       "\n",
       "    .dataframe tbody tr th {\n",
       "        vertical-align: top;\n",
       "    }\n",
       "\n",
       "    .dataframe thead th {\n",
       "        text-align: right;\n",
       "    }\n",
       "</style>\n",
       "<table border=\"1\" class=\"dataframe\">\n",
       "  <thead>\n",
       "    <tr style=\"text-align: right;\">\n",
       "      <th></th>\n",
       "      <th>total_match_number</th>\n",
       "      <th>subject_id</th>\n",
       "      <th>agent_id</th>\n",
       "      <th>original_elo_score</th>\n",
       "      <th>updated_elo_score</th>\n",
       "      <th>win_draw_loss</th>\n",
       "      <th>date</th>\n",
       "      <th>session_number</th>\n",
       "      <th>session_number_plotting</th>\n",
       "    </tr>\n",
       "  </thead>\n",
       "  <tbody>\n",
       "    <tr>\n",
       "      <th>13</th>\n",
       "      <td>7</td>\n",
       "      <td>2.3</td>\n",
       "      <td>2.3</td>\n",
       "      <td>980.6</td>\n",
       "      <td>971.4</td>\n",
       "      <td>1</td>\n",
       "      <td>2022-05-25</td>\n",
       "      <td>7.0</td>\n",
       "      <td>7.0</td>\n",
       "    </tr>\n",
       "    <tr>\n",
       "      <th>14</th>\n",
       "      <td>8</td>\n",
       "      <td>1.1</td>\n",
       "      <td>2.3</td>\n",
       "      <td>1019.7</td>\n",
       "      <td>1028.3</td>\n",
       "      <td>1</td>\n",
       "      <td>2022-05-26</td>\n",
       "      <td>8.0</td>\n",
       "      <td>8.0</td>\n",
       "    </tr>\n",
       "    <tr>\n",
       "      <th>15</th>\n",
       "      <td>8</td>\n",
       "      <td>2.3</td>\n",
       "      <td>2.3</td>\n",
       "      <td>971.4</td>\n",
       "      <td>962.8</td>\n",
       "      <td>1</td>\n",
       "      <td>2022-05-26</td>\n",
       "      <td>8.0</td>\n",
       "      <td>8.0</td>\n",
       "    </tr>\n",
       "    <tr>\n",
       "      <th>16</th>\n",
       "      <td>9</td>\n",
       "      <td>2.2</td>\n",
       "      <td>1.4</td>\n",
       "      <td>990.9</td>\n",
       "      <td>1001.7</td>\n",
       "      <td>1</td>\n",
       "      <td>2022-05-26</td>\n",
       "      <td>9.0</td>\n",
       "      <td>9.0</td>\n",
       "    </tr>\n",
       "    <tr>\n",
       "      <th>17</th>\n",
       "      <td>9</td>\n",
       "      <td>1.4</td>\n",
       "      <td>1.4</td>\n",
       "      <td>1018.0</td>\n",
       "      <td>1007.2</td>\n",
       "      <td>1</td>\n",
       "      <td>2022-05-26</td>\n",
       "      <td>9.0</td>\n",
       "      <td>9.0</td>\n",
       "    </tr>\n",
       "  </tbody>\n",
       "</table>\n",
       "</div>"
      ],
      "text/plain": [
       "    total_match_number  subject_id  agent_id  original_elo_score  \\\n",
       "13                   7         2.3       2.3               980.6   \n",
       "14                   8         1.1       2.3              1019.7   \n",
       "15                   8         2.3       2.3               971.4   \n",
       "16                   9         2.2       1.4               990.9   \n",
       "17                   9         1.4       1.4              1018.0   \n",
       "\n",
       "    updated_elo_score  win_draw_loss       date  session_number  \\\n",
       "13              971.4              1 2022-05-25             7.0   \n",
       "14             1028.3              1 2022-05-26             8.0   \n",
       "15              962.8              1 2022-05-26             8.0   \n",
       "16             1001.7              1 2022-05-26             9.0   \n",
       "17             1007.2              1 2022-05-26             9.0   \n",
       "\n",
       "    session_number_plotting  \n",
       "13                      7.0  \n",
       "14                      8.0  \n",
       "15                      8.0  \n",
       "16                      9.0  \n",
       "17                      9.0  "
      ]
     },
     "execution_count": 35,
     "metadata": {},
     "output_type": "execute_result"
    }
   ],
   "source": [
    "urine_marking_elo_score_df.tail()"
   ]
  },
  {
   "cell_type": "code",
   "execution_count": 36,
   "id": "4583b07f",
   "metadata": {},
   "outputs": [
    {
     "data": {
      "text/html": [
       "<div>\n",
       "<style scoped>\n",
       "    .dataframe tbody tr th:only-of-type {\n",
       "        vertical-align: middle;\n",
       "    }\n",
       "\n",
       "    .dataframe tbody tr th {\n",
       "        vertical-align: top;\n",
       "    }\n",
       "\n",
       "    .dataframe thead th {\n",
       "        text-align: right;\n",
       "    }\n",
       "</style>\n",
       "<table border=\"1\" class=\"dataframe\">\n",
       "  <thead>\n",
       "    <tr style=\"text-align: right;\">\n",
       "      <th></th>\n",
       "      <th>total_match_number</th>\n",
       "      <th>agent_id</th>\n",
       "      <th>original_elo_score</th>\n",
       "      <th>updated_elo_score</th>\n",
       "      <th>win_draw_loss</th>\n",
       "      <th>date</th>\n",
       "      <th>session_number</th>\n",
       "      <th>session_number_plotting</th>\n",
       "    </tr>\n",
       "    <tr>\n",
       "      <th>subject_id</th>\n",
       "      <th></th>\n",
       "      <th></th>\n",
       "      <th></th>\n",
       "      <th></th>\n",
       "      <th></th>\n",
       "      <th></th>\n",
       "      <th></th>\n",
       "      <th></th>\n",
       "    </tr>\n",
       "  </thead>\n",
       "  <tbody>\n",
       "    <tr>\n",
       "      <th>1.1</th>\n",
       "      <td>5</td>\n",
       "      <td>5</td>\n",
       "      <td>5</td>\n",
       "      <td>5</td>\n",
       "      <td>5</td>\n",
       "      <td>5</td>\n",
       "      <td>5</td>\n",
       "      <td>5</td>\n",
       "    </tr>\n",
       "    <tr>\n",
       "      <th>1.4</th>\n",
       "      <td>5</td>\n",
       "      <td>5</td>\n",
       "      <td>5</td>\n",
       "      <td>5</td>\n",
       "      <td>5</td>\n",
       "      <td>5</td>\n",
       "      <td>5</td>\n",
       "      <td>5</td>\n",
       "    </tr>\n",
       "    <tr>\n",
       "      <th>2.2</th>\n",
       "      <td>4</td>\n",
       "      <td>4</td>\n",
       "      <td>4</td>\n",
       "      <td>4</td>\n",
       "      <td>4</td>\n",
       "      <td>4</td>\n",
       "      <td>4</td>\n",
       "      <td>4</td>\n",
       "    </tr>\n",
       "    <tr>\n",
       "      <th>2.3</th>\n",
       "      <td>4</td>\n",
       "      <td>4</td>\n",
       "      <td>4</td>\n",
       "      <td>4</td>\n",
       "      <td>4</td>\n",
       "      <td>4</td>\n",
       "      <td>4</td>\n",
       "      <td>4</td>\n",
       "    </tr>\n",
       "  </tbody>\n",
       "</table>\n",
       "</div>"
      ],
      "text/plain": [
       "            total_match_number  agent_id  original_elo_score  \\\n",
       "subject_id                                                     \n",
       "1.1                          5         5                   5   \n",
       "1.4                          5         5                   5   \n",
       "2.2                          4         4                   4   \n",
       "2.3                          4         4                   4   \n",
       "\n",
       "            updated_elo_score  win_draw_loss  date  session_number  \\\n",
       "subject_id                                                           \n",
       "1.1                         5              5     5               5   \n",
       "1.4                         5              5     5               5   \n",
       "2.2                         4              4     4               4   \n",
       "2.3                         4              4     4               4   \n",
       "\n",
       "            session_number_plotting  \n",
       "subject_id                           \n",
       "1.1                               5  \n",
       "1.4                               5  \n",
       "2.2                               4  \n",
       "2.3                               4  "
      ]
     },
     "execution_count": 36,
     "metadata": {},
     "output_type": "execute_result"
    }
   ],
   "source": [
    "urine_marking_elo_score_df.groupby(\"subject_id\").count()"
   ]
  },
  {
   "cell_type": "code",
   "execution_count": 37,
   "id": "58f124e4",
   "metadata": {},
   "outputs": [
    {
     "data": {
      "text/html": [
       "<div>\n",
       "<style scoped>\n",
       "    .dataframe tbody tr th:only-of-type {\n",
       "        vertical-align: middle;\n",
       "    }\n",
       "\n",
       "    .dataframe tbody tr th {\n",
       "        vertical-align: top;\n",
       "    }\n",
       "\n",
       "    .dataframe thead th {\n",
       "        text-align: right;\n",
       "    }\n",
       "</style>\n",
       "<table border=\"1\" class=\"dataframe\">\n",
       "  <thead>\n",
       "    <tr style=\"text-align: right;\">\n",
       "      <th></th>\n",
       "      <th>total_match_number</th>\n",
       "      <th>subject_id</th>\n",
       "      <th>agent_id</th>\n",
       "      <th>original_elo_score</th>\n",
       "      <th>updated_elo_score</th>\n",
       "      <th>win_draw_loss</th>\n",
       "      <th>date</th>\n",
       "      <th>session_number_plotting</th>\n",
       "    </tr>\n",
       "    <tr>\n",
       "      <th>session_number</th>\n",
       "      <th></th>\n",
       "      <th></th>\n",
       "      <th></th>\n",
       "      <th></th>\n",
       "      <th></th>\n",
       "      <th></th>\n",
       "      <th></th>\n",
       "      <th></th>\n",
       "    </tr>\n",
       "  </thead>\n",
       "  <tbody>\n",
       "    <tr>\n",
       "      <th>1.0</th>\n",
       "      <td>2</td>\n",
       "      <td>2</td>\n",
       "      <td>2</td>\n",
       "      <td>2</td>\n",
       "      <td>2</td>\n",
       "      <td>2</td>\n",
       "      <td>2</td>\n",
       "      <td>2</td>\n",
       "    </tr>\n",
       "    <tr>\n",
       "      <th>2.0</th>\n",
       "      <td>2</td>\n",
       "      <td>2</td>\n",
       "      <td>2</td>\n",
       "      <td>2</td>\n",
       "      <td>2</td>\n",
       "      <td>2</td>\n",
       "      <td>2</td>\n",
       "      <td>2</td>\n",
       "    </tr>\n",
       "    <tr>\n",
       "      <th>3.0</th>\n",
       "      <td>2</td>\n",
       "      <td>2</td>\n",
       "      <td>2</td>\n",
       "      <td>2</td>\n",
       "      <td>2</td>\n",
       "      <td>2</td>\n",
       "      <td>2</td>\n",
       "      <td>2</td>\n",
       "    </tr>\n",
       "    <tr>\n",
       "      <th>4.0</th>\n",
       "      <td>2</td>\n",
       "      <td>2</td>\n",
       "      <td>2</td>\n",
       "      <td>2</td>\n",
       "      <td>2</td>\n",
       "      <td>2</td>\n",
       "      <td>2</td>\n",
       "      <td>2</td>\n",
       "    </tr>\n",
       "    <tr>\n",
       "      <th>5.0</th>\n",
       "      <td>2</td>\n",
       "      <td>2</td>\n",
       "      <td>2</td>\n",
       "      <td>2</td>\n",
       "      <td>2</td>\n",
       "      <td>2</td>\n",
       "      <td>2</td>\n",
       "      <td>2</td>\n",
       "    </tr>\n",
       "    <tr>\n",
       "      <th>6.0</th>\n",
       "      <td>2</td>\n",
       "      <td>2</td>\n",
       "      <td>2</td>\n",
       "      <td>2</td>\n",
       "      <td>2</td>\n",
       "      <td>2</td>\n",
       "      <td>2</td>\n",
       "      <td>2</td>\n",
       "    </tr>\n",
       "    <tr>\n",
       "      <th>7.0</th>\n",
       "      <td>2</td>\n",
       "      <td>2</td>\n",
       "      <td>2</td>\n",
       "      <td>2</td>\n",
       "      <td>2</td>\n",
       "      <td>2</td>\n",
       "      <td>2</td>\n",
       "      <td>2</td>\n",
       "    </tr>\n",
       "    <tr>\n",
       "      <th>8.0</th>\n",
       "      <td>2</td>\n",
       "      <td>2</td>\n",
       "      <td>2</td>\n",
       "      <td>2</td>\n",
       "      <td>2</td>\n",
       "      <td>2</td>\n",
       "      <td>2</td>\n",
       "      <td>2</td>\n",
       "    </tr>\n",
       "    <tr>\n",
       "      <th>9.0</th>\n",
       "      <td>2</td>\n",
       "      <td>2</td>\n",
       "      <td>2</td>\n",
       "      <td>2</td>\n",
       "      <td>2</td>\n",
       "      <td>2</td>\n",
       "      <td>2</td>\n",
       "      <td>2</td>\n",
       "    </tr>\n",
       "  </tbody>\n",
       "</table>\n",
       "</div>"
      ],
      "text/plain": [
       "                total_match_number  subject_id  agent_id  original_elo_score  \\\n",
       "session_number                                                                 \n",
       "1.0                              2           2         2                   2   \n",
       "2.0                              2           2         2                   2   \n",
       "3.0                              2           2         2                   2   \n",
       "4.0                              2           2         2                   2   \n",
       "5.0                              2           2         2                   2   \n",
       "6.0                              2           2         2                   2   \n",
       "7.0                              2           2         2                   2   \n",
       "8.0                              2           2         2                   2   \n",
       "9.0                              2           2         2                   2   \n",
       "\n",
       "                updated_elo_score  win_draw_loss  date  \\\n",
       "session_number                                           \n",
       "1.0                             2              2     2   \n",
       "2.0                             2              2     2   \n",
       "3.0                             2              2     2   \n",
       "4.0                             2              2     2   \n",
       "5.0                             2              2     2   \n",
       "6.0                             2              2     2   \n",
       "7.0                             2              2     2   \n",
       "8.0                             2              2     2   \n",
       "9.0                             2              2     2   \n",
       "\n",
       "                session_number_plotting  \n",
       "session_number                           \n",
       "1.0                                   2  \n",
       "2.0                                   2  \n",
       "3.0                                   2  \n",
       "4.0                                   2  \n",
       "5.0                                   2  \n",
       "6.0                                   2  \n",
       "7.0                                   2  \n",
       "8.0                                   2  \n",
       "9.0                                   2  "
      ]
     },
     "execution_count": 37,
     "metadata": {},
     "output_type": "execute_result"
    }
   ],
   "source": [
    "urine_marking_elo_score_df.groupby(\"session_number\").count()"
   ]
  },
  {
   "cell_type": "markdown",
   "id": "16542145",
   "metadata": {},
   "source": [
    "# Plotting the Elo Score by match number"
   ]
  },
  {
   "cell_type": "code",
   "execution_count": 38,
   "id": "692f8641",
   "metadata": {},
   "outputs": [],
   "source": [
    "# Increase size of plot in jupyter\n",
    "\n",
    "plt.rcParams[\"figure.figsize\"] = (18,10)"
   ]
  },
  {
   "cell_type": "code",
   "execution_count": 39,
   "id": "9b5ab11f",
   "metadata": {
    "scrolled": true
   },
   "outputs": [
    {
     "data": {
      "image/png": "[encoded data removed]",
      "text/plain": [
       "<Figure size 432x288 with 1 Axes>"
      ]
     },
     "metadata": {
      "needs_background": "light"
     },
     "output_type": "display_data"
    }
   ],
   "source": [
    "fig, ax = plt.subplots()\n",
    "\n",
    "# Drawing vertical lines that represent when each session begins\n",
    "for index, row in urine_marking_elo_score_df.dropna(subset=[\"session_number_plotting\"]).iterrows():\n",
    "    # Offsetting by 0.5 to avoid drawing the line on the dot\n",
    "    plt.vlines(x=[row[\"total_match_number\"] - 0.5], ymin=700, ymax=1300, colors='black', linestyle='dashed')\n",
    "\n",
    "# Drawing a line for each subject\n",
    "for subject in sorted(urine_marking_elo_score_df[\"subject_id\"].unique()):\n",
    "    # Getting all the rows with the current subject\n",
    "    subject_df = urine_marking_elo_score_df[urine_marking_elo_score_df[\"subject_id\"] == subject]\n",
    "    # Making the dates into days after the first session by subtracting all the dates by the first date\n",
    "    plt.plot(subject_df[\"total_match_number\"], subject_df[\"updated_elo_score\"], '-o', label=subject)\n",
    "\n",
    "# Labeling the X/Y Axis and the title\n",
    "ax.set_xlabel(\"Trial Number\")\n",
    "ax.set_ylabel(\"Elo Score\")\n",
    "# ax.set_title(\"Elo Score for Home Cage Observation: Cage {}\".format(cage))\n",
    "# To show the legend\n",
    "ax.legend()\n",
    "plt.xticks(rotation=90)\n",
    "plt.ylim(700, 1300) \n",
    "plt.show()\n",
    "\n"
   ]
  },
  {
   "cell_type": "markdown",
   "id": "a24c88ac",
   "metadata": {},
   "source": [
    "# Calculate the Elo Score for all sheets"
   ]
  },
  {
   "cell_type": "code",
   "execution_count": 40,
   "id": "0ee1f383",
   "metadata": {},
   "outputs": [],
   "source": [
    "xls = pd.ExcelFile(raw_data_file_path)\n",
    "sheets = xls.sheet_names"
   ]
  },
  {
   "cell_type": "code",
   "execution_count": 41,
   "id": "40c1bcc1",
   "metadata": {},
   "outputs": [
    {
     "data": {
      "text/plain": [
       "['Summary',\n",
       " 'CAGE1',\n",
       " 'CAGE2',\n",
       " 'CAGE3',\n",
       " 'CAGE4',\n",
       " 'ALLDATA',\n",
       " '_56F9DC9755BA473782653E2940F9']"
      ]
     },
     "execution_count": 41,
     "metadata": {},
     "output_type": "execute_result"
    }
   ],
   "source": [
    "sheets"
   ]
  },
  {
   "cell_type": "code",
   "execution_count": 42,
   "id": "aa8db24e",
   "metadata": {},
   "outputs": [
    {
     "name": "stderr",
     "output_type": "stream",
     "text": [
      "/tmp/ipykernel_5524/1356071884.py:12: UserWarning: Both the 0th and the 1st row have cells with blank values. This means that that these rows can not be used as headers. Please change the row number to the header\n",
      "  warnings.warn(\"\"\"Both the 0th and the 1st row have cells with blank values. This means that that these rows can not be used as headers. Please change the row number to the header\"\"\")\n"
     ]
    },
    {
     "name": "stdout",
     "output_type": "stream",
     "text": [
      "        date      match  left_number_of_spots  right_number_of_spots winner  \\\n",
      "0 2022-05-19  1.1 v 2.3                     4                      0    1.1   \n",
      "1 2022-05-19  2.2 v 1.4                     0                      6    1.4   \n",
      "2 2022-05-20  1.1 v 2.2                    12                     17    2.2   \n",
      "3 2022-05-20  2.3 v 1.4                     0                     10    1.4   \n",
      "4 2022-05-24  1.1 v 1.4                    18                     15    1.1   \n",
      "5 2022-05-24  2.2 v 2.3                     0                      0    tie   \n",
      "6 2022-05-25  1.1 v 2.2                   126                      4    1.1   \n",
      "7 2022-05-25  2.3 v 1.4                     0                      8    1.4   \n",
      "8 2022-05-26  1.1 v 2.3                    43                      0    1.1   \n",
      "9 2022-05-26  2.2 v 1.4                    24                     10    2.2   \n",
      "\n",
      "  loser  \n",
      "0   2.3  \n",
      "1   2.2  \n",
      "2   1.1  \n",
      "3   2.3  \n",
      "4   1.4  \n",
      "5   tie  \n",
      "6   2.2  \n",
      "7   2.3  \n",
      "8   2.3  \n",
      "9   1.4  \n",
      "        date      match  left_number_of_spots  right_number_of_spots winner  \\\n",
      "0 2022-05-19  1.1 v 2.3                     4                      0    1.1   \n",
      "1 2022-05-19  2.2 v 1.4                     0                      6    1.4   \n",
      "2 2022-05-20  1.1 v 2.2                    12                     17    2.2   \n",
      "3 2022-05-20  2.3 v 1.4                     0                     10    1.4   \n",
      "4 2022-05-24  1.1 v 1.4                    18                     15    1.1   \n",
      "5 2022-05-24  2.2 v 2.3                     0                      0    tie   \n",
      "6 2022-05-25  1.1 v 2.2                   126                      4    1.1   \n",
      "7 2022-05-25  2.3 v 1.4                     0                      8    1.4   \n",
      "8 2022-05-26  1.1 v 2.3                    43                      0    1.1   \n",
      "9 2022-05-26  2.2 v 1.4                    24                     10    2.2   \n",
      "\n",
      "  loser  session_number  session_number_plotting  \n",
      "0   2.3             1.0                      1.0  \n",
      "1   2.2             2.0                      2.0  \n",
      "2   1.1             3.0                      3.0  \n",
      "3   2.3             4.0                      4.0  \n",
      "4   1.4             5.0                      5.0  \n",
      "5   tie             6.0                      6.0  \n",
      "6   2.2             7.0                      7.0  \n",
      "7   2.3             8.0                      8.0  \n",
      "8   2.3             9.0                      9.0  \n",
      "9   1.4            10.0                     10.0  \n",
      "        date      match  left_number_of_spots  right_number_of_spots  winner  \\\n",
      "0 2022-05-19  1.2 v 2.4                     3                      5     2.4   \n",
      "1 2022-05-19  2.1 v 1.3                    15                      6     2.1   \n",
      "2 2022-05-20  1.3 v 2.4                    27                     19     1.3   \n",
      "3 2022-05-20  2.1 v 1.2                     9                      0     2.1   \n",
      "4 2022-05-24  2.1 v 2.4                    49                     19     2.1   \n",
      "5 2022-05-24  1.2 v 1.3                     3                     12     1.3   \n",
      "6 2022-05-25  2.1 v 1.2                    19                      7     2.1   \n",
      "7 2022-05-25  1.3 v 2.4                     6                      7     2.4   \n",
      "\n",
      "   loser  \n",
      "0    1.2  \n",
      "1    1.3  \n",
      "2    2.4  \n",
      "3    1.2  \n",
      "4    2.4  \n",
      "5    1.2  \n",
      "6    1.2  \n",
      "7    1.3  \n",
      "        date      match  left_number_of_spots  right_number_of_spots winner  \\\n",
      "0 2022-05-19  1.2 v 2.4                     3                      5    2.4   \n",
      "1 2022-05-19  2.1 v 1.3                    15                      6    2.1   \n",
      "2 2022-05-20  1.3 v 2.4                    27                     19    1.3   \n",
      "3 2022-05-20  2.1 v 1.2                     9                      0    2.1   \n",
      "4 2022-05-24  2.1 v 2.4                    49                     19    2.1   \n",
      "5 2022-05-24  1.2 v 1.3                     3                     12    1.3   \n",
      "6 2022-05-25  2.1 v 1.2                    19                      7    2.1   \n",
      "7 2022-05-25  1.3 v 2.4                     6                      7    2.4   \n",
      "\n",
      "  loser  session_number  session_number_plotting  \n",
      "0   1.2             1.0                      1.0  \n",
      "1   1.3             2.0                      2.0  \n",
      "2   2.4             3.0                      3.0  \n",
      "3   1.2             4.0                      4.0  \n",
      "4   2.4             5.0                      5.0  \n",
      "5   1.2             6.0                      6.0  \n",
      "6   1.2             7.0                      7.0  \n",
      "7   1.3             8.0                      8.0  \n",
      "        date              match  left_number_of_spots  right_number_of_spots  \\\n",
      "0 2022-05-18  4.1 (1) v 3.2 (2)                     6                     17   \n",
      "1 2022-05-18  4.2 (3) v 3.3 (4)                   105                     67   \n",
      "2 2022-05-19  4.1 (1) v 3.2 (2)                    28                      7   \n",
      "3 2022-05-19  4.2 (3) v 3.3 (4)                    18                     18   \n",
      "4 2022-05-20  4.1 (1) v 4.2 (3)                    24                      0   \n",
      "5 2022-05-20  3.2 (2) v 3.3 (4)                    10                     28   \n",
      "6 2022-05-24  4.1 (1) v 3.3 (4)                    27                     23   \n",
      "7 2022-05-24  3.2 (2) v 4.2 (3)                    51                      0   \n",
      "8 2022-05-27  4.2 (3) v 3.3 (4)                    17                     19   \n",
      "\n",
      "    winner    loser  \n",
      "0  3.2 (2)  4.1 (1)  \n",
      "1  4.2 (3)  3.3 (4)  \n",
      "2  4.1 (1)  3.2 (2)  \n",
      "3      tie      tie  \n",
      "4  4.1 (1)  4.2 (3)  \n",
      "5  3.3 (4)  3.2 (2)  \n",
      "6  4.1 (1)  3.3 (4)  \n",
      "7  3.2 (2)  4.2 (3)  \n",
      "8  3.3 (4)  4.2 (3)  \n",
      "        date              match  left_number_of_spots  right_number_of_spots  \\\n",
      "0 2022-05-18  4.1 (1) v 3.2 (2)                     6                     17   \n",
      "1 2022-05-18  4.2 (3) v 3.3 (4)                   105                     67   \n",
      "2 2022-05-19  4.1 (1) v 3.2 (2)                    28                      7   \n",
      "3 2022-05-19  4.2 (3) v 3.3 (4)                    18                     18   \n",
      "4 2022-05-20  4.1 (1) v 4.2 (3)                    24                      0   \n",
      "5 2022-05-20  3.2 (2) v 3.3 (4)                    10                     28   \n",
      "6 2022-05-24  4.1 (1) v 3.3 (4)                    27                     23   \n",
      "7 2022-05-24  3.2 (2) v 4.2 (3)                    51                      0   \n",
      "8 2022-05-27  4.2 (3) v 3.3 (4)                    17                     19   \n",
      "\n",
      "    winner    loser  session_number  session_number_plotting  \n",
      "0  3.2 (2)  4.1 (1)             1.0                      1.0  \n",
      "1  4.2 (3)  3.3 (4)             2.0                      2.0  \n",
      "2  4.1 (1)  3.2 (2)             3.0                      3.0  \n",
      "3      tie      tie             4.0                      4.0  \n",
      "4  4.1 (1)  4.2 (3)             5.0                      5.0  \n",
      "5  3.3 (4)  3.2 (2)             6.0                      6.0  \n",
      "6  4.1 (1)  3.3 (4)             7.0                      7.0  \n",
      "7  3.2 (2)  4.2 (3)             8.0                      8.0  \n",
      "8  3.3 (4)  4.2 (3)             9.0                      9.0  \n",
      "         date              match  left_number_of_spots  right_number_of_spots  \\\n",
      "0  2022-05-18  3.1 (1) v 3.4 (2)                    97                     45   \n",
      "1  2022-05-18  4.3 (3) v 4.4 (4)                    79                     93   \n",
      "2  2022-05-19  3.1 (1) v 3.4 (2)                    25                     78   \n",
      "3  2022-05-19  4.3 (3) v 4.4 (4)                    22                    117   \n",
      "4  2022-05-20  3.1 (1) v 4.3 (3)                    10                      0   \n",
      "5  2022-05-20  3.4 (2) v 4.4 (4)                     5                     70   \n",
      "6  2022-05-24  3.1 (1) v 4.4 (4)                    26                    137   \n",
      "7  2022-05-24  3.4 (2) v 4.3 (3)                    20                     24   \n",
      "8  2022-05-25  3.1 (1) v 3.4 (2)                    21                      9   \n",
      "9  2022-05-27  4.3 (3) v 4.4 (4)                    18                    308   \n",
      "10 2022-06-01  4.3 (3) v 4.4 (4)                     3                     71   \n",
      "\n",
      "     winner    loser  \n",
      "0   3.1 (1)  3.4 (2)  \n",
      "1   4.4 (4)  4.3 (3)  \n",
      "2   3.4 (2)  3.1 (1)  \n",
      "3   4.4 (4)  4.3 (3)  \n",
      "4   3.1 (1)  4.3 (3)  \n",
      "5   4.4 (4)  3.4 (2)  \n",
      "6   4.4 (4)  3.1 (1)  \n",
      "7   4.3 (3)  3.4 (2)  \n",
      "8   3.1 (1)  3.4 (2)  \n",
      "9   4.4 (4)  4.3 (3)  \n",
      "10  4.4 (4)  4.3 (3)  \n",
      "         date              match  left_number_of_spots  right_number_of_spots  \\\n",
      "0  2022-05-18  3.1 (1) v 3.4 (2)                    97                     45   \n",
      "1  2022-05-18  4.3 (3) v 4.4 (4)                    79                     93   \n",
      "2  2022-05-19  3.1 (1) v 3.4 (2)                    25                     78   \n",
      "3  2022-05-19  4.3 (3) v 4.4 (4)                    22                    117   \n",
      "4  2022-05-20  3.1 (1) v 4.3 (3)                    10                      0   \n",
      "5  2022-05-20  3.4 (2) v 4.4 (4)                     5                     70   \n",
      "6  2022-05-24  3.1 (1) v 4.4 (4)                    26                    137   \n",
      "7  2022-05-24  3.4 (2) v 4.3 (3)                    20                     24   \n",
      "8  2022-05-25  3.1 (1) v 3.4 (2)                    21                      9   \n",
      "9  2022-05-27  4.3 (3) v 4.4 (4)                    18                    308   \n",
      "10 2022-06-01  4.3 (3) v 4.4 (4)                     3                     71   \n",
      "\n",
      "     winner    loser  session_number  session_number_plotting  \n",
      "0   3.1 (1)  3.4 (2)             1.0                      1.0  \n",
      "1   4.4 (4)  4.3 (3)             2.0                      2.0  \n",
      "2   3.4 (2)  3.1 (1)             3.0                      3.0  \n",
      "3   4.4 (4)  4.3 (3)             4.0                      4.0  \n",
      "4   3.1 (1)  4.3 (3)             5.0                      5.0  \n",
      "5   4.4 (4)  3.4 (2)             6.0                      6.0  \n",
      "6   4.4 (4)  3.1 (1)             7.0                      7.0  \n",
      "7   4.3 (3)  3.4 (2)             8.0                      8.0  \n",
      "8   3.1 (1)  3.4 (2)             9.0                      9.0  \n",
      "9   4.4 (4)  4.3 (3)            10.0                     10.0  \n",
      "10  4.4 (4)  4.3 (3)            11.0                     11.0  \n"
     ]
    },
    {
     "name": "stderr",
     "output_type": "stream",
     "text": [
      "/tmp/ipykernel_5524/1356071884.py:12: UserWarning: Both the 0th and the 1st row have cells with blank values. This means that that these rows can not be used as headers. Please change the row number to the header\n",
      "  warnings.warn(\"\"\"Both the 0th and the 1st row have cells with blank values. This means that that these rows can not be used as headers. Please change the row number to the header\"\"\")\n",
      "/tmp/ipykernel_5524/1356071884.py:49: UserWarning: Please update the formatting for the sheet with the above name, or continue if this sheet is being ignored\n",
      "  warnings.warn(\"Please update the formatting for the sheet with the above name, or continue if this sheet is being ignored\")\n"
     ]
    }
   ],
   "source": [
    "sheet_to_data_frame = defaultdict(dict)\n",
    "for sheet in sheets[:]:\n",
    "    try:\n",
    "        # Seeing if \"Unnamed\" is in any of the cells for the 0th row\n",
    "        if \"Unnamed\" not in \"\".join([str(col) for col in pd.read_excel(raw_data_file_path, sheet_name=sheet, header=0).columns]):\n",
    "            header_row = 0\n",
    "        # Seeing if \"Unnamed\" is in any of the cells for the 1st row\n",
    "        elif \"Unnamed\" not in \"\".join([str(col) for col in pd.read_excel(raw_data_file_path, sheet_name=sheet, header=1).columns]):\n",
    "            header_row = 1\n",
    "        else:\n",
    "            header_row = 0\n",
    "            warnings.warn(\"\"\"Both the 0th and the 1st row have cells with blank values. This means that that these rows can not be used as headers. Please change the row number to the header\"\"\")\n",
    "            continue\n",
    "\n",
    "\n",
    "        sheet_to_data_frame[sheet][\"recording_data_frame\"] = pd.read_excel(raw_data_file_path, sheet_name=sheet, header=header_row).copy()\n",
    "\n",
    "        original_column_name_to_standarized = defaultdict(dict)\n",
    "        for col in sheet_to_data_frame[sheet][\"recording_data_frame\"].columns:\n",
    "            original_column_name_to_standarized[col] = str(col).lower().strip()\n",
    "        sheet_to_data_frame[sheet][\"recording_data_frame\"] = sheet_to_data_frame[sheet][\"recording_data_frame\"].rename(columns=original_column_name_to_standarized)\n",
    "\n",
    "        sheet_to_data_frame[sheet][\"recording_data_frame\"] = sheet_to_data_frame[sheet][\"recording_data_frame\"].dropna(subset=[\"winner\"])\n",
    "\n",
    "\n",
    "\n",
    "\n",
    "        print(sheet_to_data_frame[sheet][\"recording_data_frame\"])\n",
    "\n",
    "        # Adding the session numbers as a column\n",
    "        session_indexes = sheet_to_data_frame[sheet][\"recording_data_frame\"].dropna(axis=0, subset=\"date\").index\n",
    "        sheet_to_data_frame[sheet][\"recording_data_frame\"] = eloscore.add_session_number_column(sheet_to_data_frame[sheet][\"recording_data_frame\"], session_indexes)\n",
    "        sheet_to_data_frame[sheet][\"recording_data_frame\"] = sheet_to_data_frame[sheet][\"recording_data_frame\"].fillna(method='ffill')\n",
    "        sheet_to_data_frame[sheet][\"recording_data_frame\"] = eloscore.add_session_number_column(sheet_to_data_frame[sheet][\"recording_data_frame\"], session_indexes, session_number_column=\"session_number_plotting\")\n",
    "\n",
    "        # Splitting all the rows with commas in the ID\n",
    "        sheet_to_data_frame[sheet][\"recording_data_frame\"][\"winner\"] = sheet_to_data_frame[sheet][\"recording_data_frame\"][\"winner\"].astype(str)\n",
    "        sheet_to_data_frame[sheet][\"recording_data_frame\"][\"loser\"] = sheet_to_data_frame[sheet][\"recording_data_frame\"][\"loser\"].astype(str)\n",
    "        print(sheet_to_data_frame[sheet][\"recording_data_frame\"])\n",
    "\n",
    "        # Calculating the Elo Score    \n",
    "        index_to_elo_score_and_meta_data = eloscore.iterate_elo_score_calculation_for_data_frame(data_frame=sheet_to_data_frame[sheet][\"recording_data_frame\"], \\\n",
    "                                                                                                        winner_column=\"winner\", loser_column=\"loser\", additional_columns=[\"date\", \"session_number\", \"session_number_plotting\"])\n",
    "#         print(index_to_elo_score_and_meta_data)  \n",
    "        sheet_to_data_frame[sheet][\"elo_score_data_frame\"] = pd.DataFrame.from_dict(index_to_elo_score_and_meta_data, orient=\"index\")\n",
    "    except:\n",
    "#         print(sheet)\n",
    "\n",
    "        warnings.warn(\"Please update the formatting for the sheet with the above name, or continue if this sheet is being ignored\")\n",
    "        sheet_to_data_frame.pop(sheet, None)"
   ]
  },
  {
   "cell_type": "markdown",
   "id": "ac4481a7",
   "metadata": {},
   "source": [
    "## Saving the Elo Score Dataframes"
   ]
  },
  {
   "cell_type": "markdown",
   "id": "1bc6ca45",
   "metadata": {},
   "source": [
    "- Create folders to save processed data"
   ]
  },
  {
   "cell_type": "code",
   "execution_count": null,
   "id": "9d55a191",
   "metadata": {},
   "outputs": [],
   "source": []
  },
  {
   "cell_type": "markdown",
   "id": "d304fffc",
   "metadata": {},
   "source": [
    "- Adding the cage information for each cage"
   ]
  },
  {
   "cell_type": "code",
   "execution_count": 43,
   "id": "e5571323",
   "metadata": {},
   "outputs": [
    {
     "data": {
      "text/plain": [
       "defaultdict(dict,\n",
       "            {'CAGE1': {'recording_data_frame':         date      match  left_number_of_spots  right_number_of_spots winner  \\\n",
       "              0 2022-05-19  1.1 v 2.3                     4                      0    1.1   \n",
       "              1 2022-05-19  2.2 v 1.4                     0                      6    1.4   \n",
       "              2 2022-05-20  1.1 v 2.2                    12                     17    2.2   \n",
       "              3 2022-05-20  2.3 v 1.4                     0                     10    1.4   \n",
       "              4 2022-05-24  1.1 v 1.4                    18                     15    1.1   \n",
       "              5 2022-05-24  2.2 v 2.3                     0                      0    tie   \n",
       "              6 2022-05-25  1.1 v 2.2                   126                      4    1.1   \n",
       "              7 2022-05-25  2.3 v 1.4                     0                      8    1.4   \n",
       "              8 2022-05-26  1.1 v 2.3                    43                      0    1.1   \n",
       "              9 2022-05-26  2.2 v 1.4                    24                     10    2.2   \n",
       "              \n",
       "                loser  session_number  session_number_plotting  \n",
       "              0   2.3             1.0                      1.0  \n",
       "              1   2.2             2.0                      2.0  \n",
       "              2   1.1             3.0                      3.0  \n",
       "              3   2.3             4.0                      4.0  \n",
       "              4   1.4             5.0                      5.0  \n",
       "              5   tie             6.0                      6.0  \n",
       "              6   2.2             7.0                      7.0  \n",
       "              7   2.3             8.0                      8.0  \n",
       "              8   2.3             9.0                      9.0  \n",
       "              9   1.4            10.0                     10.0  ,\n",
       "              'elo_score_data_frame':     total_match_number subject_id agent_id  original_elo_score  \\\n",
       "              0                    1        1.1      2.3              1000.0   \n",
       "              1                    1        2.3      2.3              1000.0   \n",
       "              2                    2        1.4      2.2              1000.0   \n",
       "              3                    2        2.2      2.2              1000.0   \n",
       "              4                    3        2.2      1.1               990.0   \n",
       "              5                    3        1.1      1.1              1010.0   \n",
       "              6                    4        1.4      2.3              1010.0   \n",
       "              7                    4        2.3      2.3               990.0   \n",
       "              8                    5        1.1      1.4               999.4   \n",
       "              9                    5        1.4      1.4              1019.4   \n",
       "              10                   6        tie      tie              1000.0   \n",
       "              11                   6        tie      tie              1000.0   \n",
       "              12                   7        1.1      2.2              1010.0   \n",
       "              13                   7        2.2      2.2              1000.6   \n",
       "              14                   8        1.4      2.3              1008.8   \n",
       "              15                   8        2.3      2.3               980.6   \n",
       "              16                   9        1.1      2.3              1019.7   \n",
       "              17                   9        2.3      2.3               971.4   \n",
       "              18                  10        2.2      1.4               990.9   \n",
       "              19                  10        1.4      1.4              1018.0   \n",
       "              \n",
       "                  updated_elo_score  win_draw_loss       date  session_number  \\\n",
       "              0              1010.0              1 2022-05-19             1.0   \n",
       "              1               990.0              1 2022-05-19             1.0   \n",
       "              2              1010.0              1 2022-05-19             2.0   \n",
       "              3               990.0              1 2022-05-19             2.0   \n",
       "              4              1000.6              1 2022-05-20             3.0   \n",
       "              5               999.4              1 2022-05-20             3.0   \n",
       "              6              1019.4              1 2022-05-20             4.0   \n",
       "              7               980.6              1 2022-05-20             4.0   \n",
       "              8              1010.0              1 2022-05-24             5.0   \n",
       "              9              1008.8              1 2022-05-24             5.0   \n",
       "              10              990.0              1 2022-05-24             6.0   \n",
       "              11              990.0              1 2022-05-24             6.0   \n",
       "              12             1019.7              1 2022-05-25             7.0   \n",
       "              13              990.9              1 2022-05-25             7.0   \n",
       "              14             1018.0              1 2022-05-25             8.0   \n",
       "              15              971.4              1 2022-05-25             8.0   \n",
       "              16             1028.3              1 2022-05-26             9.0   \n",
       "              17              962.8              1 2022-05-26             9.0   \n",
       "              18             1001.7              1 2022-05-26            10.0   \n",
       "              19             1007.2              1 2022-05-26            10.0   \n",
       "              \n",
       "                  session_number_plotting  \n",
       "              0                       1.0  \n",
       "              1                       1.0  \n",
       "              2                       2.0  \n",
       "              3                       2.0  \n",
       "              4                       3.0  \n",
       "              5                       3.0  \n",
       "              6                       4.0  \n",
       "              7                       4.0  \n",
       "              8                       5.0  \n",
       "              9                       5.0  \n",
       "              10                      6.0  \n",
       "              11                      6.0  \n",
       "              12                      7.0  \n",
       "              13                      7.0  \n",
       "              14                      8.0  \n",
       "              15                      8.0  \n",
       "              16                      9.0  \n",
       "              17                      9.0  \n",
       "              18                     10.0  \n",
       "              19                     10.0  },\n",
       "             'CAGE2': {'recording_data_frame':         date      match  left_number_of_spots  right_number_of_spots winner  \\\n",
       "              0 2022-05-19  1.2 v 2.4                     3                      5    2.4   \n",
       "              1 2022-05-19  2.1 v 1.3                    15                      6    2.1   \n",
       "              2 2022-05-20  1.3 v 2.4                    27                     19    1.3   \n",
       "              3 2022-05-20  2.1 v 1.2                     9                      0    2.1   \n",
       "              4 2022-05-24  2.1 v 2.4                    49                     19    2.1   \n",
       "              5 2022-05-24  1.2 v 1.3                     3                     12    1.3   \n",
       "              6 2022-05-25  2.1 v 1.2                    19                      7    2.1   \n",
       "              7 2022-05-25  1.3 v 2.4                     6                      7    2.4   \n",
       "              \n",
       "                loser  session_number  session_number_plotting  \n",
       "              0   1.2             1.0                      1.0  \n",
       "              1   1.3             2.0                      2.0  \n",
       "              2   2.4             3.0                      3.0  \n",
       "              3   1.2             4.0                      4.0  \n",
       "              4   2.4             5.0                      5.0  \n",
       "              5   1.2             6.0                      6.0  \n",
       "              6   1.2             7.0                      7.0  \n",
       "              7   1.3             8.0                      8.0  ,\n",
       "              'elo_score_data_frame':     total_match_number subject_id agent_id  original_elo_score  \\\n",
       "              0                    1        2.4      1.2              1000.0   \n",
       "              1                    1        1.2      1.2              1000.0   \n",
       "              2                    2        2.1      1.3              1000.0   \n",
       "              3                    2        1.3      1.3              1000.0   \n",
       "              4                    3        1.3      2.4               990.0   \n",
       "              5                    3        2.4      2.4              1010.0   \n",
       "              6                    4        2.1      1.2              1010.0   \n",
       "              7                    4        1.2      1.2               990.0   \n",
       "              8                    5        2.1      2.4              1019.4   \n",
       "              9                    5        2.4      2.4               999.4   \n",
       "              10                   6        1.3      1.2              1000.6   \n",
       "              11                   6        1.2      1.2               980.6   \n",
       "              12                   7        2.1      1.2              1028.8   \n",
       "              13                   7        1.2      1.2               971.2   \n",
       "              14                   8        2.4      1.3               990.0   \n",
       "              15                   8        1.3      1.3              1010.0   \n",
       "              \n",
       "                  updated_elo_score  win_draw_loss       date  session_number  \\\n",
       "              0              1010.0              1 2022-05-19             1.0   \n",
       "              1               990.0              1 2022-05-19             1.0   \n",
       "              2              1010.0              1 2022-05-19             2.0   \n",
       "              3               990.0              1 2022-05-19             2.0   \n",
       "              4              1000.6              1 2022-05-20             3.0   \n",
       "              5               999.4              1 2022-05-20             3.0   \n",
       "              6              1019.4              1 2022-05-20             4.0   \n",
       "              7               980.6              1 2022-05-20             4.0   \n",
       "              8              1028.8              1 2022-05-24             5.0   \n",
       "              9               990.0              1 2022-05-24             5.0   \n",
       "              10             1010.0              1 2022-05-24             6.0   \n",
       "              11              971.2              1 2022-05-24             6.0   \n",
       "              12             1037.2              1 2022-05-25             7.0   \n",
       "              13              962.8              1 2022-05-25             7.0   \n",
       "              14             1000.6              1 2022-05-25             8.0   \n",
       "              15              999.4              1 2022-05-25             8.0   \n",
       "              \n",
       "                  session_number_plotting  \n",
       "              0                       1.0  \n",
       "              1                       1.0  \n",
       "              2                       2.0  \n",
       "              3                       2.0  \n",
       "              4                       3.0  \n",
       "              5                       3.0  \n",
       "              6                       4.0  \n",
       "              7                       4.0  \n",
       "              8                       5.0  \n",
       "              9                       5.0  \n",
       "              10                      6.0  \n",
       "              11                      6.0  \n",
       "              12                      7.0  \n",
       "              13                      7.0  \n",
       "              14                      8.0  \n",
       "              15                      8.0  },\n",
       "             'CAGE3': {'recording_data_frame':         date              match  left_number_of_spots  right_number_of_spots  \\\n",
       "              0 2022-05-18  4.1 (1) v 3.2 (2)                     6                     17   \n",
       "              1 2022-05-18  4.2 (3) v 3.3 (4)                   105                     67   \n",
       "              2 2022-05-19  4.1 (1) v 3.2 (2)                    28                      7   \n",
       "              3 2022-05-19  4.2 (3) v 3.3 (4)                    18                     18   \n",
       "              4 2022-05-20  4.1 (1) v 4.2 (3)                    24                      0   \n",
       "              5 2022-05-20  3.2 (2) v 3.3 (4)                    10                     28   \n",
       "              6 2022-05-24  4.1 (1) v 3.3 (4)                    27                     23   \n",
       "              7 2022-05-24  3.2 (2) v 4.2 (3)                    51                      0   \n",
       "              8 2022-05-27  4.2 (3) v 3.3 (4)                    17                     19   \n",
       "              \n",
       "                  winner    loser  session_number  session_number_plotting  \n",
       "              0  3.2 (2)  4.1 (1)             1.0                      1.0  \n",
       "              1  4.2 (3)  3.3 (4)             2.0                      2.0  \n",
       "              2  4.1 (1)  3.2 (2)             3.0                      3.0  \n",
       "              3      tie      tie             4.0                      4.0  \n",
       "              4  4.1 (1)  4.2 (3)             5.0                      5.0  \n",
       "              5  3.3 (4)  3.2 (2)             6.0                      6.0  \n",
       "              6  4.1 (1)  3.3 (4)             7.0                      7.0  \n",
       "              7  3.2 (2)  4.2 (3)             8.0                      8.0  \n",
       "              8  3.3 (4)  4.2 (3)             9.0                      9.0  ,\n",
       "              'elo_score_data_frame':     total_match_number subject_id agent_id  original_elo_score  \\\n",
       "              0                    1    3.2 (2)  4.1 (1)              1000.0   \n",
       "              1                    1    4.1 (1)  4.1 (1)              1000.0   \n",
       "              2                    2    4.2 (3)  3.3 (4)              1000.0   \n",
       "              3                    2    3.3 (4)  3.3 (4)              1000.0   \n",
       "              4                    3    4.1 (1)  3.2 (2)               990.0   \n",
       "              5                    3    3.2 (2)  3.2 (2)              1010.0   \n",
       "              6                    4        tie      tie              1000.0   \n",
       "              7                    4        tie      tie              1000.0   \n",
       "              8                    5    4.1 (1)  4.2 (3)              1000.6   \n",
       "              9                    5    4.2 (3)  4.2 (3)              1010.0   \n",
       "              10                   6    3.3 (4)  3.2 (2)               990.0   \n",
       "              11                   6    3.2 (2)  3.2 (2)               999.4   \n",
       "              12                   7    4.1 (1)  3.3 (4)              1010.9   \n",
       "              13                   7    3.3 (4)  3.3 (4)              1000.3   \n",
       "              14                   8    3.2 (2)  4.2 (3)               989.1   \n",
       "              15                   8    4.2 (3)  4.2 (3)               999.7   \n",
       "              16                   9    3.3 (4)  4.2 (3)               990.6   \n",
       "              17                   9    4.2 (3)  4.2 (3)               989.4   \n",
       "              \n",
       "                  updated_elo_score  win_draw_loss       date  session_number  \\\n",
       "              0              1010.0              1 2022-05-18             1.0   \n",
       "              1               990.0              1 2022-05-18             1.0   \n",
       "              2              1010.0              1 2022-05-18             2.0   \n",
       "              3               990.0              1 2022-05-18             2.0   \n",
       "              4              1000.6              1 2022-05-19             3.0   \n",
       "              5               999.4              1 2022-05-19             3.0   \n",
       "              6               990.0              1 2022-05-19             4.0   \n",
       "              7               990.0              1 2022-05-19             4.0   \n",
       "              8              1010.9              1 2022-05-20             5.0   \n",
       "              9               999.7              1 2022-05-20             5.0   \n",
       "              10             1000.3              1 2022-05-20             6.0   \n",
       "              11              989.1              1 2022-05-20             6.0   \n",
       "              12             1020.6              1 2022-05-24             7.0   \n",
       "              13              990.6              1 2022-05-24             7.0   \n",
       "              14              999.4              1 2022-05-24             8.0   \n",
       "              15              989.4              1 2022-05-24             8.0   \n",
       "              16             1000.6              1 2022-05-27             9.0   \n",
       "              17              979.4              1 2022-05-27             9.0   \n",
       "              \n",
       "                  session_number_plotting  \n",
       "              0                       1.0  \n",
       "              1                       1.0  \n",
       "              2                       2.0  \n",
       "              3                       2.0  \n",
       "              4                       3.0  \n",
       "              5                       3.0  \n",
       "              6                       4.0  \n",
       "              7                       4.0  \n",
       "              8                       5.0  \n",
       "              9                       5.0  \n",
       "              10                      6.0  \n",
       "              11                      6.0  \n",
       "              12                      7.0  \n",
       "              13                      7.0  \n",
       "              14                      8.0  \n",
       "              15                      8.0  \n",
       "              16                      9.0  \n",
       "              17                      9.0  },\n",
       "             'CAGE4': {'recording_data_frame':          date              match  left_number_of_spots  right_number_of_spots  \\\n",
       "              0  2022-05-18  3.1 (1) v 3.4 (2)                    97                     45   \n",
       "              1  2022-05-18  4.3 (3) v 4.4 (4)                    79                     93   \n",
       "              2  2022-05-19  3.1 (1) v 3.4 (2)                    25                     78   \n",
       "              3  2022-05-19  4.3 (3) v 4.4 (4)                    22                    117   \n",
       "              4  2022-05-20  3.1 (1) v 4.3 (3)                    10                      0   \n",
       "              5  2022-05-20  3.4 (2) v 4.4 (4)                     5                     70   \n",
       "              6  2022-05-24  3.1 (1) v 4.4 (4)                    26                    137   \n",
       "              7  2022-05-24  3.4 (2) v 4.3 (3)                    20                     24   \n",
       "              8  2022-05-25  3.1 (1) v 3.4 (2)                    21                      9   \n",
       "              9  2022-05-27  4.3 (3) v 4.4 (4)                    18                    308   \n",
       "              10 2022-06-01  4.3 (3) v 4.4 (4)                     3                     71   \n",
       "              \n",
       "                   winner    loser  session_number  session_number_plotting  \n",
       "              0   3.1 (1)  3.4 (2)             1.0                      1.0  \n",
       "              1   4.4 (4)  4.3 (3)             2.0                      2.0  \n",
       "              2   3.4 (2)  3.1 (1)             3.0                      3.0  \n",
       "              3   4.4 (4)  4.3 (3)             4.0                      4.0  \n",
       "              4   3.1 (1)  4.3 (3)             5.0                      5.0  \n",
       "              5   4.4 (4)  3.4 (2)             6.0                      6.0  \n",
       "              6   4.4 (4)  3.1 (1)             7.0                      7.0  \n",
       "              7   4.3 (3)  3.4 (2)             8.0                      8.0  \n",
       "              8   3.1 (1)  3.4 (2)             9.0                      9.0  \n",
       "              9   4.4 (4)  4.3 (3)            10.0                     10.0  \n",
       "              10  4.4 (4)  4.3 (3)            11.0                     11.0  ,\n",
       "              'elo_score_data_frame':     total_match_number subject_id agent_id  original_elo_score  \\\n",
       "              0                    1    3.1 (1)  3.4 (2)              1000.0   \n",
       "              1                    1    3.4 (2)  3.4 (2)              1000.0   \n",
       "              2                    2    4.4 (4)  4.3 (3)              1000.0   \n",
       "              3                    2    4.3 (3)  4.3 (3)              1000.0   \n",
       "              4                    3    3.4 (2)  3.1 (1)               990.0   \n",
       "              5                    3    3.1 (1)  3.1 (1)              1010.0   \n",
       "              6                    4    4.4 (4)  4.3 (3)              1010.0   \n",
       "              7                    4    4.3 (3)  4.3 (3)               990.0   \n",
       "              8                    5    3.1 (1)  4.3 (3)               999.4   \n",
       "              9                    5    4.3 (3)  4.3 (3)               980.6   \n",
       "              10                   6    4.4 (4)  3.4 (2)              1019.4   \n",
       "              11                   6    3.4 (2)  3.4 (2)              1000.6   \n",
       "              12                   7    4.4 (4)  3.1 (1)              1028.9   \n",
       "              13                   7    3.1 (1)  3.1 (1)              1008.9   \n",
       "              14                   8    4.3 (3)  3.4 (2)               971.1   \n",
       "              15                   8    3.4 (2)  3.4 (2)               991.1   \n",
       "              16                   9    3.1 (1)  3.4 (2)               999.5   \n",
       "              17                   9    3.4 (2)  3.4 (2)               980.5   \n",
       "              18                  10    4.4 (4)  4.3 (3)              1038.3   \n",
       "              19                  10    4.3 (3)  4.3 (3)               981.7   \n",
       "              20                  11    4.4 (4)  4.3 (3)              1046.7   \n",
       "              21                  11    4.3 (3)  4.3 (3)               973.3   \n",
       "              \n",
       "                  updated_elo_score  win_draw_loss       date  session_number  \\\n",
       "              0              1010.0              1 2022-05-18             1.0   \n",
       "              1               990.0              1 2022-05-18             1.0   \n",
       "              2              1010.0              1 2022-05-18             2.0   \n",
       "              3               990.0              1 2022-05-18             2.0   \n",
       "              4              1000.6              1 2022-05-19             3.0   \n",
       "              5               999.4              1 2022-05-19             3.0   \n",
       "              6              1019.4              1 2022-05-19             4.0   \n",
       "              7               980.6              1 2022-05-19             4.0   \n",
       "              8              1008.9              1 2022-05-20             5.0   \n",
       "              9               971.1              1 2022-05-20             5.0   \n",
       "              10             1028.9              1 2022-05-20             6.0   \n",
       "              11              991.1              1 2022-05-20             6.0   \n",
       "              12             1038.3              1 2022-05-24             7.0   \n",
       "              13              999.5              1 2022-05-24             7.0   \n",
       "              14              981.7              1 2022-05-24             8.0   \n",
       "              15              980.5              1 2022-05-24             8.0   \n",
       "              16             1009.0              1 2022-05-25             9.0   \n",
       "              17              971.0              1 2022-05-25             9.0   \n",
       "              18             1046.7              1 2022-05-27            10.0   \n",
       "              19              973.3              1 2022-05-27            10.0   \n",
       "              20             1054.6              1 2022-06-01            11.0   \n",
       "              21              965.4              1 2022-06-01            11.0   \n",
       "              \n",
       "                  session_number_plotting  \n",
       "              0                       1.0  \n",
       "              1                       1.0  \n",
       "              2                       2.0  \n",
       "              3                       2.0  \n",
       "              4                       3.0  \n",
       "              5                       3.0  \n",
       "              6                       4.0  \n",
       "              7                       4.0  \n",
       "              8                       5.0  \n",
       "              9                       5.0  \n",
       "              10                      6.0  \n",
       "              11                      6.0  \n",
       "              12                      7.0  \n",
       "              13                      7.0  \n",
       "              14                      8.0  \n",
       "              15                      8.0  \n",
       "              16                      9.0  \n",
       "              17                      9.0  \n",
       "              18                     10.0  \n",
       "              19                     10.0  \n",
       "              20                     11.0  \n",
       "              21                     11.0  }})"
      ]
     },
     "execution_count": 43,
     "metadata": {},
     "output_type": "execute_result"
    }
   ],
   "source": [
    "sheet_to_data_frame"
   ]
  },
  {
   "cell_type": "code",
   "execution_count": 44,
   "id": "090d28ab",
   "metadata": {},
   "outputs": [],
   "source": [
    "for key, value in sheet_to_data_frame.items():    \n",
    "    cage_number = re.findall(r'\\d+', key)[0]\n",
    "    sheet_to_data_frame[key][\"elo_score_data_frame\"][\"cage\"] = cage_number\n",
    "    sheet_to_data_frame[key][\"elo_score_data_frame\"][\"id_with_cage_number\"] = sheet_to_data_frame[key][\"elo_score_data_frame\"][\"subject_id\"].apply(lambda x: cage_number + \".\" + x)\n",
    "    sheet_to_data_frame[key][\"elo_score_data_frame\"][\"experiment_type\"] = \"urine_marking\""
   ]
  },
  {
   "cell_type": "code",
   "execution_count": null,
   "id": "685d56c4",
   "metadata": {},
   "outputs": [],
   "source": []
  },
  {
   "cell_type": "code",
   "execution_count": 45,
   "id": "38ee72e3",
   "metadata": {},
   "outputs": [],
   "source": [
    "all_sheet_elo_scord_df_list = []\n",
    "for key, value in sheet_to_data_frame.items():    \n",
    "    all_sheet_elo_scord_df_list.append(sheet_to_data_frame[key][\"elo_score_data_frame\"])"
   ]
  },
  {
   "cell_type": "code",
   "execution_count": 46,
   "id": "def2699d",
   "metadata": {},
   "outputs": [],
   "source": [
    "all_sheet_elo_scord_df_combined = pd.concat(all_sheet_elo_scord_df_list)"
   ]
  },
  {
   "cell_type": "code",
   "execution_count": 47,
   "id": "e1eb4888",
   "metadata": {},
   "outputs": [
    {
     "data": {
      "text/plain": [
       "array(['1.1.1', '1.2.3', '1.1.4', '1.2.2', '1.tie', '2.2.4', '2.1.2',\n",
       "       '2.2.1', '2.1.3', '3.3.2 (2)', '3.4.1 (1)', '3.4.2 (3)',\n",
       "       '3.3.3 (4)', '3.tie', '4.3.1 (1)', '4.3.4 (2)', '4.4.4 (4)',\n",
       "       '4.4.3 (3)'], dtype=object)"
      ]
     },
     "execution_count": 47,
     "metadata": {},
     "output_type": "execute_result"
    }
   ],
   "source": [
    "all_sheet_elo_scord_df_combined[\"id_with_cage_number\"].unique()"
   ]
  },
  {
   "cell_type": "code",
   "execution_count": 48,
   "id": "dcee090b",
   "metadata": {},
   "outputs": [],
   "source": [
    "id_to_final_elo_score_dict = defaultdict(dict)\n",
    "for id_with_cage_number in all_sheet_elo_scord_df_combined[\"id_with_cage_number\"].unique():\n",
    "    per_subject_df = all_sheet_elo_scord_df_combined[all_sheet_elo_scord_df_combined[\"id_with_cage_number\"] == id_with_cage_number]\n",
    "    id_to_final_elo_score_dict[id_with_cage_number][\"final_elo_score\"] = per_subject_df.iloc[-1][\"updated_elo_score\"]"
   ]
  },
  {
   "cell_type": "code",
   "execution_count": 49,
   "id": "c181a6a3",
   "metadata": {},
   "outputs": [],
   "source": [
    "id_to_final_elo_score_df = pd.DataFrame.from_dict(id_to_final_elo_score_dict, orient=\"index\")\n",
    "id_to_final_elo_score_df[\"experiment_type\"] = \"urine_marking\""
   ]
  },
  {
   "cell_type": "code",
   "execution_count": 50,
   "id": "ec5ee621",
   "metadata": {},
   "outputs": [],
   "source": [
    "id_to_final_elo_score_df[\"id_with_cage_number\"] = id_to_final_elo_score_df.index\n",
    "id_to_final_elo_score_df = id_to_final_elo_score_df.reset_index(drop=True)"
   ]
  },
  {
   "cell_type": "code",
   "execution_count": 51,
   "id": "f005b096",
   "metadata": {},
   "outputs": [
    {
     "data": {
      "text/html": [
       "<div>\n",
       "<style scoped>\n",
       "    .dataframe tbody tr th:only-of-type {\n",
       "        vertical-align: middle;\n",
       "    }\n",
       "\n",
       "    .dataframe tbody tr th {\n",
       "        vertical-align: top;\n",
       "    }\n",
       "\n",
       "    .dataframe thead th {\n",
       "        text-align: right;\n",
       "    }\n",
       "</style>\n",
       "<table border=\"1\" class=\"dataframe\">\n",
       "  <thead>\n",
       "    <tr style=\"text-align: right;\">\n",
       "      <th></th>\n",
       "      <th>final_elo_score</th>\n",
       "      <th>experiment_type</th>\n",
       "      <th>id_with_cage_number</th>\n",
       "    </tr>\n",
       "  </thead>\n",
       "  <tbody>\n",
       "    <tr>\n",
       "      <th>0</th>\n",
       "      <td>1028.3</td>\n",
       "      <td>urine_marking</td>\n",
       "      <td>1.1.1</td>\n",
       "    </tr>\n",
       "    <tr>\n",
       "      <th>1</th>\n",
       "      <td>1007.2</td>\n",
       "      <td>urine_marking</td>\n",
       "      <td>1.1.4</td>\n",
       "    </tr>\n",
       "    <tr>\n",
       "      <th>2</th>\n",
       "      <td>1001.7</td>\n",
       "      <td>urine_marking</td>\n",
       "      <td>1.2.2</td>\n",
       "    </tr>\n",
       "    <tr>\n",
       "      <th>3</th>\n",
       "      <td>962.8</td>\n",
       "      <td>urine_marking</td>\n",
       "      <td>1.2.3</td>\n",
       "    </tr>\n",
       "    <tr>\n",
       "      <th>4</th>\n",
       "      <td>990.0</td>\n",
       "      <td>urine_marking</td>\n",
       "      <td>1.tie</td>\n",
       "    </tr>\n",
       "  </tbody>\n",
       "</table>\n",
       "</div>"
      ],
      "text/plain": [
       "   final_elo_score experiment_type id_with_cage_number\n",
       "0           1028.3   urine_marking               1.1.1\n",
       "1           1007.2   urine_marking               1.1.4\n",
       "2           1001.7   urine_marking               1.2.2\n",
       "3            962.8   urine_marking               1.2.3\n",
       "4            990.0   urine_marking               1.tie"
      ]
     },
     "execution_count": 51,
     "metadata": {},
     "output_type": "execute_result"
    }
   ],
   "source": [
    "id_to_final_elo_score_df.head()"
   ]
  },
  {
   "cell_type": "code",
   "execution_count": null,
   "id": "fcbf97b0",
   "metadata": {},
   "outputs": [],
   "source": []
  },
  {
   "cell_type": "markdown",
   "id": "ca87a1bb",
   "metadata": {},
   "source": [
    "# Making plots for all sheets"
   ]
  },
  {
   "cell_type": "markdown",
   "id": "d53d0a3d",
   "metadata": {},
   "source": [
    "- Getting the dates the files were being recorded to use for the file name"
   ]
  },
  {
   "cell_type": "code",
   "execution_count": 52,
   "id": "31a00788",
   "metadata": {},
   "outputs": [
    {
     "data": {
      "text/plain": [
       "'Summary'"
      ]
     },
     "execution_count": 52,
     "metadata": {},
     "output_type": "execute_result"
    }
   ],
   "source": [
    "sheets[0]"
   ]
  },
  {
   "cell_type": "code",
   "execution_count": 53,
   "id": "d0a8f6fc",
   "metadata": {},
   "outputs": [],
   "source": [
    "earliest_date = str(sheet_to_data_frame[sheets[1]][\"recording_data_frame\"][\"date\"].min()).split()[0]"
   ]
  },
  {
   "cell_type": "code",
   "execution_count": 54,
   "id": "908437ba",
   "metadata": {},
   "outputs": [],
   "source": [
    "latest_date = str(sheet_to_data_frame[sheets[1]][\"recording_data_frame\"][\"date\"].max()).split()[0]"
   ]
  },
  {
   "cell_type": "code",
   "execution_count": 55,
   "id": "96857258",
   "metadata": {},
   "outputs": [
    {
     "data": {
      "text/plain": [
       "'2022-05-19'"
      ]
     },
     "execution_count": 55,
     "metadata": {},
     "output_type": "execute_result"
    }
   ],
   "source": [
    "earliest_date"
   ]
  },
  {
   "cell_type": "code",
   "execution_count": 56,
   "id": "64e4ffee",
   "metadata": {},
   "outputs": [
    {
     "data": {
      "text/plain": [
       "'2022-05-26'"
      ]
     },
     "execution_count": 56,
     "metadata": {},
     "output_type": "execute_result"
    }
   ],
   "source": [
    "latest_date"
   ]
  },
  {
   "cell_type": "markdown",
   "id": "a789713b",
   "metadata": {},
   "source": [
    "- Getting the cage numbers"
   ]
  },
  {
   "cell_type": "code",
   "execution_count": 57,
   "id": "f6f11c4e",
   "metadata": {},
   "outputs": [],
   "source": [
    "all_cages = \"_\".join(sorted([sheet.lower().strip(\"cage\").strip() for sheet in sheets[:]]))"
   ]
  },
  {
   "cell_type": "code",
   "execution_count": 58,
   "id": "9b286ddf",
   "metadata": {},
   "outputs": [
    {
     "data": {
      "text/plain": [
       "'1_2_3_4__56f9dc9755ba473782653e2940f9_lldat_summary'"
      ]
     },
     "execution_count": 58,
     "metadata": {},
     "output_type": "execute_result"
    }
   ],
   "source": [
    "all_cages"
   ]
  },
  {
   "cell_type": "code",
   "execution_count": 59,
   "id": "bf5f9a4b",
   "metadata": {},
   "outputs": [],
   "source": [
    "output_directory = \"./proc/plots/urine_marking_elo_score/cage_{}_date_{}_{}\".format(all_cages, earliest_date, latest_date)"
   ]
  },
  {
   "cell_type": "code",
   "execution_count": 60,
   "id": "c3304a7c",
   "metadata": {},
   "outputs": [
    {
     "data": {
      "text/plain": [
       "'./proc/plots/urine_marking_elo_score/cage_1_2_3_4__56f9dc9755ba473782653e2940f9_lldat_summary_date_2022-05-19_2022-05-26'"
      ]
     },
     "execution_count": 60,
     "metadata": {},
     "output_type": "execute_result"
    }
   ],
   "source": [
    "output_directory"
   ]
  },
  {
   "cell_type": "code",
   "execution_count": 61,
   "id": "aae726d6",
   "metadata": {},
   "outputs": [],
   "source": [
    "os.makedirs(output_directory, exist_ok=True)"
   ]
  },
  {
   "cell_type": "code",
   "execution_count": 62,
   "id": "eea2df77",
   "metadata": {},
   "outputs": [
    {
     "name": "stdout",
     "output_type": "stream",
     "text": [
      "CAGE1\n"
     ]
    },
    {
     "data": {
      "image/png": "[encoded data removed]",
      "text/plain": [
       "<Figure size 648x360 with 1 Axes>"
      ]
     },
     "metadata": {
      "needs_background": "light"
     },
     "output_type": "display_data"
    },
    {
     "name": "stdout",
     "output_type": "stream",
     "text": [
      "CAGE2\n"
     ]
    },
    {
     "data": {
      "image/png": "[encoded data removed]",
      "text/plain": [
       "<Figure size 648x360 with 1 Axes>"
      ]
     },
     "metadata": {
      "needs_background": "light"
     },
     "output_type": "display_data"
    },
    {
     "name": "stdout",
     "output_type": "stream",
     "text": [
      "CAGE3\n"
     ]
    },
    {
     "data": {
      "image/png": "[encoded data removed]",
      "text/plain": [
       "<Figure size 648x360 with 1 Axes>"
      ]
     },
     "metadata": {
      "needs_background": "light"
     },
     "output_type": "display_data"
    },
    {
     "name": "stdout",
     "output_type": "stream",
     "text": [
      "CAGE4\n"
     ]
    },
    {
     "data": {
      "image/png": "[encoded data removed]",
      "text/plain": [
       "<Figure size 648x360 with 1 Axes>"
      ]
     },
     "metadata": {
      "needs_background": "light"
     },
     "output_type": "display_data"
    }
   ],
   "source": [
    "for key, value in sheet_to_data_frame.items():\n",
    "    print(key)\n",
    "    plt.rcParams[\"figure.figsize\"] = (9,5)\n",
    "    elo_score_data_frame = value[\"elo_score_data_frame\"]\n",
    "    fig, ax = plt.subplots()\n",
    "\n",
    "    # Drawing vertical lines that represent when each session begins\n",
    "    for index, row in elo_score_data_frame.dropna(subset=[\"total_match_number\"]).iterrows():\n",
    "        # Offsetting by 0.5 to avoid drawing the line on the dot\n",
    "        plt.vlines(x=[row[\"total_match_number\"] - 0.5], ymin=600, ymax=1400, colors='black', linestyle='dashed')\n",
    "\n",
    "    # Drawing a line for each subject\n",
    "    for subject in sorted(elo_score_data_frame[\"subject_id\"].astype(str).unique()):\n",
    "        # Getting all the rows with the current subject\n",
    "        subject_df = elo_score_data_frame[elo_score_data_frame[\"subject_id\"] == subject]\n",
    "        # Making the dates into days after the first session by subtracting all the dates by the first date\n",
    "        plt.plot(subject_df[\"total_match_number\"], subject_df[\"updated_elo_score\"], '-o', label=subject)\n",
    "\n",
    "    # Labeling the X/Y Axis and the title\n",
    "    ax.set_xlabel(\"Trial Number\")\n",
    "    ax.set_ylabel(\"Elo Score\")\n",
    "    ax.set_title(\"Elo Score for Urine Marking: {}\".format(key))\n",
    "    # To show the legend\n",
    "    ax.legend()\n",
    "    plt.xticks(rotation=90)\n",
    "    plt.ylim(950, 1050) \n",
    "    \n",
    "    file_name = \"urine_marking_elo_score_{}_date_{}_{}.png\".format(key, earliest_date, latest_date)\n",
    "    plt.savefig(os.path.join(output_directory, file_name))\n",
    "    \n",
    "    plt.show()\n"
   ]
  },
  {
   "cell_type": "code",
   "execution_count": null,
   "id": "7cbea433",
   "metadata": {},
   "outputs": [],
   "source": []
  },
  {
   "cell_type": "markdown",
   "id": "bd303ecd",
   "metadata": {},
   "source": [
    "# Saving the Dataframes"
   ]
  },
  {
   "cell_type": "code",
   "execution_count": 63,
   "id": "e2e1781a",
   "metadata": {},
   "outputs": [],
   "source": [
    "output_directory = \"./proc/elo_score_spread_sheets/urine_marking_elo_score/cage_{}_date_{}_{}\".format(all_cages, earliest_date, latest_date)"
   ]
  },
  {
   "cell_type": "code",
   "execution_count": 64,
   "id": "a91dcff0",
   "metadata": {},
   "outputs": [
    {
     "data": {
      "text/plain": [
       "'./proc/elo_score_spread_sheets/urine_marking_elo_score/cage_1_2_3_4__56f9dc9755ba473782653e2940f9_lldat_summary_date_2022-05-19_2022-05-26'"
      ]
     },
     "execution_count": 64,
     "metadata": {},
     "output_type": "execute_result"
    }
   ],
   "source": [
    "output_directory"
   ]
  },
  {
   "cell_type": "code",
   "execution_count": 65,
   "id": "bb6e7b70",
   "metadata": {},
   "outputs": [],
   "source": [
    "os.makedirs(output_directory, exist_ok=True)"
   ]
  },
  {
   "cell_type": "code",
   "execution_count": 66,
   "id": "b7d18391",
   "metadata": {},
   "outputs": [],
   "source": [
    "file_name = \"urine_marking_elo_score_history_cages_{}_date_{}_{}.csv\".format(all_cages, earliest_date, latest_date)\n",
    "all_sheet_elo_scord_df_combined.to_csv(os.path.join(output_directory, file_name))"
   ]
  },
  {
   "cell_type": "code",
   "execution_count": 67,
   "id": "c335e989",
   "metadata": {},
   "outputs": [],
   "source": [
    "file_name = \"urine_marking_final_elo_score_cages_{}_date_{}_{}.csv\".format(all_cages, earliest_date, latest_date)\n",
    "id_to_final_elo_score_df.to_csv(os.path.join(output_directory, file_name))"
   ]
  }
 ],
 "metadata": {
  "kernelspec": {
   "display_name": "Python 3 (ipykernel)",
   "language": "python",
   "name": "python3"
  },
  "language_info": {
   "codemirror_mode": {
    "name": "ipython",
    "version": 3
   },
   "file_extension": ".py",
   "mimetype": "text/x-python",
   "name": "python",
   "nbconvert_exporter": "python",
   "pygments_lexer": "ipython3",
   "version": "3.9.12"
  },
  "vscode": {
   "interpreter": {
    "hash": "1eab39844f49fe378870e01884132b9a01e61bfdb7013dba0b232b1cf67de0bc"
   }
  }
 },
 "nbformat": 4,
 "nbformat_minor": 5
}
