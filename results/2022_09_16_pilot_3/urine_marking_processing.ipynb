{
 "cells": [
  {
   "cell_type": "markdown",
   "id": "cd97c972",
   "metadata": {},
   "source": [
    "# Home Cage Elo Score Calculation"
   ]
  },
  {
   "cell_type": "markdown",
   "id": "2e0f58e4",
   "metadata": {},
   "source": [
    "## Importing other Python Libraries/Modules"
   ]
  },
  {
   "cell_type": "code",
   "execution_count": 1,
   "id": "cf755b46",
   "metadata": {},
   "outputs": [],
   "source": [
    "import re\n",
    "import os\n",
    "import sys\n",
    "import string\n",
    "from collections import defaultdict\n",
    "import glob\n",
    "import warnings\n",
    "from datetime import datetime\n",
    "from datetime import timedelta\n",
    "import ast"
   ]
  },
  {
   "cell_type": "code",
   "execution_count": 2,
   "id": "1c9bfe6f",
   "metadata": {},
   "outputs": [],
   "source": [
    "import matplotlib.pyplot as plt\n",
    "import numpy as np\n",
    "import pandas as pd\n",
    "import xlrd"
   ]
  },
  {
   "cell_type": "code",
   "execution_count": 3,
   "id": "2e3d2466",
   "metadata": {},
   "outputs": [],
   "source": [
    "# setting path\n",
    "sys.path.append('../../src')"
   ]
  },
  {
   "cell_type": "code",
   "execution_count": 4,
   "id": "104016aa",
   "metadata": {},
   "outputs": [],
   "source": [
    "from eloscore import eloscore"
   ]
  },
  {
   "cell_type": "code",
   "execution_count": 5,
   "id": "6ea31ca1",
   "metadata": {},
   "outputs": [],
   "source": [
    "# Increase size of plot in jupyter\n",
    "\n",
    "plt.rcParams[\"figure.figsize\"] = (18,10)"
   ]
  },
  {
   "cell_type": "markdown",
   "id": "8b7c1562",
   "metadata": {},
   "source": [
    "## Summary"
   ]
  },
  {
   "cell_type": "markdown",
   "id": "018b9d08",
   "metadata": {},
   "source": [
    "- Experiment\n",
    "    - Observing fighting behavior between mice in their home cage in different settings. Mice are categorized as winner and loser based on if they initiated the behavior or if they are recieving it. Recording sessions are usually from 30 minutes to a hour with cages of 2 to 6 mice.\n",
    "- Data\n",
    "    - Excel spreadsheet of recorded fighting behavior. The relevant columns are those of the \"Date\" of the recording, the \"winner\" of the interaction, and the \"loser\" of the interaction. Each row will be for one interaction between two mice.\n",
    "    - There is a cage for each sheet of the spreadsheet\n",
    "    - For each recording session, we will assume that the date will be specified for that first row. We will use this to seperate all the rows into seperate sessions.\n",
    "- Purpose of this Jupyter Notebook\n",
    "    - To calculate the Elo Score of each mice after each interaction. The mice start off with an Elo score of 1000. Elo scores are calculated with the formula from here: https://www.omnicalculator.com/sports/elo . Then we will plot the change of elo score across all interactions. With the number of interactions on the X-Axis and the current Elo score on the Y. There will be a line for mice."
   ]
  },
  {
   "cell_type": "markdown",
   "id": "6944ae01",
   "metadata": {},
   "source": [
    "## Name of protocol for naming"
   ]
  },
  {
   "cell_type": "markdown",
   "id": "2aa7153c",
   "metadata": {},
   "source": [
    "- This name will be used to name files and title plots. Please change if you are using a different protocol or adding more details\n",
    "    - **NOTE**: This should be changed based on the name the protocol"
   ]
  },
  {
   "cell_type": "code",
   "execution_count": 6,
   "id": "a8b74f87",
   "metadata": {},
   "outputs": [],
   "source": [
    "protocol_name = \"urine_marking\""
   ]
  },
  {
   "cell_type": "markdown",
   "id": "a5269e1e",
   "metadata": {},
   "source": [
    "## Getting the file name of the raw data"
   ]
  },
  {
   "cell_type": "markdown",
   "id": "7fe8bdd3",
   "metadata": {},
   "source": [
    "- Default input folder and keyword to search the files for \n",
    "    - **NOTE**: This should not be changed unless there is a consistent change with the file naming convention"
   ]
  },
  {
   "cell_type": "code",
   "execution_count": 7,
   "id": "f7b97a31",
   "metadata": {},
   "outputs": [],
   "source": [
    "input_folder = \"./data\""
   ]
  },
  {
   "cell_type": "code",
   "execution_count": 8,
   "id": "57f07dee",
   "metadata": {},
   "outputs": [],
   "source": [
    "# Accomodates for both capitalization of the file names\n",
    "raw_data_file_keyword = '*[uU]rine*'"
   ]
  },
  {
   "cell_type": "markdown",
   "id": "76ea0990",
   "metadata": {},
   "source": [
    "- Asking the user what the path to the recording files are, with the option of using wildcards"
   ]
  },
  {
   "cell_type": "code",
   "execution_count": 9,
   "id": "906e10d0",
   "metadata": {
    "scrolled": true
   },
   "outputs": [
    {
     "name": "stdout",
     "output_type": "stream",
     "text": [
      "Type out the path(address) of the raw behavioral recording excel sheets.\n",
      "Remember that if you are using a relative path, it will be based off of the location of this Jupyter Notebook.\n",
      "\n",
      "Globbing can also be used if you want to search with a wild card(Capitalization matters). \n",
      "i.e. './data/*Home*' will be able to find './data/Homecage_observations.xlsx'\n",
      "\n",
      "NOTE: If left blank, the path will automatically be guessed off of the default settings \n",
      "\n"
     ]
    }
   ],
   "source": [
    "raw_data_glob_pattern = input(\"\"\"Type out the path(address) of the raw behavioral recording excel sheets.\n",
    "Remember that if you are using a relative path, it will be based off of the location of this Jupyter Notebook.\n",
    "\n",
    "Globbing can also be used if you want to search with a wild card(Capitalization matters). \n",
    "i.e. './data/*Home*' will be able to find './data/Homecage_observations.xlsx'\n",
    "\n",
    "NOTE: If left blank, the path will automatically be guessed off of the default settings \n",
    "\"\"\")"
   ]
  },
  {
   "cell_type": "markdown",
   "id": "964be5c0",
   "metadata": {},
   "source": [
    "- By default, this will search for files that are in the `./data` folder (in the folder that this notebook is in) that have key word you specified in the file name"
   ]
  },
  {
   "cell_type": "code",
   "execution_count": 10,
   "id": "3d963fb9",
   "metadata": {},
   "outputs": [],
   "source": [
    "# Using the user inputted path/pattern\n",
    "if raw_data_glob_pattern.strip():\n",
    "    # Getting a list of all matching files\n",
    "    raw_data_files_list = glob.glob(raw_data_glob_pattern.strip())\n",
    "    # Checking if there were any files that matched\n",
    "    if raw_data_files_list:\n",
    "        raw_data_file_path = raw_data_files_list[0]\n",
    "    else:\n",
    "        raise ValueError(\"No files were found with the path/pattern of {}. Please rerun the previous cell with the correct path\".format(raw_data_glob_pattern))\n",
    "\n",
    "# Using the default pattern\n",
    "else:\n",
    "    # Searching for matching files with recursion\n",
    "    if glob.glob(os.path.join(input_folder + \"**\", raw_data_file_keyword)):\n",
    "        raw_data_glob_pattern = os.path.join(input_folder + \"**\", raw_data_file_keyword)\n",
    "        # Getting a list of all matching files\n",
    "        raw_data_files_list = glob.glob(raw_data_glob_pattern)\n",
    "    # Searching for matching files only in the specified folder\n",
    "    elif glob.glob(os.path.join(input_folder, raw_data_file_keyword)):\n",
    "        raw_data_glob_pattern = glob.glob(os.path.join(input_folder, raw_data_file_keyword))\n",
    "        # Getting a list of all matching files\n",
    "        raw_data_files_list = glob.glob(raw_data_glob_pattern)\n",
    "    else:\n",
    "        raise ValueError(\"No files were found in {} that had the keyword {} in it\".format(input_folder, raw_data_file_keyword))\n"
   ]
  },
  {
   "cell_type": "markdown",
   "id": "6fbd008a",
   "metadata": {},
   "source": [
    "- Checking to see if only one file is specified"
   ]
  },
  {
   "cell_type": "code",
   "execution_count": 11,
   "id": "af8c1417",
   "metadata": {},
   "outputs": [],
   "source": [
    "if len(raw_data_files_list) >= 2:\n",
    "    raise ValueError(\"More than one file was found with the path/pattern of {}. Please rerun the previous cell with the correct path\".format(raw_data_glob_pattern))\n",
    "else:\n",
    "    # Using the first(and only file) as the file path\n",
    "    raw_data_file_path = raw_data_files_list[0]"
   ]
  },
  {
   "cell_type": "code",
   "execution_count": 12,
   "id": "76129103",
   "metadata": {},
   "outputs": [
    {
     "data": {
      "text/plain": [
       "'./data/urine_marking_iwata.xlsx'"
      ]
     },
     "execution_count": 12,
     "metadata": {},
     "output_type": "execute_result"
    }
   ],
   "source": [
    "raw_data_file_path"
   ]
  },
  {
   "cell_type": "markdown",
   "id": "539ffb33",
   "metadata": {},
   "source": [
    "## Getting a list of all the sheets"
   ]
  },
  {
   "cell_type": "code",
   "execution_count": 13,
   "id": "bb3ff67b",
   "metadata": {},
   "outputs": [],
   "source": [
    "# Getting the sheet names for the excel file\n",
    "xls = pd.ExcelFile(raw_data_file_path)\n",
    "raw_data_sheet_names = xls.sheet_names"
   ]
  },
  {
   "cell_type": "code",
   "execution_count": 14,
   "id": "aeb563da",
   "metadata": {
    "scrolled": false
   },
   "outputs": [
    {
     "data": {
      "text/plain": [
       "['Sheet1']"
      ]
     },
     "execution_count": 14,
     "metadata": {},
     "output_type": "execute_result"
    }
   ],
   "source": [
    "raw_data_sheet_names"
   ]
  },
  {
   "cell_type": "markdown",
   "id": "7e40c9d6",
   "metadata": {},
   "source": [
    "- Asking the user what sheets they want to use"
   ]
  },
  {
   "cell_type": "code",
   "execution_count": 15,
   "id": "59c3aa13",
   "metadata": {},
   "outputs": [
    {
     "name": "stdout",
     "output_type": "stream",
     "text": [
      "Type out the name of the sheets that you want to be processed. \n",
      "Each name must be put in quotes and seperated by a comma(,). i.e. \"CAGE3\", \"CAGE4\"\n",
      "\n",
      "The available sheets are: ['Sheet1']\n",
      "\n",
      "Alternatively, you can use the index of the list of names above. \n",
      "Remember, that Python is zero indexed so the first item will be have the 0 index, second the 1 index, and so on. \n",
      "i.e. 1, 2\n",
      "\n",
      "NOTE: If left blank, all sheets will be used\n",
      "\n"
     ]
    }
   ],
   "source": [
    "inputted_sheet_names_string = input(\"\"\"Type out the name of the sheets that you want to be processed. \n",
    "Each name must be put in quotes and seperated by a comma(,). i.e. \"CAGE3\", \"CAGE4\"\n",
    "\n",
    "The available sheets are: {}\n",
    "\n",
    "Alternatively, you can use the index of the list of names above. \n",
    "Remember, that Python is zero indexed so the first item will be have the 0 index, second the 1 index, and so on. \n",
    "i.e. 1, 2\n",
    "\n",
    "NOTE: If left blank, all sheets will be used\n",
    "\"\"\".format(raw_data_sheet_names))"
   ]
  },
  {
   "cell_type": "code",
   "execution_count": 16,
   "id": "06b1581e",
   "metadata": {},
   "outputs": [],
   "source": [
    "# Making a list out of the string of inputted sheet names\n",
    "if inputted_sheet_names_string:\n",
    "    inputted_sheet_names_string = \"[\" + inputted_sheet_names_string + \"]\"\n",
    "    # Turning the string into a list\n",
    "    inputted_sheet_names_list = ast.literal_eval(inputted_sheet_names_string)\n",
    "# Using all the sheet names if no sheet name is specified\n",
    "else:\n",
    "    inputted_sheet_names_list =  raw_data_sheet_names"
   ]
  },
  {
   "cell_type": "code",
   "execution_count": 17,
   "id": "0ee3a658",
   "metadata": {},
   "outputs": [
    {
     "data": {
      "text/plain": [
       "['Sheet1']"
      ]
     },
     "execution_count": 17,
     "metadata": {},
     "output_type": "execute_result"
    }
   ],
   "source": [
    "inputted_sheet_names_list"
   ]
  },
  {
   "cell_type": "markdown",
   "id": "3deda2bf",
   "metadata": {},
   "source": [
    "- Converting all the numbers into the sheet name that the index of the number corresponds to"
   ]
  },
  {
   "cell_type": "code",
   "execution_count": 18,
   "id": "4bac1b3f",
   "metadata": {},
   "outputs": [],
   "source": [
    "for index, sheet in enumerate(inputted_sheet_names_list):\n",
    "    # Checking if the sheet name was a number\n",
    "    if isinstance(sheet, int) and str(sheet).isdigit():\n",
    "        inputted_sheet_names_list[index] =  raw_data_sheet_names[sheet]"
   ]
  },
  {
   "cell_type": "code",
   "execution_count": 19,
   "id": "6bdf26ca",
   "metadata": {},
   "outputs": [
    {
     "data": {
      "text/plain": [
       "['Sheet1']"
      ]
     },
     "execution_count": 19,
     "metadata": {},
     "output_type": "execute_result"
    }
   ],
   "source": [
    "inputted_sheet_names_list"
   ]
  },
  {
   "cell_type": "markdown",
   "id": "b35a8c85",
   "metadata": {},
   "source": [
    "- Checking to see if all the sheets are in the excel file"
   ]
  },
  {
   "cell_type": "code",
   "execution_count": 20,
   "id": "1caa55ee",
   "metadata": {},
   "outputs": [],
   "source": [
    "if not set(inputted_sheet_names_list).issubset(raw_data_sheet_names):\n",
    "    # Getting all the sheets that were not in the original spreadsheet\n",
    "    not_included_sheet_names = set(inputted_sheet_names_list) - set(raw_data_sheet_names)\n",
    "    raise ValueError(\"All the listed sheet names are not in {}\".format(not_included_sheet_names))"
   ]
  },
  {
   "cell_type": "markdown",
   "id": "a934ef8f",
   "metadata": {},
   "source": [
    "## Finding the row for the header"
   ]
  },
  {
   "cell_type": "markdown",
   "id": "bc1c2300",
   "metadata": {},
   "source": [
    "- Headers are the row in a spreadsheet that has all the column names. Sometimes spreadsheets don't use the first row as the row with the column names. So, the row for the header will be asked or assumed to be the first row"
   ]
  },
  {
   "cell_type": "code",
   "execution_count": 21,
   "id": "de68ae7a",
   "metadata": {},
   "outputs": [
    {
     "name": "stdout",
     "output_type": "stream",
     "text": [
      "\n",
      "Current Sheet Name: Sheet1\n",
      "Columns Names: Index(['urine marking assay', 'Unnamed: 1',\n",
      "       'SUBJECT ON THE LEFT, NUM OF SPOTS (whichever animal is on the left side of the match in this sheet)',\n",
      "       'SUBJECT ON THE RIGHT, NUM OF SPOTS', 'who has the most spots',\n",
      "       'Unnamed: 5', 'Unnamed: 6'],\n",
      "      dtype='object')\n",
      "First few rows of this dataframe:\n",
      "   urine marking assay Unnamed: 1  \\\n",
      "0                 date      match   \n",
      "1  2022-09-01 00:00:00       1vs5   \n",
      "2                  NaN       2vs6   \n",
      "3                  NaN       3vs7   \n",
      "4                  NaN       4vs8   \n",
      "\n",
      "  SUBJECT ON THE LEFT, NUM OF SPOTS (whichever animal is on the left side of the match in this sheet)  \\\n",
      "0                               left_number_of_spots                                                    \n",
      "1                                                 63                                                    \n",
      "2                                                109                                                    \n",
      "3                                                 37                                                    \n",
      "4                                                 11                                                    \n",
      "\n",
      "  SUBJECT ON THE RIGHT, NUM OF SPOTS who has the most spots Unnamed: 5  \\\n",
      "0              right_number_of_spots                 winner      loser   \n",
      "1                                 10                      1          5   \n",
      "2                                 12                      2          6   \n",
      "3                                 13                      3          7   \n",
      "4                                 34                      8          4   \n",
      "\n",
      "  Unnamed: 6  \n",
      "0      Notes  \n",
      "1        NaN  \n",
      "2        NaN  \n",
      "3        NaN  \n",
      "4        NaN  \n",
      "Type the row number to be used as the header\n",
      "    (AKA the row with the column name that you want to use.)\n",
      "    If you want to keep the column names that were displayed, type 0.\n",
      "    If you want to use a different row, then type the corresponding number. \n",
      "    \n",
      "    The rows displayed in this cell are dataframes created from Pandas. \n",
      "    To use the row with the 0 index for column names, type 1. \n",
      "    For the row with the 1 index, it will be 2 and so on. i.e. 2\n",
      "    \n",
      "    If you are looking at the original spread sheet, remember that Python is zero indexed. \n",
      "    So the first row will be 0, second will be 1, and so on. \n",
      "    i.e. 1\n",
      "    \n",
      "    NOTE: If left blank, the original row that was used will be used.\n",
      "    1\n"
     ]
    }
   ],
   "source": [
    "sheet_name_to_everything = defaultdict(dict)\n",
    "for sheet in inputted_sheet_names_list:\n",
    "    print(\"\\nCurrent Sheet Name: {}\".format(sheet))    \n",
    "    per_sheet_dataframe = pd.read_excel(raw_data_file_path, sheet_name=sheet, header=0)\n",
    "    \n",
    "    # Showing the columns that are chosen with the header being the 0th row\n",
    "    print(\"Columns Names: {}\".format(per_sheet_dataframe.columns))\n",
    "    # Show the dataframe that would be created with the header being the 0th row\n",
    "    print(\"First few rows of this dataframe:\")\n",
    "    print(pd.read_excel(raw_data_file_path, sheet_name=sheet, header=0).head())\n",
    "    \n",
    "    # Allowing the user the choose the row number for the header\n",
    "    header_row = input(\"\"\"Type the row number to be used as the header\n",
    "    (AKA the row with the column name that you want to use.)\n",
    "    If you want to keep the column names that were displayed, type 0.\n",
    "    If you want to use a different row, then type the corresponding number. \n",
    "    \n",
    "    The rows displayed in this cell are dataframes created from Pandas. \n",
    "    To use the row with the 0 index for column names, type 1. \n",
    "    For the row with the 1 index, it will be 2 and so on. i.e. 2\n",
    "    \n",
    "    If you are looking at the original spread sheet, remember that Python is zero indexed. \n",
    "    So the first row will be 0, second will be 1, and so on. \n",
    "    i.e. 1\n",
    "    \n",
    "    NOTE: If left blank, the original row that was used will be used.\n",
    "    \"\"\").strip()\n",
    "    \n",
    "    if header_row == \"\":\n",
    "        header_row = 0\n",
    "    else:\n",
    "        header_row = int(header_row)\n",
    "    \n",
    "    # Checking if any of the column names are from empty cells\n",
    "    column_names = \"\".join([str(col) for col in pd.read_excel(raw_data_file_path, sheet_name=sheet, header=header_row).columns])\n",
    "    # If a column name came from an empty cell, it would have \"Unnamed\" in it\n",
    "    if \"Unnamed\" in column_names:\n",
    "        raise ValueError(\"\"\"Not all the cells in the chosen row are filled in.\n",
    "                         Please choose a row that has the name of the columns\n",
    "                         \n",
    "                         The values in this row are: {}\"\"\".format(column_names))\n",
    "    else:\n",
    "        sheet_name_to_everything[sheet][\"header_row\"] = header_row"
   ]
  },
  {
   "cell_type": "code",
   "execution_count": 22,
   "id": "ca5ea725",
   "metadata": {},
   "outputs": [
    {
     "data": {
      "text/plain": [
       "defaultdict(dict, {'Sheet1': {'header_row': 1}})"
      ]
     },
     "execution_count": 22,
     "metadata": {},
     "output_type": "execute_result"
    }
   ],
   "source": [
    "sheet_name_to_everything"
   ]
  },
  {
   "cell_type": "markdown",
   "id": "04cc8630",
   "metadata": {},
   "source": [
    "## Reading in all the spreadsheets"
   ]
  },
  {
   "cell_type": "code",
   "execution_count": 23,
   "id": "f35a7cd1",
   "metadata": {},
   "outputs": [],
   "source": [
    "# Going through each sheet and creating a dataframe of it\n",
    "for key, value in sheet_name_to_everything.items():\n",
    "    sheet_name_to_everything[key][\"original_behavior_recording_dataframe\"] = pd.read_excel(raw_data_file_path, sheet_name=key, header=value[\"header_row\"])"
   ]
  },
  {
   "cell_type": "code",
   "execution_count": 24,
   "id": "99dc8c44",
   "metadata": {},
   "outputs": [
    {
     "data": {
      "text/html": [
       "<div>\n",
       "<style scoped>\n",
       "    .dataframe tbody tr th:only-of-type {\n",
       "        vertical-align: middle;\n",
       "    }\n",
       "\n",
       "    .dataframe tbody tr th {\n",
       "        vertical-align: top;\n",
       "    }\n",
       "\n",
       "    .dataframe thead th {\n",
       "        text-align: right;\n",
       "    }\n",
       "</style>\n",
       "<table border=\"1\" class=\"dataframe\">\n",
       "  <thead>\n",
       "    <tr style=\"text-align: right;\">\n",
       "      <th></th>\n",
       "      <th>date</th>\n",
       "      <th>match</th>\n",
       "      <th>left_number_of_spots</th>\n",
       "      <th>right_number_of_spots</th>\n",
       "      <th>winner</th>\n",
       "      <th>loser</th>\n",
       "      <th>Notes</th>\n",
       "    </tr>\n",
       "  </thead>\n",
       "  <tbody>\n",
       "    <tr>\n",
       "      <th>0</th>\n",
       "      <td>2022-09-01</td>\n",
       "      <td>1vs5</td>\n",
       "      <td>63</td>\n",
       "      <td>10</td>\n",
       "      <td>1</td>\n",
       "      <td>5</td>\n",
       "      <td>NaN</td>\n",
       "    </tr>\n",
       "    <tr>\n",
       "      <th>1</th>\n",
       "      <td>NaT</td>\n",
       "      <td>2vs6</td>\n",
       "      <td>109</td>\n",
       "      <td>12</td>\n",
       "      <td>2</td>\n",
       "      <td>6</td>\n",
       "      <td>NaN</td>\n",
       "    </tr>\n",
       "    <tr>\n",
       "      <th>2</th>\n",
       "      <td>NaT</td>\n",
       "      <td>3vs7</td>\n",
       "      <td>37</td>\n",
       "      <td>13</td>\n",
       "      <td>3</td>\n",
       "      <td>7</td>\n",
       "      <td>NaN</td>\n",
       "    </tr>\n",
       "    <tr>\n",
       "      <th>3</th>\n",
       "      <td>NaT</td>\n",
       "      <td>4vs8</td>\n",
       "      <td>11</td>\n",
       "      <td>34</td>\n",
       "      <td>8</td>\n",
       "      <td>4</td>\n",
       "      <td>NaN</td>\n",
       "    </tr>\n",
       "    <tr>\n",
       "      <th>4</th>\n",
       "      <td>2022-09-02</td>\n",
       "      <td>1vs5</td>\n",
       "      <td>120</td>\n",
       "      <td>35</td>\n",
       "      <td>1</td>\n",
       "      <td>5</td>\n",
       "      <td>NaN</td>\n",
       "    </tr>\n",
       "  </tbody>\n",
       "</table>\n",
       "</div>"
      ],
      "text/plain": [
       "        date match  left_number_of_spots  right_number_of_spots  winner  \\\n",
       "0 2022-09-01  1vs5                    63                     10       1   \n",
       "1        NaT  2vs6                   109                     12       2   \n",
       "2        NaT  3vs7                    37                     13       3   \n",
       "3        NaT  4vs8                    11                     34       8   \n",
       "4 2022-09-02  1vs5                   120                     35       1   \n",
       "\n",
       "   loser Notes  \n",
       "0      5   NaN  \n",
       "1      6   NaN  \n",
       "2      7   NaN  \n",
       "3      4   NaN  \n",
       "4      5   NaN  "
      ]
     },
     "execution_count": 24,
     "metadata": {},
     "output_type": "execute_result"
    }
   ],
   "source": [
    "sheet_name_to_everything[key][\"original_behavior_recording_dataframe\"].head()"
   ]
  },
  {
   "cell_type": "code",
   "execution_count": 25,
   "id": "ed0c66f9",
   "metadata": {},
   "outputs": [
    {
     "data": {
      "text/html": [
       "<div>\n",
       "<style scoped>\n",
       "    .dataframe tbody tr th:only-of-type {\n",
       "        vertical-align: middle;\n",
       "    }\n",
       "\n",
       "    .dataframe tbody tr th {\n",
       "        vertical-align: top;\n",
       "    }\n",
       "\n",
       "    .dataframe thead th {\n",
       "        text-align: right;\n",
       "    }\n",
       "</style>\n",
       "<table border=\"1\" class=\"dataframe\">\n",
       "  <thead>\n",
       "    <tr style=\"text-align: right;\">\n",
       "      <th></th>\n",
       "      <th>date</th>\n",
       "      <th>match</th>\n",
       "      <th>left_number_of_spots</th>\n",
       "      <th>right_number_of_spots</th>\n",
       "      <th>winner</th>\n",
       "      <th>loser</th>\n",
       "      <th>Notes</th>\n",
       "    </tr>\n",
       "  </thead>\n",
       "  <tbody>\n",
       "    <tr>\n",
       "      <th>11</th>\n",
       "      <td>NaT</td>\n",
       "      <td>4vs8</td>\n",
       "      <td>3</td>\n",
       "      <td>70</td>\n",
       "      <td>8</td>\n",
       "      <td>4</td>\n",
       "      <td>NaN</td>\n",
       "    </tr>\n",
       "    <tr>\n",
       "      <th>12</th>\n",
       "      <td>2022-09-15</td>\n",
       "      <td>1vs5</td>\n",
       "      <td>20</td>\n",
       "      <td>157</td>\n",
       "      <td>5</td>\n",
       "      <td>1</td>\n",
       "      <td>5 who has consistently fought #2 in HCO finall...</td>\n",
       "    </tr>\n",
       "    <tr>\n",
       "      <th>13</th>\n",
       "      <td>NaT</td>\n",
       "      <td>2vs6</td>\n",
       "      <td>39</td>\n",
       "      <td>7</td>\n",
       "      <td>2</td>\n",
       "      <td>6</td>\n",
       "      <td>6 has always peed around the same number, mayb...</td>\n",
       "    </tr>\n",
       "    <tr>\n",
       "      <th>14</th>\n",
       "      <td>NaT</td>\n",
       "      <td>3vs7</td>\n",
       "      <td>6</td>\n",
       "      <td>8</td>\n",
       "      <td>7</td>\n",
       "      <td>3</td>\n",
       "      <td>NaN</td>\n",
       "    </tr>\n",
       "    <tr>\n",
       "      <th>15</th>\n",
       "      <td>NaT</td>\n",
       "      <td>4vs8</td>\n",
       "      <td>29</td>\n",
       "      <td>189</td>\n",
       "      <td>8</td>\n",
       "      <td>4</td>\n",
       "      <td>8 has always been the winner in URM, only mice...</td>\n",
       "    </tr>\n",
       "  </tbody>\n",
       "</table>\n",
       "</div>"
      ],
      "text/plain": [
       "         date match  left_number_of_spots  right_number_of_spots  winner  \\\n",
       "11        NaT  4vs8                     3                     70       8   \n",
       "12 2022-09-15  1vs5                    20                    157       5   \n",
       "13        NaT  2vs6                    39                      7       2   \n",
       "14        NaT  3vs7                     6                      8       7   \n",
       "15        NaT  4vs8                    29                    189       8   \n",
       "\n",
       "    loser                                              Notes  \n",
       "11      4                                                NaN  \n",
       "12      1  5 who has consistently fought #2 in HCO finall...  \n",
       "13      6  6 has always peed around the same number, mayb...  \n",
       "14      3                                                NaN  \n",
       "15      4  8 has always been the winner in URM, only mice...  "
      ]
     },
     "execution_count": 25,
     "metadata": {},
     "output_type": "execute_result"
    }
   ],
   "source": [
    "sheet_name_to_everything[key][\"original_behavior_recording_dataframe\"].tail()"
   ]
  },
  {
   "cell_type": "markdown",
   "id": "15834e87",
   "metadata": {},
   "source": [
    "## Standarizing the Columns"
   ]
  },
  {
   "cell_type": "markdown",
   "id": "af7890d3",
   "metadata": {},
   "source": [
    "- Making all the column names lower case and removing any extra spaces in the beginning and at the end"
   ]
  },
  {
   "cell_type": "code",
   "execution_count": 26,
   "id": "13d5c711",
   "metadata": {},
   "outputs": [],
   "source": [
    "for key, value in sheet_name_to_everything.items():\n",
    "    # Creating a dictionary that maps the original column name to the standarized one\n",
    "    column_name_to_standarized = defaultdict(dict)\n",
    "    for col in sheet_name_to_everything[key][\"original_behavior_recording_dataframe\"]:\n",
    "        # Making the column name lower case and removing the spaces\n",
    "        column_name_to_standarized[col] = str(col).lower().strip()\n",
    "    sheet_name_to_everything[key][\"column_name_to_standarized\"] = column_name_to_standarized"
   ]
  },
  {
   "cell_type": "code",
   "execution_count": 27,
   "id": "47e30c5b",
   "metadata": {},
   "outputs": [
    {
     "data": {
      "text/plain": [
       "defaultdict(dict,\n",
       "            {'date': 'date',\n",
       "             'match': 'match',\n",
       "             'left_number_of_spots': 'left_number_of_spots',\n",
       "             'right_number_of_spots': 'right_number_of_spots',\n",
       "             'winner': 'winner',\n",
       "             'loser': 'loser',\n",
       "             'Notes': 'notes'})"
      ]
     },
     "execution_count": 27,
     "metadata": {},
     "output_type": "execute_result"
    }
   ],
   "source": [
    "sheet_name_to_everything[key][\"column_name_to_standarized\"]"
   ]
  },
  {
   "cell_type": "code",
   "execution_count": 28,
   "id": "8fafcc6f",
   "metadata": {},
   "outputs": [],
   "source": [
    "# Renaming all the columns to the lower case and space removed version\n",
    "for key, value in sheet_name_to_everything.items():\n",
    "    sheet_name_to_everything[key][\"processed_behavior_recording_dataframe\"] = sheet_name_to_everything[key][\"original_behavior_recording_dataframe\"].rename(columns=sheet_name_to_everything[key][\"column_name_to_standarized\"])"
   ]
  },
  {
   "cell_type": "code",
   "execution_count": 29,
   "id": "49758e21",
   "metadata": {},
   "outputs": [
    {
     "data": {
      "text/html": [
       "<div>\n",
       "<style scoped>\n",
       "    .dataframe tbody tr th:only-of-type {\n",
       "        vertical-align: middle;\n",
       "    }\n",
       "\n",
       "    .dataframe tbody tr th {\n",
       "        vertical-align: top;\n",
       "    }\n",
       "\n",
       "    .dataframe thead th {\n",
       "        text-align: right;\n",
       "    }\n",
       "</style>\n",
       "<table border=\"1\" class=\"dataframe\">\n",
       "  <thead>\n",
       "    <tr style=\"text-align: right;\">\n",
       "      <th></th>\n",
       "      <th>date</th>\n",
       "      <th>match</th>\n",
       "      <th>left_number_of_spots</th>\n",
       "      <th>right_number_of_spots</th>\n",
       "      <th>winner</th>\n",
       "      <th>loser</th>\n",
       "      <th>notes</th>\n",
       "    </tr>\n",
       "  </thead>\n",
       "  <tbody>\n",
       "    <tr>\n",
       "      <th>0</th>\n",
       "      <td>2022-09-01</td>\n",
       "      <td>1vs5</td>\n",
       "      <td>63</td>\n",
       "      <td>10</td>\n",
       "      <td>1</td>\n",
       "      <td>5</td>\n",
       "      <td>NaN</td>\n",
       "    </tr>\n",
       "    <tr>\n",
       "      <th>1</th>\n",
       "      <td>NaT</td>\n",
       "      <td>2vs6</td>\n",
       "      <td>109</td>\n",
       "      <td>12</td>\n",
       "      <td>2</td>\n",
       "      <td>6</td>\n",
       "      <td>NaN</td>\n",
       "    </tr>\n",
       "    <tr>\n",
       "      <th>2</th>\n",
       "      <td>NaT</td>\n",
       "      <td>3vs7</td>\n",
       "      <td>37</td>\n",
       "      <td>13</td>\n",
       "      <td>3</td>\n",
       "      <td>7</td>\n",
       "      <td>NaN</td>\n",
       "    </tr>\n",
       "    <tr>\n",
       "      <th>3</th>\n",
       "      <td>NaT</td>\n",
       "      <td>4vs8</td>\n",
       "      <td>11</td>\n",
       "      <td>34</td>\n",
       "      <td>8</td>\n",
       "      <td>4</td>\n",
       "      <td>NaN</td>\n",
       "    </tr>\n",
       "    <tr>\n",
       "      <th>4</th>\n",
       "      <td>2022-09-02</td>\n",
       "      <td>1vs5</td>\n",
       "      <td>120</td>\n",
       "      <td>35</td>\n",
       "      <td>1</td>\n",
       "      <td>5</td>\n",
       "      <td>NaN</td>\n",
       "    </tr>\n",
       "  </tbody>\n",
       "</table>\n",
       "</div>"
      ],
      "text/plain": [
       "        date match  left_number_of_spots  right_number_of_spots  winner  \\\n",
       "0 2022-09-01  1vs5                    63                     10       1   \n",
       "1        NaT  2vs6                   109                     12       2   \n",
       "2        NaT  3vs7                    37                     13       3   \n",
       "3        NaT  4vs8                    11                     34       8   \n",
       "4 2022-09-02  1vs5                   120                     35       1   \n",
       "\n",
       "   loser notes  \n",
       "0      5   NaN  \n",
       "1      6   NaN  \n",
       "2      7   NaN  \n",
       "3      4   NaN  \n",
       "4      5   NaN  "
      ]
     },
     "execution_count": 29,
     "metadata": {},
     "output_type": "execute_result"
    }
   ],
   "source": [
    "sheet_name_to_everything[key][\"processed_behavior_recording_dataframe\"].head()"
   ]
  },
  {
   "cell_type": "markdown",
   "id": "10a8cf50",
   "metadata": {},
   "source": [
    "## Adding the session number"
   ]
  },
  {
   "cell_type": "markdown",
   "id": "1b477728",
   "metadata": {},
   "source": [
    "- We are adding the session number to all the trials. The session number is counting the number of recording sessions that have happened up until that trial. Usually, each session in the spreadsheet is divided up by a session's first row having the date filled in. So we will label a new session when a date is filled in."
   ]
  },
  {
   "cell_type": "code",
   "execution_count": 30,
   "id": "f348210b",
   "metadata": {
    "scrolled": true
   },
   "outputs": [
    {
     "name": "stdout",
     "output_type": "stream",
     "text": [
      "Type the name of the column to be used to divide the rows into sessions. \n",
      "    Pick a column that has a value in the cell only with the first row of each session.\n",
      "    This is usually the \"date\" column.\n",
      "\n",
      "    If left blank, the session number will not be added to the spreadsheets and plots will not be divided into sessions.\n",
      "\n",
      "    The available columns are: Index(['date', 'match', 'left_number_of_spots', 'right_number_of_spots',\n",
      "       'winner', 'loser', 'notes'],\n",
      "      dtype='object')\n",
      "\n",
      "    NOTE: If left blank, the column with \"date\" in the name will be used as the column\n",
      "    \n"
     ]
    }
   ],
   "source": [
    "for key, value in sheet_name_to_everything.items():\n",
    "    # Allowing the user to choose the column that indicates a new session\n",
    "    session_divider_column = input(\"\"\"Type the name of the column to be used to divide the rows into sessions. \n",
    "    Pick a column that has a value in the cell only with the first row of each session.\n",
    "    This is usually the \"date\" column.\n",
    "\n",
    "    If left blank, the session number will not be added to the spreadsheets and plots will not be divided into sessions.\n",
    "\n",
    "    The available columns are: {}\n",
    "\n",
    "    NOTE: If left blank, the column with \"date\" in the name will be used as the column\n",
    "    \"\"\".format(sheet_name_to_everything[key][\"processed_behavior_recording_dataframe\"].columns))\n",
    "    # Making the column name lowercase and removing any punctuation\n",
    "    sheet_name_to_everything[key][\"session_divider_column\"] = session_divider_column.lower().strip('\"').strip(\"'\").strip()\n",
    "\n",
    "    # Looks for columns with \"date\" in them if none of inputted\n",
    "    if not sheet_name_to_everything[key][\"session_divider_column\"]:\n",
    "        sheet_name_to_everything[key][\"session_divider_column\"] = [col for col in sheet_name_to_everything[key][\"processed_behavior_recording_dataframe\"].columns if \"date\" in col.lower()][0]\n",
    "\n",
    "    # Checks if that column is in the dataframe\n",
    "    if sheet_name_to_everything[key][\"session_divider_column\"] not in sheet_name_to_everything[key][\"processed_behavior_recording_dataframe\"].columns:\n",
    "        raise ValueError(\"{} is not a column in {}\".format(sheet_name_to_everything[key][\"session_divider_column\"], sheet_name_to_everything[key][\"processed_behavior_recording_dataframe\"].columns)) "
   ]
  },
  {
   "cell_type": "code",
   "execution_count": 31,
   "id": "99e3748f",
   "metadata": {},
   "outputs": [],
   "source": [
    "for key, value in sheet_name_to_everything.items():\n",
    "    # Getting the indexes of all the rows that have the date or the column that divides the sessions up\n",
    "    sheet_name_to_everything[key][\"session_indexes\"] = sheet_name_to_everything[key][\"processed_behavior_recording_dataframe\"].dropna(axis=0, subset=sheet_name_to_everything[key][\"session_divider_column\"]).index\n",
    "    # Adding the session number to each row\n",
    "    sheet_name_to_everything[key][\"processed_behavior_recording_dataframe\"] = eloscore.add_session_number_column(sheet_name_to_everything[key][\"processed_behavior_recording_dataframe\"], sheet_name_to_everything[key][\"session_indexes\"], session_number_column='session_number')\n",
    "    \n",
    "    # Filling in the NaNs for the session number\n",
    "    sheet_name_to_everything[key][\"processed_behavior_recording_dataframe\"][\"session_number\"] = sheet_name_to_everything[key][\"processed_behavior_recording_dataframe\"][\"session_number\"].fillna(method='ffill')"
   ]
  },
  {
   "cell_type": "markdown",
   "id": "6351f2cc",
   "metadata": {},
   "source": [
    "## Dropping All Rows without a Winner"
   ]
  },
  {
   "cell_type": "markdown",
   "id": "93548228",
   "metadata": {},
   "source": [
    "- Because we will be filling all empty cells with the previous value, we must remove all rows that don't have any data. This is usually cells that don't have any winners or losers filled in the row."
   ]
  },
  {
   "cell_type": "code",
   "execution_count": 32,
   "id": "3407c422",
   "metadata": {
    "scrolled": true
   },
   "outputs": [
    {
     "name": "stdout",
     "output_type": "stream",
     "text": [
      "Type the name of the column of the subject that has won the interaction.\n",
      "    i.e. \"winner\"\n",
      "    \n",
      "    The available columns are: Index(['date', 'match', 'left_number_of_spots', 'right_number_of_spots',\n",
      "       'winner', 'loser', 'notes', 'session_number'],\n",
      "      dtype='object')\n",
      "\n",
      "    Note: If left blank, the column with \"winner\" in the name will be used as the column\n",
      "    \n",
      "Type the name of the column of the subject that has won the interaction.\n",
      "    i.e. \"loser\"\n",
      "\n",
      "    The available columns are: Index(['date', 'match', 'left_number_of_spots', 'right_number_of_spots',\n",
      "       'winner', 'loser', 'notes', 'session_number'],\n",
      "      dtype='object')\n",
      "\n",
      "    Note: If left blank, the column with \"loser\" in the name will be used as the column\n",
      "    \n"
     ]
    }
   ],
   "source": [
    "for key, value in sheet_name_to_everything.items():\n",
    "    # Asking users to specify which column is the one with the winner's information\n",
    "    sheet_name_to_everything[key][\"winner_column\"] = input(\"\"\"Type the name of the column of the subject that has won the interaction.\n",
    "    i.e. \"winner\"\n",
    "    \n",
    "    The available columns are: {}\n",
    "\n",
    "    Note: If left blank, the column with \"winner\" in the name will be used as the column\n",
    "    \"\"\".format(sheet_name_to_everything[key][\"processed_behavior_recording_dataframe\"].columns))\n",
    "        \n",
    "    # Looks for columns with \"winner\" in them if none of inputted\n",
    "    if not sheet_name_to_everything[key][\"winner_column\"]:\n",
    "        sheet_name_to_everything[key][\"winner_column\"] = [col for col in sheet_name_to_everything[key][\"processed_behavior_recording_dataframe\"].columns if \"winner\" in col.lower()][0]\n",
    "\n",
    "        \n",
    "    # Asking users to specify which column is the one with the winner's information\n",
    "    sheet_name_to_everything[key][\"loser_column\"] = input(\"\"\"Type the name of the column of the subject that has won the interaction.\n",
    "    i.e. \"loser\"\n",
    "\n",
    "    The available columns are: {}\n",
    "\n",
    "    Note: If left blank, the column with \"loser\" in the name will be used as the column\n",
    "    \"\"\".format(sheet_name_to_everything[key][\"processed_behavior_recording_dataframe\"].columns))\n",
    "\n",
    "    # Looks for columns with \"loser\" in them if none of inputted\n",
    "    if not sheet_name_to_everything[key][\"loser_column\"]:\n",
    "        sheet_name_to_everything[key][\"loser_column\"] = [col for col in sheet_name_to_everything[key][\"processed_behavior_recording_dataframe\"].columns if \"loser\" in col.lower()][0]\n",
    "\n",
    "    # Dropping all rows that don't have any values in the winner column\n",
    "    sheet_name_to_everything[key][\"processed_behavior_recording_dataframe\"] = sheet_name_to_everything[key][\"processed_behavior_recording_dataframe\"].dropna(subset=sheet_name_to_everything[key][\"winner_column\"])"
   ]
  },
  {
   "cell_type": "code",
   "execution_count": 33,
   "id": "cbcf0f83",
   "metadata": {
    "scrolled": true
   },
   "outputs": [
    {
     "data": {
      "text/html": [
       "<div>\n",
       "<style scoped>\n",
       "    .dataframe tbody tr th:only-of-type {\n",
       "        vertical-align: middle;\n",
       "    }\n",
       "\n",
       "    .dataframe tbody tr th {\n",
       "        vertical-align: top;\n",
       "    }\n",
       "\n",
       "    .dataframe thead th {\n",
       "        text-align: right;\n",
       "    }\n",
       "</style>\n",
       "<table border=\"1\" class=\"dataframe\">\n",
       "  <thead>\n",
       "    <tr style=\"text-align: right;\">\n",
       "      <th></th>\n",
       "      <th>date</th>\n",
       "      <th>match</th>\n",
       "      <th>left_number_of_spots</th>\n",
       "      <th>right_number_of_spots</th>\n",
       "      <th>winner</th>\n",
       "      <th>loser</th>\n",
       "      <th>notes</th>\n",
       "      <th>session_number</th>\n",
       "    </tr>\n",
       "  </thead>\n",
       "  <tbody>\n",
       "    <tr>\n",
       "      <th>0</th>\n",
       "      <td>2022-09-01</td>\n",
       "      <td>1vs5</td>\n",
       "      <td>63</td>\n",
       "      <td>10</td>\n",
       "      <td>1</td>\n",
       "      <td>5</td>\n",
       "      <td>NaN</td>\n",
       "      <td>1.0</td>\n",
       "    </tr>\n",
       "    <tr>\n",
       "      <th>1</th>\n",
       "      <td>NaT</td>\n",
       "      <td>2vs6</td>\n",
       "      <td>109</td>\n",
       "      <td>12</td>\n",
       "      <td>2</td>\n",
       "      <td>6</td>\n",
       "      <td>NaN</td>\n",
       "      <td>1.0</td>\n",
       "    </tr>\n",
       "    <tr>\n",
       "      <th>2</th>\n",
       "      <td>NaT</td>\n",
       "      <td>3vs7</td>\n",
       "      <td>37</td>\n",
       "      <td>13</td>\n",
       "      <td>3</td>\n",
       "      <td>7</td>\n",
       "      <td>NaN</td>\n",
       "      <td>1.0</td>\n",
       "    </tr>\n",
       "    <tr>\n",
       "      <th>3</th>\n",
       "      <td>NaT</td>\n",
       "      <td>4vs8</td>\n",
       "      <td>11</td>\n",
       "      <td>34</td>\n",
       "      <td>8</td>\n",
       "      <td>4</td>\n",
       "      <td>NaN</td>\n",
       "      <td>1.0</td>\n",
       "    </tr>\n",
       "    <tr>\n",
       "      <th>4</th>\n",
       "      <td>2022-09-02</td>\n",
       "      <td>1vs5</td>\n",
       "      <td>120</td>\n",
       "      <td>35</td>\n",
       "      <td>1</td>\n",
       "      <td>5</td>\n",
       "      <td>NaN</td>\n",
       "      <td>2.0</td>\n",
       "    </tr>\n",
       "  </tbody>\n",
       "</table>\n",
       "</div>"
      ],
      "text/plain": [
       "        date match  left_number_of_spots  right_number_of_spots  winner  \\\n",
       "0 2022-09-01  1vs5                    63                     10       1   \n",
       "1        NaT  2vs6                   109                     12       2   \n",
       "2        NaT  3vs7                    37                     13       3   \n",
       "3        NaT  4vs8                    11                     34       8   \n",
       "4 2022-09-02  1vs5                   120                     35       1   \n",
       "\n",
       "   loser notes  session_number  \n",
       "0      5   NaN             1.0  \n",
       "1      6   NaN             1.0  \n",
       "2      7   NaN             1.0  \n",
       "3      4   NaN             1.0  \n",
       "4      5   NaN             2.0  "
      ]
     },
     "execution_count": 33,
     "metadata": {},
     "output_type": "execute_result"
    }
   ],
   "source": [
    "sheet_name_to_everything[key][\"processed_behavior_recording_dataframe\"].head()"
   ]
  },
  {
   "cell_type": "code",
   "execution_count": 34,
   "id": "a63ffc11",
   "metadata": {
    "scrolled": true
   },
   "outputs": [
    {
     "data": {
      "text/html": [
       "<div>\n",
       "<style scoped>\n",
       "    .dataframe tbody tr th:only-of-type {\n",
       "        vertical-align: middle;\n",
       "    }\n",
       "\n",
       "    .dataframe tbody tr th {\n",
       "        vertical-align: top;\n",
       "    }\n",
       "\n",
       "    .dataframe thead th {\n",
       "        text-align: right;\n",
       "    }\n",
       "</style>\n",
       "<table border=\"1\" class=\"dataframe\">\n",
       "  <thead>\n",
       "    <tr style=\"text-align: right;\">\n",
       "      <th></th>\n",
       "      <th>date</th>\n",
       "      <th>match</th>\n",
       "      <th>left_number_of_spots</th>\n",
       "      <th>right_number_of_spots</th>\n",
       "      <th>winner</th>\n",
       "      <th>loser</th>\n",
       "      <th>notes</th>\n",
       "      <th>session_number</th>\n",
       "    </tr>\n",
       "  </thead>\n",
       "  <tbody>\n",
       "    <tr>\n",
       "      <th>11</th>\n",
       "      <td>NaT</td>\n",
       "      <td>4vs8</td>\n",
       "      <td>3</td>\n",
       "      <td>70</td>\n",
       "      <td>8</td>\n",
       "      <td>4</td>\n",
       "      <td>NaN</td>\n",
       "      <td>3.0</td>\n",
       "    </tr>\n",
       "    <tr>\n",
       "      <th>12</th>\n",
       "      <td>2022-09-15</td>\n",
       "      <td>1vs5</td>\n",
       "      <td>20</td>\n",
       "      <td>157</td>\n",
       "      <td>5</td>\n",
       "      <td>1</td>\n",
       "      <td>5 who has consistently fought #2 in HCO finall...</td>\n",
       "      <td>4.0</td>\n",
       "    </tr>\n",
       "    <tr>\n",
       "      <th>13</th>\n",
       "      <td>NaT</td>\n",
       "      <td>2vs6</td>\n",
       "      <td>39</td>\n",
       "      <td>7</td>\n",
       "      <td>2</td>\n",
       "      <td>6</td>\n",
       "      <td>6 has always peed around the same number, mayb...</td>\n",
       "      <td>4.0</td>\n",
       "    </tr>\n",
       "    <tr>\n",
       "      <th>14</th>\n",
       "      <td>NaT</td>\n",
       "      <td>3vs7</td>\n",
       "      <td>6</td>\n",
       "      <td>8</td>\n",
       "      <td>7</td>\n",
       "      <td>3</td>\n",
       "      <td>NaN</td>\n",
       "      <td>4.0</td>\n",
       "    </tr>\n",
       "    <tr>\n",
       "      <th>15</th>\n",
       "      <td>NaT</td>\n",
       "      <td>4vs8</td>\n",
       "      <td>29</td>\n",
       "      <td>189</td>\n",
       "      <td>8</td>\n",
       "      <td>4</td>\n",
       "      <td>8 has always been the winner in URM, only mice...</td>\n",
       "      <td>4.0</td>\n",
       "    </tr>\n",
       "  </tbody>\n",
       "</table>\n",
       "</div>"
      ],
      "text/plain": [
       "         date match  left_number_of_spots  right_number_of_spots  winner  \\\n",
       "11        NaT  4vs8                     3                     70       8   \n",
       "12 2022-09-15  1vs5                    20                    157       5   \n",
       "13        NaT  2vs6                    39                      7       2   \n",
       "14        NaT  3vs7                     6                      8       7   \n",
       "15        NaT  4vs8                    29                    189       8   \n",
       "\n",
       "    loser                                              notes  session_number  \n",
       "11      4                                                NaN             3.0  \n",
       "12      1  5 who has consistently fought #2 in HCO finall...             4.0  \n",
       "13      6  6 has always peed around the same number, mayb...             4.0  \n",
       "14      3                                                NaN             4.0  \n",
       "15      4  8 has always been the winner in URM, only mice...             4.0  "
      ]
     },
     "execution_count": 34,
     "metadata": {},
     "output_type": "execute_result"
    }
   ],
   "source": [
    "sheet_name_to_everything[key][\"processed_behavior_recording_dataframe\"].tail()"
   ]
  },
  {
   "cell_type": "markdown",
   "id": "89ae9003",
   "metadata": {},
   "source": [
    "# Finding the rows with ties"
   ]
  },
  {
   "cell_type": "markdown",
   "id": "234e0e93",
   "metadata": {},
   "source": [
    "- If a trial is a tie, there should be another column that indicates that it is a tie. The points will be counted for less. If there is no column, then none of the trials will be counted as ties."
   ]
  },
  {
   "cell_type": "code",
   "execution_count": 35,
   "id": "d1c66b84",
   "metadata": {
    "scrolled": true
   },
   "outputs": [
    {
     "name": "stdout",
     "output_type": "stream",
     "text": [
      "Type the name of the column that specifies whether or not a tie has occured\n",
      "    i.e. \"ties\"\n",
      "    \n",
      "    The available columns are: Index(['date', 'match', 'left_number_of_spots', 'right_number_of_spots',\n",
      "       'winner', 'loser', 'notes', 'session_number'],\n",
      "      dtype='object')\n",
      "\n",
      "    Note: If left blank, the column with \"ties\" in the name will be used as the column. \n",
      "    If there are none, then this part will be skipped\n",
      "\n",
      "    \n"
     ]
    }
   ],
   "source": [
    "for key, value in sheet_name_to_everything.items():\n",
    "    # Asking users to specify which column is the one with the winner's information\n",
    "    sheet_name_to_everything[key][\"ties_column\"] = input(\"\"\"Type the name of the column that specifies whether or not a tie has occured\n",
    "    i.e. \"ties\"\n",
    "    \n",
    "    The available columns are: {}\n",
    "\n",
    "    Note: If left blank, the column with \"ties\" in the name will be used as the column. \n",
    "    If there are none, then this part will be skipped\n",
    "\n",
    "    \"\"\".format(sheet_name_to_everything[key][\"processed_behavior_recording_dataframe\"].columns))\n",
    "        \n",
    "    # Looks for columns with \"winner\" in them if none of inputted\n",
    "    if not sheet_name_to_everything[key][\"ties_column\"]:\n",
    "        if [col for col in sheet_name_to_everything[key][\"processed_behavior_recording_dataframe\"].columns if \"ties\" in col.lower()]:\n",
    "            sheet_name_to_everything[key][\"ties_column\"] = [col for col in sheet_name_to_everything[key][\"processed_behavior_recording_dataframe\"].columns if \"ties\" in col.lower()][0]\n",
    "        else: \n",
    "            sheet_name_to_everything[key][\"ties_column\"] = None\n",
    "        "
   ]
  },
  {
   "cell_type": "markdown",
   "id": "f708c8a8",
   "metadata": {},
   "source": [
    "# Getting the Session number differences"
   ]
  },
  {
   "cell_type": "markdown",
   "id": "7ee5244c",
   "metadata": {},
   "source": [
    "- Getting the indexes of where each new session starts. So that we can add the session number to each row."
   ]
  },
  {
   "cell_type": "code",
   "execution_count": 36,
   "id": "a581a200",
   "metadata": {
    "scrolled": true
   },
   "outputs": [
    {
     "data": {
      "text/plain": [
       "['loser',\n",
       " 'right_number_of_spots',\n",
       " 'winner',\n",
       " 'session_number',\n",
       " 'left_number_of_spots',\n",
       " 'date',\n",
       " 'match',\n",
       " 'notes']"
      ]
     },
     "execution_count": 36,
     "metadata": {},
     "output_type": "execute_result"
    }
   ],
   "source": [
    "list(set(sheet_name_to_everything[key][\"processed_behavior_recording_dataframe\"].columns) - set([sheet_name_to_everything[key][\"ties_column\"]]))"
   ]
  },
  {
   "cell_type": "code",
   "execution_count": 37,
   "id": "e3e8c273",
   "metadata": {},
   "outputs": [],
   "source": [
    "for key, value in sheet_name_to_everything.items():\n",
    "    if sheet_name_to_everything[key][\"ties_column\"]:\n",
    "        non_ties_columns = list(set(sheet_name_to_everything[key][\"processed_behavior_recording_dataframe\"].columns) - set([sheet_name_to_everything[key][\"ties_column\"]]))\n",
    "        sheet_name_to_everything[key][\"processed_behavior_recording_dataframe\"][non_ties_columns] = sheet_name_to_everything[key][\"processed_behavior_recording_dataframe\"][non_ties_columns].fillna(method='ffill')\n",
    "    else:\n",
    "        # Filling all the empty cells with the value in the previous cell\n",
    "        sheet_name_to_everything[key][\"processed_behavior_recording_dataframe\"] = sheet_name_to_everything[key][\"processed_behavior_recording_dataframe\"].fillna(method='ffill')\n",
    "\n",
    "     # Seeing which rows have a different session than the previous one\n",
    "    # This will be used to plot vertical lines for each new session\n",
    "    sheet_name_to_everything[key][\"processed_behavior_recording_dataframe\"]['session_number_difference'] = sheet_name_to_everything[key][\"processed_behavior_recording_dataframe\"]['session_number'].diff()"
   ]
  },
  {
   "cell_type": "code",
   "execution_count": 38,
   "id": "3a4a0b36",
   "metadata": {},
   "outputs": [
    {
     "data": {
      "text/html": [
       "<div>\n",
       "<style scoped>\n",
       "    .dataframe tbody tr th:only-of-type {\n",
       "        vertical-align: middle;\n",
       "    }\n",
       "\n",
       "    .dataframe tbody tr th {\n",
       "        vertical-align: top;\n",
       "    }\n",
       "\n",
       "    .dataframe thead th {\n",
       "        text-align: right;\n",
       "    }\n",
       "</style>\n",
       "<table border=\"1\" class=\"dataframe\">\n",
       "  <thead>\n",
       "    <tr style=\"text-align: right;\">\n",
       "      <th></th>\n",
       "      <th>date</th>\n",
       "      <th>match</th>\n",
       "      <th>left_number_of_spots</th>\n",
       "      <th>right_number_of_spots</th>\n",
       "      <th>winner</th>\n",
       "      <th>loser</th>\n",
       "      <th>notes</th>\n",
       "      <th>session_number</th>\n",
       "      <th>session_number_difference</th>\n",
       "    </tr>\n",
       "  </thead>\n",
       "  <tbody>\n",
       "    <tr>\n",
       "      <th>0</th>\n",
       "      <td>2022-09-01</td>\n",
       "      <td>1vs5</td>\n",
       "      <td>63</td>\n",
       "      <td>10</td>\n",
       "      <td>1</td>\n",
       "      <td>5</td>\n",
       "      <td>NaN</td>\n",
       "      <td>1.0</td>\n",
       "      <td>NaN</td>\n",
       "    </tr>\n",
       "    <tr>\n",
       "      <th>1</th>\n",
       "      <td>2022-09-01</td>\n",
       "      <td>2vs6</td>\n",
       "      <td>109</td>\n",
       "      <td>12</td>\n",
       "      <td>2</td>\n",
       "      <td>6</td>\n",
       "      <td>NaN</td>\n",
       "      <td>1.0</td>\n",
       "      <td>0.0</td>\n",
       "    </tr>\n",
       "    <tr>\n",
       "      <th>2</th>\n",
       "      <td>2022-09-01</td>\n",
       "      <td>3vs7</td>\n",
       "      <td>37</td>\n",
       "      <td>13</td>\n",
       "      <td>3</td>\n",
       "      <td>7</td>\n",
       "      <td>NaN</td>\n",
       "      <td>1.0</td>\n",
       "      <td>0.0</td>\n",
       "    </tr>\n",
       "    <tr>\n",
       "      <th>3</th>\n",
       "      <td>2022-09-01</td>\n",
       "      <td>4vs8</td>\n",
       "      <td>11</td>\n",
       "      <td>34</td>\n",
       "      <td>8</td>\n",
       "      <td>4</td>\n",
       "      <td>NaN</td>\n",
       "      <td>1.0</td>\n",
       "      <td>0.0</td>\n",
       "    </tr>\n",
       "    <tr>\n",
       "      <th>4</th>\n",
       "      <td>2022-09-02</td>\n",
       "      <td>1vs5</td>\n",
       "      <td>120</td>\n",
       "      <td>35</td>\n",
       "      <td>1</td>\n",
       "      <td>5</td>\n",
       "      <td>NaN</td>\n",
       "      <td>2.0</td>\n",
       "      <td>1.0</td>\n",
       "    </tr>\n",
       "  </tbody>\n",
       "</table>\n",
       "</div>"
      ],
      "text/plain": [
       "        date match  left_number_of_spots  right_number_of_spots  winner  \\\n",
       "0 2022-09-01  1vs5                    63                     10       1   \n",
       "1 2022-09-01  2vs6                   109                     12       2   \n",
       "2 2022-09-01  3vs7                    37                     13       3   \n",
       "3 2022-09-01  4vs8                    11                     34       8   \n",
       "4 2022-09-02  1vs5                   120                     35       1   \n",
       "\n",
       "   loser notes  session_number  session_number_difference  \n",
       "0      5   NaN             1.0                        NaN  \n",
       "1      6   NaN             1.0                        0.0  \n",
       "2      7   NaN             1.0                        0.0  \n",
       "3      4   NaN             1.0                        0.0  \n",
       "4      5   NaN             2.0                        1.0  "
      ]
     },
     "execution_count": 38,
     "metadata": {},
     "output_type": "execute_result"
    }
   ],
   "source": [
    "sheet_name_to_everything[key][\"processed_behavior_recording_dataframe\"].head()"
   ]
  },
  {
   "cell_type": "code",
   "execution_count": 39,
   "id": "5fd9704d",
   "metadata": {
    "scrolled": false
   },
   "outputs": [
    {
     "data": {
      "text/html": [
       "<div>\n",
       "<style scoped>\n",
       "    .dataframe tbody tr th:only-of-type {\n",
       "        vertical-align: middle;\n",
       "    }\n",
       "\n",
       "    .dataframe tbody tr th {\n",
       "        vertical-align: top;\n",
       "    }\n",
       "\n",
       "    .dataframe thead th {\n",
       "        text-align: right;\n",
       "    }\n",
       "</style>\n",
       "<table border=\"1\" class=\"dataframe\">\n",
       "  <thead>\n",
       "    <tr style=\"text-align: right;\">\n",
       "      <th></th>\n",
       "      <th>date</th>\n",
       "      <th>match</th>\n",
       "      <th>left_number_of_spots</th>\n",
       "      <th>right_number_of_spots</th>\n",
       "      <th>winner</th>\n",
       "      <th>loser</th>\n",
       "      <th>notes</th>\n",
       "      <th>session_number</th>\n",
       "      <th>session_number_difference</th>\n",
       "    </tr>\n",
       "  </thead>\n",
       "  <tbody>\n",
       "    <tr>\n",
       "      <th>11</th>\n",
       "      <td>2022-09-14</td>\n",
       "      <td>4vs8</td>\n",
       "      <td>3</td>\n",
       "      <td>70</td>\n",
       "      <td>8</td>\n",
       "      <td>4</td>\n",
       "      <td>NaN</td>\n",
       "      <td>3.0</td>\n",
       "      <td>0.0</td>\n",
       "    </tr>\n",
       "    <tr>\n",
       "      <th>12</th>\n",
       "      <td>2022-09-15</td>\n",
       "      <td>1vs5</td>\n",
       "      <td>20</td>\n",
       "      <td>157</td>\n",
       "      <td>5</td>\n",
       "      <td>1</td>\n",
       "      <td>5 who has consistently fought #2 in HCO finall...</td>\n",
       "      <td>4.0</td>\n",
       "      <td>1.0</td>\n",
       "    </tr>\n",
       "    <tr>\n",
       "      <th>13</th>\n",
       "      <td>2022-09-15</td>\n",
       "      <td>2vs6</td>\n",
       "      <td>39</td>\n",
       "      <td>7</td>\n",
       "      <td>2</td>\n",
       "      <td>6</td>\n",
       "      <td>6 has always peed around the same number, mayb...</td>\n",
       "      <td>4.0</td>\n",
       "      <td>0.0</td>\n",
       "    </tr>\n",
       "    <tr>\n",
       "      <th>14</th>\n",
       "      <td>2022-09-15</td>\n",
       "      <td>3vs7</td>\n",
       "      <td>6</td>\n",
       "      <td>8</td>\n",
       "      <td>7</td>\n",
       "      <td>3</td>\n",
       "      <td>6 has always peed around the same number, mayb...</td>\n",
       "      <td>4.0</td>\n",
       "      <td>0.0</td>\n",
       "    </tr>\n",
       "    <tr>\n",
       "      <th>15</th>\n",
       "      <td>2022-09-15</td>\n",
       "      <td>4vs8</td>\n",
       "      <td>29</td>\n",
       "      <td>189</td>\n",
       "      <td>8</td>\n",
       "      <td>4</td>\n",
       "      <td>8 has always been the winner in URM, only mice...</td>\n",
       "      <td>4.0</td>\n",
       "      <td>0.0</td>\n",
       "    </tr>\n",
       "  </tbody>\n",
       "</table>\n",
       "</div>"
      ],
      "text/plain": [
       "         date match  left_number_of_spots  right_number_of_spots  winner  \\\n",
       "11 2022-09-14  4vs8                     3                     70       8   \n",
       "12 2022-09-15  1vs5                    20                    157       5   \n",
       "13 2022-09-15  2vs6                    39                      7       2   \n",
       "14 2022-09-15  3vs7                     6                      8       7   \n",
       "15 2022-09-15  4vs8                    29                    189       8   \n",
       "\n",
       "    loser                                              notes  session_number  \\\n",
       "11      4                                                NaN             3.0   \n",
       "12      1  5 who has consistently fought #2 in HCO finall...             4.0   \n",
       "13      6  6 has always peed around the same number, mayb...             4.0   \n",
       "14      3  6 has always peed around the same number, mayb...             4.0   \n",
       "15      4  8 has always been the winner in URM, only mice...             4.0   \n",
       "\n",
       "    session_number_difference  \n",
       "11                        0.0  \n",
       "12                        1.0  \n",
       "13                        0.0  \n",
       "14                        0.0  \n",
       "15                        0.0  "
      ]
     },
     "execution_count": 39,
     "metadata": {},
     "output_type": "execute_result"
    }
   ],
   "source": [
    "sheet_name_to_everything[key][\"processed_behavior_recording_dataframe\"].tail()"
   ]
  },
  {
   "cell_type": "markdown",
   "id": "df5a7871",
   "metadata": {},
   "source": [
    "## Calculating ELO Score"
   ]
  },
  {
   "cell_type": "markdown",
   "id": "5a74ee77",
   "metadata": {},
   "source": [
    "- Example calculation"
   ]
  },
  {
   "cell_type": "code",
   "execution_count": 40,
   "id": "0f3bdd34",
   "metadata": {},
   "outputs": [
    {
     "data": {
      "text/plain": [
       "1019.9"
      ]
     },
     "execution_count": 40,
     "metadata": {},
     "output_type": "execute_result"
    }
   ],
   "source": [
    "eloscore.calculate_elo_score(subject_elo_score=1000, agent_elo_score=2000)"
   ]
  },
  {
   "cell_type": "code",
   "execution_count": 41,
   "id": "4bf42d10",
   "metadata": {},
   "outputs": [
    {
     "data": {
      "text/plain": [
       "defaultdict(<function eloscore.eloscore.update_elo_score.<locals>.<lambda>()>,\n",
       "            {'A': 1010.0, 'B': 990.0})"
      ]
     },
     "execution_count": 41,
     "metadata": {},
     "output_type": "execute_result"
    }
   ],
   "source": [
    "eloscore.update_elo_score(winner_id=\"A\", loser_id=\"B\")"
   ]
  },
  {
   "cell_type": "markdown",
   "id": "317d3e5a",
   "metadata": {},
   "source": [
    "## Get the Elo score for all the events"
   ]
  },
  {
   "cell_type": "markdown",
   "id": "6b955461",
   "metadata": {},
   "source": [
    "- Going through each row or interaction and calculating the new ELO score for the winner and loser. This will create a new dataframe based off of the processed behavioral recording dataframe"
   ]
  },
  {
   "cell_type": "code",
   "execution_count": 42,
   "id": "0bd7c67b",
   "metadata": {},
   "outputs": [
    {
     "name": "stdout",
     "output_type": "stream",
     "text": [
      "Type all the columns that will be copied from the original dataframe to the ELO Score calculated dataframe. \n",
      "\n",
      "    All the available actions: Index(['date', 'match', 'left_number_of_spots', 'right_number_of_spots',\n",
      "       'winner', 'loser', 'notes', 'session_number',\n",
      "       'session_number_difference'],\n",
      "      dtype='object')\n",
      "    Each column must be put in quotes and seperated by a comma(,). i.e. 'length of observations', 'date', 'cage #'\n",
      "\n",
      "    NOTE: If left blank, all the columns will be kept\n",
      "    \n"
     ]
    }
   ],
   "source": [
    "for key, value in sheet_name_to_everything.items():\n",
    "    # Asking the user which columns to carry over to the ELO Score calculation dataframe\n",
    "    sheet_name_to_everything[key][\"columns_to_keep_string\"] = input(\"\"\"Type all the columns that will be copied from the original dataframe to the ELO Score calculated dataframe. \n",
    "\n",
    "    All the available actions: {}\n",
    "    Each column must be put in quotes and seperated by a comma(,). i.e. 'length of observations', 'date', 'cage #'\n",
    "\n",
    "    NOTE: If left blank, all the columns will be kept\n",
    "    \"\"\".format(sheet_name_to_everything[key][\"processed_behavior_recording_dataframe\"].columns))\n",
    "\n",
    "    \n",
    "    # Making a list out of the string of inputted sheet names\n",
    "    if sheet_name_to_everything[key][\"columns_to_keep_string\"]:\n",
    "        sheet_name_to_everything[key][\"columns_to_keep_string\"] = \"[\" + sheet_name_to_everything[key][\"columns_to_keep_string\"] + \"]\"\n",
    "        sheet_name_to_everything[key][\"columns_to_keep_list\"] = ast.literal_eval(sheet_name_to_everything[key][\"columns_to_keep_string\"])\n",
    "    # Using all the sheet names if no sheet name is specified\n",
    "    else:\n",
    "        sheet_name_to_everything[key][\"columns_to_keep_list\"] =  sorted(list(set(sheet_name_to_everything[key][\"processed_behavior_recording_dataframe\"].columns) - set([sheet_name_to_everything[key][\"winner_column\"]]) - set([sheet_name_to_everything[key][\"loser_column\"]])))\n",
    "        \n",
    "    \n",
    "\n",
    "    # Calculating the Elo Score    \n",
    "    sheet_name_to_everything[key][\"index_to_elo_score_and_meta_data\"] = eloscore.iterate_elo_score_calculation_for_dataframe(dataframe=sheet_name_to_everything[key][\"processed_behavior_recording_dataframe\"], \\\n",
    "                                                                                                                   winner_column=sheet_name_to_everything[key][\"winner_column\"], loser_column=sheet_name_to_everything[key][\"loser_column\"], \\\n",
    "                                                                                                                             additional_columns=sheet_name_to_everything[key][\"columns_to_keep_list\"], tie_column=sheet_name_to_everything[key][\"ties_column\"])\n",
    "    # Making a dataframe from the dictionary \n",
    "    sheet_name_to_everything[key][\"elo_score_dataframe\"] = pd.DataFrame.from_dict(sheet_name_to_everything[key][\"index_to_elo_score_and_meta_data\"], orient=\"index\")\n"
   ]
  },
  {
   "cell_type": "code",
   "execution_count": 43,
   "id": "59feeb7e",
   "metadata": {},
   "outputs": [
    {
     "data": {
      "text/html": [
       "<div>\n",
       "<style scoped>\n",
       "    .dataframe tbody tr th:only-of-type {\n",
       "        vertical-align: middle;\n",
       "    }\n",
       "\n",
       "    .dataframe tbody tr th {\n",
       "        vertical-align: top;\n",
       "    }\n",
       "\n",
       "    .dataframe thead th {\n",
       "        text-align: right;\n",
       "    }\n",
       "</style>\n",
       "<table border=\"1\" class=\"dataframe\">\n",
       "  <thead>\n",
       "    <tr style=\"text-align: right;\">\n",
       "      <th></th>\n",
       "      <th>total_match_number</th>\n",
       "      <th>subject_id</th>\n",
       "      <th>agent_id</th>\n",
       "      <th>original_elo_score</th>\n",
       "      <th>updated_elo_score</th>\n",
       "      <th>win_draw_loss</th>\n",
       "      <th>date</th>\n",
       "      <th>left_number_of_spots</th>\n",
       "      <th>match</th>\n",
       "      <th>notes</th>\n",
       "      <th>right_number_of_spots</th>\n",
       "      <th>session_number</th>\n",
       "      <th>session_number_difference</th>\n",
       "    </tr>\n",
       "  </thead>\n",
       "  <tbody>\n",
       "    <tr>\n",
       "      <th>0</th>\n",
       "      <td>1</td>\n",
       "      <td>1</td>\n",
       "      <td>5</td>\n",
       "      <td>1000.0</td>\n",
       "      <td>1010.0</td>\n",
       "      <td>1</td>\n",
       "      <td>2022-09-01</td>\n",
       "      <td>63</td>\n",
       "      <td>1vs5</td>\n",
       "      <td>NaN</td>\n",
       "      <td>10</td>\n",
       "      <td>1.0</td>\n",
       "      <td>NaN</td>\n",
       "    </tr>\n",
       "    <tr>\n",
       "      <th>1</th>\n",
       "      <td>1</td>\n",
       "      <td>5</td>\n",
       "      <td>1</td>\n",
       "      <td>1000.0</td>\n",
       "      <td>990.0</td>\n",
       "      <td>0</td>\n",
       "      <td>2022-09-01</td>\n",
       "      <td>63</td>\n",
       "      <td>1vs5</td>\n",
       "      <td>NaN</td>\n",
       "      <td>10</td>\n",
       "      <td>1.0</td>\n",
       "      <td>NaN</td>\n",
       "    </tr>\n",
       "    <tr>\n",
       "      <th>2</th>\n",
       "      <td>2</td>\n",
       "      <td>2</td>\n",
       "      <td>6</td>\n",
       "      <td>1000.0</td>\n",
       "      <td>1010.0</td>\n",
       "      <td>1</td>\n",
       "      <td>2022-09-01</td>\n",
       "      <td>109</td>\n",
       "      <td>2vs6</td>\n",
       "      <td>NaN</td>\n",
       "      <td>12</td>\n",
       "      <td>1.0</td>\n",
       "      <td>0.0</td>\n",
       "    </tr>\n",
       "    <tr>\n",
       "      <th>3</th>\n",
       "      <td>2</td>\n",
       "      <td>6</td>\n",
       "      <td>2</td>\n",
       "      <td>1000.0</td>\n",
       "      <td>990.0</td>\n",
       "      <td>0</td>\n",
       "      <td>2022-09-01</td>\n",
       "      <td>109</td>\n",
       "      <td>2vs6</td>\n",
       "      <td>NaN</td>\n",
       "      <td>12</td>\n",
       "      <td>1.0</td>\n",
       "      <td>0.0</td>\n",
       "    </tr>\n",
       "    <tr>\n",
       "      <th>4</th>\n",
       "      <td>3</td>\n",
       "      <td>3</td>\n",
       "      <td>7</td>\n",
       "      <td>1000.0</td>\n",
       "      <td>1010.0</td>\n",
       "      <td>1</td>\n",
       "      <td>2022-09-01</td>\n",
       "      <td>37</td>\n",
       "      <td>3vs7</td>\n",
       "      <td>NaN</td>\n",
       "      <td>13</td>\n",
       "      <td>1.0</td>\n",
       "      <td>0.0</td>\n",
       "    </tr>\n",
       "  </tbody>\n",
       "</table>\n",
       "</div>"
      ],
      "text/plain": [
       "   total_match_number  subject_id  agent_id  original_elo_score  \\\n",
       "0                   1           1         5              1000.0   \n",
       "1                   1           5         1              1000.0   \n",
       "2                   2           2         6              1000.0   \n",
       "3                   2           6         2              1000.0   \n",
       "4                   3           3         7              1000.0   \n",
       "\n",
       "   updated_elo_score  win_draw_loss       date  left_number_of_spots match  \\\n",
       "0             1010.0              1 2022-09-01                    63  1vs5   \n",
       "1              990.0              0 2022-09-01                    63  1vs5   \n",
       "2             1010.0              1 2022-09-01                   109  2vs6   \n",
       "3              990.0              0 2022-09-01                   109  2vs6   \n",
       "4             1010.0              1 2022-09-01                    37  3vs7   \n",
       "\n",
       "  notes  right_number_of_spots  session_number  session_number_difference  \n",
       "0   NaN                     10             1.0                        NaN  \n",
       "1   NaN                     10             1.0                        NaN  \n",
       "2   NaN                     12             1.0                        0.0  \n",
       "3   NaN                     12             1.0                        0.0  \n",
       "4   NaN                     13             1.0                        0.0  "
      ]
     },
     "execution_count": 43,
     "metadata": {},
     "output_type": "execute_result"
    }
   ],
   "source": [
    "sheet_name_to_everything[key][\"elo_score_dataframe\"].head()"
   ]
  },
  {
   "cell_type": "code",
   "execution_count": 44,
   "id": "7548b22c",
   "metadata": {},
   "outputs": [
    {
     "data": {
      "text/html": [
       "<div>\n",
       "<style scoped>\n",
       "    .dataframe tbody tr th:only-of-type {\n",
       "        vertical-align: middle;\n",
       "    }\n",
       "\n",
       "    .dataframe tbody tr th {\n",
       "        vertical-align: top;\n",
       "    }\n",
       "\n",
       "    .dataframe thead th {\n",
       "        text-align: right;\n",
       "    }\n",
       "</style>\n",
       "<table border=\"1\" class=\"dataframe\">\n",
       "  <thead>\n",
       "    <tr style=\"text-align: right;\">\n",
       "      <th></th>\n",
       "      <th>total_match_number</th>\n",
       "      <th>subject_id</th>\n",
       "      <th>agent_id</th>\n",
       "      <th>original_elo_score</th>\n",
       "      <th>updated_elo_score</th>\n",
       "      <th>win_draw_loss</th>\n",
       "      <th>date</th>\n",
       "      <th>left_number_of_spots</th>\n",
       "      <th>match</th>\n",
       "      <th>notes</th>\n",
       "      <th>right_number_of_spots</th>\n",
       "      <th>session_number</th>\n",
       "      <th>session_number_difference</th>\n",
       "    </tr>\n",
       "  </thead>\n",
       "  <tbody>\n",
       "    <tr>\n",
       "      <th>27</th>\n",
       "      <td>14</td>\n",
       "      <td>6</td>\n",
       "      <td>2</td>\n",
       "      <td>991.7</td>\n",
       "      <td>982.2</td>\n",
       "      <td>0</td>\n",
       "      <td>2022-09-15</td>\n",
       "      <td>39</td>\n",
       "      <td>2vs6</td>\n",
       "      <td>6 has always peed around the same number, mayb...</td>\n",
       "      <td>7</td>\n",
       "      <td>4.0</td>\n",
       "      <td>0.0</td>\n",
       "    </tr>\n",
       "    <tr>\n",
       "      <th>28</th>\n",
       "      <td>15</td>\n",
       "      <td>7</td>\n",
       "      <td>3</td>\n",
       "      <td>991.7</td>\n",
       "      <td>1002.2</td>\n",
       "      <td>1</td>\n",
       "      <td>2022-09-15</td>\n",
       "      <td>6</td>\n",
       "      <td>3vs7</td>\n",
       "      <td>6 has always peed around the same number, mayb...</td>\n",
       "      <td>8</td>\n",
       "      <td>4.0</td>\n",
       "      <td>0.0</td>\n",
       "    </tr>\n",
       "    <tr>\n",
       "      <th>29</th>\n",
       "      <td>15</td>\n",
       "      <td>3</td>\n",
       "      <td>7</td>\n",
       "      <td>1008.3</td>\n",
       "      <td>997.8</td>\n",
       "      <td>0</td>\n",
       "      <td>2022-09-15</td>\n",
       "      <td>6</td>\n",
       "      <td>3vs7</td>\n",
       "      <td>6 has always peed around the same number, mayb...</td>\n",
       "      <td>8</td>\n",
       "      <td>4.0</td>\n",
       "      <td>0.0</td>\n",
       "    </tr>\n",
       "    <tr>\n",
       "      <th>30</th>\n",
       "      <td>16</td>\n",
       "      <td>8</td>\n",
       "      <td>4</td>\n",
       "      <td>1028.3</td>\n",
       "      <td>1036.7</td>\n",
       "      <td>1</td>\n",
       "      <td>2022-09-15</td>\n",
       "      <td>29</td>\n",
       "      <td>4vs8</td>\n",
       "      <td>8 has always been the winner in URM, only mice...</td>\n",
       "      <td>189</td>\n",
       "      <td>4.0</td>\n",
       "      <td>0.0</td>\n",
       "    </tr>\n",
       "    <tr>\n",
       "      <th>31</th>\n",
       "      <td>16</td>\n",
       "      <td>4</td>\n",
       "      <td>8</td>\n",
       "      <td>971.7</td>\n",
       "      <td>963.3</td>\n",
       "      <td>0</td>\n",
       "      <td>2022-09-15</td>\n",
       "      <td>29</td>\n",
       "      <td>4vs8</td>\n",
       "      <td>8 has always been the winner in URM, only mice...</td>\n",
       "      <td>189</td>\n",
       "      <td>4.0</td>\n",
       "      <td>0.0</td>\n",
       "    </tr>\n",
       "  </tbody>\n",
       "</table>\n",
       "</div>"
      ],
      "text/plain": [
       "    total_match_number  subject_id  agent_id  original_elo_score  \\\n",
       "27                  14           6         2               991.7   \n",
       "28                  15           7         3               991.7   \n",
       "29                  15           3         7              1008.3   \n",
       "30                  16           8         4              1028.3   \n",
       "31                  16           4         8               971.7   \n",
       "\n",
       "    updated_elo_score  win_draw_loss       date  left_number_of_spots match  \\\n",
       "27              982.2              0 2022-09-15                    39  2vs6   \n",
       "28             1002.2              1 2022-09-15                     6  3vs7   \n",
       "29              997.8              0 2022-09-15                     6  3vs7   \n",
       "30             1036.7              1 2022-09-15                    29  4vs8   \n",
       "31              963.3              0 2022-09-15                    29  4vs8   \n",
       "\n",
       "                                                notes  right_number_of_spots  \\\n",
       "27  6 has always peed around the same number, mayb...                      7   \n",
       "28  6 has always peed around the same number, mayb...                      8   \n",
       "29  6 has always peed around the same number, mayb...                      8   \n",
       "30  8 has always been the winner in URM, only mice...                    189   \n",
       "31  8 has always been the winner in URM, only mice...                    189   \n",
       "\n",
       "    session_number  session_number_difference  \n",
       "27             4.0                        0.0  \n",
       "28             4.0                        0.0  \n",
       "29             4.0                        0.0  \n",
       "30             4.0                        0.0  \n",
       "31             4.0                        0.0  "
      ]
     },
     "execution_count": 44,
     "metadata": {},
     "output_type": "execute_result"
    }
   ],
   "source": [
    "sheet_name_to_everything[key][\"elo_score_dataframe\"].tail()"
   ]
  },
  {
   "cell_type": "code",
   "execution_count": 45,
   "id": "00a1a555",
   "metadata": {},
   "outputs": [
    {
     "data": {
      "text/html": [
       "<div>\n",
       "<style scoped>\n",
       "    .dataframe tbody tr th:only-of-type {\n",
       "        vertical-align: middle;\n",
       "    }\n",
       "\n",
       "    .dataframe tbody tr th {\n",
       "        vertical-align: top;\n",
       "    }\n",
       "\n",
       "    .dataframe thead th {\n",
       "        text-align: right;\n",
       "    }\n",
       "</style>\n",
       "<table border=\"1\" class=\"dataframe\">\n",
       "  <thead>\n",
       "    <tr style=\"text-align: right;\">\n",
       "      <th></th>\n",
       "      <th>total_match_number</th>\n",
       "      <th>agent_id</th>\n",
       "      <th>original_elo_score</th>\n",
       "      <th>updated_elo_score</th>\n",
       "      <th>win_draw_loss</th>\n",
       "      <th>date</th>\n",
       "      <th>left_number_of_spots</th>\n",
       "      <th>match</th>\n",
       "      <th>notes</th>\n",
       "      <th>right_number_of_spots</th>\n",
       "      <th>session_number</th>\n",
       "      <th>session_number_difference</th>\n",
       "    </tr>\n",
       "    <tr>\n",
       "      <th>subject_id</th>\n",
       "      <th></th>\n",
       "      <th></th>\n",
       "      <th></th>\n",
       "      <th></th>\n",
       "      <th></th>\n",
       "      <th></th>\n",
       "      <th></th>\n",
       "      <th></th>\n",
       "      <th></th>\n",
       "      <th></th>\n",
       "      <th></th>\n",
       "      <th></th>\n",
       "    </tr>\n",
       "  </thead>\n",
       "  <tbody>\n",
       "    <tr>\n",
       "      <th>1</th>\n",
       "      <td>4</td>\n",
       "      <td>4</td>\n",
       "      <td>4</td>\n",
       "      <td>4</td>\n",
       "      <td>4</td>\n",
       "      <td>4</td>\n",
       "      <td>4</td>\n",
       "      <td>4</td>\n",
       "      <td>1</td>\n",
       "      <td>4</td>\n",
       "      <td>4</td>\n",
       "      <td>3</td>\n",
       "    </tr>\n",
       "    <tr>\n",
       "      <th>2</th>\n",
       "      <td>4</td>\n",
       "      <td>4</td>\n",
       "      <td>4</td>\n",
       "      <td>4</td>\n",
       "      <td>4</td>\n",
       "      <td>4</td>\n",
       "      <td>4</td>\n",
       "      <td>4</td>\n",
       "      <td>1</td>\n",
       "      <td>4</td>\n",
       "      <td>4</td>\n",
       "      <td>4</td>\n",
       "    </tr>\n",
       "    <tr>\n",
       "      <th>3</th>\n",
       "      <td>4</td>\n",
       "      <td>4</td>\n",
       "      <td>4</td>\n",
       "      <td>4</td>\n",
       "      <td>4</td>\n",
       "      <td>4</td>\n",
       "      <td>4</td>\n",
       "      <td>4</td>\n",
       "      <td>1</td>\n",
       "      <td>4</td>\n",
       "      <td>4</td>\n",
       "      <td>4</td>\n",
       "    </tr>\n",
       "    <tr>\n",
       "      <th>4</th>\n",
       "      <td>4</td>\n",
       "      <td>4</td>\n",
       "      <td>4</td>\n",
       "      <td>4</td>\n",
       "      <td>4</td>\n",
       "      <td>4</td>\n",
       "      <td>4</td>\n",
       "      <td>4</td>\n",
       "      <td>1</td>\n",
       "      <td>4</td>\n",
       "      <td>4</td>\n",
       "      <td>4</td>\n",
       "    </tr>\n",
       "    <tr>\n",
       "      <th>5</th>\n",
       "      <td>4</td>\n",
       "      <td>4</td>\n",
       "      <td>4</td>\n",
       "      <td>4</td>\n",
       "      <td>4</td>\n",
       "      <td>4</td>\n",
       "      <td>4</td>\n",
       "      <td>4</td>\n",
       "      <td>1</td>\n",
       "      <td>4</td>\n",
       "      <td>4</td>\n",
       "      <td>3</td>\n",
       "    </tr>\n",
       "    <tr>\n",
       "      <th>6</th>\n",
       "      <td>4</td>\n",
       "      <td>4</td>\n",
       "      <td>4</td>\n",
       "      <td>4</td>\n",
       "      <td>4</td>\n",
       "      <td>4</td>\n",
       "      <td>4</td>\n",
       "      <td>4</td>\n",
       "      <td>1</td>\n",
       "      <td>4</td>\n",
       "      <td>4</td>\n",
       "      <td>4</td>\n",
       "    </tr>\n",
       "    <tr>\n",
       "      <th>7</th>\n",
       "      <td>4</td>\n",
       "      <td>4</td>\n",
       "      <td>4</td>\n",
       "      <td>4</td>\n",
       "      <td>4</td>\n",
       "      <td>4</td>\n",
       "      <td>4</td>\n",
       "      <td>4</td>\n",
       "      <td>1</td>\n",
       "      <td>4</td>\n",
       "      <td>4</td>\n",
       "      <td>4</td>\n",
       "    </tr>\n",
       "    <tr>\n",
       "      <th>8</th>\n",
       "      <td>4</td>\n",
       "      <td>4</td>\n",
       "      <td>4</td>\n",
       "      <td>4</td>\n",
       "      <td>4</td>\n",
       "      <td>4</td>\n",
       "      <td>4</td>\n",
       "      <td>4</td>\n",
       "      <td>1</td>\n",
       "      <td>4</td>\n",
       "      <td>4</td>\n",
       "      <td>4</td>\n",
       "    </tr>\n",
       "  </tbody>\n",
       "</table>\n",
       "</div>"
      ],
      "text/plain": [
       "            total_match_number  agent_id  original_elo_score  \\\n",
       "subject_id                                                     \n",
       "1                            4         4                   4   \n",
       "2                            4         4                   4   \n",
       "3                            4         4                   4   \n",
       "4                            4         4                   4   \n",
       "5                            4         4                   4   \n",
       "6                            4         4                   4   \n",
       "7                            4         4                   4   \n",
       "8                            4         4                   4   \n",
       "\n",
       "            updated_elo_score  win_draw_loss  date  left_number_of_spots  \\\n",
       "subject_id                                                                 \n",
       "1                           4              4     4                     4   \n",
       "2                           4              4     4                     4   \n",
       "3                           4              4     4                     4   \n",
       "4                           4              4     4                     4   \n",
       "5                           4              4     4                     4   \n",
       "6                           4              4     4                     4   \n",
       "7                           4              4     4                     4   \n",
       "8                           4              4     4                     4   \n",
       "\n",
       "            match  notes  right_number_of_spots  session_number  \\\n",
       "subject_id                                                        \n",
       "1               4      1                      4               4   \n",
       "2               4      1                      4               4   \n",
       "3               4      1                      4               4   \n",
       "4               4      1                      4               4   \n",
       "5               4      1                      4               4   \n",
       "6               4      1                      4               4   \n",
       "7               4      1                      4               4   \n",
       "8               4      1                      4               4   \n",
       "\n",
       "            session_number_difference  \n",
       "subject_id                             \n",
       "1                                   3  \n",
       "2                                   4  \n",
       "3                                   4  \n",
       "4                                   4  \n",
       "5                                   3  \n",
       "6                                   4  \n",
       "7                                   4  \n",
       "8                                   4  "
      ]
     },
     "execution_count": 45,
     "metadata": {},
     "output_type": "execute_result"
    }
   ],
   "source": [
    "sheet_name_to_everything[key][\"elo_score_dataframe\"].groupby(\"subject_id\").count()"
   ]
  },
  {
   "cell_type": "markdown",
   "id": "cbaf1aac",
   "metadata": {},
   "source": [
    "## Getting the cage number"
   ]
  },
  {
   "cell_type": "markdown",
   "id": "63339af3",
   "metadata": {},
   "source": [
    "- The cage number is sometimes not consistent throughout a spreadsheet for the same cage. So we will try to standarize it into one value.\n",
    "    - **NOTE**: This assumes cage numbers are actual numbers. And not entirely consisting of letters. If that isn't the case, then you must edit this cell for your needs."
   ]
  },
  {
   "cell_type": "code",
   "execution_count": 46,
   "id": "b0699ae8",
   "metadata": {
    "scrolled": true
   },
   "outputs": [
    {
     "name": "stdout",
     "output_type": "stream",
     "text": [
      "Type the name of the column of the subject that has won the interaction.\n",
      "    i.e. \"cage\"\n",
      "\n",
      "    The available columns are: Index(['date', 'match', 'left_number_of_spots', 'right_number_of_spots',\n",
      "       'winner', 'loser', 'notes', 'session_number',\n",
      "       'session_number_difference'],\n",
      "      dtype='object')\n",
      "\n",
      "    Note: If left blank, the column with \"cage\" will be used as the column. If there is none, then the sheet name will be used.\n",
      "    \n",
      "defaultdict(<class 'dict'>, {'Sheet1': '1'})\n"
     ]
    }
   ],
   "source": [
    "for key, value in sheet_name_to_everything.items():\n",
    "    # Asking the user which column has the cage number\n",
    "    sheet_name_to_everything[key][\"cage_column\"] = input(\"\"\"Type the name of the column of the subject that has won the interaction.\n",
    "    i.e. \"cage\"\n",
    "\n",
    "    The available columns are: {}\n",
    "\n",
    "    Note: If left blank, the column with \"cage\" will be used as the column. If there is none, then the sheet name will be used.\n",
    "    \"\"\".format(sheet_name_to_everything[key][\"processed_behavior_recording_dataframe\"].columns))\n",
    "    \n",
    "    # Getting the column that has \"cage\" in its name if no column is specified\n",
    "    if not sheet_name_to_everything[key][\"cage_column\"]:\n",
    "        if [col for col in sheet_name_to_everything[key][\"processed_behavior_recording_dataframe\"].columns if \"cage\" in col.lower()]:\n",
    "            sheet_name_to_everything[key][\"cage_column\"] = [col for col in sheet_name_to_everything[key][\"processed_behavior_recording_dataframe\"].columns if \"cage\" in col.lower()][0]\n",
    "        else:\n",
    "            sheet_name_to_everything[key][\"cage_column\"] = \"cage\"\n",
    "            sheet_name_to_everything[key][\"elo_score_dataframe\"][\"cage\"] = key\n",
    "            \n",
    "    \n",
    "    # Creating a dictionary of original cage name to standarized cage namec\n",
    "    sheet_name_to_everything[key][\"cage_string_to_number\"] = defaultdict(dict)\n",
    "    # Getting all the unique cage names\n",
    "    unique_cage_numbers = sheet_name_to_everything[key][\"elo_score_dataframe\"][sheet_name_to_everything[key][\"cage_column\"]].unique()\n",
    "    for cage_string in unique_cage_numbers:\n",
    "        # Getting the number from the cage name\n",
    "        sheet_name_to_everything[key][\"cage_string_to_number\"][cage_string] = re.findall(r'\\d+', str(cage_string))[0]\n",
    "        print(sheet_name_to_everything[key][\"cage_string_to_number\"])\n",
    "    # Making a new column for the processed cage number\n",
    "    sheet_name_to_everything[key][\"elo_score_dataframe\"][\"processed_cage_number\"] = sheet_name_to_everything[key][\"elo_score_dataframe\"][sheet_name_to_everything[key][\"cage_column\"]].map(sheet_name_to_everything[key][\"cage_string_to_number\"])\n",
    "    "
   ]
  },
  {
   "cell_type": "code",
   "execution_count": 47,
   "id": "af1b79db",
   "metadata": {},
   "outputs": [
    {
     "data": {
      "text/html": [
       "<div>\n",
       "<style scoped>\n",
       "    .dataframe tbody tr th:only-of-type {\n",
       "        vertical-align: middle;\n",
       "    }\n",
       "\n",
       "    .dataframe tbody tr th {\n",
       "        vertical-align: top;\n",
       "    }\n",
       "\n",
       "    .dataframe thead th {\n",
       "        text-align: right;\n",
       "    }\n",
       "</style>\n",
       "<table border=\"1\" class=\"dataframe\">\n",
       "  <thead>\n",
       "    <tr style=\"text-align: right;\">\n",
       "      <th></th>\n",
       "      <th>total_match_number</th>\n",
       "      <th>subject_id</th>\n",
       "      <th>agent_id</th>\n",
       "      <th>original_elo_score</th>\n",
       "      <th>updated_elo_score</th>\n",
       "      <th>win_draw_loss</th>\n",
       "      <th>date</th>\n",
       "      <th>left_number_of_spots</th>\n",
       "      <th>match</th>\n",
       "      <th>notes</th>\n",
       "      <th>right_number_of_spots</th>\n",
       "      <th>session_number</th>\n",
       "      <th>session_number_difference</th>\n",
       "      <th>cage</th>\n",
       "      <th>processed_cage_number</th>\n",
       "    </tr>\n",
       "  </thead>\n",
       "  <tbody>\n",
       "    <tr>\n",
       "      <th>0</th>\n",
       "      <td>1</td>\n",
       "      <td>1</td>\n",
       "      <td>5</td>\n",
       "      <td>1000.0</td>\n",
       "      <td>1010.0</td>\n",
       "      <td>1</td>\n",
       "      <td>2022-09-01</td>\n",
       "      <td>63</td>\n",
       "      <td>1vs5</td>\n",
       "      <td>NaN</td>\n",
       "      <td>10</td>\n",
       "      <td>1.0</td>\n",
       "      <td>NaN</td>\n",
       "      <td>Sheet1</td>\n",
       "      <td>1</td>\n",
       "    </tr>\n",
       "    <tr>\n",
       "      <th>1</th>\n",
       "      <td>1</td>\n",
       "      <td>5</td>\n",
       "      <td>1</td>\n",
       "      <td>1000.0</td>\n",
       "      <td>990.0</td>\n",
       "      <td>0</td>\n",
       "      <td>2022-09-01</td>\n",
       "      <td>63</td>\n",
       "      <td>1vs5</td>\n",
       "      <td>NaN</td>\n",
       "      <td>10</td>\n",
       "      <td>1.0</td>\n",
       "      <td>NaN</td>\n",
       "      <td>Sheet1</td>\n",
       "      <td>1</td>\n",
       "    </tr>\n",
       "    <tr>\n",
       "      <th>2</th>\n",
       "      <td>2</td>\n",
       "      <td>2</td>\n",
       "      <td>6</td>\n",
       "      <td>1000.0</td>\n",
       "      <td>1010.0</td>\n",
       "      <td>1</td>\n",
       "      <td>2022-09-01</td>\n",
       "      <td>109</td>\n",
       "      <td>2vs6</td>\n",
       "      <td>NaN</td>\n",
       "      <td>12</td>\n",
       "      <td>1.0</td>\n",
       "      <td>0.0</td>\n",
       "      <td>Sheet1</td>\n",
       "      <td>1</td>\n",
       "    </tr>\n",
       "    <tr>\n",
       "      <th>3</th>\n",
       "      <td>2</td>\n",
       "      <td>6</td>\n",
       "      <td>2</td>\n",
       "      <td>1000.0</td>\n",
       "      <td>990.0</td>\n",
       "      <td>0</td>\n",
       "      <td>2022-09-01</td>\n",
       "      <td>109</td>\n",
       "      <td>2vs6</td>\n",
       "      <td>NaN</td>\n",
       "      <td>12</td>\n",
       "      <td>1.0</td>\n",
       "      <td>0.0</td>\n",
       "      <td>Sheet1</td>\n",
       "      <td>1</td>\n",
       "    </tr>\n",
       "    <tr>\n",
       "      <th>4</th>\n",
       "      <td>3</td>\n",
       "      <td>3</td>\n",
       "      <td>7</td>\n",
       "      <td>1000.0</td>\n",
       "      <td>1010.0</td>\n",
       "      <td>1</td>\n",
       "      <td>2022-09-01</td>\n",
       "      <td>37</td>\n",
       "      <td>3vs7</td>\n",
       "      <td>NaN</td>\n",
       "      <td>13</td>\n",
       "      <td>1.0</td>\n",
       "      <td>0.0</td>\n",
       "      <td>Sheet1</td>\n",
       "      <td>1</td>\n",
       "    </tr>\n",
       "  </tbody>\n",
       "</table>\n",
       "</div>"
      ],
      "text/plain": [
       "   total_match_number  subject_id  agent_id  original_elo_score  \\\n",
       "0                   1           1         5              1000.0   \n",
       "1                   1           5         1              1000.0   \n",
       "2                   2           2         6              1000.0   \n",
       "3                   2           6         2              1000.0   \n",
       "4                   3           3         7              1000.0   \n",
       "\n",
       "   updated_elo_score  win_draw_loss       date  left_number_of_spots match  \\\n",
       "0             1010.0              1 2022-09-01                    63  1vs5   \n",
       "1              990.0              0 2022-09-01                    63  1vs5   \n",
       "2             1010.0              1 2022-09-01                   109  2vs6   \n",
       "3              990.0              0 2022-09-01                   109  2vs6   \n",
       "4             1010.0              1 2022-09-01                    37  3vs7   \n",
       "\n",
       "  notes  right_number_of_spots  session_number  session_number_difference  \\\n",
       "0   NaN                     10             1.0                        NaN   \n",
       "1   NaN                     10             1.0                        NaN   \n",
       "2   NaN                     12             1.0                        0.0   \n",
       "3   NaN                     12             1.0                        0.0   \n",
       "4   NaN                     13             1.0                        0.0   \n",
       "\n",
       "     cage processed_cage_number  \n",
       "0  Sheet1                     1  \n",
       "1  Sheet1                     1  \n",
       "2  Sheet1                     1  \n",
       "3  Sheet1                     1  \n",
       "4  Sheet1                     1  "
      ]
     },
     "execution_count": 47,
     "metadata": {},
     "output_type": "execute_result"
    }
   ],
   "source": [
    "sheet_name_to_everything[key][\"elo_score_dataframe\"].head()"
   ]
  },
  {
   "cell_type": "code",
   "execution_count": 48,
   "id": "81c04a4c",
   "metadata": {},
   "outputs": [
    {
     "data": {
      "text/html": [
       "<div>\n",
       "<style scoped>\n",
       "    .dataframe tbody tr th:only-of-type {\n",
       "        vertical-align: middle;\n",
       "    }\n",
       "\n",
       "    .dataframe tbody tr th {\n",
       "        vertical-align: top;\n",
       "    }\n",
       "\n",
       "    .dataframe thead th {\n",
       "        text-align: right;\n",
       "    }\n",
       "</style>\n",
       "<table border=\"1\" class=\"dataframe\">\n",
       "  <thead>\n",
       "    <tr style=\"text-align: right;\">\n",
       "      <th></th>\n",
       "      <th>total_match_number</th>\n",
       "      <th>subject_id</th>\n",
       "      <th>agent_id</th>\n",
       "      <th>original_elo_score</th>\n",
       "      <th>updated_elo_score</th>\n",
       "      <th>win_draw_loss</th>\n",
       "      <th>date</th>\n",
       "      <th>left_number_of_spots</th>\n",
       "      <th>match</th>\n",
       "      <th>notes</th>\n",
       "      <th>right_number_of_spots</th>\n",
       "      <th>session_number</th>\n",
       "      <th>session_number_difference</th>\n",
       "      <th>cage</th>\n",
       "      <th>processed_cage_number</th>\n",
       "    </tr>\n",
       "  </thead>\n",
       "  <tbody>\n",
       "    <tr>\n",
       "      <th>27</th>\n",
       "      <td>14</td>\n",
       "      <td>6</td>\n",
       "      <td>2</td>\n",
       "      <td>991.7</td>\n",
       "      <td>982.2</td>\n",
       "      <td>0</td>\n",
       "      <td>2022-09-15</td>\n",
       "      <td>39</td>\n",
       "      <td>2vs6</td>\n",
       "      <td>6 has always peed around the same number, mayb...</td>\n",
       "      <td>7</td>\n",
       "      <td>4.0</td>\n",
       "      <td>0.0</td>\n",
       "      <td>Sheet1</td>\n",
       "      <td>1</td>\n",
       "    </tr>\n",
       "    <tr>\n",
       "      <th>28</th>\n",
       "      <td>15</td>\n",
       "      <td>7</td>\n",
       "      <td>3</td>\n",
       "      <td>991.7</td>\n",
       "      <td>1002.2</td>\n",
       "      <td>1</td>\n",
       "      <td>2022-09-15</td>\n",
       "      <td>6</td>\n",
       "      <td>3vs7</td>\n",
       "      <td>6 has always peed around the same number, mayb...</td>\n",
       "      <td>8</td>\n",
       "      <td>4.0</td>\n",
       "      <td>0.0</td>\n",
       "      <td>Sheet1</td>\n",
       "      <td>1</td>\n",
       "    </tr>\n",
       "    <tr>\n",
       "      <th>29</th>\n",
       "      <td>15</td>\n",
       "      <td>3</td>\n",
       "      <td>7</td>\n",
       "      <td>1008.3</td>\n",
       "      <td>997.8</td>\n",
       "      <td>0</td>\n",
       "      <td>2022-09-15</td>\n",
       "      <td>6</td>\n",
       "      <td>3vs7</td>\n",
       "      <td>6 has always peed around the same number, mayb...</td>\n",
       "      <td>8</td>\n",
       "      <td>4.0</td>\n",
       "      <td>0.0</td>\n",
       "      <td>Sheet1</td>\n",
       "      <td>1</td>\n",
       "    </tr>\n",
       "    <tr>\n",
       "      <th>30</th>\n",
       "      <td>16</td>\n",
       "      <td>8</td>\n",
       "      <td>4</td>\n",
       "      <td>1028.3</td>\n",
       "      <td>1036.7</td>\n",
       "      <td>1</td>\n",
       "      <td>2022-09-15</td>\n",
       "      <td>29</td>\n",
       "      <td>4vs8</td>\n",
       "      <td>8 has always been the winner in URM, only mice...</td>\n",
       "      <td>189</td>\n",
       "      <td>4.0</td>\n",
       "      <td>0.0</td>\n",
       "      <td>Sheet1</td>\n",
       "      <td>1</td>\n",
       "    </tr>\n",
       "    <tr>\n",
       "      <th>31</th>\n",
       "      <td>16</td>\n",
       "      <td>4</td>\n",
       "      <td>8</td>\n",
       "      <td>971.7</td>\n",
       "      <td>963.3</td>\n",
       "      <td>0</td>\n",
       "      <td>2022-09-15</td>\n",
       "      <td>29</td>\n",
       "      <td>4vs8</td>\n",
       "      <td>8 has always been the winner in URM, only mice...</td>\n",
       "      <td>189</td>\n",
       "      <td>4.0</td>\n",
       "      <td>0.0</td>\n",
       "      <td>Sheet1</td>\n",
       "      <td>1</td>\n",
       "    </tr>\n",
       "  </tbody>\n",
       "</table>\n",
       "</div>"
      ],
      "text/plain": [
       "    total_match_number  subject_id  agent_id  original_elo_score  \\\n",
       "27                  14           6         2               991.7   \n",
       "28                  15           7         3               991.7   \n",
       "29                  15           3         7              1008.3   \n",
       "30                  16           8         4              1028.3   \n",
       "31                  16           4         8               971.7   \n",
       "\n",
       "    updated_elo_score  win_draw_loss       date  left_number_of_spots match  \\\n",
       "27              982.2              0 2022-09-15                    39  2vs6   \n",
       "28             1002.2              1 2022-09-15                     6  3vs7   \n",
       "29              997.8              0 2022-09-15                     6  3vs7   \n",
       "30             1036.7              1 2022-09-15                    29  4vs8   \n",
       "31              963.3              0 2022-09-15                    29  4vs8   \n",
       "\n",
       "                                                notes  right_number_of_spots  \\\n",
       "27  6 has always peed around the same number, mayb...                      7   \n",
       "28  6 has always peed around the same number, mayb...                      8   \n",
       "29  6 has always peed around the same number, mayb...                      8   \n",
       "30  8 has always been the winner in URM, only mice...                    189   \n",
       "31  8 has always been the winner in URM, only mice...                    189   \n",
       "\n",
       "    session_number  session_number_difference    cage processed_cage_number  \n",
       "27             4.0                        0.0  Sheet1                     1  \n",
       "28             4.0                        0.0  Sheet1                     1  \n",
       "29             4.0                        0.0  Sheet1                     1  \n",
       "30             4.0                        0.0  Sheet1                     1  \n",
       "31             4.0                        0.0  Sheet1                     1  "
      ]
     },
     "execution_count": 48,
     "metadata": {},
     "output_type": "execute_result"
    }
   ],
   "source": [
    "sheet_name_to_everything[key][\"elo_score_dataframe\"].tail()"
   ]
  },
  {
   "cell_type": "markdown",
   "id": "e0232279",
   "metadata": {},
   "source": [
    "## Combining all the ELO Score dataframes into one"
   ]
  },
  {
   "cell_type": "code",
   "execution_count": 49,
   "id": "5385c018",
   "metadata": {},
   "outputs": [],
   "source": [
    "# Adding the name of the experiment\n",
    "for key, value in sheet_name_to_everything.items():\n",
    "    sheet_name_to_everything[key][\"elo_score_dataframe\"][\"experiment_type\"] = \"{}\".format(protocol_name)"
   ]
  },
  {
   "cell_type": "code",
   "execution_count": 50,
   "id": "bc444bb0",
   "metadata": {},
   "outputs": [],
   "source": [
    "# Putting all the dataframes into one list\n",
    "all_sheet_elo_scord_dataframe_list = []\n",
    "for key, value in sheet_name_to_everything.items():    \n",
    "    all_sheet_elo_scord_dataframe_list.append(sheet_name_to_everything[key][\"elo_score_dataframe\"])\n",
    "\n",
    "# Combining all the dataframes into one\n",
    "all_sheet_elo_scord_dataframe_combined = pd.concat(all_sheet_elo_scord_dataframe_list)"
   ]
  },
  {
   "cell_type": "code",
   "execution_count": 51,
   "id": "c7bab1a1",
   "metadata": {
    "scrolled": true
   },
   "outputs": [
    {
     "data": {
      "text/html": [
       "<div>\n",
       "<style scoped>\n",
       "    .dataframe tbody tr th:only-of-type {\n",
       "        vertical-align: middle;\n",
       "    }\n",
       "\n",
       "    .dataframe tbody tr th {\n",
       "        vertical-align: top;\n",
       "    }\n",
       "\n",
       "    .dataframe thead th {\n",
       "        text-align: right;\n",
       "    }\n",
       "</style>\n",
       "<table border=\"1\" class=\"dataframe\">\n",
       "  <thead>\n",
       "    <tr style=\"text-align: right;\">\n",
       "      <th></th>\n",
       "      <th>total_match_number</th>\n",
       "      <th>subject_id</th>\n",
       "      <th>agent_id</th>\n",
       "      <th>original_elo_score</th>\n",
       "      <th>updated_elo_score</th>\n",
       "      <th>win_draw_loss</th>\n",
       "      <th>date</th>\n",
       "      <th>left_number_of_spots</th>\n",
       "      <th>match</th>\n",
       "      <th>notes</th>\n",
       "      <th>right_number_of_spots</th>\n",
       "      <th>session_number</th>\n",
       "      <th>session_number_difference</th>\n",
       "      <th>cage</th>\n",
       "      <th>processed_cage_number</th>\n",
       "      <th>experiment_type</th>\n",
       "    </tr>\n",
       "  </thead>\n",
       "  <tbody>\n",
       "    <tr>\n",
       "      <th>0</th>\n",
       "      <td>1</td>\n",
       "      <td>1</td>\n",
       "      <td>5</td>\n",
       "      <td>1000.0</td>\n",
       "      <td>1010.0</td>\n",
       "      <td>1</td>\n",
       "      <td>2022-09-01</td>\n",
       "      <td>63</td>\n",
       "      <td>1vs5</td>\n",
       "      <td>NaN</td>\n",
       "      <td>10</td>\n",
       "      <td>1.0</td>\n",
       "      <td>NaN</td>\n",
       "      <td>Sheet1</td>\n",
       "      <td>1</td>\n",
       "      <td>urine_marking</td>\n",
       "    </tr>\n",
       "    <tr>\n",
       "      <th>1</th>\n",
       "      <td>1</td>\n",
       "      <td>5</td>\n",
       "      <td>1</td>\n",
       "      <td>1000.0</td>\n",
       "      <td>990.0</td>\n",
       "      <td>0</td>\n",
       "      <td>2022-09-01</td>\n",
       "      <td>63</td>\n",
       "      <td>1vs5</td>\n",
       "      <td>NaN</td>\n",
       "      <td>10</td>\n",
       "      <td>1.0</td>\n",
       "      <td>NaN</td>\n",
       "      <td>Sheet1</td>\n",
       "      <td>1</td>\n",
       "      <td>urine_marking</td>\n",
       "    </tr>\n",
       "    <tr>\n",
       "      <th>2</th>\n",
       "      <td>2</td>\n",
       "      <td>2</td>\n",
       "      <td>6</td>\n",
       "      <td>1000.0</td>\n",
       "      <td>1010.0</td>\n",
       "      <td>1</td>\n",
       "      <td>2022-09-01</td>\n",
       "      <td>109</td>\n",
       "      <td>2vs6</td>\n",
       "      <td>NaN</td>\n",
       "      <td>12</td>\n",
       "      <td>1.0</td>\n",
       "      <td>0.0</td>\n",
       "      <td>Sheet1</td>\n",
       "      <td>1</td>\n",
       "      <td>urine_marking</td>\n",
       "    </tr>\n",
       "    <tr>\n",
       "      <th>3</th>\n",
       "      <td>2</td>\n",
       "      <td>6</td>\n",
       "      <td>2</td>\n",
       "      <td>1000.0</td>\n",
       "      <td>990.0</td>\n",
       "      <td>0</td>\n",
       "      <td>2022-09-01</td>\n",
       "      <td>109</td>\n",
       "      <td>2vs6</td>\n",
       "      <td>NaN</td>\n",
       "      <td>12</td>\n",
       "      <td>1.0</td>\n",
       "      <td>0.0</td>\n",
       "      <td>Sheet1</td>\n",
       "      <td>1</td>\n",
       "      <td>urine_marking</td>\n",
       "    </tr>\n",
       "    <tr>\n",
       "      <th>4</th>\n",
       "      <td>3</td>\n",
       "      <td>3</td>\n",
       "      <td>7</td>\n",
       "      <td>1000.0</td>\n",
       "      <td>1010.0</td>\n",
       "      <td>1</td>\n",
       "      <td>2022-09-01</td>\n",
       "      <td>37</td>\n",
       "      <td>3vs7</td>\n",
       "      <td>NaN</td>\n",
       "      <td>13</td>\n",
       "      <td>1.0</td>\n",
       "      <td>0.0</td>\n",
       "      <td>Sheet1</td>\n",
       "      <td>1</td>\n",
       "      <td>urine_marking</td>\n",
       "    </tr>\n",
       "  </tbody>\n",
       "</table>\n",
       "</div>"
      ],
      "text/plain": [
       "   total_match_number  subject_id  agent_id  original_elo_score  \\\n",
       "0                   1           1         5              1000.0   \n",
       "1                   1           5         1              1000.0   \n",
       "2                   2           2         6              1000.0   \n",
       "3                   2           6         2              1000.0   \n",
       "4                   3           3         7              1000.0   \n",
       "\n",
       "   updated_elo_score  win_draw_loss       date  left_number_of_spots match  \\\n",
       "0             1010.0              1 2022-09-01                    63  1vs5   \n",
       "1              990.0              0 2022-09-01                    63  1vs5   \n",
       "2             1010.0              1 2022-09-01                   109  2vs6   \n",
       "3              990.0              0 2022-09-01                   109  2vs6   \n",
       "4             1010.0              1 2022-09-01                    37  3vs7   \n",
       "\n",
       "  notes  right_number_of_spots  session_number  session_number_difference  \\\n",
       "0   NaN                     10             1.0                        NaN   \n",
       "1   NaN                     10             1.0                        NaN   \n",
       "2   NaN                     12             1.0                        0.0   \n",
       "3   NaN                     12             1.0                        0.0   \n",
       "4   NaN                     13             1.0                        0.0   \n",
       "\n",
       "     cage processed_cage_number experiment_type  \n",
       "0  Sheet1                     1   urine_marking  \n",
       "1  Sheet1                     1   urine_marking  \n",
       "2  Sheet1                     1   urine_marking  \n",
       "3  Sheet1                     1   urine_marking  \n",
       "4  Sheet1                     1   urine_marking  "
      ]
     },
     "execution_count": 51,
     "metadata": {},
     "output_type": "execute_result"
    }
   ],
   "source": [
    "all_sheet_elo_scord_dataframe_combined.head()"
   ]
  },
  {
   "cell_type": "code",
   "execution_count": 52,
   "id": "53012f41",
   "metadata": {
    "scrolled": true
   },
   "outputs": [
    {
     "data": {
      "text/html": [
       "<div>\n",
       "<style scoped>\n",
       "    .dataframe tbody tr th:only-of-type {\n",
       "        vertical-align: middle;\n",
       "    }\n",
       "\n",
       "    .dataframe tbody tr th {\n",
       "        vertical-align: top;\n",
       "    }\n",
       "\n",
       "    .dataframe thead th {\n",
       "        text-align: right;\n",
       "    }\n",
       "</style>\n",
       "<table border=\"1\" class=\"dataframe\">\n",
       "  <thead>\n",
       "    <tr style=\"text-align: right;\">\n",
       "      <th></th>\n",
       "      <th>total_match_number</th>\n",
       "      <th>subject_id</th>\n",
       "      <th>agent_id</th>\n",
       "      <th>original_elo_score</th>\n",
       "      <th>updated_elo_score</th>\n",
       "      <th>win_draw_loss</th>\n",
       "      <th>date</th>\n",
       "      <th>left_number_of_spots</th>\n",
       "      <th>match</th>\n",
       "      <th>notes</th>\n",
       "      <th>right_number_of_spots</th>\n",
       "      <th>session_number</th>\n",
       "      <th>session_number_difference</th>\n",
       "      <th>cage</th>\n",
       "      <th>processed_cage_number</th>\n",
       "      <th>experiment_type</th>\n",
       "    </tr>\n",
       "  </thead>\n",
       "  <tbody>\n",
       "    <tr>\n",
       "      <th>27</th>\n",
       "      <td>14</td>\n",
       "      <td>6</td>\n",
       "      <td>2</td>\n",
       "      <td>991.7</td>\n",
       "      <td>982.2</td>\n",
       "      <td>0</td>\n",
       "      <td>2022-09-15</td>\n",
       "      <td>39</td>\n",
       "      <td>2vs6</td>\n",
       "      <td>6 has always peed around the same number, mayb...</td>\n",
       "      <td>7</td>\n",
       "      <td>4.0</td>\n",
       "      <td>0.0</td>\n",
       "      <td>Sheet1</td>\n",
       "      <td>1</td>\n",
       "      <td>urine_marking</td>\n",
       "    </tr>\n",
       "    <tr>\n",
       "      <th>28</th>\n",
       "      <td>15</td>\n",
       "      <td>7</td>\n",
       "      <td>3</td>\n",
       "      <td>991.7</td>\n",
       "      <td>1002.2</td>\n",
       "      <td>1</td>\n",
       "      <td>2022-09-15</td>\n",
       "      <td>6</td>\n",
       "      <td>3vs7</td>\n",
       "      <td>6 has always peed around the same number, mayb...</td>\n",
       "      <td>8</td>\n",
       "      <td>4.0</td>\n",
       "      <td>0.0</td>\n",
       "      <td>Sheet1</td>\n",
       "      <td>1</td>\n",
       "      <td>urine_marking</td>\n",
       "    </tr>\n",
       "    <tr>\n",
       "      <th>29</th>\n",
       "      <td>15</td>\n",
       "      <td>3</td>\n",
       "      <td>7</td>\n",
       "      <td>1008.3</td>\n",
       "      <td>997.8</td>\n",
       "      <td>0</td>\n",
       "      <td>2022-09-15</td>\n",
       "      <td>6</td>\n",
       "      <td>3vs7</td>\n",
       "      <td>6 has always peed around the same number, mayb...</td>\n",
       "      <td>8</td>\n",
       "      <td>4.0</td>\n",
       "      <td>0.0</td>\n",
       "      <td>Sheet1</td>\n",
       "      <td>1</td>\n",
       "      <td>urine_marking</td>\n",
       "    </tr>\n",
       "    <tr>\n",
       "      <th>30</th>\n",
       "      <td>16</td>\n",
       "      <td>8</td>\n",
       "      <td>4</td>\n",
       "      <td>1028.3</td>\n",
       "      <td>1036.7</td>\n",
       "      <td>1</td>\n",
       "      <td>2022-09-15</td>\n",
       "      <td>29</td>\n",
       "      <td>4vs8</td>\n",
       "      <td>8 has always been the winner in URM, only mice...</td>\n",
       "      <td>189</td>\n",
       "      <td>4.0</td>\n",
       "      <td>0.0</td>\n",
       "      <td>Sheet1</td>\n",
       "      <td>1</td>\n",
       "      <td>urine_marking</td>\n",
       "    </tr>\n",
       "    <tr>\n",
       "      <th>31</th>\n",
       "      <td>16</td>\n",
       "      <td>4</td>\n",
       "      <td>8</td>\n",
       "      <td>971.7</td>\n",
       "      <td>963.3</td>\n",
       "      <td>0</td>\n",
       "      <td>2022-09-15</td>\n",
       "      <td>29</td>\n",
       "      <td>4vs8</td>\n",
       "      <td>8 has always been the winner in URM, only mice...</td>\n",
       "      <td>189</td>\n",
       "      <td>4.0</td>\n",
       "      <td>0.0</td>\n",
       "      <td>Sheet1</td>\n",
       "      <td>1</td>\n",
       "      <td>urine_marking</td>\n",
       "    </tr>\n",
       "  </tbody>\n",
       "</table>\n",
       "</div>"
      ],
      "text/plain": [
       "    total_match_number  subject_id  agent_id  original_elo_score  \\\n",
       "27                  14           6         2               991.7   \n",
       "28                  15           7         3               991.7   \n",
       "29                  15           3         7              1008.3   \n",
       "30                  16           8         4              1028.3   \n",
       "31                  16           4         8               971.7   \n",
       "\n",
       "    updated_elo_score  win_draw_loss       date  left_number_of_spots match  \\\n",
       "27              982.2              0 2022-09-15                    39  2vs6   \n",
       "28             1002.2              1 2022-09-15                     6  3vs7   \n",
       "29              997.8              0 2022-09-15                     6  3vs7   \n",
       "30             1036.7              1 2022-09-15                    29  4vs8   \n",
       "31              963.3              0 2022-09-15                    29  4vs8   \n",
       "\n",
       "                                                notes  right_number_of_spots  \\\n",
       "27  6 has always peed around the same number, mayb...                      7   \n",
       "28  6 has always peed around the same number, mayb...                      8   \n",
       "29  6 has always peed around the same number, mayb...                      8   \n",
       "30  8 has always been the winner in URM, only mice...                    189   \n",
       "31  8 has always been the winner in URM, only mice...                    189   \n",
       "\n",
       "    session_number  session_number_difference    cage processed_cage_number  \\\n",
       "27             4.0                        0.0  Sheet1                     1   \n",
       "28             4.0                        0.0  Sheet1                     1   \n",
       "29             4.0                        0.0  Sheet1                     1   \n",
       "30             4.0                        0.0  Sheet1                     1   \n",
       "31             4.0                        0.0  Sheet1                     1   \n",
       "\n",
       "   experiment_type  \n",
       "27   urine_marking  \n",
       "28   urine_marking  \n",
       "29   urine_marking  \n",
       "30   urine_marking  \n",
       "31   urine_marking  "
      ]
     },
     "execution_count": 52,
     "metadata": {},
     "output_type": "execute_result"
    }
   ],
   "source": [
    "all_sheet_elo_scord_dataframe_combined.tail()"
   ]
  },
  {
   "cell_type": "code",
   "execution_count": 53,
   "id": "d0c4a43f",
   "metadata": {
    "scrolled": true
   },
   "outputs": [
    {
     "data": {
      "text/html": [
       "<div>\n",
       "<style scoped>\n",
       "    .dataframe tbody tr th:only-of-type {\n",
       "        vertical-align: middle;\n",
       "    }\n",
       "\n",
       "    .dataframe tbody tr th {\n",
       "        vertical-align: top;\n",
       "    }\n",
       "\n",
       "    .dataframe thead th {\n",
       "        text-align: right;\n",
       "    }\n",
       "</style>\n",
       "<table border=\"1\" class=\"dataframe\">\n",
       "  <thead>\n",
       "    <tr style=\"text-align: right;\">\n",
       "      <th></th>\n",
       "      <th></th>\n",
       "      <th>total_match_number</th>\n",
       "      <th>agent_id</th>\n",
       "      <th>original_elo_score</th>\n",
       "      <th>updated_elo_score</th>\n",
       "      <th>win_draw_loss</th>\n",
       "      <th>date</th>\n",
       "      <th>left_number_of_spots</th>\n",
       "      <th>match</th>\n",
       "      <th>notes</th>\n",
       "      <th>right_number_of_spots</th>\n",
       "      <th>session_number</th>\n",
       "      <th>session_number_difference</th>\n",
       "      <th>cage</th>\n",
       "      <th>experiment_type</th>\n",
       "    </tr>\n",
       "    <tr>\n",
       "      <th>subject_id</th>\n",
       "      <th>processed_cage_number</th>\n",
       "      <th></th>\n",
       "      <th></th>\n",
       "      <th></th>\n",
       "      <th></th>\n",
       "      <th></th>\n",
       "      <th></th>\n",
       "      <th></th>\n",
       "      <th></th>\n",
       "      <th></th>\n",
       "      <th></th>\n",
       "      <th></th>\n",
       "      <th></th>\n",
       "      <th></th>\n",
       "      <th></th>\n",
       "    </tr>\n",
       "  </thead>\n",
       "  <tbody>\n",
       "    <tr>\n",
       "      <th>1</th>\n",
       "      <th>1</th>\n",
       "      <td>4</td>\n",
       "      <td>4</td>\n",
       "      <td>4</td>\n",
       "      <td>4</td>\n",
       "      <td>4</td>\n",
       "      <td>4</td>\n",
       "      <td>4</td>\n",
       "      <td>4</td>\n",
       "      <td>1</td>\n",
       "      <td>4</td>\n",
       "      <td>4</td>\n",
       "      <td>3</td>\n",
       "      <td>4</td>\n",
       "      <td>4</td>\n",
       "    </tr>\n",
       "    <tr>\n",
       "      <th>2</th>\n",
       "      <th>1</th>\n",
       "      <td>4</td>\n",
       "      <td>4</td>\n",
       "      <td>4</td>\n",
       "      <td>4</td>\n",
       "      <td>4</td>\n",
       "      <td>4</td>\n",
       "      <td>4</td>\n",
       "      <td>4</td>\n",
       "      <td>1</td>\n",
       "      <td>4</td>\n",
       "      <td>4</td>\n",
       "      <td>4</td>\n",
       "      <td>4</td>\n",
       "      <td>4</td>\n",
       "    </tr>\n",
       "    <tr>\n",
       "      <th>3</th>\n",
       "      <th>1</th>\n",
       "      <td>4</td>\n",
       "      <td>4</td>\n",
       "      <td>4</td>\n",
       "      <td>4</td>\n",
       "      <td>4</td>\n",
       "      <td>4</td>\n",
       "      <td>4</td>\n",
       "      <td>4</td>\n",
       "      <td>1</td>\n",
       "      <td>4</td>\n",
       "      <td>4</td>\n",
       "      <td>4</td>\n",
       "      <td>4</td>\n",
       "      <td>4</td>\n",
       "    </tr>\n",
       "    <tr>\n",
       "      <th>4</th>\n",
       "      <th>1</th>\n",
       "      <td>4</td>\n",
       "      <td>4</td>\n",
       "      <td>4</td>\n",
       "      <td>4</td>\n",
       "      <td>4</td>\n",
       "      <td>4</td>\n",
       "      <td>4</td>\n",
       "      <td>4</td>\n",
       "      <td>1</td>\n",
       "      <td>4</td>\n",
       "      <td>4</td>\n",
       "      <td>4</td>\n",
       "      <td>4</td>\n",
       "      <td>4</td>\n",
       "    </tr>\n",
       "    <tr>\n",
       "      <th>5</th>\n",
       "      <th>1</th>\n",
       "      <td>4</td>\n",
       "      <td>4</td>\n",
       "      <td>4</td>\n",
       "      <td>4</td>\n",
       "      <td>4</td>\n",
       "      <td>4</td>\n",
       "      <td>4</td>\n",
       "      <td>4</td>\n",
       "      <td>1</td>\n",
       "      <td>4</td>\n",
       "      <td>4</td>\n",
       "      <td>3</td>\n",
       "      <td>4</td>\n",
       "      <td>4</td>\n",
       "    </tr>\n",
       "    <tr>\n",
       "      <th>6</th>\n",
       "      <th>1</th>\n",
       "      <td>4</td>\n",
       "      <td>4</td>\n",
       "      <td>4</td>\n",
       "      <td>4</td>\n",
       "      <td>4</td>\n",
       "      <td>4</td>\n",
       "      <td>4</td>\n",
       "      <td>4</td>\n",
       "      <td>1</td>\n",
       "      <td>4</td>\n",
       "      <td>4</td>\n",
       "      <td>4</td>\n",
       "      <td>4</td>\n",
       "      <td>4</td>\n",
       "    </tr>\n",
       "    <tr>\n",
       "      <th>7</th>\n",
       "      <th>1</th>\n",
       "      <td>4</td>\n",
       "      <td>4</td>\n",
       "      <td>4</td>\n",
       "      <td>4</td>\n",
       "      <td>4</td>\n",
       "      <td>4</td>\n",
       "      <td>4</td>\n",
       "      <td>4</td>\n",
       "      <td>1</td>\n",
       "      <td>4</td>\n",
       "      <td>4</td>\n",
       "      <td>4</td>\n",
       "      <td>4</td>\n",
       "      <td>4</td>\n",
       "    </tr>\n",
       "    <tr>\n",
       "      <th>8</th>\n",
       "      <th>1</th>\n",
       "      <td>4</td>\n",
       "      <td>4</td>\n",
       "      <td>4</td>\n",
       "      <td>4</td>\n",
       "      <td>4</td>\n",
       "      <td>4</td>\n",
       "      <td>4</td>\n",
       "      <td>4</td>\n",
       "      <td>1</td>\n",
       "      <td>4</td>\n",
       "      <td>4</td>\n",
       "      <td>4</td>\n",
       "      <td>4</td>\n",
       "      <td>4</td>\n",
       "    </tr>\n",
       "  </tbody>\n",
       "</table>\n",
       "</div>"
      ],
      "text/plain": [
       "                                  total_match_number  agent_id  \\\n",
       "subject_id processed_cage_number                                 \n",
       "1          1                                       4         4   \n",
       "2          1                                       4         4   \n",
       "3          1                                       4         4   \n",
       "4          1                                       4         4   \n",
       "5          1                                       4         4   \n",
       "6          1                                       4         4   \n",
       "7          1                                       4         4   \n",
       "8          1                                       4         4   \n",
       "\n",
       "                                  original_elo_score  updated_elo_score  \\\n",
       "subject_id processed_cage_number                                          \n",
       "1          1                                       4                  4   \n",
       "2          1                                       4                  4   \n",
       "3          1                                       4                  4   \n",
       "4          1                                       4                  4   \n",
       "5          1                                       4                  4   \n",
       "6          1                                       4                  4   \n",
       "7          1                                       4                  4   \n",
       "8          1                                       4                  4   \n",
       "\n",
       "                                  win_draw_loss  date  left_number_of_spots  \\\n",
       "subject_id processed_cage_number                                              \n",
       "1          1                                  4     4                     4   \n",
       "2          1                                  4     4                     4   \n",
       "3          1                                  4     4                     4   \n",
       "4          1                                  4     4                     4   \n",
       "5          1                                  4     4                     4   \n",
       "6          1                                  4     4                     4   \n",
       "7          1                                  4     4                     4   \n",
       "8          1                                  4     4                     4   \n",
       "\n",
       "                                  match  notes  right_number_of_spots  \\\n",
       "subject_id processed_cage_number                                        \n",
       "1          1                          4      1                      4   \n",
       "2          1                          4      1                      4   \n",
       "3          1                          4      1                      4   \n",
       "4          1                          4      1                      4   \n",
       "5          1                          4      1                      4   \n",
       "6          1                          4      1                      4   \n",
       "7          1                          4      1                      4   \n",
       "8          1                          4      1                      4   \n",
       "\n",
       "                                  session_number  session_number_difference  \\\n",
       "subject_id processed_cage_number                                              \n",
       "1          1                                   4                          3   \n",
       "2          1                                   4                          4   \n",
       "3          1                                   4                          4   \n",
       "4          1                                   4                          4   \n",
       "5          1                                   4                          3   \n",
       "6          1                                   4                          4   \n",
       "7          1                                   4                          4   \n",
       "8          1                                   4                          4   \n",
       "\n",
       "                                  cage  experiment_type  \n",
       "subject_id processed_cage_number                         \n",
       "1          1                         4                4  \n",
       "2          1                         4                4  \n",
       "3          1                         4                4  \n",
       "4          1                         4                4  \n",
       "5          1                         4                4  \n",
       "6          1                         4                4  \n",
       "7          1                         4                4  \n",
       "8          1                         4                4  "
      ]
     },
     "execution_count": 53,
     "metadata": {},
     "output_type": "execute_result"
    }
   ],
   "source": [
    "all_sheet_elo_scord_dataframe_combined.groupby(['subject_id','processed_cage_number']).count()"
   ]
  },
  {
   "cell_type": "markdown",
   "id": "85b422ae",
   "metadata": {},
   "source": [
    "## Creating a dataframe with only the final ELO score for each subject"
   ]
  },
  {
   "cell_type": "code",
   "execution_count": 54,
   "id": "059fb549",
   "metadata": {},
   "outputs": [],
   "source": [
    "# Checking to see which cage and subject combination has more than one row\n",
    "all_sheet_elo_scord_dataframe_groupby = all_sheet_elo_scord_dataframe_combined.groupby(['subject_id','processed_cage_number']).size().reset_index()\n",
    "all_sheet_elo_scord_dataframe_groupby = all_sheet_elo_scord_dataframe_groupby[all_sheet_elo_scord_dataframe_groupby[0] >= 1]\n",
    "\n",
    "# Going through each combination and saving the combination to a dictionary\n",
    "index_to_subject_id_and_processed_cage_number = defaultdict(dict)\n",
    "for index, row in all_sheet_elo_scord_dataframe_groupby.iterrows():\n",
    "    index_to_subject_id_and_processed_cage_number[index]['subject_id'] = row['subject_id']\n",
    "    index_to_subject_id_and_processed_cage_number[index]['processed_cage_number'] = row['processed_cage_number']\n"
   ]
  },
  {
   "cell_type": "code",
   "execution_count": 55,
   "id": "925f4ba9",
   "metadata": {
    "scrolled": true
   },
   "outputs": [
    {
     "data": {
      "text/plain": [
       "defaultdict(dict,\n",
       "            {0: {'subject_id': 1, 'processed_cage_number': '1'},\n",
       "             1: {'subject_id': 2, 'processed_cage_number': '1'},\n",
       "             2: {'subject_id': 3, 'processed_cage_number': '1'},\n",
       "             3: {'subject_id': 4, 'processed_cage_number': '1'},\n",
       "             4: {'subject_id': 5, 'processed_cage_number': '1'},\n",
       "             5: {'subject_id': 6, 'processed_cage_number': '1'},\n",
       "             6: {'subject_id': 7, 'processed_cage_number': '1'},\n",
       "             7: {'subject_id': 8, 'processed_cage_number': '1'}})"
      ]
     },
     "execution_count": 55,
     "metadata": {},
     "output_type": "execute_result"
    }
   ],
   "source": [
    "index_to_subject_id_and_processed_cage_number"
   ]
  },
  {
   "cell_type": "markdown",
   "id": "e6d54e48",
   "metadata": {},
   "source": [
    "- Getting the final ELO score for each cage and subject combination"
   ]
  },
  {
   "cell_type": "code",
   "execution_count": 56,
   "id": "38ffce8b",
   "metadata": {
    "scrolled": true
   },
   "outputs": [],
   "source": [
    "id_to_final_elo_score_dict = defaultdict(dict)\n",
    "for index, (key, value) in enumerate(index_to_subject_id_and_processed_cage_number.items()):\n",
    "    # The ELO score dataframe for each cage and subject combination\n",
    "    per_subject_dataframe = all_sheet_elo_scord_dataframe_combined[(all_sheet_elo_scord_dataframe_combined[\"subject_id\"] == value[\"subject_id\"]) & (all_sheet_elo_scord_dataframe_combined[\"processed_cage_number\"] == value[\"processed_cage_number\"])]\n",
    "    # Getting the final ELO score for each combination\n",
    "    id_to_final_elo_score_dict[index][\"processed_cage_number\"] = value[\"processed_cage_number\"]\n",
    "    id_to_final_elo_score_dict[index][\"subject_id\"] = value[\"subject_id\"]\n",
    "    id_to_final_elo_score_dict[index][\"final_elo_score\"] = per_subject_dataframe.iloc[-1][\"updated_elo_score\"]"
   ]
  },
  {
   "cell_type": "code",
   "execution_count": 57,
   "id": "1a40e8d6",
   "metadata": {},
   "outputs": [
    {
     "data": {
      "text/plain": [
       "defaultdict(dict,\n",
       "            {0: {'processed_cage_number': '1',\n",
       "              'subject_id': 1,\n",
       "              'final_elo_score': 1016.7},\n",
       "             1: {'processed_cage_number': '1',\n",
       "              'subject_id': 2,\n",
       "              'final_elo_score': 1017.8},\n",
       "             2: {'processed_cage_number': '1',\n",
       "              'subject_id': 3,\n",
       "              'final_elo_score': 997.8},\n",
       "             3: {'processed_cage_number': '1',\n",
       "              'subject_id': 4,\n",
       "              'final_elo_score': 963.3},\n",
       "             4: {'processed_cage_number': '1',\n",
       "              'subject_id': 5,\n",
       "              'final_elo_score': 983.3},\n",
       "             5: {'processed_cage_number': '1',\n",
       "              'subject_id': 6,\n",
       "              'final_elo_score': 982.2},\n",
       "             6: {'processed_cage_number': '1',\n",
       "              'subject_id': 7,\n",
       "              'final_elo_score': 1002.2},\n",
       "             7: {'processed_cage_number': '1',\n",
       "              'subject_id': 8,\n",
       "              'final_elo_score': 1036.7}})"
      ]
     },
     "execution_count": 57,
     "metadata": {},
     "output_type": "execute_result"
    }
   ],
   "source": [
    "id_to_final_elo_score_dict"
   ]
  },
  {
   "cell_type": "code",
   "execution_count": 58,
   "id": "67d194b4",
   "metadata": {},
   "outputs": [],
   "source": [
    "# Making a dataframe based on the dictionary\n",
    "id_to_final_elo_score_dataframe = pd.DataFrame.from_dict(id_to_final_elo_score_dict, orient=\"index\")\n",
    "id_to_final_elo_score_dataframe[\"experiment_type\"] = \"{}\".format(protocol_name)"
   ]
  },
  {
   "cell_type": "code",
   "execution_count": 59,
   "id": "9b169b88",
   "metadata": {},
   "outputs": [
    {
     "data": {
      "text/html": [
       "<div>\n",
       "<style scoped>\n",
       "    .dataframe tbody tr th:only-of-type {\n",
       "        vertical-align: middle;\n",
       "    }\n",
       "\n",
       "    .dataframe tbody tr th {\n",
       "        vertical-align: top;\n",
       "    }\n",
       "\n",
       "    .dataframe thead th {\n",
       "        text-align: right;\n",
       "    }\n",
       "</style>\n",
       "<table border=\"1\" class=\"dataframe\">\n",
       "  <thead>\n",
       "    <tr style=\"text-align: right;\">\n",
       "      <th></th>\n",
       "      <th>processed_cage_number</th>\n",
       "      <th>subject_id</th>\n",
       "      <th>final_elo_score</th>\n",
       "      <th>experiment_type</th>\n",
       "    </tr>\n",
       "  </thead>\n",
       "  <tbody>\n",
       "    <tr>\n",
       "      <th>0</th>\n",
       "      <td>1</td>\n",
       "      <td>1</td>\n",
       "      <td>1016.7</td>\n",
       "      <td>urine_marking</td>\n",
       "    </tr>\n",
       "    <tr>\n",
       "      <th>1</th>\n",
       "      <td>1</td>\n",
       "      <td>2</td>\n",
       "      <td>1017.8</td>\n",
       "      <td>urine_marking</td>\n",
       "    </tr>\n",
       "    <tr>\n",
       "      <th>2</th>\n",
       "      <td>1</td>\n",
       "      <td>3</td>\n",
       "      <td>997.8</td>\n",
       "      <td>urine_marking</td>\n",
       "    </tr>\n",
       "    <tr>\n",
       "      <th>3</th>\n",
       "      <td>1</td>\n",
       "      <td>4</td>\n",
       "      <td>963.3</td>\n",
       "      <td>urine_marking</td>\n",
       "    </tr>\n",
       "    <tr>\n",
       "      <th>4</th>\n",
       "      <td>1</td>\n",
       "      <td>5</td>\n",
       "      <td>983.3</td>\n",
       "      <td>urine_marking</td>\n",
       "    </tr>\n",
       "  </tbody>\n",
       "</table>\n",
       "</div>"
      ],
      "text/plain": [
       "  processed_cage_number  subject_id  final_elo_score experiment_type\n",
       "0                     1           1           1016.7   urine_marking\n",
       "1                     1           2           1017.8   urine_marking\n",
       "2                     1           3            997.8   urine_marking\n",
       "3                     1           4            963.3   urine_marking\n",
       "4                     1           5            983.3   urine_marking"
      ]
     },
     "execution_count": 59,
     "metadata": {},
     "output_type": "execute_result"
    }
   ],
   "source": [
    "id_to_final_elo_score_dataframe.head()"
   ]
  },
  {
   "cell_type": "markdown",
   "id": "37d31b43",
   "metadata": {},
   "source": [
    "# Making plots for all sheets"
   ]
  },
  {
   "cell_type": "markdown",
   "id": "7d5ca831",
   "metadata": {},
   "source": [
    "- Getting the dates the files were being recorded to use for the file name"
   ]
  },
  {
   "cell_type": "code",
   "execution_count": 60,
   "id": "ea99445b",
   "metadata": {
    "scrolled": false
   },
   "outputs": [
    {
     "data": {
      "text/html": [
       "<div>\n",
       "<style scoped>\n",
       "    .dataframe tbody tr th:only-of-type {\n",
       "        vertical-align: middle;\n",
       "    }\n",
       "\n",
       "    .dataframe tbody tr th {\n",
       "        vertical-align: top;\n",
       "    }\n",
       "\n",
       "    .dataframe thead th {\n",
       "        text-align: right;\n",
       "    }\n",
       "</style>\n",
       "<table border=\"1\" class=\"dataframe\">\n",
       "  <thead>\n",
       "    <tr style=\"text-align: right;\">\n",
       "      <th></th>\n",
       "      <th>total_match_number</th>\n",
       "      <th>subject_id</th>\n",
       "      <th>agent_id</th>\n",
       "      <th>original_elo_score</th>\n",
       "      <th>updated_elo_score</th>\n",
       "      <th>win_draw_loss</th>\n",
       "      <th>date</th>\n",
       "      <th>left_number_of_spots</th>\n",
       "      <th>match</th>\n",
       "      <th>notes</th>\n",
       "      <th>right_number_of_spots</th>\n",
       "      <th>session_number</th>\n",
       "      <th>session_number_difference</th>\n",
       "      <th>cage</th>\n",
       "      <th>processed_cage_number</th>\n",
       "      <th>experiment_type</th>\n",
       "    </tr>\n",
       "  </thead>\n",
       "  <tbody>\n",
       "    <tr>\n",
       "      <th>0</th>\n",
       "      <td>1</td>\n",
       "      <td>1</td>\n",
       "      <td>5</td>\n",
       "      <td>1000.0</td>\n",
       "      <td>1010.0</td>\n",
       "      <td>1</td>\n",
       "      <td>2022-09-01</td>\n",
       "      <td>63</td>\n",
       "      <td>1vs5</td>\n",
       "      <td>NaN</td>\n",
       "      <td>10</td>\n",
       "      <td>1.0</td>\n",
       "      <td>NaN</td>\n",
       "      <td>Sheet1</td>\n",
       "      <td>1</td>\n",
       "      <td>urine_marking</td>\n",
       "    </tr>\n",
       "    <tr>\n",
       "      <th>1</th>\n",
       "      <td>1</td>\n",
       "      <td>5</td>\n",
       "      <td>1</td>\n",
       "      <td>1000.0</td>\n",
       "      <td>990.0</td>\n",
       "      <td>0</td>\n",
       "      <td>2022-09-01</td>\n",
       "      <td>63</td>\n",
       "      <td>1vs5</td>\n",
       "      <td>NaN</td>\n",
       "      <td>10</td>\n",
       "      <td>1.0</td>\n",
       "      <td>NaN</td>\n",
       "      <td>Sheet1</td>\n",
       "      <td>1</td>\n",
       "      <td>urine_marking</td>\n",
       "    </tr>\n",
       "    <tr>\n",
       "      <th>2</th>\n",
       "      <td>2</td>\n",
       "      <td>2</td>\n",
       "      <td>6</td>\n",
       "      <td>1000.0</td>\n",
       "      <td>1010.0</td>\n",
       "      <td>1</td>\n",
       "      <td>2022-09-01</td>\n",
       "      <td>109</td>\n",
       "      <td>2vs6</td>\n",
       "      <td>NaN</td>\n",
       "      <td>12</td>\n",
       "      <td>1.0</td>\n",
       "      <td>0.0</td>\n",
       "      <td>Sheet1</td>\n",
       "      <td>1</td>\n",
       "      <td>urine_marking</td>\n",
       "    </tr>\n",
       "    <tr>\n",
       "      <th>3</th>\n",
       "      <td>2</td>\n",
       "      <td>6</td>\n",
       "      <td>2</td>\n",
       "      <td>1000.0</td>\n",
       "      <td>990.0</td>\n",
       "      <td>0</td>\n",
       "      <td>2022-09-01</td>\n",
       "      <td>109</td>\n",
       "      <td>2vs6</td>\n",
       "      <td>NaN</td>\n",
       "      <td>12</td>\n",
       "      <td>1.0</td>\n",
       "      <td>0.0</td>\n",
       "      <td>Sheet1</td>\n",
       "      <td>1</td>\n",
       "      <td>urine_marking</td>\n",
       "    </tr>\n",
       "    <tr>\n",
       "      <th>4</th>\n",
       "      <td>3</td>\n",
       "      <td>3</td>\n",
       "      <td>7</td>\n",
       "      <td>1000.0</td>\n",
       "      <td>1010.0</td>\n",
       "      <td>1</td>\n",
       "      <td>2022-09-01</td>\n",
       "      <td>37</td>\n",
       "      <td>3vs7</td>\n",
       "      <td>NaN</td>\n",
       "      <td>13</td>\n",
       "      <td>1.0</td>\n",
       "      <td>0.0</td>\n",
       "      <td>Sheet1</td>\n",
       "      <td>1</td>\n",
       "      <td>urine_marking</td>\n",
       "    </tr>\n",
       "  </tbody>\n",
       "</table>\n",
       "</div>"
      ],
      "text/plain": [
       "   total_match_number  subject_id  agent_id  original_elo_score  \\\n",
       "0                   1           1         5              1000.0   \n",
       "1                   1           5         1              1000.0   \n",
       "2                   2           2         6              1000.0   \n",
       "3                   2           6         2              1000.0   \n",
       "4                   3           3         7              1000.0   \n",
       "\n",
       "   updated_elo_score  win_draw_loss       date  left_number_of_spots match  \\\n",
       "0             1010.0              1 2022-09-01                    63  1vs5   \n",
       "1              990.0              0 2022-09-01                    63  1vs5   \n",
       "2             1010.0              1 2022-09-01                   109  2vs6   \n",
       "3              990.0              0 2022-09-01                   109  2vs6   \n",
       "4             1010.0              1 2022-09-01                    37  3vs7   \n",
       "\n",
       "  notes  right_number_of_spots  session_number  session_number_difference  \\\n",
       "0   NaN                     10             1.0                        NaN   \n",
       "1   NaN                     10             1.0                        NaN   \n",
       "2   NaN                     12             1.0                        0.0   \n",
       "3   NaN                     12             1.0                        0.0   \n",
       "4   NaN                     13             1.0                        0.0   \n",
       "\n",
       "     cage processed_cage_number experiment_type  \n",
       "0  Sheet1                     1   urine_marking  \n",
       "1  Sheet1                     1   urine_marking  \n",
       "2  Sheet1                     1   urine_marking  \n",
       "3  Sheet1                     1   urine_marking  \n",
       "4  Sheet1                     1   urine_marking  "
      ]
     },
     "execution_count": 60,
     "metadata": {},
     "output_type": "execute_result"
    }
   ],
   "source": [
    "all_sheet_elo_scord_dataframe_combined.head()"
   ]
  },
  {
   "cell_type": "code",
   "execution_count": 61,
   "id": "b6d015a1",
   "metadata": {
    "scrolled": true
   },
   "outputs": [
    {
     "data": {
      "text/html": [
       "<div>\n",
       "<style scoped>\n",
       "    .dataframe tbody tr th:only-of-type {\n",
       "        vertical-align: middle;\n",
       "    }\n",
       "\n",
       "    .dataframe tbody tr th {\n",
       "        vertical-align: top;\n",
       "    }\n",
       "\n",
       "    .dataframe thead th {\n",
       "        text-align: right;\n",
       "    }\n",
       "</style>\n",
       "<table border=\"1\" class=\"dataframe\">\n",
       "  <thead>\n",
       "    <tr style=\"text-align: right;\">\n",
       "      <th></th>\n",
       "      <th>total_match_number</th>\n",
       "      <th>subject_id</th>\n",
       "      <th>agent_id</th>\n",
       "      <th>original_elo_score</th>\n",
       "      <th>updated_elo_score</th>\n",
       "      <th>win_draw_loss</th>\n",
       "      <th>date</th>\n",
       "      <th>left_number_of_spots</th>\n",
       "      <th>match</th>\n",
       "      <th>notes</th>\n",
       "      <th>right_number_of_spots</th>\n",
       "      <th>session_number</th>\n",
       "      <th>session_number_difference</th>\n",
       "      <th>cage</th>\n",
       "      <th>processed_cage_number</th>\n",
       "      <th>experiment_type</th>\n",
       "    </tr>\n",
       "  </thead>\n",
       "  <tbody>\n",
       "    <tr>\n",
       "      <th>27</th>\n",
       "      <td>14</td>\n",
       "      <td>6</td>\n",
       "      <td>2</td>\n",
       "      <td>991.7</td>\n",
       "      <td>982.2</td>\n",
       "      <td>0</td>\n",
       "      <td>2022-09-15</td>\n",
       "      <td>39</td>\n",
       "      <td>2vs6</td>\n",
       "      <td>6 has always peed around the same number, mayb...</td>\n",
       "      <td>7</td>\n",
       "      <td>4.0</td>\n",
       "      <td>0.0</td>\n",
       "      <td>Sheet1</td>\n",
       "      <td>1</td>\n",
       "      <td>urine_marking</td>\n",
       "    </tr>\n",
       "    <tr>\n",
       "      <th>28</th>\n",
       "      <td>15</td>\n",
       "      <td>7</td>\n",
       "      <td>3</td>\n",
       "      <td>991.7</td>\n",
       "      <td>1002.2</td>\n",
       "      <td>1</td>\n",
       "      <td>2022-09-15</td>\n",
       "      <td>6</td>\n",
       "      <td>3vs7</td>\n",
       "      <td>6 has always peed around the same number, mayb...</td>\n",
       "      <td>8</td>\n",
       "      <td>4.0</td>\n",
       "      <td>0.0</td>\n",
       "      <td>Sheet1</td>\n",
       "      <td>1</td>\n",
       "      <td>urine_marking</td>\n",
       "    </tr>\n",
       "    <tr>\n",
       "      <th>29</th>\n",
       "      <td>15</td>\n",
       "      <td>3</td>\n",
       "      <td>7</td>\n",
       "      <td>1008.3</td>\n",
       "      <td>997.8</td>\n",
       "      <td>0</td>\n",
       "      <td>2022-09-15</td>\n",
       "      <td>6</td>\n",
       "      <td>3vs7</td>\n",
       "      <td>6 has always peed around the same number, mayb...</td>\n",
       "      <td>8</td>\n",
       "      <td>4.0</td>\n",
       "      <td>0.0</td>\n",
       "      <td>Sheet1</td>\n",
       "      <td>1</td>\n",
       "      <td>urine_marking</td>\n",
       "    </tr>\n",
       "    <tr>\n",
       "      <th>30</th>\n",
       "      <td>16</td>\n",
       "      <td>8</td>\n",
       "      <td>4</td>\n",
       "      <td>1028.3</td>\n",
       "      <td>1036.7</td>\n",
       "      <td>1</td>\n",
       "      <td>2022-09-15</td>\n",
       "      <td>29</td>\n",
       "      <td>4vs8</td>\n",
       "      <td>8 has always been the winner in URM, only mice...</td>\n",
       "      <td>189</td>\n",
       "      <td>4.0</td>\n",
       "      <td>0.0</td>\n",
       "      <td>Sheet1</td>\n",
       "      <td>1</td>\n",
       "      <td>urine_marking</td>\n",
       "    </tr>\n",
       "    <tr>\n",
       "      <th>31</th>\n",
       "      <td>16</td>\n",
       "      <td>4</td>\n",
       "      <td>8</td>\n",
       "      <td>971.7</td>\n",
       "      <td>963.3</td>\n",
       "      <td>0</td>\n",
       "      <td>2022-09-15</td>\n",
       "      <td>29</td>\n",
       "      <td>4vs8</td>\n",
       "      <td>8 has always been the winner in URM, only mice...</td>\n",
       "      <td>189</td>\n",
       "      <td>4.0</td>\n",
       "      <td>0.0</td>\n",
       "      <td>Sheet1</td>\n",
       "      <td>1</td>\n",
       "      <td>urine_marking</td>\n",
       "    </tr>\n",
       "  </tbody>\n",
       "</table>\n",
       "</div>"
      ],
      "text/plain": [
       "    total_match_number  subject_id  agent_id  original_elo_score  \\\n",
       "27                  14           6         2               991.7   \n",
       "28                  15           7         3               991.7   \n",
       "29                  15           3         7              1008.3   \n",
       "30                  16           8         4              1028.3   \n",
       "31                  16           4         8               971.7   \n",
       "\n",
       "    updated_elo_score  win_draw_loss       date  left_number_of_spots match  \\\n",
       "27              982.2              0 2022-09-15                    39  2vs6   \n",
       "28             1002.2              1 2022-09-15                     6  3vs7   \n",
       "29              997.8              0 2022-09-15                     6  3vs7   \n",
       "30             1036.7              1 2022-09-15                    29  4vs8   \n",
       "31              963.3              0 2022-09-15                    29  4vs8   \n",
       "\n",
       "                                                notes  right_number_of_spots  \\\n",
       "27  6 has always peed around the same number, mayb...                      7   \n",
       "28  6 has always peed around the same number, mayb...                      8   \n",
       "29  6 has always peed around the same number, mayb...                      8   \n",
       "30  8 has always been the winner in URM, only mice...                    189   \n",
       "31  8 has always been the winner in URM, only mice...                    189   \n",
       "\n",
       "    session_number  session_number_difference    cage processed_cage_number  \\\n",
       "27             4.0                        0.0  Sheet1                     1   \n",
       "28             4.0                        0.0  Sheet1                     1   \n",
       "29             4.0                        0.0  Sheet1                     1   \n",
       "30             4.0                        0.0  Sheet1                     1   \n",
       "31             4.0                        0.0  Sheet1                     1   \n",
       "\n",
       "   experiment_type  \n",
       "27   urine_marking  \n",
       "28   urine_marking  \n",
       "29   urine_marking  \n",
       "30   urine_marking  \n",
       "31   urine_marking  "
      ]
     },
     "execution_count": 61,
     "metadata": {},
     "output_type": "execute_result"
    }
   ],
   "source": [
    "all_sheet_elo_scord_dataframe_combined.tail()"
   ]
  },
  {
   "cell_type": "markdown",
   "id": "4b5ff092",
   "metadata": {},
   "source": [
    "- Getting the earliest and the latest dates for all the recordings"
   ]
  },
  {
   "cell_type": "code",
   "execution_count": 62,
   "id": "838db3a3",
   "metadata": {},
   "outputs": [],
   "source": [
    "all_earlist_dates = []\n",
    "all_latest_dates = []\n",
    "for key, value in sheet_name_to_everything.items():\n",
    "    # Getting all the earliest dates for each sheet\n",
    "    all_earlist_dates.append(sheet_name_to_everything[key][\"elo_score_dataframe\"][sheet_name_to_everything[key][\"session_divider_column\"]].min())\n",
    "    # Getting all the latest dates for each sheet\n",
    "    all_latest_dates.append(sheet_name_to_everything[key][\"elo_score_dataframe\"][sheet_name_to_everything[key][\"session_divider_column\"]].max())"
   ]
  },
  {
   "cell_type": "code",
   "execution_count": 63,
   "id": "8ef4914a",
   "metadata": {},
   "outputs": [
    {
     "data": {
      "text/plain": [
       "[Timestamp('2022-09-01 00:00:00')]"
      ]
     },
     "execution_count": 63,
     "metadata": {},
     "output_type": "execute_result"
    }
   ],
   "source": [
    "all_earlist_dates"
   ]
  },
  {
   "cell_type": "code",
   "execution_count": 64,
   "id": "924d9964",
   "metadata": {},
   "outputs": [
    {
     "data": {
      "text/plain": [
       "Timestamp('2022-09-01 00:00:00')"
      ]
     },
     "execution_count": 64,
     "metadata": {},
     "output_type": "execute_result"
    }
   ],
   "source": [
    "min(all_earlist_dates)"
   ]
  },
  {
   "cell_type": "code",
   "execution_count": 65,
   "id": "2979a5ea",
   "metadata": {},
   "outputs": [
    {
     "data": {
      "text/plain": [
       "[Timestamp('2022-09-15 00:00:00')]"
      ]
     },
     "execution_count": 65,
     "metadata": {},
     "output_type": "execute_result"
    }
   ],
   "source": [
    "all_latest_dates"
   ]
  },
  {
   "cell_type": "code",
   "execution_count": 66,
   "id": "cecad78c",
   "metadata": {},
   "outputs": [
    {
     "data": {
      "text/plain": [
       "Timestamp('2022-09-15 00:00:00')"
      ]
     },
     "execution_count": 66,
     "metadata": {},
     "output_type": "execute_result"
    }
   ],
   "source": [
    "max(all_latest_dates)"
   ]
  },
  {
   "cell_type": "markdown",
   "id": "c0aa40db",
   "metadata": {},
   "source": [
    "- Turning the Dates into a easier to read format"
   ]
  },
  {
   "cell_type": "code",
   "execution_count": 67,
   "id": "7d0aa561",
   "metadata": {},
   "outputs": [],
   "source": [
    "earliest_date = str(min(all_earlist_dates)).split()[0]"
   ]
  },
  {
   "cell_type": "code",
   "execution_count": 68,
   "id": "8099d216",
   "metadata": {},
   "outputs": [],
   "source": [
    "latest_date = str(max(all_latest_dates)).split()[0]"
   ]
  },
  {
   "cell_type": "code",
   "execution_count": 69,
   "id": "0d0e1744",
   "metadata": {},
   "outputs": [
    {
     "data": {
      "text/plain": [
       "'2022-09-01'"
      ]
     },
     "execution_count": 69,
     "metadata": {},
     "output_type": "execute_result"
    }
   ],
   "source": [
    "earliest_date"
   ]
  },
  {
   "cell_type": "code",
   "execution_count": 70,
   "id": "9eb718c5",
   "metadata": {},
   "outputs": [
    {
     "data": {
      "text/plain": [
       "'2022-09-15'"
      ]
     },
     "execution_count": 70,
     "metadata": {},
     "output_type": "execute_result"
    }
   ],
   "source": [
    "latest_date"
   ]
  },
  {
   "cell_type": "markdown",
   "id": "ca32b0e7",
   "metadata": {},
   "source": [
    "- Getting the cage numbers"
   ]
  },
  {
   "cell_type": "code",
   "execution_count": 71,
   "id": "6e2a7bf9",
   "metadata": {},
   "outputs": [],
   "source": [
    "all_cages_list = []\n",
    "# Creating a list of all the cage numbers\n",
    "for key, value in sheet_name_to_everything.items():\n",
    "    for cage in sheet_name_to_everything[key][\"elo_score_dataframe\"][\"processed_cage_number\"].unique():\n",
    "        all_cages_list.append(cage)\n"
   ]
  },
  {
   "cell_type": "code",
   "execution_count": 72,
   "id": "82a1980b",
   "metadata": {},
   "outputs": [],
   "source": [
    "all_cages_string = \"_\".join(sorted([sheet.lower().strip(\"cage\").strip() for sheet in all_cages_list]))"
   ]
  },
  {
   "cell_type": "code",
   "execution_count": 73,
   "id": "8aafb708",
   "metadata": {},
   "outputs": [
    {
     "data": {
      "text/plain": [
       "'1'"
      ]
     },
     "execution_count": 73,
     "metadata": {},
     "output_type": "execute_result"
    }
   ],
   "source": [
    "all_cages_string"
   ]
  },
  {
   "cell_type": "markdown",
   "id": "9a172d21",
   "metadata": {},
   "source": [
    "- Creating an output directory to save the plots"
   ]
  },
  {
   "cell_type": "code",
   "execution_count": 74,
   "id": "8d50b7e4",
   "metadata": {},
   "outputs": [],
   "source": [
    "plot_output_directory = \"./proc/plots/{}_elo_score/cage_{}_date_{}_{}\".format(protocol_name, all_cages_string, earliest_date, latest_date)"
   ]
  },
  {
   "cell_type": "code",
   "execution_count": 75,
   "id": "448aa7ac",
   "metadata": {},
   "outputs": [
    {
     "data": {
      "text/plain": [
       "'./proc/plots/urine_marking_elo_score/cage_1_date_2022-09-01_2022-09-15'"
      ]
     },
     "execution_count": 75,
     "metadata": {},
     "output_type": "execute_result"
    }
   ],
   "source": [
    "plot_output_directory"
   ]
  },
  {
   "cell_type": "code",
   "execution_count": 76,
   "id": "52e1511c",
   "metadata": {},
   "outputs": [],
   "source": [
    "os.makedirs(plot_output_directory, exist_ok=True)"
   ]
  },
  {
   "cell_type": "code",
   "execution_count": 91,
   "id": "62dea6a6",
   "metadata": {},
   "outputs": [],
   "source": [
    "match_pairings = elo_score_dataframe[\"match\"].unique().tolist()"
   ]
  },
  {
   "cell_type": "code",
   "execution_count": 92,
   "id": "d3966906",
   "metadata": {},
   "outputs": [
    {
     "data": {
      "text/plain": [
       "['1vs5', '2vs6', '3vs7', '4vs8']"
      ]
     },
     "execution_count": 92,
     "metadata": {},
     "output_type": "execute_result"
    }
   ],
   "source": [
    "match_pairings"
   ]
  },
  {
   "cell_type": "code",
   "execution_count": 93,
   "id": "eed60163",
   "metadata": {},
   "outputs": [
    {
     "data": {
      "text/plain": [
       "0"
      ]
     },
     "execution_count": 93,
     "metadata": {},
     "output_type": "execute_result"
    }
   ],
   "source": [
    "match_pairings.index('1vs5')"
   ]
  },
  {
   "cell_type": "code",
   "execution_count": 103,
   "id": "b5c4fbf9",
   "metadata": {},
   "outputs": [],
   "source": [
    "color_list = [\"r\", \"y\", \"g\", \"b\"]\n",
    "line_list = [\"-o\", \"--o\"]"
   ]
  },
  {
   "cell_type": "markdown",
   "id": "7b7399c2",
   "metadata": {},
   "source": [
    "# **NOTE**: Sometimes this cell needs to be run again to make sure the size is correct"
   ]
  },
  {
   "cell_type": "code",
   "execution_count": 104,
   "id": "b51fa82b",
   "metadata": {},
   "outputs": [],
   "source": [
    "plt.rcParams[\"figure.figsize\"] = (13.5,7.5)"
   ]
  },
  {
   "cell_type": "code",
   "execution_count": 105,
   "id": "2fef9426",
   "metadata": {},
   "outputs": [
    {
     "data": {
      "text/plain": [
       "8"
      ]
     },
     "execution_count": 105,
     "metadata": {},
     "output_type": "execute_result"
    }
   ],
   "source": [
    "subject"
   ]
  },
  {
   "cell_type": "code",
   "execution_count": 113,
   "id": "28ced0f6",
   "metadata": {},
   "outputs": [
    {
     "name": "stdout",
     "output_type": "stream",
     "text": [
      "Sheet1\n"
     ]
    },
    {
     "data": {
      "image/png": "[encoded data removed]",
      "text/plain": [
       "<Figure size 972x540 with 1 Axes>"
      ]
     },
     "metadata": {
      "needs_background": "light"
     },
     "output_type": "display_data"
    }
   ],
   "source": [
    "# Getting the highest and lowest ELO score for cutoffs of the Y-axis\n",
    "max_elo_score = all_sheet_elo_scord_dataframe_combined[\"updated_elo_score\"].max()\n",
    "min_elo_score = all_sheet_elo_scord_dataframe_combined[\"updated_elo_score\"].min()\n",
    "\n",
    "# Making a plot for each sheet\n",
    "for key, value in sheet_name_to_everything.items():\n",
    "    plt.rcParams[\"figure.figsize\"] = (13.5,7.5)\n",
    "    print(key)\n",
    "    elo_score_dataframe = value[\"elo_score_dataframe\"]\n",
    "    fig, ax = plt.subplots()        \n",
    "        \n",
    "    # Drawing vertical lines that represent when each session begins\n",
    "    # Based on when a row has a different session than the previous row\n",
    "    for index, row in elo_score_dataframe[elo_score_dataframe['session_number_difference'] != 0.0].iterrows():\n",
    "        # Offsetting by 0.5 to avoid drawing the line on the dot\n",
    "        plt.vlines(x=[row[\"total_match_number\"] - 0.5], ymin=min_elo_score-5, ymax=max_elo_score+5, colors='black', linestyle='dashed')\n",
    "\n",
    "    # Drawing a line for each subject\n",
    "    for subject in sorted(elo_score_dataframe[\"subject_id\"].unique()):\n",
    "        # Getting all the rows with the current subject\n",
    "        subject_dataframe = elo_score_dataframe[elo_score_dataframe[\"subject_id\"] == subject]\n",
    "        # Making the current match number the X-Axis\n",
    "        plt.plot(subject_dataframe[\"total_match_number\"], subject_dataframe[\"updated_elo_score\"], line_list[subject//5], c=color_list[match_pairings.index(subject_dataframe[\"match\"].iloc[0])], label=subject)\n",
    "\n",
    "    # Labeling the X/Y Axis and the title\n",
    "    ax.set_xlabel(\"Trial Number\")\n",
    "    ax.set_ylabel(\"Elo Score\")\n",
    "    ax.set_title(\"Social Hierarchy Formation Elo Score for {}: {}\".format(string.capwords(\" \".join(protocol_name.split(\"_\"))), key))\n",
    "    # To show the legend\n",
    "    ax.legend()\n",
    "    plt.xticks(rotation=90)\n",
    "    plt.ylim(min_elo_score-5, max_elo_score+5) \n",
    "    # Saving the plot\n",
    "    file_name = \"{}_elo_score_{}_date_{}_{}.png\".format(protocol_name, key, earliest_date, latest_date)\n",
    "    plt.savefig(os.path.join(plot_output_directory, file_name))\n",
    "    # Showing the plots\n",
    "    plt.show()"
   ]
  },
  {
   "cell_type": "markdown",
   "id": "7c854621",
   "metadata": {},
   "source": [
    "# Saving the Dataframes"
   ]
  },
  {
   "cell_type": "code",
   "execution_count": 107,
   "id": "8f169608",
   "metadata": {},
   "outputs": [],
   "source": [
    "elo_score_spreadsheet_output_directory = \"./proc/elo_score_spread_sheets/{}_elo_score/cage_{}_date_{}_{}\".format(protocol_name, all_cages_string, earliest_date, latest_date)"
   ]
  },
  {
   "cell_type": "code",
   "execution_count": 108,
   "id": "13772e59",
   "metadata": {},
   "outputs": [
    {
     "data": {
      "text/plain": [
       "'./proc/elo_score_spread_sheets/urine_marking_elo_score/cage_1_date_2022-09-01_2022-09-15'"
      ]
     },
     "execution_count": 108,
     "metadata": {},
     "output_type": "execute_result"
    }
   ],
   "source": [
    "elo_score_spreadsheet_output_directory"
   ]
  },
  {
   "cell_type": "code",
   "execution_count": 109,
   "id": "354be11f",
   "metadata": {},
   "outputs": [],
   "source": [
    "os.makedirs(elo_score_spreadsheet_output_directory, exist_ok=True)"
   ]
  },
  {
   "cell_type": "code",
   "execution_count": 110,
   "id": "75e19fcf",
   "metadata": {},
   "outputs": [],
   "source": [
    "file_name = \"{}_elo_score_history_cages_{}_date_{}_{}.csv\".format(protocol_name, all_cages_string, earliest_date, latest_date)\n",
    "all_sheet_elo_scord_dataframe_combined.to_csv(os.path.join(elo_score_spreadsheet_output_directory, file_name))"
   ]
  },
  {
   "cell_type": "code",
   "execution_count": 111,
   "id": "22ad9a78",
   "metadata": {},
   "outputs": [],
   "source": [
    "file_name = \"{}_final_elo_score_cages_{}_date_{}_{}.csv\".format(protocol_name, all_cages_string, earliest_date, latest_date)\n",
    "id_to_final_elo_score_dataframe.to_csv(os.path.join(elo_score_spreadsheet_output_directory, file_name))"
   ]
  },
  {
   "cell_type": "code",
   "execution_count": null,
   "id": "874f5305",
   "metadata": {},
   "outputs": [],
   "source": []
  }
 ],
 "metadata": {
  "kernelspec": {
   "display_name": "Python 3 (ipykernel)",
   "language": "python",
   "name": "python3"
  },
  "language_info": {
   "codemirror_mode": {
    "name": "ipython",
    "version": 3
   },
   "file_extension": ".py",
   "mimetype": "text/x-python",
   "name": "python",
   "nbconvert_exporter": "python",
   "pygments_lexer": "ipython3",
   "version": "3.9.13"
  },
  "vscode": {
   "interpreter": {
    "hash": "1eab39844f49fe378870e01884132b9a01e61bfdb7013dba0b232b1cf67de0bc"
   }
  }
 },
 "nbformat": 4,
 "nbformat_minor": 5
}
