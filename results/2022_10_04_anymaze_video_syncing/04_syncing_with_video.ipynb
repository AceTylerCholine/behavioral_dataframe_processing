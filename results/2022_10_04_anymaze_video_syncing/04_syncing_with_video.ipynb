{
 "cells": [
  {
   "cell_type": "markdown",
   "id": "ec0f0e72",
   "metadata": {},
   "source": [
    "# MED-PC Extracting the Recording Data and Metadata"
   ]
  },
  {
   "cell_type": "markdown",
   "id": "3e96b039",
   "metadata": {},
   "source": [
    "## Importing the Python Libraries"
   ]
  },
  {
   "cell_type": "code",
   "execution_count": 1,
   "id": "df497936",
   "metadata": {},
   "outputs": [],
   "source": [
    "import sys\n",
    "import glob\n",
    "from collections import defaultdict\n",
    "import os\n",
    "import datetime\n",
    "import numpy as np\n",
    "import pandas as pd\n",
    "import matplotlib.pyplot as plt\n",
    "from moviepy.editor import *\n",
    "from datetime import datetime\n",
    "from IPython.display import Video"
   ]
  },
  {
   "cell_type": "code",
   "execution_count": 2,
   "id": "b6678428",
   "metadata": {},
   "outputs": [],
   "source": [
    "from medpc2excel.medpc_read import medpc_read"
   ]
  },
  {
   "cell_type": "code",
   "execution_count": 3,
   "id": "d2693f50",
   "metadata": {},
   "outputs": [],
   "source": [
    "# setting path\n",
    "sys.path.append('../../src')"
   ]
  },
  {
   "cell_type": "code",
   "execution_count": 4,
   "id": "2eca7742",
   "metadata": {},
   "outputs": [],
   "source": [
    "# All the libraries that were created for this repository\n",
    "import extract.dataframe\n",
    "import processing.tone\n",
    "import extract.metadata"
   ]
  },
  {
   "cell_type": "markdown",
   "id": "52dd42ca",
   "metadata": {},
   "source": [
    "## Getting the Metadata from all the MED-PC Recording Files"
   ]
  },
  {
   "cell_type": "markdown",
   "id": "51a96419",
   "metadata": {},
   "source": [
    "- Getting all the file paths of the recording files(that happen to all end in `.txt`"
   ]
  },
  {
   "cell_type": "markdown",
   "id": "005ccdc3",
   "metadata": {},
   "source": [
    "# NOTE: The following path must be changed to the directory where your MED-PC recording files are located, if they are not in the specied folder"
   ]
  },
  {
   "cell_type": "code",
   "execution_count": 5,
   "id": "faa6c858",
   "metadata": {},
   "outputs": [],
   "source": [
    "all_med_pc_file = sorted(glob.glob(\"./data/**/*.txt\"))"
   ]
  },
  {
   "cell_type": "markdown",
   "id": "07578f1d",
   "metadata": {},
   "source": [
    "- Use this instead if you're using you're own data"
   ]
  },
  {
   "cell_type": "raw",
   "id": "3d3671a9",
   "metadata": {},
   "source": [
    "all_med_pc_file = glob.glob(\"./data/clock_recording/*.txt\")"
   ]
  },
  {
   "cell_type": "code",
   "execution_count": 6,
   "id": "29194eda",
   "metadata": {
    "scrolled": true
   },
   "outputs": [
    {
     "data": {
      "text/plain": [
       "['./data/med_pc_recording_files/2022-10-03_09h45m_Subject 1.1v1.2.txt',\n",
       " './data/med_pc_recording_files/2022-10-03_09h45m_Subject 1.3v1.4.txt',\n",
       " './data/med_pc_recording_files/2022-10-03_09h45m_Subject 2.1v2.2.txt',\n",
       " './data/med_pc_recording_files/2022-10-03_09h45m_Subject 2.3v2.4.txt',\n",
       " './data/med_pc_recording_files/2022-10-03_10h57m_Subject 3.1v3.2.txt',\n",
       " './data/med_pc_recording_files/2022-10-03_10h57m_Subject 3.3v3.4.txt',\n",
       " './data/med_pc_recording_files/2022-10-03_10h57m_Subject 4.1v4.2.txt',\n",
       " './data/med_pc_recording_files/2022-10-03_10h57m_Subject 4.3v4.4.txt',\n",
       " './data/med_pc_recording_files/2022-10-03_11h07m_Subject 3.1v3.2.txt',\n",
       " './data/med_pc_recording_files/2022-10-03_11h07m_Subject 3.3v3.4.txt']"
      ]
     },
     "execution_count": 6,
     "metadata": {},
     "output_type": "execute_result"
    }
   ],
   "source": [
    "all_med_pc_file[:10]"
   ]
  },
  {
   "cell_type": "markdown",
   "id": "7b1caaf8",
   "metadata": {},
   "source": [
    "- Selecting only one of the files"
   ]
  },
  {
   "cell_type": "code",
   "execution_count": 7,
   "id": "6263b747",
   "metadata": {},
   "outputs": [],
   "source": [
    "all_med_pc_file = [all_med_pc_file[0]]"
   ]
  },
  {
   "cell_type": "markdown",
   "id": "062be1de",
   "metadata": {},
   "source": [
    "- Example of what the MED-PC Recording file looks like"
   ]
  },
  {
   "cell_type": "code",
   "execution_count": 8,
   "id": "1c7118af",
   "metadata": {},
   "outputs": [
    {
     "name": "stdout",
     "output_type": "stream",
     "text": [
      "File: C:\\MED-PC\\Data\\2022-10-03_09h45m_Subject 1.1v1.2.txt\n",
      "\n",
      "\n",
      "\n",
      "\n",
      "\n",
      "\n",
      "\n",
      "Start Date: 10/03/22\n",
      "\n",
      "End Date: 10/03/22\n",
      "\n",
      "Subject: 1.1v1.2\n",
      "\n",
      "Experiment: CD1_vs_C57_Comparison\n",
      "\n",
      "Group: Cage_1\n",
      "\n",
      "Box: 1\n",
      "\n",
      "Start Time: 09:45:25\n",
      "\n",
      "End Time: 10:46:28\n",
      "\n",
      "MSN: C57_reward_competition\n",
      "\n",
      "A:    5399.000\n",
      "\n",
      "D:    8000.000\n",
      "\n",
      "E:       0.000\n",
      "\n",
      "L:       0.000\n",
      "\n",
      "M:       0.000\n",
      "\n",
      "O:       0.000\n",
      "\n",
      "T:    1860.000\n",
      "\n"
     ]
    }
   ],
   "source": [
    "with open(all_med_pc_file[0]) as f:\n",
    "    lines = f.readlines()\n",
    "    for line in lines[:20]:\n",
    "        print(line)"
   ]
  },
  {
   "cell_type": "markdown",
   "id": "23b6a4cc",
   "metadata": {},
   "source": [
    "- We will be extracting the first 10 or so lines that look like:\n",
    "\n",
    "```\n",
    "File: C:\\MED-PC\\Data\\2022-05-06_12h59m_Subject 3.4 (2).txt\n",
    "\n",
    "Start Date: 05/06/22\n",
    "\n",
    "End Date: 05/06/22\n",
    "\n",
    "Subject: 3.4 (2)\n",
    "\n",
    "Experiment: Pilot of Pilot\n",
    "\n",
    "Group: Cage 4\n",
    "\n",
    "Box: 1\n",
    "\n",
    "Start Time: 12:59:58\n",
    "\n",
    "End Time: 14:02:38\n",
    "\n",
    "MSN: levelNP_CS_reward_laserepochON1st_noshock\n",
    "```\n",
    "    \n",
    "- We will just find all the lines that start with \"File\", \"Start Date\", \"End Date\", \"Subject\", \"Experiment\", \"Group\", \"Box\", \"Start Time\", \"End Time\", or \"MSN\". And then stop once all the metadata types have been collected"
   ]
  },
  {
   "cell_type": "code",
   "execution_count": 9,
   "id": "67503081",
   "metadata": {},
   "outputs": [],
   "source": [
    "# This makes a nested dictionary of file paths to each individual metadata type\n",
    "file_path_to_meta_data = extract.metadata.get_all_med_pc_meta_data_from_files(list_of_files=all_med_pc_file)"
   ]
  },
  {
   "cell_type": "code",
   "execution_count": 10,
   "id": "35ff0f55",
   "metadata": {},
   "outputs": [
    {
     "name": "stdout",
     "output_type": "stream",
     "text": [
      "File path: ./data/med_pc_recording_files/2022-10-03_09h45m_Subject 1.1v1.2.txt\n",
      "Metadata types and associated values: {'File': 'C:\\\\MED-PC\\\\Data\\\\2022-10-03_09h45m_Subject 1.1v1.2.txt', 'Start Date': '10/03/22', 'End Date': '10/03/22', 'Subject': '1.1v1.2', 'Experiment': 'CD1_vs_C57_Comparison', 'Group': 'Cage_1', 'Box': '1', 'Start Time': '09:45:25', 'End Time': '10:46:28', 'MSN': 'C57_reward_competition'}\n"
     ]
    }
   ],
   "source": [
    "for key, value in file_path_to_meta_data.items():\n",
    "    print(\"File path: {}\".format(key))\n",
    "    print(\"Metadata types and associated values: {}\".format(value))\n",
    "    break"
   ]
  },
  {
   "cell_type": "markdown",
   "id": "2c00edf5",
   "metadata": {},
   "source": [
    "## Making a Dataframe out of the Metadata"
   ]
  },
  {
   "cell_type": "code",
   "execution_count": 11,
   "id": "6fcb3201",
   "metadata": {},
   "outputs": [],
   "source": [
    "# Turning the dictionary into a Pandas Dataframe\n",
    "metadata_df = pd.DataFrame.from_dict(file_path_to_meta_data, orient=\"index\")\n",
    "# Resetting the index because currently the file path is the index \n",
    "metadata_df = metadata_df.reset_index()"
   ]
  },
  {
   "cell_type": "code",
   "execution_count": 12,
   "id": "b98fcaf2",
   "metadata": {},
   "outputs": [
    {
     "data": {
      "text/html": [
       "<div>\n",
       "<style scoped>\n",
       "    .dataframe tbody tr th:only-of-type {\n",
       "        vertical-align: middle;\n",
       "    }\n",
       "\n",
       "    .dataframe tbody tr th {\n",
       "        vertical-align: top;\n",
       "    }\n",
       "\n",
       "    .dataframe thead th {\n",
       "        text-align: right;\n",
       "    }\n",
       "</style>\n",
       "<table border=\"1\" class=\"dataframe\">\n",
       "  <thead>\n",
       "    <tr style=\"text-align: right;\">\n",
       "      <th></th>\n",
       "      <th>index</th>\n",
       "      <th>File</th>\n",
       "      <th>Start Date</th>\n",
       "      <th>End Date</th>\n",
       "      <th>Subject</th>\n",
       "      <th>Experiment</th>\n",
       "      <th>Group</th>\n",
       "      <th>Box</th>\n",
       "      <th>Start Time</th>\n",
       "      <th>End Time</th>\n",
       "      <th>MSN</th>\n",
       "    </tr>\n",
       "  </thead>\n",
       "  <tbody>\n",
       "    <tr>\n",
       "      <th>0</th>\n",
       "      <td>./data/med_pc_recording_files/2022-10-03_09h45...</td>\n",
       "      <td>C:\\MED-PC\\Data\\2022-10-03_09h45m_Subject 1.1v1...</td>\n",
       "      <td>10/03/22</td>\n",
       "      <td>10/03/22</td>\n",
       "      <td>1.1v1.2</td>\n",
       "      <td>CD1_vs_C57_Comparison</td>\n",
       "      <td>Cage_1</td>\n",
       "      <td>1</td>\n",
       "      <td>09:45:25</td>\n",
       "      <td>10:46:28</td>\n",
       "      <td>C57_reward_competition</td>\n",
       "    </tr>\n",
       "  </tbody>\n",
       "</table>\n",
       "</div>"
      ],
      "text/plain": [
       "                                               index  \\\n",
       "0  ./data/med_pc_recording_files/2022-10-03_09h45...   \n",
       "\n",
       "                                                File Start Date  End Date  \\\n",
       "0  C:\\MED-PC\\Data\\2022-10-03_09h45m_Subject 1.1v1...   10/03/22  10/03/22   \n",
       "\n",
       "   Subject             Experiment   Group Box Start Time  End Time  \\\n",
       "0  1.1v1.2  CD1_vs_C57_Comparison  Cage_1   1   09:45:25  10:46:28   \n",
       "\n",
       "                      MSN  \n",
       "0  C57_reward_competition  "
      ]
     },
     "execution_count": 12,
     "metadata": {},
     "output_type": "execute_result"
    }
   ],
   "source": [
    "metadata_df.head()"
   ]
  },
  {
   "cell_type": "code",
   "execution_count": 13,
   "id": "371584e7",
   "metadata": {},
   "outputs": [
    {
     "data": {
      "text/html": [
       "<div>\n",
       "<style scoped>\n",
       "    .dataframe tbody tr th:only-of-type {\n",
       "        vertical-align: middle;\n",
       "    }\n",
       "\n",
       "    .dataframe tbody tr th {\n",
       "        vertical-align: top;\n",
       "    }\n",
       "\n",
       "    .dataframe thead th {\n",
       "        text-align: right;\n",
       "    }\n",
       "</style>\n",
       "<table border=\"1\" class=\"dataframe\">\n",
       "  <thead>\n",
       "    <tr style=\"text-align: right;\">\n",
       "      <th></th>\n",
       "      <th>index</th>\n",
       "      <th>File</th>\n",
       "      <th>Start Date</th>\n",
       "      <th>End Date</th>\n",
       "      <th>Subject</th>\n",
       "      <th>Experiment</th>\n",
       "      <th>Group</th>\n",
       "      <th>Box</th>\n",
       "      <th>Start Time</th>\n",
       "      <th>End Time</th>\n",
       "      <th>MSN</th>\n",
       "    </tr>\n",
       "  </thead>\n",
       "  <tbody>\n",
       "    <tr>\n",
       "      <th>0</th>\n",
       "      <td>./data/med_pc_recording_files/2022-10-03_09h45...</td>\n",
       "      <td>C:\\MED-PC\\Data\\2022-10-03_09h45m_Subject 1.1v1...</td>\n",
       "      <td>10/03/22</td>\n",
       "      <td>10/03/22</td>\n",
       "      <td>1.1v1.2</td>\n",
       "      <td>CD1_vs_C57_Comparison</td>\n",
       "      <td>Cage_1</td>\n",
       "      <td>1</td>\n",
       "      <td>09:45:25</td>\n",
       "      <td>10:46:28</td>\n",
       "      <td>C57_reward_competition</td>\n",
       "    </tr>\n",
       "  </tbody>\n",
       "</table>\n",
       "</div>"
      ],
      "text/plain": [
       "                                               index  \\\n",
       "0  ./data/med_pc_recording_files/2022-10-03_09h45...   \n",
       "\n",
       "                                                File Start Date  End Date  \\\n",
       "0  C:\\MED-PC\\Data\\2022-10-03_09h45m_Subject 1.1v1...   10/03/22  10/03/22   \n",
       "\n",
       "   Subject             Experiment   Group Box Start Time  End Time  \\\n",
       "0  1.1v1.2  CD1_vs_C57_Comparison  Cage_1   1   09:45:25  10:46:28   \n",
       "\n",
       "                      MSN  \n",
       "0  C57_reward_competition  "
      ]
     },
     "execution_count": 13,
     "metadata": {},
     "output_type": "execute_result"
    }
   ],
   "source": [
    "metadata_df.tail()"
   ]
  },
  {
   "cell_type": "markdown",
   "id": "8ac4297a",
   "metadata": {},
   "source": [
    "- Just getting the numbers out of the column that contains the cage information"
   ]
  },
  {
   "cell_type": "markdown",
   "id": "dd4bc5a5",
   "metadata": {},
   "source": [
    "## Inputting all the MED-PC log files"
   ]
  },
  {
   "cell_type": "markdown",
   "id": "c78aaf6c",
   "metadata": {},
   "source": [
    "- Example of what the MED-PC Script looks like that was ran when recording the behaviors"
   ]
  },
  {
   "cell_type": "code",
   "execution_count": 14,
   "id": "8dee131d",
   "metadata": {},
   "outputs": [
    {
     "name": "stdout",
     "output_type": "stream",
     "text": [
      "\\INPUTS\n",
      "\n",
      "\n",
      "\n",
      "^port = 8\n",
      "\n",
      "\n",
      "\n",
      "\n",
      "\n",
      "\\OUTPUTS\n",
      "\n",
      "^whitenoise = 1\n",
      "\n",
      "^tone1 = 2\n",
      "\n",
      "^tone2 = 3\n",
      "\n",
      "^pump = 9\n",
      "\n",
      "^fan = 16\n",
      "\n",
      "^toneled = 17\n",
      "\n",
      "^peled = 18\n",
      "\n",
      "\n",
      "\n",
      "\n",
      "\n",
      "\n",
      "\n",
      "\\ARRAYS\n",
      "\n",
      "\n",
      "\n",
      "DIM P = 20000 \\Port entry time stamp array\n",
      "\n",
      "\n",
      "\n",
      "DIM Q = 250 \\US delivery time stamp array (absolute)\n",
      "\n",
      "\n",
      "\n",
      "DIM R = 250 \\US time stamp array (relative to last CS)\n",
      "\n",
      "\n",
      "\n",
      "DIM W = 2500 \\ITI values used for CS\n",
      "\n",
      "\n",
      "\n",
      "DIM S = 2500 \\CS presentation values (absolute - every time yellow light turns on)\n",
      "\n",
      "\n",
      "\n",
      "DIM N = 20000 \\Port exit time stamp array\n",
      "\n",
      "\n",
      "\n",
      "DIM K = 250 \\CS type\n",
      "\n",
      "\n",
      "\n",
      "DIM G = 250 \\controlled_stimulus_seconds computer clock time (seconds on clock every time yellow light/tone turns on)\n",
      "\n",
      "\n",
      "\n",
      "DIM H = 250 \\controlled_stimulus_minutes computer clock time (minutes on clock every time yellow light/tone turns on)\n",
      "\n",
      "\n",
      "\n",
      "DIM I = 250 \\controlled_stimulus_hours computer clock time (hours every time yellow light/tone turns on)\n",
      "\n",
      "\n",
      "\n",
      "DIM B = 2500 \\port_entry_seconds computer clock time (seconds on clock every time red light turns on)\n",
      "\n",
      "\n",
      "\n",
      "DIM F = 2500 \\port_entry_minutes computer clock time (minutes on clock every time red light turns on)\n",
      "\n",
      "\n",
      "\n",
      "DIM J = 2500 \\port_entry_hours computer clock time (hours every time red light turns on)\n",
      "\n",
      "\n",
      "\n",
      "\n",
      "\n",
      "\n",
      "\n",
      "\\Original List of ITIs\n",
      "\n",
      "\n",
      "\n",
      "LIST V = 80\", 90\", 80\", 75\", 100\", 95\", 90\", 80\", 90\", 100\", 90\", 120\", 90\", 85\", 90\", 95\", 120\", 80\", 95\", 80\", 90\", 80\", 75\", 100\", 95\", 90\", 80\", 90\", 100\", 90\", 120\", 90\", 85\", 90\", 95\", 90\", 80\", 90\", 100\", 90\", 90\", 90\", 90\", 90\", 90\", 90\", 90\", 90\", 90\", 90\", 90\", 90\", 90\", 90\", 90\", 90\", 90\", 90\", 90\" \\, 100\", 108\", 117\", 121\", 133\", 145\", 165\" \\CS ITI values (tone + houselight)\n",
      "\n",
      "\n",
      "\n",
      "\n",
      "\n",
      "\n",
      "\n",
      "\\Counter and Flag array\n",
      "\n",
      "DIM C = 6\n",
      "\n",
      "\n",
      "\n",
      "\\are all 1-indexed i.e. 3 port entries means 3 port entries\n",
      "\n",
      "\n",
      "\n",
      "\\C(0) counter for number of port entries\n",
      "\n",
      "\n",
      "\n",
      "\\C(1) counter for CS presentation number\n",
      "\n",
      "\n",
      "\n",
      "\\C(2) counter for US delivery\n",
      "\n",
      "\n",
      "\n",
      "\\C(3) flag to indicate if sucrose is in port =0 if no port entry was made, =1 if port entry was made (i.e., no sucrose)\n",
      "\n",
      "\n",
      "\n",
      "\\C(4) counter for number of port exits\n",
      "\n",
      "\n",
      "\n",
      "\\C(5) number of CS1 (tones)\n",
      "\n",
      "\n",
      "\n",
      "\\C(6) number of sucrose deliveries\n",
      "\n",
      "\n",
      "\n",
      "\n",
      "\n",
      "\n",
      "\n",
      "\\Z-pulses\n",
      "\n",
      "\n",
      "\n",
      "\\Z1: start task after initial delay\n",
      "\n",
      "\n",
      "\n",
      "\\Z2: start of CS\n",
      "\n",
      "\n",
      "\n",
      "\\Z3: port entry\n",
      "\n",
      "\n",
      "\n",
      "\\Z4: port exit\n",
      "\n",
      "\n",
      "\n",
      "\\Z5: trigger CS1\n",
      "\n",
      "\n",
      "\n",
      "\\Z6: turn off CS1 triggers\n",
      "\n",
      "\n",
      "\n",
      "\n",
      "\n",
      "\n",
      "\n",
      "\\Variables\n",
      "\n",
      "\n",
      "\n",
      "\\A - Time since last CS\n",
      "\n",
      "\n",
      "\n",
      "\\B - \n",
      "\n",
      "\n",
      "\n",
      "\\C - Counter array\n",
      "\n",
      "\n",
      "\n",
      "\\D - Current ITI value\n",
      "\n",
      "\n",
      "\n",
      "\\E - CS ITI values for first few trials\n",
      "\n"
     ]
    }
   ],
   "source": [
    "with open(\"./data/MPC/C57_reward_competition.MPC\") as f:\n",
    "    lines = f.readlines()\n",
    "    for line in lines[:100]:\n",
    "        print(line)"
   ]
  },
  {
   "cell_type": "markdown",
   "id": "0ee62e6c",
   "metadata": {},
   "source": [
    "- We will be using the comments in the MED-PC script(which starts with the `\\`) to create a name for the variables. By default, MED-PC uses a single letter as the name of the variable.\n",
    "    - This will use the medpc2excel library found in https://github.com/cyf203/medpc2excel\n",
    "- Example of the comments in the MED-PC script that we will use the names from:\n",
    "\n",
    "```\n",
    "\\Variables\n",
    "\n",
    "\\A - Time since last CS\n",
    "\n",
    "\\B - Shock intensity\n",
    "\n",
    "\\C - Counter array\n",
    "\n",
    "\\D - Current ITI value\n",
    "\n",
    "\\E - CS ITI values for first few trials\n",
    "\n",
    "\\F - Shock duration\n",
    "\n",
    "\\G -\n",
    "\n",
    "\\H -\n",
    "\n",
    "\\I -\n",
    "\n",
    "\\J - Shock intensity repo\n",
    "\n",
    "\\K - CS type\n",
    "\n",
    "\\L -\n",
    "\n",
    "\\M - CS type repo\n",
    "\n",
    "\\N - Port exit time stamp array\n",
    "\n",
    "\\O -\n",
    "\n",
    "\\P - Port entry time stamp array\n",
    "\n",
    "\\Q - Sucrose delivery time stamp array (absolute)\n",
    "\n",
    "\\R - Sucrose delivery time stamp array (relative to last CS)\n",
    "\n",
    "\\S - CS presentation time stamp array\n",
    "\n",
    "\\T - Session timer\n",
    "\n",
    "\\U - Time since last CS presentation\n",
    "\n",
    "\\V - List of CS ITI values (tone + houselight)\n",
    "\n",
    "\\W - ITI values used for CS one each trial\n",
    "\n",
    "\\X -\n",
    "\n",
    "\\Y - Beam break monitor variable\n",
    "\n",
    "\\Z -\n",
    "```"
   ]
  },
  {
   "cell_type": "code",
   "execution_count": 15,
   "id": "7d7b57bd",
   "metadata": {
    "scrolled": true
   },
   "outputs": [
    {
     "name": "stdout",
     "output_type": "stream",
     "text": [
      "File: C:\\MED-PC\\Data\\2022-10-03_09h45m_Subject 1.1v1.2.txt\n",
      "\n",
      "\n",
      "\n",
      "\n",
      "\n",
      "\n",
      "\n",
      "Start Date: 10/03/22\n",
      "\n",
      "End Date: 10/03/22\n",
      "\n",
      "Subject: 1.1v1.2\n",
      "\n",
      "Experiment: CD1_vs_C57_Comparison\n",
      "\n",
      "Group: Cage_1\n",
      "\n",
      "Box: 1\n",
      "\n",
      "Start Time: 09:45:25\n",
      "\n",
      "End Time: 10:46:28\n",
      "\n",
      "MSN: C57_reward_competition\n",
      "\n",
      "A:    5399.000\n",
      "\n",
      "D:    8000.000\n",
      "\n",
      "E:       0.000\n",
      "\n",
      "L:       0.000\n",
      "\n",
      "M:       0.000\n",
      "\n",
      "O:       0.000\n",
      "\n",
      "T:    1860.000\n",
      "\n"
     ]
    }
   ],
   "source": [
    "with open(all_med_pc_file[0]) as f:\n",
    "    lines = f.readlines()\n",
    "    for line in lines[:20]:\n",
    "        print(line)"
   ]
  },
  {
   "cell_type": "markdown",
   "id": "3480b276",
   "metadata": {},
   "source": [
    "- **Please make sure that the corresponding `.mpc` file (aka the MED-PC script) that was ran to create the log file, is also in the same folder**"
   ]
  },
  {
   "cell_type": "code",
   "execution_count": 16,
   "id": "c7fa40d7",
   "metadata": {},
   "outputs": [
    {
     "data": {
      "text/plain": [
       "['./data/med_pc_recording_files/2022-10-03_09h45m_Subject 1.1v1.2.txt']"
      ]
     },
     "execution_count": 16,
     "metadata": {},
     "output_type": "execute_result"
    }
   ],
   "source": [
    "all_med_pc_file"
   ]
  },
  {
   "cell_type": "code",
   "execution_count": 17,
   "id": "0c38d1eb",
   "metadata": {
    "scrolled": true
   },
   "outputs": [],
   "source": [
    "concatted_medpc_df = extract.dataframe.get_medpc_dataframe_from_list_of_files(medpc_files=all_med_pc_file)\n",
    "concatted_medpc_df = concatted_medpc_df.reset_index(drop=True)"
   ]
  },
  {
   "cell_type": "code",
   "execution_count": 18,
   "id": "f9339573",
   "metadata": {},
   "outputs": [
    {
     "data": {
      "text/html": [
       "<div>\n",
       "<style scoped>\n",
       "    .dataframe tbody tr th:only-of-type {\n",
       "        vertical-align: middle;\n",
       "    }\n",
       "\n",
       "    .dataframe tbody tr th {\n",
       "        vertical-align: top;\n",
       "    }\n",
       "\n",
       "    .dataframe thead th {\n",
       "        text-align: right;\n",
       "    }\n",
       "</style>\n",
       "<table border=\"1\" class=\"dataframe\">\n",
       "  <thead>\n",
       "    <tr style=\"text-align: right;\">\n",
       "      <th></th>\n",
       "      <th>(P)Portentry</th>\n",
       "      <th>(Q)USdelivery</th>\n",
       "      <th>(R)UStime</th>\n",
       "      <th>(W)ITIvalues</th>\n",
       "      <th>(S)CSpresentation</th>\n",
       "      <th>(N)Portexit</th>\n",
       "      <th>(K)CStype</th>\n",
       "      <th>(G)controlled_stimulus_secondscomputer</th>\n",
       "      <th>(H)controlled_stimulus_minutescomputer</th>\n",
       "      <th>(I)controlled_stimulus_hourscomputer</th>\n",
       "      <th>(B)port_entry_secondscomputer</th>\n",
       "      <th>(F)port_entry_minutescomputer</th>\n",
       "      <th>(J)port_entry_hourscomputer</th>\n",
       "      <th>date</th>\n",
       "      <th>subject</th>\n",
       "      <th>file_path</th>\n",
       "    </tr>\n",
       "  </thead>\n",
       "  <tbody>\n",
       "    <tr>\n",
       "      <th>0</th>\n",
       "      <td>0.12</td>\n",
       "      <td>64.0</td>\n",
       "      <td>399.0</td>\n",
       "      <td>0.0</td>\n",
       "      <td>60.01</td>\n",
       "      <td>0.16</td>\n",
       "      <td>1.0</td>\n",
       "      <td>28.0</td>\n",
       "      <td>16.0</td>\n",
       "      <td>10.0</td>\n",
       "      <td>29.0</td>\n",
       "      <td>15.0</td>\n",
       "      <td>10.0</td>\n",
       "      <td>20221003</td>\n",
       "      <td>1.1v1.2</td>\n",
       "      <td>./data/med_pc_recording_files/2022-10-03_09h45...</td>\n",
       "    </tr>\n",
       "    <tr>\n",
       "      <th>1</th>\n",
       "      <td>10.41</td>\n",
       "      <td>144.0</td>\n",
       "      <td>399.0</td>\n",
       "      <td>0.0</td>\n",
       "      <td>140.01</td>\n",
       "      <td>10.43</td>\n",
       "      <td>1.0</td>\n",
       "      <td>49.0</td>\n",
       "      <td>17.0</td>\n",
       "      <td>10.0</td>\n",
       "      <td>39.0</td>\n",
       "      <td>15.0</td>\n",
       "      <td>10.0</td>\n",
       "      <td>20221003</td>\n",
       "      <td>1.1v1.2</td>\n",
       "      <td>./data/med_pc_recording_files/2022-10-03_09h45...</td>\n",
       "    </tr>\n",
       "    <tr>\n",
       "      <th>2</th>\n",
       "      <td>10.61</td>\n",
       "      <td>234.0</td>\n",
       "      <td>399.0</td>\n",
       "      <td>0.0</td>\n",
       "      <td>230.01</td>\n",
       "      <td>10.63</td>\n",
       "      <td>1.0</td>\n",
       "      <td>18.0</td>\n",
       "      <td>19.0</td>\n",
       "      <td>10.0</td>\n",
       "      <td>39.0</td>\n",
       "      <td>15.0</td>\n",
       "      <td>10.0</td>\n",
       "      <td>20221003</td>\n",
       "      <td>1.1v1.2</td>\n",
       "      <td>./data/med_pc_recording_files/2022-10-03_09h45...</td>\n",
       "    </tr>\n",
       "    <tr>\n",
       "      <th>3</th>\n",
       "      <td>11.20</td>\n",
       "      <td>314.0</td>\n",
       "      <td>399.0</td>\n",
       "      <td>0.0</td>\n",
       "      <td>310.01</td>\n",
       "      <td>11.42</td>\n",
       "      <td>1.0</td>\n",
       "      <td>38.0</td>\n",
       "      <td>20.0</td>\n",
       "      <td>10.0</td>\n",
       "      <td>39.0</td>\n",
       "      <td>15.0</td>\n",
       "      <td>10.0</td>\n",
       "      <td>20221003</td>\n",
       "      <td>1.1v1.2</td>\n",
       "      <td>./data/med_pc_recording_files/2022-10-03_09h45...</td>\n",
       "    </tr>\n",
       "    <tr>\n",
       "      <th>4</th>\n",
       "      <td>11.53</td>\n",
       "      <td>389.0</td>\n",
       "      <td>399.0</td>\n",
       "      <td>0.0</td>\n",
       "      <td>385.01</td>\n",
       "      <td>11.56</td>\n",
       "      <td>1.0</td>\n",
       "      <td>53.0</td>\n",
       "      <td>21.0</td>\n",
       "      <td>10.0</td>\n",
       "      <td>40.0</td>\n",
       "      <td>15.0</td>\n",
       "      <td>10.0</td>\n",
       "      <td>20221003</td>\n",
       "      <td>1.1v1.2</td>\n",
       "      <td>./data/med_pc_recording_files/2022-10-03_09h45...</td>\n",
       "    </tr>\n",
       "  </tbody>\n",
       "</table>\n",
       "</div>"
      ],
      "text/plain": [
       "   (P)Portentry  (Q)USdelivery  (R)UStime  (W)ITIvalues  (S)CSpresentation  \\\n",
       "0          0.12           64.0      399.0           0.0              60.01   \n",
       "1         10.41          144.0      399.0           0.0             140.01   \n",
       "2         10.61          234.0      399.0           0.0             230.01   \n",
       "3         11.20          314.0      399.0           0.0             310.01   \n",
       "4         11.53          389.0      399.0           0.0             385.01   \n",
       "\n",
       "   (N)Portexit  (K)CStype  (G)controlled_stimulus_secondscomputer  \\\n",
       "0         0.16        1.0                                    28.0   \n",
       "1        10.43        1.0                                    49.0   \n",
       "2        10.63        1.0                                    18.0   \n",
       "3        11.42        1.0                                    38.0   \n",
       "4        11.56        1.0                                    53.0   \n",
       "\n",
       "   (H)controlled_stimulus_minutescomputer  \\\n",
       "0                                    16.0   \n",
       "1                                    17.0   \n",
       "2                                    19.0   \n",
       "3                                    20.0   \n",
       "4                                    21.0   \n",
       "\n",
       "   (I)controlled_stimulus_hourscomputer  (B)port_entry_secondscomputer  \\\n",
       "0                                  10.0                           29.0   \n",
       "1                                  10.0                           39.0   \n",
       "2                                  10.0                           39.0   \n",
       "3                                  10.0                           39.0   \n",
       "4                                  10.0                           40.0   \n",
       "\n",
       "   (F)port_entry_minutescomputer  (J)port_entry_hourscomputer      date  \\\n",
       "0                           15.0                         10.0  20221003   \n",
       "1                           15.0                         10.0  20221003   \n",
       "2                           15.0                         10.0  20221003   \n",
       "3                           15.0                         10.0  20221003   \n",
       "4                           15.0                         10.0  20221003   \n",
       "\n",
       "   subject                                          file_path  \n",
       "0  1.1v1.2  ./data/med_pc_recording_files/2022-10-03_09h45...  \n",
       "1  1.1v1.2  ./data/med_pc_recording_files/2022-10-03_09h45...  \n",
       "2  1.1v1.2  ./data/med_pc_recording_files/2022-10-03_09h45...  \n",
       "3  1.1v1.2  ./data/med_pc_recording_files/2022-10-03_09h45...  \n",
       "4  1.1v1.2  ./data/med_pc_recording_files/2022-10-03_09h45...  "
      ]
     },
     "execution_count": 18,
     "metadata": {},
     "output_type": "execute_result"
    }
   ],
   "source": [
    "concatted_medpc_df.head()"
   ]
  },
  {
   "cell_type": "code",
   "execution_count": 19,
   "id": "d65c4236",
   "metadata": {},
   "outputs": [
    {
     "data": {
      "text/html": [
       "<div>\n",
       "<style scoped>\n",
       "    .dataframe tbody tr th:only-of-type {\n",
       "        vertical-align: middle;\n",
       "    }\n",
       "\n",
       "    .dataframe tbody tr th {\n",
       "        vertical-align: top;\n",
       "    }\n",
       "\n",
       "    .dataframe thead th {\n",
       "        text-align: right;\n",
       "    }\n",
       "</style>\n",
       "<table border=\"1\" class=\"dataframe\">\n",
       "  <thead>\n",
       "    <tr style=\"text-align: right;\">\n",
       "      <th></th>\n",
       "      <th>(P)Portentry</th>\n",
       "      <th>(Q)USdelivery</th>\n",
       "      <th>(R)UStime</th>\n",
       "      <th>(W)ITIvalues</th>\n",
       "      <th>(S)CSpresentation</th>\n",
       "      <th>(N)Portexit</th>\n",
       "      <th>(K)CStype</th>\n",
       "      <th>(G)controlled_stimulus_secondscomputer</th>\n",
       "      <th>(H)controlled_stimulus_minutescomputer</th>\n",
       "      <th>(I)controlled_stimulus_hourscomputer</th>\n",
       "      <th>(B)port_entry_secondscomputer</th>\n",
       "      <th>(F)port_entry_minutescomputer</th>\n",
       "      <th>(J)port_entry_hourscomputer</th>\n",
       "      <th>date</th>\n",
       "      <th>subject</th>\n",
       "      <th>file_path</th>\n",
       "    </tr>\n",
       "  </thead>\n",
       "  <tbody>\n",
       "    <tr>\n",
       "      <th>5003</th>\n",
       "      <td>NaN</td>\n",
       "      <td>NaN</td>\n",
       "      <td>NaN</td>\n",
       "      <td>NaN</td>\n",
       "      <td>NaN</td>\n",
       "      <td>NaN</td>\n",
       "      <td>NaN</td>\n",
       "      <td>NaN</td>\n",
       "      <td>NaN</td>\n",
       "      <td>NaN</td>\n",
       "      <td>20.0</td>\n",
       "      <td>NaN</td>\n",
       "      <td>NaN</td>\n",
       "      <td>20221003</td>\n",
       "      <td>1.1v1.2</td>\n",
       "      <td>./data/med_pc_recording_files/2022-10-03_09h45...</td>\n",
       "    </tr>\n",
       "    <tr>\n",
       "      <th>5004</th>\n",
       "      <td>NaN</td>\n",
       "      <td>NaN</td>\n",
       "      <td>NaN</td>\n",
       "      <td>NaN</td>\n",
       "      <td>NaN</td>\n",
       "      <td>NaN</td>\n",
       "      <td>NaN</td>\n",
       "      <td>NaN</td>\n",
       "      <td>NaN</td>\n",
       "      <td>NaN</td>\n",
       "      <td>1.0</td>\n",
       "      <td>NaN</td>\n",
       "      <td>NaN</td>\n",
       "      <td>20221003</td>\n",
       "      <td>1.1v1.2</td>\n",
       "      <td>./data/med_pc_recording_files/2022-10-03_09h45...</td>\n",
       "    </tr>\n",
       "    <tr>\n",
       "      <th>5005</th>\n",
       "      <td>NaN</td>\n",
       "      <td>NaN</td>\n",
       "      <td>NaN</td>\n",
       "      <td>NaN</td>\n",
       "      <td>NaN</td>\n",
       "      <td>NaN</td>\n",
       "      <td>NaN</td>\n",
       "      <td>NaN</td>\n",
       "      <td>NaN</td>\n",
       "      <td>NaN</td>\n",
       "      <td>4385.0</td>\n",
       "      <td>NaN</td>\n",
       "      <td>NaN</td>\n",
       "      <td>20221003</td>\n",
       "      <td>1.1v1.2</td>\n",
       "      <td>./data/med_pc_recording_files/2022-10-03_09h45...</td>\n",
       "    </tr>\n",
       "    <tr>\n",
       "      <th>5006</th>\n",
       "      <td>NaN</td>\n",
       "      <td>NaN</td>\n",
       "      <td>NaN</td>\n",
       "      <td>NaN</td>\n",
       "      <td>NaN</td>\n",
       "      <td>NaN</td>\n",
       "      <td>NaN</td>\n",
       "      <td>NaN</td>\n",
       "      <td>NaN</td>\n",
       "      <td>NaN</td>\n",
       "      <td>19.0</td>\n",
       "      <td>NaN</td>\n",
       "      <td>NaN</td>\n",
       "      <td>20221003</td>\n",
       "      <td>1.1v1.2</td>\n",
       "      <td>./data/med_pc_recording_files/2022-10-03_09h45...</td>\n",
       "    </tr>\n",
       "    <tr>\n",
       "      <th>5007</th>\n",
       "      <td>NaN</td>\n",
       "      <td>NaN</td>\n",
       "      <td>NaN</td>\n",
       "      <td>NaN</td>\n",
       "      <td>NaN</td>\n",
       "      <td>NaN</td>\n",
       "      <td>NaN</td>\n",
       "      <td>NaN</td>\n",
       "      <td>NaN</td>\n",
       "      <td>NaN</td>\n",
       "      <td>20.0</td>\n",
       "      <td>NaN</td>\n",
       "      <td>NaN</td>\n",
       "      <td>20221003</td>\n",
       "      <td>1.1v1.2</td>\n",
       "      <td>./data/med_pc_recording_files/2022-10-03_09h45...</td>\n",
       "    </tr>\n",
       "  </tbody>\n",
       "</table>\n",
       "</div>"
      ],
      "text/plain": [
       "      (P)Portentry  (Q)USdelivery  (R)UStime  (W)ITIvalues  (S)CSpresentation  \\\n",
       "5003           NaN            NaN        NaN           NaN                NaN   \n",
       "5004           NaN            NaN        NaN           NaN                NaN   \n",
       "5005           NaN            NaN        NaN           NaN                NaN   \n",
       "5006           NaN            NaN        NaN           NaN                NaN   \n",
       "5007           NaN            NaN        NaN           NaN                NaN   \n",
       "\n",
       "      (N)Portexit  (K)CStype  (G)controlled_stimulus_secondscomputer  \\\n",
       "5003          NaN        NaN                                     NaN   \n",
       "5004          NaN        NaN                                     NaN   \n",
       "5005          NaN        NaN                                     NaN   \n",
       "5006          NaN        NaN                                     NaN   \n",
       "5007          NaN        NaN                                     NaN   \n",
       "\n",
       "      (H)controlled_stimulus_minutescomputer  \\\n",
       "5003                                     NaN   \n",
       "5004                                     NaN   \n",
       "5005                                     NaN   \n",
       "5006                                     NaN   \n",
       "5007                                     NaN   \n",
       "\n",
       "      (I)controlled_stimulus_hourscomputer  (B)port_entry_secondscomputer  \\\n",
       "5003                                   NaN                           20.0   \n",
       "5004                                   NaN                            1.0   \n",
       "5005                                   NaN                         4385.0   \n",
       "5006                                   NaN                           19.0   \n",
       "5007                                   NaN                           20.0   \n",
       "\n",
       "      (F)port_entry_minutescomputer  (J)port_entry_hourscomputer      date  \\\n",
       "5003                            NaN                          NaN  20221003   \n",
       "5004                            NaN                          NaN  20221003   \n",
       "5005                            NaN                          NaN  20221003   \n",
       "5006                            NaN                          NaN  20221003   \n",
       "5007                            NaN                          NaN  20221003   \n",
       "\n",
       "      subject                                          file_path  \n",
       "5003  1.1v1.2  ./data/med_pc_recording_files/2022-10-03_09h45...  \n",
       "5004  1.1v1.2  ./data/med_pc_recording_files/2022-10-03_09h45...  \n",
       "5005  1.1v1.2  ./data/med_pc_recording_files/2022-10-03_09h45...  \n",
       "5006  1.1v1.2  ./data/med_pc_recording_files/2022-10-03_09h45...  \n",
       "5007  1.1v1.2  ./data/med_pc_recording_files/2022-10-03_09h45...  "
      ]
     },
     "execution_count": 19,
     "metadata": {},
     "output_type": "execute_result"
    }
   ],
   "source": [
    "concatted_medpc_df.tail()"
   ]
  },
  {
   "cell_type": "markdown",
   "id": "faf9155d",
   "metadata": {},
   "source": [
    "- Dropping all rows that don't have the CS presentation time"
   ]
  },
  {
   "cell_type": "code",
   "execution_count": 20,
   "id": "c0067591",
   "metadata": {
    "scrolled": true
   },
   "outputs": [],
   "source": [
    "cs_time_df = concatted_medpc_df[concatted_medpc_df[\"(S)CSpresentation\"] != 0.0].dropna(subset=\"(S)CSpresentation\")"
   ]
  },
  {
   "cell_type": "code",
   "execution_count": 21,
   "id": "5a8cdb45",
   "metadata": {},
   "outputs": [],
   "source": [
    "cs_time_df = cs_time_df[cs_time_df[\"(S)CSpresentation\"] % 100 != 0]"
   ]
  },
  {
   "cell_type": "code",
   "execution_count": 22,
   "id": "b96708e1",
   "metadata": {},
   "outputs": [
    {
     "data": {
      "text/plain": [
       "array(['./data/med_pc_recording_files/2022-10-03_09h45m_Subject 1.1v1.2.txt'],\n",
       "      dtype=object)"
      ]
     },
     "execution_count": 22,
     "metadata": {},
     "output_type": "execute_result"
    }
   ],
   "source": [
    "cs_time_df[\"file_path\"].unique()"
   ]
  },
  {
   "cell_type": "code",
   "execution_count": 23,
   "id": "d0b5215b",
   "metadata": {},
   "outputs": [
    {
     "data": {
      "text/html": [
       "<div>\n",
       "<style scoped>\n",
       "    .dataframe tbody tr th:only-of-type {\n",
       "        vertical-align: middle;\n",
       "    }\n",
       "\n",
       "    .dataframe tbody tr th {\n",
       "        vertical-align: top;\n",
       "    }\n",
       "\n",
       "    .dataframe thead th {\n",
       "        text-align: right;\n",
       "    }\n",
       "</style>\n",
       "<table border=\"1\" class=\"dataframe\">\n",
       "  <thead>\n",
       "    <tr style=\"text-align: right;\">\n",
       "      <th></th>\n",
       "      <th>(P)Portentry</th>\n",
       "      <th>(Q)USdelivery</th>\n",
       "      <th>(R)UStime</th>\n",
       "      <th>(W)ITIvalues</th>\n",
       "      <th>(S)CSpresentation</th>\n",
       "      <th>(N)Portexit</th>\n",
       "      <th>(K)CStype</th>\n",
       "      <th>(G)controlled_stimulus_secondscomputer</th>\n",
       "      <th>(H)controlled_stimulus_minutescomputer</th>\n",
       "      <th>(I)controlled_stimulus_hourscomputer</th>\n",
       "      <th>(B)port_entry_secondscomputer</th>\n",
       "      <th>(F)port_entry_minutescomputer</th>\n",
       "      <th>(J)port_entry_hourscomputer</th>\n",
       "      <th>date</th>\n",
       "      <th>subject</th>\n",
       "      <th>file_path</th>\n",
       "    </tr>\n",
       "  </thead>\n",
       "  <tbody>\n",
       "    <tr>\n",
       "      <th>0</th>\n",
       "      <td>0.12</td>\n",
       "      <td>64.0</td>\n",
       "      <td>399.0</td>\n",
       "      <td>0.0</td>\n",
       "      <td>60.01</td>\n",
       "      <td>0.16</td>\n",
       "      <td>1.0</td>\n",
       "      <td>28.0</td>\n",
       "      <td>16.0</td>\n",
       "      <td>10.0</td>\n",
       "      <td>29.0</td>\n",
       "      <td>15.0</td>\n",
       "      <td>10.0</td>\n",
       "      <td>20221003</td>\n",
       "      <td>1.1v1.2</td>\n",
       "      <td>./data/med_pc_recording_files/2022-10-03_09h45...</td>\n",
       "    </tr>\n",
       "    <tr>\n",
       "      <th>1</th>\n",
       "      <td>10.41</td>\n",
       "      <td>144.0</td>\n",
       "      <td>399.0</td>\n",
       "      <td>0.0</td>\n",
       "      <td>140.01</td>\n",
       "      <td>10.43</td>\n",
       "      <td>1.0</td>\n",
       "      <td>49.0</td>\n",
       "      <td>17.0</td>\n",
       "      <td>10.0</td>\n",
       "      <td>39.0</td>\n",
       "      <td>15.0</td>\n",
       "      <td>10.0</td>\n",
       "      <td>20221003</td>\n",
       "      <td>1.1v1.2</td>\n",
       "      <td>./data/med_pc_recording_files/2022-10-03_09h45...</td>\n",
       "    </tr>\n",
       "    <tr>\n",
       "      <th>2</th>\n",
       "      <td>10.61</td>\n",
       "      <td>234.0</td>\n",
       "      <td>399.0</td>\n",
       "      <td>0.0</td>\n",
       "      <td>230.01</td>\n",
       "      <td>10.63</td>\n",
       "      <td>1.0</td>\n",
       "      <td>18.0</td>\n",
       "      <td>19.0</td>\n",
       "      <td>10.0</td>\n",
       "      <td>39.0</td>\n",
       "      <td>15.0</td>\n",
       "      <td>10.0</td>\n",
       "      <td>20221003</td>\n",
       "      <td>1.1v1.2</td>\n",
       "      <td>./data/med_pc_recording_files/2022-10-03_09h45...</td>\n",
       "    </tr>\n",
       "    <tr>\n",
       "      <th>3</th>\n",
       "      <td>11.20</td>\n",
       "      <td>314.0</td>\n",
       "      <td>399.0</td>\n",
       "      <td>0.0</td>\n",
       "      <td>310.01</td>\n",
       "      <td>11.42</td>\n",
       "      <td>1.0</td>\n",
       "      <td>38.0</td>\n",
       "      <td>20.0</td>\n",
       "      <td>10.0</td>\n",
       "      <td>39.0</td>\n",
       "      <td>15.0</td>\n",
       "      <td>10.0</td>\n",
       "      <td>20221003</td>\n",
       "      <td>1.1v1.2</td>\n",
       "      <td>./data/med_pc_recording_files/2022-10-03_09h45...</td>\n",
       "    </tr>\n",
       "    <tr>\n",
       "      <th>4</th>\n",
       "      <td>11.53</td>\n",
       "      <td>389.0</td>\n",
       "      <td>399.0</td>\n",
       "      <td>0.0</td>\n",
       "      <td>385.01</td>\n",
       "      <td>11.56</td>\n",
       "      <td>1.0</td>\n",
       "      <td>53.0</td>\n",
       "      <td>21.0</td>\n",
       "      <td>10.0</td>\n",
       "      <td>40.0</td>\n",
       "      <td>15.0</td>\n",
       "      <td>10.0</td>\n",
       "      <td>20221003</td>\n",
       "      <td>1.1v1.2</td>\n",
       "      <td>./data/med_pc_recording_files/2022-10-03_09h45...</td>\n",
       "    </tr>\n",
       "    <tr>\n",
       "      <th>5</th>\n",
       "      <td>11.58</td>\n",
       "      <td>489.0</td>\n",
       "      <td>399.0</td>\n",
       "      <td>0.0</td>\n",
       "      <td>485.01</td>\n",
       "      <td>11.88</td>\n",
       "      <td>1.0</td>\n",
       "      <td>33.0</td>\n",
       "      <td>23.0</td>\n",
       "      <td>10.0</td>\n",
       "      <td>40.0</td>\n",
       "      <td>15.0</td>\n",
       "      <td>10.0</td>\n",
       "      <td>20221003</td>\n",
       "      <td>1.1v1.2</td>\n",
       "      <td>./data/med_pc_recording_files/2022-10-03_09h45...</td>\n",
       "    </tr>\n",
       "    <tr>\n",
       "      <th>6</th>\n",
       "      <td>11.90</td>\n",
       "      <td>584.0</td>\n",
       "      <td>399.0</td>\n",
       "      <td>0.0</td>\n",
       "      <td>580.01</td>\n",
       "      <td>12.16</td>\n",
       "      <td>1.0</td>\n",
       "      <td>8.0</td>\n",
       "      <td>25.0</td>\n",
       "      <td>10.0</td>\n",
       "      <td>40.0</td>\n",
       "      <td>15.0</td>\n",
       "      <td>10.0</td>\n",
       "      <td>20221003</td>\n",
       "      <td>1.1v1.2</td>\n",
       "      <td>./data/med_pc_recording_files/2022-10-03_09h45...</td>\n",
       "    </tr>\n",
       "    <tr>\n",
       "      <th>7</th>\n",
       "      <td>12.67</td>\n",
       "      <td>674.0</td>\n",
       "      <td>399.0</td>\n",
       "      <td>0.0</td>\n",
       "      <td>670.01</td>\n",
       "      <td>12.93</td>\n",
       "      <td>1.0</td>\n",
       "      <td>38.0</td>\n",
       "      <td>26.0</td>\n",
       "      <td>10.0</td>\n",
       "      <td>41.0</td>\n",
       "      <td>15.0</td>\n",
       "      <td>10.0</td>\n",
       "      <td>20221003</td>\n",
       "      <td>1.1v1.2</td>\n",
       "      <td>./data/med_pc_recording_files/2022-10-03_09h45...</td>\n",
       "    </tr>\n",
       "    <tr>\n",
       "      <th>8</th>\n",
       "      <td>14.85</td>\n",
       "      <td>754.0</td>\n",
       "      <td>399.0</td>\n",
       "      <td>0.0</td>\n",
       "      <td>750.01</td>\n",
       "      <td>14.91</td>\n",
       "      <td>1.0</td>\n",
       "      <td>58.0</td>\n",
       "      <td>27.0</td>\n",
       "      <td>10.0</td>\n",
       "      <td>43.0</td>\n",
       "      <td>15.0</td>\n",
       "      <td>10.0</td>\n",
       "      <td>20221003</td>\n",
       "      <td>1.1v1.2</td>\n",
       "      <td>./data/med_pc_recording_files/2022-10-03_09h45...</td>\n",
       "    </tr>\n",
       "    <tr>\n",
       "      <th>9</th>\n",
       "      <td>18.39</td>\n",
       "      <td>844.0</td>\n",
       "      <td>399.0</td>\n",
       "      <td>0.0</td>\n",
       "      <td>840.01</td>\n",
       "      <td>18.83</td>\n",
       "      <td>1.0</td>\n",
       "      <td>28.0</td>\n",
       "      <td>29.0</td>\n",
       "      <td>10.0</td>\n",
       "      <td>47.0</td>\n",
       "      <td>15.0</td>\n",
       "      <td>10.0</td>\n",
       "      <td>20221003</td>\n",
       "      <td>1.1v1.2</td>\n",
       "      <td>./data/med_pc_recording_files/2022-10-03_09h45...</td>\n",
       "    </tr>\n",
       "    <tr>\n",
       "      <th>10</th>\n",
       "      <td>18.86</td>\n",
       "      <td>944.0</td>\n",
       "      <td>399.0</td>\n",
       "      <td>0.0</td>\n",
       "      <td>940.01</td>\n",
       "      <td>19.04</td>\n",
       "      <td>1.0</td>\n",
       "      <td>8.0</td>\n",
       "      <td>31.0</td>\n",
       "      <td>10.0</td>\n",
       "      <td>47.0</td>\n",
       "      <td>15.0</td>\n",
       "      <td>10.0</td>\n",
       "      <td>20221003</td>\n",
       "      <td>1.1v1.2</td>\n",
       "      <td>./data/med_pc_recording_files/2022-10-03_09h45...</td>\n",
       "    </tr>\n",
       "    <tr>\n",
       "      <th>11</th>\n",
       "      <td>19.06</td>\n",
       "      <td>1034.0</td>\n",
       "      <td>399.0</td>\n",
       "      <td>0.0</td>\n",
       "      <td>1030.01</td>\n",
       "      <td>19.13</td>\n",
       "      <td>1.0</td>\n",
       "      <td>38.0</td>\n",
       "      <td>32.0</td>\n",
       "      <td>10.0</td>\n",
       "      <td>48.0</td>\n",
       "      <td>15.0</td>\n",
       "      <td>10.0</td>\n",
       "      <td>20221003</td>\n",
       "      <td>1.1v1.2</td>\n",
       "      <td>./data/med_pc_recording_files/2022-10-03_09h45...</td>\n",
       "    </tr>\n",
       "    <tr>\n",
       "      <th>12</th>\n",
       "      <td>19.17</td>\n",
       "      <td>1154.0</td>\n",
       "      <td>399.0</td>\n",
       "      <td>0.0</td>\n",
       "      <td>1150.01</td>\n",
       "      <td>19.43</td>\n",
       "      <td>1.0</td>\n",
       "      <td>39.0</td>\n",
       "      <td>34.0</td>\n",
       "      <td>10.0</td>\n",
       "      <td>48.0</td>\n",
       "      <td>15.0</td>\n",
       "      <td>10.0</td>\n",
       "      <td>20221003</td>\n",
       "      <td>1.1v1.2</td>\n",
       "      <td>./data/med_pc_recording_files/2022-10-03_09h45...</td>\n",
       "    </tr>\n",
       "    <tr>\n",
       "      <th>13</th>\n",
       "      <td>19.45</td>\n",
       "      <td>1244.0</td>\n",
       "      <td>399.0</td>\n",
       "      <td>0.0</td>\n",
       "      <td>1240.01</td>\n",
       "      <td>19.48</td>\n",
       "      <td>1.0</td>\n",
       "      <td>8.0</td>\n",
       "      <td>36.0</td>\n",
       "      <td>10.0</td>\n",
       "      <td>48.0</td>\n",
       "      <td>15.0</td>\n",
       "      <td>10.0</td>\n",
       "      <td>20221003</td>\n",
       "      <td>1.1v1.2</td>\n",
       "      <td>./data/med_pc_recording_files/2022-10-03_09h45...</td>\n",
       "    </tr>\n",
       "    <tr>\n",
       "      <th>14</th>\n",
       "      <td>19.86</td>\n",
       "      <td>1329.0</td>\n",
       "      <td>399.0</td>\n",
       "      <td>0.0</td>\n",
       "      <td>1325.01</td>\n",
       "      <td>20.46</td>\n",
       "      <td>1.0</td>\n",
       "      <td>33.0</td>\n",
       "      <td>37.0</td>\n",
       "      <td>10.0</td>\n",
       "      <td>48.0</td>\n",
       "      <td>15.0</td>\n",
       "      <td>10.0</td>\n",
       "      <td>20221003</td>\n",
       "      <td>1.1v1.2</td>\n",
       "      <td>./data/med_pc_recording_files/2022-10-03_09h45...</td>\n",
       "    </tr>\n",
       "    <tr>\n",
       "      <th>15</th>\n",
       "      <td>20.48</td>\n",
       "      <td>1419.0</td>\n",
       "      <td>399.0</td>\n",
       "      <td>0.0</td>\n",
       "      <td>1415.01</td>\n",
       "      <td>20.56</td>\n",
       "      <td>1.0</td>\n",
       "      <td>4.0</td>\n",
       "      <td>39.0</td>\n",
       "      <td>10.0</td>\n",
       "      <td>49.0</td>\n",
       "      <td>15.0</td>\n",
       "      <td>10.0</td>\n",
       "      <td>20221003</td>\n",
       "      <td>1.1v1.2</td>\n",
       "      <td>./data/med_pc_recording_files/2022-10-03_09h45...</td>\n",
       "    </tr>\n",
       "    <tr>\n",
       "      <th>16</th>\n",
       "      <td>20.58</td>\n",
       "      <td>1514.0</td>\n",
       "      <td>399.0</td>\n",
       "      <td>0.0</td>\n",
       "      <td>1510.01</td>\n",
       "      <td>21.68</td>\n",
       "      <td>1.0</td>\n",
       "      <td>39.0</td>\n",
       "      <td>40.0</td>\n",
       "      <td>10.0</td>\n",
       "      <td>49.0</td>\n",
       "      <td>15.0</td>\n",
       "      <td>10.0</td>\n",
       "      <td>20221003</td>\n",
       "      <td>1.1v1.2</td>\n",
       "      <td>./data/med_pc_recording_files/2022-10-03_09h45...</td>\n",
       "    </tr>\n",
       "    <tr>\n",
       "      <th>17</th>\n",
       "      <td>21.70</td>\n",
       "      <td>1634.0</td>\n",
       "      <td>399.0</td>\n",
       "      <td>0.0</td>\n",
       "      <td>1630.01</td>\n",
       "      <td>21.80</td>\n",
       "      <td>1.0</td>\n",
       "      <td>38.0</td>\n",
       "      <td>42.0</td>\n",
       "      <td>10.0</td>\n",
       "      <td>50.0</td>\n",
       "      <td>15.0</td>\n",
       "      <td>10.0</td>\n",
       "      <td>20221003</td>\n",
       "      <td>1.1v1.2</td>\n",
       "      <td>./data/med_pc_recording_files/2022-10-03_09h45...</td>\n",
       "    </tr>\n",
       "    <tr>\n",
       "      <th>18</th>\n",
       "      <td>22.00</td>\n",
       "      <td>1714.0</td>\n",
       "      <td>399.0</td>\n",
       "      <td>0.0</td>\n",
       "      <td>1710.01</td>\n",
       "      <td>22.04</td>\n",
       "      <td>1.0</td>\n",
       "      <td>58.0</td>\n",
       "      <td>43.0</td>\n",
       "      <td>10.0</td>\n",
       "      <td>50.0</td>\n",
       "      <td>15.0</td>\n",
       "      <td>10.0</td>\n",
       "      <td>20221003</td>\n",
       "      <td>1.1v1.2</td>\n",
       "      <td>./data/med_pc_recording_files/2022-10-03_09h45...</td>\n",
       "    </tr>\n",
       "  </tbody>\n",
       "</table>\n",
       "</div>"
      ],
      "text/plain": [
       "    (P)Portentry  (Q)USdelivery  (R)UStime  (W)ITIvalues  (S)CSpresentation  \\\n",
       "0           0.12           64.0      399.0           0.0              60.01   \n",
       "1          10.41          144.0      399.0           0.0             140.01   \n",
       "2          10.61          234.0      399.0           0.0             230.01   \n",
       "3          11.20          314.0      399.0           0.0             310.01   \n",
       "4          11.53          389.0      399.0           0.0             385.01   \n",
       "5          11.58          489.0      399.0           0.0             485.01   \n",
       "6          11.90          584.0      399.0           0.0             580.01   \n",
       "7          12.67          674.0      399.0           0.0             670.01   \n",
       "8          14.85          754.0      399.0           0.0             750.01   \n",
       "9          18.39          844.0      399.0           0.0             840.01   \n",
       "10         18.86          944.0      399.0           0.0             940.01   \n",
       "11         19.06         1034.0      399.0           0.0            1030.01   \n",
       "12         19.17         1154.0      399.0           0.0            1150.01   \n",
       "13         19.45         1244.0      399.0           0.0            1240.01   \n",
       "14         19.86         1329.0      399.0           0.0            1325.01   \n",
       "15         20.48         1419.0      399.0           0.0            1415.01   \n",
       "16         20.58         1514.0      399.0           0.0            1510.01   \n",
       "17         21.70         1634.0      399.0           0.0            1630.01   \n",
       "18         22.00         1714.0      399.0           0.0            1710.01   \n",
       "\n",
       "    (N)Portexit  (K)CStype  (G)controlled_stimulus_secondscomputer  \\\n",
       "0          0.16        1.0                                    28.0   \n",
       "1         10.43        1.0                                    49.0   \n",
       "2         10.63        1.0                                    18.0   \n",
       "3         11.42        1.0                                    38.0   \n",
       "4         11.56        1.0                                    53.0   \n",
       "5         11.88        1.0                                    33.0   \n",
       "6         12.16        1.0                                     8.0   \n",
       "7         12.93        1.0                                    38.0   \n",
       "8         14.91        1.0                                    58.0   \n",
       "9         18.83        1.0                                    28.0   \n",
       "10        19.04        1.0                                     8.0   \n",
       "11        19.13        1.0                                    38.0   \n",
       "12        19.43        1.0                                    39.0   \n",
       "13        19.48        1.0                                     8.0   \n",
       "14        20.46        1.0                                    33.0   \n",
       "15        20.56        1.0                                     4.0   \n",
       "16        21.68        1.0                                    39.0   \n",
       "17        21.80        1.0                                    38.0   \n",
       "18        22.04        1.0                                    58.0   \n",
       "\n",
       "    (H)controlled_stimulus_minutescomputer  \\\n",
       "0                                     16.0   \n",
       "1                                     17.0   \n",
       "2                                     19.0   \n",
       "3                                     20.0   \n",
       "4                                     21.0   \n",
       "5                                     23.0   \n",
       "6                                     25.0   \n",
       "7                                     26.0   \n",
       "8                                     27.0   \n",
       "9                                     29.0   \n",
       "10                                    31.0   \n",
       "11                                    32.0   \n",
       "12                                    34.0   \n",
       "13                                    36.0   \n",
       "14                                    37.0   \n",
       "15                                    39.0   \n",
       "16                                    40.0   \n",
       "17                                    42.0   \n",
       "18                                    43.0   \n",
       "\n",
       "    (I)controlled_stimulus_hourscomputer  (B)port_entry_secondscomputer  \\\n",
       "0                                   10.0                           29.0   \n",
       "1                                   10.0                           39.0   \n",
       "2                                   10.0                           39.0   \n",
       "3                                   10.0                           39.0   \n",
       "4                                   10.0                           40.0   \n",
       "5                                   10.0                           40.0   \n",
       "6                                   10.0                           40.0   \n",
       "7                                   10.0                           41.0   \n",
       "8                                   10.0                           43.0   \n",
       "9                                   10.0                           47.0   \n",
       "10                                  10.0                           47.0   \n",
       "11                                  10.0                           48.0   \n",
       "12                                  10.0                           48.0   \n",
       "13                                  10.0                           48.0   \n",
       "14                                  10.0                           48.0   \n",
       "15                                  10.0                           49.0   \n",
       "16                                  10.0                           49.0   \n",
       "17                                  10.0                           50.0   \n",
       "18                                  10.0                           50.0   \n",
       "\n",
       "    (F)port_entry_minutescomputer  (J)port_entry_hourscomputer      date  \\\n",
       "0                            15.0                         10.0  20221003   \n",
       "1                            15.0                         10.0  20221003   \n",
       "2                            15.0                         10.0  20221003   \n",
       "3                            15.0                         10.0  20221003   \n",
       "4                            15.0                         10.0  20221003   \n",
       "5                            15.0                         10.0  20221003   \n",
       "6                            15.0                         10.0  20221003   \n",
       "7                            15.0                         10.0  20221003   \n",
       "8                            15.0                         10.0  20221003   \n",
       "9                            15.0                         10.0  20221003   \n",
       "10                           15.0                         10.0  20221003   \n",
       "11                           15.0                         10.0  20221003   \n",
       "12                           15.0                         10.0  20221003   \n",
       "13                           15.0                         10.0  20221003   \n",
       "14                           15.0                         10.0  20221003   \n",
       "15                           15.0                         10.0  20221003   \n",
       "16                           15.0                         10.0  20221003   \n",
       "17                           15.0                         10.0  20221003   \n",
       "18                           15.0                         10.0  20221003   \n",
       "\n",
       "    subject                                          file_path  \n",
       "0   1.1v1.2  ./data/med_pc_recording_files/2022-10-03_09h45...  \n",
       "1   1.1v1.2  ./data/med_pc_recording_files/2022-10-03_09h45...  \n",
       "2   1.1v1.2  ./data/med_pc_recording_files/2022-10-03_09h45...  \n",
       "3   1.1v1.2  ./data/med_pc_recording_files/2022-10-03_09h45...  \n",
       "4   1.1v1.2  ./data/med_pc_recording_files/2022-10-03_09h45...  \n",
       "5   1.1v1.2  ./data/med_pc_recording_files/2022-10-03_09h45...  \n",
       "6   1.1v1.2  ./data/med_pc_recording_files/2022-10-03_09h45...  \n",
       "7   1.1v1.2  ./data/med_pc_recording_files/2022-10-03_09h45...  \n",
       "8   1.1v1.2  ./data/med_pc_recording_files/2022-10-03_09h45...  \n",
       "9   1.1v1.2  ./data/med_pc_recording_files/2022-10-03_09h45...  \n",
       "10  1.1v1.2  ./data/med_pc_recording_files/2022-10-03_09h45...  \n",
       "11  1.1v1.2  ./data/med_pc_recording_files/2022-10-03_09h45...  \n",
       "12  1.1v1.2  ./data/med_pc_recording_files/2022-10-03_09h45...  \n",
       "13  1.1v1.2  ./data/med_pc_recording_files/2022-10-03_09h45...  \n",
       "14  1.1v1.2  ./data/med_pc_recording_files/2022-10-03_09h45...  \n",
       "15  1.1v1.2  ./data/med_pc_recording_files/2022-10-03_09h45...  \n",
       "16  1.1v1.2  ./data/med_pc_recording_files/2022-10-03_09h45...  \n",
       "17  1.1v1.2  ./data/med_pc_recording_files/2022-10-03_09h45...  \n",
       "18  1.1v1.2  ./data/med_pc_recording_files/2022-10-03_09h45...  "
      ]
     },
     "execution_count": 23,
     "metadata": {},
     "output_type": "execute_result"
    }
   ],
   "source": [
    "cs_time_df"
   ]
  },
  {
   "cell_type": "code",
   "execution_count": 24,
   "id": "8e3f4677",
   "metadata": {},
   "outputs": [],
   "source": [
    "cs_time_df[\"cs_minute_only\"] = cs_time_df[\"(S)CSpresentation\"] // 60\n",
    "cs_time_df[\"cs_second_only\"] = cs_time_df[\"(S)CSpresentation\"] % 60\n"
   ]
  },
  {
   "cell_type": "code",
   "execution_count": null,
   "id": "c4314ea8",
   "metadata": {},
   "outputs": [],
   "source": []
  },
  {
   "cell_type": "markdown",
   "id": "ae2c8e78",
   "metadata": {},
   "source": [
    "## Getting a list of the Tone presentation times"
   ]
  },
  {
   "cell_type": "code",
   "execution_count": 25,
   "id": "07e2dc00",
   "metadata": {},
   "outputs": [],
   "source": [
    "cs_presentation_time = cs_time_df[[\"(S)CSpresentation\", \"cs_minute_only\", \"cs_second_only\"]]"
   ]
  },
  {
   "cell_type": "code",
   "execution_count": 26,
   "id": "b83f77e8",
   "metadata": {},
   "outputs": [
    {
     "data": {
      "text/html": [
       "<div>\n",
       "<style scoped>\n",
       "    .dataframe tbody tr th:only-of-type {\n",
       "        vertical-align: middle;\n",
       "    }\n",
       "\n",
       "    .dataframe tbody tr th {\n",
       "        vertical-align: top;\n",
       "    }\n",
       "\n",
       "    .dataframe thead th {\n",
       "        text-align: right;\n",
       "    }\n",
       "</style>\n",
       "<table border=\"1\" class=\"dataframe\">\n",
       "  <thead>\n",
       "    <tr style=\"text-align: right;\">\n",
       "      <th></th>\n",
       "      <th>(S)CSpresentation</th>\n",
       "      <th>cs_minute_only</th>\n",
       "      <th>cs_second_only</th>\n",
       "    </tr>\n",
       "  </thead>\n",
       "  <tbody>\n",
       "    <tr>\n",
       "      <th>0</th>\n",
       "      <td>60.01</td>\n",
       "      <td>1.0</td>\n",
       "      <td>0.01</td>\n",
       "    </tr>\n",
       "    <tr>\n",
       "      <th>1</th>\n",
       "      <td>140.01</td>\n",
       "      <td>2.0</td>\n",
       "      <td>20.01</td>\n",
       "    </tr>\n",
       "    <tr>\n",
       "      <th>2</th>\n",
       "      <td>230.01</td>\n",
       "      <td>3.0</td>\n",
       "      <td>50.01</td>\n",
       "    </tr>\n",
       "    <tr>\n",
       "      <th>3</th>\n",
       "      <td>310.01</td>\n",
       "      <td>5.0</td>\n",
       "      <td>10.01</td>\n",
       "    </tr>\n",
       "    <tr>\n",
       "      <th>4</th>\n",
       "      <td>385.01</td>\n",
       "      <td>6.0</td>\n",
       "      <td>25.01</td>\n",
       "    </tr>\n",
       "    <tr>\n",
       "      <th>5</th>\n",
       "      <td>485.01</td>\n",
       "      <td>8.0</td>\n",
       "      <td>5.01</td>\n",
       "    </tr>\n",
       "    <tr>\n",
       "      <th>6</th>\n",
       "      <td>580.01</td>\n",
       "      <td>9.0</td>\n",
       "      <td>40.01</td>\n",
       "    </tr>\n",
       "    <tr>\n",
       "      <th>7</th>\n",
       "      <td>670.01</td>\n",
       "      <td>11.0</td>\n",
       "      <td>10.01</td>\n",
       "    </tr>\n",
       "    <tr>\n",
       "      <th>8</th>\n",
       "      <td>750.01</td>\n",
       "      <td>12.0</td>\n",
       "      <td>30.01</td>\n",
       "    </tr>\n",
       "    <tr>\n",
       "      <th>9</th>\n",
       "      <td>840.01</td>\n",
       "      <td>14.0</td>\n",
       "      <td>0.01</td>\n",
       "    </tr>\n",
       "    <tr>\n",
       "      <th>10</th>\n",
       "      <td>940.01</td>\n",
       "      <td>15.0</td>\n",
       "      <td>40.01</td>\n",
       "    </tr>\n",
       "    <tr>\n",
       "      <th>11</th>\n",
       "      <td>1030.01</td>\n",
       "      <td>17.0</td>\n",
       "      <td>10.01</td>\n",
       "    </tr>\n",
       "    <tr>\n",
       "      <th>12</th>\n",
       "      <td>1150.01</td>\n",
       "      <td>19.0</td>\n",
       "      <td>10.01</td>\n",
       "    </tr>\n",
       "    <tr>\n",
       "      <th>13</th>\n",
       "      <td>1240.01</td>\n",
       "      <td>20.0</td>\n",
       "      <td>40.01</td>\n",
       "    </tr>\n",
       "    <tr>\n",
       "      <th>14</th>\n",
       "      <td>1325.01</td>\n",
       "      <td>22.0</td>\n",
       "      <td>5.01</td>\n",
       "    </tr>\n",
       "    <tr>\n",
       "      <th>15</th>\n",
       "      <td>1415.01</td>\n",
       "      <td>23.0</td>\n",
       "      <td>35.01</td>\n",
       "    </tr>\n",
       "    <tr>\n",
       "      <th>16</th>\n",
       "      <td>1510.01</td>\n",
       "      <td>25.0</td>\n",
       "      <td>10.01</td>\n",
       "    </tr>\n",
       "    <tr>\n",
       "      <th>17</th>\n",
       "      <td>1630.01</td>\n",
       "      <td>27.0</td>\n",
       "      <td>10.01</td>\n",
       "    </tr>\n",
       "    <tr>\n",
       "      <th>18</th>\n",
       "      <td>1710.01</td>\n",
       "      <td>28.0</td>\n",
       "      <td>30.01</td>\n",
       "    </tr>\n",
       "  </tbody>\n",
       "</table>\n",
       "</div>"
      ],
      "text/plain": [
       "    (S)CSpresentation  cs_minute_only  cs_second_only\n",
       "0               60.01             1.0            0.01\n",
       "1              140.01             2.0           20.01\n",
       "2              230.01             3.0           50.01\n",
       "3              310.01             5.0           10.01\n",
       "4              385.01             6.0           25.01\n",
       "5              485.01             8.0            5.01\n",
       "6              580.01             9.0           40.01\n",
       "7              670.01            11.0           10.01\n",
       "8              750.01            12.0           30.01\n",
       "9              840.01            14.0            0.01\n",
       "10             940.01            15.0           40.01\n",
       "11            1030.01            17.0           10.01\n",
       "12            1150.01            19.0           10.01\n",
       "13            1240.01            20.0           40.01\n",
       "14            1325.01            22.0            5.01\n",
       "15            1415.01            23.0           35.01\n",
       "16            1510.01            25.0           10.01\n",
       "17            1630.01            27.0           10.01\n",
       "18            1710.01            28.0           30.01"
      ]
     },
     "execution_count": 26,
     "metadata": {},
     "output_type": "execute_result"
    }
   ],
   "source": [
    "cs_presentation_time"
   ]
  },
  {
   "cell_type": "markdown",
   "id": "9a473a52",
   "metadata": {},
   "source": [
    "# Importing Video Data"
   ]
  },
  {
   "cell_type": "code",
   "execution_count": 27,
   "id": "d8d76bac",
   "metadata": {},
   "outputs": [],
   "source": [
    "from IPython.display import Video"
   ]
  },
  {
   "cell_type": "markdown",
   "id": "c11dc8e7",
   "metadata": {},
   "source": [
    "1. Play the video, and go to time where the first tone is played in the dataframe above\n",
    "    - Usually 1 minute\n",
    "2. Note when the first tone is playing in the video\n",
    "3. Subtract the difference between the time that the tone is playing in the video and in the dataframe\n",
    "    - i.e. 1 minute 12 seconds - 1 minute = 12 seconds"
   ]
  },
  {
   "cell_type": "code",
   "execution_count": 28,
   "id": "4fb0f382",
   "metadata": {},
   "outputs": [],
   "source": [
    "all_video_paths = sorted(glob.glob(\"/nancy/user/riwata/projects/reward_competition_videos/Reward_Competition_D1_videos/*1*v*1*.mp4\"))"
   ]
  },
  {
   "cell_type": "code",
   "execution_count": 29,
   "id": "aac2649c",
   "metadata": {},
   "outputs": [],
   "source": [
    "all_video_paths = sorted(glob.glob(\"/nancy/user/riwata/projects/reward_competition_videos/Reward_Competition_D1_videos/*2*v*2*.mp4\"))"
   ]
  },
  {
   "cell_type": "raw",
   "id": "21ddcc2f",
   "metadata": {},
   "source": [
    "all_video_paths = sorted(glob.glob(\"/nancy/user/riwata/projects/reward_competition_videos/Reward_Competition_D1_videos/*3*v*3*.mp4\"))"
   ]
  },
  {
   "cell_type": "raw",
   "id": "c30641ff",
   "metadata": {},
   "source": [
    "all_video_paths = sorted(glob.glob(\"/nancy/user/riwata/projects/reward_competition_videos/Reward_Competition_D1_videos/*4*v*4*.mp4\"))"
   ]
  },
  {
   "cell_type": "raw",
   "id": "69b16647",
   "metadata": {},
   "source": [
    "all_video_paths = sorted(glob.glob(\"/nancy/user/riwata/projects/reward_competition_videos/Reward_Competition_D1_videos/*5*v*5*.mp4\"))"
   ]
  },
  {
   "cell_type": "raw",
   "id": "e5d97b91",
   "metadata": {},
   "source": [
    "all_video_paths = sorted(glob.glob(\"/nancy/user/riwata/projects/reward_competition_videos/Reward_Competition_D1_videos/*6*v*6*.mp4\"))"
   ]
  },
  {
   "cell_type": "code",
   "execution_count": 30,
   "id": "c527f315",
   "metadata": {},
   "outputs": [
    {
     "data": {
      "text/plain": [
       "['/nancy/user/riwata/projects/reward_competition_videos/Reward_Competition_D1_videos/10-03-22_Test 11_6-1v6-2.mp4',\n",
       " '/nancy/user/riwata/projects/reward_competition_videos/Reward_Competition_D1_videos/10-03-22_Test 13_2-2v2-4.mp4',\n",
       " '/nancy/user/riwata/projects/reward_competition_videos/Reward_Competition_D1_videos/10-03-22_Test 14_2-1v2-3.mp4',\n",
       " '/nancy/user/riwata/projects/reward_competition_videos/Reward_Competition_D1_videos/10-03-22_Test 1_1-1v1-2.mp4',\n",
       " '/nancy/user/riwata/projects/reward_competition_videos/Reward_Competition_D1_videos/10-03-22_Test 27_2-2v2-3.mp4',\n",
       " '/nancy/user/riwata/projects/reward_competition_videos/Reward_Competition_D1_videos/10-03-22_Test 28_2-1v2-4.mp4',\n",
       " '/nancy/user/riwata/projects/reward_competition_videos/Reward_Competition_D1_videos/10-03-22_Test 3_2-1v2-2.mp4',\n",
       " '/nancy/user/riwata/projects/reward_competition_videos/Reward_Competition_D1_videos/10-03-22_Test 4_2-3v2-4.mp4',\n",
       " '/nancy/user/riwata/projects/reward_competition_videos/Reward_Competition_D1_videos/10-03-22_Test 5_3-1v3-2.mp4',\n",
       " '/nancy/user/riwata/projects/reward_competition_videos/Reward_Competition_D1_videos/10-03-22_Test 7_4-1v4-2.mp4',\n",
       " '/nancy/user/riwata/projects/reward_competition_videos/Reward_Competition_D1_videos/10-03-22_Test 9_5-1v5-2.mp4']"
      ]
     },
     "execution_count": 30,
     "metadata": {},
     "output_type": "execute_result"
    }
   ],
   "source": [
    "all_video_paths"
   ]
  },
  {
   "cell_type": "code",
   "execution_count": 31,
   "id": "6613a36b",
   "metadata": {},
   "outputs": [],
   "source": [
    "video_path = all_video_paths[5]"
   ]
  },
  {
   "cell_type": "markdown",
   "id": "6e0aa5f1",
   "metadata": {},
   "source": [
    "# OVER HERE"
   ]
  },
  {
   "cell_type": "code",
   "execution_count": 32,
   "id": "59296c49",
   "metadata": {},
   "outputs": [],
   "source": [
    "video_file_name = \"10-03-22_Test 10_5-3v5-4.mp4\""
   ]
  },
  {
   "cell_type": "code",
   "execution_count": 33,
   "id": "1af8c082",
   "metadata": {},
   "outputs": [],
   "source": [
    "video_path = os.path.join(\"/nancy/user/riwata/projects/reward_competition_videos/Reward_Competition_D1_videos/\", video_file_name)"
   ]
  },
  {
   "cell_type": "code",
   "execution_count": 34,
   "id": "d1add847",
   "metadata": {},
   "outputs": [
    {
     "data": {
      "text/plain": [
       "'/nancy/user/riwata/projects/reward_competition_videos/Reward_Competition_D1_videos/10-03-22_Test 10_5-3v5-4.mp4'"
      ]
     },
     "execution_count": 34,
     "metadata": {},
     "output_type": "execute_result"
    }
   ],
   "source": [
    "video_path"
   ]
  },
  {
   "cell_type": "raw",
   "id": "730b31d6",
   "metadata": {},
   "source": [
    "Video(video_path, embed=True)"
   ]
  },
  {
   "cell_type": "markdown",
   "id": "d5f50bcd",
   "metadata": {},
   "source": [
    "## Calculating the predicted tone times in the video based on the difference"
   ]
  },
  {
   "cell_type": "markdown",
   "id": "ae9d8b15",
   "metadata": {},
   "source": [
    "# NOTE: Change the value of the difference below"
   ]
  },
  {
   "cell_type": "code",
   "execution_count": 35,
   "id": "42a989fd",
   "metadata": {},
   "outputs": [],
   "source": [
    "cs_time_difference = 11"
   ]
  },
  {
   "cell_type": "code",
   "execution_count": 36,
   "id": "a27584bf",
   "metadata": {},
   "outputs": [],
   "source": [
    "cs_presentation_time[\"video_cs_time\"] = cs_presentation_time[\"(S)CSpresentation\"] + cs_time_difference"
   ]
  },
  {
   "cell_type": "code",
   "execution_count": 37,
   "id": "f1d06253",
   "metadata": {
    "scrolled": true
   },
   "outputs": [
    {
     "data": {
      "text/html": [
       "<div>\n",
       "<style scoped>\n",
       "    .dataframe tbody tr th:only-of-type {\n",
       "        vertical-align: middle;\n",
       "    }\n",
       "\n",
       "    .dataframe tbody tr th {\n",
       "        vertical-align: top;\n",
       "    }\n",
       "\n",
       "    .dataframe thead th {\n",
       "        text-align: right;\n",
       "    }\n",
       "</style>\n",
       "<table border=\"1\" class=\"dataframe\">\n",
       "  <thead>\n",
       "    <tr style=\"text-align: right;\">\n",
       "      <th></th>\n",
       "      <th>(S)CSpresentation</th>\n",
       "      <th>cs_minute_only</th>\n",
       "      <th>cs_second_only</th>\n",
       "      <th>video_cs_time</th>\n",
       "    </tr>\n",
       "  </thead>\n",
       "  <tbody>\n",
       "    <tr>\n",
       "      <th>0</th>\n",
       "      <td>60.01</td>\n",
       "      <td>1.0</td>\n",
       "      <td>0.01</td>\n",
       "      <td>71.01</td>\n",
       "    </tr>\n",
       "    <tr>\n",
       "      <th>1</th>\n",
       "      <td>140.01</td>\n",
       "      <td>2.0</td>\n",
       "      <td>20.01</td>\n",
       "      <td>151.01</td>\n",
       "    </tr>\n",
       "    <tr>\n",
       "      <th>2</th>\n",
       "      <td>230.01</td>\n",
       "      <td>3.0</td>\n",
       "      <td>50.01</td>\n",
       "      <td>241.01</td>\n",
       "    </tr>\n",
       "    <tr>\n",
       "      <th>3</th>\n",
       "      <td>310.01</td>\n",
       "      <td>5.0</td>\n",
       "      <td>10.01</td>\n",
       "      <td>321.01</td>\n",
       "    </tr>\n",
       "    <tr>\n",
       "      <th>4</th>\n",
       "      <td>385.01</td>\n",
       "      <td>6.0</td>\n",
       "      <td>25.01</td>\n",
       "      <td>396.01</td>\n",
       "    </tr>\n",
       "    <tr>\n",
       "      <th>5</th>\n",
       "      <td>485.01</td>\n",
       "      <td>8.0</td>\n",
       "      <td>5.01</td>\n",
       "      <td>496.01</td>\n",
       "    </tr>\n",
       "    <tr>\n",
       "      <th>6</th>\n",
       "      <td>580.01</td>\n",
       "      <td>9.0</td>\n",
       "      <td>40.01</td>\n",
       "      <td>591.01</td>\n",
       "    </tr>\n",
       "    <tr>\n",
       "      <th>7</th>\n",
       "      <td>670.01</td>\n",
       "      <td>11.0</td>\n",
       "      <td>10.01</td>\n",
       "      <td>681.01</td>\n",
       "    </tr>\n",
       "    <tr>\n",
       "      <th>8</th>\n",
       "      <td>750.01</td>\n",
       "      <td>12.0</td>\n",
       "      <td>30.01</td>\n",
       "      <td>761.01</td>\n",
       "    </tr>\n",
       "    <tr>\n",
       "      <th>9</th>\n",
       "      <td>840.01</td>\n",
       "      <td>14.0</td>\n",
       "      <td>0.01</td>\n",
       "      <td>851.01</td>\n",
       "    </tr>\n",
       "    <tr>\n",
       "      <th>10</th>\n",
       "      <td>940.01</td>\n",
       "      <td>15.0</td>\n",
       "      <td>40.01</td>\n",
       "      <td>951.01</td>\n",
       "    </tr>\n",
       "    <tr>\n",
       "      <th>11</th>\n",
       "      <td>1030.01</td>\n",
       "      <td>17.0</td>\n",
       "      <td>10.01</td>\n",
       "      <td>1041.01</td>\n",
       "    </tr>\n",
       "    <tr>\n",
       "      <th>12</th>\n",
       "      <td>1150.01</td>\n",
       "      <td>19.0</td>\n",
       "      <td>10.01</td>\n",
       "      <td>1161.01</td>\n",
       "    </tr>\n",
       "    <tr>\n",
       "      <th>13</th>\n",
       "      <td>1240.01</td>\n",
       "      <td>20.0</td>\n",
       "      <td>40.01</td>\n",
       "      <td>1251.01</td>\n",
       "    </tr>\n",
       "    <tr>\n",
       "      <th>14</th>\n",
       "      <td>1325.01</td>\n",
       "      <td>22.0</td>\n",
       "      <td>5.01</td>\n",
       "      <td>1336.01</td>\n",
       "    </tr>\n",
       "    <tr>\n",
       "      <th>15</th>\n",
       "      <td>1415.01</td>\n",
       "      <td>23.0</td>\n",
       "      <td>35.01</td>\n",
       "      <td>1426.01</td>\n",
       "    </tr>\n",
       "    <tr>\n",
       "      <th>16</th>\n",
       "      <td>1510.01</td>\n",
       "      <td>25.0</td>\n",
       "      <td>10.01</td>\n",
       "      <td>1521.01</td>\n",
       "    </tr>\n",
       "    <tr>\n",
       "      <th>17</th>\n",
       "      <td>1630.01</td>\n",
       "      <td>27.0</td>\n",
       "      <td>10.01</td>\n",
       "      <td>1641.01</td>\n",
       "    </tr>\n",
       "    <tr>\n",
       "      <th>18</th>\n",
       "      <td>1710.01</td>\n",
       "      <td>28.0</td>\n",
       "      <td>30.01</td>\n",
       "      <td>1721.01</td>\n",
       "    </tr>\n",
       "  </tbody>\n",
       "</table>\n",
       "</div>"
      ],
      "text/plain": [
       "    (S)CSpresentation  cs_minute_only  cs_second_only  video_cs_time\n",
       "0               60.01             1.0            0.01          71.01\n",
       "1              140.01             2.0           20.01         151.01\n",
       "2              230.01             3.0           50.01         241.01\n",
       "3              310.01             5.0           10.01         321.01\n",
       "4              385.01             6.0           25.01         396.01\n",
       "5              485.01             8.0            5.01         496.01\n",
       "6              580.01             9.0           40.01         591.01\n",
       "7              670.01            11.0           10.01         681.01\n",
       "8              750.01            12.0           30.01         761.01\n",
       "9              840.01            14.0            0.01         851.01\n",
       "10             940.01            15.0           40.01         951.01\n",
       "11            1030.01            17.0           10.01        1041.01\n",
       "12            1150.01            19.0           10.01        1161.01\n",
       "13            1240.01            20.0           40.01        1251.01\n",
       "14            1325.01            22.0            5.01        1336.01\n",
       "15            1415.01            23.0           35.01        1426.01\n",
       "16            1510.01            25.0           10.01        1521.01\n",
       "17            1630.01            27.0           10.01        1641.01\n",
       "18            1710.01            28.0           30.01        1721.01"
      ]
     },
     "execution_count": 37,
     "metadata": {},
     "output_type": "execute_result"
    }
   ],
   "source": [
    "cs_presentation_time"
   ]
  },
  {
   "cell_type": "code",
   "execution_count": 38,
   "id": "541fb754",
   "metadata": {},
   "outputs": [],
   "source": [
    "cs_presentation_time[\"video_cs_minute_only\"] = cs_presentation_time[\"video_cs_time\"] // 60\n",
    "cs_presentation_time[\"video_cs_second_only\"] = cs_presentation_time[\"video_cs_time\"] % 60\n"
   ]
  },
  {
   "cell_type": "markdown",
   "id": "78318ba8",
   "metadata": {},
   "source": [
    "# Trimming the video"
   ]
  },
  {
   "cell_type": "code",
   "execution_count": 39,
   "id": "e3f90100",
   "metadata": {},
   "outputs": [],
   "source": [
    "video_object = VideoFileClip(video_path)"
   ]
  },
  {
   "cell_type": "code",
   "execution_count": 40,
   "id": "1360d5a8",
   "metadata": {},
   "outputs": [
    {
     "data": {
      "text/plain": [
       "1865.06"
      ]
     },
     "execution_count": 40,
     "metadata": {},
     "output_type": "execute_result"
    }
   ],
   "source": [
    "video_object.duration"
   ]
  },
  {
   "cell_type": "markdown",
   "id": "b27e7765",
   "metadata": {},
   "source": [
    "fixed func issue with: https://github.com/Zulko/moviepy/issues/1765\n"
   ]
  },
  {
   "cell_type": "code",
   "execution_count": null,
   "id": "10804840",
   "metadata": {},
   "outputs": [],
   "source": []
  },
  {
   "cell_type": "code",
   "execution_count": 41,
   "id": "1bf0179a",
   "metadata": {},
   "outputs": [
    {
     "data": {
      "text/plain": [
       "'/nancy/user/riwata/projects/reward_competition_videos/Reward_Competition_D1_videos/10-03-22_Test 10_5-3v5-4.mp4'"
      ]
     },
     "execution_count": 41,
     "metadata": {},
     "output_type": "execute_result"
    }
   ],
   "source": [
    "video_path"
   ]
  },
  {
   "cell_type": "code",
   "execution_count": 42,
   "id": "5f53036b",
   "metadata": {},
   "outputs": [],
   "source": [
    "file_name = os.path.basename(video_path)\n",
    "file_name_without_extention = os.path.splitext(file_name)[0]\n",
    "file_name_without_extention = \"_\".join(file_name_without_extention.split())"
   ]
  },
  {
   "cell_type": "code",
   "execution_count": 43,
   "id": "82cf8f26",
   "metadata": {},
   "outputs": [
    {
     "data": {
      "text/plain": [
       "'10-03-22_Test_10_5-3v5-4'"
      ]
     },
     "execution_count": 43,
     "metadata": {},
     "output_type": "execute_result"
    }
   ],
   "source": [
    "file_name_without_extention"
   ]
  },
  {
   "cell_type": "code",
   "execution_count": 44,
   "id": "282b3da1",
   "metadata": {},
   "outputs": [],
   "source": [
    "clip_output_dir = \"/nancy/user/riwata/projects/reward_competition_videos/pilot_3_day_1_cs_clips\""
   ]
  },
  {
   "cell_type": "code",
   "execution_count": 45,
   "id": "faf4cd2d",
   "metadata": {},
   "outputs": [],
   "source": [
    "current_clip_output_dir = os.path.join(clip_output_dir, file_name_without_extention)\n",
    "os.makedirs(current_clip_output_dir, exist_ok=True)"
   ]
  },
  {
   "cell_type": "code",
   "execution_count": 46,
   "id": "05ee8875",
   "metadata": {},
   "outputs": [
    {
     "name": "stdout",
     "output_type": "stream",
     "text": [
      "cs_number_01_date_10-03-22_Test_10_5-3v5-4.mp4\n",
      "Moviepy - Building video /nancy/user/riwata/projects/reward_competition_videos/pilot_3_day_1_cs_clips/10-03-22_Test_10_5-3v5-4/cs_number_01_date_10-03-22_Test_10_5-3v5-4.mp4.\n",
      "Moviepy - Writing video /nancy/user/riwata/projects/reward_competition_videos/pilot_3_day_1_cs_clips/10-03-22_Test_10_5-3v5-4/cs_number_01_date_10-03-22_Test_10_5-3v5-4.mp4\n",
      "\n"
     ]
    },
    {
     "name": "stderr",
     "output_type": "stream",
     "text": [
      "                                        \r"
     ]
    },
    {
     "name": "stdout",
     "output_type": "stream",
     "text": [
      "Moviepy - Done !\n",
      "Moviepy - video ready /nancy/user/riwata/projects/reward_competition_videos/pilot_3_day_1_cs_clips/10-03-22_Test_10_5-3v5-4/cs_number_01_date_10-03-22_Test_10_5-3v5-4.mp4\n",
      "cs_number_02_date_10-03-22_Test_10_5-3v5-4.mp4\n",
      "Moviepy - Building video /nancy/user/riwata/projects/reward_competition_videos/pilot_3_day_1_cs_clips/10-03-22_Test_10_5-3v5-4/cs_number_02_date_10-03-22_Test_10_5-3v5-4.mp4.\n",
      "Moviepy - Writing video /nancy/user/riwata/projects/reward_competition_videos/pilot_3_day_1_cs_clips/10-03-22_Test_10_5-3v5-4/cs_number_02_date_10-03-22_Test_10_5-3v5-4.mp4\n",
      "\n"
     ]
    },
    {
     "name": "stderr",
     "output_type": "stream",
     "text": [
      "                                        \r"
     ]
    },
    {
     "name": "stdout",
     "output_type": "stream",
     "text": [
      "Moviepy - Done !\n",
      "Moviepy - video ready /nancy/user/riwata/projects/reward_competition_videos/pilot_3_day_1_cs_clips/10-03-22_Test_10_5-3v5-4/cs_number_02_date_10-03-22_Test_10_5-3v5-4.mp4\n",
      "cs_number_03_date_10-03-22_Test_10_5-3v5-4.mp4\n",
      "Moviepy - Building video /nancy/user/riwata/projects/reward_competition_videos/pilot_3_day_1_cs_clips/10-03-22_Test_10_5-3v5-4/cs_number_03_date_10-03-22_Test_10_5-3v5-4.mp4.\n",
      "Moviepy - Writing video /nancy/user/riwata/projects/reward_competition_videos/pilot_3_day_1_cs_clips/10-03-22_Test_10_5-3v5-4/cs_number_03_date_10-03-22_Test_10_5-3v5-4.mp4\n",
      "\n"
     ]
    },
    {
     "name": "stderr",
     "output_type": "stream",
     "text": [
      "                                        \r"
     ]
    },
    {
     "name": "stdout",
     "output_type": "stream",
     "text": [
      "Moviepy - Done !\n",
      "Moviepy - video ready /nancy/user/riwata/projects/reward_competition_videos/pilot_3_day_1_cs_clips/10-03-22_Test_10_5-3v5-4/cs_number_03_date_10-03-22_Test_10_5-3v5-4.mp4\n",
      "cs_number_04_date_10-03-22_Test_10_5-3v5-4.mp4\n",
      "Moviepy - Building video /nancy/user/riwata/projects/reward_competition_videos/pilot_3_day_1_cs_clips/10-03-22_Test_10_5-3v5-4/cs_number_04_date_10-03-22_Test_10_5-3v5-4.mp4.\n",
      "Moviepy - Writing video /nancy/user/riwata/projects/reward_competition_videos/pilot_3_day_1_cs_clips/10-03-22_Test_10_5-3v5-4/cs_number_04_date_10-03-22_Test_10_5-3v5-4.mp4\n",
      "\n"
     ]
    },
    {
     "name": "stderr",
     "output_type": "stream",
     "text": [
      "                                        \r"
     ]
    },
    {
     "name": "stdout",
     "output_type": "stream",
     "text": [
      "Moviepy - Done !\n",
      "Moviepy - video ready /nancy/user/riwata/projects/reward_competition_videos/pilot_3_day_1_cs_clips/10-03-22_Test_10_5-3v5-4/cs_number_04_date_10-03-22_Test_10_5-3v5-4.mp4\n",
      "cs_number_05_date_10-03-22_Test_10_5-3v5-4.mp4\n",
      "Moviepy - Building video /nancy/user/riwata/projects/reward_competition_videos/pilot_3_day_1_cs_clips/10-03-22_Test_10_5-3v5-4/cs_number_05_date_10-03-22_Test_10_5-3v5-4.mp4.\n",
      "Moviepy - Writing video /nancy/user/riwata/projects/reward_competition_videos/pilot_3_day_1_cs_clips/10-03-22_Test_10_5-3v5-4/cs_number_05_date_10-03-22_Test_10_5-3v5-4.mp4\n",
      "\n"
     ]
    },
    {
     "name": "stderr",
     "output_type": "stream",
     "text": [
      "                                        \r"
     ]
    },
    {
     "name": "stdout",
     "output_type": "stream",
     "text": [
      "Moviepy - Done !\n",
      "Moviepy - video ready /nancy/user/riwata/projects/reward_competition_videos/pilot_3_day_1_cs_clips/10-03-22_Test_10_5-3v5-4/cs_number_05_date_10-03-22_Test_10_5-3v5-4.mp4\n",
      "cs_number_06_date_10-03-22_Test_10_5-3v5-4.mp4\n",
      "Moviepy - Building video /nancy/user/riwata/projects/reward_competition_videos/pilot_3_day_1_cs_clips/10-03-22_Test_10_5-3v5-4/cs_number_06_date_10-03-22_Test_10_5-3v5-4.mp4.\n",
      "Moviepy - Writing video /nancy/user/riwata/projects/reward_competition_videos/pilot_3_day_1_cs_clips/10-03-22_Test_10_5-3v5-4/cs_number_06_date_10-03-22_Test_10_5-3v5-4.mp4\n",
      "\n"
     ]
    },
    {
     "name": "stderr",
     "output_type": "stream",
     "text": [
      "                                        \r"
     ]
    },
    {
     "name": "stdout",
     "output_type": "stream",
     "text": [
      "Moviepy - Done !\n",
      "Moviepy - video ready /nancy/user/riwata/projects/reward_competition_videos/pilot_3_day_1_cs_clips/10-03-22_Test_10_5-3v5-4/cs_number_06_date_10-03-22_Test_10_5-3v5-4.mp4\n",
      "cs_number_07_date_10-03-22_Test_10_5-3v5-4.mp4\n",
      "Moviepy - Building video /nancy/user/riwata/projects/reward_competition_videos/pilot_3_day_1_cs_clips/10-03-22_Test_10_5-3v5-4/cs_number_07_date_10-03-22_Test_10_5-3v5-4.mp4.\n",
      "Moviepy - Writing video /nancy/user/riwata/projects/reward_competition_videos/pilot_3_day_1_cs_clips/10-03-22_Test_10_5-3v5-4/cs_number_07_date_10-03-22_Test_10_5-3v5-4.mp4\n",
      "\n"
     ]
    },
    {
     "name": "stderr",
     "output_type": "stream",
     "text": [
      "                                        \r"
     ]
    },
    {
     "name": "stdout",
     "output_type": "stream",
     "text": [
      "Moviepy - Done !\n",
      "Moviepy - video ready /nancy/user/riwata/projects/reward_competition_videos/pilot_3_day_1_cs_clips/10-03-22_Test_10_5-3v5-4/cs_number_07_date_10-03-22_Test_10_5-3v5-4.mp4\n",
      "cs_number_08_date_10-03-22_Test_10_5-3v5-4.mp4\n",
      "Moviepy - Building video /nancy/user/riwata/projects/reward_competition_videos/pilot_3_day_1_cs_clips/10-03-22_Test_10_5-3v5-4/cs_number_08_date_10-03-22_Test_10_5-3v5-4.mp4.\n",
      "Moviepy - Writing video /nancy/user/riwata/projects/reward_competition_videos/pilot_3_day_1_cs_clips/10-03-22_Test_10_5-3v5-4/cs_number_08_date_10-03-22_Test_10_5-3v5-4.mp4\n",
      "\n"
     ]
    },
    {
     "name": "stderr",
     "output_type": "stream",
     "text": [
      "                                        \r"
     ]
    },
    {
     "name": "stdout",
     "output_type": "stream",
     "text": [
      "Moviepy - Done !\n",
      "Moviepy - video ready /nancy/user/riwata/projects/reward_competition_videos/pilot_3_day_1_cs_clips/10-03-22_Test_10_5-3v5-4/cs_number_08_date_10-03-22_Test_10_5-3v5-4.mp4\n",
      "cs_number_09_date_10-03-22_Test_10_5-3v5-4.mp4\n",
      "Moviepy - Building video /nancy/user/riwata/projects/reward_competition_videos/pilot_3_day_1_cs_clips/10-03-22_Test_10_5-3v5-4/cs_number_09_date_10-03-22_Test_10_5-3v5-4.mp4.\n",
      "Moviepy - Writing video /nancy/user/riwata/projects/reward_competition_videos/pilot_3_day_1_cs_clips/10-03-22_Test_10_5-3v5-4/cs_number_09_date_10-03-22_Test_10_5-3v5-4.mp4\n",
      "\n"
     ]
    },
    {
     "name": "stderr",
     "output_type": "stream",
     "text": [
      "                                        \r"
     ]
    },
    {
     "name": "stdout",
     "output_type": "stream",
     "text": [
      "Moviepy - Done !\n",
      "Moviepy - video ready /nancy/user/riwata/projects/reward_competition_videos/pilot_3_day_1_cs_clips/10-03-22_Test_10_5-3v5-4/cs_number_09_date_10-03-22_Test_10_5-3v5-4.mp4\n",
      "cs_number_10_date_10-03-22_Test_10_5-3v5-4.mp4\n",
      "Moviepy - Building video /nancy/user/riwata/projects/reward_competition_videos/pilot_3_day_1_cs_clips/10-03-22_Test_10_5-3v5-4/cs_number_10_date_10-03-22_Test_10_5-3v5-4.mp4.\n",
      "Moviepy - Writing video /nancy/user/riwata/projects/reward_competition_videos/pilot_3_day_1_cs_clips/10-03-22_Test_10_5-3v5-4/cs_number_10_date_10-03-22_Test_10_5-3v5-4.mp4\n",
      "\n"
     ]
    },
    {
     "name": "stderr",
     "output_type": "stream",
     "text": [
      "                                        \r"
     ]
    },
    {
     "name": "stdout",
     "output_type": "stream",
     "text": [
      "Moviepy - Done !\n",
      "Moviepy - video ready /nancy/user/riwata/projects/reward_competition_videos/pilot_3_day_1_cs_clips/10-03-22_Test_10_5-3v5-4/cs_number_10_date_10-03-22_Test_10_5-3v5-4.mp4\n",
      "cs_number_11_date_10-03-22_Test_10_5-3v5-4.mp4\n",
      "Moviepy - Building video /nancy/user/riwata/projects/reward_competition_videos/pilot_3_day_1_cs_clips/10-03-22_Test_10_5-3v5-4/cs_number_11_date_10-03-22_Test_10_5-3v5-4.mp4.\n",
      "Moviepy - Writing video /nancy/user/riwata/projects/reward_competition_videos/pilot_3_day_1_cs_clips/10-03-22_Test_10_5-3v5-4/cs_number_11_date_10-03-22_Test_10_5-3v5-4.mp4\n",
      "\n"
     ]
    },
    {
     "name": "stderr",
     "output_type": "stream",
     "text": [
      "                                        \r"
     ]
    },
    {
     "name": "stdout",
     "output_type": "stream",
     "text": [
      "Moviepy - Done !\n",
      "Moviepy - video ready /nancy/user/riwata/projects/reward_competition_videos/pilot_3_day_1_cs_clips/10-03-22_Test_10_5-3v5-4/cs_number_11_date_10-03-22_Test_10_5-3v5-4.mp4\n",
      "cs_number_12_date_10-03-22_Test_10_5-3v5-4.mp4\n",
      "Moviepy - Building video /nancy/user/riwata/projects/reward_competition_videos/pilot_3_day_1_cs_clips/10-03-22_Test_10_5-3v5-4/cs_number_12_date_10-03-22_Test_10_5-3v5-4.mp4.\n",
      "Moviepy - Writing video /nancy/user/riwata/projects/reward_competition_videos/pilot_3_day_1_cs_clips/10-03-22_Test_10_5-3v5-4/cs_number_12_date_10-03-22_Test_10_5-3v5-4.mp4\n",
      "\n"
     ]
    },
    {
     "name": "stderr",
     "output_type": "stream",
     "text": [
      "                                        \r"
     ]
    },
    {
     "name": "stdout",
     "output_type": "stream",
     "text": [
      "Moviepy - Done !\n",
      "Moviepy - video ready /nancy/user/riwata/projects/reward_competition_videos/pilot_3_day_1_cs_clips/10-03-22_Test_10_5-3v5-4/cs_number_12_date_10-03-22_Test_10_5-3v5-4.mp4\n",
      "cs_number_13_date_10-03-22_Test_10_5-3v5-4.mp4\n",
      "Moviepy - Building video /nancy/user/riwata/projects/reward_competition_videos/pilot_3_day_1_cs_clips/10-03-22_Test_10_5-3v5-4/cs_number_13_date_10-03-22_Test_10_5-3v5-4.mp4.\n",
      "Moviepy - Writing video /nancy/user/riwata/projects/reward_competition_videos/pilot_3_day_1_cs_clips/10-03-22_Test_10_5-3v5-4/cs_number_13_date_10-03-22_Test_10_5-3v5-4.mp4\n",
      "\n"
     ]
    },
    {
     "name": "stderr",
     "output_type": "stream",
     "text": [
      "                                        \r"
     ]
    },
    {
     "name": "stdout",
     "output_type": "stream",
     "text": [
      "Moviepy - Done !\n",
      "Moviepy - video ready /nancy/user/riwata/projects/reward_competition_videos/pilot_3_day_1_cs_clips/10-03-22_Test_10_5-3v5-4/cs_number_13_date_10-03-22_Test_10_5-3v5-4.mp4\n",
      "cs_number_14_date_10-03-22_Test_10_5-3v5-4.mp4\n",
      "Moviepy - Building video /nancy/user/riwata/projects/reward_competition_videos/pilot_3_day_1_cs_clips/10-03-22_Test_10_5-3v5-4/cs_number_14_date_10-03-22_Test_10_5-3v5-4.mp4.\n",
      "Moviepy - Writing video /nancy/user/riwata/projects/reward_competition_videos/pilot_3_day_1_cs_clips/10-03-22_Test_10_5-3v5-4/cs_number_14_date_10-03-22_Test_10_5-3v5-4.mp4\n",
      "\n"
     ]
    },
    {
     "name": "stderr",
     "output_type": "stream",
     "text": [
      "                                        \r"
     ]
    },
    {
     "name": "stdout",
     "output_type": "stream",
     "text": [
      "Moviepy - Done !\n",
      "Moviepy - video ready /nancy/user/riwata/projects/reward_competition_videos/pilot_3_day_1_cs_clips/10-03-22_Test_10_5-3v5-4/cs_number_14_date_10-03-22_Test_10_5-3v5-4.mp4\n",
      "cs_number_15_date_10-03-22_Test_10_5-3v5-4.mp4\n",
      "Moviepy - Building video /nancy/user/riwata/projects/reward_competition_videos/pilot_3_day_1_cs_clips/10-03-22_Test_10_5-3v5-4/cs_number_15_date_10-03-22_Test_10_5-3v5-4.mp4.\n",
      "Moviepy - Writing video /nancy/user/riwata/projects/reward_competition_videos/pilot_3_day_1_cs_clips/10-03-22_Test_10_5-3v5-4/cs_number_15_date_10-03-22_Test_10_5-3v5-4.mp4\n",
      "\n"
     ]
    },
    {
     "name": "stderr",
     "output_type": "stream",
     "text": [
      "                                        \r"
     ]
    },
    {
     "name": "stdout",
     "output_type": "stream",
     "text": [
      "Moviepy - Done !\n",
      "Moviepy - video ready /nancy/user/riwata/projects/reward_competition_videos/pilot_3_day_1_cs_clips/10-03-22_Test_10_5-3v5-4/cs_number_15_date_10-03-22_Test_10_5-3v5-4.mp4\n",
      "cs_number_16_date_10-03-22_Test_10_5-3v5-4.mp4\n",
      "Moviepy - Building video /nancy/user/riwata/projects/reward_competition_videos/pilot_3_day_1_cs_clips/10-03-22_Test_10_5-3v5-4/cs_number_16_date_10-03-22_Test_10_5-3v5-4.mp4.\n",
      "Moviepy - Writing video /nancy/user/riwata/projects/reward_competition_videos/pilot_3_day_1_cs_clips/10-03-22_Test_10_5-3v5-4/cs_number_16_date_10-03-22_Test_10_5-3v5-4.mp4\n",
      "\n"
     ]
    },
    {
     "name": "stderr",
     "output_type": "stream",
     "text": [
      "                                        \r"
     ]
    },
    {
     "name": "stdout",
     "output_type": "stream",
     "text": [
      "Moviepy - Done !\n",
      "Moviepy - video ready /nancy/user/riwata/projects/reward_competition_videos/pilot_3_day_1_cs_clips/10-03-22_Test_10_5-3v5-4/cs_number_16_date_10-03-22_Test_10_5-3v5-4.mp4\n",
      "cs_number_17_date_10-03-22_Test_10_5-3v5-4.mp4\n",
      "Moviepy - Building video /nancy/user/riwata/projects/reward_competition_videos/pilot_3_day_1_cs_clips/10-03-22_Test_10_5-3v5-4/cs_number_17_date_10-03-22_Test_10_5-3v5-4.mp4.\n",
      "Moviepy - Writing video /nancy/user/riwata/projects/reward_competition_videos/pilot_3_day_1_cs_clips/10-03-22_Test_10_5-3v5-4/cs_number_17_date_10-03-22_Test_10_5-3v5-4.mp4\n",
      "\n"
     ]
    },
    {
     "name": "stderr",
     "output_type": "stream",
     "text": [
      "                                        \r"
     ]
    },
    {
     "name": "stdout",
     "output_type": "stream",
     "text": [
      "Moviepy - Done !\n",
      "Moviepy - video ready /nancy/user/riwata/projects/reward_competition_videos/pilot_3_day_1_cs_clips/10-03-22_Test_10_5-3v5-4/cs_number_17_date_10-03-22_Test_10_5-3v5-4.mp4\n",
      "cs_number_18_date_10-03-22_Test_10_5-3v5-4.mp4\n",
      "Moviepy - Building video /nancy/user/riwata/projects/reward_competition_videos/pilot_3_day_1_cs_clips/10-03-22_Test_10_5-3v5-4/cs_number_18_date_10-03-22_Test_10_5-3v5-4.mp4.\n",
      "Moviepy - Writing video /nancy/user/riwata/projects/reward_competition_videos/pilot_3_day_1_cs_clips/10-03-22_Test_10_5-3v5-4/cs_number_18_date_10-03-22_Test_10_5-3v5-4.mp4\n",
      "\n"
     ]
    },
    {
     "name": "stderr",
     "output_type": "stream",
     "text": [
      "                                        \r"
     ]
    },
    {
     "name": "stdout",
     "output_type": "stream",
     "text": [
      "Moviepy - Done !\n",
      "Moviepy - video ready /nancy/user/riwata/projects/reward_competition_videos/pilot_3_day_1_cs_clips/10-03-22_Test_10_5-3v5-4/cs_number_18_date_10-03-22_Test_10_5-3v5-4.mp4\n",
      "cs_number_19_date_10-03-22_Test_10_5-3v5-4.mp4\n",
      "Moviepy - Building video /nancy/user/riwata/projects/reward_competition_videos/pilot_3_day_1_cs_clips/10-03-22_Test_10_5-3v5-4/cs_number_19_date_10-03-22_Test_10_5-3v5-4.mp4.\n",
      "Moviepy - Writing video /nancy/user/riwata/projects/reward_competition_videos/pilot_3_day_1_cs_clips/10-03-22_Test_10_5-3v5-4/cs_number_19_date_10-03-22_Test_10_5-3v5-4.mp4\n",
      "\n"
     ]
    },
    {
     "name": "stderr",
     "output_type": "stream",
     "text": [
      "                                        \r"
     ]
    },
    {
     "name": "stdout",
     "output_type": "stream",
     "text": [
      "Moviepy - Done !\n",
      "Moviepy - video ready /nancy/user/riwata/projects/reward_competition_videos/pilot_3_day_1_cs_clips/10-03-22_Test_10_5-3v5-4/cs_number_19_date_10-03-22_Test_10_5-3v5-4.mp4\n"
     ]
    }
   ],
   "source": [
    "for index, row in cs_presentation_time.iterrows():\n",
    "    cs_trimmed_video = video_object.subclip(row[\"video_cs_time\"] - 5, row[\"video_cs_time\"] + 15)\n",
    "    cs_trimmed_file_name = \"cs_number_{:02d}_date_{}.mp4\".format(index + 1, file_name_without_extention)\n",
    "    print(cs_trimmed_file_name)\n",
    "    cs_trimmed_video.to_videofile(os.path.join(current_clip_output_dir, cs_trimmed_file_name))"
   ]
  },
  {
   "cell_type": "code",
   "execution_count": 47,
   "id": "87a629fe",
   "metadata": {},
   "outputs": [],
   "source": [
    "cs_trimmed_times_name = \"cs_times_{}_.csv\".format(file_name_without_extention)\n"
   ]
  },
  {
   "cell_type": "code",
   "execution_count": 48,
   "id": "c791906b",
   "metadata": {},
   "outputs": [],
   "source": [
    "cs_presentation_time.to_csv(os.path.join(current_clip_output_dir, cs_trimmed_times_name))"
   ]
  },
  {
   "cell_type": "code",
   "execution_count": null,
   "id": "280d8343",
   "metadata": {},
   "outputs": [],
   "source": []
  }
 ],
 "metadata": {
  "kernelspec": {
   "display_name": "Python 3 (ipykernel)",
   "language": "python",
   "name": "python3"
  },
  "language_info": {
   "codemirror_mode": {
    "name": "ipython",
    "version": 3
   },
   "file_extension": ".py",
   "mimetype": "text/x-python",
   "name": "python",
   "nbconvert_exporter": "python",
   "pygments_lexer": "ipython3",
   "version": "3.9.13"
  }
 },
 "nbformat": 4,
 "nbformat_minor": 5
}
