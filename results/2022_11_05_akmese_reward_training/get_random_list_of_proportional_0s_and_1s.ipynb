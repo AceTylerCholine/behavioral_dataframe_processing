{
 "cells": [
  {
   "cell_type": "code",
   "execution_count": 1,
   "id": "8511e452",
   "metadata": {},
   "outputs": [],
   "source": [
    "import numpy as np"
   ]
  },
  {
   "cell_type": "markdown",
   "id": "92830e5a",
   "metadata": {},
   "source": [
    "- Picking the total number of 0s and 1s"
   ]
  },
  {
   "cell_type": "code",
   "execution_count": 2,
   "id": "5b064e05",
   "metadata": {},
   "outputs": [],
   "source": [
    "total_number_count = 40"
   ]
  },
  {
   "cell_type": "markdown",
   "id": "cd3a5ec1",
   "metadata": {},
   "source": [
    "- Picking the proportion of 0s"
   ]
  },
  {
   "cell_type": "code",
   "execution_count": 3,
   "id": "1e041407",
   "metadata": {},
   "outputs": [],
   "source": [
    "zero_proportion = 0.2"
   ]
  },
  {
   "cell_type": "markdown",
   "id": "43861a24",
   "metadata": {},
   "source": [
    "- Getting the number of zeros based on the proportion"
   ]
  },
  {
   "cell_type": "code",
   "execution_count": 4,
   "id": "bd9a7b59",
   "metadata": {},
   "outputs": [],
   "source": [
    "zero_count = int(total_number_count * zero_proportion)"
   ]
  },
  {
   "cell_type": "code",
   "execution_count": 5,
   "id": "e4f399c2",
   "metadata": {},
   "outputs": [
    {
     "data": {
      "text/plain": [
       "8"
      ]
     },
     "execution_count": 5,
     "metadata": {},
     "output_type": "execute_result"
    }
   ],
   "source": [
    "zero_count"
   ]
  },
  {
   "cell_type": "markdown",
   "id": "106d6145",
   "metadata": {},
   "source": [
    "- Making an array of 0s and 1s"
   ]
  },
  {
   "cell_type": "code",
   "execution_count": 6,
   "id": "d34a9050",
   "metadata": {},
   "outputs": [],
   "source": [
    "zero_and_ones_array = np.array([0] * zero_count + [1] * (total_number_count-zero_count))"
   ]
  },
  {
   "cell_type": "code",
   "execution_count": 7,
   "id": "92ad44e0",
   "metadata": {
    "scrolled": true
   },
   "outputs": [
    {
     "data": {
      "text/plain": [
       "array([0, 0, 0, 0, 0, 0, 0, 0, 1, 1, 1, 1, 1, 1, 1, 1, 1, 1, 1, 1, 1, 1,\n",
       "       1, 1, 1, 1, 1, 1, 1, 1, 1, 1, 1, 1, 1, 1, 1, 1, 1, 1])"
      ]
     },
     "execution_count": 7,
     "metadata": {},
     "output_type": "execute_result"
    }
   ],
   "source": [
    "zero_and_ones_array"
   ]
  },
  {
   "cell_type": "markdown",
   "id": "25083a52",
   "metadata": {},
   "source": [
    "- Getting the counts of 0s and 1s"
   ]
  },
  {
   "cell_type": "code",
   "execution_count": 8,
   "id": "1c6fe03a",
   "metadata": {},
   "outputs": [
    {
     "data": {
      "text/plain": [
       "8"
      ]
     },
     "execution_count": 8,
     "metadata": {},
     "output_type": "execute_result"
    }
   ],
   "source": [
    "np.count_nonzero(zero_and_ones_array == 0)"
   ]
  },
  {
   "cell_type": "code",
   "execution_count": 9,
   "id": "f6626053",
   "metadata": {},
   "outputs": [
    {
     "data": {
      "text/plain": [
       "32"
      ]
     },
     "execution_count": 9,
     "metadata": {},
     "output_type": "execute_result"
    }
   ],
   "source": [
    "np.count_nonzero(zero_and_ones_array == 1)"
   ]
  },
  {
   "cell_type": "markdown",
   "id": "de6f28fb",
   "metadata": {},
   "source": [
    "- Creating a function that checks if one list is a sublist of another\n",
    "    - This can be used to make sure that there are no consecutive 0s"
   ]
  },
  {
   "cell_type": "code",
   "execution_count": 10,
   "id": "52634fef",
   "metadata": {},
   "outputs": [],
   "source": [
    "def check_if_sublist(full_list, sub_list):\n",
    "    \"\"\"\n",
    "    \"\"\"\n",
    "    return str(sub_list).strip('[]') in str(full_list).strip('[]')"
   ]
  },
  {
   "cell_type": "markdown",
   "id": "85654376",
   "metadata": {},
   "source": [
    "- Shuffling the order"
   ]
  },
  {
   "cell_type": "code",
   "execution_count": null,
   "id": "6d6116b7",
   "metadata": {},
   "outputs": [],
   "source": []
  },
  {
   "cell_type": "code",
   "execution_count": 11,
   "id": "4ab15d4e",
   "metadata": {},
   "outputs": [],
   "source": [
    "zero_and_ones_array = np.array([0] * zero_count + [1] * (total_number_count-zero_count))\n",
    "seed = 23\n",
    "np.random.seed(seed)\n",
    "np.random.shuffle(zero_and_ones_array)\n",
    "shuffled_list = zero_and_ones_array.tolist()\n",
    "\n",
    "while check_if_sublist(shuffled_list, [0,0]):\n",
    "    seed += 1\n",
    "    np.random.seed(seed)\n",
    "    np.random.shuffle(zero_and_ones_array)\n",
    "    shuffled_list = zero_and_ones_array.tolist()\n",
    "\n",
    "\n"
   ]
  },
  {
   "cell_type": "code",
   "execution_count": 12,
   "id": "673fc94d",
   "metadata": {},
   "outputs": [
    {
     "data": {
      "text/plain": [
       "35"
      ]
     },
     "execution_count": 12,
     "metadata": {},
     "output_type": "execute_result"
    }
   ],
   "source": [
    "seed"
   ]
  },
  {
   "cell_type": "code",
   "execution_count": 13,
   "id": "5bd71704",
   "metadata": {},
   "outputs": [
    {
     "data": {
      "text/plain": [
       "[1,\n",
       " 1,\n",
       " 1,\n",
       " 1,\n",
       " 0,\n",
       " 1,\n",
       " 1,\n",
       " 0,\n",
       " 1,\n",
       " 0,\n",
       " 1,\n",
       " 1,\n",
       " 1,\n",
       " 1,\n",
       " 1,\n",
       " 1,\n",
       " 1,\n",
       " 0,\n",
       " 1,\n",
       " 1,\n",
       " 1,\n",
       " 1,\n",
       " 1,\n",
       " 1,\n",
       " 0,\n",
       " 1,\n",
       " 1,\n",
       " 1,\n",
       " 1,\n",
       " 0,\n",
       " 1,\n",
       " 1,\n",
       " 1,\n",
       " 1,\n",
       " 0,\n",
       " 1,\n",
       " 1,\n",
       " 0,\n",
       " 1,\n",
       " 1]"
      ]
     },
     "execution_count": 13,
     "metadata": {},
     "output_type": "execute_result"
    }
   ],
   "source": [
    "shuffled_list"
   ]
  },
  {
   "cell_type": "code",
   "execution_count": null,
   "id": "0f7bb3b9",
   "metadata": {},
   "outputs": [],
   "source": []
  },
  {
   "cell_type": "code",
   "execution_count": null,
   "id": "1a611f77",
   "metadata": {},
   "outputs": [],
   "source": []
  }
 ],
 "metadata": {
  "kernelspec": {
   "display_name": "Python 3 (ipykernel)",
   "language": "python",
   "name": "python3"
  },
  "language_info": {
   "codemirror_mode": {
    "name": "ipython",
    "version": 3
   },
   "file_extension": ".py",
   "mimetype": "text/x-python",
   "name": "python",
   "nbconvert_exporter": "python",
   "pygments_lexer": "ipython3",
   "version": "3.9.13"
  }
 },
 "nbformat": 4,
 "nbformat_minor": 5
}
