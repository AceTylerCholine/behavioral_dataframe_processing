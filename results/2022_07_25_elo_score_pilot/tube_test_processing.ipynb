{
 "cells": [
  {
   "cell_type": "markdown",
   "id": "cd97c972",
   "metadata": {},
   "source": [
    "# Elo Score Calculation"
   ]
  },
  {
   "cell_type": "code",
   "execution_count": 1,
   "id": "cf755b46",
   "metadata": {},
   "outputs": [],
   "source": [
    "import re\n",
    "import os\n",
    "import sys\n",
    "from collections import defaultdict"
   ]
  },
  {
   "cell_type": "code",
   "execution_count": 2,
   "id": "9537e067",
   "metadata": {},
   "outputs": [],
   "source": [
    "from datetime import datetime\n",
    "from datetime import timedelta\n",
    "import matplotlib.pyplot as plt"
   ]
  },
  {
   "cell_type": "code",
   "execution_count": 3,
   "id": "1c9bfe6f",
   "metadata": {},
   "outputs": [],
   "source": [
    "import numpy as np\n",
    "import pandas as pd\n",
    "import xlrd\n",
    "from labellines import labelLine, labelLines"
   ]
  },
  {
   "cell_type": "code",
   "execution_count": 4,
   "id": "2e3d2466",
   "metadata": {},
   "outputs": [],
   "source": [
    "# setting path\n",
    "sys.path.append('../../src')"
   ]
  },
  {
   "cell_type": "code",
   "execution_count": 5,
   "id": "104016aa",
   "metadata": {},
   "outputs": [],
   "source": [
    "from eloscore import eloscore"
   ]
  },
  {
   "cell_type": "code",
   "execution_count": 6,
   "id": "6ea31ca1",
   "metadata": {},
   "outputs": [],
   "source": [
    "# Increase size of plot in jupyter\n",
    "\n",
    "plt.rcParams[\"figure.figsize\"] = (18,10)"
   ]
  },
  {
   "cell_type": "markdown",
   "id": "8b7c1562",
   "metadata": {},
   "source": [
    "## Summary"
   ]
  },
  {
   "cell_type": "markdown",
   "id": "a5950969",
   "metadata": {},
   "source": [
    "- Notebook that calcuates the Elo Score of mice competing over access to a tone associated reward port\n",
    "- The data is a spreadsheet of combination of subjects (as rows) against dates (as columns)"
   ]
  },
  {
   "cell_type": "markdown",
   "id": "a934ef8f",
   "metadata": {},
   "source": [
    "## Importing Data for One Sheet"
   ]
  },
  {
   "cell_type": "markdown",
   "id": "b7839431",
   "metadata": {},
   "source": [
    "- The original data has been trimmed so that only the cells with dates, winner ID's, and relevant metadata were kept"
   ]
  },
  {
   "cell_type": "code",
   "execution_count": 7,
   "id": "bb3ff67b",
   "metadata": {},
   "outputs": [],
   "source": [
    "xls = pd.ExcelFile(\"./data/Tube_Test.xlsx\")\n",
    "sheets = xls.sheet_names"
   ]
  },
  {
   "cell_type": "code",
   "execution_count": 8,
   "id": "aeb563da",
   "metadata": {},
   "outputs": [
    {
     "data": {
      "text/plain": [
       "['summary', 'CAGE1', 'CAGE2', 'CAGE3', 'CAGE4', 'CAGE5', 'CAGE6']"
      ]
     },
     "execution_count": 8,
     "metadata": {},
     "output_type": "execute_result"
    }
   ],
   "source": [
    "sheets"
   ]
  },
  {
   "cell_type": "code",
   "execution_count": 9,
   "id": "7cbb993b",
   "metadata": {},
   "outputs": [],
   "source": [
    "tube_test_observations_df = pd.read_excel(\"./data/Tube_Test.xlsx\", sheet_name=sheets[1], header=1)"
   ]
  },
  {
   "cell_type": "code",
   "execution_count": 10,
   "id": "ef7e0949",
   "metadata": {},
   "outputs": [],
   "source": [
    "copy_tube_test_observations_df = tube_test_observations_df.copy()"
   ]
  },
  {
   "cell_type": "code",
   "execution_count": 11,
   "id": "ec2be29b",
   "metadata": {},
   "outputs": [
    {
     "data": {
      "text/html": [
       "<div>\n",
       "<style scoped>\n",
       "    .dataframe tbody tr th:only-of-type {\n",
       "        vertical-align: middle;\n",
       "    }\n",
       "\n",
       "    .dataframe tbody tr th {\n",
       "        vertical-align: top;\n",
       "    }\n",
       "\n",
       "    .dataframe thead th {\n",
       "        text-align: right;\n",
       "    }\n",
       "</style>\n",
       "<table border=\"1\" class=\"dataframe\">\n",
       "  <thead>\n",
       "    <tr style=\"text-align: right;\">\n",
       "      <th></th>\n",
       "      <th>runner</th>\n",
       "      <th>date</th>\n",
       "      <th>match</th>\n",
       "      <th>winner</th>\n",
       "      <th>loser</th>\n",
       "      <th>notes</th>\n",
       "    </tr>\n",
       "  </thead>\n",
       "  <tbody>\n",
       "    <tr>\n",
       "      <th>0</th>\n",
       "      <td>Ezra</td>\n",
       "      <td>2022-07-11</td>\n",
       "      <td>1vs2</td>\n",
       "      <td>2</td>\n",
       "      <td>1</td>\n",
       "      <td>NaN</td>\n",
       "    </tr>\n",
       "    <tr>\n",
       "      <th>1</th>\n",
       "      <td>NaN</td>\n",
       "      <td>NaT</td>\n",
       "      <td>2vs3</td>\n",
       "      <td>2</td>\n",
       "      <td>3</td>\n",
       "      <td>NaN</td>\n",
       "    </tr>\n",
       "    <tr>\n",
       "      <th>2</th>\n",
       "      <td>NaN</td>\n",
       "      <td>NaT</td>\n",
       "      <td>3vs4</td>\n",
       "      <td>3</td>\n",
       "      <td>4</td>\n",
       "      <td>NaN</td>\n",
       "    </tr>\n",
       "    <tr>\n",
       "      <th>3</th>\n",
       "      <td>NaN</td>\n",
       "      <td>NaT</td>\n",
       "      <td>1vs3</td>\n",
       "      <td>3</td>\n",
       "      <td>1</td>\n",
       "      <td>NaN</td>\n",
       "    </tr>\n",
       "    <tr>\n",
       "      <th>4</th>\n",
       "      <td>NaN</td>\n",
       "      <td>NaT</td>\n",
       "      <td>2vs4</td>\n",
       "      <td>2</td>\n",
       "      <td>4</td>\n",
       "      <td>NaN</td>\n",
       "    </tr>\n",
       "  </tbody>\n",
       "</table>\n",
       "</div>"
      ],
      "text/plain": [
       "  runner       date match  winner  loser notes\n",
       "0   Ezra 2022-07-11  1vs2       2      1   NaN\n",
       "1    NaN        NaT  2vs3       2      3   NaN\n",
       "2    NaN        NaT  3vs4       3      4   NaN\n",
       "3    NaN        NaT  1vs3       3      1   NaN\n",
       "4    NaN        NaT  2vs4       2      4   NaN"
      ]
     },
     "execution_count": 11,
     "metadata": {},
     "output_type": "execute_result"
    }
   ],
   "source": [
    "tube_test_observations_df.head()"
   ]
  },
  {
   "cell_type": "markdown",
   "id": "62588bba",
   "metadata": {},
   "source": [
    "## Adding the session number"
   ]
  },
  {
   "cell_type": "markdown",
   "id": "add84e35",
   "metadata": {},
   "source": [
    "- Each new session has the date as a row, so we will get the index of all the rows with dates"
   ]
  },
  {
   "cell_type": "code",
   "execution_count": 12,
   "id": "9ab2f148",
   "metadata": {},
   "outputs": [
    {
     "data": {
      "text/html": [
       "<div>\n",
       "<style scoped>\n",
       "    .dataframe tbody tr th:only-of-type {\n",
       "        vertical-align: middle;\n",
       "    }\n",
       "\n",
       "    .dataframe tbody tr th {\n",
       "        vertical-align: top;\n",
       "    }\n",
       "\n",
       "    .dataframe thead th {\n",
       "        text-align: right;\n",
       "    }\n",
       "</style>\n",
       "<table border=\"1\" class=\"dataframe\">\n",
       "  <thead>\n",
       "    <tr style=\"text-align: right;\">\n",
       "      <th></th>\n",
       "      <th>runner</th>\n",
       "      <th>date</th>\n",
       "      <th>match</th>\n",
       "      <th>winner</th>\n",
       "      <th>loser</th>\n",
       "      <th>notes</th>\n",
       "    </tr>\n",
       "  </thead>\n",
       "  <tbody>\n",
       "    <tr>\n",
       "      <th>0</th>\n",
       "      <td>Ezra</td>\n",
       "      <td>2022-07-11</td>\n",
       "      <td>1vs2</td>\n",
       "      <td>2</td>\n",
       "      <td>1</td>\n",
       "      <td>NaN</td>\n",
       "    </tr>\n",
       "    <tr>\n",
       "      <th>6</th>\n",
       "      <td>Catalina</td>\n",
       "      <td>2022-07-12</td>\n",
       "      <td>3vs2</td>\n",
       "      <td>2</td>\n",
       "      <td>3</td>\n",
       "      <td>NaN</td>\n",
       "    </tr>\n",
       "    <tr>\n",
       "      <th>12</th>\n",
       "      <td>Nancy</td>\n",
       "      <td>2022-07-13</td>\n",
       "      <td>4vs3</td>\n",
       "      <td>3</td>\n",
       "      <td>4</td>\n",
       "      <td>NaN</td>\n",
       "    </tr>\n",
       "    <tr>\n",
       "      <th>18</th>\n",
       "      <td>Ezra</td>\n",
       "      <td>2022-07-14</td>\n",
       "      <td>2vs3</td>\n",
       "      <td>2</td>\n",
       "      <td>3</td>\n",
       "      <td>NaN</td>\n",
       "    </tr>\n",
       "    <tr>\n",
       "      <th>24</th>\n",
       "      <td>Erika</td>\n",
       "      <td>2022-07-15</td>\n",
       "      <td>1vs4</td>\n",
       "      <td>1</td>\n",
       "      <td>4</td>\n",
       "      <td>NaN</td>\n",
       "    </tr>\n",
       "    <tr>\n",
       "      <th>30</th>\n",
       "      <td>Naeliz</td>\n",
       "      <td>2022-07-18</td>\n",
       "      <td>1vs2</td>\n",
       "      <td>1</td>\n",
       "      <td>2</td>\n",
       "      <td>* started at 1pm</td>\n",
       "    </tr>\n",
       "    <tr>\n",
       "      <th>36</th>\n",
       "      <td>Catalina</td>\n",
       "      <td>2022-07-20</td>\n",
       "      <td>3vs2</td>\n",
       "      <td>2</td>\n",
       "      <td>3</td>\n",
       "      <td>NaN</td>\n",
       "    </tr>\n",
       "    <tr>\n",
       "      <th>42</th>\n",
       "      <td>Isabel</td>\n",
       "      <td>2022-07-23</td>\n",
       "      <td>4vs3</td>\n",
       "      <td>3</td>\n",
       "      <td>4</td>\n",
       "      <td>NaN</td>\n",
       "    </tr>\n",
       "    <tr>\n",
       "      <th>48</th>\n",
       "      <td>Jocelyn</td>\n",
       "      <td>2022-07-24</td>\n",
       "      <td>1vs4</td>\n",
       "      <td>1</td>\n",
       "      <td>4</td>\n",
       "      <td>Tube testing began before reward training, as ...</td>\n",
       "    </tr>\n",
       "    <tr>\n",
       "      <th>54</th>\n",
       "      <td>Jocelyn</td>\n",
       "      <td>2022-07-25</td>\n",
       "      <td>2vs3</td>\n",
       "      <td>2</td>\n",
       "      <td>3</td>\n",
       "      <td>NaN</td>\n",
       "    </tr>\n",
       "    <tr>\n",
       "      <th>60</th>\n",
       "      <td>Jocelyn</td>\n",
       "      <td>2022-07-26</td>\n",
       "      <td>1vs2</td>\n",
       "      <td>1</td>\n",
       "      <td>2</td>\n",
       "      <td>NaN</td>\n",
       "    </tr>\n",
       "  </tbody>\n",
       "</table>\n",
       "</div>"
      ],
      "text/plain": [
       "      runner       date match  winner  loser  \\\n",
       "0       Ezra 2022-07-11  1vs2       2      1   \n",
       "6   Catalina 2022-07-12  3vs2       2      3   \n",
       "12     Nancy 2022-07-13  4vs3       3      4   \n",
       "18      Ezra 2022-07-14  2vs3       2      3   \n",
       "24     Erika 2022-07-15  1vs4       1      4   \n",
       "30    Naeliz 2022-07-18  1vs2       1      2   \n",
       "36  Catalina 2022-07-20  3vs2       2      3   \n",
       "42   Isabel  2022-07-23  4vs3       3      4   \n",
       "48   Jocelyn 2022-07-24  1vs4       1      4   \n",
       "54   Jocelyn 2022-07-25  2vs3       2      3   \n",
       "60   Jocelyn 2022-07-26  1vs2       1      2   \n",
       "\n",
       "                                                notes  \n",
       "0                                                 NaN  \n",
       "6                                                 NaN  \n",
       "12                                                NaN  \n",
       "18                                                NaN  \n",
       "24                                                NaN  \n",
       "30                                   * started at 1pm  \n",
       "36                                                NaN  \n",
       "42                                                NaN  \n",
       "48  Tube testing began before reward training, as ...  \n",
       "54                                                NaN  \n",
       "60                                                NaN  "
      ]
     },
     "execution_count": 12,
     "metadata": {},
     "output_type": "execute_result"
    }
   ],
   "source": [
    "tube_test_observations_df.dropna(axis=0, subset=\"date\")"
   ]
  },
  {
   "cell_type": "markdown",
   "id": "86971800",
   "metadata": {},
   "source": [
    "- Getting the indexes of where each new session starts"
   ]
  },
  {
   "cell_type": "code",
   "execution_count": 13,
   "id": "449189cd",
   "metadata": {},
   "outputs": [
    {
     "data": {
      "text/plain": [
       "Int64Index([0, 6, 12, 18, 24, 30, 36, 42, 48, 54, 60], dtype='int64')"
      ]
     },
     "execution_count": 13,
     "metadata": {},
     "output_type": "execute_result"
    }
   ],
   "source": [
    "tube_test_observations_df.dropna(axis=0, subset=\"date\").index"
   ]
  },
  {
   "cell_type": "code",
   "execution_count": 14,
   "id": "69a1b44c",
   "metadata": {},
   "outputs": [],
   "source": [
    "session_indexes = tube_test_observations_df.dropna(axis=0, subset=\"date\").index"
   ]
  },
  {
   "cell_type": "markdown",
   "id": "d8ae3167",
   "metadata": {},
   "source": [
    "- Adding a column for the session number and then filling all the `NaNs`"
   ]
  },
  {
   "cell_type": "code",
   "execution_count": 15,
   "id": "e243acb6",
   "metadata": {},
   "outputs": [],
   "source": [
    "tube_test_observations_df = eloscore.add_session_number_column(tube_test_observations_df, session_indexes)\n",
    "tube_test_observations_df = tube_test_observations_df.fillna(method='ffill')"
   ]
  },
  {
   "cell_type": "markdown",
   "id": "c35e48b5",
   "metadata": {},
   "source": [
    "- Making another column for plotting"
   ]
  },
  {
   "cell_type": "code",
   "execution_count": 16,
   "id": "2bd524c4",
   "metadata": {},
   "outputs": [],
   "source": [
    "tube_test_observations_df = eloscore.add_session_number_column(tube_test_observations_df, session_indexes, session_number_column=\"session_number_plotting\")"
   ]
  },
  {
   "cell_type": "code",
   "execution_count": 17,
   "id": "9600985c",
   "metadata": {},
   "outputs": [
    {
     "data": {
      "text/html": [
       "<div>\n",
       "<style scoped>\n",
       "    .dataframe tbody tr th:only-of-type {\n",
       "        vertical-align: middle;\n",
       "    }\n",
       "\n",
       "    .dataframe tbody tr th {\n",
       "        vertical-align: top;\n",
       "    }\n",
       "\n",
       "    .dataframe thead th {\n",
       "        text-align: right;\n",
       "    }\n",
       "</style>\n",
       "<table border=\"1\" class=\"dataframe\">\n",
       "  <thead>\n",
       "    <tr style=\"text-align: right;\">\n",
       "      <th></th>\n",
       "      <th>runner</th>\n",
       "      <th>date</th>\n",
       "      <th>match</th>\n",
       "      <th>winner</th>\n",
       "      <th>loser</th>\n",
       "      <th>notes</th>\n",
       "      <th>session_number</th>\n",
       "      <th>session_number_plotting</th>\n",
       "    </tr>\n",
       "  </thead>\n",
       "  <tbody>\n",
       "    <tr>\n",
       "      <th>0</th>\n",
       "      <td>Ezra</td>\n",
       "      <td>2022-07-11</td>\n",
       "      <td>1vs2</td>\n",
       "      <td>2</td>\n",
       "      <td>1</td>\n",
       "      <td>NaN</td>\n",
       "      <td>1.0</td>\n",
       "      <td>1.0</td>\n",
       "    </tr>\n",
       "    <tr>\n",
       "      <th>1</th>\n",
       "      <td>Ezra</td>\n",
       "      <td>2022-07-11</td>\n",
       "      <td>2vs3</td>\n",
       "      <td>2</td>\n",
       "      <td>3</td>\n",
       "      <td>NaN</td>\n",
       "      <td>1.0</td>\n",
       "      <td>NaN</td>\n",
       "    </tr>\n",
       "    <tr>\n",
       "      <th>2</th>\n",
       "      <td>Ezra</td>\n",
       "      <td>2022-07-11</td>\n",
       "      <td>3vs4</td>\n",
       "      <td>3</td>\n",
       "      <td>4</td>\n",
       "      <td>NaN</td>\n",
       "      <td>1.0</td>\n",
       "      <td>NaN</td>\n",
       "    </tr>\n",
       "    <tr>\n",
       "      <th>3</th>\n",
       "      <td>Ezra</td>\n",
       "      <td>2022-07-11</td>\n",
       "      <td>1vs3</td>\n",
       "      <td>3</td>\n",
       "      <td>1</td>\n",
       "      <td>NaN</td>\n",
       "      <td>1.0</td>\n",
       "      <td>NaN</td>\n",
       "    </tr>\n",
       "    <tr>\n",
       "      <th>4</th>\n",
       "      <td>Ezra</td>\n",
       "      <td>2022-07-11</td>\n",
       "      <td>2vs4</td>\n",
       "      <td>2</td>\n",
       "      <td>4</td>\n",
       "      <td>NaN</td>\n",
       "      <td>1.0</td>\n",
       "      <td>NaN</td>\n",
       "    </tr>\n",
       "  </tbody>\n",
       "</table>\n",
       "</div>"
      ],
      "text/plain": [
       "  runner       date match  winner  loser notes  session_number  \\\n",
       "0   Ezra 2022-07-11  1vs2       2      1   NaN             1.0   \n",
       "1   Ezra 2022-07-11  2vs3       2      3   NaN             1.0   \n",
       "2   Ezra 2022-07-11  3vs4       3      4   NaN             1.0   \n",
       "3   Ezra 2022-07-11  1vs3       3      1   NaN             1.0   \n",
       "4   Ezra 2022-07-11  2vs4       2      4   NaN             1.0   \n",
       "\n",
       "   session_number_plotting  \n",
       "0                      1.0  \n",
       "1                      NaN  \n",
       "2                      NaN  \n",
       "3                      NaN  \n",
       "4                      NaN  "
      ]
     },
     "execution_count": 17,
     "metadata": {},
     "output_type": "execute_result"
    }
   ],
   "source": [
    "tube_test_observations_df.head()"
   ]
  },
  {
   "cell_type": "markdown",
   "id": "cf5ec39f",
   "metadata": {},
   "source": [
    "## Calculating ELO Score"
   ]
  },
  {
   "cell_type": "markdown",
   "id": "5b2390aa",
   "metadata": {},
   "source": [
    "- Example calculation"
   ]
  },
  {
   "cell_type": "code",
   "execution_count": 18,
   "id": "e334d47f",
   "metadata": {},
   "outputs": [
    {
     "data": {
      "text/plain": [
       "1020"
      ]
     },
     "execution_count": 18,
     "metadata": {},
     "output_type": "execute_result"
    }
   ],
   "source": [
    "eloscore.calculate_elo_score(subject_elo_score=1000, agent_elo_score=2000)"
   ]
  },
  {
   "cell_type": "markdown",
   "id": "3412a5c0",
   "metadata": {},
   "source": [
    "## Get the Elo score for all the events"
   ]
  },
  {
   "cell_type": "code",
   "execution_count": 19,
   "id": "4ae10ebe",
   "metadata": {
    "scrolled": true
   },
   "outputs": [
    {
     "data": {
      "text/html": [
       "<div>\n",
       "<style scoped>\n",
       "    .dataframe tbody tr th:only-of-type {\n",
       "        vertical-align: middle;\n",
       "    }\n",
       "\n",
       "    .dataframe tbody tr th {\n",
       "        vertical-align: top;\n",
       "    }\n",
       "\n",
       "    .dataframe thead th {\n",
       "        text-align: right;\n",
       "    }\n",
       "</style>\n",
       "<table border=\"1\" class=\"dataframe\">\n",
       "  <thead>\n",
       "    <tr style=\"text-align: right;\">\n",
       "      <th></th>\n",
       "      <th>runner</th>\n",
       "      <th>date</th>\n",
       "      <th>match</th>\n",
       "      <th>winner</th>\n",
       "      <th>loser</th>\n",
       "      <th>notes</th>\n",
       "      <th>session_number</th>\n",
       "      <th>session_number_plotting</th>\n",
       "    </tr>\n",
       "  </thead>\n",
       "  <tbody>\n",
       "    <tr>\n",
       "      <th>0</th>\n",
       "      <td>Ezra</td>\n",
       "      <td>2022-07-11</td>\n",
       "      <td>1vs2</td>\n",
       "      <td>2</td>\n",
       "      <td>1</td>\n",
       "      <td>NaN</td>\n",
       "      <td>1.0</td>\n",
       "      <td>1.0</td>\n",
       "    </tr>\n",
       "    <tr>\n",
       "      <th>1</th>\n",
       "      <td>Ezra</td>\n",
       "      <td>2022-07-11</td>\n",
       "      <td>2vs3</td>\n",
       "      <td>2</td>\n",
       "      <td>3</td>\n",
       "      <td>NaN</td>\n",
       "      <td>1.0</td>\n",
       "      <td>NaN</td>\n",
       "    </tr>\n",
       "    <tr>\n",
       "      <th>2</th>\n",
       "      <td>Ezra</td>\n",
       "      <td>2022-07-11</td>\n",
       "      <td>3vs4</td>\n",
       "      <td>3</td>\n",
       "      <td>4</td>\n",
       "      <td>NaN</td>\n",
       "      <td>1.0</td>\n",
       "      <td>NaN</td>\n",
       "    </tr>\n",
       "    <tr>\n",
       "      <th>3</th>\n",
       "      <td>Ezra</td>\n",
       "      <td>2022-07-11</td>\n",
       "      <td>1vs3</td>\n",
       "      <td>3</td>\n",
       "      <td>1</td>\n",
       "      <td>NaN</td>\n",
       "      <td>1.0</td>\n",
       "      <td>NaN</td>\n",
       "    </tr>\n",
       "    <tr>\n",
       "      <th>4</th>\n",
       "      <td>Ezra</td>\n",
       "      <td>2022-07-11</td>\n",
       "      <td>2vs4</td>\n",
       "      <td>2</td>\n",
       "      <td>4</td>\n",
       "      <td>NaN</td>\n",
       "      <td>1.0</td>\n",
       "      <td>NaN</td>\n",
       "    </tr>\n",
       "  </tbody>\n",
       "</table>\n",
       "</div>"
      ],
      "text/plain": [
       "  runner       date match  winner  loser notes  session_number  \\\n",
       "0   Ezra 2022-07-11  1vs2       2      1   NaN             1.0   \n",
       "1   Ezra 2022-07-11  2vs3       2      3   NaN             1.0   \n",
       "2   Ezra 2022-07-11  3vs4       3      4   NaN             1.0   \n",
       "3   Ezra 2022-07-11  1vs3       3      1   NaN             1.0   \n",
       "4   Ezra 2022-07-11  2vs4       2      4   NaN             1.0   \n",
       "\n",
       "   session_number_plotting  \n",
       "0                      1.0  \n",
       "1                      NaN  \n",
       "2                      NaN  \n",
       "3                      NaN  \n",
       "4                      NaN  "
      ]
     },
     "execution_count": 19,
     "metadata": {},
     "output_type": "execute_result"
    }
   ],
   "source": [
    "tube_test_observations_df.head()"
   ]
  },
  {
   "cell_type": "code",
   "execution_count": 20,
   "id": "5130bfce",
   "metadata": {},
   "outputs": [
    {
     "data": {
      "text/plain": [
       "defaultdict(<function eloscore.eloscore.update_elo_score.<locals>.<lambda>()>,\n",
       "            {'A': 1010.0, 'B': 990.0})"
      ]
     },
     "execution_count": 20,
     "metadata": {},
     "output_type": "execute_result"
    }
   ],
   "source": [
    "eloscore.update_elo_score(winner_id=\"A\", loser_id=\"B\")"
   ]
  },
  {
   "cell_type": "markdown",
   "id": "66cbe2bf",
   "metadata": {},
   "source": [
    "- Function that creates a dictionary that has the original/updated elo score for each event"
   ]
  },
  {
   "cell_type": "code",
   "execution_count": 21,
   "id": "ada17468",
   "metadata": {},
   "outputs": [],
   "source": [
    "index_to_elo_score_and_meta_data = eloscore.iterate_elo_score_calculation_for_data_frame(data_frame=tube_test_observations_df, winner_column=\"winner\", loser_column=\"loser\", additional_columns=[\"date\", \"session_number\", \"session_number_plotting\"])"
   ]
  },
  {
   "cell_type": "code",
   "execution_count": 22,
   "id": "f03f72ba",
   "metadata": {},
   "outputs": [
    {
     "data": {
      "text/plain": [
       "{'total_match_number': 1,\n",
       " 'subject_id': 2,\n",
       " 'agent_id': 1,\n",
       " 'original_elo_score': 1000,\n",
       " 'updated_elo_score': 1010.0,\n",
       " 'win_draw_loss': 1,\n",
       " 'date': Timestamp('2022-07-11 00:00:00'),\n",
       " 'session_number': 1.0,\n",
       " 'session_number_plotting': 1.0}"
      ]
     },
     "execution_count": 22,
     "metadata": {},
     "output_type": "execute_result"
    }
   ],
   "source": [
    "index_to_elo_score_and_meta_data[0]"
   ]
  },
  {
   "cell_type": "markdown",
   "id": "f02d9046",
   "metadata": {},
   "source": [
    "- Turning the dictionary into a dataframe"
   ]
  },
  {
   "cell_type": "code",
   "execution_count": 23,
   "id": "eaad3b8b",
   "metadata": {},
   "outputs": [],
   "source": [
    "tube_test_elo_score_df = pd.DataFrame.from_dict(index_to_elo_score_and_meta_data, orient=\"index\")"
   ]
  },
  {
   "cell_type": "code",
   "execution_count": 24,
   "id": "cfba525f",
   "metadata": {
    "scrolled": true
   },
   "outputs": [
    {
     "data": {
      "text/html": [
       "<div>\n",
       "<style scoped>\n",
       "    .dataframe tbody tr th:only-of-type {\n",
       "        vertical-align: middle;\n",
       "    }\n",
       "\n",
       "    .dataframe tbody tr th {\n",
       "        vertical-align: top;\n",
       "    }\n",
       "\n",
       "    .dataframe thead th {\n",
       "        text-align: right;\n",
       "    }\n",
       "</style>\n",
       "<table border=\"1\" class=\"dataframe\">\n",
       "  <thead>\n",
       "    <tr style=\"text-align: right;\">\n",
       "      <th></th>\n",
       "      <th>total_match_number</th>\n",
       "      <th>subject_id</th>\n",
       "      <th>agent_id</th>\n",
       "      <th>original_elo_score</th>\n",
       "      <th>updated_elo_score</th>\n",
       "      <th>win_draw_loss</th>\n",
       "      <th>date</th>\n",
       "      <th>session_number</th>\n",
       "      <th>session_number_plotting</th>\n",
       "    </tr>\n",
       "  </thead>\n",
       "  <tbody>\n",
       "    <tr>\n",
       "      <th>0</th>\n",
       "      <td>1</td>\n",
       "      <td>2</td>\n",
       "      <td>1</td>\n",
       "      <td>1000.0</td>\n",
       "      <td>1010.0</td>\n",
       "      <td>1</td>\n",
       "      <td>2022-07-11</td>\n",
       "      <td>1.0</td>\n",
       "      <td>1.0</td>\n",
       "    </tr>\n",
       "    <tr>\n",
       "      <th>1</th>\n",
       "      <td>1</td>\n",
       "      <td>1</td>\n",
       "      <td>1</td>\n",
       "      <td>1000.0</td>\n",
       "      <td>990.0</td>\n",
       "      <td>1</td>\n",
       "      <td>2022-07-11</td>\n",
       "      <td>1.0</td>\n",
       "      <td>1.0</td>\n",
       "    </tr>\n",
       "    <tr>\n",
       "      <th>2</th>\n",
       "      <td>2</td>\n",
       "      <td>2</td>\n",
       "      <td>3</td>\n",
       "      <td>1010.0</td>\n",
       "      <td>1019.7</td>\n",
       "      <td>1</td>\n",
       "      <td>2022-07-11</td>\n",
       "      <td>1.0</td>\n",
       "      <td>NaN</td>\n",
       "    </tr>\n",
       "    <tr>\n",
       "      <th>3</th>\n",
       "      <td>2</td>\n",
       "      <td>3</td>\n",
       "      <td>3</td>\n",
       "      <td>1000.0</td>\n",
       "      <td>990.3</td>\n",
       "      <td>1</td>\n",
       "      <td>2022-07-11</td>\n",
       "      <td>1.0</td>\n",
       "      <td>NaN</td>\n",
       "    </tr>\n",
       "    <tr>\n",
       "      <th>4</th>\n",
       "      <td>3</td>\n",
       "      <td>3</td>\n",
       "      <td>4</td>\n",
       "      <td>990.3</td>\n",
       "      <td>1000.6</td>\n",
       "      <td>1</td>\n",
       "      <td>2022-07-11</td>\n",
       "      <td>1.0</td>\n",
       "      <td>NaN</td>\n",
       "    </tr>\n",
       "  </tbody>\n",
       "</table>\n",
       "</div>"
      ],
      "text/plain": [
       "   total_match_number  subject_id  agent_id  original_elo_score  \\\n",
       "0                   1           2         1              1000.0   \n",
       "1                   1           1         1              1000.0   \n",
       "2                   2           2         3              1010.0   \n",
       "3                   2           3         3              1000.0   \n",
       "4                   3           3         4               990.3   \n",
       "\n",
       "   updated_elo_score  win_draw_loss       date  session_number  \\\n",
       "0             1010.0              1 2022-07-11             1.0   \n",
       "1              990.0              1 2022-07-11             1.0   \n",
       "2             1019.7              1 2022-07-11             1.0   \n",
       "3              990.3              1 2022-07-11             1.0   \n",
       "4             1000.6              1 2022-07-11             1.0   \n",
       "\n",
       "   session_number_plotting  \n",
       "0                      1.0  \n",
       "1                      1.0  \n",
       "2                      NaN  \n",
       "3                      NaN  \n",
       "4                      NaN  "
      ]
     },
     "execution_count": 24,
     "metadata": {},
     "output_type": "execute_result"
    }
   ],
   "source": [
    "tube_test_elo_score_df.head()"
   ]
  },
  {
   "cell_type": "code",
   "execution_count": 25,
   "id": "04bb8bad",
   "metadata": {
    "scrolled": true
   },
   "outputs": [
    {
     "data": {
      "text/html": [
       "<div>\n",
       "<style scoped>\n",
       "    .dataframe tbody tr th:only-of-type {\n",
       "        vertical-align: middle;\n",
       "    }\n",
       "\n",
       "    .dataframe tbody tr th {\n",
       "        vertical-align: top;\n",
       "    }\n",
       "\n",
       "    .dataframe thead th {\n",
       "        text-align: right;\n",
       "    }\n",
       "</style>\n",
       "<table border=\"1\" class=\"dataframe\">\n",
       "  <thead>\n",
       "    <tr style=\"text-align: right;\">\n",
       "      <th></th>\n",
       "      <th>total_match_number</th>\n",
       "      <th>subject_id</th>\n",
       "      <th>agent_id</th>\n",
       "      <th>original_elo_score</th>\n",
       "      <th>updated_elo_score</th>\n",
       "      <th>win_draw_loss</th>\n",
       "      <th>date</th>\n",
       "      <th>session_number</th>\n",
       "      <th>session_number_plotting</th>\n",
       "    </tr>\n",
       "  </thead>\n",
       "  <tbody>\n",
       "    <tr>\n",
       "      <th>127</th>\n",
       "      <td>64</td>\n",
       "      <td>4</td>\n",
       "      <td>4</td>\n",
       "      <td>805.5</td>\n",
       "      <td>802.4</td>\n",
       "      <td>1</td>\n",
       "      <td>2022-07-26</td>\n",
       "      <td>11.0</td>\n",
       "      <td>NaN</td>\n",
       "    </tr>\n",
       "    <tr>\n",
       "      <th>128</th>\n",
       "      <td>65</td>\n",
       "      <td>1</td>\n",
       "      <td>3</td>\n",
       "      <td>1081.7</td>\n",
       "      <td>1089.8</td>\n",
       "      <td>1</td>\n",
       "      <td>2022-07-26</td>\n",
       "      <td>11.0</td>\n",
       "      <td>NaN</td>\n",
       "    </tr>\n",
       "    <tr>\n",
       "      <th>129</th>\n",
       "      <td>65</td>\n",
       "      <td>3</td>\n",
       "      <td>3</td>\n",
       "      <td>1014.1</td>\n",
       "      <td>1006.0</td>\n",
       "      <td>1</td>\n",
       "      <td>2022-07-26</td>\n",
       "      <td>11.0</td>\n",
       "      <td>NaN</td>\n",
       "    </tr>\n",
       "    <tr>\n",
       "      <th>130</th>\n",
       "      <td>66</td>\n",
       "      <td>1</td>\n",
       "      <td>4</td>\n",
       "      <td>1089.8</td>\n",
       "      <td>1093.0</td>\n",
       "      <td>1</td>\n",
       "      <td>2022-07-26</td>\n",
       "      <td>11.0</td>\n",
       "      <td>NaN</td>\n",
       "    </tr>\n",
       "    <tr>\n",
       "      <th>131</th>\n",
       "      <td>66</td>\n",
       "      <td>4</td>\n",
       "      <td>4</td>\n",
       "      <td>802.4</td>\n",
       "      <td>799.2</td>\n",
       "      <td>1</td>\n",
       "      <td>2022-07-26</td>\n",
       "      <td>11.0</td>\n",
       "      <td>NaN</td>\n",
       "    </tr>\n",
       "  </tbody>\n",
       "</table>\n",
       "</div>"
      ],
      "text/plain": [
       "     total_match_number  subject_id  agent_id  original_elo_score  \\\n",
       "127                  64           4         4               805.5   \n",
       "128                  65           1         3              1081.7   \n",
       "129                  65           3         3              1014.1   \n",
       "130                  66           1         4              1089.8   \n",
       "131                  66           4         4               802.4   \n",
       "\n",
       "     updated_elo_score  win_draw_loss       date  session_number  \\\n",
       "127              802.4              1 2022-07-26            11.0   \n",
       "128             1089.8              1 2022-07-26            11.0   \n",
       "129             1006.0              1 2022-07-26            11.0   \n",
       "130             1093.0              1 2022-07-26            11.0   \n",
       "131              799.2              1 2022-07-26            11.0   \n",
       "\n",
       "     session_number_plotting  \n",
       "127                      NaN  \n",
       "128                      NaN  \n",
       "129                      NaN  \n",
       "130                      NaN  \n",
       "131                      NaN  "
      ]
     },
     "execution_count": 25,
     "metadata": {},
     "output_type": "execute_result"
    }
   ],
   "source": [
    "tube_test_elo_score_df.tail()"
   ]
  },
  {
   "cell_type": "code",
   "execution_count": 26,
   "id": "4583b07f",
   "metadata": {},
   "outputs": [
    {
     "data": {
      "text/html": [
       "<div>\n",
       "<style scoped>\n",
       "    .dataframe tbody tr th:only-of-type {\n",
       "        vertical-align: middle;\n",
       "    }\n",
       "\n",
       "    .dataframe tbody tr th {\n",
       "        vertical-align: top;\n",
       "    }\n",
       "\n",
       "    .dataframe thead th {\n",
       "        text-align: right;\n",
       "    }\n",
       "</style>\n",
       "<table border=\"1\" class=\"dataframe\">\n",
       "  <thead>\n",
       "    <tr style=\"text-align: right;\">\n",
       "      <th></th>\n",
       "      <th>total_match_number</th>\n",
       "      <th>agent_id</th>\n",
       "      <th>original_elo_score</th>\n",
       "      <th>updated_elo_score</th>\n",
       "      <th>win_draw_loss</th>\n",
       "      <th>date</th>\n",
       "      <th>session_number</th>\n",
       "      <th>session_number_plotting</th>\n",
       "    </tr>\n",
       "    <tr>\n",
       "      <th>subject_id</th>\n",
       "      <th></th>\n",
       "      <th></th>\n",
       "      <th></th>\n",
       "      <th></th>\n",
       "      <th></th>\n",
       "      <th></th>\n",
       "      <th></th>\n",
       "      <th></th>\n",
       "    </tr>\n",
       "  </thead>\n",
       "  <tbody>\n",
       "    <tr>\n",
       "      <th>1</th>\n",
       "      <td>33</td>\n",
       "      <td>33</td>\n",
       "      <td>33</td>\n",
       "      <td>33</td>\n",
       "      <td>33</td>\n",
       "      <td>33</td>\n",
       "      <td>33</td>\n",
       "      <td>5</td>\n",
       "    </tr>\n",
       "    <tr>\n",
       "      <th>2</th>\n",
       "      <td>33</td>\n",
       "      <td>33</td>\n",
       "      <td>33</td>\n",
       "      <td>33</td>\n",
       "      <td>33</td>\n",
       "      <td>33</td>\n",
       "      <td>33</td>\n",
       "      <td>7</td>\n",
       "    </tr>\n",
       "    <tr>\n",
       "      <th>3</th>\n",
       "      <td>33</td>\n",
       "      <td>33</td>\n",
       "      <td>33</td>\n",
       "      <td>33</td>\n",
       "      <td>33</td>\n",
       "      <td>33</td>\n",
       "      <td>33</td>\n",
       "      <td>6</td>\n",
       "    </tr>\n",
       "    <tr>\n",
       "      <th>4</th>\n",
       "      <td>33</td>\n",
       "      <td>33</td>\n",
       "      <td>33</td>\n",
       "      <td>33</td>\n",
       "      <td>33</td>\n",
       "      <td>33</td>\n",
       "      <td>33</td>\n",
       "      <td>4</td>\n",
       "    </tr>\n",
       "  </tbody>\n",
       "</table>\n",
       "</div>"
      ],
      "text/plain": [
       "            total_match_number  agent_id  original_elo_score  \\\n",
       "subject_id                                                     \n",
       "1                           33        33                  33   \n",
       "2                           33        33                  33   \n",
       "3                           33        33                  33   \n",
       "4                           33        33                  33   \n",
       "\n",
       "            updated_elo_score  win_draw_loss  date  session_number  \\\n",
       "subject_id                                                           \n",
       "1                          33             33    33              33   \n",
       "2                          33             33    33              33   \n",
       "3                          33             33    33              33   \n",
       "4                          33             33    33              33   \n",
       "\n",
       "            session_number_plotting  \n",
       "subject_id                           \n",
       "1                                 5  \n",
       "2                                 7  \n",
       "3                                 6  \n",
       "4                                 4  "
      ]
     },
     "execution_count": 26,
     "metadata": {},
     "output_type": "execute_result"
    }
   ],
   "source": [
    "tube_test_elo_score_df.groupby(\"subject_id\").count()"
   ]
  },
  {
   "cell_type": "code",
   "execution_count": 27,
   "id": "58f124e4",
   "metadata": {},
   "outputs": [
    {
     "data": {
      "text/html": [
       "<div>\n",
       "<style scoped>\n",
       "    .dataframe tbody tr th:only-of-type {\n",
       "        vertical-align: middle;\n",
       "    }\n",
       "\n",
       "    .dataframe tbody tr th {\n",
       "        vertical-align: top;\n",
       "    }\n",
       "\n",
       "    .dataframe thead th {\n",
       "        text-align: right;\n",
       "    }\n",
       "</style>\n",
       "<table border=\"1\" class=\"dataframe\">\n",
       "  <thead>\n",
       "    <tr style=\"text-align: right;\">\n",
       "      <th></th>\n",
       "      <th>total_match_number</th>\n",
       "      <th>subject_id</th>\n",
       "      <th>agent_id</th>\n",
       "      <th>original_elo_score</th>\n",
       "      <th>updated_elo_score</th>\n",
       "      <th>win_draw_loss</th>\n",
       "      <th>date</th>\n",
       "      <th>session_number_plotting</th>\n",
       "    </tr>\n",
       "    <tr>\n",
       "      <th>session_number</th>\n",
       "      <th></th>\n",
       "      <th></th>\n",
       "      <th></th>\n",
       "      <th></th>\n",
       "      <th></th>\n",
       "      <th></th>\n",
       "      <th></th>\n",
       "      <th></th>\n",
       "    </tr>\n",
       "  </thead>\n",
       "  <tbody>\n",
       "    <tr>\n",
       "      <th>1.0</th>\n",
       "      <td>12</td>\n",
       "      <td>12</td>\n",
       "      <td>12</td>\n",
       "      <td>12</td>\n",
       "      <td>12</td>\n",
       "      <td>12</td>\n",
       "      <td>12</td>\n",
       "      <td>2</td>\n",
       "    </tr>\n",
       "    <tr>\n",
       "      <th>2.0</th>\n",
       "      <td>12</td>\n",
       "      <td>12</td>\n",
       "      <td>12</td>\n",
       "      <td>12</td>\n",
       "      <td>12</td>\n",
       "      <td>12</td>\n",
       "      <td>12</td>\n",
       "      <td>2</td>\n",
       "    </tr>\n",
       "    <tr>\n",
       "      <th>3.0</th>\n",
       "      <td>12</td>\n",
       "      <td>12</td>\n",
       "      <td>12</td>\n",
       "      <td>12</td>\n",
       "      <td>12</td>\n",
       "      <td>12</td>\n",
       "      <td>12</td>\n",
       "      <td>2</td>\n",
       "    </tr>\n",
       "    <tr>\n",
       "      <th>4.0</th>\n",
       "      <td>12</td>\n",
       "      <td>12</td>\n",
       "      <td>12</td>\n",
       "      <td>12</td>\n",
       "      <td>12</td>\n",
       "      <td>12</td>\n",
       "      <td>12</td>\n",
       "      <td>2</td>\n",
       "    </tr>\n",
       "    <tr>\n",
       "      <th>5.0</th>\n",
       "      <td>12</td>\n",
       "      <td>12</td>\n",
       "      <td>12</td>\n",
       "      <td>12</td>\n",
       "      <td>12</td>\n",
       "      <td>12</td>\n",
       "      <td>12</td>\n",
       "      <td>2</td>\n",
       "    </tr>\n",
       "    <tr>\n",
       "      <th>6.0</th>\n",
       "      <td>12</td>\n",
       "      <td>12</td>\n",
       "      <td>12</td>\n",
       "      <td>12</td>\n",
       "      <td>12</td>\n",
       "      <td>12</td>\n",
       "      <td>12</td>\n",
       "      <td>2</td>\n",
       "    </tr>\n",
       "    <tr>\n",
       "      <th>7.0</th>\n",
       "      <td>12</td>\n",
       "      <td>12</td>\n",
       "      <td>12</td>\n",
       "      <td>12</td>\n",
       "      <td>12</td>\n",
       "      <td>12</td>\n",
       "      <td>12</td>\n",
       "      <td>2</td>\n",
       "    </tr>\n",
       "    <tr>\n",
       "      <th>8.0</th>\n",
       "      <td>12</td>\n",
       "      <td>12</td>\n",
       "      <td>12</td>\n",
       "      <td>12</td>\n",
       "      <td>12</td>\n",
       "      <td>12</td>\n",
       "      <td>12</td>\n",
       "      <td>2</td>\n",
       "    </tr>\n",
       "    <tr>\n",
       "      <th>9.0</th>\n",
       "      <td>12</td>\n",
       "      <td>12</td>\n",
       "      <td>12</td>\n",
       "      <td>12</td>\n",
       "      <td>12</td>\n",
       "      <td>12</td>\n",
       "      <td>12</td>\n",
       "      <td>2</td>\n",
       "    </tr>\n",
       "    <tr>\n",
       "      <th>10.0</th>\n",
       "      <td>12</td>\n",
       "      <td>12</td>\n",
       "      <td>12</td>\n",
       "      <td>12</td>\n",
       "      <td>12</td>\n",
       "      <td>12</td>\n",
       "      <td>12</td>\n",
       "      <td>2</td>\n",
       "    </tr>\n",
       "    <tr>\n",
       "      <th>11.0</th>\n",
       "      <td>12</td>\n",
       "      <td>12</td>\n",
       "      <td>12</td>\n",
       "      <td>12</td>\n",
       "      <td>12</td>\n",
       "      <td>12</td>\n",
       "      <td>12</td>\n",
       "      <td>2</td>\n",
       "    </tr>\n",
       "  </tbody>\n",
       "</table>\n",
       "</div>"
      ],
      "text/plain": [
       "                total_match_number  subject_id  agent_id  original_elo_score  \\\n",
       "session_number                                                                 \n",
       "1.0                             12          12        12                  12   \n",
       "2.0                             12          12        12                  12   \n",
       "3.0                             12          12        12                  12   \n",
       "4.0                             12          12        12                  12   \n",
       "5.0                             12          12        12                  12   \n",
       "6.0                             12          12        12                  12   \n",
       "7.0                             12          12        12                  12   \n",
       "8.0                             12          12        12                  12   \n",
       "9.0                             12          12        12                  12   \n",
       "10.0                            12          12        12                  12   \n",
       "11.0                            12          12        12                  12   \n",
       "\n",
       "                updated_elo_score  win_draw_loss  date  \\\n",
       "session_number                                           \n",
       "1.0                            12             12    12   \n",
       "2.0                            12             12    12   \n",
       "3.0                            12             12    12   \n",
       "4.0                            12             12    12   \n",
       "5.0                            12             12    12   \n",
       "6.0                            12             12    12   \n",
       "7.0                            12             12    12   \n",
       "8.0                            12             12    12   \n",
       "9.0                            12             12    12   \n",
       "10.0                           12             12    12   \n",
       "11.0                           12             12    12   \n",
       "\n",
       "                session_number_plotting  \n",
       "session_number                           \n",
       "1.0                                   2  \n",
       "2.0                                   2  \n",
       "3.0                                   2  \n",
       "4.0                                   2  \n",
       "5.0                                   2  \n",
       "6.0                                   2  \n",
       "7.0                                   2  \n",
       "8.0                                   2  \n",
       "9.0                                   2  \n",
       "10.0                                  2  \n",
       "11.0                                  2  "
      ]
     },
     "execution_count": 27,
     "metadata": {},
     "output_type": "execute_result"
    }
   ],
   "source": [
    "tube_test_elo_score_df.groupby(\"session_number\").count()"
   ]
  },
  {
   "cell_type": "markdown",
   "id": "16542145",
   "metadata": {},
   "source": [
    "# Plotting the Elo Score by match number"
   ]
  },
  {
   "cell_type": "code",
   "execution_count": 28,
   "id": "692f8641",
   "metadata": {},
   "outputs": [],
   "source": [
    "# Increase size of plot in jupyter\n",
    "\n",
    "plt.rcParams[\"figure.figsize\"] = (18,10)"
   ]
  },
  {
   "cell_type": "code",
   "execution_count": 29,
   "id": "9b5ab11f",
   "metadata": {
    "scrolled": true
   },
   "outputs": [
    {
     "data": {
      "image/png": "[encoded data removed]",
      "text/plain": [
       "<Figure size 432x288 with 1 Axes>"
      ]
     },
     "metadata": {
      "needs_background": "light"
     },
     "output_type": "display_data"
    }
   ],
   "source": [
    "fig, ax = plt.subplots()\n",
    "\n",
    "# Drawing vertical lines that represent when each session begins\n",
    "for index, row in tube_test_elo_score_df.dropna(subset=[\"session_number_plotting\"]).iterrows():\n",
    "    # Offsetting by 0.5 to avoid drawing the line on the dot\n",
    "    plt.vlines(x=[row[\"total_match_number\"] - 0.5], ymin=700, ymax=1300, colors='black', linestyle='dashed')\n",
    "\n",
    "# Drawing a line for each subject\n",
    "for subject in sorted(tube_test_elo_score_df[\"subject_id\"].unique()):\n",
    "    # Getting all the rows with the current subject\n",
    "    subject_df = tube_test_elo_score_df[tube_test_elo_score_df[\"subject_id\"] == subject]\n",
    "    # Making the dates into days after the first session by subtracting all the dates by the first date\n",
    "    plt.plot(subject_df[\"total_match_number\"], subject_df[\"updated_elo_score\"], '-o', label=subject)\n",
    "\n",
    "# Labeling the X/Y Axis and the title\n",
    "ax.set_xlabel(\"Trial Number\")\n",
    "ax.set_ylabel(\"Elo Score\")\n",
    "# ax.set_title(\"Elo Score for Home Cage Observation: Cage {}\".format(cage))\n",
    "# To show the legend\n",
    "ax.legend()\n",
    "plt.xticks(rotation=90)\n",
    "plt.ylim(700, 1300) \n",
    "plt.show()\n",
    "\n"
   ]
  },
  {
   "cell_type": "markdown",
   "id": "a24c88ac",
   "metadata": {},
   "source": [
    "# Calculate the Elo Score for all sheets"
   ]
  },
  {
   "cell_type": "code",
   "execution_count": 30,
   "id": "0ee1f383",
   "metadata": {},
   "outputs": [],
   "source": [
    "xls = pd.ExcelFile(\"./data/Tube_Test.xlsx\")\n",
    "sheets = xls.sheet_names"
   ]
  },
  {
   "cell_type": "code",
   "execution_count": 31,
   "id": "40c1bcc1",
   "metadata": {},
   "outputs": [
    {
     "data": {
      "text/plain": [
       "['summary', 'CAGE1', 'CAGE2', 'CAGE3', 'CAGE4', 'CAGE5', 'CAGE6']"
      ]
     },
     "execution_count": 31,
     "metadata": {},
     "output_type": "execute_result"
    }
   ],
   "source": [
    "sheets"
   ]
  },
  {
   "cell_type": "code",
   "execution_count": 47,
   "id": "aa8db24e",
   "metadata": {},
   "outputs": [],
   "source": [
    "sheet_to_data_frame = defaultdict(dict)\n",
    "for sheet in sheets[1:]:\n",
    "    sheet_to_data_frame[sheet][\"recording_data_frame\"] = pd.read_excel(\"./data/Tube_Test.xlsx\", sheet_name=sheet, header=1).copy()\n",
    "    # Adding the session numbers as a column\n",
    "    session_indexes = sheet_to_data_frame[sheet][\"recording_data_frame\"].dropna(axis=0, subset=\"date\").index\n",
    "    sheet_to_data_frame[sheet][\"recording_data_frame\"] = eloscore.add_session_number_column(sheet_to_data_frame[sheet][\"recording_data_frame\"], session_indexes)\n",
    "    sheet_to_data_frame[sheet][\"recording_data_frame\"] = sheet_to_data_frame[sheet][\"recording_data_frame\"].fillna(method='ffill')\n",
    "    sheet_to_data_frame[sheet][\"recording_data_frame\"] = eloscore.add_session_number_column(sheet_to_data_frame[sheet][\"recording_data_frame\"], session_indexes, session_number_column=\"session_number_plotting\")\n",
    "\n",
    "    # Splitting all the rows with commas in the ID\n",
    "    sheet_to_data_frame[sheet][\"recording_data_frame\"][\"winner\"] = sheet_to_data_frame[sheet][\"recording_data_frame\"][\"winner\"].astype(str)\n",
    "    sheet_to_data_frame[sheet][\"recording_data_frame\"][\"loser\"] = sheet_to_data_frame[sheet][\"recording_data_frame\"][\"loser\"].astype(str)\n",
    "    \n",
    "    sheet_to_data_frame[sheet][\"recording_data_frame\"][\"winner\"] = sheet_to_data_frame[sheet][\"recording_data_frame\"][\"winner\"].str.split(\",\")\n",
    "    sheet_to_data_frame[sheet][\"recording_data_frame\"] = sheet_to_data_frame[sheet][\"recording_data_frame\"].explode(\"winner\").reset_index(drop=True)\n",
    "    sheet_to_data_frame[sheet][\"recording_data_frame\"][\"loser\"] = sheet_to_data_frame[sheet][\"recording_data_frame\"][\"loser\"].str.split(\",\")\n",
    "    sheet_to_data_frame[sheet][\"recording_data_frame\"] = sheet_to_data_frame[sheet][\"recording_data_frame\"].explode(\"loser\").reset_index(drop=True)\n",
    "\n",
    "    sheet_to_data_frame[sheet][\"recording_data_frame\"][\"winner\"] = sheet_to_data_frame[sheet][\"recording_data_frame\"][\"winner\"].astype(float).astype(int).astype(str)\n",
    "    sheet_to_data_frame[sheet][\"recording_data_frame\"][\"loser\"] = sheet_to_data_frame[sheet][\"recording_data_frame\"][\"loser\"].astype(float).astype(int).astype(str)\n",
    "    \n",
    "    # Calculating the Elo Score    \n",
    "    index_to_elo_score_and_meta_data = eloscore.iterate_elo_score_calculation_for_data_frame(data_frame=sheet_to_data_frame[sheet][\"recording_data_frame\"], \\\n",
    "                                                                                                               winner_column=\"winner\", loser_column=\"loser\", additional_columns=[\"date\", \"session_number\", \"session_number_plotting\"])\n",
    "    sheet_to_data_frame[sheet][\"elo_score_data_frame\"] = pd.DataFrame.from_dict(index_to_elo_score_and_meta_data, orient=\"index\")"
   ]
  },
  {
   "cell_type": "markdown",
   "id": "ca87a1bb",
   "metadata": {},
   "source": [
    "# Making plots for all sheets"
   ]
  },
  {
   "cell_type": "markdown",
   "id": "d53d0a3d",
   "metadata": {},
   "source": [
    "- Getting the dates the files were being recorded to use for the file name"
   ]
  },
  {
   "cell_type": "code",
   "execution_count": 33,
   "id": "31a00788",
   "metadata": {},
   "outputs": [
    {
     "data": {
      "text/plain": [
       "'CAGE1'"
      ]
     },
     "execution_count": 33,
     "metadata": {},
     "output_type": "execute_result"
    }
   ],
   "source": [
    "sheets[1]"
   ]
  },
  {
   "cell_type": "code",
   "execution_count": 35,
   "id": "d0a8f6fc",
   "metadata": {},
   "outputs": [],
   "source": [
    "earliest_date = str(sheet_to_data_frame[sheets[1]][\"recording_data_frame\"][\"date\"].min()).split()[0]"
   ]
  },
  {
   "cell_type": "code",
   "execution_count": 36,
   "id": "908437ba",
   "metadata": {},
   "outputs": [],
   "source": [
    "latest_date = str(sheet_to_data_frame[sheets[1]][\"recording_data_frame\"][\"date\"].max()).split()[0]"
   ]
  },
  {
   "cell_type": "code",
   "execution_count": 37,
   "id": "96857258",
   "metadata": {},
   "outputs": [
    {
     "data": {
      "text/plain": [
       "'2022-07-11'"
      ]
     },
     "execution_count": 37,
     "metadata": {},
     "output_type": "execute_result"
    }
   ],
   "source": [
    "earliest_date"
   ]
  },
  {
   "cell_type": "code",
   "execution_count": 38,
   "id": "64e4ffee",
   "metadata": {},
   "outputs": [
    {
     "data": {
      "text/plain": [
       "'2022-07-26'"
      ]
     },
     "execution_count": 38,
     "metadata": {},
     "output_type": "execute_result"
    }
   ],
   "source": [
    "latest_date"
   ]
  },
  {
   "cell_type": "markdown",
   "id": "a789713b",
   "metadata": {},
   "source": [
    "- Getting the cage numbers"
   ]
  },
  {
   "cell_type": "code",
   "execution_count": 39,
   "id": "f6f11c4e",
   "metadata": {},
   "outputs": [],
   "source": [
    "all_cages = \"_\".join(sorted([sheet.lower().strip(\"cage\").strip() for sheet in sheets[1:]]))"
   ]
  },
  {
   "cell_type": "code",
   "execution_count": 40,
   "id": "9b286ddf",
   "metadata": {},
   "outputs": [
    {
     "data": {
      "text/plain": [
       "'1_2_3_4_5_6'"
      ]
     },
     "execution_count": 40,
     "metadata": {},
     "output_type": "execute_result"
    }
   ],
   "source": [
    "all_cages"
   ]
  },
  {
   "cell_type": "code",
   "execution_count": 41,
   "id": "bf5f9a4b",
   "metadata": {},
   "outputs": [],
   "source": [
    "output_directory = \"./proc/plots/tube_test_elo_score/cage_{}_date_{}_{}\".format(all_cages, earliest_date, latest_date)"
   ]
  },
  {
   "cell_type": "code",
   "execution_count": 42,
   "id": "c3304a7c",
   "metadata": {},
   "outputs": [
    {
     "data": {
      "text/plain": [
       "'./proc/plots/tube_test_elo_score/cage_1_2_3_4_5_6_date_2022-07-11_2022-07-26'"
      ]
     },
     "execution_count": 42,
     "metadata": {},
     "output_type": "execute_result"
    }
   ],
   "source": [
    "output_directory"
   ]
  },
  {
   "cell_type": "code",
   "execution_count": 43,
   "id": "aae726d6",
   "metadata": {},
   "outputs": [],
   "source": [
    "os.makedirs(output_directory, exist_ok=True)"
   ]
  },
  {
   "cell_type": "code",
   "execution_count": 51,
   "id": "eea2df77",
   "metadata": {},
   "outputs": [
    {
     "data": {
      "image/png": "[encoded data removed]",
      "text/plain": [
       "<Figure size 648x360 with 1 Axes>"
      ]
     },
     "metadata": {
      "needs_background": "light"
     },
     "output_type": "display_data"
    },
    {
     "data": {
      "image/png": "[encoded data removed]",
      "text/plain": [
       "<Figure size 648x360 with 1 Axes>"
      ]
     },
     "metadata": {
      "needs_background": "light"
     },
     "output_type": "display_data"
    },
    {
     "data": {
      "image/png": "[encoded data removed]",
      "text/plain": [
       "<Figure size 648x360 with 1 Axes>"
      ]
     },
     "metadata": {
      "needs_background": "light"
     },
     "output_type": "display_data"
    },
    {
     "data": {
      "image/png": "[encoded data removed]",
      "text/plain": [
       "<Figure size 648x360 with 1 Axes>"
      ]
     },
     "metadata": {
      "needs_background": "light"
     },
     "output_type": "display_data"
    },
    {
     "data": {
      "image/png": "[encoded data removed]",
      "text/plain": [
       "<Figure size 648x360 with 1 Axes>"
      ]
     },
     "metadata": {
      "needs_background": "light"
     },
     "output_type": "display_data"
    },
    {
     "data": {
      "image/png": "[encoded data removed]",
      "text/plain": [
       "<Figure size 648x360 with 1 Axes>"
      ]
     },
     "metadata": {
      "needs_background": "light"
     },
     "output_type": "display_data"
    }
   ],
   "source": [
    "for key, value in sheet_to_data_frame.items():\n",
    "    plt.rcParams[\"figure.figsize\"] = (9,5)\n",
    "    elo_score_data_frame = value[\"elo_score_data_frame\"]\n",
    "    fig, ax = plt.subplots()\n",
    "\n",
    "    # Drawing vertical lines that represent when each session begins\n",
    "    for index, row in elo_score_data_frame.dropna(subset=[\"session_number_plotting\"]).iterrows():\n",
    "        # Offsetting by 0.5 to avoid drawing the line on the dot\n",
    "        plt.vlines(x=[row[\"total_match_number\"] - 0.5], ymin=600, ymax=1400, colors='black', linestyle='dashed')\n",
    "\n",
    "    # Drawing a line for each subject\n",
    "    for subject in sorted(elo_score_data_frame[\"subject_id\"].astype(str).unique()):\n",
    "        # Getting all the rows with the current subject\n",
    "        subject_df = elo_score_data_frame[elo_score_data_frame[\"subject_id\"] == subject]\n",
    "        # Making the dates into days after the first session by subtracting all the dates by the first date\n",
    "        plt.plot(subject_df[\"total_match_number\"], subject_df[\"updated_elo_score\"], '-o', label=subject)\n",
    "\n",
    "    # Labeling the X/Y Axis and the title\n",
    "    ax.set_xlabel(\"Trial Number\")\n",
    "    ax.set_ylabel(\"Elo Score\")\n",
    "    ax.set_title(\"Elo Score for Home Cage Observation: {}\".format(key))\n",
    "    # To show the legend\n",
    "    ax.legend()\n",
    "    plt.xticks(rotation=90)\n",
    "    plt.ylim(600, 1400) \n",
    "    \n",
    "    file_name = \"tube_test_elo_score_{}_date_{}_{}.png\".format(key, earliest_date, latest_date)\n",
    "    plt.savefig(os.path.join(output_directory, file_name))\n",
    "    \n",
    "    plt.show()\n"
   ]
  },
  {
   "cell_type": "code",
   "execution_count": null,
   "id": "084f4a5d",
   "metadata": {},
   "outputs": [],
   "source": []
  }
 ],
 "metadata": {
  "kernelspec": {
   "display_name": "Python 3 (ipykernel)",
   "language": "python",
   "name": "python3"
  },
  "language_info": {
   "codemirror_mode": {
    "name": "ipython",
    "version": 3
   },
   "file_extension": ".py",
   "mimetype": "text/x-python",
   "name": "python",
   "nbconvert_exporter": "python",
   "pygments_lexer": "ipython3",
   "version": "3.9.12"
  },
  "vscode": {
   "interpreter": {
    "hash": "1eab39844f49fe378870e01884132b9a01e61bfdb7013dba0b232b1cf67de0bc"
   }
  }
 },
 "nbformat": 4,
 "nbformat_minor": 5
}
