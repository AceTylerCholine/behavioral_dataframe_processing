{
 "cells": [
  {
   "cell_type": "markdown",
   "id": "cd97c972",
   "metadata": {},
   "source": [
    "# Elo Score Calculation"
   ]
  },
  {
   "cell_type": "code",
   "execution_count": 1,
   "id": "cf755b46",
   "metadata": {},
   "outputs": [],
   "source": [
    "import re\n",
    "import os\n",
    "import sys\n",
    "from collections import defaultdict\n",
    "import glob\n",
    "import warnings"
   ]
  },
  {
   "cell_type": "code",
   "execution_count": 2,
   "id": "9537e067",
   "metadata": {},
   "outputs": [],
   "source": [
    "from datetime import datetime\n",
    "from datetime import timedelta\n",
    "import matplotlib.pyplot as plt"
   ]
  },
  {
   "cell_type": "code",
   "execution_count": 3,
   "id": "1c9bfe6f",
   "metadata": {},
   "outputs": [],
   "source": [
    "import numpy as np\n",
    "import pandas as pd\n",
    "import xlrd"
   ]
  },
  {
   "cell_type": "code",
   "execution_count": 4,
   "id": "2e3d2466",
   "metadata": {},
   "outputs": [],
   "source": [
    "# setting path\n",
    "sys.path.append('../../src')"
   ]
  },
  {
   "cell_type": "code",
   "execution_count": 5,
   "id": "104016aa",
   "metadata": {},
   "outputs": [],
   "source": [
    "from eloscore import eloscore"
   ]
  },
  {
   "cell_type": "code",
   "execution_count": 6,
   "id": "6ea31ca1",
   "metadata": {},
   "outputs": [],
   "source": [
    "# Increase size of plot in jupyter\n",
    "\n",
    "plt.rcParams[\"figure.figsize\"] = (18,10)"
   ]
  },
  {
   "cell_type": "markdown",
   "id": "8b7c1562",
   "metadata": {},
   "source": [
    "## Summary"
   ]
  },
  {
   "cell_type": "markdown",
   "id": "a5950969",
   "metadata": {},
   "source": [
    "- Notebook that calcuates the Elo Score of mice competing over access to a tone associated reward port\n",
    "- The data is a spreadsheet of combination of subjects (as rows) against dates (as columns)"
   ]
  },
  {
   "cell_type": "markdown",
   "id": "2662d6c6",
   "metadata": {},
   "source": [
    "## Getting the file name"
   ]
  },
  {
   "cell_type": "markdown",
   "id": "b51d67ac",
   "metadata": {},
   "source": [
    "- Searching for files that are in the `./data` folder (in the folder that this notebook is in) that have `home` in the file name"
   ]
  },
  {
   "cell_type": "code",
   "execution_count": 7,
   "id": "7a7cf8ae",
   "metadata": {},
   "outputs": [],
   "source": [
    "input_folder = \"./data\""
   ]
  },
  {
   "cell_type": "code",
   "execution_count": 8,
   "id": "48e44e19",
   "metadata": {},
   "outputs": [],
   "source": [
    "raw_data_file_keyword = '*[tT]ube*'"
   ]
  },
  {
   "cell_type": "code",
   "execution_count": 9,
   "id": "a9d30ec4",
   "metadata": {},
   "outputs": [],
   "source": [
    "# Searching for matching files with recursion\n",
    "if glob.glob(os.path.join(input_folder + \"**\", raw_data_file_keyword)):\n",
    "    raw_data_files_list = glob.glob(os.path.join(input_folder + \"**\", raw_data_file_keyword))\n",
    "# Searching for matching files only in the folder\n",
    "elif glob.glob(os.path.join(input_folder, raw_data_file_keyword)):\n",
    "    raw_data_files_list = glob.glob(os.path.join(input_folder, raw_data_file_keyword))\n",
    "else:\n",
    "    raise ValueError(\"No files were found in {} that had the keyword {} in it\".format(input_folder, raw_data_file_keyword))"
   ]
  },
  {
   "cell_type": "code",
   "execution_count": 10,
   "id": "92046133",
   "metadata": {},
   "outputs": [
    {
     "data": {
      "text/plain": [
       "['./data/Tube_Test.xlsx']"
      ]
     },
     "execution_count": 10,
     "metadata": {},
     "output_type": "execute_result"
    }
   ],
   "source": [
    "raw_data_files_list"
   ]
  },
  {
   "cell_type": "code",
   "execution_count": 11,
   "id": "14a21a5b",
   "metadata": {},
   "outputs": [],
   "source": [
    "raw_data_file_path = raw_data_files_list[0]"
   ]
  },
  {
   "cell_type": "code",
   "execution_count": 12,
   "id": "1186cfce",
   "metadata": {},
   "outputs": [
    {
     "data": {
      "text/plain": [
       "'./data/Tube_Test.xlsx'"
      ]
     },
     "execution_count": 12,
     "metadata": {},
     "output_type": "execute_result"
    }
   ],
   "source": [
    "raw_data_file_path"
   ]
  },
  {
   "cell_type": "markdown",
   "id": "a934ef8f",
   "metadata": {},
   "source": [
    "## Importing Data for One Sheet"
   ]
  },
  {
   "cell_type": "markdown",
   "id": "b7839431",
   "metadata": {},
   "source": [
    "- The original data has been trimmed so that only the cells with dates, winner ID's, and relevant metadata were kept"
   ]
  },
  {
   "cell_type": "code",
   "execution_count": 13,
   "id": "bb3ff67b",
   "metadata": {},
   "outputs": [],
   "source": [
    "xls = pd.ExcelFile(raw_data_file_path)\n",
    "sheets = xls.sheet_names"
   ]
  },
  {
   "cell_type": "code",
   "execution_count": 14,
   "id": "aeb563da",
   "metadata": {},
   "outputs": [
    {
     "data": {
      "text/plain": [
       "['summary', 'CAGE1', 'CAGE2', 'CAGE3', 'CAGE4', 'CAGE5', 'CAGE6']"
      ]
     },
     "execution_count": 14,
     "metadata": {},
     "output_type": "execute_result"
    }
   ],
   "source": [
    "sheets"
   ]
  },
  {
   "cell_type": "code",
   "execution_count": 15,
   "id": "8ab0be62",
   "metadata": {},
   "outputs": [],
   "source": [
    "# Seeing if \"Unnamed\" is in any of the cells for the 0th row\n",
    "if \"Unnamed\" not in \"\".join([str(col) for col in pd.read_excel(raw_data_file_path, sheet_name=sheets[0], header=0).columns]):\n",
    "    header_row = 0\n",
    "# Seeing if \"Unnamed\" is in any of the cells for the 1st row\n",
    "elif \"Unnamed\" not in \"\".join([str(col) for col in pd.read_excel(raw_data_file_path, sheet_name=sheets[0], header=1).columns]):\n",
    "    header_row = 1\n",
    "else:\n",
    "    header_row = 0\n",
    "    warnings.warn(\"\"\"Both the 0th and the 1st row have cells with blank values. This means that that these rows can not be used as headers. Please change the row number to the header\"\"\")\n"
   ]
  },
  {
   "cell_type": "code",
   "execution_count": 16,
   "id": "7cbb993b",
   "metadata": {},
   "outputs": [],
   "source": [
    "tube_test_observations_df = pd.read_excel(raw_data_file_path, sheet_name=sheets[1], header=header_row)"
   ]
  },
  {
   "cell_type": "code",
   "execution_count": 17,
   "id": "ec2be29b",
   "metadata": {},
   "outputs": [
    {
     "data": {
      "text/html": [
       "<div>\n",
       "<style scoped>\n",
       "    .dataframe tbody tr th:only-of-type {\n",
       "        vertical-align: middle;\n",
       "    }\n",
       "\n",
       "    .dataframe tbody tr th {\n",
       "        vertical-align: top;\n",
       "    }\n",
       "\n",
       "    .dataframe thead th {\n",
       "        text-align: right;\n",
       "    }\n",
       "</style>\n",
       "<table border=\"1\" class=\"dataframe\">\n",
       "  <thead>\n",
       "    <tr style=\"text-align: right;\">\n",
       "      <th></th>\n",
       "      <th>runner</th>\n",
       "      <th>date</th>\n",
       "      <th>match</th>\n",
       "      <th>winner</th>\n",
       "      <th>loser</th>\n",
       "      <th>notes</th>\n",
       "    </tr>\n",
       "  </thead>\n",
       "  <tbody>\n",
       "    <tr>\n",
       "      <th>0</th>\n",
       "      <td>Ezra</td>\n",
       "      <td>2022-07-11</td>\n",
       "      <td>1vs2</td>\n",
       "      <td>2</td>\n",
       "      <td>1</td>\n",
       "      <td>NaN</td>\n",
       "    </tr>\n",
       "    <tr>\n",
       "      <th>1</th>\n",
       "      <td>NaN</td>\n",
       "      <td>NaT</td>\n",
       "      <td>2vs3</td>\n",
       "      <td>2</td>\n",
       "      <td>3</td>\n",
       "      <td>NaN</td>\n",
       "    </tr>\n",
       "    <tr>\n",
       "      <th>2</th>\n",
       "      <td>NaN</td>\n",
       "      <td>NaT</td>\n",
       "      <td>3vs4</td>\n",
       "      <td>3</td>\n",
       "      <td>4</td>\n",
       "      <td>NaN</td>\n",
       "    </tr>\n",
       "    <tr>\n",
       "      <th>3</th>\n",
       "      <td>NaN</td>\n",
       "      <td>NaT</td>\n",
       "      <td>1vs3</td>\n",
       "      <td>3</td>\n",
       "      <td>1</td>\n",
       "      <td>NaN</td>\n",
       "    </tr>\n",
       "    <tr>\n",
       "      <th>4</th>\n",
       "      <td>NaN</td>\n",
       "      <td>NaT</td>\n",
       "      <td>2vs4</td>\n",
       "      <td>2</td>\n",
       "      <td>4</td>\n",
       "      <td>NaN</td>\n",
       "    </tr>\n",
       "  </tbody>\n",
       "</table>\n",
       "</div>"
      ],
      "text/plain": [
       "  runner       date match  winner  loser notes\n",
       "0   Ezra 2022-07-11  1vs2       2      1   NaN\n",
       "1    NaN        NaT  2vs3       2      3   NaN\n",
       "2    NaN        NaT  3vs4       3      4   NaN\n",
       "3    NaN        NaT  1vs3       3      1   NaN\n",
       "4    NaN        NaT  2vs4       2      4   NaN"
      ]
     },
     "execution_count": 17,
     "metadata": {},
     "output_type": "execute_result"
    }
   ],
   "source": [
    "tube_test_observations_df.head()"
   ]
  },
  {
   "cell_type": "markdown",
   "id": "1df67b61",
   "metadata": {},
   "source": [
    "## Standarizing the Column"
   ]
  },
  {
   "cell_type": "code",
   "execution_count": 18,
   "id": "a9c05696",
   "metadata": {},
   "outputs": [],
   "source": [
    "original_column_name_to_standarized = defaultdict(dict)\n",
    "for col in tube_test_observations_df.columns:\n",
    "    original_column_name_to_standarized[col] = str(col).lower().strip()"
   ]
  },
  {
   "cell_type": "code",
   "execution_count": 19,
   "id": "ad1610fb",
   "metadata": {},
   "outputs": [
    {
     "data": {
      "text/plain": [
       "defaultdict(dict,\n",
       "            {'runner': 'runner',\n",
       "             'date': 'date',\n",
       "             'match': 'match',\n",
       "             'winner': 'winner',\n",
       "             'loser': 'loser',\n",
       "             'notes': 'notes'})"
      ]
     },
     "execution_count": 19,
     "metadata": {},
     "output_type": "execute_result"
    }
   ],
   "source": [
    "original_column_name_to_standarized"
   ]
  },
  {
   "cell_type": "code",
   "execution_count": 20,
   "id": "e69ee8dc",
   "metadata": {},
   "outputs": [],
   "source": [
    "tube_test_observations_df = tube_test_observations_df.rename(columns=original_column_name_to_standarized)"
   ]
  },
  {
   "cell_type": "code",
   "execution_count": 21,
   "id": "8b414cdf",
   "metadata": {},
   "outputs": [
    {
     "data": {
      "text/html": [
       "<div>\n",
       "<style scoped>\n",
       "    .dataframe tbody tr th:only-of-type {\n",
       "        vertical-align: middle;\n",
       "    }\n",
       "\n",
       "    .dataframe tbody tr th {\n",
       "        vertical-align: top;\n",
       "    }\n",
       "\n",
       "    .dataframe thead th {\n",
       "        text-align: right;\n",
       "    }\n",
       "</style>\n",
       "<table border=\"1\" class=\"dataframe\">\n",
       "  <thead>\n",
       "    <tr style=\"text-align: right;\">\n",
       "      <th></th>\n",
       "      <th>runner</th>\n",
       "      <th>date</th>\n",
       "      <th>match</th>\n",
       "      <th>winner</th>\n",
       "      <th>loser</th>\n",
       "      <th>notes</th>\n",
       "    </tr>\n",
       "  </thead>\n",
       "  <tbody>\n",
       "    <tr>\n",
       "      <th>0</th>\n",
       "      <td>Ezra</td>\n",
       "      <td>2022-07-11</td>\n",
       "      <td>1vs2</td>\n",
       "      <td>2</td>\n",
       "      <td>1</td>\n",
       "      <td>NaN</td>\n",
       "    </tr>\n",
       "    <tr>\n",
       "      <th>1</th>\n",
       "      <td>NaN</td>\n",
       "      <td>NaT</td>\n",
       "      <td>2vs3</td>\n",
       "      <td>2</td>\n",
       "      <td>3</td>\n",
       "      <td>NaN</td>\n",
       "    </tr>\n",
       "    <tr>\n",
       "      <th>2</th>\n",
       "      <td>NaN</td>\n",
       "      <td>NaT</td>\n",
       "      <td>3vs4</td>\n",
       "      <td>3</td>\n",
       "      <td>4</td>\n",
       "      <td>NaN</td>\n",
       "    </tr>\n",
       "    <tr>\n",
       "      <th>3</th>\n",
       "      <td>NaN</td>\n",
       "      <td>NaT</td>\n",
       "      <td>1vs3</td>\n",
       "      <td>3</td>\n",
       "      <td>1</td>\n",
       "      <td>NaN</td>\n",
       "    </tr>\n",
       "    <tr>\n",
       "      <th>4</th>\n",
       "      <td>NaN</td>\n",
       "      <td>NaT</td>\n",
       "      <td>2vs4</td>\n",
       "      <td>2</td>\n",
       "      <td>4</td>\n",
       "      <td>NaN</td>\n",
       "    </tr>\n",
       "  </tbody>\n",
       "</table>\n",
       "</div>"
      ],
      "text/plain": [
       "  runner       date match  winner  loser notes\n",
       "0   Ezra 2022-07-11  1vs2       2      1   NaN\n",
       "1    NaN        NaT  2vs3       2      3   NaN\n",
       "2    NaN        NaT  3vs4       3      4   NaN\n",
       "3    NaN        NaT  1vs3       3      1   NaN\n",
       "4    NaN        NaT  2vs4       2      4   NaN"
      ]
     },
     "execution_count": 21,
     "metadata": {},
     "output_type": "execute_result"
    }
   ],
   "source": [
    "tube_test_observations_df.head()"
   ]
  },
  {
   "cell_type": "code",
   "execution_count": null,
   "id": "da7341e7",
   "metadata": {},
   "outputs": [],
   "source": []
  },
  {
   "cell_type": "markdown",
   "id": "62588bba",
   "metadata": {},
   "source": [
    "## Adding the session number"
   ]
  },
  {
   "cell_type": "markdown",
   "id": "add84e35",
   "metadata": {},
   "source": [
    "- Each new session has the date as a row, so we will get the index of all the rows with dates"
   ]
  },
  {
   "cell_type": "code",
   "execution_count": 22,
   "id": "9ab2f148",
   "metadata": {},
   "outputs": [
    {
     "data": {
      "text/html": [
       "<div>\n",
       "<style scoped>\n",
       "    .dataframe tbody tr th:only-of-type {\n",
       "        vertical-align: middle;\n",
       "    }\n",
       "\n",
       "    .dataframe tbody tr th {\n",
       "        vertical-align: top;\n",
       "    }\n",
       "\n",
       "    .dataframe thead th {\n",
       "        text-align: right;\n",
       "    }\n",
       "</style>\n",
       "<table border=\"1\" class=\"dataframe\">\n",
       "  <thead>\n",
       "    <tr style=\"text-align: right;\">\n",
       "      <th></th>\n",
       "      <th>runner</th>\n",
       "      <th>date</th>\n",
       "      <th>match</th>\n",
       "      <th>winner</th>\n",
       "      <th>loser</th>\n",
       "      <th>notes</th>\n",
       "    </tr>\n",
       "  </thead>\n",
       "  <tbody>\n",
       "    <tr>\n",
       "      <th>0</th>\n",
       "      <td>Ezra</td>\n",
       "      <td>2022-07-11</td>\n",
       "      <td>1vs2</td>\n",
       "      <td>2</td>\n",
       "      <td>1</td>\n",
       "      <td>NaN</td>\n",
       "    </tr>\n",
       "    <tr>\n",
       "      <th>6</th>\n",
       "      <td>Catalina</td>\n",
       "      <td>2022-07-12</td>\n",
       "      <td>3vs2</td>\n",
       "      <td>2</td>\n",
       "      <td>3</td>\n",
       "      <td>NaN</td>\n",
       "    </tr>\n",
       "    <tr>\n",
       "      <th>12</th>\n",
       "      <td>Nancy</td>\n",
       "      <td>2022-07-13</td>\n",
       "      <td>4vs3</td>\n",
       "      <td>3</td>\n",
       "      <td>4</td>\n",
       "      <td>NaN</td>\n",
       "    </tr>\n",
       "    <tr>\n",
       "      <th>18</th>\n",
       "      <td>Ezra</td>\n",
       "      <td>2022-07-14</td>\n",
       "      <td>2vs3</td>\n",
       "      <td>2</td>\n",
       "      <td>3</td>\n",
       "      <td>NaN</td>\n",
       "    </tr>\n",
       "    <tr>\n",
       "      <th>24</th>\n",
       "      <td>Erika</td>\n",
       "      <td>2022-07-15</td>\n",
       "      <td>1vs4</td>\n",
       "      <td>1</td>\n",
       "      <td>4</td>\n",
       "      <td>NaN</td>\n",
       "    </tr>\n",
       "    <tr>\n",
       "      <th>30</th>\n",
       "      <td>Naeliz</td>\n",
       "      <td>2022-07-18</td>\n",
       "      <td>1vs2</td>\n",
       "      <td>1</td>\n",
       "      <td>2</td>\n",
       "      <td>* started at 1pm</td>\n",
       "    </tr>\n",
       "    <tr>\n",
       "      <th>36</th>\n",
       "      <td>Catalina</td>\n",
       "      <td>2022-07-20</td>\n",
       "      <td>3vs2</td>\n",
       "      <td>2</td>\n",
       "      <td>3</td>\n",
       "      <td>NaN</td>\n",
       "    </tr>\n",
       "    <tr>\n",
       "      <th>42</th>\n",
       "      <td>Isabel</td>\n",
       "      <td>2022-07-23</td>\n",
       "      <td>4vs3</td>\n",
       "      <td>3</td>\n",
       "      <td>4</td>\n",
       "      <td>NaN</td>\n",
       "    </tr>\n",
       "    <tr>\n",
       "      <th>48</th>\n",
       "      <td>Jocelyn</td>\n",
       "      <td>2022-07-24</td>\n",
       "      <td>1vs4</td>\n",
       "      <td>1</td>\n",
       "      <td>4</td>\n",
       "      <td>Tube testing began before reward training, as ...</td>\n",
       "    </tr>\n",
       "    <tr>\n",
       "      <th>54</th>\n",
       "      <td>Jocelyn</td>\n",
       "      <td>2022-07-25</td>\n",
       "      <td>2vs3</td>\n",
       "      <td>2</td>\n",
       "      <td>3</td>\n",
       "      <td>NaN</td>\n",
       "    </tr>\n",
       "    <tr>\n",
       "      <th>60</th>\n",
       "      <td>Jocelyn</td>\n",
       "      <td>2022-07-26</td>\n",
       "      <td>1vs2</td>\n",
       "      <td>1</td>\n",
       "      <td>2</td>\n",
       "      <td>NaN</td>\n",
       "    </tr>\n",
       "    <tr>\n",
       "      <th>66</th>\n",
       "      <td>Jocelyn</td>\n",
       "      <td>2022-07-27</td>\n",
       "      <td>4vs3</td>\n",
       "      <td>3</td>\n",
       "      <td>4</td>\n",
       "      <td>NaN</td>\n",
       "    </tr>\n",
       "    <tr>\n",
       "      <th>72</th>\n",
       "      <td>Jocelyn</td>\n",
       "      <td>2022-07-28</td>\n",
       "      <td>1vs4</td>\n",
       "      <td>1</td>\n",
       "      <td>4</td>\n",
       "      <td>NaN</td>\n",
       "    </tr>\n",
       "    <tr>\n",
       "      <th>78</th>\n",
       "      <td>Jocelyn</td>\n",
       "      <td>2022-07-29</td>\n",
       "      <td>3vs2</td>\n",
       "      <td>3</td>\n",
       "      <td>2</td>\n",
       "      <td>NaN</td>\n",
       "    </tr>\n",
       "  </tbody>\n",
       "</table>\n",
       "</div>"
      ],
      "text/plain": [
       "      runner       date match  winner  loser  \\\n",
       "0       Ezra 2022-07-11  1vs2       2      1   \n",
       "6   Catalina 2022-07-12  3vs2       2      3   \n",
       "12     Nancy 2022-07-13  4vs3       3      4   \n",
       "18      Ezra 2022-07-14  2vs3       2      3   \n",
       "24     Erika 2022-07-15  1vs4       1      4   \n",
       "30    Naeliz 2022-07-18  1vs2       1      2   \n",
       "36  Catalina 2022-07-20  3vs2       2      3   \n",
       "42   Isabel  2022-07-23  4vs3       3      4   \n",
       "48   Jocelyn 2022-07-24  1vs4       1      4   \n",
       "54   Jocelyn 2022-07-25  2vs3       2      3   \n",
       "60   Jocelyn 2022-07-26  1vs2       1      2   \n",
       "66   Jocelyn 2022-07-27  4vs3       3      4   \n",
       "72   Jocelyn 2022-07-28  1vs4       1      4   \n",
       "78   Jocelyn 2022-07-29  3vs2       3      2   \n",
       "\n",
       "                                                notes  \n",
       "0                                                 NaN  \n",
       "6                                                 NaN  \n",
       "12                                                NaN  \n",
       "18                                                NaN  \n",
       "24                                                NaN  \n",
       "30                                   * started at 1pm  \n",
       "36                                                NaN  \n",
       "42                                                NaN  \n",
       "48  Tube testing began before reward training, as ...  \n",
       "54                                                NaN  \n",
       "60                                                NaN  \n",
       "66                                                NaN  \n",
       "72                                                NaN  \n",
       "78                                                NaN  "
      ]
     },
     "execution_count": 22,
     "metadata": {},
     "output_type": "execute_result"
    }
   ],
   "source": [
    "tube_test_observations_df.dropna(axis=0, subset=\"date\")"
   ]
  },
  {
   "cell_type": "markdown",
   "id": "86971800",
   "metadata": {},
   "source": [
    "- Getting the indexes of where each new session starts"
   ]
  },
  {
   "cell_type": "code",
   "execution_count": 23,
   "id": "449189cd",
   "metadata": {},
   "outputs": [
    {
     "data": {
      "text/plain": [
       "Int64Index([0, 6, 12, 18, 24, 30, 36, 42, 48, 54, 60, 66, 72, 78], dtype='int64')"
      ]
     },
     "execution_count": 23,
     "metadata": {},
     "output_type": "execute_result"
    }
   ],
   "source": [
    "tube_test_observations_df.dropna(axis=0, subset=\"date\").index"
   ]
  },
  {
   "cell_type": "code",
   "execution_count": 24,
   "id": "69a1b44c",
   "metadata": {},
   "outputs": [],
   "source": [
    "session_indexes = tube_test_observations_df.dropna(axis=0, subset=\"date\").index"
   ]
  },
  {
   "cell_type": "markdown",
   "id": "d8ae3167",
   "metadata": {},
   "source": [
    "- Adding a column for the session number and then filling all the `NaNs`"
   ]
  },
  {
   "cell_type": "code",
   "execution_count": 25,
   "id": "e243acb6",
   "metadata": {},
   "outputs": [],
   "source": [
    "tube_test_observations_df = eloscore.add_session_number_column(tube_test_observations_df, session_indexes)\n",
    "tube_test_observations_df = tube_test_observations_df.fillna(method='ffill')"
   ]
  },
  {
   "cell_type": "markdown",
   "id": "c35e48b5",
   "metadata": {},
   "source": [
    "- Making another column for plotting"
   ]
  },
  {
   "cell_type": "code",
   "execution_count": 26,
   "id": "2bd524c4",
   "metadata": {},
   "outputs": [],
   "source": [
    "tube_test_observations_df = eloscore.add_session_number_column(tube_test_observations_df, session_indexes, session_number_column=\"session_number_plotting\")"
   ]
  },
  {
   "cell_type": "code",
   "execution_count": 27,
   "id": "9600985c",
   "metadata": {},
   "outputs": [
    {
     "data": {
      "text/html": [
       "<div>\n",
       "<style scoped>\n",
       "    .dataframe tbody tr th:only-of-type {\n",
       "        vertical-align: middle;\n",
       "    }\n",
       "\n",
       "    .dataframe tbody tr th {\n",
       "        vertical-align: top;\n",
       "    }\n",
       "\n",
       "    .dataframe thead th {\n",
       "        text-align: right;\n",
       "    }\n",
       "</style>\n",
       "<table border=\"1\" class=\"dataframe\">\n",
       "  <thead>\n",
       "    <tr style=\"text-align: right;\">\n",
       "      <th></th>\n",
       "      <th>runner</th>\n",
       "      <th>date</th>\n",
       "      <th>match</th>\n",
       "      <th>winner</th>\n",
       "      <th>loser</th>\n",
       "      <th>notes</th>\n",
       "      <th>session_number</th>\n",
       "      <th>session_number_plotting</th>\n",
       "    </tr>\n",
       "  </thead>\n",
       "  <tbody>\n",
       "    <tr>\n",
       "      <th>0</th>\n",
       "      <td>Ezra</td>\n",
       "      <td>2022-07-11</td>\n",
       "      <td>1vs2</td>\n",
       "      <td>2</td>\n",
       "      <td>1</td>\n",
       "      <td>NaN</td>\n",
       "      <td>1.0</td>\n",
       "      <td>1.0</td>\n",
       "    </tr>\n",
       "    <tr>\n",
       "      <th>1</th>\n",
       "      <td>Ezra</td>\n",
       "      <td>2022-07-11</td>\n",
       "      <td>2vs3</td>\n",
       "      <td>2</td>\n",
       "      <td>3</td>\n",
       "      <td>NaN</td>\n",
       "      <td>1.0</td>\n",
       "      <td>NaN</td>\n",
       "    </tr>\n",
       "    <tr>\n",
       "      <th>2</th>\n",
       "      <td>Ezra</td>\n",
       "      <td>2022-07-11</td>\n",
       "      <td>3vs4</td>\n",
       "      <td>3</td>\n",
       "      <td>4</td>\n",
       "      <td>NaN</td>\n",
       "      <td>1.0</td>\n",
       "      <td>NaN</td>\n",
       "    </tr>\n",
       "    <tr>\n",
       "      <th>3</th>\n",
       "      <td>Ezra</td>\n",
       "      <td>2022-07-11</td>\n",
       "      <td>1vs3</td>\n",
       "      <td>3</td>\n",
       "      <td>1</td>\n",
       "      <td>NaN</td>\n",
       "      <td>1.0</td>\n",
       "      <td>NaN</td>\n",
       "    </tr>\n",
       "    <tr>\n",
       "      <th>4</th>\n",
       "      <td>Ezra</td>\n",
       "      <td>2022-07-11</td>\n",
       "      <td>2vs4</td>\n",
       "      <td>2</td>\n",
       "      <td>4</td>\n",
       "      <td>NaN</td>\n",
       "      <td>1.0</td>\n",
       "      <td>NaN</td>\n",
       "    </tr>\n",
       "  </tbody>\n",
       "</table>\n",
       "</div>"
      ],
      "text/plain": [
       "  runner       date match  winner  loser notes  session_number  \\\n",
       "0   Ezra 2022-07-11  1vs2       2      1   NaN             1.0   \n",
       "1   Ezra 2022-07-11  2vs3       2      3   NaN             1.0   \n",
       "2   Ezra 2022-07-11  3vs4       3      4   NaN             1.0   \n",
       "3   Ezra 2022-07-11  1vs3       3      1   NaN             1.0   \n",
       "4   Ezra 2022-07-11  2vs4       2      4   NaN             1.0   \n",
       "\n",
       "   session_number_plotting  \n",
       "0                      1.0  \n",
       "1                      NaN  \n",
       "2                      NaN  \n",
       "3                      NaN  \n",
       "4                      NaN  "
      ]
     },
     "execution_count": 27,
     "metadata": {},
     "output_type": "execute_result"
    }
   ],
   "source": [
    "tube_test_observations_df.head()"
   ]
  },
  {
   "cell_type": "markdown",
   "id": "cf5ec39f",
   "metadata": {},
   "source": [
    "## Calculating ELO Score"
   ]
  },
  {
   "cell_type": "markdown",
   "id": "5b2390aa",
   "metadata": {},
   "source": [
    "- Example calculation"
   ]
  },
  {
   "cell_type": "code",
   "execution_count": 28,
   "id": "e334d47f",
   "metadata": {},
   "outputs": [
    {
     "data": {
      "text/plain": [
       "1020"
      ]
     },
     "execution_count": 28,
     "metadata": {},
     "output_type": "execute_result"
    }
   ],
   "source": [
    "eloscore.calculate_elo_score(subject_elo_score=1000, agent_elo_score=2000)"
   ]
  },
  {
   "cell_type": "markdown",
   "id": "3412a5c0",
   "metadata": {},
   "source": [
    "## Get the Elo score for all the events"
   ]
  },
  {
   "cell_type": "code",
   "execution_count": 29,
   "id": "4ae10ebe",
   "metadata": {
    "scrolled": true
   },
   "outputs": [
    {
     "data": {
      "text/html": [
       "<div>\n",
       "<style scoped>\n",
       "    .dataframe tbody tr th:only-of-type {\n",
       "        vertical-align: middle;\n",
       "    }\n",
       "\n",
       "    .dataframe tbody tr th {\n",
       "        vertical-align: top;\n",
       "    }\n",
       "\n",
       "    .dataframe thead th {\n",
       "        text-align: right;\n",
       "    }\n",
       "</style>\n",
       "<table border=\"1\" class=\"dataframe\">\n",
       "  <thead>\n",
       "    <tr style=\"text-align: right;\">\n",
       "      <th></th>\n",
       "      <th>runner</th>\n",
       "      <th>date</th>\n",
       "      <th>match</th>\n",
       "      <th>winner</th>\n",
       "      <th>loser</th>\n",
       "      <th>notes</th>\n",
       "      <th>session_number</th>\n",
       "      <th>session_number_plotting</th>\n",
       "    </tr>\n",
       "  </thead>\n",
       "  <tbody>\n",
       "    <tr>\n",
       "      <th>0</th>\n",
       "      <td>Ezra</td>\n",
       "      <td>2022-07-11</td>\n",
       "      <td>1vs2</td>\n",
       "      <td>2</td>\n",
       "      <td>1</td>\n",
       "      <td>NaN</td>\n",
       "      <td>1.0</td>\n",
       "      <td>1.0</td>\n",
       "    </tr>\n",
       "    <tr>\n",
       "      <th>1</th>\n",
       "      <td>Ezra</td>\n",
       "      <td>2022-07-11</td>\n",
       "      <td>2vs3</td>\n",
       "      <td>2</td>\n",
       "      <td>3</td>\n",
       "      <td>NaN</td>\n",
       "      <td>1.0</td>\n",
       "      <td>NaN</td>\n",
       "    </tr>\n",
       "    <tr>\n",
       "      <th>2</th>\n",
       "      <td>Ezra</td>\n",
       "      <td>2022-07-11</td>\n",
       "      <td>3vs4</td>\n",
       "      <td>3</td>\n",
       "      <td>4</td>\n",
       "      <td>NaN</td>\n",
       "      <td>1.0</td>\n",
       "      <td>NaN</td>\n",
       "    </tr>\n",
       "    <tr>\n",
       "      <th>3</th>\n",
       "      <td>Ezra</td>\n",
       "      <td>2022-07-11</td>\n",
       "      <td>1vs3</td>\n",
       "      <td>3</td>\n",
       "      <td>1</td>\n",
       "      <td>NaN</td>\n",
       "      <td>1.0</td>\n",
       "      <td>NaN</td>\n",
       "    </tr>\n",
       "    <tr>\n",
       "      <th>4</th>\n",
       "      <td>Ezra</td>\n",
       "      <td>2022-07-11</td>\n",
       "      <td>2vs4</td>\n",
       "      <td>2</td>\n",
       "      <td>4</td>\n",
       "      <td>NaN</td>\n",
       "      <td>1.0</td>\n",
       "      <td>NaN</td>\n",
       "    </tr>\n",
       "  </tbody>\n",
       "</table>\n",
       "</div>"
      ],
      "text/plain": [
       "  runner       date match  winner  loser notes  session_number  \\\n",
       "0   Ezra 2022-07-11  1vs2       2      1   NaN             1.0   \n",
       "1   Ezra 2022-07-11  2vs3       2      3   NaN             1.0   \n",
       "2   Ezra 2022-07-11  3vs4       3      4   NaN             1.0   \n",
       "3   Ezra 2022-07-11  1vs3       3      1   NaN             1.0   \n",
       "4   Ezra 2022-07-11  2vs4       2      4   NaN             1.0   \n",
       "\n",
       "   session_number_plotting  \n",
       "0                      1.0  \n",
       "1                      NaN  \n",
       "2                      NaN  \n",
       "3                      NaN  \n",
       "4                      NaN  "
      ]
     },
     "execution_count": 29,
     "metadata": {},
     "output_type": "execute_result"
    }
   ],
   "source": [
    "tube_test_observations_df.head()"
   ]
  },
  {
   "cell_type": "code",
   "execution_count": 30,
   "id": "5130bfce",
   "metadata": {},
   "outputs": [
    {
     "data": {
      "text/plain": [
       "defaultdict(<function eloscore.eloscore.update_elo_score.<locals>.<lambda>()>,\n",
       "            {'A': 1010.0, 'B': 990.0})"
      ]
     },
     "execution_count": 30,
     "metadata": {},
     "output_type": "execute_result"
    }
   ],
   "source": [
    "eloscore.update_elo_score(winner_id=\"A\", loser_id=\"B\")"
   ]
  },
  {
   "cell_type": "markdown",
   "id": "66cbe2bf",
   "metadata": {},
   "source": [
    "- Function that creates a dictionary that has the original/updated elo score for each event"
   ]
  },
  {
   "cell_type": "code",
   "execution_count": 31,
   "id": "ada17468",
   "metadata": {},
   "outputs": [],
   "source": [
    "index_to_elo_score_and_meta_data = eloscore.iterate_elo_score_calculation_for_data_frame(data_frame=tube_test_observations_df, winner_column=\"winner\", loser_column=\"loser\", additional_columns=[\"date\", \"session_number\", \"session_number_plotting\"])"
   ]
  },
  {
   "cell_type": "code",
   "execution_count": 32,
   "id": "f03f72ba",
   "metadata": {},
   "outputs": [
    {
     "data": {
      "text/plain": [
       "{'total_match_number': 1,\n",
       " 'subject_id': 2,\n",
       " 'agent_id': 1,\n",
       " 'original_elo_score': 1000,\n",
       " 'updated_elo_score': 1010.0,\n",
       " 'win_draw_loss': 1,\n",
       " 'date': Timestamp('2022-07-11 00:00:00'),\n",
       " 'session_number': 1.0,\n",
       " 'session_number_plotting': 1.0}"
      ]
     },
     "execution_count": 32,
     "metadata": {},
     "output_type": "execute_result"
    }
   ],
   "source": [
    "index_to_elo_score_and_meta_data[0]"
   ]
  },
  {
   "cell_type": "markdown",
   "id": "f02d9046",
   "metadata": {},
   "source": [
    "- Turning the dictionary into a dataframe"
   ]
  },
  {
   "cell_type": "code",
   "execution_count": 33,
   "id": "eaad3b8b",
   "metadata": {},
   "outputs": [],
   "source": [
    "tube_test_elo_score_df = pd.DataFrame.from_dict(index_to_elo_score_and_meta_data, orient=\"index\")"
   ]
  },
  {
   "cell_type": "code",
   "execution_count": 34,
   "id": "cfba525f",
   "metadata": {
    "scrolled": true
   },
   "outputs": [
    {
     "data": {
      "text/html": [
       "<div>\n",
       "<style scoped>\n",
       "    .dataframe tbody tr th:only-of-type {\n",
       "        vertical-align: middle;\n",
       "    }\n",
       "\n",
       "    .dataframe tbody tr th {\n",
       "        vertical-align: top;\n",
       "    }\n",
       "\n",
       "    .dataframe thead th {\n",
       "        text-align: right;\n",
       "    }\n",
       "</style>\n",
       "<table border=\"1\" class=\"dataframe\">\n",
       "  <thead>\n",
       "    <tr style=\"text-align: right;\">\n",
       "      <th></th>\n",
       "      <th>total_match_number</th>\n",
       "      <th>subject_id</th>\n",
       "      <th>agent_id</th>\n",
       "      <th>original_elo_score</th>\n",
       "      <th>updated_elo_score</th>\n",
       "      <th>win_draw_loss</th>\n",
       "      <th>date</th>\n",
       "      <th>session_number</th>\n",
       "      <th>session_number_plotting</th>\n",
       "    </tr>\n",
       "  </thead>\n",
       "  <tbody>\n",
       "    <tr>\n",
       "      <th>0</th>\n",
       "      <td>1</td>\n",
       "      <td>2</td>\n",
       "      <td>1</td>\n",
       "      <td>1000.0</td>\n",
       "      <td>1010.0</td>\n",
       "      <td>1</td>\n",
       "      <td>2022-07-11</td>\n",
       "      <td>1.0</td>\n",
       "      <td>1.0</td>\n",
       "    </tr>\n",
       "    <tr>\n",
       "      <th>1</th>\n",
       "      <td>1</td>\n",
       "      <td>1</td>\n",
       "      <td>1</td>\n",
       "      <td>1000.0</td>\n",
       "      <td>990.0</td>\n",
       "      <td>1</td>\n",
       "      <td>2022-07-11</td>\n",
       "      <td>1.0</td>\n",
       "      <td>1.0</td>\n",
       "    </tr>\n",
       "    <tr>\n",
       "      <th>2</th>\n",
       "      <td>2</td>\n",
       "      <td>2</td>\n",
       "      <td>3</td>\n",
       "      <td>1010.0</td>\n",
       "      <td>1019.7</td>\n",
       "      <td>1</td>\n",
       "      <td>2022-07-11</td>\n",
       "      <td>1.0</td>\n",
       "      <td>NaN</td>\n",
       "    </tr>\n",
       "    <tr>\n",
       "      <th>3</th>\n",
       "      <td>2</td>\n",
       "      <td>3</td>\n",
       "      <td>3</td>\n",
       "      <td>1000.0</td>\n",
       "      <td>990.3</td>\n",
       "      <td>1</td>\n",
       "      <td>2022-07-11</td>\n",
       "      <td>1.0</td>\n",
       "      <td>NaN</td>\n",
       "    </tr>\n",
       "    <tr>\n",
       "      <th>4</th>\n",
       "      <td>3</td>\n",
       "      <td>3</td>\n",
       "      <td>4</td>\n",
       "      <td>990.3</td>\n",
       "      <td>1000.6</td>\n",
       "      <td>1</td>\n",
       "      <td>2022-07-11</td>\n",
       "      <td>1.0</td>\n",
       "      <td>NaN</td>\n",
       "    </tr>\n",
       "  </tbody>\n",
       "</table>\n",
       "</div>"
      ],
      "text/plain": [
       "   total_match_number  subject_id  agent_id  original_elo_score  \\\n",
       "0                   1           2         1              1000.0   \n",
       "1                   1           1         1              1000.0   \n",
       "2                   2           2         3              1010.0   \n",
       "3                   2           3         3              1000.0   \n",
       "4                   3           3         4               990.3   \n",
       "\n",
       "   updated_elo_score  win_draw_loss       date  session_number  \\\n",
       "0             1010.0              1 2022-07-11             1.0   \n",
       "1              990.0              1 2022-07-11             1.0   \n",
       "2             1019.7              1 2022-07-11             1.0   \n",
       "3              990.3              1 2022-07-11             1.0   \n",
       "4             1000.6              1 2022-07-11             1.0   \n",
       "\n",
       "   session_number_plotting  \n",
       "0                      1.0  \n",
       "1                      1.0  \n",
       "2                      NaN  \n",
       "3                      NaN  \n",
       "4                      NaN  "
      ]
     },
     "execution_count": 34,
     "metadata": {},
     "output_type": "execute_result"
    }
   ],
   "source": [
    "tube_test_elo_score_df.head()"
   ]
  },
  {
   "cell_type": "code",
   "execution_count": 35,
   "id": "04bb8bad",
   "metadata": {
    "scrolled": true
   },
   "outputs": [
    {
     "data": {
      "text/html": [
       "<div>\n",
       "<style scoped>\n",
       "    .dataframe tbody tr th:only-of-type {\n",
       "        vertical-align: middle;\n",
       "    }\n",
       "\n",
       "    .dataframe tbody tr th {\n",
       "        vertical-align: top;\n",
       "    }\n",
       "\n",
       "    .dataframe thead th {\n",
       "        text-align: right;\n",
       "    }\n",
       "</style>\n",
       "<table border=\"1\" class=\"dataframe\">\n",
       "  <thead>\n",
       "    <tr style=\"text-align: right;\">\n",
       "      <th></th>\n",
       "      <th>total_match_number</th>\n",
       "      <th>subject_id</th>\n",
       "      <th>agent_id</th>\n",
       "      <th>original_elo_score</th>\n",
       "      <th>updated_elo_score</th>\n",
       "      <th>win_draw_loss</th>\n",
       "      <th>date</th>\n",
       "      <th>session_number</th>\n",
       "      <th>session_number_plotting</th>\n",
       "    </tr>\n",
       "  </thead>\n",
       "  <tbody>\n",
       "    <tr>\n",
       "      <th>163</th>\n",
       "      <td>82</td>\n",
       "      <td>4</td>\n",
       "      <td>4</td>\n",
       "      <td>776.2</td>\n",
       "      <td>773.4</td>\n",
       "      <td>1</td>\n",
       "      <td>2022-07-29</td>\n",
       "      <td>14.0</td>\n",
       "      <td>NaN</td>\n",
       "    </tr>\n",
       "    <tr>\n",
       "      <th>164</th>\n",
       "      <td>83</td>\n",
       "      <td>3</td>\n",
       "      <td>4</td>\n",
       "      <td>994.1</td>\n",
       "      <td>998.5</td>\n",
       "      <td>1</td>\n",
       "      <td>2022-07-29</td>\n",
       "      <td>14.0</td>\n",
       "      <td>NaN</td>\n",
       "    </tr>\n",
       "    <tr>\n",
       "      <th>165</th>\n",
       "      <td>83</td>\n",
       "      <td>4</td>\n",
       "      <td>4</td>\n",
       "      <td>773.4</td>\n",
       "      <td>769.0</td>\n",
       "      <td>1</td>\n",
       "      <td>2022-07-29</td>\n",
       "      <td>14.0</td>\n",
       "      <td>NaN</td>\n",
       "    </tr>\n",
       "    <tr>\n",
       "      <th>166</th>\n",
       "      <td>84</td>\n",
       "      <td>1</td>\n",
       "      <td>2</td>\n",
       "      <td>1140.9</td>\n",
       "      <td>1149.5</td>\n",
       "      <td>1</td>\n",
       "      <td>2022-07-29</td>\n",
       "      <td>14.0</td>\n",
       "      <td>NaN</td>\n",
       "    </tr>\n",
       "    <tr>\n",
       "      <th>167</th>\n",
       "      <td>84</td>\n",
       "      <td>2</td>\n",
       "      <td>2</td>\n",
       "      <td>1091.6</td>\n",
       "      <td>1083.0</td>\n",
       "      <td>1</td>\n",
       "      <td>2022-07-29</td>\n",
       "      <td>14.0</td>\n",
       "      <td>NaN</td>\n",
       "    </tr>\n",
       "  </tbody>\n",
       "</table>\n",
       "</div>"
      ],
      "text/plain": [
       "     total_match_number  subject_id  agent_id  original_elo_score  \\\n",
       "163                  82           4         4               776.2   \n",
       "164                  83           3         4               994.1   \n",
       "165                  83           4         4               773.4   \n",
       "166                  84           1         2              1140.9   \n",
       "167                  84           2         2              1091.6   \n",
       "\n",
       "     updated_elo_score  win_draw_loss       date  session_number  \\\n",
       "163              773.4              1 2022-07-29            14.0   \n",
       "164              998.5              1 2022-07-29            14.0   \n",
       "165              769.0              1 2022-07-29            14.0   \n",
       "166             1149.5              1 2022-07-29            14.0   \n",
       "167             1083.0              1 2022-07-29            14.0   \n",
       "\n",
       "     session_number_plotting  \n",
       "163                      NaN  \n",
       "164                      NaN  \n",
       "165                      NaN  \n",
       "166                      NaN  \n",
       "167                      NaN  "
      ]
     },
     "execution_count": 35,
     "metadata": {},
     "output_type": "execute_result"
    }
   ],
   "source": [
    "tube_test_elo_score_df.tail()"
   ]
  },
  {
   "cell_type": "code",
   "execution_count": 36,
   "id": "4583b07f",
   "metadata": {},
   "outputs": [
    {
     "data": {
      "text/html": [
       "<div>\n",
       "<style scoped>\n",
       "    .dataframe tbody tr th:only-of-type {\n",
       "        vertical-align: middle;\n",
       "    }\n",
       "\n",
       "    .dataframe tbody tr th {\n",
       "        vertical-align: top;\n",
       "    }\n",
       "\n",
       "    .dataframe thead th {\n",
       "        text-align: right;\n",
       "    }\n",
       "</style>\n",
       "<table border=\"1\" class=\"dataframe\">\n",
       "  <thead>\n",
       "    <tr style=\"text-align: right;\">\n",
       "      <th></th>\n",
       "      <th>total_match_number</th>\n",
       "      <th>agent_id</th>\n",
       "      <th>original_elo_score</th>\n",
       "      <th>updated_elo_score</th>\n",
       "      <th>win_draw_loss</th>\n",
       "      <th>date</th>\n",
       "      <th>session_number</th>\n",
       "      <th>session_number_plotting</th>\n",
       "    </tr>\n",
       "    <tr>\n",
       "      <th>subject_id</th>\n",
       "      <th></th>\n",
       "      <th></th>\n",
       "      <th></th>\n",
       "      <th></th>\n",
       "      <th></th>\n",
       "      <th></th>\n",
       "      <th></th>\n",
       "      <th></th>\n",
       "    </tr>\n",
       "  </thead>\n",
       "  <tbody>\n",
       "    <tr>\n",
       "      <th>1</th>\n",
       "      <td>42</td>\n",
       "      <td>42</td>\n",
       "      <td>42</td>\n",
       "      <td>42</td>\n",
       "      <td>42</td>\n",
       "      <td>42</td>\n",
       "      <td>42</td>\n",
       "      <td>6</td>\n",
       "    </tr>\n",
       "    <tr>\n",
       "      <th>2</th>\n",
       "      <td>42</td>\n",
       "      <td>42</td>\n",
       "      <td>42</td>\n",
       "      <td>42</td>\n",
       "      <td>42</td>\n",
       "      <td>42</td>\n",
       "      <td>42</td>\n",
       "      <td>8</td>\n",
       "    </tr>\n",
       "    <tr>\n",
       "      <th>3</th>\n",
       "      <td>42</td>\n",
       "      <td>42</td>\n",
       "      <td>42</td>\n",
       "      <td>42</td>\n",
       "      <td>42</td>\n",
       "      <td>42</td>\n",
       "      <td>42</td>\n",
       "      <td>8</td>\n",
       "    </tr>\n",
       "    <tr>\n",
       "      <th>4</th>\n",
       "      <td>42</td>\n",
       "      <td>42</td>\n",
       "      <td>42</td>\n",
       "      <td>42</td>\n",
       "      <td>42</td>\n",
       "      <td>42</td>\n",
       "      <td>42</td>\n",
       "      <td>6</td>\n",
       "    </tr>\n",
       "  </tbody>\n",
       "</table>\n",
       "</div>"
      ],
      "text/plain": [
       "            total_match_number  agent_id  original_elo_score  \\\n",
       "subject_id                                                     \n",
       "1                           42        42                  42   \n",
       "2                           42        42                  42   \n",
       "3                           42        42                  42   \n",
       "4                           42        42                  42   \n",
       "\n",
       "            updated_elo_score  win_draw_loss  date  session_number  \\\n",
       "subject_id                                                           \n",
       "1                          42             42    42              42   \n",
       "2                          42             42    42              42   \n",
       "3                          42             42    42              42   \n",
       "4                          42             42    42              42   \n",
       "\n",
       "            session_number_plotting  \n",
       "subject_id                           \n",
       "1                                 6  \n",
       "2                                 8  \n",
       "3                                 8  \n",
       "4                                 6  "
      ]
     },
     "execution_count": 36,
     "metadata": {},
     "output_type": "execute_result"
    }
   ],
   "source": [
    "tube_test_elo_score_df.groupby(\"subject_id\").count()"
   ]
  },
  {
   "cell_type": "code",
   "execution_count": 37,
   "id": "58f124e4",
   "metadata": {},
   "outputs": [
    {
     "data": {
      "text/html": [
       "<div>\n",
       "<style scoped>\n",
       "    .dataframe tbody tr th:only-of-type {\n",
       "        vertical-align: middle;\n",
       "    }\n",
       "\n",
       "    .dataframe tbody tr th {\n",
       "        vertical-align: top;\n",
       "    }\n",
       "\n",
       "    .dataframe thead th {\n",
       "        text-align: right;\n",
       "    }\n",
       "</style>\n",
       "<table border=\"1\" class=\"dataframe\">\n",
       "  <thead>\n",
       "    <tr style=\"text-align: right;\">\n",
       "      <th></th>\n",
       "      <th>total_match_number</th>\n",
       "      <th>subject_id</th>\n",
       "      <th>agent_id</th>\n",
       "      <th>original_elo_score</th>\n",
       "      <th>updated_elo_score</th>\n",
       "      <th>win_draw_loss</th>\n",
       "      <th>date</th>\n",
       "      <th>session_number_plotting</th>\n",
       "    </tr>\n",
       "    <tr>\n",
       "      <th>session_number</th>\n",
       "      <th></th>\n",
       "      <th></th>\n",
       "      <th></th>\n",
       "      <th></th>\n",
       "      <th></th>\n",
       "      <th></th>\n",
       "      <th></th>\n",
       "      <th></th>\n",
       "    </tr>\n",
       "  </thead>\n",
       "  <tbody>\n",
       "    <tr>\n",
       "      <th>1.0</th>\n",
       "      <td>12</td>\n",
       "      <td>12</td>\n",
       "      <td>12</td>\n",
       "      <td>12</td>\n",
       "      <td>12</td>\n",
       "      <td>12</td>\n",
       "      <td>12</td>\n",
       "      <td>2</td>\n",
       "    </tr>\n",
       "    <tr>\n",
       "      <th>2.0</th>\n",
       "      <td>12</td>\n",
       "      <td>12</td>\n",
       "      <td>12</td>\n",
       "      <td>12</td>\n",
       "      <td>12</td>\n",
       "      <td>12</td>\n",
       "      <td>12</td>\n",
       "      <td>2</td>\n",
       "    </tr>\n",
       "    <tr>\n",
       "      <th>3.0</th>\n",
       "      <td>12</td>\n",
       "      <td>12</td>\n",
       "      <td>12</td>\n",
       "      <td>12</td>\n",
       "      <td>12</td>\n",
       "      <td>12</td>\n",
       "      <td>12</td>\n",
       "      <td>2</td>\n",
       "    </tr>\n",
       "    <tr>\n",
       "      <th>4.0</th>\n",
       "      <td>12</td>\n",
       "      <td>12</td>\n",
       "      <td>12</td>\n",
       "      <td>12</td>\n",
       "      <td>12</td>\n",
       "      <td>12</td>\n",
       "      <td>12</td>\n",
       "      <td>2</td>\n",
       "    </tr>\n",
       "    <tr>\n",
       "      <th>5.0</th>\n",
       "      <td>12</td>\n",
       "      <td>12</td>\n",
       "      <td>12</td>\n",
       "      <td>12</td>\n",
       "      <td>12</td>\n",
       "      <td>12</td>\n",
       "      <td>12</td>\n",
       "      <td>2</td>\n",
       "    </tr>\n",
       "    <tr>\n",
       "      <th>6.0</th>\n",
       "      <td>12</td>\n",
       "      <td>12</td>\n",
       "      <td>12</td>\n",
       "      <td>12</td>\n",
       "      <td>12</td>\n",
       "      <td>12</td>\n",
       "      <td>12</td>\n",
       "      <td>2</td>\n",
       "    </tr>\n",
       "    <tr>\n",
       "      <th>7.0</th>\n",
       "      <td>12</td>\n",
       "      <td>12</td>\n",
       "      <td>12</td>\n",
       "      <td>12</td>\n",
       "      <td>12</td>\n",
       "      <td>12</td>\n",
       "      <td>12</td>\n",
       "      <td>2</td>\n",
       "    </tr>\n",
       "    <tr>\n",
       "      <th>8.0</th>\n",
       "      <td>12</td>\n",
       "      <td>12</td>\n",
       "      <td>12</td>\n",
       "      <td>12</td>\n",
       "      <td>12</td>\n",
       "      <td>12</td>\n",
       "      <td>12</td>\n",
       "      <td>2</td>\n",
       "    </tr>\n",
       "    <tr>\n",
       "      <th>9.0</th>\n",
       "      <td>12</td>\n",
       "      <td>12</td>\n",
       "      <td>12</td>\n",
       "      <td>12</td>\n",
       "      <td>12</td>\n",
       "      <td>12</td>\n",
       "      <td>12</td>\n",
       "      <td>2</td>\n",
       "    </tr>\n",
       "    <tr>\n",
       "      <th>10.0</th>\n",
       "      <td>12</td>\n",
       "      <td>12</td>\n",
       "      <td>12</td>\n",
       "      <td>12</td>\n",
       "      <td>12</td>\n",
       "      <td>12</td>\n",
       "      <td>12</td>\n",
       "      <td>2</td>\n",
       "    </tr>\n",
       "    <tr>\n",
       "      <th>11.0</th>\n",
       "      <td>12</td>\n",
       "      <td>12</td>\n",
       "      <td>12</td>\n",
       "      <td>12</td>\n",
       "      <td>12</td>\n",
       "      <td>12</td>\n",
       "      <td>12</td>\n",
       "      <td>2</td>\n",
       "    </tr>\n",
       "    <tr>\n",
       "      <th>12.0</th>\n",
       "      <td>12</td>\n",
       "      <td>12</td>\n",
       "      <td>12</td>\n",
       "      <td>12</td>\n",
       "      <td>12</td>\n",
       "      <td>12</td>\n",
       "      <td>12</td>\n",
       "      <td>2</td>\n",
       "    </tr>\n",
       "    <tr>\n",
       "      <th>13.0</th>\n",
       "      <td>12</td>\n",
       "      <td>12</td>\n",
       "      <td>12</td>\n",
       "      <td>12</td>\n",
       "      <td>12</td>\n",
       "      <td>12</td>\n",
       "      <td>12</td>\n",
       "      <td>2</td>\n",
       "    </tr>\n",
       "    <tr>\n",
       "      <th>14.0</th>\n",
       "      <td>12</td>\n",
       "      <td>12</td>\n",
       "      <td>12</td>\n",
       "      <td>12</td>\n",
       "      <td>12</td>\n",
       "      <td>12</td>\n",
       "      <td>12</td>\n",
       "      <td>2</td>\n",
       "    </tr>\n",
       "  </tbody>\n",
       "</table>\n",
       "</div>"
      ],
      "text/plain": [
       "                total_match_number  subject_id  agent_id  original_elo_score  \\\n",
       "session_number                                                                 \n",
       "1.0                             12          12        12                  12   \n",
       "2.0                             12          12        12                  12   \n",
       "3.0                             12          12        12                  12   \n",
       "4.0                             12          12        12                  12   \n",
       "5.0                             12          12        12                  12   \n",
       "6.0                             12          12        12                  12   \n",
       "7.0                             12          12        12                  12   \n",
       "8.0                             12          12        12                  12   \n",
       "9.0                             12          12        12                  12   \n",
       "10.0                            12          12        12                  12   \n",
       "11.0                            12          12        12                  12   \n",
       "12.0                            12          12        12                  12   \n",
       "13.0                            12          12        12                  12   \n",
       "14.0                            12          12        12                  12   \n",
       "\n",
       "                updated_elo_score  win_draw_loss  date  \\\n",
       "session_number                                           \n",
       "1.0                            12             12    12   \n",
       "2.0                            12             12    12   \n",
       "3.0                            12             12    12   \n",
       "4.0                            12             12    12   \n",
       "5.0                            12             12    12   \n",
       "6.0                            12             12    12   \n",
       "7.0                            12             12    12   \n",
       "8.0                            12             12    12   \n",
       "9.0                            12             12    12   \n",
       "10.0                           12             12    12   \n",
       "11.0                           12             12    12   \n",
       "12.0                           12             12    12   \n",
       "13.0                           12             12    12   \n",
       "14.0                           12             12    12   \n",
       "\n",
       "                session_number_plotting  \n",
       "session_number                           \n",
       "1.0                                   2  \n",
       "2.0                                   2  \n",
       "3.0                                   2  \n",
       "4.0                                   2  \n",
       "5.0                                   2  \n",
       "6.0                                   2  \n",
       "7.0                                   2  \n",
       "8.0                                   2  \n",
       "9.0                                   2  \n",
       "10.0                                  2  \n",
       "11.0                                  2  \n",
       "12.0                                  2  \n",
       "13.0                                  2  \n",
       "14.0                                  2  "
      ]
     },
     "execution_count": 37,
     "metadata": {},
     "output_type": "execute_result"
    }
   ],
   "source": [
    "tube_test_elo_score_df.groupby(\"session_number\").count()"
   ]
  },
  {
   "cell_type": "markdown",
   "id": "16542145",
   "metadata": {},
   "source": [
    "# Plotting the Elo Score by match number"
   ]
  },
  {
   "cell_type": "code",
   "execution_count": 38,
   "id": "692f8641",
   "metadata": {},
   "outputs": [],
   "source": [
    "# Increase size of plot in jupyter\n",
    "\n",
    "plt.rcParams[\"figure.figsize\"] = (18,10)"
   ]
  },
  {
   "cell_type": "code",
   "execution_count": 39,
   "id": "9b5ab11f",
   "metadata": {
    "scrolled": true
   },
   "outputs": [
    {
     "data": {
      "image/png": "[encoded data removed]",
      "text/plain": [
       "<Figure size 432x288 with 1 Axes>"
      ]
     },
     "metadata": {
      "needs_background": "light"
     },
     "output_type": "display_data"
    }
   ],
   "source": [
    "fig, ax = plt.subplots()\n",
    "\n",
    "# Drawing vertical lines that represent when each session begins\n",
    "for index, row in tube_test_elo_score_df.dropna(subset=[\"session_number_plotting\"]).iterrows():\n",
    "    # Offsetting by 0.5 to avoid drawing the line on the dot\n",
    "    plt.vlines(x=[row[\"total_match_number\"] - 0.5], ymin=700, ymax=1300, colors='black', linestyle='dashed')\n",
    "\n",
    "# Drawing a line for each subject\n",
    "for subject in sorted(tube_test_elo_score_df[\"subject_id\"].unique()):\n",
    "    # Getting all the rows with the current subject\n",
    "    subject_df = tube_test_elo_score_df[tube_test_elo_score_df[\"subject_id\"] == subject]\n",
    "    # Making the dates into days after the first session by subtracting all the dates by the first date\n",
    "    plt.plot(subject_df[\"total_match_number\"], subject_df[\"updated_elo_score\"], '-o', label=subject)\n",
    "\n",
    "# Labeling the X/Y Axis and the title\n",
    "ax.set_xlabel(\"Trial Number\")\n",
    "ax.set_ylabel(\"Elo Score\")\n",
    "# ax.set_title(\"Elo Score for Home Cage Observation: Cage {}\".format(cage))\n",
    "# To show the legend\n",
    "ax.legend()\n",
    "plt.xticks(rotation=90)\n",
    "plt.ylim(700, 1300) \n",
    "plt.show()\n",
    "\n"
   ]
  },
  {
   "cell_type": "markdown",
   "id": "a24c88ac",
   "metadata": {},
   "source": [
    "# Calculate the Elo Score for all sheets"
   ]
  },
  {
   "cell_type": "code",
   "execution_count": 40,
   "id": "0ee1f383",
   "metadata": {},
   "outputs": [],
   "source": [
    "xls = pd.ExcelFile(raw_data_file_path)\n",
    "sheets = xls.sheet_names"
   ]
  },
  {
   "cell_type": "code",
   "execution_count": 41,
   "id": "40c1bcc1",
   "metadata": {},
   "outputs": [
    {
     "data": {
      "text/plain": [
       "['summary', 'CAGE1', 'CAGE2', 'CAGE3', 'CAGE4', 'CAGE5', 'CAGE6']"
      ]
     },
     "execution_count": 41,
     "metadata": {},
     "output_type": "execute_result"
    }
   ],
   "source": [
    "sheets"
   ]
  },
  {
   "cell_type": "code",
   "execution_count": null,
   "id": "a2c55413",
   "metadata": {},
   "outputs": [],
   "source": []
  },
  {
   "cell_type": "code",
   "execution_count": 42,
   "id": "aa8db24e",
   "metadata": {},
   "outputs": [
    {
     "name": "stdout",
     "output_type": "stream",
     "text": [
      "summary\n",
      "CAGE1\n",
      "     runner       date match  winner  loser  \\\n",
      "0      Ezra 2022-07-11  1vs2       2      1   \n",
      "1      Ezra 2022-07-11  2vs3       2      3   \n",
      "2      Ezra 2022-07-11  3vs4       3      4   \n",
      "3      Ezra 2022-07-11  1vs3       3      1   \n",
      "4      Ezra 2022-07-11  2vs4       2      4   \n",
      "..      ...        ...   ...     ...    ...   \n",
      "79  Jocelyn 2022-07-29  4vs1       1      4   \n",
      "80  Jocelyn 2022-07-29  1vs3       1      3   \n",
      "81  Jocelyn 2022-07-29  2vs4       2      4   \n",
      "82  Jocelyn 2022-07-29  4vs3       3      4   \n",
      "83  Jocelyn 2022-07-29  2vs1       1      2   \n",
      "\n",
      "                                                notes  session_number  \\\n",
      "0                                                 NaN             1.0   \n",
      "1                                                 NaN             1.0   \n",
      "2                                                 NaN             1.0   \n",
      "3                                                 NaN             1.0   \n",
      "4                                                 NaN             1.0   \n",
      "..                                                ...             ...   \n",
      "79  Tube testing began before reward training, as ...            14.0   \n",
      "80  Tube testing began before reward training, as ...            14.0   \n",
      "81  Tube testing began before reward training, as ...            14.0   \n",
      "82  Tube testing began before reward training, as ...            14.0   \n",
      "83  Tube testing began before reward training, as ...            14.0   \n",
      "\n",
      "    session_number_plotting  \n",
      "0                       1.0  \n",
      "1                       NaN  \n",
      "2                       NaN  \n",
      "3                       NaN  \n",
      "4                       NaN  \n",
      "..                      ...  \n",
      "79                      NaN  \n",
      "80                      NaN  \n",
      "81                      NaN  \n",
      "82                      NaN  \n",
      "83                      NaN  \n",
      "\n",
      "[84 rows x 8 columns]\n",
      "CAGE2\n"
     ]
    },
    {
     "name": "stderr",
     "output_type": "stream",
     "text": [
      "/tmp/ipykernel_5287/3567260884.py:50: UserWarning: Please update the formatting for the sheet with the above name, or continue if this sheet is being ignored\n",
      "  warnings.warn(\"Please update the formatting for the sheet with the above name, or continue if this sheet is being ignored\")\n"
     ]
    },
    {
     "name": "stdout",
     "output_type": "stream",
     "text": [
      "     runner       date match  winner  loser                notes  \\\n",
      "0      Ezra 2022-07-11  1vs2     1.0    2.0                  NaN   \n",
      "1      Ezra 2022-07-11  2vs3     3.0    2.0                  NaN   \n",
      "2      Ezra 2022-07-11  3vs4     4.0    3.0                  NaN   \n",
      "3      Ezra 2022-07-11  1vs3     3.0    1.0                  NaN   \n",
      "4      Ezra 2022-07-11  2vs4     4.0    2.0                  NaN   \n",
      "..      ...        ...   ...     ...    ...                  ...   \n",
      "79  Jocelyn 2022-07-29  4vs1     4.0    1.0  * started at 1:18pm   \n",
      "80  Jocelyn 2022-07-29  1vs3     3.0    1.0  * started at 1:18pm   \n",
      "81  Jocelyn 2022-07-29  2vs4     2.0    4.0  * started at 1:18pm   \n",
      "82  Jocelyn 2022-07-29  4vs3     4.0    3.0  * started at 1:18pm   \n",
      "83  Jocelyn 2022-07-29  2vs1     2.0    1.0  * started at 1:18pm   \n",
      "\n",
      "    session_number  session_number_plotting  \n",
      "0              1.0                      1.0  \n",
      "1              1.0                      NaN  \n",
      "2              1.0                      NaN  \n",
      "3              1.0                      NaN  \n",
      "4              1.0                      NaN  \n",
      "..             ...                      ...  \n",
      "79            13.0                      NaN  \n",
      "80            13.0                      NaN  \n",
      "81            13.0                      NaN  \n",
      "82            13.0                      NaN  \n",
      "83            13.0                      NaN  \n",
      "\n",
      "[82 rows x 8 columns]\n",
      "CAGE3\n",
      "     runner       date match  winner  loser      notes  session_number  \\\n",
      "0      Ezra 2022-07-11  1vs2       1      2        NaN             1.0   \n",
      "1      Ezra 2022-07-11  2vs3       3      2        NaN             1.0   \n",
      "2      Ezra 2022-07-11  3vs4       3      4        NaN             1.0   \n",
      "3      Ezra 2022-07-11  1vs3       3      1        NaN             1.0   \n",
      "4      Ezra 2022-07-11  2vs4       4      2        NaN             1.0   \n",
      "..      ...        ...   ...     ...    ...        ...             ...   \n",
      "79  Jocelyn 2022-07-29  4vs1       1      4  2 retreat            14.0   \n",
      "80  Jocelyn 2022-07-29  1vs3       1      3  2 retreat            14.0   \n",
      "81  Jocelyn 2022-07-29  2vs4       4      2  2 retreat            14.0   \n",
      "82  Jocelyn 2022-07-29  4vs3       3      4  2 retreat            14.0   \n",
      "83  Jocelyn 2022-07-29  2vs1       1      2  2 retreat            14.0   \n",
      "\n",
      "    session_number_plotting  \n",
      "0                       1.0  \n",
      "1                       NaN  \n",
      "2                       NaN  \n",
      "3                       NaN  \n",
      "4                       NaN  \n",
      "..                      ...  \n",
      "79                      NaN  \n",
      "80                      NaN  \n",
      "81                      NaN  \n",
      "82                      NaN  \n",
      "83                      NaN  \n",
      "\n",
      "[84 rows x 8 columns]\n",
      "CAGE4\n",
      "     runner       date match  winner  loser         notes  session_number  \\\n",
      "0      Ezra 2022-07-11  1vs2       1      2           NaN             1.0   \n",
      "1      Ezra 2022-07-11  2vs3       2      3           NaN             1.0   \n",
      "2      Ezra 2022-07-11  3vs4       3      4           NaN             1.0   \n",
      "3      Ezra 2022-07-11  1vs3       3      1           NaN             1.0   \n",
      "4      Ezra 2022-07-11  2vs4       4      2           NaN             1.0   \n",
      "..      ...        ...   ...     ...    ...           ...             ...   \n",
      "79  Jocelyn 2022-07-29  4vs1       4      1  2 fighting 1            14.0   \n",
      "80  Jocelyn 2022-07-29  1vs3       1      3  2 fighting 1            14.0   \n",
      "81  Jocelyn 2022-07-29  2vs4       4      2  2 fighting 1            14.0   \n",
      "82  Jocelyn 2022-07-29  4vs3       4      4  2 fighting 1            14.0   \n",
      "83  Jocelyn 2022-07-29  2vs1       1      2  2 fighting 1            14.0   \n",
      "\n",
      "    session_number_plotting  \n",
      "0                       1.0  \n",
      "1                       NaN  \n",
      "2                       NaN  \n",
      "3                       NaN  \n",
      "4                       NaN  \n",
      "..                      ...  \n",
      "79                      NaN  \n",
      "80                      NaN  \n",
      "81                      NaN  \n",
      "82                      NaN  \n",
      "83                      NaN  \n",
      "\n",
      "[84 rows x 8 columns]\n",
      "CAGE5\n",
      "     runner       date match  winner  loser                         notes  \\\n",
      "0      Ezra 2022-07-11  1vs2       2      1                           NaN   \n",
      "1      Ezra 2022-07-11  2vs3       2      3                           NaN   \n",
      "2      Ezra 2022-07-11  3vs4       4      3                           NaN   \n",
      "3      Ezra 2022-07-11  1vs3       3      1                           NaN   \n",
      "4      Ezra 2022-07-11  2vs4       4      2                           NaN   \n",
      "..      ...        ...   ...     ...    ...                           ...   \n",
      "79  Jocelyn 2022-07-29  4vs1       1      4  4 fighting 1 after tube test   \n",
      "80  Jocelyn 2022-07-29  1vs3       3      1  4 fighting 1 after tube test   \n",
      "81  Jocelyn 2022-07-29  2vs4       2      4  4 fighting 1 after tube test   \n",
      "82  Jocelyn 2022-07-29  4vs3       3      3                   4 fighting3   \n",
      "83  Jocelyn 2022-07-29  2vs1       1      2                   4 fighting3   \n",
      "\n",
      "    session_number  session_number_plotting  \n",
      "0              1.0                      1.0  \n",
      "1              1.0                      NaN  \n",
      "2              1.0                      NaN  \n",
      "3              1.0                      NaN  \n",
      "4              1.0                      NaN  \n",
      "..             ...                      ...  \n",
      "79            14.0                      NaN  \n",
      "80            14.0                      NaN  \n",
      "81            14.0                      NaN  \n",
      "82            14.0                      NaN  \n",
      "83            14.0                      NaN  \n",
      "\n",
      "[84 rows x 8 columns]\n",
      "CAGE6\n",
      "     runner       date match  winner  loser  \\\n",
      "0      Ezra 2022-07-11  1vs2       2      1   \n",
      "1      Ezra 2022-07-11  2vs3       2      3   \n",
      "2      Ezra 2022-07-11  3vs4       4      3   \n",
      "3      Ezra 2022-07-11  1vs3       3      1   \n",
      "4      Ezra 2022-07-11  2vs4       4      2   \n",
      "..      ...        ...   ...     ...    ...   \n",
      "79  Jocelyn 2022-07-29  4vs1       4      1   \n",
      "80  Jocelyn 2022-07-29  1vs3       1      3   \n",
      "81  Jocelyn 2022-07-29  2vs4       4      2   \n",
      "82  Jocelyn 2022-07-29  4vs3       4      3   \n",
      "83  Jocelyn 2022-07-29  2vs1       1      2   \n",
      "\n",
      "                                   notes  session_number  \\\n",
      "0                                    NaN             1.0   \n",
      "1                                    NaN             1.0   \n",
      "2                                    NaN             1.0   \n",
      "3                                    NaN             1.0   \n",
      "4                                    NaN             1.0   \n",
      "..                                   ...             ...   \n",
      "79          1 fighting 2 after tube test            14.0   \n",
      "80          1 fighting 2 after tube test            14.0   \n",
      "81          1 fighting 2 after tube test            14.0   \n",
      "82          1 fighting 2 after tube test            14.0   \n",
      "83  1 bit #2 in the head INSIDE THE TUBE            14.0   \n",
      "\n",
      "    session_number_plotting  \n",
      "0                       1.0  \n",
      "1                       NaN  \n",
      "2                       NaN  \n",
      "3                       NaN  \n",
      "4                       NaN  \n",
      "..                      ...  \n",
      "79                      NaN  \n",
      "80                      NaN  \n",
      "81                      NaN  \n",
      "82                      NaN  \n",
      "83                      NaN  \n",
      "\n",
      "[84 rows x 8 columns]\n"
     ]
    }
   ],
   "source": [
    "sheet_to_data_frame = defaultdict(dict)\n",
    "for sheet in sheets[:]:\n",
    "    try:\n",
    "        print(sheet)\n",
    "        # Seeing if \"Unnamed\" is in any of the cells for the 0th row\n",
    "        if \"Unnamed\" not in \"\".join([str(col) for col in pd.read_excel(raw_data_file_path, sheet_name=sheet, header=0).columns]):\n",
    "            header_row = 0\n",
    "        # Seeing if \"Unnamed\" is in any of the cells for the 1st row\n",
    "        elif \"Unnamed\" not in \"\".join([str(col) for col in pd.read_excel(raw_data_file_path, sheet_name=sheet, header=1).columns]):\n",
    "            header_row = 1\n",
    "        else:\n",
    "            header_row = 0\n",
    "            warnings.warn(\"\"\"Both the 0th and the 1st row have cells with blank values. This means that that these rows can not be used as headers. Please change the row number to the header\"\"\")\n",
    "            continue\n",
    "        \n",
    "        sheet_to_data_frame[sheet][\"recording_data_frame\"] = pd.read_excel(raw_data_file_path, sheet_name=sheet, header=header_row).copy()\n",
    "\n",
    "        original_column_name_to_standarized = defaultdict(dict)\n",
    "        for col in sheet_to_data_frame[sheet][\"recording_data_frame\"].columns:\n",
    "            original_column_name_to_standarized[col] = str(col).lower().strip()\n",
    "        sheet_to_data_frame[sheet][\"recording_data_frame\"] = sheet_to_data_frame[sheet][\"recording_data_frame\"].rename(columns=original_column_name_to_standarized)\n",
    "\n",
    "        sheet_to_data_frame[sheet][\"recording_data_frame\"] = sheet_to_data_frame[sheet][\"recording_data_frame\"].dropna(subset=[\"winner\"])\n",
    "\n",
    "\n",
    "        # Adding the session numbers as a column\n",
    "        session_indexes = sheet_to_data_frame[sheet][\"recording_data_frame\"].dropna(axis=0, subset=\"date\").index\n",
    "        sheet_to_data_frame[sheet][\"recording_data_frame\"] = eloscore.add_session_number_column(sheet_to_data_frame[sheet][\"recording_data_frame\"], session_indexes)\n",
    "        sheet_to_data_frame[sheet][\"recording_data_frame\"] = sheet_to_data_frame[sheet][\"recording_data_frame\"].fillna(method='ffill')\n",
    "        sheet_to_data_frame[sheet][\"recording_data_frame\"] = eloscore.add_session_number_column(sheet_to_data_frame[sheet][\"recording_data_frame\"], session_indexes, session_number_column=\"session_number_plotting\")\n",
    "\n",
    "        print(sheet_to_data_frame[sheet][\"recording_data_frame\"])\n",
    "\n",
    "        \n",
    "        # Splitting all the rows with commas in the ID\n",
    "        sheet_to_data_frame[sheet][\"recording_data_frame\"][\"winner\"] = sheet_to_data_frame[sheet][\"recording_data_frame\"][\"winner\"].astype(str)\n",
    "\n",
    "        sheet_to_data_frame[sheet][\"recording_data_frame\"][\"loser\"] = sheet_to_data_frame[sheet][\"recording_data_frame\"][\"loser\"].astype(str)\n",
    "\n",
    "\n",
    "        # Calculating the Elo Score    \n",
    "        index_to_elo_score_and_meta_data = eloscore.iterate_elo_score_calculation_for_data_frame(data_frame=sheet_to_data_frame[sheet][\"recording_data_frame\"], \\\n",
    "                                                                                                                   winner_column=\"winner\", loser_column=\"loser\", additional_columns=[\"date\", \"session_number\", \"session_number_plotting\"])\n",
    "        sheet_to_data_frame[sheet][\"elo_score_data_frame\"] = pd.DataFrame.from_dict(index_to_elo_score_and_meta_data, orient=\"index\")\n",
    "\n",
    "    \n",
    "    except:\n",
    "#         print(sheet)\n",
    "\n",
    "        warnings.warn(\"Please update the formatting for the sheet with the above name, or continue if this sheet is being ignored\")\n",
    "        sheet_to_data_frame.pop(sheet, None)"
   ]
  },
  {
   "cell_type": "code",
   "execution_count": null,
   "id": "e632cc33",
   "metadata": {},
   "outputs": [],
   "source": []
  },
  {
   "cell_type": "code",
   "execution_count": null,
   "id": "34a5c38c",
   "metadata": {},
   "outputs": [],
   "source": []
  },
  {
   "cell_type": "markdown",
   "id": "ac4481a7",
   "metadata": {},
   "source": [
    "## Saving the Elo Score Dataframes"
   ]
  },
  {
   "cell_type": "markdown",
   "id": "1bc6ca45",
   "metadata": {},
   "source": [
    "- Create folders to save processed data"
   ]
  },
  {
   "cell_type": "markdown",
   "id": "d304fffc",
   "metadata": {},
   "source": [
    "- Adding the cage information for each cage"
   ]
  },
  {
   "cell_type": "code",
   "execution_count": 43,
   "id": "090d28ab",
   "metadata": {},
   "outputs": [],
   "source": [
    "for key, value in sheet_to_data_frame.items():    \n",
    "    cage_number = re.findall(r'\\d+', key)[0]\n",
    "    sheet_to_data_frame[key][\"elo_score_data_frame\"][\"cage\"] = cage_number\n",
    "    sheet_to_data_frame[key][\"elo_score_data_frame\"][\"experiment_type\"] = \"tube_test\""
   ]
  },
  {
   "cell_type": "code",
   "execution_count": 44,
   "id": "06b1018d",
   "metadata": {},
   "outputs": [
    {
     "data": {
      "text/plain": [
       "defaultdict(dict,\n",
       "            {'CAGE1': {'recording_data_frame':      runner       date match winner loser  \\\n",
       "              0      Ezra 2022-07-11  1vs2      2     1   \n",
       "              1      Ezra 2022-07-11  2vs3      2     3   \n",
       "              2      Ezra 2022-07-11  3vs4      3     4   \n",
       "              3      Ezra 2022-07-11  1vs3      3     1   \n",
       "              4      Ezra 2022-07-11  2vs4      2     4   \n",
       "              ..      ...        ...   ...    ...   ...   \n",
       "              79  Jocelyn 2022-07-29  4vs1      1     4   \n",
       "              80  Jocelyn 2022-07-29  1vs3      1     3   \n",
       "              81  Jocelyn 2022-07-29  2vs4      2     4   \n",
       "              82  Jocelyn 2022-07-29  4vs3      3     4   \n",
       "              83  Jocelyn 2022-07-29  2vs1      1     2   \n",
       "              \n",
       "                                                              notes  session_number  \\\n",
       "              0                                                 NaN             1.0   \n",
       "              1                                                 NaN             1.0   \n",
       "              2                                                 NaN             1.0   \n",
       "              3                                                 NaN             1.0   \n",
       "              4                                                 NaN             1.0   \n",
       "              ..                                                ...             ...   \n",
       "              79  Tube testing began before reward training, as ...            14.0   \n",
       "              80  Tube testing began before reward training, as ...            14.0   \n",
       "              81  Tube testing began before reward training, as ...            14.0   \n",
       "              82  Tube testing began before reward training, as ...            14.0   \n",
       "              83  Tube testing began before reward training, as ...            14.0   \n",
       "              \n",
       "                  session_number_plotting  \n",
       "              0                       1.0  \n",
       "              1                       NaN  \n",
       "              2                       NaN  \n",
       "              3                       NaN  \n",
       "              4                       NaN  \n",
       "              ..                      ...  \n",
       "              79                      NaN  \n",
       "              80                      NaN  \n",
       "              81                      NaN  \n",
       "              82                      NaN  \n",
       "              83                      NaN  \n",
       "              \n",
       "              [84 rows x 8 columns],\n",
       "              'elo_score_data_frame':      total_match_number subject_id agent_id  original_elo_score  \\\n",
       "              0                     1          2        1              1000.0   \n",
       "              1                     1          1        1              1000.0   \n",
       "              2                     2          2        3              1010.0   \n",
       "              3                     2          3        3              1000.0   \n",
       "              4                     3          3        4               990.3   \n",
       "              ..                  ...        ...      ...                 ...   \n",
       "              163                  82          4        4               776.2   \n",
       "              164                  83          3        4               994.1   \n",
       "              165                  83          4        4               773.4   \n",
       "              166                  84          1        2              1140.9   \n",
       "              167                  84          2        2              1091.6   \n",
       "              \n",
       "                   updated_elo_score  win_draw_loss       date  session_number  \\\n",
       "              0               1010.0              1 2022-07-11             1.0   \n",
       "              1                990.0              1 2022-07-11             1.0   \n",
       "              2               1019.7              1 2022-07-11             1.0   \n",
       "              3                990.3              1 2022-07-11             1.0   \n",
       "              4               1000.6              1 2022-07-11             1.0   \n",
       "              ..                 ...            ...        ...             ...   \n",
       "              163              773.4              1 2022-07-29            14.0   \n",
       "              164              998.5              1 2022-07-29            14.0   \n",
       "              165              769.0              1 2022-07-29            14.0   \n",
       "              166             1149.5              1 2022-07-29            14.0   \n",
       "              167             1083.0              1 2022-07-29            14.0   \n",
       "              \n",
       "                   session_number_plotting cage experiment_type  \n",
       "              0                        1.0    1       tube_test  \n",
       "              1                        1.0    1       tube_test  \n",
       "              2                        NaN    1       tube_test  \n",
       "              3                        NaN    1       tube_test  \n",
       "              4                        NaN    1       tube_test  \n",
       "              ..                       ...  ...             ...  \n",
       "              163                      NaN    1       tube_test  \n",
       "              164                      NaN    1       tube_test  \n",
       "              165                      NaN    1       tube_test  \n",
       "              166                      NaN    1       tube_test  \n",
       "              167                      NaN    1       tube_test  \n",
       "              \n",
       "              [168 rows x 11 columns]},\n",
       "             'CAGE2': {'recording_data_frame':      runner       date match winner loser                notes  \\\n",
       "              0      Ezra 2022-07-11  1vs2    1.0   2.0                  NaN   \n",
       "              1      Ezra 2022-07-11  2vs3    3.0   2.0                  NaN   \n",
       "              2      Ezra 2022-07-11  3vs4    4.0   3.0                  NaN   \n",
       "              3      Ezra 2022-07-11  1vs3    3.0   1.0                  NaN   \n",
       "              4      Ezra 2022-07-11  2vs4    4.0   2.0                  NaN   \n",
       "              ..      ...        ...   ...    ...   ...                  ...   \n",
       "              79  Jocelyn 2022-07-29  4vs1    4.0   1.0  * started at 1:18pm   \n",
       "              80  Jocelyn 2022-07-29  1vs3    3.0   1.0  * started at 1:18pm   \n",
       "              81  Jocelyn 2022-07-29  2vs4    2.0   4.0  * started at 1:18pm   \n",
       "              82  Jocelyn 2022-07-29  4vs3    4.0   3.0  * started at 1:18pm   \n",
       "              83  Jocelyn 2022-07-29  2vs1    2.0   1.0  * started at 1:18pm   \n",
       "              \n",
       "                  session_number  session_number_plotting  \n",
       "              0              1.0                      1.0  \n",
       "              1              1.0                      NaN  \n",
       "              2              1.0                      NaN  \n",
       "              3              1.0                      NaN  \n",
       "              4              1.0                      NaN  \n",
       "              ..             ...                      ...  \n",
       "              79            13.0                      NaN  \n",
       "              80            13.0                      NaN  \n",
       "              81            13.0                      NaN  \n",
       "              82            13.0                      NaN  \n",
       "              83            13.0                      NaN  \n",
       "              \n",
       "              [82 rows x 8 columns],\n",
       "              'elo_score_data_frame':      total_match_number subject_id agent_id  original_elo_score  \\\n",
       "              0                     1        1.0      2.0              1000.0   \n",
       "              1                     1        2.0      2.0              1000.0   \n",
       "              2                     2        3.0      2.0              1000.0   \n",
       "              3                     2        2.0      2.0               990.0   \n",
       "              4                     3        4.0      3.0              1000.0   \n",
       "              ..                  ...        ...      ...                 ...   \n",
       "              159                  80        4.0      4.0               991.8   \n",
       "              160                  81        4.0      3.0               982.5   \n",
       "              161                  81        3.0      3.0               984.9   \n",
       "              162                  82        2.0      1.0              1025.6   \n",
       "              163                  82        1.0      1.0              1007.0   \n",
       "              \n",
       "                   updated_elo_score  win_draw_loss       date  session_number  \\\n",
       "              0               1010.0              1 2022-07-11             1.0   \n",
       "              1                990.0              1 2022-07-11             1.0   \n",
       "              2               1009.7              1 2022-07-11             1.0   \n",
       "              3                980.3              1 2022-07-11             1.0   \n",
       "              4               1010.3              1 2022-07-11             1.0   \n",
       "              ..                 ...            ...        ...             ...   \n",
       "              159              982.5              1 2022-07-29            13.0   \n",
       "              160              992.6              1 2022-07-29            13.0   \n",
       "              161              974.8              1 2022-07-29            13.0   \n",
       "              162             1035.1              1 2022-07-29            13.0   \n",
       "              163              997.5              1 2022-07-29            13.0   \n",
       "              \n",
       "                   session_number_plotting cage experiment_type  \n",
       "              0                        1.0    2       tube_test  \n",
       "              1                        1.0    2       tube_test  \n",
       "              2                        NaN    2       tube_test  \n",
       "              3                        NaN    2       tube_test  \n",
       "              4                        NaN    2       tube_test  \n",
       "              ..                       ...  ...             ...  \n",
       "              159                      NaN    2       tube_test  \n",
       "              160                      NaN    2       tube_test  \n",
       "              161                      NaN    2       tube_test  \n",
       "              162                      NaN    2       tube_test  \n",
       "              163                      NaN    2       tube_test  \n",
       "              \n",
       "              [164 rows x 11 columns]},\n",
       "             'CAGE3': {'recording_data_frame':      runner       date match winner loser      notes  session_number  \\\n",
       "              0      Ezra 2022-07-11  1vs2      1     2        NaN             1.0   \n",
       "              1      Ezra 2022-07-11  2vs3      3     2        NaN             1.0   \n",
       "              2      Ezra 2022-07-11  3vs4      3     4        NaN             1.0   \n",
       "              3      Ezra 2022-07-11  1vs3      3     1        NaN             1.0   \n",
       "              4      Ezra 2022-07-11  2vs4      4     2        NaN             1.0   \n",
       "              ..      ...        ...   ...    ...   ...        ...             ...   \n",
       "              79  Jocelyn 2022-07-29  4vs1      1     4  2 retreat            14.0   \n",
       "              80  Jocelyn 2022-07-29  1vs3      1     3  2 retreat            14.0   \n",
       "              81  Jocelyn 2022-07-29  2vs4      4     2  2 retreat            14.0   \n",
       "              82  Jocelyn 2022-07-29  4vs3      3     4  2 retreat            14.0   \n",
       "              83  Jocelyn 2022-07-29  2vs1      1     2  2 retreat            14.0   \n",
       "              \n",
       "                  session_number_plotting  \n",
       "              0                       1.0  \n",
       "              1                       NaN  \n",
       "              2                       NaN  \n",
       "              3                       NaN  \n",
       "              4                       NaN  \n",
       "              ..                      ...  \n",
       "              79                      NaN  \n",
       "              80                      NaN  \n",
       "              81                      NaN  \n",
       "              82                      NaN  \n",
       "              83                      NaN  \n",
       "              \n",
       "              [84 rows x 8 columns],\n",
       "              'elo_score_data_frame':      total_match_number subject_id agent_id  original_elo_score  \\\n",
       "              0                     1          1        2              1000.0   \n",
       "              1                     1          2        2              1000.0   \n",
       "              2                     2          3        2              1000.0   \n",
       "              3                     2          2        2               990.0   \n",
       "              4                     3          3        4              1009.7   \n",
       "              ..                  ...        ...      ...                 ...   \n",
       "              163                  82          2        2               833.7   \n",
       "              164                  83          3        4               971.4   \n",
       "              165                  83          4        4              1082.4   \n",
       "              166                  84          1        2              1106.4   \n",
       "              167                  84          2        2               829.8   \n",
       "              \n",
       "                   updated_elo_score  win_draw_loss       date  session_number  \\\n",
       "              0               1010.0              1 2022-07-11             1.0   \n",
       "              1                990.0              1 2022-07-11             1.0   \n",
       "              2               1009.7              1 2022-07-11             1.0   \n",
       "              3                980.3              1 2022-07-11             1.0   \n",
       "              4               1019.4              1 2022-07-11             1.0   \n",
       "              ..                 ...            ...        ...             ...   \n",
       "              163              829.8              1 2022-07-29            14.0   \n",
       "              164              984.5              1 2022-07-29            14.0   \n",
       "              165             1069.3              1 2022-07-29            14.0   \n",
       "              166             1109.8              1 2022-07-29            14.0   \n",
       "              167              826.4              1 2022-07-29            14.0   \n",
       "              \n",
       "                   session_number_plotting cage experiment_type  \n",
       "              0                        1.0    3       tube_test  \n",
       "              1                        1.0    3       tube_test  \n",
       "              2                        NaN    3       tube_test  \n",
       "              3                        NaN    3       tube_test  \n",
       "              4                        NaN    3       tube_test  \n",
       "              ..                       ...  ...             ...  \n",
       "              163                      NaN    3       tube_test  \n",
       "              164                      NaN    3       tube_test  \n",
       "              165                      NaN    3       tube_test  \n",
       "              166                      NaN    3       tube_test  \n",
       "              167                      NaN    3       tube_test  \n",
       "              \n",
       "              [168 rows x 11 columns]},\n",
       "             'CAGE4': {'recording_data_frame':      runner       date match winner loser         notes  session_number  \\\n",
       "              0      Ezra 2022-07-11  1vs2      1     2           NaN             1.0   \n",
       "              1      Ezra 2022-07-11  2vs3      2     3           NaN             1.0   \n",
       "              2      Ezra 2022-07-11  3vs4      3     4           NaN             1.0   \n",
       "              3      Ezra 2022-07-11  1vs3      3     1           NaN             1.0   \n",
       "              4      Ezra 2022-07-11  2vs4      4     2           NaN             1.0   \n",
       "              ..      ...        ...   ...    ...   ...           ...             ...   \n",
       "              79  Jocelyn 2022-07-29  4vs1      4     1  2 fighting 1            14.0   \n",
       "              80  Jocelyn 2022-07-29  1vs3      1     3  2 fighting 1            14.0   \n",
       "              81  Jocelyn 2022-07-29  2vs4      4     2  2 fighting 1            14.0   \n",
       "              82  Jocelyn 2022-07-29  4vs3      4     4  2 fighting 1            14.0   \n",
       "              83  Jocelyn 2022-07-29  2vs1      1     2  2 fighting 1            14.0   \n",
       "              \n",
       "                  session_number_plotting  \n",
       "              0                       1.0  \n",
       "              1                       NaN  \n",
       "              2                       NaN  \n",
       "              3                       NaN  \n",
       "              4                       NaN  \n",
       "              ..                      ...  \n",
       "              79                      NaN  \n",
       "              80                      NaN  \n",
       "              81                      NaN  \n",
       "              82                      NaN  \n",
       "              83                      NaN  \n",
       "              \n",
       "              [84 rows x 8 columns],\n",
       "              'elo_score_data_frame':      total_match_number subject_id agent_id  original_elo_score  \\\n",
       "              0                     1          1        2              1000.0   \n",
       "              1                     1          2        2              1000.0   \n",
       "              2                     2          2        3               990.0   \n",
       "              3                     2          3        3              1000.0   \n",
       "              4                     3          3        4               989.7   \n",
       "              ..                  ...        ...      ...                 ...   \n",
       "              163                  82          2        2               783.2   \n",
       "              164                  83          4        4              1219.3   \n",
       "              165                  83          4        4              1219.3   \n",
       "              166                  84          1        2              1068.2   \n",
       "              167                  84          2        2               781.7   \n",
       "              \n",
       "                   updated_elo_score  win_draw_loss       date  session_number  \\\n",
       "              0               1010.0              1 2022-07-11             1.0   \n",
       "              1                990.0              1 2022-07-11             1.0   \n",
       "              2               1000.3              1 2022-07-11             1.0   \n",
       "              3                989.7              1 2022-07-11             1.0   \n",
       "              4               1000.0              1 2022-07-11             1.0   \n",
       "              ..                 ...            ...        ...             ...   \n",
       "              163              781.7              1 2022-07-29            14.0   \n",
       "              164             1209.3              1 2022-07-29            14.0   \n",
       "              165             1209.3              1 2022-07-29            14.0   \n",
       "              166             1071.4              1 2022-07-29            14.0   \n",
       "              167              778.5              1 2022-07-29            14.0   \n",
       "              \n",
       "                   session_number_plotting cage experiment_type  \n",
       "              0                        1.0    4       tube_test  \n",
       "              1                        1.0    4       tube_test  \n",
       "              2                        NaN    4       tube_test  \n",
       "              3                        NaN    4       tube_test  \n",
       "              4                        NaN    4       tube_test  \n",
       "              ..                       ...  ...             ...  \n",
       "              163                      NaN    4       tube_test  \n",
       "              164                      NaN    4       tube_test  \n",
       "              165                      NaN    4       tube_test  \n",
       "              166                      NaN    4       tube_test  \n",
       "              167                      NaN    4       tube_test  \n",
       "              \n",
       "              [168 rows x 11 columns]},\n",
       "             'CAGE5': {'recording_data_frame':      runner       date match winner loser                         notes  \\\n",
       "              0      Ezra 2022-07-11  1vs2      2     1                           NaN   \n",
       "              1      Ezra 2022-07-11  2vs3      2     3                           NaN   \n",
       "              2      Ezra 2022-07-11  3vs4      4     3                           NaN   \n",
       "              3      Ezra 2022-07-11  1vs3      3     1                           NaN   \n",
       "              4      Ezra 2022-07-11  2vs4      4     2                           NaN   \n",
       "              ..      ...        ...   ...    ...   ...                           ...   \n",
       "              79  Jocelyn 2022-07-29  4vs1      1     4  4 fighting 1 after tube test   \n",
       "              80  Jocelyn 2022-07-29  1vs3      3     1  4 fighting 1 after tube test   \n",
       "              81  Jocelyn 2022-07-29  2vs4      2     4  4 fighting 1 after tube test   \n",
       "              82  Jocelyn 2022-07-29  4vs3      3     3                   4 fighting3   \n",
       "              83  Jocelyn 2022-07-29  2vs1      1     2                   4 fighting3   \n",
       "              \n",
       "                  session_number  session_number_plotting  \n",
       "              0              1.0                      1.0  \n",
       "              1              1.0                      NaN  \n",
       "              2              1.0                      NaN  \n",
       "              3              1.0                      NaN  \n",
       "              4              1.0                      NaN  \n",
       "              ..             ...                      ...  \n",
       "              79            14.0                      NaN  \n",
       "              80            14.0                      NaN  \n",
       "              81            14.0                      NaN  \n",
       "              82            14.0                      NaN  \n",
       "              83            14.0                      NaN  \n",
       "              \n",
       "              [84 rows x 8 columns],\n",
       "              'elo_score_data_frame':      total_match_number subject_id agent_id  original_elo_score  \\\n",
       "              0                     1          2        1              1000.0   \n",
       "              1                     1          1        1              1000.0   \n",
       "              2                     2          2        3              1010.0   \n",
       "              3                     2          3        3              1000.0   \n",
       "              4                     3          4        3              1000.0   \n",
       "              ..                  ...        ...      ...                 ...   \n",
       "              163                  82          4        4               849.1   \n",
       "              164                  83          3        3              1113.5   \n",
       "              165                  83          3        3              1113.5   \n",
       "              166                  84          1        2               964.3   \n",
       "              167                  84          2        2              1077.4   \n",
       "              \n",
       "                   updated_elo_score  win_draw_loss       date  session_number  \\\n",
       "              0               1010.0              1 2022-07-11             1.0   \n",
       "              1                990.0              1 2022-07-11             1.0   \n",
       "              2               1019.7              1 2022-07-11             1.0   \n",
       "              3                990.3              1 2022-07-11             1.0   \n",
       "              4               1009.7              1 2022-07-11             1.0   \n",
       "              ..                 ...            ...        ...             ...   \n",
       "              163              844.8              1 2022-07-29            14.0   \n",
       "              164             1103.5              1 2022-07-29            14.0   \n",
       "              165             1103.5              1 2022-07-29            14.0   \n",
       "              166              977.4              1 2022-07-29            14.0   \n",
       "              167             1064.3              1 2022-07-29            14.0   \n",
       "              \n",
       "                   session_number_plotting cage experiment_type  \n",
       "              0                        1.0    5       tube_test  \n",
       "              1                        1.0    5       tube_test  \n",
       "              2                        NaN    5       tube_test  \n",
       "              3                        NaN    5       tube_test  \n",
       "              4                        NaN    5       tube_test  \n",
       "              ..                       ...  ...             ...  \n",
       "              163                      NaN    5       tube_test  \n",
       "              164                      NaN    5       tube_test  \n",
       "              165                      NaN    5       tube_test  \n",
       "              166                      NaN    5       tube_test  \n",
       "              167                      NaN    5       tube_test  \n",
       "              \n",
       "              [168 rows x 11 columns]},\n",
       "             'CAGE6': {'recording_data_frame':      runner       date match winner loser  \\\n",
       "              0      Ezra 2022-07-11  1vs2      2     1   \n",
       "              1      Ezra 2022-07-11  2vs3      2     3   \n",
       "              2      Ezra 2022-07-11  3vs4      4     3   \n",
       "              3      Ezra 2022-07-11  1vs3      3     1   \n",
       "              4      Ezra 2022-07-11  2vs4      4     2   \n",
       "              ..      ...        ...   ...    ...   ...   \n",
       "              79  Jocelyn 2022-07-29  4vs1      4     1   \n",
       "              80  Jocelyn 2022-07-29  1vs3      1     3   \n",
       "              81  Jocelyn 2022-07-29  2vs4      4     2   \n",
       "              82  Jocelyn 2022-07-29  4vs3      4     3   \n",
       "              83  Jocelyn 2022-07-29  2vs1      1     2   \n",
       "              \n",
       "                                                 notes  session_number  \\\n",
       "              0                                    NaN             1.0   \n",
       "              1                                    NaN             1.0   \n",
       "              2                                    NaN             1.0   \n",
       "              3                                    NaN             1.0   \n",
       "              4                                    NaN             1.0   \n",
       "              ..                                   ...             ...   \n",
       "              79          1 fighting 2 after tube test            14.0   \n",
       "              80          1 fighting 2 after tube test            14.0   \n",
       "              81          1 fighting 2 after tube test            14.0   \n",
       "              82          1 fighting 2 after tube test            14.0   \n",
       "              83  1 bit #2 in the head INSIDE THE TUBE            14.0   \n",
       "              \n",
       "                  session_number_plotting  \n",
       "              0                       1.0  \n",
       "              1                       NaN  \n",
       "              2                       NaN  \n",
       "              3                       NaN  \n",
       "              4                       NaN  \n",
       "              ..                      ...  \n",
       "              79                      NaN  \n",
       "              80                      NaN  \n",
       "              81                      NaN  \n",
       "              82                      NaN  \n",
       "              83                      NaN  \n",
       "              \n",
       "              [84 rows x 8 columns],\n",
       "              'elo_score_data_frame':      total_match_number subject_id agent_id  original_elo_score  \\\n",
       "              0                     1          2        1              1000.0   \n",
       "              1                     1          1        1              1000.0   \n",
       "              2                     2          2        3              1010.0   \n",
       "              3                     2          3        3              1000.0   \n",
       "              4                     3          4        3              1000.0   \n",
       "              ..                  ...        ...      ...                 ...   \n",
       "              163                  82          2        2              1053.6   \n",
       "              164                  83          4        3              1109.2   \n",
       "              165                  83          3        3               915.5   \n",
       "              166                  84          1        2               930.4   \n",
       "              167                  84          2        2              1044.9   \n",
       "              \n",
       "                   updated_elo_score  win_draw_loss       date  session_number  \\\n",
       "              0               1010.0              1 2022-07-11             1.0   \n",
       "              1                990.0              1 2022-07-11             1.0   \n",
       "              2               1019.7              1 2022-07-11             1.0   \n",
       "              3                990.3              1 2022-07-11             1.0   \n",
       "              4               1009.7              1 2022-07-11             1.0   \n",
       "              ..                 ...            ...        ...             ...   \n",
       "              163             1044.9              1 2022-07-29            14.0   \n",
       "              164             1114.1              1 2022-07-29            14.0   \n",
       "              165              910.6              1 2022-07-29            14.0   \n",
       "              166              943.6              1 2022-07-29            14.0   \n",
       "              167             1031.7              1 2022-07-29            14.0   \n",
       "              \n",
       "                   session_number_plotting cage experiment_type  \n",
       "              0                        1.0    6       tube_test  \n",
       "              1                        1.0    6       tube_test  \n",
       "              2                        NaN    6       tube_test  \n",
       "              3                        NaN    6       tube_test  \n",
       "              4                        NaN    6       tube_test  \n",
       "              ..                       ...  ...             ...  \n",
       "              163                      NaN    6       tube_test  \n",
       "              164                      NaN    6       tube_test  \n",
       "              165                      NaN    6       tube_test  \n",
       "              166                      NaN    6       tube_test  \n",
       "              167                      NaN    6       tube_test  \n",
       "              \n",
       "              [168 rows x 11 columns]}})"
      ]
     },
     "execution_count": 44,
     "metadata": {},
     "output_type": "execute_result"
    }
   ],
   "source": [
    "sheet_to_data_frame"
   ]
  },
  {
   "cell_type": "code",
   "execution_count": 45,
   "id": "37deef34",
   "metadata": {},
   "outputs": [
    {
     "data": {
      "text/html": [
       "<div>\n",
       "<style scoped>\n",
       "    .dataframe tbody tr th:only-of-type {\n",
       "        vertical-align: middle;\n",
       "    }\n",
       "\n",
       "    .dataframe tbody tr th {\n",
       "        vertical-align: top;\n",
       "    }\n",
       "\n",
       "    .dataframe thead th {\n",
       "        text-align: right;\n",
       "    }\n",
       "</style>\n",
       "<table border=\"1\" class=\"dataframe\">\n",
       "  <thead>\n",
       "    <tr style=\"text-align: right;\">\n",
       "      <th></th>\n",
       "      <th>total_match_number</th>\n",
       "      <th>subject_id</th>\n",
       "      <th>agent_id</th>\n",
       "      <th>original_elo_score</th>\n",
       "      <th>updated_elo_score</th>\n",
       "      <th>win_draw_loss</th>\n",
       "      <th>date</th>\n",
       "      <th>session_number</th>\n",
       "      <th>session_number_plotting</th>\n",
       "      <th>cage</th>\n",
       "      <th>experiment_type</th>\n",
       "    </tr>\n",
       "  </thead>\n",
       "  <tbody>\n",
       "    <tr>\n",
       "      <th>0</th>\n",
       "      <td>1</td>\n",
       "      <td>2</td>\n",
       "      <td>1</td>\n",
       "      <td>1000.0</td>\n",
       "      <td>1010.0</td>\n",
       "      <td>1</td>\n",
       "      <td>2022-07-11</td>\n",
       "      <td>1.0</td>\n",
       "      <td>1.0</td>\n",
       "      <td>6</td>\n",
       "      <td>tube_test</td>\n",
       "    </tr>\n",
       "    <tr>\n",
       "      <th>1</th>\n",
       "      <td>1</td>\n",
       "      <td>1</td>\n",
       "      <td>1</td>\n",
       "      <td>1000.0</td>\n",
       "      <td>990.0</td>\n",
       "      <td>1</td>\n",
       "      <td>2022-07-11</td>\n",
       "      <td>1.0</td>\n",
       "      <td>1.0</td>\n",
       "      <td>6</td>\n",
       "      <td>tube_test</td>\n",
       "    </tr>\n",
       "    <tr>\n",
       "      <th>2</th>\n",
       "      <td>2</td>\n",
       "      <td>2</td>\n",
       "      <td>3</td>\n",
       "      <td>1010.0</td>\n",
       "      <td>1019.7</td>\n",
       "      <td>1</td>\n",
       "      <td>2022-07-11</td>\n",
       "      <td>1.0</td>\n",
       "      <td>NaN</td>\n",
       "      <td>6</td>\n",
       "      <td>tube_test</td>\n",
       "    </tr>\n",
       "    <tr>\n",
       "      <th>3</th>\n",
       "      <td>2</td>\n",
       "      <td>3</td>\n",
       "      <td>3</td>\n",
       "      <td>1000.0</td>\n",
       "      <td>990.3</td>\n",
       "      <td>1</td>\n",
       "      <td>2022-07-11</td>\n",
       "      <td>1.0</td>\n",
       "      <td>NaN</td>\n",
       "      <td>6</td>\n",
       "      <td>tube_test</td>\n",
       "    </tr>\n",
       "    <tr>\n",
       "      <th>4</th>\n",
       "      <td>3</td>\n",
       "      <td>4</td>\n",
       "      <td>3</td>\n",
       "      <td>1000.0</td>\n",
       "      <td>1009.7</td>\n",
       "      <td>1</td>\n",
       "      <td>2022-07-11</td>\n",
       "      <td>1.0</td>\n",
       "      <td>NaN</td>\n",
       "      <td>6</td>\n",
       "      <td>tube_test</td>\n",
       "    </tr>\n",
       "  </tbody>\n",
       "</table>\n",
       "</div>"
      ],
      "text/plain": [
       "   total_match_number subject_id agent_id  original_elo_score  \\\n",
       "0                   1          2        1              1000.0   \n",
       "1                   1          1        1              1000.0   \n",
       "2                   2          2        3              1010.0   \n",
       "3                   2          3        3              1000.0   \n",
       "4                   3          4        3              1000.0   \n",
       "\n",
       "   updated_elo_score  win_draw_loss       date  session_number  \\\n",
       "0             1010.0              1 2022-07-11             1.0   \n",
       "1              990.0              1 2022-07-11             1.0   \n",
       "2             1019.7              1 2022-07-11             1.0   \n",
       "3              990.3              1 2022-07-11             1.0   \n",
       "4             1009.7              1 2022-07-11             1.0   \n",
       "\n",
       "   session_number_plotting cage experiment_type  \n",
       "0                      1.0    6       tube_test  \n",
       "1                      1.0    6       tube_test  \n",
       "2                      NaN    6       tube_test  \n",
       "3                      NaN    6       tube_test  \n",
       "4                      NaN    6       tube_test  "
      ]
     },
     "execution_count": 45,
     "metadata": {},
     "output_type": "execute_result"
    }
   ],
   "source": [
    "sheet_to_data_frame[key][\"elo_score_data_frame\"].head()"
   ]
  },
  {
   "cell_type": "code",
   "execution_count": null,
   "id": "685d56c4",
   "metadata": {},
   "outputs": [],
   "source": []
  },
  {
   "cell_type": "code",
   "execution_count": 46,
   "id": "38ee72e3",
   "metadata": {},
   "outputs": [],
   "source": [
    "all_sheet_elo_scord_df_list = []\n",
    "for key, value in sheet_to_data_frame.items():    \n",
    "    all_sheet_elo_scord_df_list.append(sheet_to_data_frame[key][\"elo_score_data_frame\"])"
   ]
  },
  {
   "cell_type": "code",
   "execution_count": 47,
   "id": "def2699d",
   "metadata": {},
   "outputs": [],
   "source": [
    "all_sheet_elo_scord_df_combined = pd.concat(all_sheet_elo_scord_df_list)"
   ]
  },
  {
   "cell_type": "code",
   "execution_count": 48,
   "id": "e1eb4888",
   "metadata": {},
   "outputs": [
    {
     "data": {
      "text/plain": [
       "array(['2', '1', '3', '4', '1.0', '2.0', '3.0', '4.0'], dtype=object)"
      ]
     },
     "execution_count": 48,
     "metadata": {},
     "output_type": "execute_result"
    }
   ],
   "source": [
    "all_sheet_elo_scord_df_combined[\"subject_id\"].unique()"
   ]
  },
  {
   "cell_type": "code",
   "execution_count": 49,
   "id": "dcee090b",
   "metadata": {},
   "outputs": [],
   "source": [
    "id_to_final_elo_score_dict = defaultdict(dict)\n",
    "for subject_id in all_sheet_elo_scord_df_combined[\"subject_id\"].unique():\n",
    "    per_subject_df = all_sheet_elo_scord_df_combined[all_sheet_elo_scord_df_combined[\"subject_id\"] == subject_id]\n",
    "    id_to_final_elo_score_dict[subject_id][\"final_elo_score\"] = per_subject_df.iloc[-1][\"updated_elo_score\"]"
   ]
  },
  {
   "cell_type": "code",
   "execution_count": 50,
   "id": "c181a6a3",
   "metadata": {},
   "outputs": [],
   "source": [
    "id_to_final_elo_score_df = pd.DataFrame.from_dict(id_to_final_elo_score_dict, orient=\"index\")\n",
    "id_to_final_elo_score_df[\"experiment_type\"] = \"tube_test\""
   ]
  },
  {
   "cell_type": "code",
   "execution_count": 51,
   "id": "c486cb9a",
   "metadata": {},
   "outputs": [],
   "source": [
    "id_to_final_elo_score_df[\"subject_id\"] = id_to_final_elo_score_df.index\n",
    "id_to_final_elo_score_df = id_to_final_elo_score_df.reset_index(drop=True)"
   ]
  },
  {
   "cell_type": "code",
   "execution_count": 52,
   "id": "f005b096",
   "metadata": {},
   "outputs": [
    {
     "data": {
      "text/html": [
       "<div>\n",
       "<style scoped>\n",
       "    .dataframe tbody tr th:only-of-type {\n",
       "        vertical-align: middle;\n",
       "    }\n",
       "\n",
       "    .dataframe tbody tr th {\n",
       "        vertical-align: top;\n",
       "    }\n",
       "\n",
       "    .dataframe thead th {\n",
       "        text-align: right;\n",
       "    }\n",
       "</style>\n",
       "<table border=\"1\" class=\"dataframe\">\n",
       "  <thead>\n",
       "    <tr style=\"text-align: right;\">\n",
       "      <th></th>\n",
       "      <th>final_elo_score</th>\n",
       "      <th>experiment_type</th>\n",
       "      <th>subject_id</th>\n",
       "    </tr>\n",
       "  </thead>\n",
       "  <tbody>\n",
       "    <tr>\n",
       "      <th>0</th>\n",
       "      <td>943.6</td>\n",
       "      <td>tube_test</td>\n",
       "      <td>1</td>\n",
       "    </tr>\n",
       "    <tr>\n",
       "      <th>1</th>\n",
       "      <td>997.5</td>\n",
       "      <td>tube_test</td>\n",
       "      <td>1.0</td>\n",
       "    </tr>\n",
       "    <tr>\n",
       "      <th>2</th>\n",
       "      <td>1031.7</td>\n",
       "      <td>tube_test</td>\n",
       "      <td>2</td>\n",
       "    </tr>\n",
       "    <tr>\n",
       "      <th>3</th>\n",
       "      <td>1035.1</td>\n",
       "      <td>tube_test</td>\n",
       "      <td>2.0</td>\n",
       "    </tr>\n",
       "    <tr>\n",
       "      <th>4</th>\n",
       "      <td>910.6</td>\n",
       "      <td>tube_test</td>\n",
       "      <td>3</td>\n",
       "    </tr>\n",
       "  </tbody>\n",
       "</table>\n",
       "</div>"
      ],
      "text/plain": [
       "   final_elo_score experiment_type subject_id\n",
       "0            943.6       tube_test          1\n",
       "1            997.5       tube_test        1.0\n",
       "2           1031.7       tube_test          2\n",
       "3           1035.1       tube_test        2.0\n",
       "4            910.6       tube_test          3"
      ]
     },
     "execution_count": 52,
     "metadata": {},
     "output_type": "execute_result"
    }
   ],
   "source": [
    "id_to_final_elo_score_df.head()"
   ]
  },
  {
   "cell_type": "markdown",
   "id": "ca87a1bb",
   "metadata": {},
   "source": [
    "# Making plots for all sheets"
   ]
  },
  {
   "cell_type": "markdown",
   "id": "d53d0a3d",
   "metadata": {},
   "source": [
    "- Getting the dates the files were being recorded to use for the file name"
   ]
  },
  {
   "cell_type": "code",
   "execution_count": 53,
   "id": "31a00788",
   "metadata": {},
   "outputs": [
    {
     "data": {
      "text/plain": [
       "'CAGE1'"
      ]
     },
     "execution_count": 53,
     "metadata": {},
     "output_type": "execute_result"
    }
   ],
   "source": [
    "sheets[1]"
   ]
  },
  {
   "cell_type": "code",
   "execution_count": 54,
   "id": "d0a8f6fc",
   "metadata": {},
   "outputs": [],
   "source": [
    "earliest_date = str(sheet_to_data_frame[sheets[1]][\"recording_data_frame\"][\"date\"].min()).split()[0]"
   ]
  },
  {
   "cell_type": "code",
   "execution_count": 55,
   "id": "908437ba",
   "metadata": {},
   "outputs": [],
   "source": [
    "latest_date = str(sheet_to_data_frame[sheets[1]][\"recording_data_frame\"][\"date\"].max()).split()[0]"
   ]
  },
  {
   "cell_type": "code",
   "execution_count": 56,
   "id": "96857258",
   "metadata": {},
   "outputs": [
    {
     "data": {
      "text/plain": [
       "'2022-07-11'"
      ]
     },
     "execution_count": 56,
     "metadata": {},
     "output_type": "execute_result"
    }
   ],
   "source": [
    "earliest_date"
   ]
  },
  {
   "cell_type": "code",
   "execution_count": 57,
   "id": "64e4ffee",
   "metadata": {},
   "outputs": [
    {
     "data": {
      "text/plain": [
       "'2022-07-29'"
      ]
     },
     "execution_count": 57,
     "metadata": {},
     "output_type": "execute_result"
    }
   ],
   "source": [
    "latest_date"
   ]
  },
  {
   "cell_type": "markdown",
   "id": "a789713b",
   "metadata": {},
   "source": [
    "- Getting the cage numbers"
   ]
  },
  {
   "cell_type": "code",
   "execution_count": 58,
   "id": "f6f11c4e",
   "metadata": {},
   "outputs": [],
   "source": [
    "all_cages = \"_\".join(sorted([sheet.lower().strip(\"cage\").strip() for sheet in sheet_to_data_frame.keys()]))"
   ]
  },
  {
   "cell_type": "code",
   "execution_count": 59,
   "id": "9b286ddf",
   "metadata": {},
   "outputs": [
    {
     "data": {
      "text/plain": [
       "'1_2_3_4_5_6'"
      ]
     },
     "execution_count": 59,
     "metadata": {},
     "output_type": "execute_result"
    }
   ],
   "source": [
    "all_cages"
   ]
  },
  {
   "cell_type": "code",
   "execution_count": 60,
   "id": "bf5f9a4b",
   "metadata": {},
   "outputs": [],
   "source": [
    "output_directory = \"./proc/plots/tube_test_elo_score/cage_{}_date_{}_{}\".format(all_cages, earliest_date, latest_date)"
   ]
  },
  {
   "cell_type": "code",
   "execution_count": 61,
   "id": "c3304a7c",
   "metadata": {},
   "outputs": [
    {
     "data": {
      "text/plain": [
       "'./proc/plots/tube_test_elo_score/cage_1_2_3_4_5_6_date_2022-07-11_2022-07-29'"
      ]
     },
     "execution_count": 61,
     "metadata": {},
     "output_type": "execute_result"
    }
   ],
   "source": [
    "output_directory"
   ]
  },
  {
   "cell_type": "code",
   "execution_count": 62,
   "id": "aae726d6",
   "metadata": {},
   "outputs": [],
   "source": [
    "os.makedirs(output_directory, exist_ok=True)"
   ]
  },
  {
   "cell_type": "code",
   "execution_count": 63,
   "id": "eea2df77",
   "metadata": {},
   "outputs": [
    {
     "data": {
      "image/png": "[encoded data removed]",
      "text/plain": [
       "<Figure size 972x540 with 1 Axes>"
      ]
     },
     "metadata": {
      "needs_background": "light"
     },
     "output_type": "display_data"
    },
    {
     "data": {
      "image/png": "[encoded data removed]",
      "text/plain": [
       "<Figure size 972x540 with 1 Axes>"
      ]
     },
     "metadata": {
      "needs_background": "light"
     },
     "output_type": "display_data"
    },
    {
     "data": {
      "image/png": "[encoded data removed]",
      "text/plain": [
       "<Figure size 972x540 with 1 Axes>"
      ]
     },
     "metadata": {
      "needs_background": "light"
     },
     "output_type": "display_data"
    },
    {
     "data": {
      "image/png": "[encoded data removed]",
      "text/plain": [
       "<Figure size 972x540 with 1 Axes>"
      ]
     },
     "metadata": {
      "needs_background": "light"
     },
     "output_type": "display_data"
    },
    {
     "data": {
      "image/png": "[encoded data removed]",
      "text/plain": [
       "<Figure size 972x540 with 1 Axes>"
      ]
     },
     "metadata": {
      "needs_background": "light"
     },
     "output_type": "display_data"
    },
    {
     "data": {
      "image/png": "[encoded data removed]",
      "text/plain": [
       "<Figure size 972x540 with 1 Axes>"
      ]
     },
     "metadata": {
      "needs_background": "light"
     },
     "output_type": "display_data"
    }
   ],
   "source": [
    "for key, value in sheet_to_data_frame.items():\n",
    "    plt.rcParams[\"figure.figsize\"] = (13.5,7.5)\n",
    "\n",
    "    elo_score_data_frame = value[\"elo_score_data_frame\"]\n",
    "    fig, ax = plt.subplots()\n",
    "\n",
    "    # Drawing vertical lines that represent when each session begins\n",
    "    for index, row in elo_score_data_frame.dropna(subset=[\"session_number_plotting\"]).iterrows():\n",
    "        # Offsetting by 0.5 to avoid drawing the line on the dot\n",
    "        plt.vlines(x=[row[\"total_match_number\"] - 0.5], ymin=600, ymax=1400, colors='black', linestyle='dashed')\n",
    "\n",
    "    # Drawing a line for each subject\n",
    "    for subject in sorted(elo_score_data_frame[\"subject_id\"].astype(str).unique()):\n",
    "        # Getting all the rows with the current subject\n",
    "        subject_df = elo_score_data_frame[elo_score_data_frame[\"subject_id\"] == subject]\n",
    "        # Making the dates into days after the first session by subtracting all the dates by the first date\n",
    "        plt.plot(subject_df[\"total_match_number\"], subject_df[\"updated_elo_score\"], '-o', label=subject)\n",
    "\n",
    "    # Labeling the X/Y Axis and the title\n",
    "    ax.set_xlabel(\"Trial Number\")\n",
    "    ax.set_ylabel(\"Elo Score\")\n",
    "    ax.set_title(\"Elo Score for Tube Test: {}\".format(key))\n",
    "    # To show the legend\n",
    "    ax.legend()\n",
    "    plt.xticks(rotation=90)\n",
    "    plt.ylim(600, 1400) \n",
    "    \n",
    "    file_name = \"tube_test_elo_score_{}_date_{}_{}.png\".format(key, earliest_date, latest_date)\n",
    "    plt.savefig(os.path.join(output_directory, file_name))\n",
    "    \n",
    "    plt.show()\n"
   ]
  },
  {
   "cell_type": "code",
   "execution_count": null,
   "id": "084f4a5d",
   "metadata": {},
   "outputs": [],
   "source": []
  },
  {
   "cell_type": "markdown",
   "id": "bd303ecd",
   "metadata": {},
   "source": [
    "# Saving the Dataframes"
   ]
  },
  {
   "cell_type": "code",
   "execution_count": null,
   "id": "230c9d3f",
   "metadata": {},
   "outputs": [],
   "source": []
  },
  {
   "cell_type": "code",
   "execution_count": 64,
   "id": "e2e1781a",
   "metadata": {},
   "outputs": [],
   "source": [
    "output_directory = \"./proc/elo_score_spread_sheets/tube_test_elo_score/cage_{}_date_{}_{}\".format(all_cages, earliest_date, latest_date)"
   ]
  },
  {
   "cell_type": "code",
   "execution_count": 65,
   "id": "a91dcff0",
   "metadata": {},
   "outputs": [
    {
     "data": {
      "text/plain": [
       "'./proc/elo_score_spread_sheets/tube_test_elo_score/cage_1_2_3_4_5_6_date_2022-07-11_2022-07-29'"
      ]
     },
     "execution_count": 65,
     "metadata": {},
     "output_type": "execute_result"
    }
   ],
   "source": [
    "output_directory"
   ]
  },
  {
   "cell_type": "code",
   "execution_count": 66,
   "id": "bb6e7b70",
   "metadata": {},
   "outputs": [],
   "source": [
    "os.makedirs(output_directory, exist_ok=True)"
   ]
  },
  {
   "cell_type": "code",
   "execution_count": 67,
   "id": "b7d18391",
   "metadata": {},
   "outputs": [],
   "source": [
    "file_name = \"tube_test_elo_score_history_cages_{}_date_{}_{}.csv\".format(all_cages, earliest_date, latest_date)\n",
    "all_sheet_elo_scord_df_combined.to_csv(os.path.join(output_directory, file_name))"
   ]
  },
  {
   "cell_type": "code",
   "execution_count": 68,
   "id": "c335e989",
   "metadata": {},
   "outputs": [],
   "source": [
    "file_name = \"tube_test_final_elo_score_cages_{}_date_{}_{}.csv\".format(all_cages, earliest_date, latest_date)\n",
    "id_to_final_elo_score_df.to_csv(os.path.join(output_directory, file_name))"
   ]
  }
 ],
 "metadata": {
  "kernelspec": {
   "display_name": "Python 3 (ipykernel)",
   "language": "python",
   "name": "python3"
  },
  "language_info": {
   "codemirror_mode": {
    "name": "ipython",
    "version": 3
   },
   "file_extension": ".py",
   "mimetype": "text/x-python",
   "name": "python",
   "nbconvert_exporter": "python",
   "pygments_lexer": "ipython3",
   "version": "3.9.12"
  },
  "vscode": {
   "interpreter": {
    "hash": "dfa3458735eaf687e58730314206b7eff423bc707da2360eaa14de4cfab40566"
   }
  }
 },
 "nbformat": 4,
 "nbformat_minor": 5
}
