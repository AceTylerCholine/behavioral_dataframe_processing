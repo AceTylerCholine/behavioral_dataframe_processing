{
 "cells": [
  {
   "cell_type": "markdown",
   "id": "cd97c972",
   "metadata": {},
   "source": [
    "# Elo Score Calculation"
   ]
  },
  {
   "cell_type": "code",
   "execution_count": 1,
   "id": "cf755b46",
   "metadata": {},
   "outputs": [],
   "source": [
    "import re\n",
    "import os\n",
    "import sys\n",
    "from collections import defaultdict"
   ]
  },
  {
   "cell_type": "code",
   "execution_count": 2,
   "id": "9537e067",
   "metadata": {},
   "outputs": [],
   "source": [
    "from datetime import datetime\n",
    "from datetime import timedelta\n",
    "import matplotlib.pyplot as plt"
   ]
  },
  {
   "cell_type": "code",
   "execution_count": 3,
   "id": "1c9bfe6f",
   "metadata": {},
   "outputs": [],
   "source": [
    "import numpy as np\n",
    "import pandas as pd\n",
    "import xlrd\n",
    "from labellines import labelLine, labelLines"
   ]
  },
  {
   "cell_type": "code",
   "execution_count": 4,
   "id": "2e3d2466",
   "metadata": {},
   "outputs": [],
   "source": [
    "# setting path\n",
    "sys.path.append('../../src')"
   ]
  },
  {
   "cell_type": "code",
   "execution_count": 5,
   "id": "104016aa",
   "metadata": {},
   "outputs": [],
   "source": [
    "from eloscore import eloscore"
   ]
  },
  {
   "cell_type": "code",
   "execution_count": 6,
   "id": "6ea31ca1",
   "metadata": {},
   "outputs": [],
   "source": [
    "# Increase size of plot in jupyter\n",
    "\n",
    "plt.rcParams[\"figure.figsize\"] = (18,10)"
   ]
  },
  {
   "cell_type": "markdown",
   "id": "8b7c1562",
   "metadata": {},
   "source": [
    "## Summary"
   ]
  },
  {
   "cell_type": "markdown",
   "id": "a5950969",
   "metadata": {},
   "source": [
    "- Notebook that calcuates the Elo Score of mice competing over access to a tone associated reward port\n",
    "- The data is a spreadsheet of combination of subjects (as rows) against dates (as columns)"
   ]
  },
  {
   "cell_type": "markdown",
   "id": "a934ef8f",
   "metadata": {},
   "source": [
    "## Importing Data for One Sheet"
   ]
  },
  {
   "cell_type": "markdown",
   "id": "b7839431",
   "metadata": {},
   "source": [
    "- The original data has been trimmed so that only the cells with dates, winner ID's, and relevant metadata were kept"
   ]
  },
  {
   "cell_type": "code",
   "execution_count": 7,
   "id": "bb3ff67b",
   "metadata": {},
   "outputs": [],
   "source": [
    "xls = pd.ExcelFile(\"./data/Reward_Competition_Scoring_MasterList.xlsx\")\n",
    "sheets = xls.sheet_names"
   ]
  },
  {
   "cell_type": "code",
   "execution_count": 8,
   "id": "aeb563da",
   "metadata": {},
   "outputs": [
    {
     "data": {
      "text/plain": [
       "['Master Assignment List',\n",
       " 'Ezra',\n",
       " 'Albert',\n",
       " 'Isabel',\n",
       " 'Catalina',\n",
       " 'Jocelyn',\n",
       " 'Meghan',\n",
       " 'Erika',\n",
       " 'Naeliz']"
      ]
     },
     "execution_count": 8,
     "metadata": {},
     "output_type": "execute_result"
    }
   ],
   "source": [
    "sheets"
   ]
  },
  {
   "cell_type": "code",
   "execution_count": 9,
   "id": "7cbb993b",
   "metadata": {},
   "outputs": [],
   "source": [
    "reward_competition_df = pd.read_excel(\"./data/Reward_Competition_Scoring_MasterList.xlsx\", sheet_name=sheets[0], header=0)"
   ]
  },
  {
   "cell_type": "code",
   "execution_count": 55,
   "id": "ef7e0949",
   "metadata": {},
   "outputs": [],
   "source": [
    "copy_reward_competition_df = reward_competition_df.copy()"
   ]
  },
  {
   "cell_type": "code",
   "execution_count": 56,
   "id": "ec2be29b",
   "metadata": {
    "scrolled": false
   },
   "outputs": [
    {
     "data": {
      "text/html": [
       "<div>\n",
       "<style scoped>\n",
       "    .dataframe tbody tr th:only-of-type {\n",
       "        vertical-align: middle;\n",
       "    }\n",
       "\n",
       "    .dataframe tbody tr th {\n",
       "        vertical-align: top;\n",
       "    }\n",
       "\n",
       "    .dataframe thead th {\n",
       "        text-align: right;\n",
       "    }\n",
       "</style>\n",
       "<table border=\"1\" class=\"dataframe\">\n",
       "  <thead>\n",
       "    <tr style=\"text-align: right;\">\n",
       "      <th></th>\n",
       "      <th>Date</th>\n",
       "      <th>Cage</th>\n",
       "      <th>Box</th>\n",
       "      <th>Match</th>\n",
       "      <th>Scorer</th>\n",
       "      <th>Trial 1 Time</th>\n",
       "      <th>Trial 1 Winner</th>\n",
       "      <th>Trial 2 Time</th>\n",
       "      <th>Trial 2 Winner</th>\n",
       "      <th>Trial 3 Time</th>\n",
       "      <th>...</th>\n",
       "      <th>Trial 17 Winner</th>\n",
       "      <th>Trial 18 Time</th>\n",
       "      <th>Trial 18 Winner</th>\n",
       "      <th>Trial 19 Time</th>\n",
       "      <th>Trial 19 Winner</th>\n",
       "      <th>Trial 20 Time</th>\n",
       "      <th>Trial 20 Winner</th>\n",
       "      <th>Mouse 1 Wins</th>\n",
       "      <th>Mouse 2 Wins</th>\n",
       "      <th>Ties</th>\n",
       "    </tr>\n",
       "  </thead>\n",
       "  <tbody>\n",
       "    <tr>\n",
       "      <th>0</th>\n",
       "      <td>2022-07-28</td>\n",
       "      <td>1</td>\n",
       "      <td>1</td>\n",
       "      <td>1v2</td>\n",
       "      <td>Naeliz</td>\n",
       "      <td>NaN</td>\n",
       "      <td>NaN</td>\n",
       "      <td>NaN</td>\n",
       "      <td>NaN</td>\n",
       "      <td>NaN</td>\n",
       "      <td>...</td>\n",
       "      <td>NaN</td>\n",
       "      <td>NaN</td>\n",
       "      <td>NaN</td>\n",
       "      <td>NaN</td>\n",
       "      <td>NaN</td>\n",
       "      <td>NaN</td>\n",
       "      <td>NaN</td>\n",
       "      <td>NaN</td>\n",
       "      <td>NaN</td>\n",
       "      <td>NaN</td>\n",
       "    </tr>\n",
       "    <tr>\n",
       "      <th>1</th>\n",
       "      <td>2022-07-28</td>\n",
       "      <td>1</td>\n",
       "      <td>2</td>\n",
       "      <td>3v4</td>\n",
       "      <td>Erika</td>\n",
       "      <td>NaN</td>\n",
       "      <td>NaN</td>\n",
       "      <td>NaN</td>\n",
       "      <td>NaN</td>\n",
       "      <td>NaN</td>\n",
       "      <td>...</td>\n",
       "      <td>NaN</td>\n",
       "      <td>NaN</td>\n",
       "      <td>NaN</td>\n",
       "      <td>NaN</td>\n",
       "      <td>NaN</td>\n",
       "      <td>NaN</td>\n",
       "      <td>NaN</td>\n",
       "      <td>NaN</td>\n",
       "      <td>NaN</td>\n",
       "      <td>NaN</td>\n",
       "    </tr>\n",
       "    <tr>\n",
       "      <th>2</th>\n",
       "      <td>2022-07-28</td>\n",
       "      <td>1</td>\n",
       "      <td>3</td>\n",
       "      <td>2v3</td>\n",
       "      <td>Ezra</td>\n",
       "      <td>NaN</td>\n",
       "      <td>NaN</td>\n",
       "      <td>NaN</td>\n",
       "      <td>NaN</td>\n",
       "      <td>NaN</td>\n",
       "      <td>...</td>\n",
       "      <td>NaN</td>\n",
       "      <td>NaN</td>\n",
       "      <td>NaN</td>\n",
       "      <td>NaN</td>\n",
       "      <td>NaN</td>\n",
       "      <td>NaN</td>\n",
       "      <td>NaN</td>\n",
       "      <td>NaN</td>\n",
       "      <td>NaN</td>\n",
       "      <td>NaN</td>\n",
       "    </tr>\n",
       "    <tr>\n",
       "      <th>3</th>\n",
       "      <td>2022-07-28</td>\n",
       "      <td>1</td>\n",
       "      <td>4</td>\n",
       "      <td>1v4</td>\n",
       "      <td>Isabel</td>\n",
       "      <td>NaN</td>\n",
       "      <td>0:37-0:44</td>\n",
       "      <td>1.0</td>\n",
       "      <td>1:31-1:38</td>\n",
       "      <td>1.0</td>\n",
       "      <td>...</td>\n",
       "      <td>16:43-16:49</td>\n",
       "      <td>4.0</td>\n",
       "      <td>18:02-18:09</td>\n",
       "      <td>1.0</td>\n",
       "      <td>20:36-20:43</td>\n",
       "      <td>1.0</td>\n",
       "      <td>18.0</td>\n",
       "      <td>1.0</td>\n",
       "      <td>NaN</td>\n",
       "      <td>NaN</td>\n",
       "    </tr>\n",
       "    <tr>\n",
       "      <th>4</th>\n",
       "      <td>2022-07-28</td>\n",
       "      <td>1</td>\n",
       "      <td>1</td>\n",
       "      <td>2v4</td>\n",
       "      <td>Catalina</td>\n",
       "      <td>NaN</td>\n",
       "      <td>NaN</td>\n",
       "      <td>NaN</td>\n",
       "      <td>NaN</td>\n",
       "      <td>NaN</td>\n",
       "      <td>...</td>\n",
       "      <td>NaN</td>\n",
       "      <td>NaN</td>\n",
       "      <td>NaN</td>\n",
       "      <td>NaN</td>\n",
       "      <td>NaN</td>\n",
       "      <td>NaN</td>\n",
       "      <td>NaN</td>\n",
       "      <td>NaN</td>\n",
       "      <td>NaN</td>\n",
       "      <td>NaN</td>\n",
       "    </tr>\n",
       "  </tbody>\n",
       "</table>\n",
       "<p>5 rows × 48 columns</p>\n",
       "</div>"
      ],
      "text/plain": [
       "        Date  Cage  Box Match    Scorer  Trial 1 Time Trial 1 Winner  \\\n",
       "0 2022-07-28     1    1   1v2    Naeliz           NaN            NaN   \n",
       "1 2022-07-28     1    2   3v4     Erika           NaN            NaN   \n",
       "2 2022-07-28     1    3   2v3      Ezra           NaN            NaN   \n",
       "3 2022-07-28     1    4   1v4    Isabel           NaN      0:37-0:44   \n",
       "4 2022-07-28     1    1   2v4  Catalina           NaN            NaN   \n",
       "\n",
       "   Trial 2 Time  Trial 2 Winner  Trial 3 Time  ... Trial 17 Winner  \\\n",
       "0            NaN            NaN           NaN  ...             NaN   \n",
       "1            NaN            NaN           NaN  ...             NaN   \n",
       "2            NaN            NaN           NaN  ...             NaN   \n",
       "3            1.0      1:31-1:38           1.0  ...     16:43-16:49   \n",
       "4            NaN            NaN           NaN  ...             NaN   \n",
       "\n",
       "   Trial 18 Time Trial 18 Winner Trial 19 Time Trial 19 Winner Trial 20 Time  \\\n",
       "0            NaN             NaN           NaN             NaN           NaN   \n",
       "1            NaN             NaN           NaN             NaN           NaN   \n",
       "2            NaN             NaN           NaN             NaN           NaN   \n",
       "3            4.0     18:02-18:09           1.0     20:36-20:43           1.0   \n",
       "4            NaN             NaN           NaN             NaN           NaN   \n",
       "\n",
       "  Trial 20 Winner  Mouse 1 Wins Mouse 2 Wins  Ties   \n",
       "0             NaN           NaN          NaN    NaN  \n",
       "1             NaN           NaN          NaN    NaN  \n",
       "2             NaN           NaN          NaN    NaN  \n",
       "3            18.0           1.0          NaN    NaN  \n",
       "4             NaN           NaN          NaN    NaN  \n",
       "\n",
       "[5 rows x 48 columns]"
      ]
     },
     "execution_count": 56,
     "metadata": {},
     "output_type": "execute_result"
    }
   ],
   "source": [
    "copy_reward_competition_df.head()"
   ]
  },
  {
   "cell_type": "code",
   "execution_count": 57,
   "id": "bf0d13a1",
   "metadata": {},
   "outputs": [
    {
     "data": {
      "text/plain": [
       "Index(['Date', 'Cage', 'Box', 'Match', 'Scorer', 'Trial 1 Time',\n",
       "       'Trial 1 Winner', 'Trial 2 Time ', 'Trial 2 Winner', 'Trial 3 Time',\n",
       "       'Trial 3 Winner', 'Trial 4 Time', 'Trial 4 Winner', 'Trial 5 Time',\n",
       "       'Trial 5 Winner', 'Trial 6 Time', 'Trial 6 Winner', 'Trial 7 Time',\n",
       "       'Trial 7 Winner', 'Trial 8 Time', 'Trial 8 Winner', 'Trial 9 Time',\n",
       "       'Trial 9 Winner', 'Trial 10 Time ', 'Trial 10 Winner', 'Trial 11 Time',\n",
       "       'Trial 11 Winner', 'Trial 12 Time ', 'Trial 12 Winner', 'Trial 13 Time',\n",
       "       'Trial 13 Winner', 'Trial 14 Time', 'Trial 14 Winner', 'Trial 15 Time',\n",
       "       'Trial 15 Winner', 'Trial 16 Time ', 'Trial 16 Winner', 'Trial 17 Time',\n",
       "       'Trial 17 Winner', 'Trial 18 Time', 'Trial 18 Winner', 'Trial 19 Time',\n",
       "       'Trial 19 Winner', 'Trial 20 Time', 'Trial 20 Winner', 'Mouse 1 Wins',\n",
       "       'Mouse 2 Wins', 'Ties '],\n",
       "      dtype='object')"
      ]
     },
     "execution_count": 57,
     "metadata": {},
     "output_type": "execute_result"
    }
   ],
   "source": [
    "copy_reward_competition_df.columns"
   ]
  },
  {
   "cell_type": "code",
   "execution_count": 58,
   "id": "146827a6",
   "metadata": {},
   "outputs": [],
   "source": [
    "copy_reward_competition_df = copy_reward_competition_df.dropna(subset=[\"Trial 1 Winner\"])"
   ]
  },
  {
   "cell_type": "markdown",
   "id": "852d401f",
   "metadata": {},
   "source": [
    "## Removing Unnecessary Columns"
   ]
  },
  {
   "cell_type": "code",
   "execution_count": 59,
   "id": "16cf1433",
   "metadata": {},
   "outputs": [
    {
     "data": {
      "text/plain": [
       "Index(['Date', 'Cage', 'Box', 'Match', 'Scorer', 'Trial 1 Time',\n",
       "       'Trial 1 Winner', 'Trial 2 Time ', 'Trial 2 Winner', 'Trial 3 Time',\n",
       "       'Trial 3 Winner', 'Trial 4 Time', 'Trial 4 Winner', 'Trial 5 Time',\n",
       "       'Trial 5 Winner', 'Trial 6 Time', 'Trial 6 Winner', 'Trial 7 Time',\n",
       "       'Trial 7 Winner', 'Trial 8 Time', 'Trial 8 Winner', 'Trial 9 Time',\n",
       "       'Trial 9 Winner', 'Trial 10 Time ', 'Trial 10 Winner', 'Trial 11 Time',\n",
       "       'Trial 11 Winner', 'Trial 12 Time ', 'Trial 12 Winner', 'Trial 13 Time',\n",
       "       'Trial 13 Winner', 'Trial 14 Time', 'Trial 14 Winner', 'Trial 15 Time',\n",
       "       'Trial 15 Winner', 'Trial 16 Time ', 'Trial 16 Winner', 'Trial 17 Time',\n",
       "       'Trial 17 Winner', 'Trial 18 Time', 'Trial 18 Winner', 'Trial 19 Time',\n",
       "       'Trial 19 Winner', 'Trial 20 Time', 'Trial 20 Winner', 'Mouse 1 Wins',\n",
       "       'Mouse 2 Wins', 'Ties '],\n",
       "      dtype='object')"
      ]
     },
     "execution_count": 59,
     "metadata": {},
     "output_type": "execute_result"
    }
   ],
   "source": [
    "copy_reward_competition_df.columns"
   ]
  },
  {
   "cell_type": "code",
   "execution_count": 60,
   "id": "effed4ce",
   "metadata": {},
   "outputs": [],
   "source": [
    "copy_reward_competition_df = copy_reward_competition_df.drop([\"Mouse 1 Wins\", \"Mouse 2 Wins\", \"Ties \"], axis=1)"
   ]
  },
  {
   "cell_type": "code",
   "execution_count": 61,
   "id": "bf15b42c",
   "metadata": {},
   "outputs": [],
   "source": [
    "columns_to_keep = [col for col in copy_reward_competition_df.columns if \"winner\" not in col.lower().strip()]"
   ]
  },
  {
   "cell_type": "code",
   "execution_count": 62,
   "id": "2a64a402",
   "metadata": {},
   "outputs": [
    {
     "data": {
      "text/plain": [
       "['Date',\n",
       " 'Cage',\n",
       " 'Box',\n",
       " 'Match',\n",
       " 'Scorer',\n",
       " 'Trial 1 Time',\n",
       " 'Trial 2 Time ',\n",
       " 'Trial 3 Time',\n",
       " 'Trial 4 Time',\n",
       " 'Trial 5 Time',\n",
       " 'Trial 6 Time',\n",
       " 'Trial 7 Time',\n",
       " 'Trial 8 Time',\n",
       " 'Trial 9 Time',\n",
       " 'Trial 10 Time ',\n",
       " 'Trial 11 Time',\n",
       " 'Trial 12 Time ',\n",
       " 'Trial 13 Time',\n",
       " 'Trial 14 Time',\n",
       " 'Trial 15 Time',\n",
       " 'Trial 16 Time ',\n",
       " 'Trial 17 Time',\n",
       " 'Trial 18 Time',\n",
       " 'Trial 19 Time',\n",
       " 'Trial 20 Time']"
      ]
     },
     "execution_count": 62,
     "metadata": {},
     "output_type": "execute_result"
    }
   ],
   "source": [
    "columns_to_keep"
   ]
  },
  {
   "cell_type": "code",
   "execution_count": 68,
   "id": "bdc6c5fd",
   "metadata": {},
   "outputs": [],
   "source": [
    "copy_reward_competition_df = copy_reward_competition_df[columns_to_keep]"
   ]
  },
  {
   "cell_type": "markdown",
   "id": "038ed4af",
   "metadata": {},
   "source": [
    "## Add both IDs as a column"
   ]
  },
  {
   "cell_type": "code",
   "execution_count": 69,
   "id": "0d85ca17",
   "metadata": {},
   "outputs": [
    {
     "name": "stderr",
     "output_type": "stream",
     "text": [
      "/tmp/ipykernel_1409/1948837574.py:1: SettingWithCopyWarning: \n",
      "A value is trying to be set on a copy of a slice from a DataFrame.\n",
      "Try using .loc[row_indexer,col_indexer] = value instead\n",
      "\n",
      "See the caveats in the documentation: https://pandas.pydata.org/pandas-docs/stable/user_guide/indexing.html#returning-a-view-versus-a-copy\n",
      "  copy_reward_competition_df[\"animal_ids\"] = copy_reward_competition_df[\"Match\"].apply(lambda x: set(x.split(\"v\")))\n"
     ]
    }
   ],
   "source": [
    "copy_reward_competition_df[\"animal_ids\"] = copy_reward_competition_df[\"Match\"].apply(lambda x: set(x.split(\"v\")))"
   ]
  },
  {
   "cell_type": "code",
   "execution_count": 70,
   "id": "f1a0a009",
   "metadata": {
    "scrolled": true
   },
   "outputs": [
    {
     "data": {
      "text/html": [
       "<div>\n",
       "<style scoped>\n",
       "    .dataframe tbody tr th:only-of-type {\n",
       "        vertical-align: middle;\n",
       "    }\n",
       "\n",
       "    .dataframe tbody tr th {\n",
       "        vertical-align: top;\n",
       "    }\n",
       "\n",
       "    .dataframe thead th {\n",
       "        text-align: right;\n",
       "    }\n",
       "</style>\n",
       "<table border=\"1\" class=\"dataframe\">\n",
       "  <thead>\n",
       "    <tr style=\"text-align: right;\">\n",
       "      <th></th>\n",
       "      <th>Date</th>\n",
       "      <th>Cage</th>\n",
       "      <th>Box</th>\n",
       "      <th>Match</th>\n",
       "      <th>Scorer</th>\n",
       "      <th>Trial 1 Time</th>\n",
       "      <th>Trial 2 Time</th>\n",
       "      <th>Trial 3 Time</th>\n",
       "      <th>Trial 4 Time</th>\n",
       "      <th>Trial 5 Time</th>\n",
       "      <th>...</th>\n",
       "      <th>Trial 12 Time</th>\n",
       "      <th>Trial 13 Time</th>\n",
       "      <th>Trial 14 Time</th>\n",
       "      <th>Trial 15 Time</th>\n",
       "      <th>Trial 16 Time</th>\n",
       "      <th>Trial 17 Time</th>\n",
       "      <th>Trial 18 Time</th>\n",
       "      <th>Trial 19 Time</th>\n",
       "      <th>Trial 20 Time</th>\n",
       "      <th>animal_ids</th>\n",
       "    </tr>\n",
       "  </thead>\n",
       "  <tbody>\n",
       "    <tr>\n",
       "      <th>0</th>\n",
       "      <td>2022-07-28</td>\n",
       "      <td>1</td>\n",
       "      <td>4</td>\n",
       "      <td>1v4</td>\n",
       "      <td>Isabel</td>\n",
       "      <td>NaN</td>\n",
       "      <td>1.0</td>\n",
       "      <td>1.0</td>\n",
       "      <td>1.0</td>\n",
       "      <td>1</td>\n",
       "      <td>...</td>\n",
       "      <td>1</td>\n",
       "      <td>1.0</td>\n",
       "      <td>1.0</td>\n",
       "      <td>1</td>\n",
       "      <td>1.0</td>\n",
       "      <td>1</td>\n",
       "      <td>4.0</td>\n",
       "      <td>1.0</td>\n",
       "      <td>1.0</td>\n",
       "      <td>{4, 1}</td>\n",
       "    </tr>\n",
       "    <tr>\n",
       "      <th>1</th>\n",
       "      <td>2022-07-28</td>\n",
       "      <td>2</td>\n",
       "      <td>4</td>\n",
       "      <td>3v4</td>\n",
       "      <td>Naeliz</td>\n",
       "      <td>NaN</td>\n",
       "      <td>3.0</td>\n",
       "      <td>4.0</td>\n",
       "      <td>4.0</td>\n",
       "      <td>3</td>\n",
       "      <td>...</td>\n",
       "      <td>3</td>\n",
       "      <td>4.0</td>\n",
       "      <td>4.0</td>\n",
       "      <td>3</td>\n",
       "      <td>3.0</td>\n",
       "      <td>3</td>\n",
       "      <td>3.0</td>\n",
       "      <td>3.0</td>\n",
       "      <td>4.0</td>\n",
       "      <td>{3, 4}</td>\n",
       "    </tr>\n",
       "    <tr>\n",
       "      <th>2</th>\n",
       "      <td>2022-07-28</td>\n",
       "      <td>2</td>\n",
       "      <td>3</td>\n",
       "      <td>2v4</td>\n",
       "      <td>Isabel</td>\n",
       "      <td>NaN</td>\n",
       "      <td>2.0</td>\n",
       "      <td>2.0</td>\n",
       "      <td>2.0</td>\n",
       "      <td>2</td>\n",
       "      <td>...</td>\n",
       "      <td>4</td>\n",
       "      <td>2.0</td>\n",
       "      <td>4.0</td>\n",
       "      <td>4</td>\n",
       "      <td>2.0</td>\n",
       "      <td>4</td>\n",
       "      <td>4.0</td>\n",
       "      <td>2.0</td>\n",
       "      <td>2.0</td>\n",
       "      <td>{2, 4}</td>\n",
       "    </tr>\n",
       "    <tr>\n",
       "      <th>3</th>\n",
       "      <td>2022-07-28</td>\n",
       "      <td>3</td>\n",
       "      <td>2</td>\n",
       "      <td>1v3</td>\n",
       "      <td>Isabel</td>\n",
       "      <td>NaN</td>\n",
       "      <td>1.0</td>\n",
       "      <td>1.0</td>\n",
       "      <td>1.0</td>\n",
       "      <td>3</td>\n",
       "      <td>...</td>\n",
       "      <td>1</td>\n",
       "      <td>3.0</td>\n",
       "      <td>1.0</td>\n",
       "      <td>1</td>\n",
       "      <td>1.0</td>\n",
       "      <td>1</td>\n",
       "      <td>1.0</td>\n",
       "      <td>1.0</td>\n",
       "      <td>3.0</td>\n",
       "      <td>{3, 1}</td>\n",
       "    </tr>\n",
       "    <tr>\n",
       "      <th>4</th>\n",
       "      <td>2022-07-28</td>\n",
       "      <td>4</td>\n",
       "      <td>3</td>\n",
       "      <td>1v2</td>\n",
       "      <td>Meghan</td>\n",
       "      <td>NaN</td>\n",
       "      <td>1.0</td>\n",
       "      <td>2.0</td>\n",
       "      <td>2.0</td>\n",
       "      <td>1</td>\n",
       "      <td>...</td>\n",
       "      <td>2</td>\n",
       "      <td>1.0</td>\n",
       "      <td>2.0</td>\n",
       "      <td>2</td>\n",
       "      <td>2.0</td>\n",
       "      <td>2</td>\n",
       "      <td>1.0</td>\n",
       "      <td>2.0</td>\n",
       "      <td>1.0</td>\n",
       "      <td>{2, 1}</td>\n",
       "    </tr>\n",
       "    <tr>\n",
       "      <th>5</th>\n",
       "      <td>2022-07-28</td>\n",
       "      <td>4</td>\n",
       "      <td>1</td>\n",
       "      <td>2v3</td>\n",
       "      <td>Meghan</td>\n",
       "      <td>NaN</td>\n",
       "      <td>3.0</td>\n",
       "      <td>3.0</td>\n",
       "      <td>3.0</td>\n",
       "      <td>tie</td>\n",
       "      <td>...</td>\n",
       "      <td>tie</td>\n",
       "      <td>2.0</td>\n",
       "      <td>2.0</td>\n",
       "      <td>2</td>\n",
       "      <td>3.0</td>\n",
       "      <td>tie</td>\n",
       "      <td>2.0</td>\n",
       "      <td>2.0</td>\n",
       "      <td>2.0</td>\n",
       "      <td>{3, 2}</td>\n",
       "    </tr>\n",
       "    <tr>\n",
       "      <th>6</th>\n",
       "      <td>2022-07-28</td>\n",
       "      <td>4</td>\n",
       "      <td>2</td>\n",
       "      <td>1v4</td>\n",
       "      <td>Meghan</td>\n",
       "      <td>NaN</td>\n",
       "      <td>4.0</td>\n",
       "      <td>1.0</td>\n",
       "      <td>4.0</td>\n",
       "      <td>4</td>\n",
       "      <td>...</td>\n",
       "      <td>1</td>\n",
       "      <td>4.0</td>\n",
       "      <td>4.0</td>\n",
       "      <td>4</td>\n",
       "      <td>1.0</td>\n",
       "      <td>1</td>\n",
       "      <td>4.0</td>\n",
       "      <td>1.0</td>\n",
       "      <td>1.0</td>\n",
       "      <td>{4, 1}</td>\n",
       "    </tr>\n",
       "    <tr>\n",
       "      <th>7</th>\n",
       "      <td>2022-07-28</td>\n",
       "      <td>5</td>\n",
       "      <td>3</td>\n",
       "      <td>2v3</td>\n",
       "      <td>Isabel</td>\n",
       "      <td>NaN</td>\n",
       "      <td>3.0</td>\n",
       "      <td>3.0</td>\n",
       "      <td>3.0</td>\n",
       "      <td>3</td>\n",
       "      <td>...</td>\n",
       "      <td>2</td>\n",
       "      <td>2.0</td>\n",
       "      <td>2.0</td>\n",
       "      <td>tie*</td>\n",
       "      <td>2.0</td>\n",
       "      <td>2</td>\n",
       "      <td>2.0</td>\n",
       "      <td>2.0</td>\n",
       "      <td>2.0</td>\n",
       "      <td>{3, 2}</td>\n",
       "    </tr>\n",
       "    <tr>\n",
       "      <th>8</th>\n",
       "      <td>2022-07-28</td>\n",
       "      <td>6</td>\n",
       "      <td>2</td>\n",
       "      <td>1v4</td>\n",
       "      <td>Isabel</td>\n",
       "      <td>NaN</td>\n",
       "      <td>1.0</td>\n",
       "      <td>1.0</td>\n",
       "      <td>1.0</td>\n",
       "      <td>1</td>\n",
       "      <td>...</td>\n",
       "      <td>1</td>\n",
       "      <td>1.0</td>\n",
       "      <td>1.0</td>\n",
       "      <td>1</td>\n",
       "      <td>1.0</td>\n",
       "      <td>1</td>\n",
       "      <td>1.0</td>\n",
       "      <td>1.0</td>\n",
       "      <td>1.0</td>\n",
       "      <td>{4, 1}</td>\n",
       "    </tr>\n",
       "    <tr>\n",
       "      <th>9</th>\n",
       "      <td>2022-07-29</td>\n",
       "      <td>1</td>\n",
       "      <td>3</td>\n",
       "      <td>1v3</td>\n",
       "      <td>Naeliz</td>\n",
       "      <td>NaN</td>\n",
       "      <td>1.0</td>\n",
       "      <td>3.0</td>\n",
       "      <td>1.0</td>\n",
       "      <td>1</td>\n",
       "      <td>...</td>\n",
       "      <td>1</td>\n",
       "      <td>1.0</td>\n",
       "      <td>1.0</td>\n",
       "      <td>1</td>\n",
       "      <td>1.0</td>\n",
       "      <td>1</td>\n",
       "      <td>1.0</td>\n",
       "      <td>1.0</td>\n",
       "      <td>1.0</td>\n",
       "      <td>{3, 1}</td>\n",
       "    </tr>\n",
       "  </tbody>\n",
       "</table>\n",
       "<p>10 rows × 26 columns</p>\n",
       "</div>"
      ],
      "text/plain": [
       "        Date  Cage  Box Match  Scorer  Trial 1 Time  Trial 2 Time   \\\n",
       "0 2022-07-28     1    4   1v4  Isabel           NaN            1.0   \n",
       "1 2022-07-28     2    4   3v4  Naeliz           NaN            3.0   \n",
       "2 2022-07-28     2    3   2v4  Isabel           NaN            2.0   \n",
       "3 2022-07-28     3    2   1v3  Isabel           NaN            1.0   \n",
       "4 2022-07-28     4    3   1v2  Meghan           NaN            1.0   \n",
       "5 2022-07-28     4    1   2v3  Meghan           NaN            3.0   \n",
       "6 2022-07-28     4    2   1v4  Meghan           NaN            4.0   \n",
       "7 2022-07-28     5    3   2v3  Isabel           NaN            3.0   \n",
       "8 2022-07-28     6    2   1v4  Isabel           NaN            1.0   \n",
       "9 2022-07-29     1    3   1v3  Naeliz           NaN            1.0   \n",
       "\n",
       "   Trial 3 Time  Trial 4 Time Trial 5 Time  ... Trial 12 Time   Trial 13 Time  \\\n",
       "0           1.0           1.0            1  ...              1            1.0   \n",
       "1           4.0           4.0            3  ...              3            4.0   \n",
       "2           2.0           2.0            2  ...              4            2.0   \n",
       "3           1.0           1.0            3  ...              1            3.0   \n",
       "4           2.0           2.0            1  ...              2            1.0   \n",
       "5           3.0           3.0          tie  ...            tie            2.0   \n",
       "6           1.0           4.0            4  ...              1            4.0   \n",
       "7           3.0           3.0            3  ...              2            2.0   \n",
       "8           1.0           1.0            1  ...              1            1.0   \n",
       "9           3.0           1.0            1  ...              1            1.0   \n",
       "\n",
       "   Trial 14 Time Trial 15 Time Trial 16 Time   Trial 17 Time Trial 18 Time  \\\n",
       "0            1.0             1            1.0              1           4.0   \n",
       "1            4.0             3            3.0              3           3.0   \n",
       "2            4.0             4            2.0              4           4.0   \n",
       "3            1.0             1            1.0              1           1.0   \n",
       "4            2.0             2            2.0              2           1.0   \n",
       "5            2.0             2            3.0            tie           2.0   \n",
       "6            4.0             4            1.0              1           4.0   \n",
       "7            2.0          tie*            2.0              2           2.0   \n",
       "8            1.0             1            1.0              1           1.0   \n",
       "9            1.0             1            1.0              1           1.0   \n",
       "\n",
       "   Trial 19 Time  Trial 20 Time animal_ids  \n",
       "0            1.0            1.0     {4, 1}  \n",
       "1            3.0            4.0     {3, 4}  \n",
       "2            2.0            2.0     {2, 4}  \n",
       "3            1.0            3.0     {3, 1}  \n",
       "4            2.0            1.0     {2, 1}  \n",
       "5            2.0            2.0     {3, 2}  \n",
       "6            1.0            1.0     {4, 1}  \n",
       "7            2.0            2.0     {3, 2}  \n",
       "8            1.0            1.0     {4, 1}  \n",
       "9            1.0            1.0     {3, 1}  \n",
       "\n",
       "[10 rows x 26 columns]"
      ]
     },
     "execution_count": 70,
     "metadata": {},
     "output_type": "execute_result"
    }
   ],
   "source": [
    "copy_reward_competition_df"
   ]
  },
  {
   "cell_type": "markdown",
   "id": "3adb10cf",
   "metadata": {},
   "source": [
    "## Melt "
   ]
  },
  {
   "cell_type": "code",
   "execution_count": 71,
   "id": "5da7a9e6",
   "metadata": {},
   "outputs": [],
   "source": [
    "copy_reward_competition_df = copy_reward_competition_df.reset_index()"
   ]
  },
  {
   "cell_type": "code",
   "execution_count": 72,
   "id": "c686904c",
   "metadata": {},
   "outputs": [
    {
     "name": "stdout",
     "output_type": "stream",
     "text": [
      "index                               0\n",
      "Date              2022-07-28 00:00:00\n",
      "Cage                                1\n",
      "Box                                 4\n",
      "Match                             1v4\n",
      "Scorer                         Isabel\n",
      "Trial 1 Time                      NaN\n",
      "Trial 2 Time                      1.0\n",
      "Trial 3 Time                      1.0\n",
      "Trial 4 Time                      1.0\n",
      "Trial 5 Time                        1\n",
      "Trial 6 Time                        1\n",
      "Trial 7 Time                      1.0\n",
      "Trial 8 Time                      1.0\n",
      "Trial 9 Time                        1\n",
      "Trial 10 Time                       1\n",
      "Trial 11 Time                     1.0\n",
      "Trial 12 Time                       1\n",
      "Trial 13 Time                     1.0\n",
      "Trial 14 Time                     1.0\n",
      "Trial 15 Time                       1\n",
      "Trial 16 Time                     1.0\n",
      "Trial 17 Time                       1\n",
      "Trial 18 Time                     4.0\n",
      "Trial 19 Time                     1.0\n",
      "Trial 20 Time                     1.0\n",
      "animal_ids                     {4, 1}\n",
      "Name: 0, dtype: object\n"
     ]
    }
   ],
   "source": [
    "for index, row in copy_reward_competition_df.iterrows():\n",
    "    print(row)\n",
    "    break"
   ]
  },
  {
   "cell_type": "code",
   "execution_count": 73,
   "id": "778219ec",
   "metadata": {},
   "outputs": [],
   "source": [
    "melted_reward_competition_df = copy_reward_competition_df.melt(id_vars=[\"index\", \"Date\", \"Cage\", \"Box\", \"Match\", \"Scorer\", \"animal_ids\"], \n",
    "        var_name=\"Trial\", \n",
    "        value_name=\"Winner\")"
   ]
  },
  {
   "cell_type": "code",
   "execution_count": 67,
   "id": "a47c0d48",
   "metadata": {},
   "outputs": [
    {
     "data": {
      "text/html": [
       "<div>\n",
       "<style scoped>\n",
       "    .dataframe tbody tr th:only-of-type {\n",
       "        vertical-align: middle;\n",
       "    }\n",
       "\n",
       "    .dataframe tbody tr th {\n",
       "        vertical-align: top;\n",
       "    }\n",
       "\n",
       "    .dataframe thead th {\n",
       "        text-align: right;\n",
       "    }\n",
       "</style>\n",
       "<table border=\"1\" class=\"dataframe\">\n",
       "  <thead>\n",
       "    <tr style=\"text-align: right;\">\n",
       "      <th></th>\n",
       "      <th>index</th>\n",
       "      <th>Date</th>\n",
       "      <th>Cage</th>\n",
       "      <th>Box</th>\n",
       "      <th>Match</th>\n",
       "      <th>Scorer</th>\n",
       "      <th>animal_ids</th>\n",
       "      <th>Trial</th>\n",
       "      <th>Winner</th>\n",
       "    </tr>\n",
       "  </thead>\n",
       "  <tbody>\n",
       "    <tr>\n",
       "      <th>0</th>\n",
       "      <td>3</td>\n",
       "      <td>2022-07-28</td>\n",
       "      <td>1</td>\n",
       "      <td>4</td>\n",
       "      <td>1v4</td>\n",
       "      <td>Isabel</td>\n",
       "      <td>{4, 1}</td>\n",
       "      <td>Trial 1 Time</td>\n",
       "      <td>NaN</td>\n",
       "    </tr>\n",
       "    <tr>\n",
       "      <th>1</th>\n",
       "      <td>7</td>\n",
       "      <td>2022-07-28</td>\n",
       "      <td>2</td>\n",
       "      <td>4</td>\n",
       "      <td>3v4</td>\n",
       "      <td>Naeliz</td>\n",
       "      <td>{3, 4}</td>\n",
       "      <td>Trial 1 Time</td>\n",
       "      <td>NaN</td>\n",
       "    </tr>\n",
       "    <tr>\n",
       "      <th>2</th>\n",
       "      <td>10</td>\n",
       "      <td>2022-07-28</td>\n",
       "      <td>2</td>\n",
       "      <td>3</td>\n",
       "      <td>2v4</td>\n",
       "      <td>Isabel</td>\n",
       "      <td>{2, 4}</td>\n",
       "      <td>Trial 1 Time</td>\n",
       "      <td>NaN</td>\n",
       "    </tr>\n",
       "    <tr>\n",
       "      <th>3</th>\n",
       "      <td>17</td>\n",
       "      <td>2022-07-28</td>\n",
       "      <td>3</td>\n",
       "      <td>2</td>\n",
       "      <td>1v3</td>\n",
       "      <td>Isabel</td>\n",
       "      <td>{3, 1}</td>\n",
       "      <td>Trial 1 Time</td>\n",
       "      <td>NaN</td>\n",
       "    </tr>\n",
       "    <tr>\n",
       "      <th>4</th>\n",
       "      <td>18</td>\n",
       "      <td>2022-07-28</td>\n",
       "      <td>4</td>\n",
       "      <td>3</td>\n",
       "      <td>1v2</td>\n",
       "      <td>Meghan</td>\n",
       "      <td>{2, 1}</td>\n",
       "      <td>Trial 1 Time</td>\n",
       "      <td>NaN</td>\n",
       "    </tr>\n",
       "    <tr>\n",
       "      <th>...</th>\n",
       "      <td>...</td>\n",
       "      <td>...</td>\n",
       "      <td>...</td>\n",
       "      <td>...</td>\n",
       "      <td>...</td>\n",
       "      <td>...</td>\n",
       "      <td>...</td>\n",
       "      <td>...</td>\n",
       "      <td>...</td>\n",
       "    </tr>\n",
       "    <tr>\n",
       "      <th>395</th>\n",
       "      <td>20</td>\n",
       "      <td>2022-07-28</td>\n",
       "      <td>4</td>\n",
       "      <td>1</td>\n",
       "      <td>2v3</td>\n",
       "      <td>Meghan</td>\n",
       "      <td>{3, 2}</td>\n",
       "      <td>Trial 20 Winner</td>\n",
       "      <td>NaN</td>\n",
       "    </tr>\n",
       "    <tr>\n",
       "      <th>396</th>\n",
       "      <td>21</td>\n",
       "      <td>2022-07-28</td>\n",
       "      <td>4</td>\n",
       "      <td>2</td>\n",
       "      <td>1v4</td>\n",
       "      <td>Meghan</td>\n",
       "      <td>{4, 1}</td>\n",
       "      <td>Trial 20 Winner</td>\n",
       "      <td>NaN</td>\n",
       "    </tr>\n",
       "    <tr>\n",
       "      <th>397</th>\n",
       "      <td>26</td>\n",
       "      <td>2022-07-28</td>\n",
       "      <td>5</td>\n",
       "      <td>3</td>\n",
       "      <td>2v3</td>\n",
       "      <td>Isabel</td>\n",
       "      <td>{3, 2}</td>\n",
       "      <td>Trial 20 Winner</td>\n",
       "      <td>13.0</td>\n",
       "    </tr>\n",
       "    <tr>\n",
       "      <th>398</th>\n",
       "      <td>33</td>\n",
       "      <td>2022-07-28</td>\n",
       "      <td>6</td>\n",
       "      <td>2</td>\n",
       "      <td>1v4</td>\n",
       "      <td>Isabel</td>\n",
       "      <td>{4, 1}</td>\n",
       "      <td>Trial 20 Winner</td>\n",
       "      <td>19.0</td>\n",
       "    </tr>\n",
       "    <tr>\n",
       "      <th>399</th>\n",
       "      <td>36</td>\n",
       "      <td>2022-07-29</td>\n",
       "      <td>1</td>\n",
       "      <td>3</td>\n",
       "      <td>1v3</td>\n",
       "      <td>Naeliz</td>\n",
       "      <td>{3, 1}</td>\n",
       "      <td>Trial 20 Winner</td>\n",
       "      <td>18.0</td>\n",
       "    </tr>\n",
       "  </tbody>\n",
       "</table>\n",
       "<p>400 rows × 9 columns</p>\n",
       "</div>"
      ],
      "text/plain": [
       "     index       Date  Cage  Box Match  Scorer animal_ids            Trial  \\\n",
       "0        3 2022-07-28     1    4   1v4  Isabel     {4, 1}     Trial 1 Time   \n",
       "1        7 2022-07-28     2    4   3v4  Naeliz     {3, 4}     Trial 1 Time   \n",
       "2       10 2022-07-28     2    3   2v4  Isabel     {2, 4}     Trial 1 Time   \n",
       "3       17 2022-07-28     3    2   1v3  Isabel     {3, 1}     Trial 1 Time   \n",
       "4       18 2022-07-28     4    3   1v2  Meghan     {2, 1}     Trial 1 Time   \n",
       "..     ...        ...   ...  ...   ...     ...        ...              ...   \n",
       "395     20 2022-07-28     4    1   2v3  Meghan     {3, 2}  Trial 20 Winner   \n",
       "396     21 2022-07-28     4    2   1v4  Meghan     {4, 1}  Trial 20 Winner   \n",
       "397     26 2022-07-28     5    3   2v3  Isabel     {3, 2}  Trial 20 Winner   \n",
       "398     33 2022-07-28     6    2   1v4  Isabel     {4, 1}  Trial 20 Winner   \n",
       "399     36 2022-07-29     1    3   1v3  Naeliz     {3, 1}  Trial 20 Winner   \n",
       "\n",
       "    Winner  \n",
       "0      NaN  \n",
       "1      NaN  \n",
       "2      NaN  \n",
       "3      NaN  \n",
       "4      NaN  \n",
       "..     ...  \n",
       "395    NaN  \n",
       "396    NaN  \n",
       "397   13.0  \n",
       "398   19.0  \n",
       "399   18.0  \n",
       "\n",
       "[400 rows x 9 columns]"
      ]
     },
     "execution_count": 67,
     "metadata": {},
     "output_type": "execute_result"
    }
   ],
   "source": [
    "melted_reward_competition_df"
   ]
  },
  {
   "cell_type": "markdown",
   "id": "705b0acb",
   "metadata": {},
   "source": [
    "- Dropping all rows that don't contain Winner"
   ]
  },
  {
   "cell_type": "code",
   "execution_count": 22,
   "id": "0564654b",
   "metadata": {},
   "outputs": [],
   "source": [
    "melted_reward_competition_df = melted_reward_competition_df[melted_reward_competition_df[\"Trial\"].str.contains(\"Winner\")]"
   ]
  },
  {
   "cell_type": "code",
   "execution_count": 23,
   "id": "a4c06042",
   "metadata": {},
   "outputs": [],
   "source": [
    "melted_reward_competition_df = melted_reward_competition_df.dropna(subset=\"Winner\")"
   ]
  },
  {
   "cell_type": "code",
   "execution_count": 24,
   "id": "9c95882d",
   "metadata": {},
   "outputs": [],
   "source": [
    "melted_reward_competition_df[\"trial_number\"] = melted_reward_competition_df[\"Trial\"].apply(lambda x: int(x.lower().strip(\"trial\").strip(\"winner\")))"
   ]
  },
  {
   "cell_type": "code",
   "execution_count": 25,
   "id": "67affc21",
   "metadata": {},
   "outputs": [],
   "source": [
    "melted_reward_competition_df = melted_reward_competition_df.sort_values([\"index\", \"trial_number\"])"
   ]
  },
  {
   "cell_type": "code",
   "execution_count": 26,
   "id": "af0ba03a",
   "metadata": {},
   "outputs": [
    {
     "data": {
      "text/html": [
       "<div>\n",
       "<style scoped>\n",
       "    .dataframe tbody tr th:only-of-type {\n",
       "        vertical-align: middle;\n",
       "    }\n",
       "\n",
       "    .dataframe tbody tr th {\n",
       "        vertical-align: top;\n",
       "    }\n",
       "\n",
       "    .dataframe thead th {\n",
       "        text-align: right;\n",
       "    }\n",
       "</style>\n",
       "<table border=\"1\" class=\"dataframe\">\n",
       "  <thead>\n",
       "    <tr style=\"text-align: right;\">\n",
       "      <th></th>\n",
       "      <th>index</th>\n",
       "      <th>Date</th>\n",
       "      <th>Cage</th>\n",
       "      <th>Box</th>\n",
       "      <th>Match</th>\n",
       "      <th>Scorer</th>\n",
       "      <th>animal_ids</th>\n",
       "      <th>Trial</th>\n",
       "      <th>Winner</th>\n",
       "      <th>trial_number</th>\n",
       "    </tr>\n",
       "  </thead>\n",
       "  <tbody>\n",
       "    <tr>\n",
       "      <th>10</th>\n",
       "      <td>3</td>\n",
       "      <td>2022-07-28</td>\n",
       "      <td>1</td>\n",
       "      <td>4</td>\n",
       "      <td>1v4</td>\n",
       "      <td>Isabel</td>\n",
       "      <td>{4, 1}</td>\n",
       "      <td>Trial 1 Winner</td>\n",
       "      <td>0:37-0:44</td>\n",
       "      <td>1</td>\n",
       "    </tr>\n",
       "    <tr>\n",
       "      <th>30</th>\n",
       "      <td>3</td>\n",
       "      <td>2022-07-28</td>\n",
       "      <td>1</td>\n",
       "      <td>4</td>\n",
       "      <td>1v4</td>\n",
       "      <td>Isabel</td>\n",
       "      <td>{4, 1}</td>\n",
       "      <td>Trial 2 Winner</td>\n",
       "      <td>1:31-1:38</td>\n",
       "      <td>2</td>\n",
       "    </tr>\n",
       "    <tr>\n",
       "      <th>50</th>\n",
       "      <td>3</td>\n",
       "      <td>2022-07-28</td>\n",
       "      <td>1</td>\n",
       "      <td>4</td>\n",
       "      <td>1v4</td>\n",
       "      <td>Isabel</td>\n",
       "      <td>{4, 1}</td>\n",
       "      <td>Trial 3 Winner</td>\n",
       "      <td>2:31-2:38</td>\n",
       "      <td>3</td>\n",
       "    </tr>\n",
       "    <tr>\n",
       "      <th>70</th>\n",
       "      <td>3</td>\n",
       "      <td>2022-07-28</td>\n",
       "      <td>1</td>\n",
       "      <td>4</td>\n",
       "      <td>1v4</td>\n",
       "      <td>Isabel</td>\n",
       "      <td>{4, 1}</td>\n",
       "      <td>Trial 4 Winner</td>\n",
       "      <td>3:24-3:30</td>\n",
       "      <td>4</td>\n",
       "    </tr>\n",
       "    <tr>\n",
       "      <th>90</th>\n",
       "      <td>3</td>\n",
       "      <td>2022-07-28</td>\n",
       "      <td>1</td>\n",
       "      <td>4</td>\n",
       "      <td>1v4</td>\n",
       "      <td>Isabel</td>\n",
       "      <td>{4, 1}</td>\n",
       "      <td>Trial 5 Winner</td>\n",
       "      <td>4:14-4:21</td>\n",
       "      <td>5</td>\n",
       "    </tr>\n",
       "  </tbody>\n",
       "</table>\n",
       "</div>"
      ],
      "text/plain": [
       "    index       Date  Cage  Box Match  Scorer animal_ids           Trial  \\\n",
       "10      3 2022-07-28     1    4   1v4  Isabel     {4, 1}  Trial 1 Winner   \n",
       "30      3 2022-07-28     1    4   1v4  Isabel     {4, 1}  Trial 2 Winner   \n",
       "50      3 2022-07-28     1    4   1v4  Isabel     {4, 1}  Trial 3 Winner   \n",
       "70      3 2022-07-28     1    4   1v4  Isabel     {4, 1}  Trial 4 Winner   \n",
       "90      3 2022-07-28     1    4   1v4  Isabel     {4, 1}  Trial 5 Winner   \n",
       "\n",
       "       Winner  trial_number  \n",
       "10  0:37-0:44             1  \n",
       "30  1:31-1:38             2  \n",
       "50  2:31-2:38             3  \n",
       "70  3:24-3:30             4  \n",
       "90  4:14-4:21             5  "
      ]
     },
     "execution_count": 26,
     "metadata": {},
     "output_type": "execute_result"
    }
   ],
   "source": [
    "melted_reward_competition_df.head()"
   ]
  },
  {
   "cell_type": "code",
   "execution_count": 27,
   "id": "923b7c24",
   "metadata": {},
   "outputs": [
    {
     "data": {
      "text/plain": [
       "array([ 1,  2,  3,  4,  5,  6,  7,  8,  9, 10, 11, 12, 13, 14, 15, 16, 17,\n",
       "       18, 19, 20])"
      ]
     },
     "execution_count": 27,
     "metadata": {},
     "output_type": "execute_result"
    }
   ],
   "source": [
    "melted_reward_competition_df[\"trial_number\"].unique()"
   ]
  },
  {
   "cell_type": "code",
   "execution_count": 28,
   "id": "0e7a4a2c",
   "metadata": {},
   "outputs": [],
   "source": [
    "melted_reward_competition_df[\"winner_id\"] = melted_reward_competition_df[\"Winner\"].astype(str).apply(lambda x: x.split(\".\")[0])"
   ]
  },
  {
   "cell_type": "code",
   "execution_count": 36,
   "id": "65e49b9b",
   "metadata": {},
   "outputs": [
    {
     "data": {
      "text/plain": [
       "array(['0:37-0:44', '1:31-1:38', '2:31-2:38', '3:24-3:30', '4:14-4:21',\n",
       "       '5:20-5:27', '6:24-6:31', '7:23-7:30', '8:17-8:23', '9:17-9:23',\n",
       "       '10:23-10:29', '11:23-11:30', '12:43-12:50', '13:43-13:50',\n",
       "       '14:40-14:48', '15:39-15:46', '16:43-16:49', '18:02-18:09',\n",
       "       '20:36-20:43', 18.0, '0:36-0:43', '1:29-1:38', '02:29-02:38',\n",
       "       '3:22-3:29', '4:12-4:19', '5:19-5:26', '6:22-6:30', '7:23-7:29',\n",
       "       '8:15-8:22', '9:15-9:23', '10:22-10:29', '11:22-11:29',\n",
       "       '12:42-12:50', '13:42-13:50', '14:39-14:47', '15:38-15:47',\n",
       "       '16:41-16:49', '18:01-18:08', '18:55-19:01', 13.0, '1:30-1:36',\n",
       "       '2:29-2:36', '3:22-3:28', '4:12-4:18', '5:18-5:25', '6:22-6:28',\n",
       "       '7:22-7:29', '9:15-9:21', '10:22-10:28', '11:21-11:28',\n",
       "       '12:41-12:47', '13:41-13:48', '14:38-14:44', '15:38-15:44',\n",
       "       '16:40-16:47', '18:00-18:07', '18:56-19:00', 10.0, '1:30- 1:37',\n",
       "       '4:14-4:20', '10:23-10:30', '12:43-12:49', '14:40-14:46',\n",
       "       '15:39-15:45', '16:42-16:49', '18:56-19:03', 14.0, '0:47-0:54',\n",
       "       '1:53-2:00', '3:08-3:16', '4:15-4:22', '5:17-5:24', '6:40-6:47',\n",
       "       '7:59-8:06', '9:14-9:21', '10:20-10:27', '11:35-11:42',\n",
       "       '12:52-12:59', '14:07-14:14', '15:46-15:53', '17:01-17:08',\n",
       "       '18:12-18:19', '19:27-19:34', '20:45-20:52', '22:25-22:32',\n",
       "       '23:32-23:39', '0:48-0:55', '1:55-2:02', '3:10-3:17', '4:20-4:27',\n",
       "       '5:23-5:30', '6:47-6:54', '8:07-8:14', '9:22-9:29', '10:30-10:37',\n",
       "       '11:45-11:52', '13:08-13:15', '14:23-14:30', '16:04-16:11',\n",
       "       '17:22-17:29', '18:32-18:41', '19:50-19:57', '21:08-21:16',\n",
       "       '22:48-22:56', '23:57-24:06', '3:07-3:14', '4:13-4:20',\n",
       "       '5:15-5:22', '6:39-6:46', '7:58-8:05', '9:13-9:20', '11:34-11:41',\n",
       "       '12:57-13:06', '14:12-14:19', '15:51-16:00', '17:06-17:13',\n",
       "       '18:17-18:24', '19:33-19:40', '20:51-20:58', '22:31-22:38',\n",
       "       '23:37-23:44', '0:43-0:50', '1:38-1:45', '2:47-2:55', '3:54-4:03',\n",
       "       '4:57-5:05', '6:20-6:28', '7:32-7:39', '8:32-8:39', '9:31-9:40 ',\n",
       "       '10:46-10:55', '12:09-12:18', '12:24-12:32', '15:04-15:13',\n",
       "       '16:19-16:27', '17:26-17:35', '18:41-18:49', '20:00-20:08',\n",
       "       '21:32-21:40', '22:36-22:44', '0:47-0:55', '1:54-2:02',\n",
       "       '3:09-3:17', '4:15-4:24', '5:18-5:26', '6:41-6:49', '8:00-8:08',\n",
       "       '9:14-9:22', '10:21-10:29', '11:36-11:44', '12:58-13:07',\n",
       "       '14:13-14:22', '15:53-16:01', '17:08-17:16', '18:19-18:27',\n",
       "       '19:33-19:42', '20:52-21:01', '22:32-22:41', 19.0, '0:39-0:49',\n",
       "       '1:31-1:41', '2:32-2:42', '3:26-3:34', '4:16-4:22', '5:22-5:29',\n",
       "       '6:26-6:32', '7:25-7:31', '8:18-8:26', '9:19-9:24', '10:25-10:31',\n",
       "       '11:26-11:32', '12:45-12:51', '13:45-13:51', '14:41-14:49',\n",
       "       '15:40-15:48', '16:45-16:51', '18:05-18:11', '18:58-19:04'],\n",
       "      dtype=object)"
      ]
     },
     "execution_count": 36,
     "metadata": {},
     "output_type": "execute_result"
    }
   ],
   "source": [
    "melted_reward_competition_df[\"Winner\"].unique()"
   ]
  },
  {
   "cell_type": "markdown",
   "id": "9fcce421",
   "metadata": {},
   "source": [
    "## Add a column for the loser ID"
   ]
  },
  {
   "cell_type": "code",
   "execution_count": 33,
   "id": "2e5713c5",
   "metadata": {},
   "outputs": [
    {
     "data": {
      "text/plain": [
       "Index(['index', 'Date', 'Cage', 'Box', 'Match', 'Scorer', 'animal_ids',\n",
       "       'Trial', 'Winner', 'trial_number', 'winner_id'],\n",
       "      dtype='object')"
      ]
     },
     "execution_count": 33,
     "metadata": {},
     "output_type": "execute_result"
    }
   ],
   "source": [
    "melted_reward_competition_df.columns"
   ]
  },
  {
   "cell_type": "code",
   "execution_count": 31,
   "id": "e19a723d",
   "metadata": {
    "scrolled": true
   },
   "outputs": [
    {
     "ename": "TypeError",
     "evalue": "unhashable type: 'set'",
     "output_type": "error",
     "traceback": [
      "\u001b[0;31m---------------------------------------------------------------------------\u001b[0m",
      "\u001b[0;31mTypeError\u001b[0m                                 Traceback (most recent call last)",
      "Input \u001b[0;32mIn [31]\u001b[0m, in \u001b[0;36m<cell line: 1>\u001b[0;34m()\u001b[0m\n\u001b[0;32m----> 1\u001b[0m \u001b[43mmelted_reward_competition_df\u001b[49m\u001b[43m[\u001b[49m\u001b[38;5;124;43m\"\u001b[39;49m\u001b[38;5;124;43manimal_ids\u001b[39;49m\u001b[38;5;124;43m\"\u001b[39;49m\u001b[43m]\u001b[49m\u001b[38;5;241;43m.\u001b[39;49m\u001b[43munique\u001b[49m\u001b[43m(\u001b[49m\u001b[43m)\u001b[49m\n",
      "File \u001b[0;32m~/projects/behavioral_dataframe_processing/behavioral_processing_env/lib/python3.9/site-packages/pandas/core/series.py:2088\u001b[0m, in \u001b[0;36mSeries.unique\u001b[0;34m(self)\u001b[0m\n\u001b[1;32m   2030\u001b[0m \u001b[38;5;28;01mdef\u001b[39;00m \u001b[38;5;21munique\u001b[39m(\u001b[38;5;28mself\u001b[39m) \u001b[38;5;241m-\u001b[39m\u001b[38;5;241m>\u001b[39m ArrayLike:\n\u001b[1;32m   2031\u001b[0m     \u001b[38;5;124;03m\"\"\"\u001b[39;00m\n\u001b[1;32m   2032\u001b[0m \u001b[38;5;124;03m    Return unique values of Series object.\u001b[39;00m\n\u001b[1;32m   2033\u001b[0m \n\u001b[0;32m   (...)\u001b[0m\n\u001b[1;32m   2086\u001b[0m \u001b[38;5;124;03m    Categories (3, object): ['a' < 'b' < 'c']\u001b[39;00m\n\u001b[1;32m   2087\u001b[0m \u001b[38;5;124;03m    \"\"\"\u001b[39;00m\n\u001b[0;32m-> 2088\u001b[0m     \u001b[38;5;28;01mreturn\u001b[39;00m \u001b[38;5;28;43msuper\u001b[39;49m\u001b[43m(\u001b[49m\u001b[43m)\u001b[49m\u001b[38;5;241;43m.\u001b[39;49m\u001b[43munique\u001b[49m\u001b[43m(\u001b[49m\u001b[43m)\u001b[49m\n",
      "File \u001b[0;32m~/projects/behavioral_dataframe_processing/behavioral_processing_env/lib/python3.9/site-packages/pandas/core/base.py:989\u001b[0m, in \u001b[0;36mIndexOpsMixin.unique\u001b[0;34m(self)\u001b[0m\n\u001b[1;32m    987\u001b[0m             result \u001b[38;5;241m=\u001b[39m np\u001b[38;5;241m.\u001b[39masarray(result)\n\u001b[1;32m    988\u001b[0m \u001b[38;5;28;01melse\u001b[39;00m:\n\u001b[0;32m--> 989\u001b[0m     result \u001b[38;5;241m=\u001b[39m \u001b[43munique1d\u001b[49m\u001b[43m(\u001b[49m\u001b[43mvalues\u001b[49m\u001b[43m)\u001b[49m\n\u001b[1;32m    991\u001b[0m \u001b[38;5;28;01mreturn\u001b[39;00m result\n",
      "File \u001b[0;32m~/projects/behavioral_dataframe_processing/behavioral_processing_env/lib/python3.9/site-packages/pandas/core/algorithms.py:440\u001b[0m, in \u001b[0;36munique\u001b[0;34m(values)\u001b[0m\n\u001b[1;32m    437\u001b[0m htable, values \u001b[38;5;241m=\u001b[39m _get_hashtable_algo(values)\n\u001b[1;32m    439\u001b[0m table \u001b[38;5;241m=\u001b[39m htable(\u001b[38;5;28mlen\u001b[39m(values))\n\u001b[0;32m--> 440\u001b[0m uniques \u001b[38;5;241m=\u001b[39m \u001b[43mtable\u001b[49m\u001b[38;5;241;43m.\u001b[39;49m\u001b[43munique\u001b[49m\u001b[43m(\u001b[49m\u001b[43mvalues\u001b[49m\u001b[43m)\u001b[49m\n\u001b[1;32m    441\u001b[0m uniques \u001b[38;5;241m=\u001b[39m _reconstruct_data(uniques, original\u001b[38;5;241m.\u001b[39mdtype, original)\n\u001b[1;32m    442\u001b[0m \u001b[38;5;28;01mreturn\u001b[39;00m uniques\n",
      "File \u001b[0;32mpandas/_libs/hashtable_class_helper.pxi:5361\u001b[0m, in \u001b[0;36mpandas._libs.hashtable.PyObjectHashTable.unique\u001b[0;34m()\u001b[0m\n",
      "File \u001b[0;32mpandas/_libs/hashtable_class_helper.pxi:5310\u001b[0m, in \u001b[0;36mpandas._libs.hashtable.PyObjectHashTable._unique\u001b[0;34m()\u001b[0m\n",
      "\u001b[0;31mTypeError\u001b[0m: unhashable type: 'set'"
     ]
    }
   ],
   "source": [
    "melted_reward_competition_df[\"animal_ids\"].unique()"
   ]
  },
  {
   "cell_type": "code",
   "execution_count": 34,
   "id": "c8490865",
   "metadata": {},
   "outputs": [],
   "source": [
    "melted_reward_competition_df[\"loser_id\"] = melted_reward_competition_df.apply(lambda x: (list(x[\"animal_ids\"] - set(x[\"winner_id\"]))), axis=1)"
   ]
  },
  {
   "cell_type": "code",
   "execution_count": 35,
   "id": "913cde32",
   "metadata": {},
   "outputs": [
    {
     "data": {
      "text/html": [
       "<div>\n",
       "<style scoped>\n",
       "    .dataframe tbody tr th:only-of-type {\n",
       "        vertical-align: middle;\n",
       "    }\n",
       "\n",
       "    .dataframe tbody tr th {\n",
       "        vertical-align: top;\n",
       "    }\n",
       "\n",
       "    .dataframe thead th {\n",
       "        text-align: right;\n",
       "    }\n",
       "</style>\n",
       "<table border=\"1\" class=\"dataframe\">\n",
       "  <thead>\n",
       "    <tr style=\"text-align: right;\">\n",
       "      <th></th>\n",
       "      <th>index</th>\n",
       "      <th>Date</th>\n",
       "      <th>Cage</th>\n",
       "      <th>Box</th>\n",
       "      <th>Match</th>\n",
       "      <th>Scorer</th>\n",
       "      <th>animal_ids</th>\n",
       "      <th>Trial</th>\n",
       "      <th>Winner</th>\n",
       "      <th>trial_number</th>\n",
       "      <th>winner_id</th>\n",
       "      <th>loser_id</th>\n",
       "    </tr>\n",
       "  </thead>\n",
       "  <tbody>\n",
       "    <tr>\n",
       "      <th>10</th>\n",
       "      <td>3</td>\n",
       "      <td>2022-07-28</td>\n",
       "      <td>1</td>\n",
       "      <td>4</td>\n",
       "      <td>1v4</td>\n",
       "      <td>Isabel</td>\n",
       "      <td>{4, 1}</td>\n",
       "      <td>Trial 1 Winner</td>\n",
       "      <td>0:37-0:44</td>\n",
       "      <td>1</td>\n",
       "      <td>0:37-0:44</td>\n",
       "      <td>[1]</td>\n",
       "    </tr>\n",
       "    <tr>\n",
       "      <th>30</th>\n",
       "      <td>3</td>\n",
       "      <td>2022-07-28</td>\n",
       "      <td>1</td>\n",
       "      <td>4</td>\n",
       "      <td>1v4</td>\n",
       "      <td>Isabel</td>\n",
       "      <td>{4, 1}</td>\n",
       "      <td>Trial 2 Winner</td>\n",
       "      <td>1:31-1:38</td>\n",
       "      <td>2</td>\n",
       "      <td>1:31-1:38</td>\n",
       "      <td>[4]</td>\n",
       "    </tr>\n",
       "    <tr>\n",
       "      <th>50</th>\n",
       "      <td>3</td>\n",
       "      <td>2022-07-28</td>\n",
       "      <td>1</td>\n",
       "      <td>4</td>\n",
       "      <td>1v4</td>\n",
       "      <td>Isabel</td>\n",
       "      <td>{4, 1}</td>\n",
       "      <td>Trial 3 Winner</td>\n",
       "      <td>2:31-2:38</td>\n",
       "      <td>3</td>\n",
       "      <td>2:31-2:38</td>\n",
       "      <td>[4]</td>\n",
       "    </tr>\n",
       "    <tr>\n",
       "      <th>70</th>\n",
       "      <td>3</td>\n",
       "      <td>2022-07-28</td>\n",
       "      <td>1</td>\n",
       "      <td>4</td>\n",
       "      <td>1v4</td>\n",
       "      <td>Isabel</td>\n",
       "      <td>{4, 1}</td>\n",
       "      <td>Trial 4 Winner</td>\n",
       "      <td>3:24-3:30</td>\n",
       "      <td>4</td>\n",
       "      <td>3:24-3:30</td>\n",
       "      <td>[1]</td>\n",
       "    </tr>\n",
       "    <tr>\n",
       "      <th>90</th>\n",
       "      <td>3</td>\n",
       "      <td>2022-07-28</td>\n",
       "      <td>1</td>\n",
       "      <td>4</td>\n",
       "      <td>1v4</td>\n",
       "      <td>Isabel</td>\n",
       "      <td>{4, 1}</td>\n",
       "      <td>Trial 5 Winner</td>\n",
       "      <td>4:14-4:21</td>\n",
       "      <td>5</td>\n",
       "      <td>4:14-4:21</td>\n",
       "      <td>[]</td>\n",
       "    </tr>\n",
       "    <tr>\n",
       "      <th>...</th>\n",
       "      <td>...</td>\n",
       "      <td>...</td>\n",
       "      <td>...</td>\n",
       "      <td>...</td>\n",
       "      <td>...</td>\n",
       "      <td>...</td>\n",
       "      <td>...</td>\n",
       "      <td>...</td>\n",
       "      <td>...</td>\n",
       "      <td>...</td>\n",
       "      <td>...</td>\n",
       "      <td>...</td>\n",
       "    </tr>\n",
       "    <tr>\n",
       "      <th>319</th>\n",
       "      <td>36</td>\n",
       "      <td>2022-07-29</td>\n",
       "      <td>1</td>\n",
       "      <td>3</td>\n",
       "      <td>1v3</td>\n",
       "      <td>Naeliz</td>\n",
       "      <td>{3, 1}</td>\n",
       "      <td>Trial 16 Winner</td>\n",
       "      <td>15:40-15:48</td>\n",
       "      <td>16</td>\n",
       "      <td>15:40-15:48</td>\n",
       "      <td>[3]</td>\n",
       "    </tr>\n",
       "    <tr>\n",
       "      <th>339</th>\n",
       "      <td>36</td>\n",
       "      <td>2022-07-29</td>\n",
       "      <td>1</td>\n",
       "      <td>3</td>\n",
       "      <td>1v3</td>\n",
       "      <td>Naeliz</td>\n",
       "      <td>{3, 1}</td>\n",
       "      <td>Trial 17 Winner</td>\n",
       "      <td>16:45-16:51</td>\n",
       "      <td>17</td>\n",
       "      <td>16:45-16:51</td>\n",
       "      <td>[3]</td>\n",
       "    </tr>\n",
       "    <tr>\n",
       "      <th>359</th>\n",
       "      <td>36</td>\n",
       "      <td>2022-07-29</td>\n",
       "      <td>1</td>\n",
       "      <td>3</td>\n",
       "      <td>1v3</td>\n",
       "      <td>Naeliz</td>\n",
       "      <td>{3, 1}</td>\n",
       "      <td>Trial 18 Winner</td>\n",
       "      <td>18:05-18:11</td>\n",
       "      <td>18</td>\n",
       "      <td>18:05-18:11</td>\n",
       "      <td>[3]</td>\n",
       "    </tr>\n",
       "    <tr>\n",
       "      <th>379</th>\n",
       "      <td>36</td>\n",
       "      <td>2022-07-29</td>\n",
       "      <td>1</td>\n",
       "      <td>3</td>\n",
       "      <td>1v3</td>\n",
       "      <td>Naeliz</td>\n",
       "      <td>{3, 1}</td>\n",
       "      <td>Trial 19 Winner</td>\n",
       "      <td>18:58-19:04</td>\n",
       "      <td>19</td>\n",
       "      <td>18:58-19:04</td>\n",
       "      <td>[3]</td>\n",
       "    </tr>\n",
       "    <tr>\n",
       "      <th>399</th>\n",
       "      <td>36</td>\n",
       "      <td>2022-07-29</td>\n",
       "      <td>1</td>\n",
       "      <td>3</td>\n",
       "      <td>1v3</td>\n",
       "      <td>Naeliz</td>\n",
       "      <td>{3, 1}</td>\n",
       "      <td>Trial 20 Winner</td>\n",
       "      <td>18.0</td>\n",
       "      <td>20</td>\n",
       "      <td>18</td>\n",
       "      <td>[3]</td>\n",
       "    </tr>\n",
       "  </tbody>\n",
       "</table>\n",
       "<p>197 rows × 12 columns</p>\n",
       "</div>"
      ],
      "text/plain": [
       "     index       Date  Cage  Box Match  Scorer animal_ids            Trial  \\\n",
       "10       3 2022-07-28     1    4   1v4  Isabel     {4, 1}   Trial 1 Winner   \n",
       "30       3 2022-07-28     1    4   1v4  Isabel     {4, 1}   Trial 2 Winner   \n",
       "50       3 2022-07-28     1    4   1v4  Isabel     {4, 1}   Trial 3 Winner   \n",
       "70       3 2022-07-28     1    4   1v4  Isabel     {4, 1}   Trial 4 Winner   \n",
       "90       3 2022-07-28     1    4   1v4  Isabel     {4, 1}   Trial 5 Winner   \n",
       "..     ...        ...   ...  ...   ...     ...        ...              ...   \n",
       "319     36 2022-07-29     1    3   1v3  Naeliz     {3, 1}  Trial 16 Winner   \n",
       "339     36 2022-07-29     1    3   1v3  Naeliz     {3, 1}  Trial 17 Winner   \n",
       "359     36 2022-07-29     1    3   1v3  Naeliz     {3, 1}  Trial 18 Winner   \n",
       "379     36 2022-07-29     1    3   1v3  Naeliz     {3, 1}  Trial 19 Winner   \n",
       "399     36 2022-07-29     1    3   1v3  Naeliz     {3, 1}  Trial 20 Winner   \n",
       "\n",
       "          Winner  trial_number    winner_id loser_id  \n",
       "10     0:37-0:44             1    0:37-0:44      [1]  \n",
       "30     1:31-1:38             2    1:31-1:38      [4]  \n",
       "50     2:31-2:38             3    2:31-2:38      [4]  \n",
       "70     3:24-3:30             4    3:24-3:30      [1]  \n",
       "90     4:14-4:21             5    4:14-4:21       []  \n",
       "..           ...           ...          ...      ...  \n",
       "319  15:40-15:48            16  15:40-15:48      [3]  \n",
       "339  16:45-16:51            17  16:45-16:51      [3]  \n",
       "359  18:05-18:11            18  18:05-18:11      [3]  \n",
       "379  18:58-19:04            19  18:58-19:04      [3]  \n",
       "399         18.0            20           18      [3]  \n",
       "\n",
       "[197 rows x 12 columns]"
      ]
     },
     "execution_count": 35,
     "metadata": {},
     "output_type": "execute_result"
    }
   ],
   "source": [
    "melted_reward_competition_df"
   ]
  },
  {
   "cell_type": "code",
   "execution_count": 29,
   "id": "d9b8e6bc",
   "metadata": {},
   "outputs": [
    {
     "ename": "IndexError",
     "evalue": "list index out of range",
     "output_type": "error",
     "traceback": [
      "\u001b[0;31m---------------------------------------------------------------------------\u001b[0m",
      "\u001b[0;31mIndexError\u001b[0m                                Traceback (most recent call last)",
      "Input \u001b[0;32mIn [29]\u001b[0m, in \u001b[0;36m<cell line: 1>\u001b[0;34m()\u001b[0m\n\u001b[0;32m----> 1\u001b[0m melted_reward_competition_df[\u001b[38;5;124m\"\u001b[39m\u001b[38;5;124mloser_id\u001b[39m\u001b[38;5;124m\"\u001b[39m] \u001b[38;5;241m=\u001b[39m \u001b[43mmelted_reward_competition_df\u001b[49m\u001b[38;5;241;43m.\u001b[39;49m\u001b[43mapply\u001b[49m\u001b[43m(\u001b[49m\u001b[38;5;28;43;01mlambda\u001b[39;49;00m\u001b[43m \u001b[49m\u001b[43mx\u001b[49m\u001b[43m:\u001b[49m\u001b[43m \u001b[49m\u001b[43m(\u001b[49m\u001b[38;5;28;43mlist\u001b[39;49m\u001b[43m(\u001b[49m\u001b[43mx\u001b[49m\u001b[43m[\u001b[49m\u001b[38;5;124;43m\"\u001b[39;49m\u001b[38;5;124;43manimal_ids\u001b[39;49m\u001b[38;5;124;43m\"\u001b[39;49m\u001b[43m]\u001b[49m\u001b[43m \u001b[49m\u001b[38;5;241;43m-\u001b[39;49m\u001b[43m \u001b[49m\u001b[38;5;28;43mset\u001b[39;49m\u001b[43m(\u001b[49m\u001b[43mx\u001b[49m\u001b[43m[\u001b[49m\u001b[38;5;124;43m\"\u001b[39;49m\u001b[38;5;124;43mwinner_id\u001b[39;49m\u001b[38;5;124;43m\"\u001b[39;49m\u001b[43m]\u001b[49m\u001b[43m)\u001b[49m\u001b[43m)\u001b[49m\u001b[43m[\u001b[49m\u001b[38;5;241;43m0\u001b[39;49m\u001b[43m]\u001b[49m\u001b[43m)\u001b[49m\u001b[43m,\u001b[49m\u001b[43m \u001b[49m\u001b[43maxis\u001b[49m\u001b[38;5;241;43m=\u001b[39;49m\u001b[38;5;241;43m1\u001b[39;49m\u001b[43m)\u001b[49m\n",
      "File \u001b[0;32m~/projects/behavioral_dataframe_processing/behavioral_processing_env/lib/python3.9/site-packages/pandas/core/frame.py:8845\u001b[0m, in \u001b[0;36mDataFrame.apply\u001b[0;34m(self, func, axis, raw, result_type, args, **kwargs)\u001b[0m\n\u001b[1;32m   8834\u001b[0m \u001b[38;5;28;01mfrom\u001b[39;00m \u001b[38;5;21;01mpandas\u001b[39;00m\u001b[38;5;21;01m.\u001b[39;00m\u001b[38;5;21;01mcore\u001b[39;00m\u001b[38;5;21;01m.\u001b[39;00m\u001b[38;5;21;01mapply\u001b[39;00m \u001b[38;5;28;01mimport\u001b[39;00m frame_apply\n\u001b[1;32m   8836\u001b[0m op \u001b[38;5;241m=\u001b[39m frame_apply(\n\u001b[1;32m   8837\u001b[0m     \u001b[38;5;28mself\u001b[39m,\n\u001b[1;32m   8838\u001b[0m     func\u001b[38;5;241m=\u001b[39mfunc,\n\u001b[0;32m   (...)\u001b[0m\n\u001b[1;32m   8843\u001b[0m     kwargs\u001b[38;5;241m=\u001b[39mkwargs,\n\u001b[1;32m   8844\u001b[0m )\n\u001b[0;32m-> 8845\u001b[0m \u001b[38;5;28;01mreturn\u001b[39;00m \u001b[43mop\u001b[49m\u001b[38;5;241;43m.\u001b[39;49m\u001b[43mapply\u001b[49m\u001b[43m(\u001b[49m\u001b[43m)\u001b[49m\u001b[38;5;241m.\u001b[39m__finalize__(\u001b[38;5;28mself\u001b[39m, method\u001b[38;5;241m=\u001b[39m\u001b[38;5;124m\"\u001b[39m\u001b[38;5;124mapply\u001b[39m\u001b[38;5;124m\"\u001b[39m)\n",
      "File \u001b[0;32m~/projects/behavioral_dataframe_processing/behavioral_processing_env/lib/python3.9/site-packages/pandas/core/apply.py:733\u001b[0m, in \u001b[0;36mFrameApply.apply\u001b[0;34m(self)\u001b[0m\n\u001b[1;32m    730\u001b[0m \u001b[38;5;28;01melif\u001b[39;00m \u001b[38;5;28mself\u001b[39m\u001b[38;5;241m.\u001b[39mraw:\n\u001b[1;32m    731\u001b[0m     \u001b[38;5;28;01mreturn\u001b[39;00m \u001b[38;5;28mself\u001b[39m\u001b[38;5;241m.\u001b[39mapply_raw()\n\u001b[0;32m--> 733\u001b[0m \u001b[38;5;28;01mreturn\u001b[39;00m \u001b[38;5;28;43mself\u001b[39;49m\u001b[38;5;241;43m.\u001b[39;49m\u001b[43mapply_standard\u001b[49m\u001b[43m(\u001b[49m\u001b[43m)\u001b[49m\n",
      "File \u001b[0;32m~/projects/behavioral_dataframe_processing/behavioral_processing_env/lib/python3.9/site-packages/pandas/core/apply.py:857\u001b[0m, in \u001b[0;36mFrameApply.apply_standard\u001b[0;34m(self)\u001b[0m\n\u001b[1;32m    856\u001b[0m \u001b[38;5;28;01mdef\u001b[39;00m \u001b[38;5;21mapply_standard\u001b[39m(\u001b[38;5;28mself\u001b[39m):\n\u001b[0;32m--> 857\u001b[0m     results, res_index \u001b[38;5;241m=\u001b[39m \u001b[38;5;28;43mself\u001b[39;49m\u001b[38;5;241;43m.\u001b[39;49m\u001b[43mapply_series_generator\u001b[49m\u001b[43m(\u001b[49m\u001b[43m)\u001b[49m\n\u001b[1;32m    859\u001b[0m     \u001b[38;5;66;03m# wrap results\u001b[39;00m\n\u001b[1;32m    860\u001b[0m     \u001b[38;5;28;01mreturn\u001b[39;00m \u001b[38;5;28mself\u001b[39m\u001b[38;5;241m.\u001b[39mwrap_results(results, res_index)\n",
      "File \u001b[0;32m~/projects/behavioral_dataframe_processing/behavioral_processing_env/lib/python3.9/site-packages/pandas/core/apply.py:873\u001b[0m, in \u001b[0;36mFrameApply.apply_series_generator\u001b[0;34m(self)\u001b[0m\n\u001b[1;32m    870\u001b[0m \u001b[38;5;28;01mwith\u001b[39;00m option_context(\u001b[38;5;124m\"\u001b[39m\u001b[38;5;124mmode.chained_assignment\u001b[39m\u001b[38;5;124m\"\u001b[39m, \u001b[38;5;28;01mNone\u001b[39;00m):\n\u001b[1;32m    871\u001b[0m     \u001b[38;5;28;01mfor\u001b[39;00m i, v \u001b[38;5;129;01min\u001b[39;00m \u001b[38;5;28menumerate\u001b[39m(series_gen):\n\u001b[1;32m    872\u001b[0m         \u001b[38;5;66;03m# ignore SettingWithCopy here in case the user mutates\u001b[39;00m\n\u001b[0;32m--> 873\u001b[0m         results[i] \u001b[38;5;241m=\u001b[39m \u001b[38;5;28;43mself\u001b[39;49m\u001b[38;5;241;43m.\u001b[39;49m\u001b[43mf\u001b[49m\u001b[43m(\u001b[49m\u001b[43mv\u001b[49m\u001b[43m)\u001b[49m\n\u001b[1;32m    874\u001b[0m         \u001b[38;5;28;01mif\u001b[39;00m \u001b[38;5;28misinstance\u001b[39m(results[i], ABCSeries):\n\u001b[1;32m    875\u001b[0m             \u001b[38;5;66;03m# If we have a view on v, we need to make a copy because\u001b[39;00m\n\u001b[1;32m    876\u001b[0m             \u001b[38;5;66;03m#  series_generator will swap out the underlying data\u001b[39;00m\n\u001b[1;32m    877\u001b[0m             results[i] \u001b[38;5;241m=\u001b[39m results[i]\u001b[38;5;241m.\u001b[39mcopy(deep\u001b[38;5;241m=\u001b[39m\u001b[38;5;28;01mFalse\u001b[39;00m)\n",
      "Input \u001b[0;32mIn [29]\u001b[0m, in \u001b[0;36m<lambda>\u001b[0;34m(x)\u001b[0m\n\u001b[0;32m----> 1\u001b[0m melted_reward_competition_df[\u001b[38;5;124m\"\u001b[39m\u001b[38;5;124mloser_id\u001b[39m\u001b[38;5;124m\"\u001b[39m] \u001b[38;5;241m=\u001b[39m melted_reward_competition_df\u001b[38;5;241m.\u001b[39mapply(\u001b[38;5;28;01mlambda\u001b[39;00m x: (\u001b[38;5;28;43mlist\u001b[39;49m\u001b[43m(\u001b[49m\u001b[43mx\u001b[49m\u001b[43m[\u001b[49m\u001b[38;5;124;43m\"\u001b[39;49m\u001b[38;5;124;43manimal_ids\u001b[39;49m\u001b[38;5;124;43m\"\u001b[39;49m\u001b[43m]\u001b[49m\u001b[43m \u001b[49m\u001b[38;5;241;43m-\u001b[39;49m\u001b[43m \u001b[49m\u001b[38;5;28;43mset\u001b[39;49m\u001b[43m(\u001b[49m\u001b[43mx\u001b[49m\u001b[43m[\u001b[49m\u001b[38;5;124;43m\"\u001b[39;49m\u001b[38;5;124;43mwinner_id\u001b[39;49m\u001b[38;5;124;43m\"\u001b[39;49m\u001b[43m]\u001b[49m\u001b[43m)\u001b[49m\u001b[43m)\u001b[49m\u001b[43m[\u001b[49m\u001b[38;5;241;43m0\u001b[39;49m\u001b[43m]\u001b[49m), axis\u001b[38;5;241m=\u001b[39m\u001b[38;5;241m1\u001b[39m)\n",
      "\u001b[0;31mIndexError\u001b[0m: list index out of range"
     ]
    }
   ],
   "source": [
    "melted_reward_competition_df[\"loser_id\"] = melted_reward_competition_df.apply(lambda x: (list(x[\"animal_ids\"] - set(x[\"winner_id\"]))[0]), axis=1)"
   ]
  },
  {
   "cell_type": "code",
   "execution_count": null,
   "id": "5ed5163e",
   "metadata": {},
   "outputs": [],
   "source": [
    "melted_reward_competition_df.head()"
   ]
  },
  {
   "cell_type": "code",
   "execution_count": 30,
   "id": "646512ba",
   "metadata": {},
   "outputs": [
    {
     "data": {
      "text/plain": [
       "array(['0:37-0:44', '1:31-1:38', '2:31-2:38', '3:24-3:30', '4:14-4:21',\n",
       "       '5:20-5:27', '6:24-6:31', '7:23-7:30', '8:17-8:23', '9:17-9:23',\n",
       "       '10:23-10:29', '11:23-11:30', '12:43-12:50', '13:43-13:50',\n",
       "       '14:40-14:48', '15:39-15:46', '16:43-16:49', '18:02-18:09',\n",
       "       '20:36-20:43', '18', '0:36-0:43', '1:29-1:38', '02:29-02:38',\n",
       "       '3:22-3:29', '4:12-4:19', '5:19-5:26', '6:22-6:30', '7:23-7:29',\n",
       "       '8:15-8:22', '9:15-9:23', '10:22-10:29', '11:22-11:29',\n",
       "       '12:42-12:50', '13:42-13:50', '14:39-14:47', '15:38-15:47',\n",
       "       '16:41-16:49', '18:01-18:08', '18:55-19:01', '13', '1:30-1:36',\n",
       "       '2:29-2:36', '3:22-3:28', '4:12-4:18', '5:18-5:25', '6:22-6:28',\n",
       "       '7:22-7:29', '9:15-9:21', '10:22-10:28', '11:21-11:28',\n",
       "       '12:41-12:47', '13:41-13:48', '14:38-14:44', '15:38-15:44',\n",
       "       '16:40-16:47', '18:00-18:07', '18:56-19:00', '10', '1:30- 1:37',\n",
       "       '4:14-4:20', '10:23-10:30', '12:43-12:49', '14:40-14:46',\n",
       "       '15:39-15:45', '16:42-16:49', '18:56-19:03', '14', '0:47-0:54',\n",
       "       '1:53-2:00', '3:08-3:16', '4:15-4:22', '5:17-5:24', '6:40-6:47',\n",
       "       '7:59-8:06', '9:14-9:21', '10:20-10:27', '11:35-11:42',\n",
       "       '12:52-12:59', '14:07-14:14', '15:46-15:53', '17:01-17:08',\n",
       "       '18:12-18:19', '19:27-19:34', '20:45-20:52', '22:25-22:32',\n",
       "       '23:32-23:39', '0:48-0:55', '1:55-2:02', '3:10-3:17', '4:20-4:27',\n",
       "       '5:23-5:30', '6:47-6:54', '8:07-8:14', '9:22-9:29', '10:30-10:37',\n",
       "       '11:45-11:52', '13:08-13:15', '14:23-14:30', '16:04-16:11',\n",
       "       '17:22-17:29', '18:32-18:41', '19:50-19:57', '21:08-21:16',\n",
       "       '22:48-22:56', '23:57-24:06', '3:07-3:14', '4:13-4:20',\n",
       "       '5:15-5:22', '6:39-6:46', '7:58-8:05', '9:13-9:20', '11:34-11:41',\n",
       "       '12:57-13:06', '14:12-14:19', '15:51-16:00', '17:06-17:13',\n",
       "       '18:17-18:24', '19:33-19:40', '20:51-20:58', '22:31-22:38',\n",
       "       '23:37-23:44', '0:43-0:50', '1:38-1:45', '2:47-2:55', '3:54-4:03',\n",
       "       '4:57-5:05', '6:20-6:28', '7:32-7:39', '8:32-8:39', '9:31-9:40 ',\n",
       "       '10:46-10:55', '12:09-12:18', '12:24-12:32', '15:04-15:13',\n",
       "       '16:19-16:27', '17:26-17:35', '18:41-18:49', '20:00-20:08',\n",
       "       '21:32-21:40', '22:36-22:44', '0:47-0:55', '1:54-2:02',\n",
       "       '3:09-3:17', '4:15-4:24', '5:18-5:26', '6:41-6:49', '8:00-8:08',\n",
       "       '9:14-9:22', '10:21-10:29', '11:36-11:44', '12:58-13:07',\n",
       "       '14:13-14:22', '15:53-16:01', '17:08-17:16', '18:19-18:27',\n",
       "       '19:33-19:42', '20:52-21:01', '22:32-22:41', '19', '0:39-0:49',\n",
       "       '1:31-1:41', '2:32-2:42', '3:26-3:34', '4:16-4:22', '5:22-5:29',\n",
       "       '6:26-6:32', '7:25-7:31', '8:18-8:26', '9:19-9:24', '10:25-10:31',\n",
       "       '11:26-11:32', '12:45-12:51', '13:45-13:51', '14:41-14:49',\n",
       "       '15:40-15:48', '16:45-16:51', '18:05-18:11', '18:58-19:04'],\n",
       "      dtype=object)"
      ]
     },
     "execution_count": 30,
     "metadata": {},
     "output_type": "execute_result"
    }
   ],
   "source": [
    "melted_reward_competition_df[\"winner_id\"].unique()"
   ]
  },
  {
   "cell_type": "code",
   "execution_count": null,
   "id": "f5c4506f",
   "metadata": {},
   "outputs": [],
   "source": [
    "melted_reward_competition_df[\"loser_id\"].unique()"
   ]
  },
  {
   "cell_type": "code",
   "execution_count": null,
   "id": "d9710db3",
   "metadata": {},
   "outputs": [],
   "source": [
    "melted_reward_competition_df.head(n=25)"
   ]
  },
  {
   "cell_type": "code",
   "execution_count": null,
   "id": "778c54c3",
   "metadata": {},
   "outputs": [],
   "source": [
    "raise ValueError(\"Stop!\")"
   ]
  },
  {
   "cell_type": "markdown",
   "id": "62588bba",
   "metadata": {},
   "source": [
    "## Adding the session number"
   ]
  },
  {
   "cell_type": "markdown",
   "id": "add84e35",
   "metadata": {},
   "source": [
    "- Each new session has the date as a row, so we will get the index of all the rows with dates"
   ]
  },
  {
   "cell_type": "code",
   "execution_count": null,
   "id": "9ab2f148",
   "metadata": {},
   "outputs": [],
   "source": [
    "reward_competition_df.dropna(axis=0, subset=\"Date\")"
   ]
  },
  {
   "cell_type": "markdown",
   "id": "86971800",
   "metadata": {},
   "source": [
    "- Getting the indexes of where each new session starts"
   ]
  },
  {
   "cell_type": "code",
   "execution_count": null,
   "id": "449189cd",
   "metadata": {},
   "outputs": [],
   "source": [
    "reward_competition_df.dropna(axis=0, subset=\"Date\").index"
   ]
  },
  {
   "cell_type": "code",
   "execution_count": null,
   "id": "69a1b44c",
   "metadata": {},
   "outputs": [],
   "source": [
    "session_indexes = reward_competition_df.dropna(axis=0, subset=\"Date\").index"
   ]
  },
  {
   "cell_type": "markdown",
   "id": "d8ae3167",
   "metadata": {},
   "source": [
    "- Adding a column for the session number and then filling all the `NaNs`"
   ]
  },
  {
   "cell_type": "code",
   "execution_count": null,
   "id": "e243acb6",
   "metadata": {},
   "outputs": [],
   "source": [
    "reward_competition_df = eloscore.add_session_number_column(reward_competition_df, session_indexes)\n",
    "reward_competition_df = reward_competition_df.fillna(method='ffill')"
   ]
  },
  {
   "cell_type": "markdown",
   "id": "c35e48b5",
   "metadata": {},
   "source": [
    "- Making another column for plotting"
   ]
  },
  {
   "cell_type": "code",
   "execution_count": null,
   "id": "2bd524c4",
   "metadata": {},
   "outputs": [],
   "source": [
    "reward_competition_df = eloscore.add_session_number_column(reward_competition_df, session_indexes, session_number_column=\"session_number_plotting\")"
   ]
  },
  {
   "cell_type": "code",
   "execution_count": null,
   "id": "9600985c",
   "metadata": {},
   "outputs": [],
   "source": [
    "reward_competition_df.head()"
   ]
  },
  {
   "cell_type": "markdown",
   "id": "cf5ec39f",
   "metadata": {},
   "source": [
    "## Calculating ELO Score"
   ]
  },
  {
   "cell_type": "markdown",
   "id": "5b2390aa",
   "metadata": {},
   "source": [
    "- Example calculation"
   ]
  },
  {
   "cell_type": "code",
   "execution_count": null,
   "id": "e334d47f",
   "metadata": {},
   "outputs": [],
   "source": [
    "eloscore.calculate_elo_score(subject_elo_score=1000, agent_elo_score=2000)"
   ]
  },
  {
   "cell_type": "markdown",
   "id": "3412a5c0",
   "metadata": {},
   "source": [
    "## Get the Elo score for all the events"
   ]
  },
  {
   "cell_type": "code",
   "execution_count": null,
   "id": "4ae10ebe",
   "metadata": {
    "scrolled": true
   },
   "outputs": [],
   "source": [
    "reward_competition_df.head()"
   ]
  },
  {
   "cell_type": "code",
   "execution_count": null,
   "id": "5130bfce",
   "metadata": {},
   "outputs": [],
   "source": [
    "eloscore.update_elo_score(winner_id=\"A\", loser_id=\"B\")"
   ]
  },
  {
   "cell_type": "markdown",
   "id": "bfa74955",
   "metadata": {},
   "source": [
    "- Function that creates a dictionary that has the original/updated elo score for each event"
   ]
  },
  {
   "cell_type": "code",
   "execution_count": null,
   "id": "41bbc15e",
   "metadata": {},
   "outputs": [],
   "source": [
    "index_to_elo_score_and_meta_data = eloscore.iterate_elo_score_calculation_for_data_frame(data_frame=reward_competition_df, winner_column=\"winner\", loser_column=\"loser\", additional_columns=[\"Date\", \"session_number\", \"session_number_plotting\"])"
   ]
  },
  {
   "cell_type": "code",
   "execution_count": null,
   "id": "26069f8f",
   "metadata": {},
   "outputs": [],
   "source": [
    "index_to_elo_score_and_meta_data[0]"
   ]
  },
  {
   "cell_type": "markdown",
   "id": "badfdb05",
   "metadata": {},
   "source": [
    "- Turning the dictionary into a dataframe"
   ]
  },
  {
   "cell_type": "code",
   "execution_count": null,
   "id": "eaad3b8b",
   "metadata": {},
   "outputs": [],
   "source": [
    "reward_competition_elo_score_df = pd.DataFrame.from_dict(index_to_elo_score_and_meta_data, orient=\"index\")"
   ]
  },
  {
   "cell_type": "code",
   "execution_count": null,
   "id": "cfba525f",
   "metadata": {
    "scrolled": true
   },
   "outputs": [],
   "source": [
    "reward_competition_elo_score_df.head()"
   ]
  },
  {
   "cell_type": "code",
   "execution_count": null,
   "id": "04bb8bad",
   "metadata": {
    "scrolled": true
   },
   "outputs": [],
   "source": [
    "reward_competition_elo_score_df.tail()"
   ]
  },
  {
   "cell_type": "code",
   "execution_count": null,
   "id": "4f5c4b24",
   "metadata": {},
   "outputs": [],
   "source": [
    "reward_competition_elo_score_df.groupby(\"subject_id\").count()"
   ]
  },
  {
   "cell_type": "code",
   "execution_count": null,
   "id": "58f124e4",
   "metadata": {},
   "outputs": [],
   "source": [
    "reward_competition_elo_score_df.groupby(\"session_number\").count()"
   ]
  },
  {
   "cell_type": "markdown",
   "id": "16542145",
   "metadata": {},
   "source": [
    "# Plotting the Elo Score by match number"
   ]
  },
  {
   "cell_type": "code",
   "execution_count": null,
   "id": "692f8641",
   "metadata": {},
   "outputs": [],
   "source": [
    "# Increase size of plot in jupyter\n",
    "\n",
    "plt.rcParams[\"figure.figsize\"] = (18,10)"
   ]
  },
  {
   "cell_type": "code",
   "execution_count": null,
   "id": "9b5ab11f",
   "metadata": {
    "scrolled": true
   },
   "outputs": [],
   "source": [
    "fig, ax = plt.subplots()\n",
    "\n",
    "# Drawing vertical lines that represent when each session begins\n",
    "for index, row in reward_competition_elo_score_df.dropna(subset=[\"session_number_plotting\"]).iterrows():\n",
    "    # Offsetting by 0.5 to avoid drawing the line on the dot\n",
    "    plt.vlines(x=[row[\"total_match_number\"] - 0.5], ymin=700, ymax=1300, colors='black', linestyle='dashed')\n",
    "\n",
    "# Drawing a line for each subject\n",
    "for subject in sorted(reward_competition_elo_score_df[\"subject_id\"].unique()):\n",
    "    # Getting all the rows with the current subject\n",
    "    subject_df = reward_competition_elo_score_df[reward_competition_elo_score_df[\"subject_id\"] == subject]\n",
    "    # Making the dates into days after the first session by subtracting all the dates by the first date\n",
    "    plt.plot(subject_df[\"total_match_number\"], subject_df[\"updated_elo_score\"], '-o', label=subject)\n",
    "\n",
    "# Labeling the X/Y Axis and the title\n",
    "ax.set_xlabel(\"Trial Number\")\n",
    "ax.set_ylabel(\"Elo Score\")\n",
    "# ax.set_title(\"Elo Score for Home Cage Observation: Cage {}\".format(cage))\n",
    "# To show the legend\n",
    "ax.legend()\n",
    "plt.xticks(rotation=90)\n",
    "plt.ylim(700, 1300) \n",
    "plt.show()\n",
    "\n"
   ]
  },
  {
   "cell_type": "markdown",
   "id": "ade8dacd",
   "metadata": {},
   "source": [
    "# Calculate the Elo Score for all sheets"
   ]
  },
  {
   "cell_type": "code",
   "execution_count": null,
   "id": "f7717f26",
   "metadata": {},
   "outputs": [],
   "source": [
    "xls = pd.ExcelFile(\"./data/Reward_Competition_Scoring_MasterList.xlsx\")\n",
    "sheets = xls.sheet_names"
   ]
  },
  {
   "cell_type": "code",
   "execution_count": null,
   "id": "9337b3df",
   "metadata": {},
   "outputs": [],
   "source": [
    "sheets"
   ]
  },
  {
   "cell_type": "code",
   "execution_count": null,
   "id": "b0a2bde4",
   "metadata": {},
   "outputs": [],
   "source": [
    "sheet_to_data_frame = defaultdict(dict)\n",
    "for sheet in sheets[1:]:\n",
    "    sheet_to_data_frame[sheet][\"recording_data_frame\"] = pd.read_excel(\"./data/Reward_Competition_Scoring_MasterList.xlsx\", sheet_name=sheet, header=1).copy()\n",
    "    # Adding the session numbers as a column\n",
    "    session_indexes = sheet_to_data_frame[sheet][\"recording_data_frame\"].dropna(axis=0, subset=\"Date\").index\n",
    "    sheet_to_data_frame[sheet][\"recording_data_frame\"] = eloscore.add_session_number_column(sheet_to_data_frame[sheet][\"recording_data_frame\"], session_indexes)\n",
    "    sheet_to_data_frame[sheet][\"recording_data_frame\"] = sheet_to_data_frame[sheet][\"recording_data_frame\"].fillna(method='ffill')\n",
    "    sheet_to_data_frame[sheet][\"recording_data_frame\"] = eloscore.add_session_number_column(sheet_to_data_frame[sheet][\"recording_data_frame\"], session_indexes, session_number_column=\"session_number_plotting\")\n",
    "\n",
    "    # Splitting all the rows with commas in the ID\n",
    "    sheet_to_data_frame[sheet][\"recording_data_frame\"][\"winner\"] = sheet_to_data_frame[sheet][\"recording_data_frame\"][\"winner\"].astype(str)\n",
    "    sheet_to_data_frame[sheet][\"recording_data_frame\"][\"loser\"] = sheet_to_data_frame[sheet][\"recording_data_frame\"][\"loser\"].astype(str)\n",
    "    \n",
    "    sheet_to_data_frame[sheet][\"recording_data_frame\"][\"winner\"] = sheet_to_data_frame[sheet][\"recording_data_frame\"][\"winner\"].str.split(\",\")\n",
    "    sheet_to_data_frame[sheet][\"recording_data_frame\"] = sheet_to_data_frame[sheet][\"recording_data_frame\"].explode(\"winner\").reset_index(drop=True)\n",
    "    sheet_to_data_frame[sheet][\"recording_data_frame\"][\"loser\"] = sheet_to_data_frame[sheet][\"recording_data_frame\"][\"loser\"].str.split(\",\")\n",
    "    sheet_to_data_frame[sheet][\"recording_data_frame\"] = sheet_to_data_frame[sheet][\"recording_data_frame\"].explode(\"loser\").reset_index(drop=True)\n",
    "\n",
    "    sheet_to_data_frame[sheet][\"recording_data_frame\"][\"winner\"] = sheet_to_data_frame[sheet][\"recording_data_frame\"][\"winner\"].astype(float).astype(int).astype(str)\n",
    "    sheet_to_data_frame[sheet][\"recording_data_frame\"][\"loser\"] = sheet_to_data_frame[sheet][\"recording_data_frame\"][\"loser\"].astype(float).astype(int).astype(str)\n",
    "    \n",
    "    # Calculating the Elo Score    \n",
    "    index_to_elo_score_and_meta_data = eloscore.iterate_elo_score_calculation_for_data_frame(data_frame=sheet_to_data_frame[sheet][\"recording_data_frame\"], \\\n",
    "                                                                                                               winner_column=\"winner\", loser_column=\"loser\", additional_columns=[\"Date\", \"session_number\", \"session_number_plotting\"])\n",
    "    sheet_to_data_frame[sheet][\"elo_score_data_frame\"] = pd.DataFrame.from_dict(index_to_elo_score_and_meta_data, orient=\"index\")"
   ]
  },
  {
   "cell_type": "markdown",
   "id": "f01d1d60",
   "metadata": {},
   "source": [
    "# Making plots for all sheets"
   ]
  },
  {
   "cell_type": "markdown",
   "id": "1c4336ac",
   "metadata": {},
   "source": [
    "- Getting the dates the files were being recorded to use for the file name"
   ]
  },
  {
   "cell_type": "code",
   "execution_count": null,
   "id": "8150792d",
   "metadata": {},
   "outputs": [],
   "source": [
    "sheets[1]"
   ]
  },
  {
   "cell_type": "code",
   "execution_count": null,
   "id": "525f8dac",
   "metadata": {},
   "outputs": [],
   "source": [
    "earliest_date = str(sheet_to_data_frame[sheets[1]][\"recording_data_frame\"][\"Date\"].min()).split()[0]"
   ]
  },
  {
   "cell_type": "code",
   "execution_count": null,
   "id": "5f35af3e",
   "metadata": {},
   "outputs": [],
   "source": [
    "latest_date = str(sheet_to_data_frame[sheets[1]][\"recording_data_frame\"][\"Date\"].max()).split()[0]"
   ]
  },
  {
   "cell_type": "code",
   "execution_count": null,
   "id": "77213ea7",
   "metadata": {},
   "outputs": [],
   "source": [
    "earliest_date"
   ]
  },
  {
   "cell_type": "code",
   "execution_count": null,
   "id": "cb11f32d",
   "metadata": {},
   "outputs": [],
   "source": [
    "latest_date"
   ]
  },
  {
   "cell_type": "markdown",
   "id": "e9c8fe03",
   "metadata": {},
   "source": [
    "- Getting the cage numbers"
   ]
  },
  {
   "cell_type": "code",
   "execution_count": null,
   "id": "62083a86",
   "metadata": {},
   "outputs": [],
   "source": [
    "all_cages = \"_\".join(sorted([sheet.lower().strip(\"cage\").strip() for sheet in sheets[1:]]))"
   ]
  },
  {
   "cell_type": "code",
   "execution_count": null,
   "id": "f09e2073",
   "metadata": {},
   "outputs": [],
   "source": [
    "all_cages"
   ]
  },
  {
   "cell_type": "code",
   "execution_count": null,
   "id": "1131e779",
   "metadata": {},
   "outputs": [],
   "source": [
    "output_directory = \"./proc/plots/reward_competition_elo_score/cage_{}_date_{}_{}\".format(all_cages, earliest_date, latest_date)"
   ]
  },
  {
   "cell_type": "code",
   "execution_count": null,
   "id": "00a6c81a",
   "metadata": {},
   "outputs": [],
   "source": [
    "output_directory"
   ]
  },
  {
   "cell_type": "code",
   "execution_count": null,
   "id": "10a34522",
   "metadata": {},
   "outputs": [],
   "source": [
    "os.makedirs(output_directory, exist_ok=True)"
   ]
  },
  {
   "cell_type": "code",
   "execution_count": null,
   "id": "5237e03f",
   "metadata": {},
   "outputs": [],
   "source": [
    "for key, value in sheet_to_data_frame.items():\n",
    "    plt.rcParams[\"figure.figsize\"] = (13.5,7.5)\n",
    "    print(key)\n",
    "    elo_score_data_frame = value[\"elo_score_data_frame\"]\n",
    "    fig, ax = plt.subplots()\n",
    "\n",
    "    # Drawing vertical lines that represent when each session begins\n",
    "    for index, row in elo_score_data_frame.dropna(subset=[\"session_number_plotting\"]).iterrows():\n",
    "        # Offsetting by 0.5 to avoid drawing the line on the dot\n",
    "        plt.vlines(x=[row[\"total_match_number\"] - 0.5], ymin=600, ymax=1400, colors='black', linestyle='dashed')\n",
    "\n",
    "    # Drawing a line for each subject\n",
    "    for subject in sorted(elo_score_data_frame[\"subject_id\"].astype(str).unique()):\n",
    "        # Getting all the rows with the current subject\n",
    "        subject_df = elo_score_data_frame[elo_score_data_frame[\"subject_id\"] == subject]\n",
    "        # Making the dates into days after the first session by subtracting all the dates by the first date\n",
    "        plt.plot(subject_df[\"total_match_number\"], subject_df[\"updated_elo_score\"], '-o', label=subject)\n",
    "\n",
    "    # Labeling the X/Y Axis and the title\n",
    "    ax.set_xlabel(\"Trial Number\")\n",
    "    ax.set_ylabel(\"Elo Score\")\n",
    "    ax.set_title(\"Elo Score for Home Cage Observation: {}\".format(key))\n",
    "    # To show the legend\n",
    "    ax.legend()\n",
    "    plt.xticks(rotation=90)\n",
    "    plt.ylim(600, 1400) \n",
    "    \n",
    "    \n",
    "    file_name = \"reward_competition_elo_score_{}_date_{}_{}.png\".format(key, earliest_date, latest_date)\n",
    "    plt.savefig(os.path.join(output_directory, file_name))\n",
    "    \n",
    "    plt.show()"
   ]
  },
  {
   "cell_type": "code",
   "execution_count": null,
   "id": "7f2b6183",
   "metadata": {},
   "outputs": [],
   "source": []
  }
 ],
 "metadata": {
  "kernelspec": {
   "display_name": "Python 3 (ipykernel)",
   "language": "python",
   "name": "python3"
  },
  "language_info": {
   "codemirror_mode": {
    "name": "ipython",
    "version": 3
   },
   "file_extension": ".py",
   "mimetype": "text/x-python",
   "name": "python",
   "nbconvert_exporter": "python",
   "pygments_lexer": "ipython3",
   "version": "3.9.12"
  },
  "vscode": {
   "interpreter": {
    "hash": "1eab39844f49fe378870e01884132b9a01e61bfdb7013dba0b232b1cf67de0bc"
   }
  }
 },
 "nbformat": 4,
 "nbformat_minor": 5
}
